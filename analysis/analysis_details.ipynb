{
 "cells": [
  {
   "cell_type": "code",
   "execution_count": 1,
   "metadata": {},
   "outputs": [],
   "source": [
    "from __future__ import print_function\n",
    "import pandas as pd\n",
    "import numpy as np\n",
    "import os, sys, re, pickle, wget, math\n",
    "from intermine.webservice import Service\n",
    "from IPython.display import Markdown, display\n",
    "import matplotlib.pyplot as plt\n",
    "import scipy.stats as stats\n",
    "\n",
    "# Load data direct from source\n",
    "class A(object):\n",
    "    data = {}\n",
    "    url = {}\n",
    "    url['expression'] = 'https://ndownloader.figshare.com/files/16757690'\n",
    "    url['sample_info'] = 'https://ndownloader.figshare.com/files/16757723'\n",
    "    url['copy_number'] = 'https://ndownloader.figshare.com/files/17857886'\n",
    "    url['mutations'] = 'https://ndownloader.figshare.com/files/16757702'\n",
    "    url['achilles_crispr'] = 'https://ndownloader.figshare.com/files/16757666'\n",
    "    url['d2_rnai'] = 'https://ndownloader.figshare.com/files/13515395'\n",
    "    url['sensitivity'] = 'https://ndownloader.figshare.com/files/17008628'\n",
    "    url['mfr'] = 'http://bmbl.sdstate.edu/MFR/data/resource%20data/tr_dv_ts.dataset.zip'\n",
    "    url['reactome'] = 'https://reactome.org/download/current/NCBI2Reactome.txt'\n",
    "    summary = '../index.md'\n",
    "    \n",
    "# Wipe the slate clean on the analysis summary\n",
    "os.system(\"echo '' > \"+A.summary)\n",
    "    \n",
    "def printmd(string):\n",
    "    \"\"\"Prints formatted markdown text\"\"\"\n",
    "    display(Markdown(string))\n",
    "    \n",
    "def report(text,silent=False):\n",
    "    \"\"\"Print markdown in this notebook and saves markdown-only summary in a file\"\"\"\n",
    "    if not silent:\n",
    "        printmd(text)\n",
    "    \n",
    "    f = open(A.summary,'a')\n",
    "    f.write(text+'\\n')\n",
    "    \n",
    "def get_gene_descriptions():\n",
    "    \"\"\"Load gene names and descriptions from humanmine (http://www.humanmine.org),\n",
    "    an integrated database of human genome information.  Use cached data if available\"\"\"\n",
    "    \n",
    "    archive = 'data/gene_info.p'\n",
    "    if os.path.exists(archive):\n",
    "        df = pd.read_pickle(archive)\n",
    "        return df\n",
    "    \n",
    "    service = Service(\"https://www.humanmine.org/humanmine/service\")\n",
    "    query = service.new_query(\"Gene\")\n",
    "    cols = [\"primaryIdentifier\", \"symbol\", \"briefDescription\", \"description\",\"proteins.uniprotAccession\"]\n",
    "    query.add_view(*cols)\n",
    "    query.add_constraint(\"organism.taxonId\", \"=\", \"9606\", code = \"A\")    \n",
    "    df_rows = []\n",
    "\n",
    "    for row in query.rows():\n",
    "        df_rows.append(\n",
    "            [row[\"primaryIdentifier\"], \n",
    "             row[\"symbol\"], \n",
    "             row[\"briefDescription\"], \n",
    "             row[\"description\"],\n",
    "             row[\"proteins.uniprotAccession\"]\n",
    "            ])\n",
    "\n",
    "    df = pd.DataFrame(data=df_rows,columns=cols)\n",
    "    df.to_pickle(archive)\n",
    "    return df\n",
    "    \n",
    "def get_data(key):\n",
    "    \"\"\"Load input data.\n",
    "    Arguments: key for the data source (eg: expression, sample_info...)\n",
    "    1) If the data is cached on the filesystem, load and return the dataframe\n",
    "    2) Otherwise, load the data from the source URL, cache, return the dataframe\n",
    "    \"\"\"\n",
    "    \n",
    "    data_cache = 'data/'+key+'.p'\n",
    "    if os.path.exists(data_cache):\n",
    "        df = pd.read_pickle(data_cache)\n",
    "    else:\n",
    "        print(\"Downloading\",key,\"from source\")\n",
    "        df = pd.read_csv(A.url[key],low_memory=False,index_col=0)\n",
    "        df.to_pickle(data_cache)\n",
    "        \n",
    "    A.data[key] = df    \n",
    "    return df\n",
    "\n",
    "def ncbi_gene_ids(genes):\n",
    "    \"\"\"Converts gene name \"symbol (ncbi_id)\"\n",
    "    to integer NCBI ID.  Also catch missing associations\n",
    "    for NCBI gene ID/symbol\n",
    "    \"\"\"\n",
    "    ncbi_cols = []\n",
    "    for g in genes:\n",
    "        match = re.search('(\\S+)\\s+\\((\\d+)\\)',g)\n",
    "        if match:\n",
    "            s = match.group(1)\n",
    "            g = match.group(2)\n",
    "            if not ncbi2symbol.get(int(g)):\n",
    "                ncbi2symbol[int(g)] = s\n",
    "                symbol2ncbi[s] = int(g)\n",
    "        else:\n",
    "            print(\"No match\",g)\n",
    "        ncbi_cols.append(int(g))\n",
    "        \n",
    "\n",
    "    return ncbi_cols\n",
    "\n",
    "def get_pathway_info():\n",
    "    # Map NCBI IDs to reactome pathways\n",
    "    # File downloaded from https://reactome.org/download/current/NCBI2Reactome.txt\n",
    "    archive = 'data/pathway_info.p'\n",
    "    \n",
    "    if os.path.exists(archive):\n",
    "        pathway_info = pickle.load(open(archive,'rb'))\n",
    "        return pathway_info\n",
    "    \n",
    "    pathway_info = {}\n",
    "    if not os.path.exists('data/NCBI2Reactome.txt'):\n",
    "        wget.download(A.url['reactome'],out='data/NCBI2Reactome.txt')\n",
    "    with open('data/NCBI2Reactome.txt') as n2r:\n",
    "        for line in n2r.readlines():\n",
    "            ncbi, pathway_id, url, pathway_name, type, species = line.strip().split('\\t')\n",
    "            # only human pathways\n",
    "            if species != 'Homo sapiens':\n",
    "                continue\n",
    "            # only curated pathways\n",
    "            if type == 'IEA':\n",
    "                continue\n",
    "            pathway_info[ncbi] = [pathway_id, url, pathway_name]\n",
    "\n",
    "    pickle.dump(pathway_info,open(archive,'wb'))\n",
    "    return pathway_info\n"
   ]
  },
  {
   "cell_type": "code",
   "execution_count": 2,
   "metadata": {},
   "outputs": [
    {
     "data": {
      "text/markdown": [
       "\n",
       "# Sample analysis of Cancer Dependency Map (DepMap) data \n",
       "## Request\n",
       "* Identify the most frequent genetic alterations (could be mutations or copy number variations) in the cancer cell lines\n",
       "* Match them with the best genetic dependencies that could be used for drug development for the cancers that carry those mutations\n",
       "* Take into account the lineage of cancer cell lines (certain mutations/CNVs may be restricted to a specific lineage)\n",
       "\n",
       "## Resources\n",
       "### DepMap (https://depmap.org/portal) Data \n",
       "* Cell line metadata\n",
       "* Expression (RNASeq)\n",
       "* Copy number variation\n",
       "* Mutations\n",
       "* Genetic dependency\n",
       "  * Crispr (Achilles)\n",
       "  * RNAi (DEMETER2)\n",
       "  \n",
       "<b>Citations:</b> \n",
       "* Jordan G. Bryan, John M. Krill-Burger, Thomas M. Green, Francisca Vazquez, Jesse S. Boehm, Todd R. Golub, William C. Hahn, David E. Root, Aviad Tsherniak. (2018). Improved estimation of cancer dependencies from large-scale RNAi screens using model-based normalization and data integration. Nature Communications 9, 1. https://doi.org/10.1038/s41467-018-06916-5</font>\n",
       "* DepMap, Broad (2019): DepMap 19Q3 Public. figshare. Dataset doi:10.6084/m9.figshare.9201770.v1.\n",
       "* Robin M. Meyers, Jordan G. Bryan, James M. McFarland, Barbara A. Weir, ... David E. Root, William C. Hahn, Aviad Tsherniak. Computational correction of copy number effect improves specificity of CRISPR-Cas9 essentiality screens in cancer cells. Nature Genetics 2017 October 49:1779–1784. doi:10.1038/ng.3984\n",
       "\n",
       "\n",
       "### NCBI (via https://humanmine.org)\n",
       "* Entrez gene IDs mapped to symbol, name, descrion, uniprot\n",
       "\n",
       "### Reactome\n",
       "* Entrez gene IDs mapped to Reactome pathways\n",
       "\n",
       "### MFR (http://bmbl.sdstate.edu/MFR)\n",
       "* A Machine Learning Model for measuring relatedness between a pair of genes\n",
       "* Not currently used in analysis\n",
       "\n",
       "### Jupyter (https://jupyter.org/)\n",
       "* Python programming framework for analysis prototyping and reporting\n",
       "\n",
       "### GitHub (https://github.com/)\n",
       "* Revision control for Python code\n",
       "* Reporting mechanism for analysi summary and details\n"
      ],
      "text/plain": [
       "<IPython.core.display.Markdown object>"
      ]
     },
     "metadata": {},
     "output_type": "display_data"
    }
   ],
   "source": [
    "report('''\n",
    "# Sample analysis of Cancer Dependency Map (DepMap) data \n",
    "## Request\n",
    "* Identify the most frequent genetic alterations (could be mutations or copy number variations) in the cancer cell lines\n",
    "* Match them with the best genetic dependencies that could be used for drug development for the cancers that carry those mutations\n",
    "* Take into account the lineage of cancer cell lines (certain mutations/CNVs may be restricted to a specific lineage)\n",
    "\n",
    "## Resources\n",
    "### DepMap (https://depmap.org/portal) Data \n",
    "* Cell line metadata\n",
    "* Expression (RNASeq)\n",
    "* Copy number variation\n",
    "* Mutations\n",
    "* Genetic dependency\n",
    "  * Crispr (Achilles)\n",
    "  * RNAi (DEMETER2)\n",
    "  \n",
    "<b>Citations:</b> \n",
    "* Jordan G. Bryan, John M. Krill-Burger, Thomas M. Green, Francisca Vazquez, Jesse S. Boehm, Todd R. Golub, William C. Hahn, David E. Root, Aviad Tsherniak. (2018). Improved estimation of cancer dependencies from large-scale RNAi screens using model-based normalization and data integration. Nature Communications 9, 1. https://doi.org/10.1038/s41467-018-06916-5</font>\n",
    "* DepMap, Broad (2019): DepMap 19Q3 Public. figshare. Dataset doi:10.6084/m9.figshare.9201770.v1.\n",
    "* Robin M. Meyers, Jordan G. Bryan, James M. McFarland, Barbara A. Weir, ... David E. Root, William C. Hahn, Aviad Tsherniak. Computational correction of copy number effect improves specificity of CRISPR-Cas9 essentiality screens in cancer cells. Nature Genetics 2017 October 49:1779–1784. doi:10.1038/ng.3984\n",
    "\n",
    "\n",
    "### NCBI (via https://humanmine.org)\n",
    "* Entrez gene IDs mapped to symbol, name, descrion, uniprot\n",
    "\n",
    "### Reactome\n",
    "* Entrez gene IDs mapped to Reactome pathways\n",
    "\n",
    "### MFR (http://bmbl.sdstate.edu/MFR)\n",
    "* A Machine Learning Model for measuring relatedness between a pair of genes\n",
    "* Not currently used in analysis\n",
    "\n",
    "### Jupyter (https://jupyter.org/)\n",
    "* Python programming framework for analysis prototyping and reporting\n",
    "\n",
    "### GitHub (https://github.com/)\n",
    "* Revision control for Python code\n",
    "* Reporting mechanism for analysi summary and details\n",
    "''')"
   ]
  },
  {
   "cell_type": "code",
   "execution_count": 3,
   "metadata": {},
   "outputs": [
    {
     "data": {
      "text/markdown": [
       "\n",
       "## Get gene descriptions, etc.\n",
       "Use data from humanmine (http://www.humanmine.org/) to map NCBI gene IDs to name, summary, symbol, uniprot\n"
      ],
      "text/plain": [
       "<IPython.core.display.Markdown object>"
      ]
     },
     "metadata": {},
     "output_type": "display_data"
    }
   ],
   "source": [
    "printmd('''\n",
    "## Get gene descriptions, etc.\n",
    "Use data from humanmine (http://www.humanmine.org/) to map NCBI gene IDs to name, summary, symbol, uniprot\n",
    "''')"
   ]
  },
  {
   "cell_type": "code",
   "execution_count": 4,
   "metadata": {},
   "outputs": [
    {
     "data": {
      "text/markdown": [
       "sample gene info:"
      ],
      "text/plain": [
       "<IPython.core.display.Markdown object>"
      ]
     },
     "metadata": {},
     "output_type": "display_data"
    },
    {
     "data": {
      "text/html": [
       "<div>\n",
       "<style scoped>\n",
       "    .dataframe tbody tr th:only-of-type {\n",
       "        vertical-align: middle;\n",
       "    }\n",
       "\n",
       "    .dataframe tbody tr th {\n",
       "        vertical-align: top;\n",
       "    }\n",
       "\n",
       "    .dataframe thead th {\n",
       "        text-align: right;\n",
       "    }\n",
       "</style>\n",
       "<table border=\"1\" class=\"dataframe\">\n",
       "  <thead>\n",
       "    <tr style=\"text-align: right;\">\n",
       "      <th></th>\n",
       "      <th>primaryIdentifier</th>\n",
       "      <th>symbol</th>\n",
       "      <th>briefDescription</th>\n",
       "      <th>description</th>\n",
       "      <th>proteins.uniprotAccession</th>\n",
       "    </tr>\n",
       "  </thead>\n",
       "  <tbody>\n",
       "    <tr>\n",
       "      <td>0</td>\n",
       "      <td>2632</td>\n",
       "      <td>GBE1</td>\n",
       "      <td>1,4-alpha-glucan branching enzyme 1</td>\n",
       "      <td>The protein encoded by this gene is a glycogen...</td>\n",
       "      <td>Q04446</td>\n",
       "    </tr>\n",
       "    <tr>\n",
       "      <td>1</td>\n",
       "      <td>3248</td>\n",
       "      <td>HPGD</td>\n",
       "      <td>15-hydroxyprostaglandin dehydrogenase</td>\n",
       "      <td>This gene encodes a member of the short-chain ...</td>\n",
       "      <td>E9PBZ2</td>\n",
       "    </tr>\n",
       "    <tr>\n",
       "      <td>2</td>\n",
       "      <td>3248</td>\n",
       "      <td>HPGD</td>\n",
       "      <td>15-hydroxyprostaglandin dehydrogenase</td>\n",
       "      <td>This gene encodes a member of the short-chain ...</td>\n",
       "      <td>P15428</td>\n",
       "    </tr>\n",
       "    <tr>\n",
       "      <td>3</td>\n",
       "      <td>3248</td>\n",
       "      <td>HPGD</td>\n",
       "      <td>15-hydroxyprostaglandin dehydrogenase</td>\n",
       "      <td>This gene encodes a member of the short-chain ...</td>\n",
       "      <td>P15428</td>\n",
       "    </tr>\n",
       "    <tr>\n",
       "      <td>4</td>\n",
       "      <td>3248</td>\n",
       "      <td>HPGD</td>\n",
       "      <td>15-hydroxyprostaglandin dehydrogenase</td>\n",
       "      <td>This gene encodes a member of the short-chain ...</td>\n",
       "      <td>P15428</td>\n",
       "    </tr>\n",
       "  </tbody>\n",
       "</table>\n",
       "</div>"
      ],
      "text/plain": [
       "  primaryIdentifier symbol                       briefDescription  \\\n",
       "0              2632   GBE1    1,4-alpha-glucan branching enzyme 1   \n",
       "1              3248   HPGD  15-hydroxyprostaglandin dehydrogenase   \n",
       "2              3248   HPGD  15-hydroxyprostaglandin dehydrogenase   \n",
       "3              3248   HPGD  15-hydroxyprostaglandin dehydrogenase   \n",
       "4              3248   HPGD  15-hydroxyprostaglandin dehydrogenase   \n",
       "\n",
       "                                         description proteins.uniprotAccession  \n",
       "0  The protein encoded by this gene is a glycogen...                    Q04446  \n",
       "1  This gene encodes a member of the short-chain ...                    E9PBZ2  \n",
       "2  This gene encodes a member of the short-chain ...                    P15428  \n",
       "3  This gene encodes a member of the short-chain ...                    P15428  \n",
       "4  This gene encodes a member of the short-chain ...                    P15428  "
      ]
     },
     "metadata": {},
     "output_type": "display_data"
    },
    {
     "name": "stdout",
     "output_type": "stream",
     "text": [
      "Done mapping gene info\n"
     ]
    }
   ],
   "source": [
    "gd = get_gene_descriptions()\n",
    "printmd('sample gene info:')\n",
    "display(gd.head())\n",
    "ncbi2name    = {}\n",
    "ncbi2symbol  = {}\n",
    "symbol2ncbi  = {}\n",
    "ncbi2desc    = {}\n",
    "ncbi2uniprot = {}\n",
    "uniprot2ncbi = {}\n",
    "\n",
    "for i, r in gd.iterrows():\n",
    "    ncbi, symbol, name, description, uniprot = list(r)\n",
    "    ncbi = int(ncbi)\n",
    "    ncbi2name[ncbi] = name\n",
    "    ncbi2symbol[ncbi] = symbol\n",
    "    ncbi2desc[ncbi] = description\n",
    "    \n",
    "    # ncbi <-> uniprot can be 1:many\n",
    "    if ncbi2uniprot.get(ncbi) is None:\n",
    "        ncbi2uniprot[ncbi] = set()\n",
    "    ncbi2uniprot[ncbi].add(uniprot)\n",
    "    uniprot2ncbi[uniprot] = ncbi\n",
    "    \n",
    "print(\"Done mapping gene info\")"
   ]
  },
  {
   "cell_type": "code",
   "execution_count": 5,
   "metadata": {},
   "outputs": [
    {
     "data": {
      "text/markdown": [
       "\n",
       "## Aggregate CCLE cell lines by lineage\n",
       "<b>DepMap source file:</b> sample_info.csv\n",
       "* Group all cell lines (CCLE cell line IDs) by main (parent) lineage\n",
       "* If a lineage has > 1 defined sublineages, also aggregate cell lines by sublineage (eg: leukemia -> AML)\n"
      ],
      "text/plain": [
       "<IPython.core.display.Markdown object>"
      ]
     },
     "metadata": {},
     "output_type": "display_data"
    }
   ],
   "source": [
    "report('''\n",
    "## Aggregate CCLE cell lines by lineage\n",
    "<b>DepMap source file:</b> sample_info.csv\n",
    "* Group all cell lines (CCLE cell line IDs) by main (parent) lineage\n",
    "* If a lineage has > 1 defined sublineages, also aggregate cell lines by sublineage (eg: leukemia -> AML)\n",
    "''')"
   ]
  },
  {
   "cell_type": "code",
   "execution_count": 6,
   "metadata": {},
   "outputs": [
    {
     "data": {
      "text/markdown": [
       "<pre>"
      ],
      "text/plain": [
       "<IPython.core.display.Markdown object>"
      ]
     },
     "metadata": {},
     "output_type": "display_data"
    },
    {
     "data": {
      "text/markdown": [
       "Number of cell lines: 1429"
      ],
      "text/plain": [
       "<IPython.core.display.Markdown object>"
      ]
     },
     "metadata": {},
     "output_type": "display_data"
    },
    {
     "data": {
      "text/markdown": [
       "Number of lineages: 33"
      ],
      "text/plain": [
       "<IPython.core.display.Markdown object>"
      ]
     },
     "metadata": {},
     "output_type": "display_data"
    },
    {
     "data": {
      "text/markdown": [
       "Number of lineages with sub-lineages: 16"
      ],
      "text/plain": [
       "<IPython.core.display.Markdown object>"
      ]
     },
     "metadata": {},
     "output_type": "display_data"
    },
    {
     "data": {
      "text/markdown": [
       "Number of sub-lineages 61"
      ],
      "text/plain": [
       "<IPython.core.display.Markdown object>"
      ]
     },
     "metadata": {},
     "output_type": "display_data"
    },
    {
     "data": {
      "text/markdown": [
       "</pre>"
      ],
      "text/plain": [
       "<IPython.core.display.Markdown object>"
      ]
     },
     "metadata": {},
     "output_type": "display_data"
    }
   ],
   "source": [
    "sample_info = get_data('sample_info')\n",
    "lineages = set(sample_info.lineage.dropna())\n",
    "\n",
    "lineage2cell    = {}\n",
    "sublineage2cell = {}\n",
    "cell2lineage    = {}\n",
    "cell2sublineage = {}\n",
    "has_sub = set()\n",
    "is_sub = set()\n",
    "\n",
    "for l in lineages:\n",
    "    ldf = sample_info[sample_info.lineage == l]\n",
    "    subtypes = set(ldf.lineage_subtype.dropna())\n",
    "    \n",
    "    # cell lines for sublineage\n",
    "    if len(subtypes) > 1:\n",
    "        has_sub.add(l)\n",
    "        for sub in subtypes:\n",
    "            if l in sub:\n",
    "                lname = sub\n",
    "            else:\n",
    "                lname = l + '_' + sub\n",
    "\n",
    "            is_sub.add(lname)\n",
    "            sub_df = ldf[ldf.lineage_subtype == sub]\n",
    "\n",
    "            # map sublineage to cell lines\n",
    "            sublineage2cell[lname] = list(sub_df.index)\n",
    "    \n",
    "            # map cell lines to sub-lineage\n",
    "            for cell in sublineage2cell[lname]:\n",
    "                cell2sublineage[cell] = lname\n",
    "    else:\n",
    "        sublineage2cell[l] = list(ldf.index)\n",
    "        for cell in sublineage2cell[l]:\n",
    "            cell2sublineage[cell] = l\n",
    "                \n",
    "    # all cell lines for lineage\n",
    "    lineage2cell[l] = list(ldf.index)\n",
    "    \n",
    "    # parent lineage of each cell line\n",
    "    for cell in lineage2cell[l]:\n",
    "        cell2lineage[cell] = l\n",
    "    \n",
    "\n",
    "report('<pre>')\n",
    "report(\"Number of cell lines: \"+str(len(cell2lineage)))\n",
    "report(\"Number of lineages: \"+str(len(lineage2cell)))\n",
    "report(\"Number of lineages with sub-lineages: \"+str(len(has_sub)))\n",
    "report(\"Number of sub-lineages \"+str(len(is_sub)))\n",
    "report('</pre>')"
   ]
  },
  {
   "cell_type": "code",
   "execution_count": 7,
   "metadata": {},
   "outputs": [
    {
     "data": {
      "text/markdown": [
       "\n",
       "## Expression Data (RNASeq)\n",
       "RNAseq TPM gene expression data for just protein coding genes using RSEM. Log2 transformed, using a pseudo-count of 1.\n",
       "\n",
       "<b>DepMap source file:</b> CCLE_expression.csv\n",
       "* Transpose columns (gene names) and rows (CCLE cell line IDs)\n",
       "* Translate gene names to NCBI gene IDs\n"
      ],
      "text/plain": [
       "<IPython.core.display.Markdown object>"
      ]
     },
     "metadata": {},
     "output_type": "display_data"
    }
   ],
   "source": [
    "report('''\n",
    "## Expression Data (RNASeq)\n",
    "RNAseq TPM gene expression data for just protein coding genes using RSEM. Log2 transformed, using a pseudo-count of 1.\n",
    "\n",
    "<b>DepMap source file:</b> CCLE_expression.csv\n",
    "* Transpose columns (gene names) and rows (CCLE cell line IDs)\n",
    "* Translate gene names to NCBI gene IDs\n",
    "''')"
   ]
  },
  {
   "cell_type": "code",
   "execution_count": 8,
   "metadata": {},
   "outputs": [
    {
     "data": {
      "text/markdown": [
       "Sample expression data:"
      ],
      "text/plain": [
       "<IPython.core.display.Markdown object>"
      ]
     },
     "metadata": {},
     "output_type": "display_data"
    },
    {
     "data": {
      "text/html": [
       "<div>\n",
       "<style scoped>\n",
       "    .dataframe tbody tr th:only-of-type {\n",
       "        vertical-align: middle;\n",
       "    }\n",
       "\n",
       "    .dataframe tbody tr th {\n",
       "        vertical-align: top;\n",
       "    }\n",
       "\n",
       "    .dataframe thead th {\n",
       "        text-align: right;\n",
       "    }\n",
       "</style>\n",
       "<table border=\"1\" class=\"dataframe\">\n",
       "  <thead>\n",
       "    <tr style=\"text-align: right;\">\n",
       "      <th></th>\n",
       "      <th>ACH-001097</th>\n",
       "      <th>ACH-001485</th>\n",
       "      <th>ACH-001396</th>\n",
       "      <th>ACH-000534</th>\n",
       "      <th>ACH-000742</th>\n",
       "      <th>ACH-001818</th>\n",
       "      <th>ACH-000545</th>\n",
       "      <th>ACH-000836</th>\n",
       "      <th>ACH-001959</th>\n",
       "      <th>ACH-000470</th>\n",
       "      <th>...</th>\n",
       "      <th>ACH-000305</th>\n",
       "      <th>ACH-000916</th>\n",
       "      <th>ACH-000603</th>\n",
       "      <th>ACH-000296</th>\n",
       "      <th>ACH-000978</th>\n",
       "      <th>ACH-000904</th>\n",
       "      <th>ACH-000110</th>\n",
       "      <th>ACH-000031</th>\n",
       "      <th>ACH-000261</th>\n",
       "      <th>ACH-000682</th>\n",
       "    </tr>\n",
       "  </thead>\n",
       "  <tbody>\n",
       "    <tr>\n",
       "      <td>7105</td>\n",
       "      <td>0.000000</td>\n",
       "      <td>0.000000</td>\n",
       "      <td>2.883621</td>\n",
       "      <td>0.839960</td>\n",
       "      <td>3.722466</td>\n",
       "      <td>4.032982</td>\n",
       "      <td>4.251719</td>\n",
       "      <td>4.632268</td>\n",
       "      <td>3.321928</td>\n",
       "      <td>3.681449</td>\n",
       "      <td>...</td>\n",
       "      <td>4.152183</td>\n",
       "      <td>4.997744</td>\n",
       "      <td>0.910733</td>\n",
       "      <td>5.382321</td>\n",
       "      <td>5.002252</td>\n",
       "      <td>4.316870</td>\n",
       "      <td>5.227279</td>\n",
       "      <td>4.714795</td>\n",
       "      <td>4.447579</td>\n",
       "      <td>5.976364</td>\n",
       "    </tr>\n",
       "    <tr>\n",
       "      <td>64102</td>\n",
       "      <td>0.000000</td>\n",
       "      <td>0.000000</td>\n",
       "      <td>0.000000</td>\n",
       "      <td>0.000000</td>\n",
       "      <td>0.000000</td>\n",
       "      <td>0.000000</td>\n",
       "      <td>0.000000</td>\n",
       "      <td>0.000000</td>\n",
       "      <td>0.000000</td>\n",
       "      <td>0.000000</td>\n",
       "      <td>...</td>\n",
       "      <td>0.000000</td>\n",
       "      <td>0.000000</td>\n",
       "      <td>0.000000</td>\n",
       "      <td>0.150560</td>\n",
       "      <td>0.042644</td>\n",
       "      <td>0.028569</td>\n",
       "      <td>0.070389</td>\n",
       "      <td>0.028569</td>\n",
       "      <td>0.028569</td>\n",
       "      <td>0.124328</td>\n",
       "    </tr>\n",
       "    <tr>\n",
       "      <td>8813</td>\n",
       "      <td>4.667324</td>\n",
       "      <td>5.755689</td>\n",
       "      <td>4.471838</td>\n",
       "      <td>5.376082</td>\n",
       "      <td>6.029674</td>\n",
       "      <td>5.933100</td>\n",
       "      <td>5.651052</td>\n",
       "      <td>6.704180</td>\n",
       "      <td>7.357288</td>\n",
       "      <td>7.294896</td>\n",
       "      <td>...</td>\n",
       "      <td>6.024364</td>\n",
       "      <td>5.898450</td>\n",
       "      <td>5.740118</td>\n",
       "      <td>6.551670</td>\n",
       "      <td>6.523719</td>\n",
       "      <td>5.990955</td>\n",
       "      <td>6.764341</td>\n",
       "      <td>6.745910</td>\n",
       "      <td>6.748864</td>\n",
       "      <td>5.983450</td>\n",
       "    </tr>\n",
       "    <tr>\n",
       "      <td>57147</td>\n",
       "      <td>1.761285</td>\n",
       "      <td>2.375735</td>\n",
       "      <td>2.347666</td>\n",
       "      <td>2.687061</td>\n",
       "      <td>2.192194</td>\n",
       "      <td>2.097611</td>\n",
       "      <td>3.440952</td>\n",
       "      <td>2.792855</td>\n",
       "      <td>1.691534</td>\n",
       "      <td>2.400538</td>\n",
       "      <td>...</td>\n",
       "      <td>2.361768</td>\n",
       "      <td>3.814550</td>\n",
       "      <td>2.505891</td>\n",
       "      <td>2.592158</td>\n",
       "      <td>2.613532</td>\n",
       "      <td>3.185867</td>\n",
       "      <td>3.537296</td>\n",
       "      <td>2.776104</td>\n",
       "      <td>2.650765</td>\n",
       "      <td>2.939227</td>\n",
       "    </tr>\n",
       "    <tr>\n",
       "      <td>55732</td>\n",
       "      <td>3.554589</td>\n",
       "      <td>2.634593</td>\n",
       "      <td>3.392317</td>\n",
       "      <td>4.440288</td>\n",
       "      <td>2.533563</td>\n",
       "      <td>1.536053</td>\n",
       "      <td>3.275007</td>\n",
       "      <td>4.079805</td>\n",
       "      <td>4.328406</td>\n",
       "      <td>2.849999</td>\n",
       "      <td>...</td>\n",
       "      <td>1.659925</td>\n",
       "      <td>3.446256</td>\n",
       "      <td>3.161888</td>\n",
       "      <td>4.352617</td>\n",
       "      <td>3.243364</td>\n",
       "      <td>4.846493</td>\n",
       "      <td>4.491212</td>\n",
       "      <td>3.621759</td>\n",
       "      <td>4.607626</td>\n",
       "      <td>2.918386</td>\n",
       "    </tr>\n",
       "  </tbody>\n",
       "</table>\n",
       "<p>5 rows × 1210 columns</p>\n",
       "</div>"
      ],
      "text/plain": [
       "       ACH-001097  ACH-001485  ACH-001396  ACH-000534  ACH-000742  ACH-001818  \\\n",
       "7105     0.000000    0.000000    2.883621    0.839960    3.722466    4.032982   \n",
       "64102    0.000000    0.000000    0.000000    0.000000    0.000000    0.000000   \n",
       "8813     4.667324    5.755689    4.471838    5.376082    6.029674    5.933100   \n",
       "57147    1.761285    2.375735    2.347666    2.687061    2.192194    2.097611   \n",
       "55732    3.554589    2.634593    3.392317    4.440288    2.533563    1.536053   \n",
       "\n",
       "       ACH-000545  ACH-000836  ACH-001959  ACH-000470  ...  ACH-000305  \\\n",
       "7105     4.251719    4.632268    3.321928    3.681449  ...    4.152183   \n",
       "64102    0.000000    0.000000    0.000000    0.000000  ...    0.000000   \n",
       "8813     5.651052    6.704180    7.357288    7.294896  ...    6.024364   \n",
       "57147    3.440952    2.792855    1.691534    2.400538  ...    2.361768   \n",
       "55732    3.275007    4.079805    4.328406    2.849999  ...    1.659925   \n",
       "\n",
       "       ACH-000916  ACH-000603  ACH-000296  ACH-000978  ACH-000904  ACH-000110  \\\n",
       "7105     4.997744    0.910733    5.382321    5.002252    4.316870    5.227279   \n",
       "64102    0.000000    0.000000    0.150560    0.042644    0.028569    0.070389   \n",
       "8813     5.898450    5.740118    6.551670    6.523719    5.990955    6.764341   \n",
       "57147    3.814550    2.505891    2.592158    2.613532    3.185867    3.537296   \n",
       "55732    3.446256    3.161888    4.352617    3.243364    4.846493    4.491212   \n",
       "\n",
       "       ACH-000031  ACH-000261  ACH-000682  \n",
       "7105     4.714795    4.447579    5.976364  \n",
       "64102    0.028569    0.028569    0.124328  \n",
       "8813     6.745910    6.748864    5.983450  \n",
       "57147    2.776104    2.650765    2.939227  \n",
       "55732    3.621759    4.607626    2.918386  \n",
       "\n",
       "[5 rows x 1210 columns]"
      ]
     },
     "metadata": {},
     "output_type": "display_data"
    }
   ],
   "source": [
    "exp = get_data('expression').T\n",
    "exp.index = ncbi_gene_ids(list(exp.index))\n",
    "printmd('Sample expression data:')\n",
    "display(exp.head())"
   ]
  },
  {
   "cell_type": "code",
   "execution_count": 9,
   "metadata": {},
   "outputs": [
    {
     "data": {
      "text/markdown": [
       "\n",
       "## Mutation Data \n",
       "<b>DepMap source file:</b> CCLE_mutations.csv\n",
       "* Keep track of TCGA and COSMIC hotspot genes by lineage\n",
       "* Just using hotspot genes for now but track deleterious mutations by lineage for future reference\n"
      ],
      "text/plain": [
       "<IPython.core.display.Markdown object>"
      ]
     },
     "metadata": {},
     "output_type": "display_data"
    }
   ],
   "source": [
    "report('''\n",
    "## Mutation Data \n",
    "<b>DepMap source file:</b> CCLE_mutations.csv\n",
    "* Keep track of TCGA and COSMIC hotspot genes by lineage\n",
    "* Just using hotspot genes for now but track deleterious mutations by lineage for future reference\n",
    "''')"
   ]
  },
  {
   "cell_type": "code",
   "execution_count": 10,
   "metadata": {},
   "outputs": [],
   "source": [
    "mutations = get_data('mutations')"
   ]
  },
  {
   "cell_type": "code",
   "execution_count": 11,
   "metadata": {},
   "outputs": [
    {
     "name": "stdout",
     "output_type": "stream",
     "text": [
      "Done mapping hotspots\n"
     ]
    },
    {
     "data": {
      "text/markdown": [
       "8704 TCGA or COSMIC hotspot genes"
      ],
      "text/plain": [
       "<IPython.core.display.Markdown object>"
      ]
     },
     "metadata": {},
     "output_type": "display_data"
    }
   ],
   "source": [
    "# Filter hotspot genes\n",
    "hotspots = []\n",
    "hotspots.append(mutations[mutations.isTCGAhotspot])\n",
    "hotspots.append(mutations[mutations.isCOSMIChotspot])\n",
    "hotspots = pd.concat(hotspots).drop_duplicates()\n",
    "\n",
    "hotspot_genes = set(hotspots.Entrez_Gene_Id)\n",
    "\n",
    "lineage_hotspots = {}\n",
    "sublineage_hotspots = {}\n",
    "\n",
    "for g in hotspot_genes:\n",
    "    lineage_hotspots[g] = {}\n",
    "    sublineage_hotspots[g] = {}\n",
    "    \n",
    "    gdf = hotspots[hotspots.Entrez_Gene_Id == g]\n",
    "    \n",
    "    for i, r in gdf.iterrows():\n",
    "        cell = r.DepMap_ID\n",
    "        if cell2lineage.get(cell) is not None:\n",
    "            lineage = cell2lineage[cell]\n",
    "            if lineage_hotspots[g].get(lineage) is None:\n",
    "                lineage_hotspots[g][lineage] = 0\n",
    "            lineage_hotspots[g][lineage] += 1\n",
    "            \n",
    "        if cell2sublineage.get(cell) is not None:\n",
    "            sublineage = cell2sublineage[cell]\n",
    "            if sublineage_hotspots[g].get(sublineage) is None:\n",
    "                sublineage_hotspots[g][sublineage] = 0\n",
    "            sublineage_hotspots[g][sublineage] += 1\n",
    "            \n",
    "print(\"Done mapping hotspots\")\n",
    "report(str(len(hotspot_genes))+' TCGA or COSMIC hotspot genes')"
   ]
  },
  {
   "cell_type": "code",
   "execution_count": 12,
   "metadata": {},
   "outputs": [],
   "source": [
    "# # Filter deleterious mutations\n",
    "# damaging = mutations[mutations.Variant_annotation.isin(['damaging','non-conserving'])]\n",
    "# damaging = damaging[damaging.isDeleterious == True]\n",
    "# genes = set(hotspots.Entrez_Gene_Id)\n",
    "\n",
    "\n",
    "# genes = set(damaging.Entrez_Gene_Id)\n",
    "\n",
    "# lineage_mutations = {}\n",
    "# sublineage_mutations = {}\n",
    "\n",
    "# for g in genes:\n",
    "#     lineage_mutations[g] = {}\n",
    "#     sublineage_mutations[g] = {}\n",
    "    \n",
    "#     gdf = damaging[damaging.Entrez_Gene_Id == g]\n",
    "    \n",
    "#     for i, r in gdf.iterrows():\n",
    "#         cell = r.DepMap_ID\n",
    "#         if cell2lineage.get(cell) is not None:\n",
    "#             lineage = cell2lineage[cell]\n",
    "#             if lineage_mutations[g].get(lineage) is None:\n",
    "#                 lineage_mutations[g][lineage] = 0\n",
    "#             lineage_mutations[g][lineage] += 1\n",
    "            \n",
    "#         if cell2sublineage.get(cell) is not None:\n",
    "#             sublineage = cell2sublineage[cell]\n",
    "#             if sublineage_mutations[g].get(sublineage) is None:\n",
    "#                 sublineage_mutations[g][sublineage] = 0\n",
    "#             sublineage_mutations[g][sublineage] += 1\n",
    "            \n",
    "# print(\"Done mapping deleterious mutations\")"
   ]
  },
  {
   "cell_type": "code",
   "execution_count": 13,
   "metadata": {},
   "outputs": [
    {
     "data": {
      "text/markdown": [
       "\n",
       "## Copy number data\n",
       "Gene level copy number data, log2 transformed with a pseudo count of 1. This is generated by mapping genes onto the segment level calls.\n",
       "\n",
       "<b>Depmap source file:</b> CCLE_gene_cn_v2.csv\n",
       "* Transpose columns (gene names) and rows (CCLE cell line IDs)\n",
       "* Translate gene names to NCBI gene IDs\n"
      ],
      "text/plain": [
       "<IPython.core.display.Markdown object>"
      ]
     },
     "metadata": {},
     "output_type": "display_data"
    }
   ],
   "source": [
    "report('''\n",
    "## Copy number data\n",
    "Gene level copy number data, log2 transformed with a pseudo count of 1. This is generated by mapping genes onto the segment level calls.\n",
    "\n",
    "<b>Depmap source file:</b> CCLE_gene_cn_v2.csv\n",
    "* Transpose columns (gene names) and rows (CCLE cell line IDs)\n",
    "* Translate gene names to NCBI gene IDs\n",
    "''')\n"
   ]
  },
  {
   "cell_type": "code",
   "execution_count": 14,
   "metadata": {},
   "outputs": [
    {
     "data": {
      "text/markdown": [
       "Sample copy number data:"
      ],
      "text/plain": [
       "<IPython.core.display.Markdown object>"
      ]
     },
     "metadata": {},
     "output_type": "display_data"
    },
    {
     "data": {
      "text/html": [
       "<div>\n",
       "<style scoped>\n",
       "    .dataframe tbody tr th:only-of-type {\n",
       "        vertical-align: middle;\n",
       "    }\n",
       "\n",
       "    .dataframe tbody tr th {\n",
       "        vertical-align: top;\n",
       "    }\n",
       "\n",
       "    .dataframe thead th {\n",
       "        text-align: right;\n",
       "    }\n",
       "</style>\n",
       "<table border=\"1\" class=\"dataframe\">\n",
       "  <thead>\n",
       "    <tr style=\"text-align: right;\">\n",
       "      <th></th>\n",
       "      <th>ACH-001793</th>\n",
       "      <th>ACH-002176</th>\n",
       "      <th>ACH-000652</th>\n",
       "      <th>ACH-001295</th>\n",
       "      <th>ACH-000798</th>\n",
       "      <th>ACH-001399</th>\n",
       "      <th>ACH-000111</th>\n",
       "      <th>ACH-002358</th>\n",
       "      <th>ACH-000367</th>\n",
       "      <th>ACH-000584</th>\n",
       "      <th>...</th>\n",
       "      <th>ACH-000280</th>\n",
       "      <th>ACH-001563</th>\n",
       "      <th>ACH-002124</th>\n",
       "      <th>ACH-000286</th>\n",
       "      <th>ACH-001148</th>\n",
       "      <th>ACH-001359</th>\n",
       "      <th>ACH-001560</th>\n",
       "      <th>ACH-001791</th>\n",
       "      <th>ACH-001125</th>\n",
       "      <th>ACH-000110</th>\n",
       "    </tr>\n",
       "  </thead>\n",
       "  <tbody>\n",
       "    <tr>\n",
       "      <td>1</td>\n",
       "      <td>1.086422</td>\n",
       "      <td>1.526188</td>\n",
       "      <td>0.776609</td>\n",
       "      <td>0.964857</td>\n",
       "      <td>0.986651</td>\n",
       "      <td>1.097441</td>\n",
       "      <td>1.577719</td>\n",
       "      <td>0.990491</td>\n",
       "      <td>0.972714</td>\n",
       "      <td>1.232228</td>\n",
       "      <td>...</td>\n",
       "      <td>1.365183</td>\n",
       "      <td>1.027095</td>\n",
       "      <td>1.029024</td>\n",
       "      <td>0.841298</td>\n",
       "      <td>1.045162</td>\n",
       "      <td>1.143302</td>\n",
       "      <td>1.391900</td>\n",
       "      <td>1.001219</td>\n",
       "      <td>1.257749</td>\n",
       "      <td>1.931762</td>\n",
       "    </tr>\n",
       "    <tr>\n",
       "      <td>10</td>\n",
       "      <td>1.103066</td>\n",
       "      <td>1.044267</td>\n",
       "      <td>0.520576</td>\n",
       "      <td>1.001427</td>\n",
       "      <td>0.974178</td>\n",
       "      <td>0.775405</td>\n",
       "      <td>1.209647</td>\n",
       "      <td>1.001602</td>\n",
       "      <td>0.564791</td>\n",
       "      <td>0.379099</td>\n",
       "      <td>...</td>\n",
       "      <td>0.690553</td>\n",
       "      <td>0.995183</td>\n",
       "      <td>1.068430</td>\n",
       "      <td>0.781903</td>\n",
       "      <td>0.986327</td>\n",
       "      <td>0.803954</td>\n",
       "      <td>0.707500</td>\n",
       "      <td>1.262303</td>\n",
       "      <td>1.123967</td>\n",
       "      <td>0.728684</td>\n",
       "    </tr>\n",
       "    <tr>\n",
       "      <td>100</td>\n",
       "      <td>0.910926</td>\n",
       "      <td>1.089161</td>\n",
       "      <td>1.555780</td>\n",
       "      <td>1.010086</td>\n",
       "      <td>0.987801</td>\n",
       "      <td>1.877675</td>\n",
       "      <td>0.826138</td>\n",
       "      <td>0.999580</td>\n",
       "      <td>1.128533</td>\n",
       "      <td>1.254932</td>\n",
       "      <td>...</td>\n",
       "      <td>1.307992</td>\n",
       "      <td>0.996104</td>\n",
       "      <td>1.070793</td>\n",
       "      <td>2.327111</td>\n",
       "      <td>1.037611</td>\n",
       "      <td>1.140260</td>\n",
       "      <td>1.166051</td>\n",
       "      <td>0.953422</td>\n",
       "      <td>1.361431</td>\n",
       "      <td>1.710860</td>\n",
       "    </tr>\n",
       "    <tr>\n",
       "      <td>1000</td>\n",
       "      <td>0.869815</td>\n",
       "      <td>1.093874</td>\n",
       "      <td>0.534269</td>\n",
       "      <td>1.618418</td>\n",
       "      <td>0.975264</td>\n",
       "      <td>0.765916</td>\n",
       "      <td>1.781738</td>\n",
       "      <td>0.999387</td>\n",
       "      <td>0.583207</td>\n",
       "      <td>1.262886</td>\n",
       "      <td>...</td>\n",
       "      <td>0.977053</td>\n",
       "      <td>0.964261</td>\n",
       "      <td>0.992269</td>\n",
       "      <td>0.639639</td>\n",
       "      <td>1.005763</td>\n",
       "      <td>0.793022</td>\n",
       "      <td>1.186009</td>\n",
       "      <td>1.140554</td>\n",
       "      <td>0.753544</td>\n",
       "      <td>0.815800</td>\n",
       "    </tr>\n",
       "    <tr>\n",
       "      <td>10000</td>\n",
       "      <td>1.178887</td>\n",
       "      <td>0.739725</td>\n",
       "      <td>1.072077</td>\n",
       "      <td>1.087050</td>\n",
       "      <td>0.992261</td>\n",
       "      <td>0.823112</td>\n",
       "      <td>1.618552</td>\n",
       "      <td>1.002886</td>\n",
       "      <td>1.185828</td>\n",
       "      <td>1.369970</td>\n",
       "      <td>...</td>\n",
       "      <td>1.320073</td>\n",
       "      <td>0.980081</td>\n",
       "      <td>1.004353</td>\n",
       "      <td>1.169857</td>\n",
       "      <td>1.051142</td>\n",
       "      <td>0.775699</td>\n",
       "      <td>1.177641</td>\n",
       "      <td>1.118604</td>\n",
       "      <td>1.053262</td>\n",
       "      <td>0.989854</td>\n",
       "    </tr>\n",
       "  </tbody>\n",
       "</table>\n",
       "<p>5 rows × 1660 columns</p>\n",
       "</div>"
      ],
      "text/plain": [
       "       ACH-001793  ACH-002176  ACH-000652  ACH-001295  ACH-000798  ACH-001399  \\\n",
       "1        1.086422    1.526188    0.776609    0.964857    0.986651    1.097441   \n",
       "10       1.103066    1.044267    0.520576    1.001427    0.974178    0.775405   \n",
       "100      0.910926    1.089161    1.555780    1.010086    0.987801    1.877675   \n",
       "1000     0.869815    1.093874    0.534269    1.618418    0.975264    0.765916   \n",
       "10000    1.178887    0.739725    1.072077    1.087050    0.992261    0.823112   \n",
       "\n",
       "       ACH-000111  ACH-002358  ACH-000367  ACH-000584  ...  ACH-000280  \\\n",
       "1        1.577719    0.990491    0.972714    1.232228  ...    1.365183   \n",
       "10       1.209647    1.001602    0.564791    0.379099  ...    0.690553   \n",
       "100      0.826138    0.999580    1.128533    1.254932  ...    1.307992   \n",
       "1000     1.781738    0.999387    0.583207    1.262886  ...    0.977053   \n",
       "10000    1.618552    1.002886    1.185828    1.369970  ...    1.320073   \n",
       "\n",
       "       ACH-001563  ACH-002124  ACH-000286  ACH-001148  ACH-001359  ACH-001560  \\\n",
       "1        1.027095    1.029024    0.841298    1.045162    1.143302    1.391900   \n",
       "10       0.995183    1.068430    0.781903    0.986327    0.803954    0.707500   \n",
       "100      0.996104    1.070793    2.327111    1.037611    1.140260    1.166051   \n",
       "1000     0.964261    0.992269    0.639639    1.005763    0.793022    1.186009   \n",
       "10000    0.980081    1.004353    1.169857    1.051142    0.775699    1.177641   \n",
       "\n",
       "       ACH-001791  ACH-001125  ACH-000110  \n",
       "1        1.001219    1.257749    1.931762  \n",
       "10       1.262303    1.123967    0.728684  \n",
       "100      0.953422    1.361431    1.710860  \n",
       "1000     1.140554    0.753544    0.815800  \n",
       "10000    1.118604    1.053262    0.989854  \n",
       "\n",
       "[5 rows x 1660 columns]"
      ]
     },
     "metadata": {},
     "output_type": "display_data"
    },
    {
     "data": {
      "text/markdown": [
       "Copy number data descritive stats:"
      ],
      "text/plain": [
       "<IPython.core.display.Markdown object>"
      ]
     },
     "metadata": {},
     "output_type": "display_data"
    },
    {
     "data": {
      "text/html": [
       "<div>\n",
       "<style scoped>\n",
       "    .dataframe tbody tr th:only-of-type {\n",
       "        vertical-align: middle;\n",
       "    }\n",
       "\n",
       "    .dataframe tbody tr th {\n",
       "        vertical-align: top;\n",
       "    }\n",
       "\n",
       "    .dataframe thead th {\n",
       "        text-align: right;\n",
       "    }\n",
       "</style>\n",
       "<table border=\"1\" class=\"dataframe\">\n",
       "  <thead>\n",
       "    <tr style=\"text-align: right;\">\n",
       "      <th></th>\n",
       "      <th>ACH-001793</th>\n",
       "      <th>ACH-002176</th>\n",
       "      <th>ACH-000652</th>\n",
       "      <th>ACH-001295</th>\n",
       "      <th>ACH-000798</th>\n",
       "      <th>ACH-001399</th>\n",
       "      <th>ACH-000111</th>\n",
       "      <th>ACH-002358</th>\n",
       "      <th>ACH-000367</th>\n",
       "      <th>ACH-000584</th>\n",
       "    </tr>\n",
       "  </thead>\n",
       "  <tbody>\n",
       "    <tr>\n",
       "      <td>count</td>\n",
       "      <td>27639.000000</td>\n",
       "      <td>2.763900e+04</td>\n",
       "      <td>2.763900e+04</td>\n",
       "      <td>2.763900e+04</td>\n",
       "      <td>27639.000000</td>\n",
       "      <td>27639.000000</td>\n",
       "      <td>2.763900e+04</td>\n",
       "      <td>27639.000000</td>\n",
       "      <td>2.763900e+04</td>\n",
       "      <td>27639.000000</td>\n",
       "    </tr>\n",
       "    <tr>\n",
       "      <td>mean</td>\n",
       "      <td>1.098416</td>\n",
       "      <td>1.005611e+00</td>\n",
       "      <td>9.739989e-01</td>\n",
       "      <td>1.061859e+00</td>\n",
       "      <td>1.019288</td>\n",
       "      <td>1.057222</td>\n",
       "      <td>1.127191e+00</td>\n",
       "      <td>0.980485</td>\n",
       "      <td>9.532559e-01</td>\n",
       "      <td>1.057527</td>\n",
       "    </tr>\n",
       "    <tr>\n",
       "      <td>std</td>\n",
       "      <td>1.119507</td>\n",
       "      <td>3.482645e-01</td>\n",
       "      <td>2.416796e-01</td>\n",
       "      <td>6.685549e-01</td>\n",
       "      <td>0.123101</td>\n",
       "      <td>0.306522</td>\n",
       "      <td>3.919352e-01</td>\n",
       "      <td>0.092264</td>\n",
       "      <td>2.693422e-01</td>\n",
       "      <td>0.366487</td>\n",
       "    </tr>\n",
       "    <tr>\n",
       "      <td>min</td>\n",
       "      <td>0.171960</td>\n",
       "      <td>7.998209e-10</td>\n",
       "      <td>8.220704e-10</td>\n",
       "      <td>7.984062e-10</td>\n",
       "      <td>0.000036</td>\n",
       "      <td>0.000020</td>\n",
       "      <td>1.102449e-09</td>\n",
       "      <td>0.000021</td>\n",
       "      <td>8.282854e-10</td>\n",
       "      <td>0.000009</td>\n",
       "    </tr>\n",
       "    <tr>\n",
       "      <td>25%</td>\n",
       "      <td>0.889299</td>\n",
       "      <td>7.318536e-01</td>\n",
       "      <td>7.900758e-01</td>\n",
       "      <td>9.845272e-01</td>\n",
       "      <td>0.982870</td>\n",
       "      <td>0.812673</td>\n",
       "      <td>8.295737e-01</td>\n",
       "      <td>0.993549</td>\n",
       "      <td>6.015790e-01</td>\n",
       "      <td>0.700131</td>\n",
       "    </tr>\n",
       "    <tr>\n",
       "      <td>50%</td>\n",
       "      <td>1.053484</td>\n",
       "      <td>1.045336e+00</td>\n",
       "      <td>1.027553e+00</td>\n",
       "      <td>9.942944e-01</td>\n",
       "      <td>0.986097</td>\n",
       "      <td>1.003401</td>\n",
       "      <td>9.373404e-01</td>\n",
       "      <td>0.999580</td>\n",
       "      <td>1.056217e+00</td>\n",
       "      <td>0.990265</td>\n",
       "    </tr>\n",
       "    <tr>\n",
       "      <td>75%</td>\n",
       "      <td>1.113955</td>\n",
       "      <td>1.111985e+00</td>\n",
       "      <td>1.068509e+00</td>\n",
       "      <td>1.002200e+00</td>\n",
       "      <td>0.989550</td>\n",
       "      <td>1.120454</td>\n",
       "      <td>1.321072e+00</td>\n",
       "      <td>1.002886</td>\n",
       "      <td>1.131187e+00</td>\n",
       "      <td>1.262886</td>\n",
       "    </tr>\n",
       "    <tr>\n",
       "      <td>max</td>\n",
       "      <td>35.734800</td>\n",
       "      <td>4.952679e+00</td>\n",
       "      <td>4.804283e+00</td>\n",
       "      <td>3.963217e+01</td>\n",
       "      <td>1.462469</td>\n",
       "      <td>3.217691</td>\n",
       "      <td>3.229879e+00</td>\n",
       "      <td>1.006658</td>\n",
       "      <td>1.729972e+00</td>\n",
       "      <td>3.354475</td>\n",
       "    </tr>\n",
       "  </tbody>\n",
       "</table>\n",
       "</div>"
      ],
      "text/plain": [
       "         ACH-001793    ACH-002176    ACH-000652    ACH-001295    ACH-000798  \\\n",
       "count  27639.000000  2.763900e+04  2.763900e+04  2.763900e+04  27639.000000   \n",
       "mean       1.098416  1.005611e+00  9.739989e-01  1.061859e+00      1.019288   \n",
       "std        1.119507  3.482645e-01  2.416796e-01  6.685549e-01      0.123101   \n",
       "min        0.171960  7.998209e-10  8.220704e-10  7.984062e-10      0.000036   \n",
       "25%        0.889299  7.318536e-01  7.900758e-01  9.845272e-01      0.982870   \n",
       "50%        1.053484  1.045336e+00  1.027553e+00  9.942944e-01      0.986097   \n",
       "75%        1.113955  1.111985e+00  1.068509e+00  1.002200e+00      0.989550   \n",
       "max       35.734800  4.952679e+00  4.804283e+00  3.963217e+01      1.462469   \n",
       "\n",
       "         ACH-001399    ACH-000111    ACH-002358    ACH-000367    ACH-000584  \n",
       "count  27639.000000  2.763900e+04  27639.000000  2.763900e+04  27639.000000  \n",
       "mean       1.057222  1.127191e+00      0.980485  9.532559e-01      1.057527  \n",
       "std        0.306522  3.919352e-01      0.092264  2.693422e-01      0.366487  \n",
       "min        0.000020  1.102449e-09      0.000021  8.282854e-10      0.000009  \n",
       "25%        0.812673  8.295737e-01      0.993549  6.015790e-01      0.700131  \n",
       "50%        1.003401  9.373404e-01      0.999580  1.056217e+00      0.990265  \n",
       "75%        1.120454  1.321072e+00      1.002886  1.131187e+00      1.262886  \n",
       "max        3.217691  3.229879e+00      1.006658  1.729972e+00      3.354475  "
      ]
     },
     "metadata": {},
     "output_type": "display_data"
    }
   ],
   "source": [
    "cn = get_data('copy_number')\n",
    "cn.columns = ncbi_gene_ids(list(cn.columns))\n",
    "\n",
    "# cn.columns = ncbi_gene_ids(list(cn.columns))\n",
    "# print(cn.shape)\n",
    "# keep_genes = []\n",
    "# for g in cn.columns:\n",
    "#     if g in hotspot_genes:\n",
    "#         keep_genes.append(g)\n",
    "# cn = cn[keep_genes]\n",
    "# print(cn.shape)\n",
    "cn = cn.T\n",
    "printmd('Sample copy number data:')\n",
    "display(cn.head())\n",
    "report('Copy number data descritive stats:')\n",
    "display(cn.iloc[:,:10].describe())"
   ]
  },
  {
   "cell_type": "code",
   "execution_count": 15,
   "metadata": {},
   "outputs": [
    {
     "data": {
      "text/markdown": [
       "\n",
       "## Search for high copy number genes in each of the lineages\n",
       "* Seleting genes with copy number > 2 in <b><i>all</i></b> cell lines is a lineage is a bit too stringent\n",
       "* Retain genes that have copy number >= 2 in 80% or more cell lines in a lineage\n",
       "* Extract the data for any cell lines with high copy number genes to use as plotting baseline\n"
      ],
      "text/plain": [
       "<IPython.core.display.Markdown object>"
      ]
     },
     "metadata": {},
     "output_type": "display_data"
    }
   ],
   "source": [
    "report('''\n",
    "## Search for high copy number genes in each of the lineages\n",
    "* Seleting genes with copy number > 2 in <b><i>all</i></b> cell lines is a lineage is a bit too stringent\n",
    "* Retain genes that have copy number >= 2 in 80% or more cell lines in a lineage\n",
    "* Extract the data for any cell lines with high copy number genes to use as plotting baseline\n",
    "''')"
   ]
  },
  {
   "cell_type": "code",
   "execution_count": 16,
   "metadata": {},
   "outputs": [
    {
     "data": {
      "text/markdown": [
       "<pre>"
      ],
      "text/plain": [
       "<IPython.core.display.Markdown object>"
      ]
     },
     "metadata": {},
     "output_type": "display_data"
    },
    {
     "data": {
      "text/markdown": [
       "upper_aerodigestive_buccal_mucosa; 1 cell lines; 592 high copy number genes"
      ],
      "text/plain": [
       "<IPython.core.display.Markdown object>"
      ]
     },
     "metadata": {},
     "output_type": "display_data"
    },
    {
     "data": {
      "text/markdown": [
       "breast_HER2Amp; 13 cell lines; 11 high copy number genes"
      ],
      "text/plain": [
       "<IPython.core.display.Markdown object>"
      ]
     },
     "metadata": {},
     "output_type": "display_data"
    },
    {
     "data": {
      "text/markdown": [
       "breast_ERneg; 1 cell lines; 960 high copy number genes"
      ],
      "text/plain": [
       "<IPython.core.display.Markdown object>"
      ]
     },
     "metadata": {},
     "output_type": "display_data"
    },
    {
     "data": {
      "text/markdown": [
       "breast_immortalized; 2 cell lines; 8 high copy number genes"
      ],
      "text/plain": [
       "<IPython.core.display.Markdown object>"
      ]
     },
     "metadata": {},
     "output_type": "display_data"
    },
    {
     "data": {
      "text/markdown": [
       "skin_epidermoid_carcinoma; 1 cell lines; 234 high copy number genes"
      ],
      "text/plain": [
       "<IPython.core.display.Markdown object>"
      ]
     },
     "metadata": {},
     "output_type": "display_data"
    },
    {
     "data": {
      "text/markdown": [
       "skin_squamous; 3 cell lines; 251 high copy number genes"
      ],
      "text/plain": [
       "<IPython.core.display.Markdown object>"
      ]
     },
     "metadata": {},
     "output_type": "display_data"
    },
    {
     "data": {
      "text/markdown": [
       "gastric_adenosquamous; 1 cell lines; 508 high copy number genes"
      ],
      "text/plain": [
       "<IPython.core.display.Markdown object>"
      ]
     },
     "metadata": {},
     "output_type": "display_data"
    },
    {
     "data": {
      "text/markdown": [
       "peripheral_nervous_system_PNET; 1 cell lines; 22 high copy number genes"
      ],
      "text/plain": [
       "<IPython.core.display.Markdown object>"
      ]
     },
     "metadata": {},
     "output_type": "display_data"
    },
    {
     "data": {
      "text/markdown": [
       "central_nervous_system_PNET; 1 cell lines; 2 high copy number genes"
      ],
      "text/plain": [
       "<IPython.core.display.Markdown object>"
      ]
     },
     "metadata": {},
     "output_type": "display_data"
    },
    {
     "data": {
      "text/markdown": [
       "central_nervous_system_immortalized; 1 cell lines; 26 high copy number genes"
      ],
      "text/plain": [
       "<IPython.core.display.Markdown object>"
      ]
     },
     "metadata": {},
     "output_type": "display_data"
    },
    {
     "data": {
      "text/markdown": [
       "ovary_immortalized; 1 cell lines; 9 high copy number genes"
      ],
      "text/plain": [
       "<IPython.core.display.Markdown object>"
      ]
     },
     "metadata": {},
     "output_type": "display_data"
    },
    {
     "data": {
      "text/markdown": [
       "lymphoblastic_lymphoma; 1 cell lines; 311 high copy number genes"
      ],
      "text/plain": [
       "<IPython.core.display.Markdown object>"
      ]
     },
     "metadata": {},
     "output_type": "display_data"
    },
    {
     "data": {
      "text/markdown": [
       "soft_tissue_fibrosarcoma; 1 cell lines; 2 high copy number genes"
      ],
      "text/plain": [
       "<IPython.core.display.Markdown object>"
      ]
     },
     "metadata": {},
     "output_type": "display_data"
    },
    {
     "data": {
      "text/markdown": [
       "soft_tissue_liposarcoma; 5 cell lines; 44 high copy number genes"
      ],
      "text/plain": [
       "<IPython.core.display.Markdown object>"
      ]
     },
     "metadata": {},
     "output_type": "display_data"
    },
    {
     "data": {
      "text/markdown": [
       "soft_tissue_epitheliod_sarcoma; 2 cell lines; 2 high copy number genes"
      ],
      "text/plain": [
       "<IPython.core.display.Markdown object>"
      ]
     },
     "metadata": {},
     "output_type": "display_data"
    },
    {
     "data": {
      "text/markdown": [
       "soft_tissue_sarcoma_undifferentiated; 2 cell lines; 164 high copy number genes"
      ],
      "text/plain": [
       "<IPython.core.display.Markdown object>"
      ]
     },
     "metadata": {},
     "output_type": "display_data"
    },
    {
     "data": {
      "text/markdown": [
       "lung_immortalized; 1 cell lines; 6 high copy number genes"
      ],
      "text/plain": [
       "<IPython.core.display.Markdown object>"
      ]
     },
     "metadata": {},
     "output_type": "display_data"
    },
    {
     "data": {
      "text/markdown": [
       "esophagus_adenocarcinoma; 7 cell lines; 7 high copy number genes"
      ],
      "text/plain": [
       "<IPython.core.display.Markdown object>"
      ]
     },
     "metadata": {},
     "output_type": "display_data"
    },
    {
     "data": {
      "text/markdown": [
       "adrenal_cortex; 1 cell lines; 200 high copy number genes"
      ],
      "text/plain": [
       "<IPython.core.display.Markdown object>"
      ]
     },
     "metadata": {},
     "output_type": "display_data"
    },
    {
     "data": {
      "text/markdown": [
       "eye_uveal_melanoma; 5 cell lines; 1016 high copy number genes"
      ],
      "text/plain": [
       "<IPython.core.display.Markdown object>"
      ]
     },
     "metadata": {},
     "output_type": "display_data"
    },
    {
     "data": {
      "text/markdown": [
       "bone_chordoma; 4 cell lines; 11 high copy number genes"
      ],
      "text/plain": [
       "<IPython.core.display.Markdown object>"
      ]
     },
     "metadata": {},
     "output_type": "display_data"
    },
    {
     "data": {
      "text/markdown": [
       "</pre>"
      ],
      "text/plain": [
       "<IPython.core.display.Markdown object>"
      ]
     },
     "metadata": {},
     "output_type": "display_data"
    }
   ],
   "source": [
    "# for each cell line, get all of the genes with copy number > 2\n",
    "keep_common_genes = []\n",
    "keep_common_cells = []\n",
    "keep_lineage = set()\n",
    "save_rows = []\n",
    "\n",
    "report('<pre>')\n",
    "for sublin in sublineage2cell:\n",
    "    cells = sublineage2cell[sublin]\n",
    "    #print(sublin,len(cells))\n",
    "    \n",
    "    best = {}\n",
    "    for cell in cells:\n",
    "        try:\n",
    "            cdf = cn[cell]\n",
    "            cdf = cdf[cdf >= 2]\n",
    "            best[cell] = set(cdf.index)\n",
    "            for g in cdf.keys():\n",
    "                row = [cell,sublin,ncbi2symbol[g],g,cdf[g]]\n",
    "                save_rows.append(row)\n",
    "        except Exception as e:\n",
    "            #print('Error',e)\n",
    "            continue\n",
    "            \n",
    "    \n",
    "    best_genes = list(best.values())\n",
    "    set1 = best_genes.pop()\n",
    "    all_genes = set1.union(*best_genes)\n",
    "\n",
    "    total = len(best_genes) + 1\n",
    "    common_genes = []\n",
    "    for g in all_genes:\n",
    "        gcount = 0\n",
    "        for gset in [set1,*best_genes]:\n",
    "            if g in gset:\n",
    "                gcount += 1\n",
    "        if gcount / total >= 0.8:\n",
    "            common_genes.append(g)\n",
    "        \n",
    "        \n",
    "    keep_common_genes.extend(common_genes)\n",
    "    common_symbols = [ncbi2symbol.get(g) for g in common_genes]\n",
    "    if len(common_genes) > 0:\n",
    "        keep_lineage.add(sublin)\n",
    "        keep_common_cells.extend(cells)\n",
    "        report(sublin+'; '+str(len(cells))+' cell lines; '+str(len(common_genes))+' high copy number genes')\n",
    "report('</pre>')\n",
    "        \n",
    "\n",
    "keep_common_genes = set(keep_common_genes)\n",
    "keep_common_cells = set(keep_common_cells)"
   ]
  },
  {
   "cell_type": "code",
   "execution_count": 17,
   "metadata": {},
   "outputs": [
    {
     "data": {
      "text/markdown": [
       "\n",
       "## DEMETER2 RNAi gene dependency data\n",
       "Cancer cell line genetic dependencies estimated using the DEMETER2 model. DEMETER2 is applied to three large-scale RNAi screening datasets: the Broad Institute Project Achilles, Novartis Project DRIVE, and the Marcotte et al. breast cell line dataset. The model is also applied to generate a combined dataset of gene dependencies covering a total of 712 unique cancer cell lines.\n",
       "\n",
       "<b>DepMap source file:</b> D2_combined_gene_dep_scores.csv \n",
       "\n",
       "* Data source uses CCLE names rather than DepMap cell line IDS\n",
       "* Translate the cell line names to IDS for consistency with other data sources\n",
       "* Also deal with rows in the table with multiple gene names (eg 'GTF2IP4&GTF2IP1 (100093631&2970)')\n"
      ],
      "text/plain": [
       "<IPython.core.display.Markdown object>"
      ]
     },
     "metadata": {},
     "output_type": "display_data"
    }
   ],
   "source": [
    "report('''\n",
    "## DEMETER2 RNAi gene dependency data\n",
    "Cancer cell line genetic dependencies estimated using the DEMETER2 model. DEMETER2 is applied to three large-scale RNAi screening datasets: the Broad Institute Project Achilles, Novartis Project DRIVE, and the Marcotte et al. breast cell line dataset. The model is also applied to generate a combined dataset of gene dependencies covering a total of 712 unique cancer cell lines.\n",
    "\n",
    "<b>DepMap source file:</b> D2_combined_gene_dep_scores.csv \n",
    "\n",
    "* Data source uses CCLE names rather than DepMap cell line IDS\n",
    "* Translate the cell line names to IDS for consistency with other data sources\n",
    "* Also deal with rows in the table with multiple gene names (eg 'GTF2IP4&GTF2IP1 (100093631&2970)')\n",
    "''')"
   ]
  },
  {
   "cell_type": "code",
   "execution_count": null,
   "metadata": {},
   "outputs": [
    {
     "name": "stdout",
     "output_type": "stream",
     "text": [
      "Initial number of rows in dataframe: 17309\n",
      "Splitting multigene rows...\n"
     ]
    }
   ],
   "source": [
    "# Ingest data\n",
    "d2 = get_data('d2_rnai')\n",
    "print(\"Initial number of rows in dataframe:\",d2.shape[0])\n",
    "# split rows with multuple genes\n",
    "cols = ['gene'] + list(d2.columns)\n",
    "rows = []\n",
    "\n",
    "print(\"Splitting multigene rows...\")\n",
    "for i, r in d2.iterrows():\n",
    "    if '&' in i:\n",
    "        symbols, ncbi = i.split(' ')\n",
    "        symbols = symbols.split('&')\n",
    "        ncbi = re.sub('\\(|\\)','',ncbi)\n",
    "        ncbi = ncbi.split('&')\n",
    "        assert len(symbols) == len(ncbi), \"Length mismatch\"\n",
    "        for s, symbol in enumerate(symbols):\n",
    "            gid = ncbi[s]\n",
    "            row = [symbol+' ('+gid+')'] + list(r)\n",
    "            rows.append(row)\n",
    "    else:\n",
    "        rows.append([i]+list(r))\n",
    "d2 = pd.DataFrame(data=rows,columns=cols).set_index('gene')\n",
    "print(\"Final number of rows in dataframe:\",d2.shape[0])"
   ]
  },
  {
   "cell_type": "code",
   "execution_count": null,
   "metadata": {},
   "outputs": [],
   "source": [
    "# Map cell line names to IDs\n",
    "sample_info = get_data('sample_info')\n",
    "ccle_name2id = {}\n",
    "for i, r in sample_info.iterrows():\n",
    "    ccle_name2id[r['CCLE Name']] = i \n",
    "\n",
    "cell_line_names = list(d2.columns)\n",
    "\n",
    "# Rename columns to use CCLE IDs and rows to use NCBI gene IDs\n",
    "if isinstance(list(d2.index)[0],str):\n",
    "    d2.columns = [ccle_name2id.get(i) or i for i in cell_line_names]\n",
    "    d2.index = ncbi_gene_ids(list(d2.index))\n",
    "print(d2.shape[0],\"genes\")\n",
    "print(d2.shape[1],\"cell lines\")\n",
    "d2.head()"
   ]
  },
  {
   "cell_type": "code",
   "execution_count": null,
   "metadata": {},
   "outputs": [],
   "source": [
    "report('''\n",
    "## Achilles Crispr gene dependency data\n",
    "CERES data with principle components strongly related to known batch effects removed, then shifted and scaled per cell line so the median nonessential KO effect is 0 and the median essential KO effect is -1.\n",
    "\n",
    "<b>DepMap source file:</b> Achilles_gene_effect.csv \n",
    "\n",
    "* Translate gene names (column labels) to NCBI IDS\n",
    "* Transpose rows and columns so each cell line is a column label with vertivally stacked gene data\n",
    "''')"
   ]
  },
  {
   "cell_type": "code",
   "execution_count": null,
   "metadata": {},
   "outputs": [],
   "source": [
    "achilles = get_data('achilles_crispr').T\n",
    "genes = list(achilles.index)\n",
    "achilles.index = ncbi_gene_ids(genes)\n",
    "print(achilles.shape[0],\"genes\")\n",
    "print(achilles.shape[1],\"cell lines\")\n",
    "printmd('Sample Achilles data:')\n",
    "achilles.head()"
   ]
  },
  {
   "cell_type": "code",
   "execution_count": null,
   "metadata": {},
   "outputs": [],
   "source": [
    "report('''\n",
    "### How many cell lines and genes are shared between D2 (RNAi) and Achilles (Crispr) gene dependency data sets?\n",
    "''')"
   ]
  },
  {
   "cell_type": "code",
   "execution_count": null,
   "metadata": {},
   "outputs": [],
   "source": [
    "d2_cells = set(d2.columns)\n",
    "d2_genes = set(d2.index)\n",
    "ac_cells = set(achilles.columns)\n",
    "ac_genes = set(achilles.index)\n",
    "shared_cells = d2_cells.intersection(ac_cells)\n",
    "shared_genes = d2_genes.intersection(ac_genes)\n",
    "report('<pre>')\n",
    "report(str(len(shared_cells))+\" cell lines are shared\")\n",
    "report(str(len(shared_genes))+\" genes are shared\")\n",
    "report('</pre>')"
   ]
  },
  {
   "cell_type": "markdown",
   "metadata": {},
   "source": [
    "### How do RNAi and Crispr screen compare for gene dependency score?"
   ]
  },
  {
   "cell_type": "code",
   "execution_count": null,
   "metadata": {},
   "outputs": [],
   "source": [
    "# filter shared genes to just include our high copy number genes\n",
    "my_d2 = d2.copy()\n",
    "keep_genes = set()\n",
    "for g in shared_genes:\n",
    "    if g in keep_common_genes:\n",
    "        keep_genes.add(g)\n",
    "\n",
    "keep_cells = set()\n",
    "for c in shared_cells:\n",
    "    if c in keep_common_cells:\n",
    "        keep_cells.add(c)\n",
    "        \n",
    "d2_s = my_d2[keep_cells]\n",
    "d2_s = d2_s.T[keep_genes].T\n",
    "ac_s = achilles[keep_cells]\n",
    "ac_s = ac_s.T[keep_genes].T\n",
    "\n",
    "\n",
    "d2_data = d2_s.to_numpy().flatten()\n",
    "ac_data = ac_s.to_numpy().flatten()\n",
    "\n",
    "# remove NaN and Inf\n",
    "keep_d2 = []\n",
    "keep_ac = []\n",
    "for i, num1 in enumerate(d2_data):\n",
    "    num2 = ac_data[i]\n",
    "    if not np.isfinite(num1) and np.isfinite(num2):\n",
    "        continue\n",
    "    keep_d2.append(num1)\n",
    "    keep_ac.append(num2)\n",
    "d2_data = keep_d2\n",
    "ac_data = keep_ac    "
   ]
  },
  {
   "cell_type": "code",
   "execution_count": null,
   "metadata": {},
   "outputs": [],
   "source": [
    "# save the data\n",
    "keep_saved_rows = []\n",
    "for srow in save_rows:\n",
    "    cell, lineage, symbol, gene, copynum = srow\n",
    "    try:\n",
    "        adata = ac_s.loc[gene]\n",
    "        adata = adata[cell]\n",
    "    except:\n",
    "        continue\n",
    "    try:\n",
    "        ddata = d2_s.loc[gene]\n",
    "        ddata = ddata[cell]\n",
    "    except:\n",
    "        ddata = np.nan\n",
    "    \n",
    "    # only keep rows with negative gene deendency\n",
    "    if adata > 0:\n",
    "        continue\n",
    "\n",
    "    is_hotspot = gene in hotspot_genes\n",
    "    \n",
    "    try:\n",
    "        exp_data = exp.loc[gene]\n",
    "        exp_data = exp_data[cell]\n",
    "        is_expressed = exp_data > 0\n",
    "    except:\n",
    "        is_expressed = False\n",
    "    \n",
    "    keep_saved_rows.append(srow+[adata,ddata,is_hotspot,is_expressed])\n",
    "    \n"
   ]
  },
  {
   "cell_type": "code",
   "execution_count": null,
   "metadata": {},
   "outputs": [],
   "source": [
    "cols = ['DepMap_ID','sublineage','HUGO_symbol','Entrez_ID','copy_number',\n",
    "        'achilles_gene_dep','rnai_gene_dep','hotspot','rnaseq_expressed']\n",
    "candidates = pd.DataFrame(data=keep_saved_rows,columns=cols)\n",
    "candidates.head()"
   ]
  },
  {
   "cell_type": "code",
   "execution_count": null,
   "metadata": {},
   "outputs": [],
   "source": [
    "%matplotlib inline\n",
    "plt.scatter(d2_data,ac_data)\n",
    "slope, intercept, r_value, p_value, std_err = stats.linregress(d2_data,ac_data)\n",
    "plt.xlabel('Crispr (Achilles)')\n",
    "plt.ylabel('RNAi (DEMETER 2)')\n",
    "plt.title('Gene dependency')\n",
    "plt.text(-2.6,2.1,'slope='+'%.3f'%slope)\n",
    "plt.text(-2.6,1.8,'r-squared ='+'%.3f' %r_value)\n",
    "plt.text(-2.6,1.5,'p-value ='+'%.3f'%p_value)\n",
    "plt.savefig('plots/gene_dependency.png',dpi=100)\n",
    "plt.close()\n",
    "\n",
    "report('<img src=\"plots/gene_dependency.png\" style=\"float:left\">')\n",
    "report('* significant p-value means reject H0 that slope == 0')\n",
    "report('* We will use the Achilles (Crispr) gene dependency score and check for positive agreement with RNAi later')"
   ]
  },
  {
   "cell_type": "code",
   "execution_count": null,
   "metadata": {},
   "outputs": [],
   "source": [
    "keep_genes = set()\n",
    "for g in ac_genes:\n",
    "    if g in keep_common_genes:\n",
    "        keep_genes.add(g)\n",
    "\n",
    "keep_cells = set()\n",
    "for c in ac_cells:\n",
    "    if c in keep_common_cells:\n",
    "        keep_cells.add(c)\n",
    "keep_cells = list(keep_cells)\n",
    "        \n",
    "ac_s = achilles[keep_cells]\n",
    "ac_s = ac_s.T[keep_genes].T\n",
    "display(cn)\n",
    "cn_s = cn[keep_cells]\n",
    "cn_s = cn_s.T[keep_genes].T\n",
    "\n",
    "ac_data = ac_s.to_numpy().flatten()\n",
    "cn_data = cn_s.to_numpy().flatten()\n",
    "\n",
    "# remove NaN and Inf\n",
    "keep_ac = []\n",
    "keep_cn = []\n",
    "for i, num1 in enumerate(ac_data):\n",
    "    num2 = cn_data[i]\n",
    "    if not np.isfinite(num1) and np.isfinite(num2):\n",
    "        continue\n",
    "    keep_ac.append(num1)\n",
    "    keep_cn.append(num2)\n",
    "    \n",
    "ac_data = keep_ac\n",
    "cn_data = keep_cn  \n",
    "cn_orig = cn_data\n",
    "ac_orig = ac_data"
   ]
  },
  {
   "cell_type": "code",
   "execution_count": null,
   "metadata": {},
   "outputs": [],
   "source": [
    "report('''\n",
    "### Sanity checking with ERBB2 (2064)\n",
    "Evaluating breast cancer lineages where at least one cell line had copy number > 2:\n",
    "* Is ERB2B in the hotspot gene set?\n",
    "* We expect ERBB2 to have high copy number in breast cancer lineages\n",
    "  ** What is the mean ERB2B copy number in breast cancers?\n",
    "* The gene dependency score should be < 0\n",
    "  ** What is the mean gene dependency score in breast cancers?\n",
    "''')"
   ]
  },
  {
   "cell_type": "code",
   "execution_count": null,
   "metadata": {},
   "outputs": [],
   "source": [
    "report(\"ERBB2 is in hotspot gene set? <b>\"+str(2064 in hotspot_genes).upper()+\"</b>\")\n",
    "report('<pre>')\n",
    "\n",
    "erb = cn.loc[2064]\n",
    "nums = {}\n",
    "is_high = set()\n",
    "for c in cell2sublineage:\n",
    "    lin = cell2sublineage.get(c)\n",
    "    if lin is None or erb.get(c) is None:\n",
    "        continue\n",
    "        \n",
    "    if 'breast' in lin:\n",
    "        if nums.get(lin) is None:\n",
    "            nums[lin] = []\n",
    "        nums[lin].append(erb[c])\n",
    "        if erb[c] >= 2:\n",
    "            is_high.add(lin)\n",
    "            #report(','.join([c,lin,str('%.2f'%erb[c])]))\n",
    "for lin in nums:\n",
    "    if lin in is_high:\n",
    "        report(\"ERBB2 mean copy number for \"+lin+\" (\"+str(len(nums[lin]))+\" cell lines): \"+str('%.2f'%np.mean(nums[lin])))\n",
    "        \n",
    "erb_gd = achilles.loc[2064]\n",
    "nums = {}\n",
    "for c in erb_gd.keys():\n",
    "    lin = cell2sublineage.get(c)\n",
    "    if lin is None or not 'breast' in lin:\n",
    "        continue\n",
    "        \n",
    "    if nums.get(lin) is None:\n",
    "        nums[lin] = []\n",
    "    nums[lin].append(erb_gd[c])\n",
    "\n",
    "for lin in nums:\n",
    "    #if lin in is_high:\n",
    "    report(\"ERBB2 mean gene dependency for \"+lin+\" (\"+str(len(nums[lin]))+\" cell lines): \"+str('%.2f'%np.mean(nums[lin])))\n",
    "        \n",
    "report('</pre>')\n",
    "    "
   ]
  },
  {
   "cell_type": "code",
   "execution_count": null,
   "metadata": {},
   "outputs": [],
   "source": [
    "report('''\n",
    "## Lineages with observed high copy number genes\n",
    "\n",
    "* Go through the list of lineages with high copy number genes\n",
    "* Plot gene dependency vs. copy number\n",
    "* Highlight genes/cell-lines with copy number > 2 and gene dependency < 0 for specific lineages\n",
    "\n",
    "### Copy number vs gene dependency\n",
    "''')"
   ]
  },
  {
   "cell_type": "code",
   "execution_count": null,
   "metadata": {},
   "outputs": [],
   "source": [
    "for sublin in keep_lineage:\n",
    "    cells = sublineage2cell[sublin]\n",
    "    \n",
    "    best = {}\n",
    "    genes = set()\n",
    "    for c in cells:\n",
    "        try:\n",
    "            cdf = cn[c]\n",
    "            cdf = cdf[cdf >= 2]\n",
    "            best[c] = set(cdf.index)\n",
    "            for g in best[c]:\n",
    "                genes.add(g)\n",
    "                \n",
    "        except Exception as e:\n",
    "            #print('Error',e)\n",
    "            continue\n",
    "    \n",
    "    if len(best) == 0:\n",
    "        continue\n",
    "    \n",
    "    keep_cells = set()\n",
    "    for c in ac_cells:\n",
    "        if c in cells:\n",
    "            keep_cells.add(c)\n",
    "    if len(keep_cells) == 0:\n",
    "        #print(\"no shared cells\")\n",
    "        continue\n",
    "\n",
    "    keep_genes = set()\n",
    "    for g in ac_genes:\n",
    "        if g in genes:\n",
    "            keep_genes.add(g)\n",
    "    if len(keep_genes) == 0:\n",
    "        print(\"no shared genes\")\n",
    "        continue\n",
    "    \n",
    "    try:\n",
    "        ac_s = achilles[keep_cells]\n",
    "        ac_s = ac_s.T[keep_genes].T\n",
    "        cn_s = cn[keep_cells]\n",
    "        cn_s = cn_s.T[keep_genes].T\n",
    "    except:\n",
    "        continue\n",
    "\n",
    "    ac_data = ac_s.to_numpy().flatten()\n",
    "    cn_data = cn_s.to_numpy().flatten()\n",
    "    \n",
    "    # remove NaN and Inf\n",
    "    keep_ac = []\n",
    "    keep_cn = []\n",
    "    for i, d1 in enumerate(ac_data):\n",
    "        d2 = cn_data[i]\n",
    "        # Skip gene dependency > 0\n",
    "        if d1 >= 0:\n",
    "            continue\n",
    "        # Skip copy number < 2\n",
    "        if d2 < 2:\n",
    "            continue\n",
    "        \n",
    "        if not np.isfinite(d1) and np.isfinite(d2):\n",
    "            continue\n",
    "        keep_ac.append(d1)\n",
    "        keep_cn.append(d2)\n",
    "    \n",
    "    ac_data = keep_ac\n",
    "    cn_data = keep_cn  \n",
    "    \n",
    "    plt.scatter(cn_orig,ac_orig,c='silver',label='other lineages')\n",
    "    plt.scatter(cn_data,ac_data,c='r',label='this lineage: gene dep.<0; copy num >= 2')\n",
    "    plt.legend()\n",
    "    outfile = 'plots/'+sublin+'.png'\n",
    "    plt.xlabel('copy number')\n",
    "    plt.ylabel('Achilles gene dependency')\n",
    "    plt.title(sublin)\n",
    "    plt.savefig(outfile,dpi=100)\n",
    "    plt.close()\n",
    "    report('<img src=\"'+outfile+'\" style=\"float:left\">')"
   ]
  },
  {
   "cell_type": "code",
   "execution_count": null,
   "metadata": {},
   "outputs": [],
   "source": [
    "# save the table of candidates to an HTML file\n",
    "table = candidates.to_html(index=False)\n",
    "table = table.replace('<table','<table id=\"candidates\"')\n",
    "\n",
    "with open('../_includes/template.html','r') as html_in:\n",
    "    html = html_in.read()\n",
    "\n",
    "html = html.replace('TABLE',table)\n",
    "\n",
    "with open('../_includes/candidates.html','w') as html_out:\n",
    "    html_out.write(html)"
   ]
  },
  {
   "cell_type": "code",
   "execution_count": null,
   "metadata": {},
   "outputs": [],
   "source": [
    "report('## Candidate target genes')\n",
    "report('''\n",
    "* All genes in this table have copy number > 2 and Achilles gene dependency < 0 for at least 80% of the cell lines in 1 cell lineage'\n",
    "* Other data for cross-validation:\n",
    "  * RNAi gene dependency score\n",
    "  * Whether the gene is a TCGA or COSMIC mutation hotspot\n",
    "  * Whether the gene has > 0 TPM RNASeq expression\n",
    "  \n",
    "{% include candidates.html %}\n",
    "''')\n",
    "\n",
    "\n"
   ]
  },
  {
   "cell_type": "code",
   "execution_count": null,
   "metadata": {},
   "outputs": [],
   "source": [
    "genes = candidates[['HUGO_symbol','Entrez_ID']].drop_duplicates()\n",
    "pathway_info = get_pathway_info()\n",
    "for symbol, gene in genes.values:\n",
    "    gene = str(gene)\n",
    "    with open('../reports/template.html','r') as html_in:\n",
    "        html = html_in.read()\n",
    "    html = html.replace('SYMBOL',symbol)\n",
    "    \n",
    "    pathway = pathway_info.get(gene)\n",
    "    if pathway is not None:\n",
    "        pid, url, name = pathway\n",
    "        html = html.replace('PNAME',name)\n",
    "        html = html.replace('PATHWAY',pid)\n",
    "        html = html.replace('START_HIDE','')\n",
    "        html = html.replace('END_HIDE','')\n",
    "    else:\n",
    "        html = html.replace('START_HIDE','<!--')\n",
    "        html = html.replace('END_HIDE','-->')\n",
    "        \n",
    "    with open('../reports/'+symbol+'.md','w') as html_out:\n",
    "        html_out.write(html)\n",
    "        "
   ]
  },
  {
   "cell_type": "code",
   "execution_count": null,
   "metadata": {},
   "outputs": [],
   "source": [
    "report('## Gene information')\n",
    "for g in set(candidates.HUGO_symbol):\n",
    "    report('* <a href=\"reports/'+g+'.html\">'+g+'</a>')"
   ]
  },
  {
   "cell_type": "code",
   "execution_count": null,
   "metadata": {},
   "outputs": [],
   "source": []
  }
 ],
 "metadata": {
  "kernelspec": {
   "display_name": "Python 3",
   "language": "python",
   "name": "python3"
  },
  "language_info": {
   "codemirror_mode": {
    "name": "ipython",
    "version": 3
   },
   "file_extension": ".py",
   "mimetype": "text/x-python",
   "name": "python",
   "nbconvert_exporter": "python",
   "pygments_lexer": "ipython3",
   "version": "3.7.4"
  }
 },
 "nbformat": 4,
 "nbformat_minor": 4
}
