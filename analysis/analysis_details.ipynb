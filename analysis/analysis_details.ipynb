{
 "cells": [
  {
   "cell_type": "markdown",
   "metadata": {},
   "source": [
    "# DepMap Analysis"
   ]
  },
  {
   "cell_type": "code",
   "execution_count": 1,
   "metadata": {},
   "outputs": [],
   "source": [
    "from __future__ import print_function\n",
    "import pandas as pd\n",
    "import numpy as np\n",
    "import os, sys, re, pickle, wget, math\n",
    "from intermine.webservice import Service\n",
    "from IPython.display import Markdown, display\n",
    "import matplotlib.pyplot as plt\n",
    "import scipy.stats as stats\n",
    "\n",
    "# Load data direct from source\n",
    "class A(object):\n",
    "    data = {}\n",
    "    url = {}\n",
    "    url['expression'] = 'https://ndownloader.figshare.com/files/16757690'\n",
    "    url['sample_info'] = 'https://ndownloader.figshare.com/files/16757723'\n",
    "    url['copy_number'] = 'https://ndownloader.figshare.com/files/17857886'\n",
    "    url['mutations'] = 'https://ndownloader.figshare.com/files/16757702'\n",
    "    url['achilles_crispr'] = 'https://ndownloader.figshare.com/files/16757666'\n",
    "    url['d2_rnai'] = 'https://ndownloader.figshare.com/files/13515395'\n",
    "    url['sensitivity'] = 'https://ndownloader.figshare.com/files/17008628'\n",
    "    url['mfr'] = 'http://bmbl.sdstate.edu/MFR/data/resource%20data/tr_dv_ts.dataset.zip'\n",
    "    url['reactome'] = 'https://reactome.org/download/current/NCBI2Reactome.txt'\n",
    "    summary = '../README.md'\n",
    "    \n",
    "# Wipe the slate clean on the analysis summary\n",
    "os.system(\"echo '' > \"+A.summary)\n",
    "    \n",
    "def printmd(string):\n",
    "    \"\"\"Prints formatted markdown text\"\"\"\n",
    "    display(Markdown(string))\n",
    "    \n",
    "def report(text,silent=False):\n",
    "    \"\"\"Print markdown in this notebook and saves markdown-only summary in a file\"\"\"\n",
    "    if not silent:\n",
    "        printmd(text)\n",
    "    \n",
    "    f = open(A.summary,'a')\n",
    "    f.write(text+'\\n')\n",
    "    \n",
    "def get_gene_descriptions():\n",
    "    \"\"\"Load gene names and descriptions from humanmine (http://www.humanmine.org),\n",
    "    an integrated database of human genome information.  Use cached data if available\"\"\"\n",
    "    \n",
    "    archive = 'data/gene_info.p'\n",
    "    if os.path.exists(archive):\n",
    "        df = pd.read_pickle(archive)\n",
    "        return df\n",
    "    \n",
    "    service = Service(\"https://www.humanmine.org/humanmine/service\")\n",
    "    query = service.new_query(\"Gene\")\n",
    "    cols = [\"primaryIdentifier\", \"symbol\", \"briefDescription\", \"description\",\"proteins.uniprotAccession\"]\n",
    "    query.add_view(*cols)\n",
    "    query.add_constraint(\"organism.taxonId\", \"=\", \"9606\", code = \"A\")    \n",
    "    df_rows = []\n",
    "\n",
    "    for row in query.rows():\n",
    "        df_rows.append(\n",
    "            [row[\"primaryIdentifier\"], \n",
    "             row[\"symbol\"], \n",
    "             row[\"briefDescription\"], \n",
    "             row[\"description\"],\n",
    "             row[\"proteins.uniprotAccession\"]\n",
    "            ])\n",
    "\n",
    "    df = pd.DataFrame(data=df_rows,columns=cols)\n",
    "    df.to_pickle(archive)\n",
    "    return df\n",
    "    \n",
    "def get_data(key):\n",
    "    \"\"\"Load input data.\n",
    "    Arguments: key for the data source (eg: expression, sample_info...)\n",
    "    1) If the data is cached on the filesystem, load and return the dataframe\n",
    "    2) Otherwise, load the data from the source URL, cache, return the dataframe\n",
    "    \"\"\"\n",
    "    \n",
    "    data_cache = 'data/'+key+'.p'\n",
    "    if os.path.exists(data_cache):\n",
    "        df = pd.read_pickle(data_cache)\n",
    "    else:\n",
    "        print(\"Downloading\",key,\"from source\")\n",
    "        df = pd.read_csv(A.url[key],low_memory=False,index_col=0)\n",
    "        df.to_pickle(data_cache)\n",
    "        \n",
    "    A.data[key] = df    \n",
    "    return df\n",
    "\n",
    "def ncbi_gene_ids(genes):\n",
    "    \"\"\"Converts gene name \"symbol (ncbi_id)\"\n",
    "    to integer NCBI ID.  Also catch missing associations\n",
    "    for NCBI gene ID/symbol\n",
    "    \"\"\"\n",
    "    ncbi_cols = []\n",
    "    for g in genes:\n",
    "        match = re.search('(\\S+)\\s+\\((\\d+)\\)',g)\n",
    "        if match:\n",
    "            s = match.group(1)\n",
    "            g = match.group(2)\n",
    "            if not ncbi2symbol.get(int(g)):\n",
    "                ncbi2symbol[int(g)] = s\n",
    "                symbol2ncbi[s] = int(g)\n",
    "        else:\n",
    "            print(\"No match\",g)\n",
    "        ncbi_cols.append(int(g))\n",
    "        \n",
    "\n",
    "    return ncbi_cols\n",
    "\n",
    "def get_pathway_info():\n",
    "    # Map NCBI IDs to reactome pathways\n",
    "    # File downloaded from https://reactome.org/download/current/NCBI2Reactome.txt\n",
    "    archive = 'data/pathway_info.p'\n",
    "    \n",
    "    if os.path.exists(archive):\n",
    "        pathway_info = pickle.load(open(archive,'rb'))\n",
    "        return pathway_info\n",
    "    \n",
    "    pathway_info = {}\n",
    "    if not os.path.exists('data/NCBI2Reactome.txt'):\n",
    "        wget.download(A.url['reactome'],out='data/NCBI2Reactome.txt')\n",
    "    with open('data/NCBI2Reactome.txt') as n2r:\n",
    "        for line in n2r.readlines():\n",
    "            ncbi, pathway_id, url, pathway_name, type, species = line.strip().split('\\t')\n",
    "            # only human pathways\n",
    "            if species != 'Homo sapiens':\n",
    "                continue\n",
    "            # only curated pathways\n",
    "            if type == 'IEA':\n",
    "                continue\n",
    "            pathway_info[ncbi] = [pathway_id, url, pathway_name]\n",
    "\n",
    "    pickle.dump(pathway_info,open(archive,'wb'))\n",
    "    return pathway_info\n"
   ]
  },
  {
   "cell_type": "code",
   "execution_count": 2,
   "metadata": {},
   "outputs": [
    {
     "data": {
      "text/markdown": [
       "\n",
       "# Sample analysis of Cancer Dependency Map (DepMap) data \n",
       "## Request\n",
       "* Identify the most frequent genetic alterations (could be mutations or copy number variations) in the cancer cell lines\n",
       "* Match them with the best genetic dependencies that could be used for drug development for the cancers that carry those mutations\n",
       "* Take into account the lineage of cancer cell lines (certain mutations/CNVs may be restricted to a specific lineage)\n",
       "\n",
       "## Resources\n",
       "### DepMap (https://depmap.org/portal) Data \n",
       "* Cell line metadata\n",
       "* Expression (RNASeq)\n",
       "* Copy number variation\n",
       "* Mutations\n",
       "* Genetic dependency\n",
       "  * Crispr (Achilles)\n",
       "  * RNAi (DEMETER2)\n",
       "  \n",
       "<b>Citations:</b> \n",
       "* Jordan G. Bryan, John M. Krill-Burger, Thomas M. Green, Francisca Vazquez, Jesse S. Boehm, Todd R. Golub, William C. Hahn, David E. Root, Aviad Tsherniak. (2018). Improved estimation of cancer dependencies from large-scale RNAi screens using model-based normalization and data integration. Nature Communications 9, 1. https://doi.org/10.1038/s41467-018-06916-5</font>\n",
       "* DepMap, Broad (2019): DepMap 19Q3 Public. figshare. Dataset doi:10.6084/m9.figshare.9201770.v1.\n",
       "* Robin M. Meyers, Jordan G. Bryan, James M. McFarland, Barbara A. Weir, ... David E. Root, William C. Hahn, Aviad Tsherniak. Computational correction of copy number effect improves specificity of CRISPR-Cas9 essentiality screens in cancer cells. Nature Genetics 2017 October 49:1779–1784. doi:10.1038/ng.3984\n",
       "\n",
       "\n",
       "### Jupyter (https://jupyter.org/)\n",
       "* Python programming framework for analysis prototyping and reporting\n",
       "\n",
       "### GitHub (https://github.com/)\n",
       "* Revision control for Python code\n",
       "* Reporting mechanism for analysis summary and details\n",
       "\n",
       "\n",
       "## Analysis overview\n",
       "1. Aggregate data from depmap.org\n",
       "2. Deal with various data format issues\n",
       "3. Map cell lines to cancer lineages and sublineages\n",
       "4. Capture low-hanging fruit genes with high copy number and (Achilles Crispr) gene dependency scores < 0\n",
       "5. Sanity check filters using ERBB2\n",
       "6. Compare RNAi and Crispr data fo gene dependency\n",
       "7. Plot copy number vs. gene dependency by lineage\n",
       "8. Generate list of candidate genes as a sortable table\n",
       "9. Add cross-validation filtering data for RNAi, expression, TGCA/COSMIC mutation hotspots\n",
       "10. target gene info pages\n",
       "\n",
       "## Next steps\n",
       "1. Improve thresholds (cutoffs for copy number, gene dependency, expression TPMs, etc.\n",
       "2. Integrate chemical sensitivity data\n",
       "3. Filter genes that are already known drug targets (identify truly novel targets)\n",
       "\n",
       "<a href=\"analysis/anaysis_details.html\">Details...</a>\n",
       "\n"
      ],
      "text/plain": [
       "<IPython.core.display.Markdown object>"
      ]
     },
     "metadata": {},
     "output_type": "display_data"
    }
   ],
   "source": [
    "report('''\n",
    "# Sample analysis of Cancer Dependency Map (DepMap) data \n",
    "## Request\n",
    "* Identify the most frequent genetic alterations (could be mutations or copy number variations) in the cancer cell lines\n",
    "* Match them with the best genetic dependencies that could be used for drug development for the cancers that carry those mutations\n",
    "* Take into account the lineage of cancer cell lines (certain mutations/CNVs may be restricted to a specific lineage)\n",
    "\n",
    "## Resources\n",
    "### DepMap (https://depmap.org/portal) Data \n",
    "* Cell line metadata\n",
    "* Expression (RNASeq)\n",
    "* Copy number variation\n",
    "* Mutations\n",
    "* Genetic dependency\n",
    "  * Crispr (Achilles)\n",
    "  * RNAi (DEMETER2)\n",
    "  \n",
    "<b>Citations:</b> \n",
    "* Jordan G. Bryan, John M. Krill-Burger, Thomas M. Green, Francisca Vazquez, Jesse S. Boehm, Todd R. Golub, William C. Hahn, David E. Root, Aviad Tsherniak. (2018). Improved estimation of cancer dependencies from large-scale RNAi screens using model-based normalization and data integration. Nature Communications 9, 1. https://doi.org/10.1038/s41467-018-06916-5</font>\n",
    "* DepMap, Broad (2019): DepMap 19Q3 Public. figshare. Dataset doi:10.6084/m9.figshare.9201770.v1.\n",
    "* Robin M. Meyers, Jordan G. Bryan, James M. McFarland, Barbara A. Weir, ... David E. Root, William C. Hahn, Aviad Tsherniak. Computational correction of copy number effect improves specificity of CRISPR-Cas9 essentiality screens in cancer cells. Nature Genetics 2017 October 49:1779–1784. doi:10.1038/ng.3984\n",
    "\n",
    "\n",
    "### Jupyter (https://jupyter.org/)\n",
    "* Python programming framework for analysis prototyping and reporting\n",
    "\n",
    "### GitHub (https://github.com/)\n",
    "* Revision control for Python code\n",
    "* Reporting mechanism for analysis summary and details\n",
    "\n",
    "\n",
    "## Analysis overview\n",
    "1. Aggregate data from depmap.org\n",
    "2. Deal with various data format issues\n",
    "3. Map cell lines to cancer lineages and sublineages\n",
    "4. Capture low-hanging fruit genes with high copy number and (Achilles Crispr) gene dependency scores < 0\n",
    "5. Sanity check filters using ERBB2\n",
    "6. Compare RNAi and Crispr data fo gene dependency\n",
    "7. Plot copy number vs. gene dependency by lineage\n",
    "8. Generate list of candidate genes as a sortable table\n",
    "9. Add cross-validation filtering data for RNAi, expression, TGCA/COSMIC mutation hotspots\n",
    "10. target gene info pages\n",
    "\n",
    "## Next steps\n",
    "1. Improve thresholds (cutoffs for copy number, gene dependency, expression TPMs, etc.\n",
    "2. Integrate chemical sensitivity data\n",
    "3. Filter genes that are already known drug targets (identify truly novel targets)\n",
    "\n",
    "<a href=\"analysis/anaysis_details.html\">Details...</a>\n",
    "\n",
    "''')"
   ]
  },
  {
   "cell_type": "code",
   "execution_count": 3,
   "metadata": {},
   "outputs": [
    {
     "data": {
      "text/markdown": [
       "\n",
       "## Get gene descriptions, etc.\n",
       "Use data from humanmine (http://www.humanmine.org/) to map NCBI gene IDs to name, summary, symbol, uniprot\n"
      ],
      "text/plain": [
       "<IPython.core.display.Markdown object>"
      ]
     },
     "metadata": {},
     "output_type": "display_data"
    }
   ],
   "source": [
    "printmd('''\n",
    "## Get gene descriptions, etc.\n",
    "Use data from humanmine (http://www.humanmine.org/) to map NCBI gene IDs to name, summary, symbol, uniprot\n",
    "''')"
   ]
  },
  {
   "cell_type": "code",
   "execution_count": 4,
   "metadata": {},
   "outputs": [
    {
     "data": {
      "text/markdown": [
       "sample gene info:"
      ],
      "text/plain": [
       "<IPython.core.display.Markdown object>"
      ]
     },
     "metadata": {},
     "output_type": "display_data"
    },
    {
     "data": {
      "text/html": [
       "<div>\n",
       "<style scoped>\n",
       "    .dataframe tbody tr th:only-of-type {\n",
       "        vertical-align: middle;\n",
       "    }\n",
       "\n",
       "    .dataframe tbody tr th {\n",
       "        vertical-align: top;\n",
       "    }\n",
       "\n",
       "    .dataframe thead th {\n",
       "        text-align: right;\n",
       "    }\n",
       "</style>\n",
       "<table border=\"1\" class=\"dataframe\">\n",
       "  <thead>\n",
       "    <tr style=\"text-align: right;\">\n",
       "      <th></th>\n",
       "      <th>primaryIdentifier</th>\n",
       "      <th>symbol</th>\n",
       "      <th>briefDescription</th>\n",
       "      <th>description</th>\n",
       "      <th>proteins.uniprotAccession</th>\n",
       "    </tr>\n",
       "  </thead>\n",
       "  <tbody>\n",
       "    <tr>\n",
       "      <th>0</th>\n",
       "      <td>2632</td>\n",
       "      <td>GBE1</td>\n",
       "      <td>1,4-alpha-glucan branching enzyme 1</td>\n",
       "      <td>The protein encoded by this gene is a glycogen...</td>\n",
       "      <td>Q04446</td>\n",
       "    </tr>\n",
       "    <tr>\n",
       "      <th>1</th>\n",
       "      <td>3248</td>\n",
       "      <td>HPGD</td>\n",
       "      <td>15-hydroxyprostaglandin dehydrogenase</td>\n",
       "      <td>This gene encodes a member of the short-chain ...</td>\n",
       "      <td>E9PBZ2</td>\n",
       "    </tr>\n",
       "    <tr>\n",
       "      <th>2</th>\n",
       "      <td>3248</td>\n",
       "      <td>HPGD</td>\n",
       "      <td>15-hydroxyprostaglandin dehydrogenase</td>\n",
       "      <td>This gene encodes a member of the short-chain ...</td>\n",
       "      <td>P15428</td>\n",
       "    </tr>\n",
       "    <tr>\n",
       "      <th>3</th>\n",
       "      <td>3248</td>\n",
       "      <td>HPGD</td>\n",
       "      <td>15-hydroxyprostaglandin dehydrogenase</td>\n",
       "      <td>This gene encodes a member of the short-chain ...</td>\n",
       "      <td>P15428</td>\n",
       "    </tr>\n",
       "    <tr>\n",
       "      <th>4</th>\n",
       "      <td>3248</td>\n",
       "      <td>HPGD</td>\n",
       "      <td>15-hydroxyprostaglandin dehydrogenase</td>\n",
       "      <td>This gene encodes a member of the short-chain ...</td>\n",
       "      <td>P15428</td>\n",
       "    </tr>\n",
       "  </tbody>\n",
       "</table>\n",
       "</div>"
      ],
      "text/plain": [
       "  primaryIdentifier symbol                       briefDescription  \\\n",
       "0              2632   GBE1    1,4-alpha-glucan branching enzyme 1   \n",
       "1              3248   HPGD  15-hydroxyprostaglandin dehydrogenase   \n",
       "2              3248   HPGD  15-hydroxyprostaglandin dehydrogenase   \n",
       "3              3248   HPGD  15-hydroxyprostaglandin dehydrogenase   \n",
       "4              3248   HPGD  15-hydroxyprostaglandin dehydrogenase   \n",
       "\n",
       "                                         description proteins.uniprotAccession  \n",
       "0  The protein encoded by this gene is a glycogen...                    Q04446  \n",
       "1  This gene encodes a member of the short-chain ...                    E9PBZ2  \n",
       "2  This gene encodes a member of the short-chain ...                    P15428  \n",
       "3  This gene encodes a member of the short-chain ...                    P15428  \n",
       "4  This gene encodes a member of the short-chain ...                    P15428  "
      ]
     },
     "metadata": {},
     "output_type": "display_data"
    },
    {
     "name": "stdout",
     "output_type": "stream",
     "text": [
      "Done mapping gene info\n"
     ]
    }
   ],
   "source": [
    "gd = get_gene_descriptions()\n",
    "printmd('sample gene info:')\n",
    "display(gd.head())\n",
    "ncbi2name    = {}\n",
    "ncbi2symbol  = {}\n",
    "symbol2ncbi  = {}\n",
    "ncbi2desc    = {}\n",
    "ncbi2uniprot = {}\n",
    "uniprot2ncbi = {}\n",
    "\n",
    "for i, r in gd.iterrows():\n",
    "    ncbi, symbol, name, description, uniprot = list(r)\n",
    "    ncbi = int(ncbi)\n",
    "    ncbi2name[ncbi] = name\n",
    "    ncbi2symbol[ncbi] = symbol\n",
    "    ncbi2desc[ncbi] = description\n",
    "    \n",
    "    # ncbi <-> uniprot can be 1:many\n",
    "    if ncbi2uniprot.get(ncbi) is None:\n",
    "        ncbi2uniprot[ncbi] = set()\n",
    "    ncbi2uniprot[ncbi].add(uniprot)\n",
    "    uniprot2ncbi[uniprot] = ncbi\n",
    "    \n",
    "print(\"Done mapping gene info\")"
   ]
  },
  {
   "cell_type": "code",
   "execution_count": 5,
   "metadata": {},
   "outputs": [
    {
     "data": {
      "text/markdown": [
       "\n",
       "## Aggregate CCLE cell lines by lineage\n",
       "<b>DepMap source file:</b> sample_info.csv\n",
       "* Group all cell lines (CCLE cell line IDs) by main (parent) lineage\n",
       "* If a lineage has > 1 defined sublineages, also aggregate cell lines by sublineage (eg: leukemia -> AML)\n"
      ],
      "text/plain": [
       "<IPython.core.display.Markdown object>"
      ]
     },
     "metadata": {},
     "output_type": "display_data"
    }
   ],
   "source": [
    "report('''\n",
    "## Aggregate CCLE cell lines by lineage\n",
    "<b>DepMap source file:</b> sample_info.csv\n",
    "* Group all cell lines (CCLE cell line IDs) by main (parent) lineage\n",
    "* If a lineage has > 1 defined sublineages, also aggregate cell lines by sublineage (eg: leukemia -> AML)\n",
    "''')"
   ]
  },
  {
   "cell_type": "code",
   "execution_count": 6,
   "metadata": {},
   "outputs": [
    {
     "data": {
      "text/markdown": [
       "<pre>"
      ],
      "text/plain": [
       "<IPython.core.display.Markdown object>"
      ]
     },
     "metadata": {},
     "output_type": "display_data"
    },
    {
     "data": {
      "text/markdown": [
       "Number of cell lines: 1429"
      ],
      "text/plain": [
       "<IPython.core.display.Markdown object>"
      ]
     },
     "metadata": {},
     "output_type": "display_data"
    },
    {
     "data": {
      "text/markdown": [
       "Number of lineages: 33"
      ],
      "text/plain": [
       "<IPython.core.display.Markdown object>"
      ]
     },
     "metadata": {},
     "output_type": "display_data"
    },
    {
     "data": {
      "text/markdown": [
       "Number of lineages with sub-lineages: 16"
      ],
      "text/plain": [
       "<IPython.core.display.Markdown object>"
      ]
     },
     "metadata": {},
     "output_type": "display_data"
    },
    {
     "data": {
      "text/markdown": [
       "Number of sub-lineages 61"
      ],
      "text/plain": [
       "<IPython.core.display.Markdown object>"
      ]
     },
     "metadata": {},
     "output_type": "display_data"
    },
    {
     "data": {
      "text/markdown": [
       "</pre>"
      ],
      "text/plain": [
       "<IPython.core.display.Markdown object>"
      ]
     },
     "metadata": {},
     "output_type": "display_data"
    }
   ],
   "source": [
    "sample_info = get_data('sample_info')\n",
    "lineages = set(sample_info.lineage.dropna())\n",
    "\n",
    "lineage2cell    = {}\n",
    "sublineage2cell = {}\n",
    "cell2lineage    = {}\n",
    "cell2sublineage = {}\n",
    "has_sub = set()\n",
    "is_sub = set()\n",
    "\n",
    "for l in lineages:\n",
    "    ldf = sample_info[sample_info.lineage == l]\n",
    "    subtypes = set(ldf.lineage_subtype.dropna())\n",
    "    \n",
    "    # cell lines for sublineage\n",
    "    if len(subtypes) > 1:\n",
    "        has_sub.add(l)\n",
    "        for sub in subtypes:\n",
    "            if l in sub:\n",
    "                lname = sub\n",
    "            else:\n",
    "                lname = l + '_' + sub\n",
    "\n",
    "            is_sub.add(lname)\n",
    "            sub_df = ldf[ldf.lineage_subtype == sub]\n",
    "\n",
    "            # map sublineage to cell lines\n",
    "            sublineage2cell[lname] = list(sub_df.index)\n",
    "    \n",
    "            # map cell lines to sub-lineage\n",
    "            for cell in sublineage2cell[lname]:\n",
    "                cell2sublineage[cell] = lname\n",
    "    else:\n",
    "        sublineage2cell[l] = list(ldf.index)\n",
    "        for cell in sublineage2cell[l]:\n",
    "            cell2sublineage[cell] = l\n",
    "                \n",
    "    # all cell lines for lineage\n",
    "    lineage2cell[l] = list(ldf.index)\n",
    "    \n",
    "    # parent lineage of each cell line\n",
    "    for cell in lineage2cell[l]:\n",
    "        cell2lineage[cell] = l\n",
    "    \n",
    "\n",
    "report('<pre>')\n",
    "report(\"Number of cell lines: \"+str(len(cell2lineage)))\n",
    "report(\"Number of lineages: \"+str(len(lineage2cell)))\n",
    "report(\"Number of lineages with sub-lineages: \"+str(len(has_sub)))\n",
    "report(\"Number of sub-lineages \"+str(len(is_sub)))\n",
    "report('</pre>')"
   ]
  },
  {
   "cell_type": "code",
   "execution_count": 7,
   "metadata": {},
   "outputs": [
    {
     "data": {
      "text/markdown": [
       "\n",
       "## Expression Data (RNASeq)\n",
       "RNAseq TPM gene expression data for just protein coding genes using RSEM. Log2 transformed, using a pseudo-count of 1.\n",
       "\n",
       "<b>DepMap source file:</b> CCLE_expression.csv\n",
       "* Transpose columns (gene names) and rows (CCLE cell line IDs)\n",
       "* Translate gene names to NCBI gene IDs\n"
      ],
      "text/plain": [
       "<IPython.core.display.Markdown object>"
      ]
     },
     "metadata": {},
     "output_type": "display_data"
    }
   ],
   "source": [
    "report('''\n",
    "## Expression Data (RNASeq)\n",
    "RNAseq TPM gene expression data for just protein coding genes using RSEM. Log2 transformed, using a pseudo-count of 1.\n",
    "\n",
    "<b>DepMap source file:</b> CCLE_expression.csv\n",
    "* Transpose columns (gene names) and rows (CCLE cell line IDs)\n",
    "* Translate gene names to NCBI gene IDs\n",
    "''')"
   ]
  },
  {
   "cell_type": "code",
   "execution_count": 8,
   "metadata": {},
   "outputs": [
    {
     "data": {
      "text/markdown": [
       "Sample expression data:"
      ],
      "text/plain": [
       "<IPython.core.display.Markdown object>"
      ]
     },
     "metadata": {},
     "output_type": "display_data"
    },
    {
     "data": {
      "text/html": [
       "<div>\n",
       "<style scoped>\n",
       "    .dataframe tbody tr th:only-of-type {\n",
       "        vertical-align: middle;\n",
       "    }\n",
       "\n",
       "    .dataframe tbody tr th {\n",
       "        vertical-align: top;\n",
       "    }\n",
       "\n",
       "    .dataframe thead th {\n",
       "        text-align: right;\n",
       "    }\n",
       "</style>\n",
       "<table border=\"1\" class=\"dataframe\">\n",
       "  <thead>\n",
       "    <tr style=\"text-align: right;\">\n",
       "      <th></th>\n",
       "      <th>ACH-001097</th>\n",
       "      <th>ACH-001485</th>\n",
       "      <th>ACH-001396</th>\n",
       "      <th>ACH-000534</th>\n",
       "      <th>ACH-000742</th>\n",
       "      <th>ACH-001818</th>\n",
       "      <th>ACH-000545</th>\n",
       "      <th>ACH-000836</th>\n",
       "      <th>ACH-001959</th>\n",
       "      <th>ACH-000470</th>\n",
       "      <th>...</th>\n",
       "      <th>ACH-000305</th>\n",
       "      <th>ACH-000916</th>\n",
       "      <th>ACH-000603</th>\n",
       "      <th>ACH-000296</th>\n",
       "      <th>ACH-000978</th>\n",
       "      <th>ACH-000904</th>\n",
       "      <th>ACH-000110</th>\n",
       "      <th>ACH-000031</th>\n",
       "      <th>ACH-000261</th>\n",
       "      <th>ACH-000682</th>\n",
       "    </tr>\n",
       "  </thead>\n",
       "  <tbody>\n",
       "    <tr>\n",
       "      <th>7105</th>\n",
       "      <td>0.000000</td>\n",
       "      <td>0.000000</td>\n",
       "      <td>2.883621</td>\n",
       "      <td>0.839960</td>\n",
       "      <td>3.722466</td>\n",
       "      <td>4.032982</td>\n",
       "      <td>4.251719</td>\n",
       "      <td>4.632268</td>\n",
       "      <td>3.321928</td>\n",
       "      <td>3.681449</td>\n",
       "      <td>...</td>\n",
       "      <td>4.152183</td>\n",
       "      <td>4.997744</td>\n",
       "      <td>0.910733</td>\n",
       "      <td>5.382321</td>\n",
       "      <td>5.002252</td>\n",
       "      <td>4.316870</td>\n",
       "      <td>5.227279</td>\n",
       "      <td>4.714795</td>\n",
       "      <td>4.447579</td>\n",
       "      <td>5.976364</td>\n",
       "    </tr>\n",
       "    <tr>\n",
       "      <th>64102</th>\n",
       "      <td>0.000000</td>\n",
       "      <td>0.000000</td>\n",
       "      <td>0.000000</td>\n",
       "      <td>0.000000</td>\n",
       "      <td>0.000000</td>\n",
       "      <td>0.000000</td>\n",
       "      <td>0.000000</td>\n",
       "      <td>0.000000</td>\n",
       "      <td>0.000000</td>\n",
       "      <td>0.000000</td>\n",
       "      <td>...</td>\n",
       "      <td>0.000000</td>\n",
       "      <td>0.000000</td>\n",
       "      <td>0.000000</td>\n",
       "      <td>0.150560</td>\n",
       "      <td>0.042644</td>\n",
       "      <td>0.028569</td>\n",
       "      <td>0.070389</td>\n",
       "      <td>0.028569</td>\n",
       "      <td>0.028569</td>\n",
       "      <td>0.124328</td>\n",
       "    </tr>\n",
       "    <tr>\n",
       "      <th>8813</th>\n",
       "      <td>4.667324</td>\n",
       "      <td>5.755689</td>\n",
       "      <td>4.471838</td>\n",
       "      <td>5.376082</td>\n",
       "      <td>6.029674</td>\n",
       "      <td>5.933100</td>\n",
       "      <td>5.651052</td>\n",
       "      <td>6.704180</td>\n",
       "      <td>7.357288</td>\n",
       "      <td>7.294896</td>\n",
       "      <td>...</td>\n",
       "      <td>6.024364</td>\n",
       "      <td>5.898450</td>\n",
       "      <td>5.740118</td>\n",
       "      <td>6.551670</td>\n",
       "      <td>6.523719</td>\n",
       "      <td>5.990955</td>\n",
       "      <td>6.764341</td>\n",
       "      <td>6.745910</td>\n",
       "      <td>6.748864</td>\n",
       "      <td>5.983450</td>\n",
       "    </tr>\n",
       "    <tr>\n",
       "      <th>57147</th>\n",
       "      <td>1.761285</td>\n",
       "      <td>2.375735</td>\n",
       "      <td>2.347666</td>\n",
       "      <td>2.687061</td>\n",
       "      <td>2.192194</td>\n",
       "      <td>2.097611</td>\n",
       "      <td>3.440952</td>\n",
       "      <td>2.792855</td>\n",
       "      <td>1.691534</td>\n",
       "      <td>2.400538</td>\n",
       "      <td>...</td>\n",
       "      <td>2.361768</td>\n",
       "      <td>3.814550</td>\n",
       "      <td>2.505891</td>\n",
       "      <td>2.592158</td>\n",
       "      <td>2.613532</td>\n",
       "      <td>3.185867</td>\n",
       "      <td>3.537296</td>\n",
       "      <td>2.776104</td>\n",
       "      <td>2.650765</td>\n",
       "      <td>2.939227</td>\n",
       "    </tr>\n",
       "    <tr>\n",
       "      <th>55732</th>\n",
       "      <td>3.554589</td>\n",
       "      <td>2.634593</td>\n",
       "      <td>3.392317</td>\n",
       "      <td>4.440288</td>\n",
       "      <td>2.533563</td>\n",
       "      <td>1.536053</td>\n",
       "      <td>3.275007</td>\n",
       "      <td>4.079805</td>\n",
       "      <td>4.328406</td>\n",
       "      <td>2.849999</td>\n",
       "      <td>...</td>\n",
       "      <td>1.659925</td>\n",
       "      <td>3.446256</td>\n",
       "      <td>3.161888</td>\n",
       "      <td>4.352617</td>\n",
       "      <td>3.243364</td>\n",
       "      <td>4.846493</td>\n",
       "      <td>4.491212</td>\n",
       "      <td>3.621759</td>\n",
       "      <td>4.607626</td>\n",
       "      <td>2.918386</td>\n",
       "    </tr>\n",
       "  </tbody>\n",
       "</table>\n",
       "<p>5 rows × 1210 columns</p>\n",
       "</div>"
      ],
      "text/plain": [
       "       ACH-001097  ACH-001485  ACH-001396  ACH-000534  ACH-000742  ACH-001818  \\\n",
       "7105     0.000000    0.000000    2.883621    0.839960    3.722466    4.032982   \n",
       "64102    0.000000    0.000000    0.000000    0.000000    0.000000    0.000000   \n",
       "8813     4.667324    5.755689    4.471838    5.376082    6.029674    5.933100   \n",
       "57147    1.761285    2.375735    2.347666    2.687061    2.192194    2.097611   \n",
       "55732    3.554589    2.634593    3.392317    4.440288    2.533563    1.536053   \n",
       "\n",
       "       ACH-000545  ACH-000836  ACH-001959  ACH-000470  ...  ACH-000305  \\\n",
       "7105     4.251719    4.632268    3.321928    3.681449  ...    4.152183   \n",
       "64102    0.000000    0.000000    0.000000    0.000000  ...    0.000000   \n",
       "8813     5.651052    6.704180    7.357288    7.294896  ...    6.024364   \n",
       "57147    3.440952    2.792855    1.691534    2.400538  ...    2.361768   \n",
       "55732    3.275007    4.079805    4.328406    2.849999  ...    1.659925   \n",
       "\n",
       "       ACH-000916  ACH-000603  ACH-000296  ACH-000978  ACH-000904  ACH-000110  \\\n",
       "7105     4.997744    0.910733    5.382321    5.002252    4.316870    5.227279   \n",
       "64102    0.000000    0.000000    0.150560    0.042644    0.028569    0.070389   \n",
       "8813     5.898450    5.740118    6.551670    6.523719    5.990955    6.764341   \n",
       "57147    3.814550    2.505891    2.592158    2.613532    3.185867    3.537296   \n",
       "55732    3.446256    3.161888    4.352617    3.243364    4.846493    4.491212   \n",
       "\n",
       "       ACH-000031  ACH-000261  ACH-000682  \n",
       "7105     4.714795    4.447579    5.976364  \n",
       "64102    0.028569    0.028569    0.124328  \n",
       "8813     6.745910    6.748864    5.983450  \n",
       "57147    2.776104    2.650765    2.939227  \n",
       "55732    3.621759    4.607626    2.918386  \n",
       "\n",
       "[5 rows x 1210 columns]"
      ]
     },
     "metadata": {},
     "output_type": "display_data"
    }
   ],
   "source": [
    "exp = get_data('expression').T\n",
    "exp.index = ncbi_gene_ids(list(exp.index))\n",
    "printmd('Sample expression data:')\n",
    "display(exp.head())"
   ]
  },
  {
   "cell_type": "code",
   "execution_count": 9,
   "metadata": {},
   "outputs": [
    {
     "data": {
      "text/markdown": [
       "\n",
       "## Mutation Data \n",
       "<b>DepMap source file:</b> CCLE_mutations.csv\n",
       "* Keep track of TCGA and COSMIC hotspot genes by lineage\n",
       "* Just using hotspot genes for now but track deleterious mutations by lineage for future reference\n"
      ],
      "text/plain": [
       "<IPython.core.display.Markdown object>"
      ]
     },
     "metadata": {},
     "output_type": "display_data"
    }
   ],
   "source": [
    "report('''\n",
    "## Mutation Data \n",
    "<b>DepMap source file:</b> CCLE_mutations.csv\n",
    "* Keep track of TCGA and COSMIC hotspot genes by lineage\n",
    "* Just using hotspot genes for now but track deleterious mutations by lineage for future reference\n",
    "''')"
   ]
  },
  {
   "cell_type": "code",
   "execution_count": 10,
   "metadata": {},
   "outputs": [],
   "source": [
    "mutations = get_data('mutations')"
   ]
  },
  {
   "cell_type": "code",
   "execution_count": 11,
   "metadata": {},
   "outputs": [
    {
     "name": "stdout",
     "output_type": "stream",
     "text": [
      "Done mapping hotspots\n"
     ]
    },
    {
     "data": {
      "text/markdown": [
       "8704 TCGA or COSMIC hotspot genes"
      ],
      "text/plain": [
       "<IPython.core.display.Markdown object>"
      ]
     },
     "metadata": {},
     "output_type": "display_data"
    }
   ],
   "source": [
    "# Filter hotspot genes\n",
    "hotspots = []\n",
    "hotspots.append(mutations[mutations.isTCGAhotspot])\n",
    "hotspots.append(mutations[mutations.isCOSMIChotspot])\n",
    "hotspots = pd.concat(hotspots).drop_duplicates()\n",
    "\n",
    "hotspot_genes = set(hotspots.Entrez_Gene_Id)\n",
    "\n",
    "lineage_hotspots = {}\n",
    "sublineage_hotspots = {}\n",
    "\n",
    "for g in hotspot_genes:\n",
    "    lineage_hotspots[g] = {}\n",
    "    sublineage_hotspots[g] = {}\n",
    "    \n",
    "    gdf = hotspots[hotspots.Entrez_Gene_Id == g]\n",
    "    \n",
    "    for i, r in gdf.iterrows():\n",
    "        cell = r.DepMap_ID\n",
    "        if cell2lineage.get(cell) is not None:\n",
    "            lineage = cell2lineage[cell]\n",
    "            if lineage_hotspots[g].get(lineage) is None:\n",
    "                lineage_hotspots[g][lineage] = 0\n",
    "            lineage_hotspots[g][lineage] += 1\n",
    "            \n",
    "        if cell2sublineage.get(cell) is not None:\n",
    "            sublineage = cell2sublineage[cell]\n",
    "            if sublineage_hotspots[g].get(sublineage) is None:\n",
    "                sublineage_hotspots[g][sublineage] = 0\n",
    "            sublineage_hotspots[g][sublineage] += 1\n",
    "            \n",
    "print(\"Done mapping hotspots\")\n",
    "report(str(len(hotspot_genes))+' TCGA or COSMIC hotspot genes')"
   ]
  },
  {
   "cell_type": "code",
   "execution_count": 12,
   "metadata": {},
   "outputs": [],
   "source": [
    "# # Filter deleterious mutations\n",
    "# damaging = mutations[mutations.Variant_annotation.isin(['damaging','non-conserving'])]\n",
    "# damaging = damaging[damaging.isDeleterious == True]\n",
    "# genes = set(hotspots.Entrez_Gene_Id)\n",
    "\n",
    "\n",
    "# genes = set(damaging.Entrez_Gene_Id)\n",
    "\n",
    "# lineage_mutations = {}\n",
    "# sublineage_mutations = {}\n",
    "\n",
    "# for g in genes:\n",
    "#     lineage_mutations[g] = {}\n",
    "#     sublineage_mutations[g] = {}\n",
    "    \n",
    "#     gdf = damaging[damaging.Entrez_Gene_Id == g]\n",
    "    \n",
    "#     for i, r in gdf.iterrows():\n",
    "#         cell = r.DepMap_ID\n",
    "#         if cell2lineage.get(cell) is not None:\n",
    "#             lineage = cell2lineage[cell]\n",
    "#             if lineage_mutations[g].get(lineage) is None:\n",
    "#                 lineage_mutations[g][lineage] = 0\n",
    "#             lineage_mutations[g][lineage] += 1\n",
    "            \n",
    "#         if cell2sublineage.get(cell) is not None:\n",
    "#             sublineage = cell2sublineage[cell]\n",
    "#             if sublineage_mutations[g].get(sublineage) is None:\n",
    "#                 sublineage_mutations[g][sublineage] = 0\n",
    "#             sublineage_mutations[g][sublineage] += 1\n",
    "            \n",
    "# print(\"Done mapping deleterious mutations\")"
   ]
  },
  {
   "cell_type": "code",
   "execution_count": 13,
   "metadata": {},
   "outputs": [
    {
     "data": {
      "text/markdown": [
       "\n",
       "## Copy number data\n",
       "Gene level copy number data, log2 transformed with a pseudo count of 1. This is generated by mapping genes onto the segment level calls.\n",
       "\n",
       "<b>Depmap source file:</b> CCLE_gene_cn_v2.csv\n",
       "* Transpose columns (gene names) and rows (CCLE cell line IDs)\n",
       "* Translate gene names to NCBI gene IDs\n"
      ],
      "text/plain": [
       "<IPython.core.display.Markdown object>"
      ]
     },
     "metadata": {},
     "output_type": "display_data"
    }
   ],
   "source": [
    "report('''\n",
    "## Copy number data\n",
    "Gene level copy number data, log2 transformed with a pseudo count of 1. This is generated by mapping genes onto the segment level calls.\n",
    "\n",
    "<b>Depmap source file:</b> CCLE_gene_cn_v2.csv\n",
    "* Transpose columns (gene names) and rows (CCLE cell line IDs)\n",
    "* Translate gene names to NCBI gene IDs\n",
    "''')\n"
   ]
  },
  {
   "cell_type": "code",
   "execution_count": 14,
   "metadata": {},
   "outputs": [
    {
     "data": {
      "text/markdown": [
       "Sample copy number data:"
      ],
      "text/plain": [
       "<IPython.core.display.Markdown object>"
      ]
     },
     "metadata": {},
     "output_type": "display_data"
    },
    {
     "data": {
      "text/html": [
       "<div>\n",
       "<style scoped>\n",
       "    .dataframe tbody tr th:only-of-type {\n",
       "        vertical-align: middle;\n",
       "    }\n",
       "\n",
       "    .dataframe tbody tr th {\n",
       "        vertical-align: top;\n",
       "    }\n",
       "\n",
       "    .dataframe thead th {\n",
       "        text-align: right;\n",
       "    }\n",
       "</style>\n",
       "<table border=\"1\" class=\"dataframe\">\n",
       "  <thead>\n",
       "    <tr style=\"text-align: right;\">\n",
       "      <th></th>\n",
       "      <th>ACH-001793</th>\n",
       "      <th>ACH-002176</th>\n",
       "      <th>ACH-000652</th>\n",
       "      <th>ACH-001295</th>\n",
       "      <th>ACH-000798</th>\n",
       "      <th>ACH-001399</th>\n",
       "      <th>ACH-000111</th>\n",
       "      <th>ACH-002358</th>\n",
       "      <th>ACH-000367</th>\n",
       "      <th>ACH-000584</th>\n",
       "      <th>...</th>\n",
       "      <th>ACH-000280</th>\n",
       "      <th>ACH-001563</th>\n",
       "      <th>ACH-002124</th>\n",
       "      <th>ACH-000286</th>\n",
       "      <th>ACH-001148</th>\n",
       "      <th>ACH-001359</th>\n",
       "      <th>ACH-001560</th>\n",
       "      <th>ACH-001791</th>\n",
       "      <th>ACH-001125</th>\n",
       "      <th>ACH-000110</th>\n",
       "    </tr>\n",
       "  </thead>\n",
       "  <tbody>\n",
       "    <tr>\n",
       "      <th>1</th>\n",
       "      <td>1.086422</td>\n",
       "      <td>1.526188</td>\n",
       "      <td>0.776609</td>\n",
       "      <td>0.964857</td>\n",
       "      <td>0.986651</td>\n",
       "      <td>1.097441</td>\n",
       "      <td>1.577719</td>\n",
       "      <td>0.990491</td>\n",
       "      <td>0.972714</td>\n",
       "      <td>1.232228</td>\n",
       "      <td>...</td>\n",
       "      <td>1.365183</td>\n",
       "      <td>1.027095</td>\n",
       "      <td>1.029024</td>\n",
       "      <td>0.841298</td>\n",
       "      <td>1.045162</td>\n",
       "      <td>1.143302</td>\n",
       "      <td>1.391900</td>\n",
       "      <td>1.001219</td>\n",
       "      <td>1.257749</td>\n",
       "      <td>1.931762</td>\n",
       "    </tr>\n",
       "    <tr>\n",
       "      <th>10</th>\n",
       "      <td>1.103066</td>\n",
       "      <td>1.044267</td>\n",
       "      <td>0.520576</td>\n",
       "      <td>1.001427</td>\n",
       "      <td>0.974178</td>\n",
       "      <td>0.775405</td>\n",
       "      <td>1.209647</td>\n",
       "      <td>1.001602</td>\n",
       "      <td>0.564791</td>\n",
       "      <td>0.379099</td>\n",
       "      <td>...</td>\n",
       "      <td>0.690553</td>\n",
       "      <td>0.995183</td>\n",
       "      <td>1.068430</td>\n",
       "      <td>0.781903</td>\n",
       "      <td>0.986327</td>\n",
       "      <td>0.803954</td>\n",
       "      <td>0.707500</td>\n",
       "      <td>1.262303</td>\n",
       "      <td>1.123967</td>\n",
       "      <td>0.728684</td>\n",
       "    </tr>\n",
       "    <tr>\n",
       "      <th>100</th>\n",
       "      <td>0.910926</td>\n",
       "      <td>1.089161</td>\n",
       "      <td>1.555780</td>\n",
       "      <td>1.010086</td>\n",
       "      <td>0.987801</td>\n",
       "      <td>1.877675</td>\n",
       "      <td>0.826138</td>\n",
       "      <td>0.999580</td>\n",
       "      <td>1.128533</td>\n",
       "      <td>1.254932</td>\n",
       "      <td>...</td>\n",
       "      <td>1.307992</td>\n",
       "      <td>0.996104</td>\n",
       "      <td>1.070793</td>\n",
       "      <td>2.327111</td>\n",
       "      <td>1.037611</td>\n",
       "      <td>1.140260</td>\n",
       "      <td>1.166051</td>\n",
       "      <td>0.953422</td>\n",
       "      <td>1.361431</td>\n",
       "      <td>1.710860</td>\n",
       "    </tr>\n",
       "    <tr>\n",
       "      <th>1000</th>\n",
       "      <td>0.869815</td>\n",
       "      <td>1.093874</td>\n",
       "      <td>0.534269</td>\n",
       "      <td>1.618418</td>\n",
       "      <td>0.975264</td>\n",
       "      <td>0.765916</td>\n",
       "      <td>1.781738</td>\n",
       "      <td>0.999387</td>\n",
       "      <td>0.583207</td>\n",
       "      <td>1.262886</td>\n",
       "      <td>...</td>\n",
       "      <td>0.977053</td>\n",
       "      <td>0.964261</td>\n",
       "      <td>0.992269</td>\n",
       "      <td>0.639639</td>\n",
       "      <td>1.005763</td>\n",
       "      <td>0.793022</td>\n",
       "      <td>1.186009</td>\n",
       "      <td>1.140554</td>\n",
       "      <td>0.753544</td>\n",
       "      <td>0.815800</td>\n",
       "    </tr>\n",
       "    <tr>\n",
       "      <th>10000</th>\n",
       "      <td>1.178887</td>\n",
       "      <td>0.739725</td>\n",
       "      <td>1.072077</td>\n",
       "      <td>1.087050</td>\n",
       "      <td>0.992261</td>\n",
       "      <td>0.823112</td>\n",
       "      <td>1.618552</td>\n",
       "      <td>1.002886</td>\n",
       "      <td>1.185828</td>\n",
       "      <td>1.369970</td>\n",
       "      <td>...</td>\n",
       "      <td>1.320073</td>\n",
       "      <td>0.980081</td>\n",
       "      <td>1.004353</td>\n",
       "      <td>1.169857</td>\n",
       "      <td>1.051142</td>\n",
       "      <td>0.775699</td>\n",
       "      <td>1.177641</td>\n",
       "      <td>1.118604</td>\n",
       "      <td>1.053262</td>\n",
       "      <td>0.989854</td>\n",
       "    </tr>\n",
       "  </tbody>\n",
       "</table>\n",
       "<p>5 rows × 1660 columns</p>\n",
       "</div>"
      ],
      "text/plain": [
       "       ACH-001793  ACH-002176  ACH-000652  ACH-001295  ACH-000798  ACH-001399  \\\n",
       "1        1.086422    1.526188    0.776609    0.964857    0.986651    1.097441   \n",
       "10       1.103066    1.044267    0.520576    1.001427    0.974178    0.775405   \n",
       "100      0.910926    1.089161    1.555780    1.010086    0.987801    1.877675   \n",
       "1000     0.869815    1.093874    0.534269    1.618418    0.975264    0.765916   \n",
       "10000    1.178887    0.739725    1.072077    1.087050    0.992261    0.823112   \n",
       "\n",
       "       ACH-000111  ACH-002358  ACH-000367  ACH-000584  ...  ACH-000280  \\\n",
       "1        1.577719    0.990491    0.972714    1.232228  ...    1.365183   \n",
       "10       1.209647    1.001602    0.564791    0.379099  ...    0.690553   \n",
       "100      0.826138    0.999580    1.128533    1.254932  ...    1.307992   \n",
       "1000     1.781738    0.999387    0.583207    1.262886  ...    0.977053   \n",
       "10000    1.618552    1.002886    1.185828    1.369970  ...    1.320073   \n",
       "\n",
       "       ACH-001563  ACH-002124  ACH-000286  ACH-001148  ACH-001359  ACH-001560  \\\n",
       "1        1.027095    1.029024    0.841298    1.045162    1.143302    1.391900   \n",
       "10       0.995183    1.068430    0.781903    0.986327    0.803954    0.707500   \n",
       "100      0.996104    1.070793    2.327111    1.037611    1.140260    1.166051   \n",
       "1000     0.964261    0.992269    0.639639    1.005763    0.793022    1.186009   \n",
       "10000    0.980081    1.004353    1.169857    1.051142    0.775699    1.177641   \n",
       "\n",
       "       ACH-001791  ACH-001125  ACH-000110  \n",
       "1        1.001219    1.257749    1.931762  \n",
       "10       1.262303    1.123967    0.728684  \n",
       "100      0.953422    1.361431    1.710860  \n",
       "1000     1.140554    0.753544    0.815800  \n",
       "10000    1.118604    1.053262    0.989854  \n",
       "\n",
       "[5 rows x 1660 columns]"
      ]
     },
     "metadata": {},
     "output_type": "display_data"
    },
    {
     "data": {
      "text/markdown": [
       "Copy number data descritive stats:"
      ],
      "text/plain": [
       "<IPython.core.display.Markdown object>"
      ]
     },
     "metadata": {},
     "output_type": "display_data"
    },
    {
     "data": {
      "text/html": [
       "<div>\n",
       "<style scoped>\n",
       "    .dataframe tbody tr th:only-of-type {\n",
       "        vertical-align: middle;\n",
       "    }\n",
       "\n",
       "    .dataframe tbody tr th {\n",
       "        vertical-align: top;\n",
       "    }\n",
       "\n",
       "    .dataframe thead th {\n",
       "        text-align: right;\n",
       "    }\n",
       "</style>\n",
       "<table border=\"1\" class=\"dataframe\">\n",
       "  <thead>\n",
       "    <tr style=\"text-align: right;\">\n",
       "      <th></th>\n",
       "      <th>ACH-001793</th>\n",
       "      <th>ACH-002176</th>\n",
       "      <th>ACH-000652</th>\n",
       "      <th>ACH-001295</th>\n",
       "      <th>ACH-000798</th>\n",
       "      <th>ACH-001399</th>\n",
       "      <th>ACH-000111</th>\n",
       "      <th>ACH-002358</th>\n",
       "      <th>ACH-000367</th>\n",
       "      <th>ACH-000584</th>\n",
       "    </tr>\n",
       "  </thead>\n",
       "  <tbody>\n",
       "    <tr>\n",
       "      <th>count</th>\n",
       "      <td>27639.000000</td>\n",
       "      <td>2.763900e+04</td>\n",
       "      <td>2.763900e+04</td>\n",
       "      <td>2.763900e+04</td>\n",
       "      <td>27639.000000</td>\n",
       "      <td>27639.000000</td>\n",
       "      <td>2.763900e+04</td>\n",
       "      <td>27639.000000</td>\n",
       "      <td>2.763900e+04</td>\n",
       "      <td>27639.000000</td>\n",
       "    </tr>\n",
       "    <tr>\n",
       "      <th>mean</th>\n",
       "      <td>1.098416</td>\n",
       "      <td>1.005611e+00</td>\n",
       "      <td>9.739989e-01</td>\n",
       "      <td>1.061859e+00</td>\n",
       "      <td>1.019288</td>\n",
       "      <td>1.057222</td>\n",
       "      <td>1.127191e+00</td>\n",
       "      <td>0.980485</td>\n",
       "      <td>9.532559e-01</td>\n",
       "      <td>1.057527</td>\n",
       "    </tr>\n",
       "    <tr>\n",
       "      <th>std</th>\n",
       "      <td>1.119507</td>\n",
       "      <td>3.482645e-01</td>\n",
       "      <td>2.416796e-01</td>\n",
       "      <td>6.685549e-01</td>\n",
       "      <td>0.123101</td>\n",
       "      <td>0.306522</td>\n",
       "      <td>3.919352e-01</td>\n",
       "      <td>0.092264</td>\n",
       "      <td>2.693422e-01</td>\n",
       "      <td>0.366487</td>\n",
       "    </tr>\n",
       "    <tr>\n",
       "      <th>min</th>\n",
       "      <td>0.171960</td>\n",
       "      <td>7.998209e-10</td>\n",
       "      <td>8.220704e-10</td>\n",
       "      <td>7.984062e-10</td>\n",
       "      <td>0.000036</td>\n",
       "      <td>0.000020</td>\n",
       "      <td>1.102449e-09</td>\n",
       "      <td>0.000021</td>\n",
       "      <td>8.282854e-10</td>\n",
       "      <td>0.000009</td>\n",
       "    </tr>\n",
       "    <tr>\n",
       "      <th>25%</th>\n",
       "      <td>0.889299</td>\n",
       "      <td>7.318536e-01</td>\n",
       "      <td>7.900758e-01</td>\n",
       "      <td>9.845272e-01</td>\n",
       "      <td>0.982870</td>\n",
       "      <td>0.812673</td>\n",
       "      <td>8.295737e-01</td>\n",
       "      <td>0.993549</td>\n",
       "      <td>6.015790e-01</td>\n",
       "      <td>0.700131</td>\n",
       "    </tr>\n",
       "    <tr>\n",
       "      <th>50%</th>\n",
       "      <td>1.053484</td>\n",
       "      <td>1.045336e+00</td>\n",
       "      <td>1.027553e+00</td>\n",
       "      <td>9.942944e-01</td>\n",
       "      <td>0.986097</td>\n",
       "      <td>1.003401</td>\n",
       "      <td>9.373404e-01</td>\n",
       "      <td>0.999580</td>\n",
       "      <td>1.056217e+00</td>\n",
       "      <td>0.990265</td>\n",
       "    </tr>\n",
       "    <tr>\n",
       "      <th>75%</th>\n",
       "      <td>1.113955</td>\n",
       "      <td>1.111985e+00</td>\n",
       "      <td>1.068509e+00</td>\n",
       "      <td>1.002200e+00</td>\n",
       "      <td>0.989550</td>\n",
       "      <td>1.120454</td>\n",
       "      <td>1.321072e+00</td>\n",
       "      <td>1.002886</td>\n",
       "      <td>1.131187e+00</td>\n",
       "      <td>1.262886</td>\n",
       "    </tr>\n",
       "    <tr>\n",
       "      <th>max</th>\n",
       "      <td>35.734800</td>\n",
       "      <td>4.952679e+00</td>\n",
       "      <td>4.804283e+00</td>\n",
       "      <td>3.963217e+01</td>\n",
       "      <td>1.462469</td>\n",
       "      <td>3.217691</td>\n",
       "      <td>3.229879e+00</td>\n",
       "      <td>1.006658</td>\n",
       "      <td>1.729972e+00</td>\n",
       "      <td>3.354475</td>\n",
       "    </tr>\n",
       "  </tbody>\n",
       "</table>\n",
       "</div>"
      ],
      "text/plain": [
       "         ACH-001793    ACH-002176    ACH-000652    ACH-001295    ACH-000798  \\\n",
       "count  27639.000000  2.763900e+04  2.763900e+04  2.763900e+04  27639.000000   \n",
       "mean       1.098416  1.005611e+00  9.739989e-01  1.061859e+00      1.019288   \n",
       "std        1.119507  3.482645e-01  2.416796e-01  6.685549e-01      0.123101   \n",
       "min        0.171960  7.998209e-10  8.220704e-10  7.984062e-10      0.000036   \n",
       "25%        0.889299  7.318536e-01  7.900758e-01  9.845272e-01      0.982870   \n",
       "50%        1.053484  1.045336e+00  1.027553e+00  9.942944e-01      0.986097   \n",
       "75%        1.113955  1.111985e+00  1.068509e+00  1.002200e+00      0.989550   \n",
       "max       35.734800  4.952679e+00  4.804283e+00  3.963217e+01      1.462469   \n",
       "\n",
       "         ACH-001399    ACH-000111    ACH-002358    ACH-000367    ACH-000584  \n",
       "count  27639.000000  2.763900e+04  27639.000000  2.763900e+04  27639.000000  \n",
       "mean       1.057222  1.127191e+00      0.980485  9.532559e-01      1.057527  \n",
       "std        0.306522  3.919352e-01      0.092264  2.693422e-01      0.366487  \n",
       "min        0.000020  1.102449e-09      0.000021  8.282854e-10      0.000009  \n",
       "25%        0.812673  8.295737e-01      0.993549  6.015790e-01      0.700131  \n",
       "50%        1.003401  9.373404e-01      0.999580  1.056217e+00      0.990265  \n",
       "75%        1.120454  1.321072e+00      1.002886  1.131187e+00      1.262886  \n",
       "max        3.217691  3.229879e+00      1.006658  1.729972e+00      3.354475  "
      ]
     },
     "metadata": {},
     "output_type": "display_data"
    }
   ],
   "source": [
    "cn = get_data('copy_number')\n",
    "cn.columns = ncbi_gene_ids(list(cn.columns))\n",
    "\n",
    "# cn.columns = ncbi_gene_ids(list(cn.columns))\n",
    "# print(cn.shape)\n",
    "# keep_genes = []\n",
    "# for g in cn.columns:\n",
    "#     if g in hotspot_genes:\n",
    "#         keep_genes.append(g)\n",
    "# cn = cn[keep_genes]\n",
    "# print(cn.shape)\n",
    "cn = cn.T\n",
    "printmd('Sample copy number data:')\n",
    "display(cn.head())\n",
    "report('Copy number data descritive stats:')\n",
    "display(cn.iloc[:,:10].describe())"
   ]
  },
  {
   "cell_type": "code",
   "execution_count": 15,
   "metadata": {},
   "outputs": [
    {
     "data": {
      "text/markdown": [
       "\n",
       "## Search for high copy number genes in each of the lineages\n",
       "* Seleting genes with copy number > 2 in <b><i>all</i></b> cell lines is a lineage is a bit too stringent\n",
       "* Retain genes that have copy number >= 2 in 80% or more cell lines in a lineage\n",
       "* Extract the data for any cell lines with high copy number genes to use as plotting baseline\n"
      ],
      "text/plain": [
       "<IPython.core.display.Markdown object>"
      ]
     },
     "metadata": {},
     "output_type": "display_data"
    }
   ],
   "source": [
    "report('''\n",
    "## Search for high copy number genes in each of the lineages\n",
    "* Seleting genes with copy number > 2 in <b><i>all</i></b> cell lines is a lineage is a bit too stringent\n",
    "* Retain genes that have copy number >= 2 in 80% or more cell lines in a lineage\n",
    "* Extract the data for any cell lines with high copy number genes to use as plotting baseline\n",
    "''')"
   ]
  },
  {
   "cell_type": "code",
   "execution_count": 20,
   "metadata": {},
   "outputs": [
    {
     "data": {
      "text/markdown": [
       "<pre>"
      ],
      "text/plain": [
       "<IPython.core.display.Markdown object>"
      ]
     },
     "metadata": {},
     "output_type": "display_data"
    },
    {
     "data": {
      "text/markdown": [
       "bone_chordoma; 4 cell lines; 11 high copy number genes"
      ],
      "text/plain": [
       "<IPython.core.display.Markdown object>"
      ]
     },
     "metadata": {},
     "output_type": "display_data"
    },
    {
     "data": {
      "text/markdown": [
       "eye_uveal_melanoma; 5 cell lines; 1016 high copy number genes"
      ],
      "text/plain": [
       "<IPython.core.display.Markdown object>"
      ]
     },
     "metadata": {},
     "output_type": "display_data"
    },
    {
     "data": {
      "text/markdown": [
       "ovary_immortalized; 1 cell lines; 9 high copy number genes"
      ],
      "text/plain": [
       "<IPython.core.display.Markdown object>"
      ]
     },
     "metadata": {},
     "output_type": "display_data"
    },
    {
     "data": {
      "text/markdown": [
       "ovary_non_epithelial; 2 cell lines; 74 high copy number genes"
      ],
      "text/plain": [
       "<IPython.core.display.Markdown object>"
      ]
     },
     "metadata": {},
     "output_type": "display_data"
    },
    {
     "data": {
      "text/markdown": [
       "lung_immortalized; 1 cell lines; 6 high copy number genes"
      ],
      "text/plain": [
       "<IPython.core.display.Markdown object>"
      ]
     },
     "metadata": {},
     "output_type": "display_data"
    },
    {
     "data": {
      "text/markdown": [
       "adrenal_cortex; 1 cell lines; 200 high copy number genes"
      ],
      "text/plain": [
       "<IPython.core.display.Markdown object>"
      ]
     },
     "metadata": {},
     "output_type": "display_data"
    },
    {
     "data": {
      "text/markdown": [
       "soft_tissue_fibrosarcoma; 1 cell lines; 2 high copy number genes"
      ],
      "text/plain": [
       "<IPython.core.display.Markdown object>"
      ]
     },
     "metadata": {},
     "output_type": "display_data"
    },
    {
     "data": {
      "text/markdown": [
       "soft_tissue_liposarcoma; 5 cell lines; 44 high copy number genes"
      ],
      "text/plain": [
       "<IPython.core.display.Markdown object>"
      ]
     },
     "metadata": {},
     "output_type": "display_data"
    },
    {
     "data": {
      "text/markdown": [
       "soft_tissue_sarcoma_undifferentiated; 2 cell lines; 164 high copy number genes"
      ],
      "text/plain": [
       "<IPython.core.display.Markdown object>"
      ]
     },
     "metadata": {},
     "output_type": "display_data"
    },
    {
     "data": {
      "text/markdown": [
       "soft_tissue_epitheliod_sarcoma; 2 cell lines; 2 high copy number genes"
      ],
      "text/plain": [
       "<IPython.core.display.Markdown object>"
      ]
     },
     "metadata": {},
     "output_type": "display_data"
    },
    {
     "data": {
      "text/markdown": [
       "esophagus_adenocarcinoma; 7 cell lines; 7 high copy number genes"
      ],
      "text/plain": [
       "<IPython.core.display.Markdown object>"
      ]
     },
     "metadata": {},
     "output_type": "display_data"
    },
    {
     "data": {
      "text/markdown": [
       "gastric_adenosquamous; 1 cell lines; 508 high copy number genes"
      ],
      "text/plain": [
       "<IPython.core.display.Markdown object>"
      ]
     },
     "metadata": {},
     "output_type": "display_data"
    },
    {
     "data": {
      "text/markdown": [
       "skin_squamous; 3 cell lines; 251 high copy number genes"
      ],
      "text/plain": [
       "<IPython.core.display.Markdown object>"
      ]
     },
     "metadata": {},
     "output_type": "display_data"
    },
    {
     "data": {
      "text/markdown": [
       "skin_Merkel; 7 cell lines; 251 high copy number genes"
      ],
      "text/plain": [
       "<IPython.core.display.Markdown object>"
      ]
     },
     "metadata": {},
     "output_type": "display_data"
    },
    {
     "data": {
      "text/markdown": [
       "skin_epidermoid_carcinoma; 1 cell lines; 234 high copy number genes"
      ],
      "text/plain": [
       "<IPython.core.display.Markdown object>"
      ]
     },
     "metadata": {},
     "output_type": "display_data"
    },
    {
     "data": {
      "text/markdown": [
       "peripheral_nervous_system_PNET; 1 cell lines; 22 high copy number genes"
      ],
      "text/plain": [
       "<IPython.core.display.Markdown object>"
      ]
     },
     "metadata": {},
     "output_type": "display_data"
    },
    {
     "data": {
      "text/markdown": [
       "upper_aerodigestive_buccal_mucosa; 1 cell lines; 592 high copy number genes"
      ],
      "text/plain": [
       "<IPython.core.display.Markdown object>"
      ]
     },
     "metadata": {},
     "output_type": "display_data"
    },
    {
     "data": {
      "text/markdown": [
       "central_nervous_system_PNET; 1 cell lines; 2 high copy number genes"
      ],
      "text/plain": [
       "<IPython.core.display.Markdown object>"
      ]
     },
     "metadata": {},
     "output_type": "display_data"
    },
    {
     "data": {
      "text/markdown": [
       "central_nervous_system_immortalized; 1 cell lines; 26 high copy number genes"
      ],
      "text/plain": [
       "<IPython.core.display.Markdown object>"
      ]
     },
     "metadata": {},
     "output_type": "display_data"
    },
    {
     "data": {
      "text/markdown": [
       "central_nervous_system_meningioma; 3 cell lines; 151 high copy number genes"
      ],
      "text/plain": [
       "<IPython.core.display.Markdown object>"
      ]
     },
     "metadata": {},
     "output_type": "display_data"
    },
    {
     "data": {
      "text/markdown": [
       "breast_HER2Amp; 13 cell lines; 11 high copy number genes"
      ],
      "text/plain": [
       "<IPython.core.display.Markdown object>"
      ]
     },
     "metadata": {},
     "output_type": "display_data"
    },
    {
     "data": {
      "text/markdown": [
       "breast_ERneg; 1 cell lines; 960 high copy number genes"
      ],
      "text/plain": [
       "<IPython.core.display.Markdown object>"
      ]
     },
     "metadata": {},
     "output_type": "display_data"
    },
    {
     "data": {
      "text/markdown": [
       "breast_immortalized; 2 cell lines; 8 high copy number genes"
      ],
      "text/plain": [
       "<IPython.core.display.Markdown object>"
      ]
     },
     "metadata": {},
     "output_type": "display_data"
    },
    {
     "data": {
      "text/markdown": [
       "lymphoblastic_lymphoma; 1 cell lines; 311 high copy number genes"
      ],
      "text/plain": [
       "<IPython.core.display.Markdown object>"
      ]
     },
     "metadata": {},
     "output_type": "display_data"
    },
    {
     "data": {
      "text/markdown": [
       "lymphoma_B-cell_ALL; 2 cell lines; 3 high copy number genes"
      ],
      "text/plain": [
       "<IPython.core.display.Markdown object>"
      ]
     },
     "metadata": {},
     "output_type": "display_data"
    },
    {
     "data": {
      "text/markdown": [
       "</pre>"
      ],
      "text/plain": [
       "<IPython.core.display.Markdown object>"
      ]
     },
     "metadata": {},
     "output_type": "display_data"
    }
   ],
   "source": [
    "# for each cell line, get all of the genes with copy number > 2\n",
    "keep_common_genes = []\n",
    "keep_common_cells = []\n",
    "keep_lineage = set()\n",
    "keep_pairs = set()\n",
    "\n",
    "report('<pre>')\n",
    "for sublin in sublineage2cell:\n",
    "    cells = sublineage2cell[sublin]\n",
    "    #print(sublin,len(cells))\n",
    "    \n",
    "    best = {}\n",
    "    for cell in cells:\n",
    "        try:\n",
    "            cdf = cn[cell]\n",
    "            cdf = cdf[cdf >= 2]\n",
    "            if len(cdf.index) > 0:\n",
    "                best[cell] = set(cdf.index)\n",
    "        except Exception as e:\n",
    "            #print('Error',e)\n",
    "            continue\n",
    "            \n",
    "    if len(best) == 0:\n",
    "        continue\n",
    "        \n",
    "    best_genes = list(best.values())\n",
    "    set1 = best_genes.pop()\n",
    "    all_genes = set1.union(*best_genes)\n",
    "\n",
    "    total = len(best_genes) + 1\n",
    "    common_genes = []\n",
    "    for g in all_genes:\n",
    "        gcount = 0\n",
    "        for gset in [set1,*best_genes]:\n",
    "            if g in gset:\n",
    "                gcount += 1\n",
    "        if gcount / total >= 0.8:\n",
    "            common_genes.append(g)\n",
    "        \n",
    "        \n",
    "    keep_common_genes.extend(common_genes)\n",
    "    common_symbols = [ncbi2symbol.get(g) for g in common_genes]\n",
    "    if len(common_genes) > 0:\n",
    "        keep_lineage.add(sublin)\n",
    "        keep_common_cells.extend(cells)\n",
    "        report(sublin+'; '+str(len(cells))+' cell lines; '+str(len(common_genes))+' high copy number genes')\n",
    "        # Remember the gene:cell pairs to assemble the final table\n",
    "        for cg in common_genes:\n",
    "            for cell in cells:\n",
    "                keep_pairs.add((cg,cell))\n",
    "report('</pre>')\n",
    "\n",
    "keep_common_genes = set(keep_common_genes)\n",
    "keep_common_cells = set(keep_common_cells)"
   ]
  },
  {
   "cell_type": "code",
   "execution_count": 21,
   "metadata": {},
   "outputs": [
    {
     "data": {
      "text/markdown": [
       "\n",
       "## DEMETER2 RNAi gene dependency data\n",
       "Cancer cell line genetic dependencies estimated using the DEMETER2 model. DEMETER2 is applied to three large-scale RNAi screening datasets: the Broad Institute Project Achilles, Novartis Project DRIVE, and the Marcotte et al. breast cell line dataset. The model is also applied to generate a combined dataset of gene dependencies covering a total of 712 unique cancer cell lines.\n",
       "\n",
       "<b>DepMap source file:</b> D2_combined_gene_dep_scores.csv \n",
       "\n",
       "* Data source uses CCLE names rather than DepMap cell line IDS\n",
       "* Translate the cell line names to IDS for consistency with other data sources\n",
       "* Also deal with rows in the table with multiple gene names (eg 'GTF2IP4&GTF2IP1 (100093631&2970)')\n"
      ],
      "text/plain": [
       "<IPython.core.display.Markdown object>"
      ]
     },
     "metadata": {},
     "output_type": "display_data"
    }
   ],
   "source": [
    "report('''\n",
    "## DEMETER2 RNAi gene dependency data\n",
    "Cancer cell line genetic dependencies estimated using the DEMETER2 model. DEMETER2 is applied to three large-scale RNAi screening datasets: the Broad Institute Project Achilles, Novartis Project DRIVE, and the Marcotte et al. breast cell line dataset. The model is also applied to generate a combined dataset of gene dependencies covering a total of 712 unique cancer cell lines.\n",
    "\n",
    "<b>DepMap source file:</b> D2_combined_gene_dep_scores.csv \n",
    "\n",
    "* Data source uses CCLE names rather than DepMap cell line IDS\n",
    "* Translate the cell line names to IDS for consistency with other data sources\n",
    "* Also deal with rows in the table with multiple gene names (eg 'GTF2IP4&GTF2IP1 (100093631&2970)')\n",
    "''')"
   ]
  },
  {
   "cell_type": "code",
   "execution_count": 22,
   "metadata": {},
   "outputs": [
    {
     "name": "stdout",
     "output_type": "stream",
     "text": [
      "Initial number of rows in dataframe: 17309\n",
      "Splitting multigene rows...\n",
      "Final number of rows in dataframe: 17731\n"
     ]
    }
   ],
   "source": [
    "# Ingest data\n",
    "d2 = get_data('d2_rnai')\n",
    "print(\"Initial number of rows in dataframe:\",d2.shape[0])\n",
    "# split rows with multuple genes\n",
    "cols = ['gene'] + list(d2.columns)\n",
    "rows = []\n",
    "\n",
    "print(\"Splitting multigene rows...\")\n",
    "for i, r in d2.iterrows():\n",
    "    if '&' in i:\n",
    "        symbols, ncbi = i.split(' ')\n",
    "        symbols = symbols.split('&')\n",
    "        ncbi = re.sub('\\(|\\)','',ncbi)\n",
    "        ncbi = ncbi.split('&')\n",
    "        assert len(symbols) == len(ncbi), \"Length mismatch\"\n",
    "        for s, symbol in enumerate(symbols):\n",
    "            gid = ncbi[s]\n",
    "            row = [symbol+' ('+gid+')'] + list(r)\n",
    "            rows.append(row)\n",
    "    else:\n",
    "        rows.append([i]+list(r))\n",
    "d2 = pd.DataFrame(data=rows,columns=cols).set_index('gene')\n",
    "print(\"Final number of rows in dataframe:\",d2.shape[0])"
   ]
  },
  {
   "cell_type": "code",
   "execution_count": 23,
   "metadata": {},
   "outputs": [
    {
     "name": "stdout",
     "output_type": "stream",
     "text": [
      "17731 genes\n",
      "712 cell lines\n"
     ]
    },
    {
     "data": {
      "text/html": [
       "<div>\n",
       "<style scoped>\n",
       "    .dataframe tbody tr th:only-of-type {\n",
       "        vertical-align: middle;\n",
       "    }\n",
       "\n",
       "    .dataframe tbody tr th {\n",
       "        vertical-align: top;\n",
       "    }\n",
       "\n",
       "    .dataframe thead th {\n",
       "        text-align: right;\n",
       "    }\n",
       "</style>\n",
       "<table border=\"1\" class=\"dataframe\">\n",
       "  <thead>\n",
       "    <tr style=\"text-align: right;\">\n",
       "      <th></th>\n",
       "      <th>ACH-001270</th>\n",
       "      <th>ACH-001000</th>\n",
       "      <th>ACH-001001</th>\n",
       "      <th>ACH-002319</th>\n",
       "      <th>ACH-001827</th>\n",
       "      <th>ACH-000956</th>\n",
       "      <th>ACH-000948</th>\n",
       "      <th>ACH-002320</th>\n",
       "      <th>ACH-000070</th>\n",
       "      <th>ACH-000411</th>\n",
       "      <th>...</th>\n",
       "      <th>ACH-000899</th>\n",
       "      <th>ACH-000765</th>\n",
       "      <th>ACH-000534</th>\n",
       "      <th>ACH-000762</th>\n",
       "      <th>ACH-000630</th>\n",
       "      <th>ACH-000570</th>\n",
       "      <th>ACH-001249</th>\n",
       "      <th>ACH-000097</th>\n",
       "      <th>ACH-000828</th>\n",
       "      <th>ACH-002331</th>\n",
       "    </tr>\n",
       "  </thead>\n",
       "  <tbody>\n",
       "    <tr>\n",
       "      <th>1</th>\n",
       "      <td>NaN</td>\n",
       "      <td>NaN</td>\n",
       "      <td>0.146042</td>\n",
       "      <td>-0.190388</td>\n",
       "      <td>0.907063</td>\n",
       "      <td>-0.019331</td>\n",
       "      <td>-0.016734</td>\n",
       "      <td>0.091580</td>\n",
       "      <td>0.035023</td>\n",
       "      <td>-0.122046</td>\n",
       "      <td>...</td>\n",
       "      <td>-0.088267</td>\n",
       "      <td>0.002171</td>\n",
       "      <td>NaN</td>\n",
       "      <td>0.120294</td>\n",
       "      <td>0.012540</td>\n",
       "      <td>0.111530</td>\n",
       "      <td>NaN</td>\n",
       "      <td>-0.079313</td>\n",
       "      <td>-0.141559</td>\n",
       "      <td>0.214268</td>\n",
       "    </tr>\n",
       "    <tr>\n",
       "      <th>10</th>\n",
       "      <td>NaN</td>\n",
       "      <td>NaN</td>\n",
       "      <td>0.102854</td>\n",
       "      <td>0.384106</td>\n",
       "      <td>0.403192</td>\n",
       "      <td>0.001925</td>\n",
       "      <td>-0.153933</td>\n",
       "      <td>-0.317969</td>\n",
       "      <td>0.012341</td>\n",
       "      <td>-0.205077</td>\n",
       "      <td>...</td>\n",
       "      <td>-0.003747</td>\n",
       "      <td>-0.321445</td>\n",
       "      <td>NaN</td>\n",
       "      <td>-0.003256</td>\n",
       "      <td>-0.220472</td>\n",
       "      <td>0.073460</td>\n",
       "      <td>NaN</td>\n",
       "      <td>-0.130921</td>\n",
       "      <td>0.127358</td>\n",
       "      <td>-0.405974</td>\n",
       "    </tr>\n",
       "    <tr>\n",
       "      <th>100</th>\n",
       "      <td>NaN</td>\n",
       "      <td>NaN</td>\n",
       "      <td>0.168839</td>\n",
       "      <td>-0.120700</td>\n",
       "      <td>0.004394</td>\n",
       "      <td>-0.188700</td>\n",
       "      <td>-0.060818</td>\n",
       "      <td>-0.755058</td>\n",
       "      <td>0.129770</td>\n",
       "      <td>0.076273</td>\n",
       "      <td>...</td>\n",
       "      <td>-0.014085</td>\n",
       "      <td>0.039679</td>\n",
       "      <td>NaN</td>\n",
       "      <td>0.076521</td>\n",
       "      <td>0.106995</td>\n",
       "      <td>0.227977</td>\n",
       "      <td>NaN</td>\n",
       "      <td>-0.134479</td>\n",
       "      <td>0.083506</td>\n",
       "      <td>-0.404291</td>\n",
       "    </tr>\n",
       "    <tr>\n",
       "      <th>1000</th>\n",
       "      <td>-0.194962</td>\n",
       "      <td>-0.028171</td>\n",
       "      <td>0.063047</td>\n",
       "      <td>-0.237251</td>\n",
       "      <td>-0.017059</td>\n",
       "      <td>-0.103047</td>\n",
       "      <td>-0.049460</td>\n",
       "      <td>0.130107</td>\n",
       "      <td>0.146864</td>\n",
       "      <td>-0.126198</td>\n",
       "      <td>...</td>\n",
       "      <td>-0.073435</td>\n",
       "      <td>-0.140041</td>\n",
       "      <td>-0.154436</td>\n",
       "      <td>-0.040308</td>\n",
       "      <td>-0.078707</td>\n",
       "      <td>0.000769</td>\n",
       "      <td>-0.139126</td>\n",
       "      <td>0.047022</td>\n",
       "      <td>-0.097644</td>\n",
       "      <td>-0.062622</td>\n",
       "    </tr>\n",
       "    <tr>\n",
       "      <th>10000</th>\n",
       "      <td>-0.256108</td>\n",
       "      <td>0.100751</td>\n",
       "      <td>-0.008077</td>\n",
       "      <td>0.060267</td>\n",
       "      <td>-0.094749</td>\n",
       "      <td>-0.066591</td>\n",
       "      <td>0.166029</td>\n",
       "      <td>0.149969</td>\n",
       "      <td>-0.053022</td>\n",
       "      <td>0.092426</td>\n",
       "      <td>...</td>\n",
       "      <td>0.028714</td>\n",
       "      <td>-0.054628</td>\n",
       "      <td>0.450581</td>\n",
       "      <td>0.002932</td>\n",
       "      <td>0.129679</td>\n",
       "      <td>-0.072564</td>\n",
       "      <td>0.017161</td>\n",
       "      <td>0.123615</td>\n",
       "      <td>0.046846</td>\n",
       "      <td>0.125711</td>\n",
       "    </tr>\n",
       "  </tbody>\n",
       "</table>\n",
       "<p>5 rows × 712 columns</p>\n",
       "</div>"
      ],
      "text/plain": [
       "       ACH-001270  ACH-001000  ACH-001001  ACH-002319  ACH-001827  ACH-000956  \\\n",
       "1             NaN         NaN    0.146042   -0.190388    0.907063   -0.019331   \n",
       "10            NaN         NaN    0.102854    0.384106    0.403192    0.001925   \n",
       "100           NaN         NaN    0.168839   -0.120700    0.004394   -0.188700   \n",
       "1000    -0.194962   -0.028171    0.063047   -0.237251   -0.017059   -0.103047   \n",
       "10000   -0.256108    0.100751   -0.008077    0.060267   -0.094749   -0.066591   \n",
       "\n",
       "       ACH-000948  ACH-002320  ACH-000070  ACH-000411  ...  ACH-000899  \\\n",
       "1       -0.016734    0.091580    0.035023   -0.122046  ...   -0.088267   \n",
       "10      -0.153933   -0.317969    0.012341   -0.205077  ...   -0.003747   \n",
       "100     -0.060818   -0.755058    0.129770    0.076273  ...   -0.014085   \n",
       "1000    -0.049460    0.130107    0.146864   -0.126198  ...   -0.073435   \n",
       "10000    0.166029    0.149969   -0.053022    0.092426  ...    0.028714   \n",
       "\n",
       "       ACH-000765  ACH-000534  ACH-000762  ACH-000630  ACH-000570  ACH-001249  \\\n",
       "1        0.002171         NaN    0.120294    0.012540    0.111530         NaN   \n",
       "10      -0.321445         NaN   -0.003256   -0.220472    0.073460         NaN   \n",
       "100      0.039679         NaN    0.076521    0.106995    0.227977         NaN   \n",
       "1000    -0.140041   -0.154436   -0.040308   -0.078707    0.000769   -0.139126   \n",
       "10000   -0.054628    0.450581    0.002932    0.129679   -0.072564    0.017161   \n",
       "\n",
       "       ACH-000097  ACH-000828  ACH-002331  \n",
       "1       -0.079313   -0.141559    0.214268  \n",
       "10      -0.130921    0.127358   -0.405974  \n",
       "100     -0.134479    0.083506   -0.404291  \n",
       "1000     0.047022   -0.097644   -0.062622  \n",
       "10000    0.123615    0.046846    0.125711  \n",
       "\n",
       "[5 rows x 712 columns]"
      ]
     },
     "execution_count": 23,
     "metadata": {},
     "output_type": "execute_result"
    }
   ],
   "source": [
    "# Map cell line names to IDs\n",
    "sample_info = get_data('sample_info')\n",
    "ccle_name2id = {}\n",
    "for i, r in sample_info.iterrows():\n",
    "    ccle_name2id[r['CCLE Name']] = i \n",
    "\n",
    "cell_line_names = list(d2.columns)\n",
    "\n",
    "# Rename columns to use CCLE IDs and rows to use NCBI gene IDs\n",
    "if isinstance(list(d2.index)[0],str):\n",
    "    d2.columns = [ccle_name2id.get(i) or i for i in cell_line_names]\n",
    "    d2.index = ncbi_gene_ids(list(d2.index))\n",
    "print(d2.shape[0],\"genes\")\n",
    "print(d2.shape[1],\"cell lines\")\n",
    "d2.head()"
   ]
  },
  {
   "cell_type": "code",
   "execution_count": 24,
   "metadata": {},
   "outputs": [
    {
     "data": {
      "text/markdown": [
       "\n",
       "## Achilles Crispr gene dependency data\n",
       "CERES data with principle components strongly related to known batch effects removed, then shifted and scaled per cell line so the median nonessential KO effect is 0 and the median essential KO effect is -1.\n",
       "\n",
       "<b>DepMap source file:</b> Achilles_gene_effect.csv \n",
       "\n",
       "* Translate gene names (column labels) to NCBI IDS\n",
       "* Transpose rows and columns so each cell line is a column label with vertivally stacked gene data\n"
      ],
      "text/plain": [
       "<IPython.core.display.Markdown object>"
      ]
     },
     "metadata": {},
     "output_type": "display_data"
    }
   ],
   "source": [
    "report('''\n",
    "## Achilles Crispr gene dependency data\n",
    "CERES data with principle components strongly related to known batch effects removed, then shifted and scaled per cell line so the median nonessential KO effect is 0 and the median essential KO effect is -1.\n",
    "\n",
    "<b>DepMap source file:</b> Achilles_gene_effect.csv \n",
    "\n",
    "* Translate gene names (column labels) to NCBI IDS\n",
    "* Transpose rows and columns so each cell line is a column label with vertivally stacked gene data\n",
    "''')"
   ]
  },
  {
   "cell_type": "code",
   "execution_count": 25,
   "metadata": {},
   "outputs": [
    {
     "name": "stdout",
     "output_type": "stream",
     "text": [
      "18333 genes\n",
      "625 cell lines\n"
     ]
    },
    {
     "data": {
      "text/markdown": [
       "Sample Achilles data:"
      ],
      "text/plain": [
       "<IPython.core.display.Markdown object>"
      ]
     },
     "metadata": {},
     "output_type": "display_data"
    },
    {
     "data": {
      "text/html": [
       "<div>\n",
       "<style scoped>\n",
       "    .dataframe tbody tr th:only-of-type {\n",
       "        vertical-align: middle;\n",
       "    }\n",
       "\n",
       "    .dataframe tbody tr th {\n",
       "        vertical-align: top;\n",
       "    }\n",
       "\n",
       "    .dataframe thead th {\n",
       "        text-align: right;\n",
       "    }\n",
       "</style>\n",
       "<table border=\"1\" class=\"dataframe\">\n",
       "  <thead>\n",
       "    <tr style=\"text-align: right;\">\n",
       "      <th></th>\n",
       "      <th>ACH-000004</th>\n",
       "      <th>ACH-000005</th>\n",
       "      <th>ACH-000007</th>\n",
       "      <th>ACH-000009</th>\n",
       "      <th>ACH-000011</th>\n",
       "      <th>ACH-000012</th>\n",
       "      <th>ACH-000013</th>\n",
       "      <th>ACH-000014</th>\n",
       "      <th>ACH-000015</th>\n",
       "      <th>ACH-000017</th>\n",
       "      <th>...</th>\n",
       "      <th>ACH-001736</th>\n",
       "      <th>ACH-001737</th>\n",
       "      <th>ACH-001740</th>\n",
       "      <th>ACH-001745</th>\n",
       "      <th>ACH-001750</th>\n",
       "      <th>ACH-001765</th>\n",
       "      <th>ACH-001814</th>\n",
       "      <th>ACH-001838</th>\n",
       "      <th>ACH-001956</th>\n",
       "      <th>ACH-001957</th>\n",
       "    </tr>\n",
       "  </thead>\n",
       "  <tbody>\n",
       "    <tr>\n",
       "      <th>1</th>\n",
       "      <td>0.168684</td>\n",
       "      <td>-0.068759</td>\n",
       "      <td>0.053893</td>\n",
       "      <td>0.059874</td>\n",
       "      <td>0.277165</td>\n",
       "      <td>0.008073</td>\n",
       "      <td>0.062131</td>\n",
       "      <td>0.143078</td>\n",
       "      <td>-0.090890</td>\n",
       "      <td>0.178427</td>\n",
       "      <td>...</td>\n",
       "      <td>0.154567</td>\n",
       "      <td>-0.050307</td>\n",
       "      <td>0.005125</td>\n",
       "      <td>0.208843</td>\n",
       "      <td>0.044674</td>\n",
       "      <td>0.136364</td>\n",
       "      <td>0.216507</td>\n",
       "      <td>-0.086149</td>\n",
       "      <td>-0.076893</td>\n",
       "      <td>0.055750</td>\n",
       "    </tr>\n",
       "    <tr>\n",
       "      <th>29974</th>\n",
       "      <td>0.089128</td>\n",
       "      <td>0.218792</td>\n",
       "      <td>0.081444</td>\n",
       "      <td>-0.011153</td>\n",
       "      <td>0.085354</td>\n",
       "      <td>0.167177</td>\n",
       "      <td>0.038687</td>\n",
       "      <td>-0.035837</td>\n",
       "      <td>0.007894</td>\n",
       "      <td>0.106952</td>\n",
       "      <td>...</td>\n",
       "      <td>0.019334</td>\n",
       "      <td>0.189813</td>\n",
       "      <td>0.349099</td>\n",
       "      <td>0.153637</td>\n",
       "      <td>0.126563</td>\n",
       "      <td>0.021261</td>\n",
       "      <td>-0.172366</td>\n",
       "      <td>0.082798</td>\n",
       "      <td>0.109464</td>\n",
       "      <td>0.004545</td>\n",
       "    </tr>\n",
       "    <tr>\n",
       "      <th>2</th>\n",
       "      <td>-0.196966</td>\n",
       "      <td>0.178252</td>\n",
       "      <td>-0.060170</td>\n",
       "      <td>-0.054367</td>\n",
       "      <td>0.007972</td>\n",
       "      <td>0.088705</td>\n",
       "      <td>-0.043841</td>\n",
       "      <td>0.010997</td>\n",
       "      <td>-0.185690</td>\n",
       "      <td>-0.068145</td>\n",
       "      <td>...</td>\n",
       "      <td>-0.124875</td>\n",
       "      <td>-0.079220</td>\n",
       "      <td>-0.194522</td>\n",
       "      <td>-0.134906</td>\n",
       "      <td>-0.082100</td>\n",
       "      <td>-0.107147</td>\n",
       "      <td>-0.265359</td>\n",
       "      <td>-0.147978</td>\n",
       "      <td>0.021325</td>\n",
       "      <td>0.067990</td>\n",
       "    </tr>\n",
       "    <tr>\n",
       "      <th>144568</th>\n",
       "      <td>-0.021260</td>\n",
       "      <td>0.158390</td>\n",
       "      <td>0.153435</td>\n",
       "      <td>0.060886</td>\n",
       "      <td>0.445843</td>\n",
       "      <td>0.307599</td>\n",
       "      <td>0.200285</td>\n",
       "      <td>0.182625</td>\n",
       "      <td>0.111529</td>\n",
       "      <td>0.109807</td>\n",
       "      <td>...</td>\n",
       "      <td>0.051671</td>\n",
       "      <td>0.100741</td>\n",
       "      <td>0.217812</td>\n",
       "      <td>0.167583</td>\n",
       "      <td>0.132673</td>\n",
       "      <td>0.076223</td>\n",
       "      <td>0.045942</td>\n",
       "      <td>0.256595</td>\n",
       "      <td>0.204297</td>\n",
       "      <td>0.199098</td>\n",
       "    </tr>\n",
       "    <tr>\n",
       "      <th>127550</th>\n",
       "      <td>0.038541</td>\n",
       "      <td>-0.193862</td>\n",
       "      <td>0.087362</td>\n",
       "      <td>0.039767</td>\n",
       "      <td>-0.036717</td>\n",
       "      <td>0.015440</td>\n",
       "      <td>-0.070484</td>\n",
       "      <td>-0.034048</td>\n",
       "      <td>-0.033507</td>\n",
       "      <td>-0.195903</td>\n",
       "      <td>...</td>\n",
       "      <td>-0.196632</td>\n",
       "      <td>0.164481</td>\n",
       "      <td>-0.052438</td>\n",
       "      <td>-0.130067</td>\n",
       "      <td>-0.172350</td>\n",
       "      <td>-0.116583</td>\n",
       "      <td>0.123916</td>\n",
       "      <td>-0.054596</td>\n",
       "      <td>-0.080814</td>\n",
       "      <td>-0.042784</td>\n",
       "    </tr>\n",
       "  </tbody>\n",
       "</table>\n",
       "<p>5 rows × 625 columns</p>\n",
       "</div>"
      ],
      "text/plain": [
       "        ACH-000004  ACH-000005  ACH-000007  ACH-000009  ACH-000011  \\\n",
       "1         0.168684   -0.068759    0.053893    0.059874    0.277165   \n",
       "29974     0.089128    0.218792    0.081444   -0.011153    0.085354   \n",
       "2        -0.196966    0.178252   -0.060170   -0.054367    0.007972   \n",
       "144568   -0.021260    0.158390    0.153435    0.060886    0.445843   \n",
       "127550    0.038541   -0.193862    0.087362    0.039767   -0.036717   \n",
       "\n",
       "        ACH-000012  ACH-000013  ACH-000014  ACH-000015  ACH-000017  ...  \\\n",
       "1         0.008073    0.062131    0.143078   -0.090890    0.178427  ...   \n",
       "29974     0.167177    0.038687   -0.035837    0.007894    0.106952  ...   \n",
       "2         0.088705   -0.043841    0.010997   -0.185690   -0.068145  ...   \n",
       "144568    0.307599    0.200285    0.182625    0.111529    0.109807  ...   \n",
       "127550    0.015440   -0.070484   -0.034048   -0.033507   -0.195903  ...   \n",
       "\n",
       "        ACH-001736  ACH-001737  ACH-001740  ACH-001745  ACH-001750  \\\n",
       "1         0.154567   -0.050307    0.005125    0.208843    0.044674   \n",
       "29974     0.019334    0.189813    0.349099    0.153637    0.126563   \n",
       "2        -0.124875   -0.079220   -0.194522   -0.134906   -0.082100   \n",
       "144568    0.051671    0.100741    0.217812    0.167583    0.132673   \n",
       "127550   -0.196632    0.164481   -0.052438   -0.130067   -0.172350   \n",
       "\n",
       "        ACH-001765  ACH-001814  ACH-001838  ACH-001956  ACH-001957  \n",
       "1         0.136364    0.216507   -0.086149   -0.076893    0.055750  \n",
       "29974     0.021261   -0.172366    0.082798    0.109464    0.004545  \n",
       "2        -0.107147   -0.265359   -0.147978    0.021325    0.067990  \n",
       "144568    0.076223    0.045942    0.256595    0.204297    0.199098  \n",
       "127550   -0.116583    0.123916   -0.054596   -0.080814   -0.042784  \n",
       "\n",
       "[5 rows x 625 columns]"
      ]
     },
     "execution_count": 25,
     "metadata": {},
     "output_type": "execute_result"
    }
   ],
   "source": [
    "achilles = get_data('achilles_crispr').T\n",
    "genes = list(achilles.index)\n",
    "achilles.index = ncbi_gene_ids(genes)\n",
    "print(achilles.shape[0],\"genes\")\n",
    "print(achilles.shape[1],\"cell lines\")\n",
    "printmd('Sample Achilles data:')\n",
    "achilles.head()"
   ]
  },
  {
   "cell_type": "code",
   "execution_count": 26,
   "metadata": {},
   "outputs": [
    {
     "data": {
      "text/markdown": [
       "\n",
       "### How many cell lines and genes are shared between D2 (RNAi) and Achilles (Crispr) gene dependency data sets?\n"
      ],
      "text/plain": [
       "<IPython.core.display.Markdown object>"
      ]
     },
     "metadata": {},
     "output_type": "display_data"
    }
   ],
   "source": [
    "report('''\n",
    "### How many cell lines and genes are shared between D2 (RNAi) and Achilles (Crispr) gene dependency data sets?\n",
    "''')"
   ]
  },
  {
   "cell_type": "code",
   "execution_count": 27,
   "metadata": {},
   "outputs": [
    {
     "data": {
      "text/markdown": [
       "<pre>"
      ],
      "text/plain": [
       "<IPython.core.display.Markdown object>"
      ]
     },
     "metadata": {},
     "output_type": "display_data"
    },
    {
     "data": {
      "text/markdown": [
       "423 cell lines are shared"
      ],
      "text/plain": [
       "<IPython.core.display.Markdown object>"
      ]
     },
     "metadata": {},
     "output_type": "display_data"
    },
    {
     "data": {
      "text/markdown": [
       "16052 genes are shared"
      ],
      "text/plain": [
       "<IPython.core.display.Markdown object>"
      ]
     },
     "metadata": {},
     "output_type": "display_data"
    },
    {
     "data": {
      "text/markdown": [
       "</pre>"
      ],
      "text/plain": [
       "<IPython.core.display.Markdown object>"
      ]
     },
     "metadata": {},
     "output_type": "display_data"
    }
   ],
   "source": [
    "d2_cells = set(d2.columns)\n",
    "d2_genes = set(d2.index)\n",
    "ac_cells = set(achilles.columns)\n",
    "ac_genes = set(achilles.index)\n",
    "shared_cells = d2_cells.intersection(ac_cells)\n",
    "shared_genes = d2_genes.intersection(ac_genes)\n",
    "report('<pre>')\n",
    "report(str(len(shared_cells))+\" cell lines are shared\")\n",
    "report(str(len(shared_genes))+\" genes are shared\")\n",
    "report('</pre>')"
   ]
  },
  {
   "cell_type": "code",
   "execution_count": 29,
   "metadata": {},
   "outputs": [
    {
     "data": {
      "text/markdown": [
       "### How do RNAi and Crispr screen compare for gene dependency score?"
      ],
      "text/plain": [
       "<IPython.core.display.Markdown object>"
      ]
     },
     "metadata": {},
     "output_type": "display_data"
    }
   ],
   "source": [
    "report('### How do RNAi and Crispr screen compare for gene dependency score?')"
   ]
  },
  {
   "cell_type": "code",
   "execution_count": 28,
   "metadata": {},
   "outputs": [],
   "source": [
    "# filter shared genes to just include our high copy number genes\n",
    "my_d2 = d2.copy()\n",
    "keep_genes = set()\n",
    "for g in shared_genes:\n",
    "    if g in keep_common_genes:\n",
    "        keep_genes.add(g)\n",
    "\n",
    "keep_cells = set()\n",
    "for c in shared_cells:\n",
    "    if c in keep_common_cells:\n",
    "        keep_cells.add(c)\n",
    "        \n",
    "d2_s = my_d2[keep_cells]\n",
    "d2_s = d2_s.T[keep_genes].T\n",
    "ac_s = achilles[keep_cells]\n",
    "ac_s = ac_s.T[keep_genes].T\n",
    "\n",
    "\n",
    "d2_data = d2_s.to_numpy().flatten()\n",
    "ac_data = ac_s.to_numpy().flatten()\n",
    "\n",
    "# remove NaN and Inf\n",
    "keep_d2 = []\n",
    "keep_ac = []\n",
    "for i, num1 in enumerate(d2_data):\n",
    "    num2 = ac_data[i]\n",
    "    if not np.isfinite(num1) and np.isfinite(num2):\n",
    "        continue\n",
    "    keep_d2.append(num1)\n",
    "    keep_ac.append(num2)\n",
    "d2_data = keep_d2\n",
    "ac_data = keep_ac    "
   ]
  },
  {
   "cell_type": "code",
   "execution_count": 30,
   "metadata": {},
   "outputs": [
    {
     "data": {
      "text/markdown": [
       "\n",
       "## Assemble the candidate gene table\n",
       "1. Start with gene:cell pairs that were identified has having >= 80% high copy number for all cell lines in the sublineage\n",
       "2. Get copynumber, Achilles (Crispr), D2 (RNAi), hotspot and expression data\n",
       "3. Remove genes with copy number < 2 or Achilles (Crispr) dependency > 0\n"
      ],
      "text/plain": [
       "<IPython.core.display.Markdown object>"
      ]
     },
     "metadata": {},
     "output_type": "display_data"
    }
   ],
   "source": [
    "report('''\n",
    "## Assemble the candidate gene table\n",
    "1. Start with gene:cell pairs that were identified has having >= 80% high copy number for all cell lines in the sublineage\n",
    "2. Get copynumber, Achilles (Crispr), D2 (RNAi), hotspot and expression data\n",
    "3. Remove genes with copy number < 2 or Achilles (Crispr) dependency > 0\n",
    "''')"
   ]
  },
  {
   "cell_type": "code",
   "execution_count": 34,
   "metadata": {},
   "outputs": [],
   "source": [
    "# save the data\n",
    "keep_saved_rows = []\n",
    "for pair in keep_pairs:\n",
    "    gene, cell = pair\n",
    "    lineage = cell2sublineage[cell]\n",
    "    symbol = ncbi2symbol[gene]\n",
    "\n",
    "    # Get the copy number data for the gene:cell\n",
    "    genes = set(cn.index)\n",
    "    cells = set(cn.columns)\n",
    "    if gene in genes and cell in cells:\n",
    "        copynum = cn.loc[gene,cell]\n",
    "        if copynum < 2:\n",
    "            continue\n",
    "    else:\n",
    "        continue\n",
    "    \n",
    "    # get the Achilles gene dependency\n",
    "    genes = set(achilles.index)\n",
    "    cells = set(achilles.columns)\n",
    "    if gene in genes and cell in cells:\n",
    "        adata = achilles.loc[gene,cell]\n",
    "        if adata > 0:\n",
    "            continue\n",
    "    else:\n",
    "        continue\n",
    "       \n",
    "    # Get the RNAi gene dependency\n",
    "    genes = set(d2.index)\n",
    "    cells = set(d2.columns)\n",
    "    if gene in genes and cell in cells:\n",
    "        ddata = d2.loc[gene,cell]\n",
    "    else:\n",
    "        ddata = np.nan\n",
    "\n",
    "    # Check if the gene is a mutation hotspot\n",
    "    is_hotspot = gene in hotspot_genes\n",
    "    \n",
    "    # Check for expression\n",
    "    genes = set(exp.index)\n",
    "    cells = set(exp.columns)\n",
    "    if gene in genes and cell in cells:\n",
    "        edata = exp.loc[gene,cell]\n",
    "    else:\n",
    "        edata = np.nan\n",
    "    is_expressed = edata > 0\n",
    "    \n",
    "    row = [cell,lineage,symbol,gene,copynum,adata,ddata,is_hotspot,is_expressed]\n",
    "    keep_saved_rows.append(row)\n",
    "    \n"
   ]
  },
  {
   "cell_type": "code",
   "execution_count": 35,
   "metadata": {},
   "outputs": [
    {
     "data": {
      "text/plain": [
       "{'bone_chordoma',\n",
       " 'breast_HER2Amp',\n",
       " 'central_nervous_system_meningioma',\n",
       " 'eye_uveal_melanoma',\n",
       " 'ovary_non_epithelial',\n",
       " 'skin_epidermoid_carcinoma',\n",
       " 'skin_squamous',\n",
       " 'soft_tissue_fibrosarcoma',\n",
       " 'soft_tissue_sarcoma_undifferentiated',\n",
       " 'upper_aerodigestive_buccal_mucosa'}"
      ]
     },
     "execution_count": 35,
     "metadata": {},
     "output_type": "execute_result"
    }
   ],
   "source": [
    "cols = ['DepMap_ID','sublineage','HUGO_symbol','Entrez_ID','copy_number',\n",
    "        'achilles_gene_dep','rnai_gene_dep','hotspot','rnaseq_expressed']\n",
    "candidates = pd.DataFrame(data=keep_saved_rows,columns=cols)\n",
    "set(candidates.sublineage)"
   ]
  },
  {
   "cell_type": "code",
   "execution_count": 36,
   "metadata": {},
   "outputs": [
    {
     "data": {
      "text/markdown": [
       "<img src=\"plots/gene_dependency.png\">"
      ],
      "text/plain": [
       "<IPython.core.display.Markdown object>"
      ]
     },
     "metadata": {},
     "output_type": "display_data"
    },
    {
     "data": {
      "text/markdown": [
       "* significant p-value means reject H0 that slope == 0"
      ],
      "text/plain": [
       "<IPython.core.display.Markdown object>"
      ]
     },
     "metadata": {},
     "output_type": "display_data"
    },
    {
     "data": {
      "text/markdown": [
       "* We will use the Achilles (Crispr) gene dependency score and check for positive agreement with RNAi later"
      ],
      "text/plain": [
       "<IPython.core.display.Markdown object>"
      ]
     },
     "metadata": {},
     "output_type": "display_data"
    }
   ],
   "source": [
    "%matplotlib inline\n",
    "plt.scatter(d2_data,ac_data)\n",
    "slope, intercept, r_value, p_value, std_err = stats.linregress(d2_data,ac_data)\n",
    "plt.xlabel('Crispr (Achilles)')\n",
    "plt.ylabel('RNAi (DEMETER 2)')\n",
    "plt.title('Gene dependency')\n",
    "plt.text(-2.6,2.1,'slope='+'%.3f'%slope)\n",
    "plt.text(-2.6,1.8,'r-squared ='+'%.3f' %r_value)\n",
    "plt.text(-2.6,1.5,'p-value ='+'%.3f'%p_value)\n",
    "plt.savefig('plots/gene_dependency.png',dpi=100)\n",
    "plt.close()\n",
    "\n",
    "report('<img src=\"plots/gene_dependency.png\">')\n",
    "report('* significant p-value means reject H0 that slope == 0')\n",
    "report('* We will use the Achilles (Crispr) gene dependency score and check for positive agreement with RNAi later')"
   ]
  },
  {
   "cell_type": "code",
   "execution_count": 39,
   "metadata": {},
   "outputs": [],
   "source": [
    "keep_genes = set()\n",
    "for g in ac_genes:\n",
    "    if g in keep_common_genes:\n",
    "        keep_genes.add(g)\n",
    "\n",
    "keep_cells = set()\n",
    "for c in ac_cells:\n",
    "    if c in keep_common_cells:\n",
    "        keep_cells.add(c)\n",
    "keep_cells = list(keep_cells)\n",
    "        \n",
    "ac_s = achilles[keep_cells]\n",
    "ac_s = ac_s.T[keep_genes].T\n",
    "cn_s = cn[keep_cells]\n",
    "cn_s = cn_s.T[keep_genes].T\n",
    "\n",
    "ac_data = ac_s.to_numpy().flatten()\n",
    "cn_data = cn_s.to_numpy().flatten()\n",
    "\n",
    "# remove NaN and Inf\n",
    "keep_ac = []\n",
    "keep_cn = []\n",
    "for i, num1 in enumerate(ac_data):\n",
    "    num2 = cn_data[i]\n",
    "    if not np.isfinite(num1) and np.isfinite(num2):\n",
    "        continue\n",
    "    keep_ac.append(num1)\n",
    "    keep_cn.append(num2)\n",
    "    \n",
    "ac_data = keep_ac\n",
    "cn_data = keep_cn  \n",
    "cn_orig = cn_data\n",
    "ac_orig = ac_data"
   ]
  },
  {
   "cell_type": "code",
   "execution_count": 40,
   "metadata": {},
   "outputs": [
    {
     "data": {
      "text/markdown": [
       "\n",
       "### Sanity checking with ERBB2 (2064)\n",
       "Evaluating breast cancer lineages where at least one cell line had copy number > 2:\n",
       "* Is ERB2B in the hotspot gene set?\n",
       "* We expect ERBB2 to have high copy number in breast cancer lineages\n",
       "  ** What is the mean ERB2B copy number in breast cancers?\n",
       "* The gene dependency score should be < 0\n",
       "  ** What is the mean gene dependency score in breast cancers?\n"
      ],
      "text/plain": [
       "<IPython.core.display.Markdown object>"
      ]
     },
     "metadata": {},
     "output_type": "display_data"
    }
   ],
   "source": [
    "report('''\n",
    "### Sanity checking with ERBB2 (2064)\n",
    "Evaluating breast cancer lineages where at least one cell line had copy number > 2:\n",
    "* Is ERB2B in the hotspot gene set?\n",
    "* We expect ERBB2 to have high copy number in breast cancer lineages\n",
    "  ** What is the mean ERB2B copy number in breast cancers?\n",
    "* The gene dependency score should be < 0\n",
    "  ** What is the mean gene dependency score in breast cancers?\n",
    "''')"
   ]
  },
  {
   "cell_type": "code",
   "execution_count": 41,
   "metadata": {},
   "outputs": [
    {
     "data": {
      "text/markdown": [
       "ERBB2 is in hotspot gene set? <b>TRUE</b>"
      ],
      "text/plain": [
       "<IPython.core.display.Markdown object>"
      ]
     },
     "metadata": {},
     "output_type": "display_data"
    },
    {
     "data": {
      "text/markdown": [
       "<pre>"
      ],
      "text/plain": [
       "<IPython.core.display.Markdown object>"
      ]
     },
     "metadata": {},
     "output_type": "display_data"
    },
    {
     "data": {
      "text/markdown": [
       "ERBB2 mean copy number for breast_HER2Amp (11 cell lines): 14.84"
      ],
      "text/plain": [
       "<IPython.core.display.Markdown object>"
      ]
     },
     "metadata": {},
     "output_type": "display_data"
    },
    {
     "data": {
      "text/markdown": [
       "ERBB2 mean copy number for breast_TNBC (27 cell lines): 1.89"
      ],
      "text/plain": [
       "<IPython.core.display.Markdown object>"
      ]
     },
     "metadata": {},
     "output_type": "display_data"
    },
    {
     "data": {
      "text/markdown": [
       "ERBB2 mean copy number for breast_TPBC (5 cell lines): 9.59"
      ],
      "text/plain": [
       "<IPython.core.display.Markdown object>"
      ]
     },
     "metadata": {},
     "output_type": "display_data"
    },
    {
     "data": {
      "text/markdown": [
       "ERBB2 mean gene dependency for breast_HER2Amp (6 cell lines): -0.83"
      ],
      "text/plain": [
       "<IPython.core.display.Markdown object>"
      ]
     },
     "metadata": {},
     "output_type": "display_data"
    },
    {
     "data": {
      "text/markdown": [
       "ERBB2 mean gene dependency for breast_ERpos (7 cell lines): -0.27"
      ],
      "text/plain": [
       "<IPython.core.display.Markdown object>"
      ]
     },
     "metadata": {},
     "output_type": "display_data"
    },
    {
     "data": {
      "text/markdown": [
       "ERBB2 mean gene dependency for breast_TNBC (15 cell lines): -0.28"
      ],
      "text/plain": [
       "<IPython.core.display.Markdown object>"
      ]
     },
     "metadata": {},
     "output_type": "display_data"
    },
    {
     "data": {
      "text/markdown": [
       "</pre>"
      ],
      "text/plain": [
       "<IPython.core.display.Markdown object>"
      ]
     },
     "metadata": {},
     "output_type": "display_data"
    }
   ],
   "source": [
    "report(\"ERBB2 is in hotspot gene set? <b>\"+str(2064 in hotspot_genes).upper()+\"</b>\")\n",
    "report('<pre>')\n",
    "\n",
    "erb = cn.loc[2064]\n",
    "nums = {}\n",
    "is_high = set()\n",
    "for c in cell2sublineage:\n",
    "    lin = cell2sublineage.get(c)\n",
    "    if lin is None or erb.get(c) is None:\n",
    "        continue\n",
    "        \n",
    "    if 'breast' in lin:\n",
    "        if nums.get(lin) is None:\n",
    "            nums[lin] = []\n",
    "        nums[lin].append(erb[c])\n",
    "        if erb[c] >= 2:\n",
    "            is_high.add(lin)\n",
    "            #report(','.join([c,lin,str('%.2f'%erb[c])]))\n",
    "for lin in nums:\n",
    "    if lin in is_high:\n",
    "        report(\"ERBB2 mean copy number for \"+lin+\" (\"+str(len(nums[lin]))+\" cell lines): \"+str('%.2f'%np.mean(nums[lin])))\n",
    "        \n",
    "erb_gd = achilles.loc[2064]\n",
    "nums = {}\n",
    "for c in erb_gd.keys():\n",
    "    lin = cell2sublineage.get(c)\n",
    "    if lin is None or not 'breast' in lin:\n",
    "        continue\n",
    "        \n",
    "    if nums.get(lin) is None:\n",
    "        nums[lin] = []\n",
    "    nums[lin].append(erb_gd[c])\n",
    "\n",
    "for lin in nums:\n",
    "    #if lin in is_high:\n",
    "    report(\"ERBB2 mean gene dependency for \"+lin+\" (\"+str(len(nums[lin]))+\" cell lines): \"+str('%.2f'%np.mean(nums[lin])))\n",
    "        \n",
    "report('</pre>')\n",
    "    "
   ]
  },
  {
   "cell_type": "code",
   "execution_count": 42,
   "metadata": {},
   "outputs": [
    {
     "data": {
      "text/markdown": [
       "\n",
       "## Lineages with observed high copy number genes\n",
       "\n",
       "* Go through the list of lineages with high copy number genes\n",
       "* Plot gene dependency vs. copy number\n",
       "* Highlight genes/cell-lines with copy number > 2 and gene dependency < 0 for specific lineages\n",
       "\n",
       "### Copy number vs gene dependency\n"
      ],
      "text/plain": [
       "<IPython.core.display.Markdown object>"
      ]
     },
     "metadata": {},
     "output_type": "display_data"
    }
   ],
   "source": [
    "report('''\n",
    "## Lineages with observed high copy number genes\n",
    "\n",
    "* Go through the list of lineages with high copy number genes\n",
    "* Plot gene dependency vs. copy number\n",
    "* Highlight genes/cell-lines with copy number > 2 and gene dependency < 0 for specific lineages\n",
    "\n",
    "### Copy number vs gene dependency\n",
    "''')"
   ]
  },
  {
   "cell_type": "code",
   "execution_count": 43,
   "metadata": {},
   "outputs": [
    {
     "data": {
      "text/markdown": [
       "<img src=\"plots/esophagus_adenocarcinoma.png\">"
      ],
      "text/plain": [
       "<IPython.core.display.Markdown object>"
      ]
     },
     "metadata": {},
     "output_type": "display_data"
    },
    {
     "data": {
      "text/markdown": [
       "<img src=\"plots/bone_chordoma.png\">"
      ],
      "text/plain": [
       "<IPython.core.display.Markdown object>"
      ]
     },
     "metadata": {},
     "output_type": "display_data"
    },
    {
     "data": {
      "text/markdown": [
       "<img src=\"plots/upper_aerodigestive_buccal_mucosa.png\">"
      ],
      "text/plain": [
       "<IPython.core.display.Markdown object>"
      ]
     },
     "metadata": {},
     "output_type": "display_data"
    },
    {
     "data": {
      "text/markdown": [
       "<img src=\"plots/central_nervous_system_meningioma.png\">"
      ],
      "text/plain": [
       "<IPython.core.display.Markdown object>"
      ]
     },
     "metadata": {},
     "output_type": "display_data"
    },
    {
     "data": {
      "text/markdown": [
       "<img src=\"plots/skin_Merkel.png\">"
      ],
      "text/plain": [
       "<IPython.core.display.Markdown object>"
      ]
     },
     "metadata": {},
     "output_type": "display_data"
    },
    {
     "data": {
      "text/markdown": [
       "<img src=\"plots/soft_tissue_sarcoma_undifferentiated.png\">"
      ],
      "text/plain": [
       "<IPython.core.display.Markdown object>"
      ]
     },
     "metadata": {},
     "output_type": "display_data"
    },
    {
     "data": {
      "text/markdown": [
       "<img src=\"plots/soft_tissue_fibrosarcoma.png\">"
      ],
      "text/plain": [
       "<IPython.core.display.Markdown object>"
      ]
     },
     "metadata": {},
     "output_type": "display_data"
    },
    {
     "data": {
      "text/markdown": [
       "<img src=\"plots/skin_epidermoid_carcinoma.png\">"
      ],
      "text/plain": [
       "<IPython.core.display.Markdown object>"
      ]
     },
     "metadata": {},
     "output_type": "display_data"
    },
    {
     "data": {
      "text/markdown": [
       "<img src=\"plots/skin_squamous.png\">"
      ],
      "text/plain": [
       "<IPython.core.display.Markdown object>"
      ]
     },
     "metadata": {},
     "output_type": "display_data"
    },
    {
     "data": {
      "text/markdown": [
       "<img src=\"plots/ovary_non_epithelial.png\">"
      ],
      "text/plain": [
       "<IPython.core.display.Markdown object>"
      ]
     },
     "metadata": {},
     "output_type": "display_data"
    },
    {
     "data": {
      "text/markdown": [
       "<img src=\"plots/breast_HER2Amp.png\">"
      ],
      "text/plain": [
       "<IPython.core.display.Markdown object>"
      ]
     },
     "metadata": {},
     "output_type": "display_data"
    },
    {
     "data": {
      "text/markdown": [
       "<img src=\"plots/eye_uveal_melanoma.png\">"
      ],
      "text/plain": [
       "<IPython.core.display.Markdown object>"
      ]
     },
     "metadata": {},
     "output_type": "display_data"
    },
    {
     "data": {
      "text/markdown": [
       "<img src=\"plots/soft_tissue_epitheliod_sarcoma.png\">"
      ],
      "text/plain": [
       "<IPython.core.display.Markdown object>"
      ]
     },
     "metadata": {},
     "output_type": "display_data"
    }
   ],
   "source": [
    "for sublin in keep_lineage:\n",
    "    cells = sublineage2cell[sublin]\n",
    "    \n",
    "    best = {}\n",
    "    genes = set()\n",
    "    for c in cells:\n",
    "        try:\n",
    "            cdf = cn[c]\n",
    "            cdf = cdf[cdf >= 2]\n",
    "            best[c] = set(cdf.index)\n",
    "            for g in best[c]:\n",
    "                genes.add(g)\n",
    "                \n",
    "        except Exception as e:\n",
    "            #print('Error',e)\n",
    "            continue\n",
    "    \n",
    "    if len(best) == 0:\n",
    "        continue\n",
    "    \n",
    "    keep_cells = set()\n",
    "    for c in ac_cells:\n",
    "        if c in cells:\n",
    "            keep_cells.add(c)\n",
    "    if len(keep_cells) == 0:\n",
    "        #print(\"no shared cells\")\n",
    "        continue\n",
    "\n",
    "    keep_genes = set()\n",
    "    for g in ac_genes:\n",
    "        if g in genes:\n",
    "            keep_genes.add(g)\n",
    "    if len(keep_genes) == 0:\n",
    "        print(\"no shared genes\")\n",
    "        continue\n",
    "    \n",
    "    try:\n",
    "        ac_s = achilles[keep_cells]\n",
    "        ac_s = ac_s.T[keep_genes].T\n",
    "        cn_s = cn[keep_cells]\n",
    "        cn_s = cn_s.T[keep_genes].T\n",
    "    except:\n",
    "        continue\n",
    "\n",
    "    ac_data = ac_s.to_numpy().flatten()\n",
    "    cn_data = cn_s.to_numpy().flatten()\n",
    "    \n",
    "    # remove NaN and Inf\n",
    "    keep_ac = []\n",
    "    keep_cn = []\n",
    "    for i, d1 in enumerate(ac_data):\n",
    "        d2 = cn_data[i]\n",
    "        # Skip gene dependency > 0\n",
    "        if d1 >= 0:\n",
    "            continue\n",
    "        # Skip copy number < 2\n",
    "        if d2 < 2:\n",
    "            continue\n",
    "        \n",
    "        if not np.isfinite(d1) and np.isfinite(d2):\n",
    "            continue\n",
    "        keep_ac.append(d1)\n",
    "        keep_cn.append(d2)\n",
    "    \n",
    "    ac_data = keep_ac\n",
    "    cn_data = keep_cn  \n",
    "    \n",
    "    plt.scatter(cn_orig,ac_orig,c='silver',label='other lineages')\n",
    "    plt.scatter(cn_data,ac_data,c='r',label='this lineage: gene dep.<0; copy num >= 2')\n",
    "    plt.legend()\n",
    "    outfile = 'plots/'+sublin+'.png'\n",
    "    plt.xlabel('copy number')\n",
    "    plt.ylabel('Achilles gene dependency')\n",
    "    plt.title(sublin)\n",
    "    plt.savefig(outfile,dpi=100)\n",
    "    plt.close()\n",
    "    report('<img src=\"'+outfile+'\">')"
   ]
  },
  {
   "cell_type": "code",
   "execution_count": 51,
   "metadata": {},
   "outputs": [],
   "source": [
    "# Save the table of candidates to an HTML file\n",
    "\n",
    "# Make gene symbol a link\n",
    "rows = []\n",
    "cols = candidates.columns\n",
    "for i, r in candidates.iterrows():\n",
    "    sym = r.HUGO_symbol\n",
    "    sym = '<a href=\"reports/'+sym+'.html\" target=\"_BLANK\">'+sym+'</a>'\n",
    "    r.HUGO_symbol = sym\n",
    "    rows.append(r)\n",
    "report = pd.DataFrame(data=rows,columns=cols)\n",
    "\n",
    "table = report.to_html(index=False)\n",
    "table = table.replace('<table','<table id=\"candidates\"')\n",
    "table = table.replace('&gt;','>')\n",
    "table = table.replace('&lt;','<')\n",
    "\n",
    "with open('../_includes/template.html','r') as html_in:\n",
    "    html = html_in.read()\n",
    "\n",
    "html = html.replace('TABLE',table)\n",
    "\n",
    "with open('../_includes/candidates.html','w') as html_out:\n",
    "    html_out.write(html)"
   ]
  },
  {
   "cell_type": "code",
   "execution_count": 44,
   "metadata": {},
   "outputs": [
    {
     "data": {
      "text/markdown": [
       "## Candidate target genes"
      ],
      "text/plain": [
       "<IPython.core.display.Markdown object>"
      ]
     },
     "metadata": {},
     "output_type": "display_data"
    },
    {
     "data": {
      "text/markdown": [
       "\n",
       "* All genes in this table have copy number > 2 and Achilles gene dependency < 0 for at least 80% of the cell lines in 1 cell lineage'\n",
       "* Other data for cross-validation:\n",
       "  * RNAi gene dependency score\n",
       "  * Whether the gene is a TCGA or COSMIC mutation hotspot\n",
       "  * Whether the gene has > 0 TPM RNASeq expression\n",
       "  \n",
       "{% include candidates.html %}\n"
      ],
      "text/plain": [
       "<IPython.core.display.Markdown object>"
      ]
     },
     "metadata": {},
     "output_type": "display_data"
    }
   ],
   "source": [
    "report('## Candidate target genes')\n",
    "report('''\n",
    "* All genes in this table have copy number > 2 and Achilles gene dependency < 0 for at least 80% of the cell lines in 1 cell lineage'\n",
    "* Other data for cross-validation:\n",
    "  * RNAi gene dependency score\n",
    "  * Whether the gene is a TCGA or COSMIC mutation hotspot\n",
    "  * Whether the gene has > 0 TPM RNASeq expression\n",
    "  \n",
    "{% include candidates.html %}\n",
    "''')\n",
    "\n",
    "\n"
   ]
  },
  {
   "cell_type": "code",
   "execution_count": 45,
   "metadata": {},
   "outputs": [],
   "source": [
    "genes = candidates[['HUGO_symbol','Entrez_ID']].drop_duplicates()\n",
    "pathway_info = get_pathway_info()\n",
    "for symbol, gene in genes.values:\n",
    "    gene = str(gene)\n",
    "    with open('../reports/template.html','r') as html_in:\n",
    "        html = html_in.read()\n",
    "    html = html.replace('SYMBOL',symbol)\n",
    "    \n",
    "    pathway = pathway_info.get(gene)\n",
    "    if pathway is not None:\n",
    "        pid, url, name = pathway\n",
    "        html = html.replace('PNAME','<a href=\"'+url+'\" target=\"_BLANK\">'+name+'</a>')\n",
    "        html = html.replace('START_HIDE','')\n",
    "        html = html.replace('END_HIDE','')\n",
    "    else:\n",
    "        html = html.replace('START_HIDE','<!--')\n",
    "        html = html.replace('END_HIDE','-->')\n",
    "        \n",
    "    symbol = symbol.replace(' ','_')\n",
    "    try:\n",
    "        with open('../reports/'+symbol+'.md','w') as html_out:\n",
    "            html_out.write(html)\n",
    "    except:\n",
    "        pass"
   ]
  },
  {
   "cell_type": "code",
   "execution_count": 46,
   "metadata": {},
   "outputs": [
    {
     "data": {
      "text/markdown": [
       "\n",
       "\n",
       "<h2>Links to gene information</h2>"
      ],
      "text/plain": [
       "<IPython.core.display.Markdown object>"
      ]
     },
     "metadata": {},
     "output_type": "display_data"
    },
    {
     "data": {
      "text/markdown": [
       "DepMap summary, expression, Reactome pathways<br>"
      ],
      "text/plain": [
       "<IPython.core.display.Markdown object>"
      ]
     },
     "metadata": {},
     "output_type": "display_data"
    },
    {
     "data": {
      "text/markdown": [
       "<a href=\"reports/MTBP.html\">MTBP</a><br>"
      ],
      "text/plain": [
       "<IPython.core.display.Markdown object>"
      ]
     },
     "metadata": {},
     "output_type": "display_data"
    },
    {
     "data": {
      "text/markdown": [
       "<a href=\"reports/DCTN6.html\">DCTN6</a><br>"
      ],
      "text/plain": [
       "<IPython.core.display.Markdown object>"
      ]
     },
     "metadata": {},
     "output_type": "display_data"
    },
    {
     "data": {
      "text/markdown": [
       "<a href=\"reports/CHMP7.html\">CHMP7</a><br>"
      ],
      "text/plain": [
       "<IPython.core.display.Markdown object>"
      ]
     },
     "metadata": {},
     "output_type": "display_data"
    },
    {
     "data": {
      "text/markdown": [
       "<a href=\"reports/SERF2.html\">SERF2</a><br>"
      ],
      "text/plain": [
       "<IPython.core.display.Markdown object>"
      ]
     },
     "metadata": {},
     "output_type": "display_data"
    },
    {
     "data": {
      "text/markdown": [
       "<a href=\"reports/SLC6A5.html\">SLC6A5</a><br>"
      ],
      "text/plain": [
       "<IPython.core.display.Markdown object>"
      ]
     },
     "metadata": {},
     "output_type": "display_data"
    },
    {
     "data": {
      "text/markdown": [
       "<a href=\"reports/VCPIP1.html\">VCPIP1</a><br>"
      ],
      "text/plain": [
       "<IPython.core.display.Markdown object>"
      ]
     },
     "metadata": {},
     "output_type": "display_data"
    },
    {
     "data": {
      "text/markdown": [
       "<a href=\"reports/PPP1R14D.html\">PPP1R14D</a><br>"
      ],
      "text/plain": [
       "<IPython.core.display.Markdown object>"
      ]
     },
     "metadata": {},
     "output_type": "display_data"
    },
    {
     "data": {
      "text/markdown": [
       "<a href=\"reports/ST3GAL1.html\">ST3GAL1</a><br>"
      ],
      "text/plain": [
       "<IPython.core.display.Markdown object>"
      ]
     },
     "metadata": {},
     "output_type": "display_data"
    },
    {
     "data": {
      "text/markdown": [
       "<a href=\"reports/FRS3.html\">FRS3</a><br>"
      ],
      "text/plain": [
       "<IPython.core.display.Markdown object>"
      ]
     },
     "metadata": {},
     "output_type": "display_data"
    },
    {
     "data": {
      "text/markdown": [
       "<a href=\"reports/MROH1.html\">MROH1</a><br>"
      ],
      "text/plain": [
       "<IPython.core.display.Markdown object>"
      ]
     },
     "metadata": {},
     "output_type": "display_data"
    },
    {
     "data": {
      "text/markdown": [
       "<a href=\"reports/P4HA3.html\">P4HA3</a><br>"
      ],
      "text/plain": [
       "<IPython.core.display.Markdown object>"
      ]
     },
     "metadata": {},
     "output_type": "display_data"
    },
    {
     "data": {
      "text/markdown": [
       "<a href=\"reports/XPA.html\">XPA</a><br>"
      ],
      "text/plain": [
       "<IPython.core.display.Markdown object>"
      ]
     },
     "metadata": {},
     "output_type": "display_data"
    },
    {
     "data": {
      "text/markdown": [
       "<a href=\"reports/CEP126.html\">CEP126</a><br>"
      ],
      "text/plain": [
       "<IPython.core.display.Markdown object>"
      ]
     },
     "metadata": {},
     "output_type": "display_data"
    },
    {
     "data": {
      "text/markdown": [
       "<a href=\"reports/TACSTD2.html\">TACSTD2</a><br>"
      ],
      "text/plain": [
       "<IPython.core.display.Markdown object>"
      ]
     },
     "metadata": {},
     "output_type": "display_data"
    },
    {
     "data": {
      "text/markdown": [
       "<a href=\"reports/POU5F1B.html\">POU5F1B</a><br>"
      ],
      "text/plain": [
       "<IPython.core.display.Markdown object>"
      ]
     },
     "metadata": {},
     "output_type": "display_data"
    },
    {
     "data": {
      "text/markdown": [
       "<a href=\"reports/TRIO.html\">TRIO</a><br>"
      ],
      "text/plain": [
       "<IPython.core.display.Markdown object>"
      ]
     },
     "metadata": {},
     "output_type": "display_data"
    },
    {
     "data": {
      "text/markdown": [
       "<a href=\"reports/ANAPC15.html\">ANAPC15</a><br>"
      ],
      "text/plain": [
       "<IPython.core.display.Markdown object>"
      ]
     },
     "metadata": {},
     "output_type": "display_data"
    },
    {
     "data": {
      "text/markdown": [
       "<a href=\"reports/ZDHHC11B.html\">ZDHHC11B</a><br>"
      ],
      "text/plain": [
       "<IPython.core.display.Markdown object>"
      ]
     },
     "metadata": {},
     "output_type": "display_data"
    },
    {
     "data": {
      "text/markdown": [
       "<a href=\"reports/ZNF703.html\">ZNF703</a><br>"
      ],
      "text/plain": [
       "<IPython.core.display.Markdown object>"
      ]
     },
     "metadata": {},
     "output_type": "display_data"
    },
    {
     "data": {
      "text/markdown": [
       "<a href=\"reports/OTULIN.html\">OTULIN</a><br>"
      ],
      "text/plain": [
       "<IPython.core.display.Markdown object>"
      ]
     },
     "metadata": {},
     "output_type": "display_data"
    },
    {
     "data": {
      "text/markdown": [
       "<a href=\"reports/TNRC6C.html\">TNRC6C</a><br>"
      ],
      "text/plain": [
       "<IPython.core.display.Markdown object>"
      ]
     },
     "metadata": {},
     "output_type": "display_data"
    },
    {
     "data": {
      "text/markdown": [
       "<a href=\"reports/RPL7.html\">RPL7</a><br>"
      ],
      "text/plain": [
       "<IPython.core.display.Markdown object>"
      ]
     },
     "metadata": {},
     "output_type": "display_data"
    },
    {
     "data": {
      "text/markdown": [
       "<a href=\"reports/CHCHD10.html\">CHCHD10</a><br>"
      ],
      "text/plain": [
       "<IPython.core.display.Markdown object>"
      ]
     },
     "metadata": {},
     "output_type": "display_data"
    },
    {
     "data": {
      "text/markdown": [
       "<a href=\"reports/PVR.html\">PVR</a><br>"
      ],
      "text/plain": [
       "<IPython.core.display.Markdown object>"
      ]
     },
     "metadata": {},
     "output_type": "display_data"
    },
    {
     "data": {
      "text/markdown": [
       "<a href=\"reports/FUT4.html\">FUT4</a><br>"
      ],
      "text/plain": [
       "<IPython.core.display.Markdown object>"
      ]
     },
     "metadata": {},
     "output_type": "display_data"
    },
    {
     "data": {
      "text/markdown": [
       "<a href=\"reports/MRPS18B.html\">MRPS18B</a><br>"
      ],
      "text/plain": [
       "<IPython.core.display.Markdown object>"
      ]
     },
     "metadata": {},
     "output_type": "display_data"
    },
    {
     "data": {
      "text/markdown": [
       "<a href=\"reports/INPPL1.html\">INPPL1</a><br>"
      ],
      "text/plain": [
       "<IPython.core.display.Markdown object>"
      ]
     },
     "metadata": {},
     "output_type": "display_data"
    },
    {
     "data": {
      "text/markdown": [
       "<a href=\"reports/KHDRBS3.html\">KHDRBS3</a><br>"
      ],
      "text/plain": [
       "<IPython.core.display.Markdown object>"
      ]
     },
     "metadata": {},
     "output_type": "display_data"
    },
    {
     "data": {
      "text/markdown": [
       "<a href=\"reports/CCT6A.html\">CCT6A</a><br>"
      ],
      "text/plain": [
       "<IPython.core.display.Markdown object>"
      ]
     },
     "metadata": {},
     "output_type": "display_data"
    },
    {
     "data": {
      "text/markdown": [
       "<a href=\"reports/TRIM49C.html\">TRIM49C</a><br>"
      ],
      "text/plain": [
       "<IPython.core.display.Markdown object>"
      ]
     },
     "metadata": {},
     "output_type": "display_data"
    },
    {
     "data": {
      "text/markdown": [
       "<a href=\"reports/TUSC3.html\">TUSC3</a><br>"
      ],
      "text/plain": [
       "<IPython.core.display.Markdown object>"
      ]
     },
     "metadata": {},
     "output_type": "display_data"
    },
    {
     "data": {
      "text/markdown": [
       "<a href=\"reports/LRRC14B.html\">LRRC14B</a><br>"
      ],
      "text/plain": [
       "<IPython.core.display.Markdown object>"
      ]
     },
     "metadata": {},
     "output_type": "display_data"
    },
    {
     "data": {
      "text/markdown": [
       "<a href=\"reports/MRPS10.html\">MRPS10</a><br>"
      ],
      "text/plain": [
       "<IPython.core.display.Markdown object>"
      ]
     },
     "metadata": {},
     "output_type": "display_data"
    },
    {
     "data": {
      "text/markdown": [
       "<a href=\"reports/TBC1D22A.html\">TBC1D22A</a><br>"
      ],
      "text/plain": [
       "<IPython.core.display.Markdown object>"
      ]
     },
     "metadata": {},
     "output_type": "display_data"
    },
    {
     "data": {
      "text/markdown": [
       "<a href=\"reports/MIF.html\">MIF</a><br>"
      ],
      "text/plain": [
       "<IPython.core.display.Markdown object>"
      ]
     },
     "metadata": {},
     "output_type": "display_data"
    },
    {
     "data": {
      "text/markdown": [
       "<a href=\"reports/ENDOD1.html\">ENDOD1</a><br>"
      ],
      "text/plain": [
       "<IPython.core.display.Markdown object>"
      ]
     },
     "metadata": {},
     "output_type": "display_data"
    },
    {
     "data": {
      "text/markdown": [
       "<a href=\"reports/ICE1.html\">ICE1</a><br>"
      ],
      "text/plain": [
       "<IPython.core.display.Markdown object>"
      ]
     },
     "metadata": {},
     "output_type": "display_data"
    },
    {
     "data": {
      "text/markdown": [
       "<a href=\"reports/VXN.html\">VXN</a><br>"
      ],
      "text/plain": [
       "<IPython.core.display.Markdown object>"
      ]
     },
     "metadata": {},
     "output_type": "display_data"
    },
    {
     "data": {
      "text/markdown": [
       "<a href=\"reports/POLH.html\">POLH</a><br>"
      ],
      "text/plain": [
       "<IPython.core.display.Markdown object>"
      ]
     },
     "metadata": {},
     "output_type": "display_data"
    },
    {
     "data": {
      "text/markdown": [
       "<a href=\"reports/TYRO3.html\">TYRO3</a><br>"
      ],
      "text/plain": [
       "<IPython.core.display.Markdown object>"
      ]
     },
     "metadata": {},
     "output_type": "display_data"
    },
    {
     "data": {
      "text/markdown": [
       "<a href=\"reports/PIP4P2.html\">PIP4P2</a><br>"
      ],
      "text/plain": [
       "<IPython.core.display.Markdown object>"
      ]
     },
     "metadata": {},
     "output_type": "display_data"
    },
    {
     "data": {
      "text/markdown": [
       "<a href=\"reports/FAM98B.html\">FAM98B</a><br>"
      ],
      "text/plain": [
       "<IPython.core.display.Markdown object>"
      ]
     },
     "metadata": {},
     "output_type": "display_data"
    },
    {
     "data": {
      "text/markdown": [
       "<a href=\"reports/FASTKD3.html\">FASTKD3</a><br>"
      ],
      "text/plain": [
       "<IPython.core.display.Markdown object>"
      ]
     },
     "metadata": {},
     "output_type": "display_data"
    },
    {
     "data": {
      "text/markdown": [
       "<a href=\"reports/TERF1.html\">TERF1</a><br>"
      ],
      "text/plain": [
       "<IPython.core.display.Markdown object>"
      ]
     },
     "metadata": {},
     "output_type": "display_data"
    },
    {
     "data": {
      "text/markdown": [
       "<a href=\"reports/COX6C.html\">COX6C</a><br>"
      ],
      "text/plain": [
       "<IPython.core.display.Markdown object>"
      ]
     },
     "metadata": {},
     "output_type": "display_data"
    },
    {
     "data": {
      "text/markdown": [
       "<a href=\"reports/ADAMTS16.html\">ADAMTS16</a><br>"
      ],
      "text/plain": [
       "<IPython.core.display.Markdown object>"
      ]
     },
     "metadata": {},
     "output_type": "display_data"
    },
    {
     "data": {
      "text/markdown": [
       "<a href=\"reports/USP8.html\">USP8</a><br>"
      ],
      "text/plain": [
       "<IPython.core.display.Markdown object>"
      ]
     },
     "metadata": {},
     "output_type": "display_data"
    },
    {
     "data": {
      "text/markdown": [
       "<a href=\"reports/CRLS1.html\">CRLS1</a><br>"
      ],
      "text/plain": [
       "<IPython.core.display.Markdown object>"
      ]
     },
     "metadata": {},
     "output_type": "display_data"
    },
    {
     "data": {
      "text/markdown": [
       "<a href=\"reports/CHORDC1.html\">CHORDC1</a><br>"
      ],
      "text/plain": [
       "<IPython.core.display.Markdown object>"
      ]
     },
     "metadata": {},
     "output_type": "display_data"
    },
    {
     "data": {
      "text/markdown": [
       "<a href=\"reports/TRERF1.html\">TRERF1</a><br>"
      ],
      "text/plain": [
       "<IPython.core.display.Markdown object>"
      ]
     },
     "metadata": {},
     "output_type": "display_data"
    },
    {
     "data": {
      "text/markdown": [
       "<a href=\"reports/OPN5.html\">OPN5</a><br>"
      ],
      "text/plain": [
       "<IPython.core.display.Markdown object>"
      ]
     },
     "metadata": {},
     "output_type": "display_data"
    },
    {
     "data": {
      "text/markdown": [
       "<a href=\"reports/PUF60.html\">PUF60</a><br>"
      ],
      "text/plain": [
       "<IPython.core.display.Markdown object>"
      ]
     },
     "metadata": {},
     "output_type": "display_data"
    },
    {
     "data": {
      "text/markdown": [
       "<a href=\"reports/CTNND2.html\">CTNND2</a><br>"
      ],
      "text/plain": [
       "<IPython.core.display.Markdown object>"
      ]
     },
     "metadata": {},
     "output_type": "display_data"
    },
    {
     "data": {
      "text/markdown": [
       "<a href=\"reports/DMXL2.html\">DMXL2</a><br>"
      ],
      "text/plain": [
       "<IPython.core.display.Markdown object>"
      ]
     },
     "metadata": {},
     "output_type": "display_data"
    },
    {
     "data": {
      "text/markdown": [
       "<a href=\"reports/C6orf136.html\">C6orf136</a><br>"
      ],
      "text/plain": [
       "<IPython.core.display.Markdown object>"
      ]
     },
     "metadata": {},
     "output_type": "display_data"
    },
    {
     "data": {
      "text/markdown": [
       "<a href=\"reports/TAF1D.html\">TAF1D</a><br>"
      ],
      "text/plain": [
       "<IPython.core.display.Markdown object>"
      ]
     },
     "metadata": {},
     "output_type": "display_data"
    },
    {
     "data": {
      "text/markdown": [
       "<a href=\"reports/PIWIL3.html\">PIWIL3</a><br>"
      ],
      "text/plain": [
       "<IPython.core.display.Markdown object>"
      ]
     },
     "metadata": {},
     "output_type": "display_data"
    },
    {
     "data": {
      "text/markdown": [
       "<a href=\"reports/NR2C1.html\">NR2C1</a><br>"
      ],
      "text/plain": [
       "<IPython.core.display.Markdown object>"
      ]
     },
     "metadata": {},
     "output_type": "display_data"
    },
    {
     "data": {
      "text/markdown": [
       "<a href=\"reports/IRX2.html\">IRX2</a><br>"
      ],
      "text/plain": [
       "<IPython.core.display.Markdown object>"
      ]
     },
     "metadata": {},
     "output_type": "display_data"
    },
    {
     "data": {
      "text/markdown": [
       "<a href=\"reports/C6orf132.html\">C6orf132</a><br>"
      ],
      "text/plain": [
       "<IPython.core.display.Markdown object>"
      ]
     },
     "metadata": {},
     "output_type": "display_data"
    },
    {
     "data": {
      "text/markdown": [
       "<a href=\"reports/IGLL5.html\">IGLL5</a><br>"
      ],
      "text/plain": [
       "<IPython.core.display.Markdown object>"
      ]
     },
     "metadata": {},
     "output_type": "display_data"
    },
    {
     "data": {
      "text/markdown": [
       "<a href=\"reports/MTERF3.html\">MTERF3</a><br>"
      ],
      "text/plain": [
       "<IPython.core.display.Markdown object>"
      ]
     },
     "metadata": {},
     "output_type": "display_data"
    },
    {
     "data": {
      "text/markdown": [
       "<a href=\"reports/IL18BP.html\">IL18BP</a><br>"
      ],
      "text/plain": [
       "<IPython.core.display.Markdown object>"
      ]
     },
     "metadata": {},
     "output_type": "display_data"
    },
    {
     "data": {
      "text/markdown": [
       "<a href=\"reports/FBXO4.html\">FBXO4</a><br>"
      ],
      "text/plain": [
       "<IPython.core.display.Markdown object>"
      ]
     },
     "metadata": {},
     "output_type": "display_data"
    },
    {
     "data": {
      "text/markdown": [
       "<a href=\"reports/CCDC116.html\">CCDC116</a><br>"
      ],
      "text/plain": [
       "<IPython.core.display.Markdown object>"
      ]
     },
     "metadata": {},
     "output_type": "display_data"
    },
    {
     "data": {
      "text/markdown": [
       "<a href=\"reports/TIGD5.html\">TIGD5</a><br>"
      ],
      "text/plain": [
       "<IPython.core.display.Markdown object>"
      ]
     },
     "metadata": {},
     "output_type": "display_data"
    },
    {
     "data": {
      "text/markdown": [
       "<a href=\"reports/RAB6A.html\">RAB6A</a><br>"
      ],
      "text/plain": [
       "<IPython.core.display.Markdown object>"
      ]
     },
     "metadata": {},
     "output_type": "display_data"
    },
    {
     "data": {
      "text/markdown": [
       "<a href=\"reports/TPCN2.html\">TPCN2</a><br>"
      ],
      "text/plain": [
       "<IPython.core.display.Markdown object>"
      ]
     },
     "metadata": {},
     "output_type": "display_data"
    },
    {
     "data": {
      "text/markdown": [
       "<a href=\"reports/DNAH5.html\">DNAH5</a><br>"
      ],
      "text/plain": [
       "<IPython.core.display.Markdown object>"
      ]
     },
     "metadata": {},
     "output_type": "display_data"
    },
    {
     "data": {
      "text/markdown": [
       "<a href=\"reports/CHRAC1.html\">CHRAC1</a><br>"
      ],
      "text/plain": [
       "<IPython.core.display.Markdown object>"
      ]
     },
     "metadata": {},
     "output_type": "display_data"
    },
    {
     "data": {
      "text/markdown": [
       "<a href=\"reports/TTI2.html\">TTI2</a><br>"
      ],
      "text/plain": [
       "<IPython.core.display.Markdown object>"
      ]
     },
     "metadata": {},
     "output_type": "display_data"
    },
    {
     "data": {
      "text/markdown": [
       "<a href=\"reports/MOGAT2.html\">MOGAT2</a><br>"
      ],
      "text/plain": [
       "<IPython.core.display.Markdown object>"
      ]
     },
     "metadata": {},
     "output_type": "display_data"
    },
    {
     "data": {
      "text/markdown": [
       "<a href=\"reports/VPREB3.html\">VPREB3</a><br>"
      ],
      "text/plain": [
       "<IPython.core.display.Markdown object>"
      ]
     },
     "metadata": {},
     "output_type": "display_data"
    },
    {
     "data": {
      "text/markdown": [
       "<a href=\"reports/MTMR12.html\">MTMR12</a><br>"
      ],
      "text/plain": [
       "<IPython.core.display.Markdown object>"
      ]
     },
     "metadata": {},
     "output_type": "display_data"
    },
    {
     "data": {
      "text/markdown": [
       "<a href=\"reports/TSR2.html\">TSR2</a><br>"
      ],
      "text/plain": [
       "<IPython.core.display.Markdown object>"
      ]
     },
     "metadata": {},
     "output_type": "display_data"
    },
    {
     "data": {
      "text/markdown": [
       "<a href=\"reports/ERLIN2.html\">ERLIN2</a><br>"
      ],
      "text/plain": [
       "<IPython.core.display.Markdown object>"
      ]
     },
     "metadata": {},
     "output_type": "display_data"
    },
    {
     "data": {
      "text/markdown": [
       "<a href=\"reports/DCAF13.html\">DCAF13</a><br>"
      ],
      "text/plain": [
       "<IPython.core.display.Markdown object>"
      ]
     },
     "metadata": {},
     "output_type": "display_data"
    },
    {
     "data": {
      "text/markdown": [
       "<a href=\"reports/GPR152.html\">GPR152</a><br>"
      ],
      "text/plain": [
       "<IPython.core.display.Markdown object>"
      ]
     },
     "metadata": {},
     "output_type": "display_data"
    },
    {
     "data": {
      "text/markdown": [
       "<a href=\"reports/CASP4.html\">CASP4</a><br>"
      ],
      "text/plain": [
       "<IPython.core.display.Markdown object>"
      ]
     },
     "metadata": {},
     "output_type": "display_data"
    },
    {
     "data": {
      "text/markdown": [
       "<a href=\"reports/C8orf88.html\">C8orf88</a><br>"
      ],
      "text/plain": [
       "<IPython.core.display.Markdown object>"
      ]
     },
     "metadata": {},
     "output_type": "display_data"
    },
    {
     "data": {
      "text/markdown": [
       "<a href=\"reports/DUT.html\">DUT</a><br>"
      ],
      "text/plain": [
       "<IPython.core.display.Markdown object>"
      ]
     },
     "metadata": {},
     "output_type": "display_data"
    },
    {
     "data": {
      "text/markdown": [
       "<a href=\"reports/ASH2L.html\">ASH2L</a><br>"
      ],
      "text/plain": [
       "<IPython.core.display.Markdown object>"
      ]
     },
     "metadata": {},
     "output_type": "display_data"
    },
    {
     "data": {
      "text/markdown": [
       "<a href=\"reports/AMACR.html\">AMACR</a><br>"
      ],
      "text/plain": [
       "<IPython.core.display.Markdown object>"
      ]
     },
     "metadata": {},
     "output_type": "display_data"
    },
    {
     "data": {
      "text/markdown": [
       "<a href=\"reports/KBTBD3.html\">KBTBD3</a><br>"
      ],
      "text/plain": [
       "<IPython.core.display.Markdown object>"
      ]
     },
     "metadata": {},
     "output_type": "display_data"
    },
    {
     "data": {
      "text/markdown": [
       "<a href=\"reports/IL17A.html\">IL17A</a><br>"
      ],
      "text/plain": [
       "<IPython.core.display.Markdown object>"
      ]
     },
     "metadata": {},
     "output_type": "display_data"
    },
    {
     "data": {
      "text/markdown": [
       "<a href=\"reports/MFSD3.html\">MFSD3</a><br>"
      ],
      "text/plain": [
       "<IPython.core.display.Markdown object>"
      ]
     },
     "metadata": {},
     "output_type": "display_data"
    },
    {
     "data": {
      "text/markdown": [
       "<a href=\"reports/CYP2J2.html\">CYP2J2</a><br>"
      ],
      "text/plain": [
       "<IPython.core.display.Markdown object>"
      ]
     },
     "metadata": {},
     "output_type": "display_data"
    },
    {
     "data": {
      "text/markdown": [
       "<a href=\"reports/P2RY2.html\">P2RY2</a><br>"
      ],
      "text/plain": [
       "<IPython.core.display.Markdown object>"
      ]
     },
     "metadata": {},
     "output_type": "display_data"
    },
    {
     "data": {
      "text/markdown": [
       "<a href=\"reports/NIPBL.html\">NIPBL</a><br>"
      ],
      "text/plain": [
       "<IPython.core.display.Markdown object>"
      ]
     },
     "metadata": {},
     "output_type": "display_data"
    },
    {
     "data": {
      "text/markdown": [
       "<a href=\"reports/C5orf49.html\">C5orf49</a><br>"
      ],
      "text/plain": [
       "<IPython.core.display.Markdown object>"
      ]
     },
     "metadata": {},
     "output_type": "display_data"
    },
    {
     "data": {
      "text/markdown": [
       "<a href=\"reports/CHAC1.html\">CHAC1</a><br>"
      ],
      "text/plain": [
       "<IPython.core.display.Markdown object>"
      ]
     },
     "metadata": {},
     "output_type": "display_data"
    },
    {
     "data": {
      "text/markdown": [
       "<a href=\"reports/SQOR.html\">SQOR</a><br>"
      ],
      "text/plain": [
       "<IPython.core.display.Markdown object>"
      ]
     },
     "metadata": {},
     "output_type": "display_data"
    },
    {
     "data": {
      "text/markdown": [
       "<a href=\"reports/MRPL48.html\">MRPL48</a><br>"
      ],
      "text/plain": [
       "<IPython.core.display.Markdown object>"
      ]
     },
     "metadata": {},
     "output_type": "display_data"
    },
    {
     "data": {
      "text/markdown": [
       "<a href=\"reports/ALDH3B2.html\">ALDH3B2</a><br>"
      ],
      "text/plain": [
       "<IPython.core.display.Markdown object>"
      ]
     },
     "metadata": {},
     "output_type": "display_data"
    },
    {
     "data": {
      "text/markdown": [
       "<a href=\"reports/MCM3.html\">MCM3</a><br>"
      ],
      "text/plain": [
       "<IPython.core.display.Markdown object>"
      ]
     },
     "metadata": {},
     "output_type": "display_data"
    },
    {
     "data": {
      "text/markdown": [
       "<a href=\"reports/GRM5.html\">GRM5</a><br>"
      ],
      "text/plain": [
       "<IPython.core.display.Markdown object>"
      ]
     },
     "metadata": {},
     "output_type": "display_data"
    },
    {
     "data": {
      "text/markdown": [
       "<a href=\"reports/WNK3.html\">WNK3</a><br>"
      ],
      "text/plain": [
       "<IPython.core.display.Markdown object>"
      ]
     },
     "metadata": {},
     "output_type": "display_data"
    },
    {
     "data": {
      "text/markdown": [
       "<a href=\"reports/LRRC1.html\">LRRC1</a><br>"
      ],
      "text/plain": [
       "<IPython.core.display.Markdown object>"
      ]
     },
     "metadata": {},
     "output_type": "display_data"
    },
    {
     "data": {
      "text/markdown": [
       "<a href=\"reports/A1CF.html\">A1CF</a><br>"
      ],
      "text/plain": [
       "<IPython.core.display.Markdown object>"
      ]
     },
     "metadata": {},
     "output_type": "display_data"
    },
    {
     "data": {
      "text/markdown": [
       "<a href=\"reports/EIF3E.html\">EIF3E</a><br>"
      ],
      "text/plain": [
       "<IPython.core.display.Markdown object>"
      ]
     },
     "metadata": {},
     "output_type": "display_data"
    },
    {
     "data": {
      "text/markdown": [
       "<a href=\"reports/UBR5.html\">UBR5</a><br>"
      ],
      "text/plain": [
       "<IPython.core.display.Markdown object>"
      ]
     },
     "metadata": {},
     "output_type": "display_data"
    },
    {
     "data": {
      "text/markdown": [
       "<a href=\"reports/TARS.html\">TARS</a><br>"
      ],
      "text/plain": [
       "<IPython.core.display.Markdown object>"
      ]
     },
     "metadata": {},
     "output_type": "display_data"
    },
    {
     "data": {
      "text/markdown": [
       "<a href=\"reports/CPSF1.html\">CPSF1</a><br>"
      ],
      "text/plain": [
       "<IPython.core.display.Markdown object>"
      ]
     },
     "metadata": {},
     "output_type": "display_data"
    },
    {
     "data": {
      "text/markdown": [
       "<a href=\"reports/TMIGD2.html\">TMIGD2</a><br>"
      ],
      "text/plain": [
       "<IPython.core.display.Markdown object>"
      ]
     },
     "metadata": {},
     "output_type": "display_data"
    },
    {
     "data": {
      "text/markdown": [
       "<a href=\"reports/RPP21.html\">RPP21</a><br>"
      ],
      "text/plain": [
       "<IPython.core.display.Markdown object>"
      ]
     },
     "metadata": {},
     "output_type": "display_data"
    },
    {
     "data": {
      "text/markdown": [
       "<a href=\"reports/ATP6V1G2.html\">ATP6V1G2</a><br>"
      ],
      "text/plain": [
       "<IPython.core.display.Markdown object>"
      ]
     },
     "metadata": {},
     "output_type": "display_data"
    },
    {
     "data": {
      "text/markdown": [
       "<a href=\"reports/ZBTB10.html\">ZBTB10</a><br>"
      ],
      "text/plain": [
       "<IPython.core.display.Markdown object>"
      ]
     },
     "metadata": {},
     "output_type": "display_data"
    },
    {
     "data": {
      "text/markdown": [
       "<a href=\"reports/TPBGL.html\">TPBGL</a><br>"
      ],
      "text/plain": [
       "<IPython.core.display.Markdown object>"
      ]
     },
     "metadata": {},
     "output_type": "display_data"
    },
    {
     "data": {
      "text/markdown": [
       "<a href=\"reports/GUCD1.html\">GUCD1</a><br>"
      ],
      "text/plain": [
       "<IPython.core.display.Markdown object>"
      ]
     },
     "metadata": {},
     "output_type": "display_data"
    },
    {
     "data": {
      "text/markdown": [
       "<a href=\"reports/HSCB.html\">HSCB</a><br>"
      ],
      "text/plain": [
       "<IPython.core.display.Markdown object>"
      ]
     },
     "metadata": {},
     "output_type": "display_data"
    },
    {
     "data": {
      "text/markdown": [
       "<a href=\"reports/PDIA6.html\">PDIA6</a><br>"
      ],
      "text/plain": [
       "<IPython.core.display.Markdown object>"
      ]
     },
     "metadata": {},
     "output_type": "display_data"
    },
    {
     "data": {
      "text/markdown": [
       "<a href=\"reports/MRPS28.html\">MRPS28</a><br>"
      ],
      "text/plain": [
       "<IPython.core.display.Markdown object>"
      ]
     },
     "metadata": {},
     "output_type": "display_data"
    },
    {
     "data": {
      "text/markdown": [
       "<a href=\"reports/OIP5.html\">OIP5</a><br>"
      ],
      "text/plain": [
       "<IPython.core.display.Markdown object>"
      ]
     },
     "metadata": {},
     "output_type": "display_data"
    },
    {
     "data": {
      "text/markdown": [
       "<a href=\"reports/ABRA.html\">ABRA</a><br>"
      ],
      "text/plain": [
       "<IPython.core.display.Markdown object>"
      ]
     },
     "metadata": {},
     "output_type": "display_data"
    },
    {
     "data": {
      "text/markdown": [
       "<a href=\"reports/ESCO2.html\">ESCO2</a><br>"
      ],
      "text/plain": [
       "<IPython.core.display.Markdown object>"
      ]
     },
     "metadata": {},
     "output_type": "display_data"
    },
    {
     "data": {
      "text/markdown": [
       "<a href=\"reports/AANAT.html\">AANAT</a><br>"
      ],
      "text/plain": [
       "<IPython.core.display.Markdown object>"
      ]
     },
     "metadata": {},
     "output_type": "display_data"
    },
    {
     "data": {
      "text/markdown": [
       "<a href=\"reports/RARS.html\">RARS</a><br>"
      ],
      "text/plain": [
       "<IPython.core.display.Markdown object>"
      ]
     },
     "metadata": {},
     "output_type": "display_data"
    },
    {
     "data": {
      "text/markdown": [
       "<a href=\"reports/RNF169.html\">RNF169</a><br>"
      ],
      "text/plain": [
       "<IPython.core.display.Markdown object>"
      ]
     },
     "metadata": {},
     "output_type": "display_data"
    },
    {
     "data": {
      "text/markdown": [
       "<a href=\"reports/ODF1.html\">ODF1</a><br>"
      ],
      "text/plain": [
       "<IPython.core.display.Markdown object>"
      ]
     },
     "metadata": {},
     "output_type": "display_data"
    },
    {
     "data": {
      "text/markdown": [
       "<a href=\"reports/UCP3.html\">UCP3</a><br>"
      ],
      "text/plain": [
       "<IPython.core.display.Markdown object>"
      ]
     },
     "metadata": {},
     "output_type": "display_data"
    },
    {
     "data": {
      "text/markdown": [
       "<a href=\"reports/BGLAP.html\">BGLAP</a><br>"
      ],
      "text/plain": [
       "<IPython.core.display.Markdown object>"
      ]
     },
     "metadata": {},
     "output_type": "display_data"
    },
    {
     "data": {
      "text/markdown": [
       "<a href=\"reports/SLC6A3.html\">SLC6A3</a><br>"
      ],
      "text/plain": [
       "<IPython.core.display.Markdown object>"
      ]
     },
     "metadata": {},
     "output_type": "display_data"
    },
    {
     "data": {
      "text/markdown": [
       "<a href=\"reports/FER1L6.html\">FER1L6</a><br>"
      ],
      "text/plain": [
       "<IPython.core.display.Markdown object>"
      ]
     },
     "metadata": {},
     "output_type": "display_data"
    },
    {
     "data": {
      "text/markdown": [
       "<a href=\"reports/EXTL3.html\">EXTL3</a><br>"
      ],
      "text/plain": [
       "<IPython.core.display.Markdown object>"
      ]
     },
     "metadata": {},
     "output_type": "display_data"
    },
    {
     "data": {
      "text/markdown": [
       "<a href=\"reports/USP49.html\">USP49</a><br>"
      ],
      "text/plain": [
       "<IPython.core.display.Markdown object>"
      ]
     },
     "metadata": {},
     "output_type": "display_data"
    },
    {
     "data": {
      "text/markdown": [
       "<a href=\"reports/GNL1.html\">GNL1</a><br>"
      ],
      "text/plain": [
       "<IPython.core.display.Markdown object>"
      ]
     },
     "metadata": {},
     "output_type": "display_data"
    },
    {
     "data": {
      "text/markdown": [
       "<a href=\"reports/LRATD2.html\">LRATD2</a><br>"
      ],
      "text/plain": [
       "<IPython.core.display.Markdown object>"
      ]
     },
     "metadata": {},
     "output_type": "display_data"
    },
    {
     "data": {
      "text/markdown": [
       "<a href=\"reports/MRPS18A.html\">MRPS18A</a><br>"
      ],
      "text/plain": [
       "<IPython.core.display.Markdown object>"
      ]
     },
     "metadata": {},
     "output_type": "display_data"
    },
    {
     "data": {
      "text/markdown": [
       "<a href=\"reports/CDCA2.html\">CDCA2</a><br>"
      ],
      "text/plain": [
       "<IPython.core.display.Markdown object>"
      ]
     },
     "metadata": {},
     "output_type": "display_data"
    },
    {
     "data": {
      "text/markdown": [
       "<a href=\"reports/NOP56.html\">NOP56</a><br>"
      ],
      "text/plain": [
       "<IPython.core.display.Markdown object>"
      ]
     },
     "metadata": {},
     "output_type": "display_data"
    },
    {
     "data": {
      "text/markdown": [
       "<a href=\"reports/TRIP13.html\">TRIP13</a><br>"
      ],
      "text/plain": [
       "<IPython.core.display.Markdown object>"
      ]
     },
     "metadata": {},
     "output_type": "display_data"
    },
    {
     "data": {
      "text/markdown": [
       "<a href=\"reports/MRPL21.html\">MRPL21</a><br>"
      ],
      "text/plain": [
       "<IPython.core.display.Markdown object>"
      ]
     },
     "metadata": {},
     "output_type": "display_data"
    },
    {
     "data": {
      "text/markdown": [
       "<a href=\"reports/OTUD6B.html\">OTUD6B</a><br>"
      ],
      "text/plain": [
       "<IPython.core.display.Markdown object>"
      ]
     },
     "metadata": {},
     "output_type": "display_data"
    },
    {
     "data": {
      "text/markdown": [
       "<a href=\"reports/ZNF250.html\">ZNF250</a><br>"
      ],
      "text/plain": [
       "<IPython.core.display.Markdown object>"
      ]
     },
     "metadata": {},
     "output_type": "display_data"
    },
    {
     "data": {
      "text/markdown": [
       "<a href=\"reports/SHC4.html\">SHC4</a><br>"
      ],
      "text/plain": [
       "<IPython.core.display.Markdown object>"
      ]
     },
     "metadata": {},
     "output_type": "display_data"
    },
    {
     "data": {
      "text/markdown": [
       "<a href=\"reports/TBCC.html\">TBCC</a><br>"
      ],
      "text/plain": [
       "<IPython.core.display.Markdown object>"
      ]
     },
     "metadata": {},
     "output_type": "display_data"
    },
    {
     "data": {
      "text/markdown": [
       "<a href=\"reports/DHX16.html\">DHX16</a><br>"
      ],
      "text/plain": [
       "<IPython.core.display.Markdown object>"
      ]
     },
     "metadata": {},
     "output_type": "display_data"
    },
    {
     "data": {
      "text/markdown": [
       "<a href=\"reports/OR4K2.html\">OR4K2</a><br>"
      ],
      "text/plain": [
       "<IPython.core.display.Markdown object>"
      ]
     },
     "metadata": {},
     "output_type": "display_data"
    },
    {
     "data": {
      "text/markdown": [
       "<a href=\"reports/ITPA.html\">ITPA</a><br>"
      ],
      "text/plain": [
       "<IPython.core.display.Markdown object>"
      ]
     },
     "metadata": {},
     "output_type": "display_data"
    },
    {
     "data": {
      "text/markdown": [
       "<a href=\"reports/COMMD5.html\">COMMD5</a><br>"
      ],
      "text/plain": [
       "<IPython.core.display.Markdown object>"
      ]
     },
     "metadata": {},
     "output_type": "display_data"
    },
    {
     "data": {
      "text/markdown": [
       "<a href=\"reports/EFHC1.html\">EFHC1</a><br>"
      ],
      "text/plain": [
       "<IPython.core.display.Markdown object>"
      ]
     },
     "metadata": {},
     "output_type": "display_data"
    },
    {
     "data": {
      "text/markdown": [
       "<a href=\"reports/TMEM64.html\">TMEM64</a><br>"
      ],
      "text/plain": [
       "<IPython.core.display.Markdown object>"
      ]
     },
     "metadata": {},
     "output_type": "display_data"
    },
    {
     "data": {
      "text/markdown": [
       "<a href=\"reports/FGFR1.html\">FGFR1</a><br>"
      ],
      "text/plain": [
       "<IPython.core.display.Markdown object>"
      ]
     },
     "metadata": {},
     "output_type": "display_data"
    },
    {
     "data": {
      "text/markdown": [
       "<a href=\"reports/TM2D1.html\">TM2D1</a><br>"
      ],
      "text/plain": [
       "<IPython.core.display.Markdown object>"
      ]
     },
     "metadata": {},
     "output_type": "display_data"
    },
    {
     "data": {
      "text/markdown": [
       "<a href=\"reports/AP4S1.html\">AP4S1</a><br>"
      ],
      "text/plain": [
       "<IPython.core.display.Markdown object>"
      ]
     },
     "metadata": {},
     "output_type": "display_data"
    },
    {
     "data": {
      "text/markdown": [
       "<a href=\"reports/SLC9A3.html\">SLC9A3</a><br>"
      ],
      "text/plain": [
       "<IPython.core.display.Markdown object>"
      ]
     },
     "metadata": {},
     "output_type": "display_data"
    },
    {
     "data": {
      "text/markdown": [
       "<a href=\"reports/MYSM1.html\">MYSM1</a><br>"
      ],
      "text/plain": [
       "<IPython.core.display.Markdown object>"
      ]
     },
     "metadata": {},
     "output_type": "display_data"
    },
    {
     "data": {
      "text/markdown": [
       "<a href=\"reports/BRD9.html\">BRD9</a><br>"
      ],
      "text/plain": [
       "<IPython.core.display.Markdown object>"
      ]
     },
     "metadata": {},
     "output_type": "display_data"
    },
    {
     "data": {
      "text/markdown": [
       "<a href=\"reports/NEFM.html\">NEFM</a><br>"
      ],
      "text/plain": [
       "<IPython.core.display.Markdown object>"
      ]
     },
     "metadata": {},
     "output_type": "display_data"
    },
    {
     "data": {
      "text/markdown": [
       "<a href=\"reports/DOCK7.html\">DOCK7</a><br>"
      ],
      "text/plain": [
       "<IPython.core.display.Markdown object>"
      ]
     },
     "metadata": {},
     "output_type": "display_data"
    },
    {
     "data": {
      "text/markdown": [
       "<a href=\"reports/OMA1.html\">OMA1</a><br>"
      ],
      "text/plain": [
       "<IPython.core.display.Markdown object>"
      ]
     },
     "metadata": {},
     "output_type": "display_data"
    },
    {
     "data": {
      "text/markdown": [
       "<a href=\"reports/SPECC1L.html\">SPECC1L</a><br>"
      ],
      "text/plain": [
       "<IPython.core.display.Markdown object>"
      ]
     },
     "metadata": {},
     "output_type": "display_data"
    },
    {
     "data": {
      "text/markdown": [
       "<a href=\"reports/PPME1.html\">PPME1</a><br>"
      ],
      "text/plain": [
       "<IPython.core.display.Markdown object>"
      ]
     },
     "metadata": {},
     "output_type": "display_data"
    },
    {
     "data": {
      "text/markdown": [
       "<a href=\"reports/CSPP1.html\">CSPP1</a><br>"
      ],
      "text/plain": [
       "<IPython.core.display.Markdown object>"
      ]
     },
     "metadata": {},
     "output_type": "display_data"
    },
    {
     "data": {
      "text/markdown": [
       "<a href=\"reports/ATF1.html\">ATF1</a><br>"
      ],
      "text/plain": [
       "<IPython.core.display.Markdown object>"
      ]
     },
     "metadata": {},
     "output_type": "display_data"
    },
    {
     "data": {
      "text/markdown": [
       "<a href=\"reports/CUL9.html\">CUL9</a><br>"
      ],
      "text/plain": [
       "<IPython.core.display.Markdown object>"
      ]
     },
     "metadata": {},
     "output_type": "display_data"
    },
    {
     "data": {
      "text/markdown": [
       "<a href=\"reports/FBXO9.html\">FBXO9</a><br>"
      ],
      "text/plain": [
       "<IPython.core.display.Markdown object>"
      ]
     },
     "metadata": {},
     "output_type": "display_data"
    },
    {
     "data": {
      "text/markdown": [
       "<a href=\"reports/EVL.html\">EVL</a><br>"
      ],
      "text/plain": [
       "<IPython.core.display.Markdown object>"
      ]
     },
     "metadata": {},
     "output_type": "display_data"
    },
    {
     "data": {
      "text/markdown": [
       "<a href=\"reports/PLEKHF2.html\">PLEKHF2</a><br>"
      ],
      "text/plain": [
       "<IPython.core.display.Markdown object>"
      ]
     },
     "metadata": {},
     "output_type": "display_data"
    },
    {
     "data": {
      "text/markdown": [
       "<a href=\"reports/MLIP.html\">MLIP</a><br>"
      ],
      "text/plain": [
       "<IPython.core.display.Markdown object>"
      ]
     },
     "metadata": {},
     "output_type": "display_data"
    },
    {
     "data": {
      "text/markdown": [
       "<a href=\"reports/CYC1.html\">CYC1</a><br>"
      ],
      "text/plain": [
       "<IPython.core.display.Markdown object>"
      ]
     },
     "metadata": {},
     "output_type": "display_data"
    },
    {
     "data": {
      "text/markdown": [
       "<a href=\"reports/SPHK1.html\">SPHK1</a><br>"
      ],
      "text/plain": [
       "<IPython.core.display.Markdown object>"
      ]
     },
     "metadata": {},
     "output_type": "display_data"
    },
    {
     "data": {
      "text/markdown": [
       "<a href=\"reports/NUP155.html\">NUP155</a><br>"
      ],
      "text/plain": [
       "<IPython.core.display.Markdown object>"
      ]
     },
     "metadata": {},
     "output_type": "display_data"
    },
    {
     "data": {
      "text/markdown": [
       "<a href=\"reports/LEO1.html\">LEO1</a><br>"
      ],
      "text/plain": [
       "<IPython.core.display.Markdown object>"
      ]
     },
     "metadata": {},
     "output_type": "display_data"
    },
    {
     "data": {
      "text/markdown": [
       "<a href=\"reports/TBR1.html\">TBR1</a><br>"
      ],
      "text/plain": [
       "<IPython.core.display.Markdown object>"
      ]
     },
     "metadata": {},
     "output_type": "display_data"
    },
    {
     "data": {
      "text/markdown": [
       "<a href=\"reports/MTNR1B.html\">MTNR1B</a><br>"
      ],
      "text/plain": [
       "<IPython.core.display.Markdown object>"
      ]
     },
     "metadata": {},
     "output_type": "display_data"
    },
    {
     "data": {
      "text/markdown": [
       "<a href=\"reports/TBX10.html\">TBX10</a><br>"
      ],
      "text/plain": [
       "<IPython.core.display.Markdown object>"
      ]
     },
     "metadata": {},
     "output_type": "display_data"
    },
    {
     "data": {
      "text/markdown": [
       "<a href=\"reports/RPS6KB2.html\">RPS6KB2</a><br>"
      ],
      "text/plain": [
       "<IPython.core.display.Markdown object>"
      ]
     },
     "metadata": {},
     "output_type": "display_data"
    },
    {
     "data": {
      "text/markdown": [
       "<a href=\"reports/RPS20.html\">RPS20</a><br>"
      ],
      "text/plain": [
       "<IPython.core.display.Markdown object>"
      ]
     },
     "metadata": {},
     "output_type": "display_data"
    },
    {
     "data": {
      "text/markdown": [
       "<a href=\"reports/MRPS26.html\">MRPS26</a><br>"
      ],
      "text/plain": [
       "<IPython.core.display.Markdown object>"
      ]
     },
     "metadata": {},
     "output_type": "display_data"
    },
    {
     "data": {
      "text/markdown": [
       "<a href=\"reports/SLC30A4.html\">SLC30A4</a><br>"
      ],
      "text/plain": [
       "<IPython.core.display.Markdown object>"
      ]
     },
     "metadata": {},
     "output_type": "display_data"
    },
    {
     "data": {
      "text/markdown": [
       "<a href=\"reports/INTS8.html\">INTS8</a><br>"
      ],
      "text/plain": [
       "<IPython.core.display.Markdown object>"
      ]
     },
     "metadata": {},
     "output_type": "display_data"
    },
    {
     "data": {
      "text/markdown": [
       "<a href=\"reports/TCIM.html\">TCIM</a><br>"
      ],
      "text/plain": [
       "<IPython.core.display.Markdown object>"
      ]
     },
     "metadata": {},
     "output_type": "display_data"
    },
    {
     "data": {
      "text/markdown": [
       "<a href=\"reports/SPATA5L1.html\">SPATA5L1</a><br>"
      ],
      "text/plain": [
       "<IPython.core.display.Markdown object>"
      ]
     },
     "metadata": {},
     "output_type": "display_data"
    },
    {
     "data": {
      "text/markdown": [
       "<a href=\"reports/PI15.html\">PI15</a><br>"
      ],
      "text/plain": [
       "<IPython.core.display.Markdown object>"
      ]
     },
     "metadata": {},
     "output_type": "display_data"
    },
    {
     "data": {
      "text/markdown": [
       "<a href=\"reports/KCTD21.html\">KCTD21</a><br>"
      ],
      "text/plain": [
       "<IPython.core.display.Markdown object>"
      ]
     },
     "metadata": {},
     "output_type": "display_data"
    },
    {
     "data": {
      "text/markdown": [
       "<a href=\"reports/LACTB2.html\">LACTB2</a><br>"
      ],
      "text/plain": [
       "<IPython.core.display.Markdown object>"
      ]
     },
     "metadata": {},
     "output_type": "display_data"
    },
    {
     "data": {
      "text/markdown": [
       "<a href=\"reports/PITPNB.html\">PITPNB</a><br>"
      ],
      "text/plain": [
       "<IPython.core.display.Markdown object>"
      ]
     },
     "metadata": {},
     "output_type": "display_data"
    },
    {
     "data": {
      "text/markdown": [
       "<a href=\"reports/BLID.html\">BLID</a><br>"
      ],
      "text/plain": [
       "<IPython.core.display.Markdown object>"
      ]
     },
     "metadata": {},
     "output_type": "display_data"
    },
    {
     "data": {
      "text/markdown": [
       "<a href=\"reports/TTBK1.html\">TTBK1</a><br>"
      ],
      "text/plain": [
       "<IPython.core.display.Markdown object>"
      ]
     },
     "metadata": {},
     "output_type": "display_data"
    },
    {
     "data": {
      "text/markdown": [
       "<a href=\"reports/OR4M1.html\">OR4M1</a><br>"
      ],
      "text/plain": [
       "<IPython.core.display.Markdown object>"
      ]
     },
     "metadata": {},
     "output_type": "display_data"
    },
    {
     "data": {
      "text/markdown": [
       "<a href=\"reports/C8orf82.html\">C8orf82</a><br>"
      ],
      "text/plain": [
       "<IPython.core.display.Markdown object>"
      ]
     },
     "metadata": {},
     "output_type": "display_data"
    },
    {
     "data": {
      "text/markdown": [
       "<a href=\"reports/NUDT8.html\">NUDT8</a><br>"
      ],
      "text/plain": [
       "<IPython.core.display.Markdown object>"
      ]
     },
     "metadata": {},
     "output_type": "display_data"
    },
    {
     "data": {
      "text/markdown": [
       "<a href=\"reports/SPIDR.html\">SPIDR</a><br>"
      ],
      "text/plain": [
       "<IPython.core.display.Markdown object>"
      ]
     },
     "metadata": {},
     "output_type": "display_data"
    },
    {
     "data": {
      "text/markdown": [
       "<a href=\"reports/MAGED2.html\">MAGED2</a><br>"
      ],
      "text/plain": [
       "<IPython.core.display.Markdown object>"
      ]
     },
     "metadata": {},
     "output_type": "display_data"
    },
    {
     "data": {
      "text/markdown": [
       "<a href=\"reports/CLNS1A.html\">CLNS1A</a><br>"
      ],
      "text/plain": [
       "<IPython.core.display.Markdown object>"
      ]
     },
     "metadata": {},
     "output_type": "display_data"
    },
    {
     "data": {
      "text/markdown": [
       "<a href=\"reports/COPS2.html\">COPS2</a><br>"
      ],
      "text/plain": [
       "<IPython.core.display.Markdown object>"
      ]
     },
     "metadata": {},
     "output_type": "display_data"
    },
    {
     "data": {
      "text/markdown": [
       "<a href=\"reports/RRS1.html\">RRS1</a><br>"
      ],
      "text/plain": [
       "<IPython.core.display.Markdown object>"
      ]
     },
     "metadata": {},
     "output_type": "display_data"
    },
    {
     "data": {
      "text/markdown": [
       "<a href=\"reports/EBF4.html\">EBF4</a><br>"
      ],
      "text/plain": [
       "<IPython.core.display.Markdown object>"
      ]
     },
     "metadata": {},
     "output_type": "display_data"
    },
    {
     "data": {
      "text/markdown": [
       "<a href=\"reports/RELT.html\">RELT</a><br>"
      ],
      "text/plain": [
       "<IPython.core.display.Markdown object>"
      ]
     },
     "metadata": {},
     "output_type": "display_data"
    },
    {
     "data": {
      "text/markdown": [
       "<a href=\"reports/TMEM151B.html\">TMEM151B</a><br>"
      ],
      "text/plain": [
       "<IPython.core.display.Markdown object>"
      ]
     },
     "metadata": {},
     "output_type": "display_data"
    },
    {
     "data": {
      "text/markdown": [
       "<a href=\"reports/MRGPRF.html\">MRGPRF</a><br>"
      ],
      "text/plain": [
       "<IPython.core.display.Markdown object>"
      ]
     },
     "metadata": {},
     "output_type": "display_data"
    },
    {
     "data": {
      "text/markdown": [
       "<a href=\"reports/FGF19.html\">FGF19</a><br>"
      ],
      "text/plain": [
       "<IPython.core.display.Markdown object>"
      ]
     },
     "metadata": {},
     "output_type": "display_data"
    },
    {
     "data": {
      "text/markdown": [
       "<a href=\"reports/DROSHA.html\">DROSHA</a><br>"
      ],
      "text/plain": [
       "<IPython.core.display.Markdown object>"
      ]
     },
     "metadata": {},
     "output_type": "display_data"
    },
    {
     "data": {
      "text/markdown": [
       "<a href=\"reports/CCDC89.html\">CCDC89</a><br>"
      ],
      "text/plain": [
       "<IPython.core.display.Markdown object>"
      ]
     },
     "metadata": {},
     "output_type": "display_data"
    },
    {
     "data": {
      "text/markdown": [
       "<a href=\"reports/PLEKHS1.html\">PLEKHS1</a><br>"
      ],
      "text/plain": [
       "<IPython.core.display.Markdown object>"
      ]
     },
     "metadata": {},
     "output_type": "display_data"
    },
    {
     "data": {
      "text/markdown": [
       "<a href=\"reports/RDH10.html\">RDH10</a><br>"
      ],
      "text/plain": [
       "<IPython.core.display.Markdown object>"
      ]
     },
     "metadata": {},
     "output_type": "display_data"
    },
    {
     "data": {
      "text/markdown": [
       "<a href=\"reports/ARFGEF1.html\">ARFGEF1</a><br>"
      ],
      "text/plain": [
       "<IPython.core.display.Markdown object>"
      ]
     },
     "metadata": {},
     "output_type": "display_data"
    },
    {
     "data": {
      "text/markdown": [
       "<a href=\"reports/MEA1.html\">MEA1</a><br>"
      ],
      "text/plain": [
       "<IPython.core.display.Markdown object>"
      ]
     },
     "metadata": {},
     "output_type": "display_data"
    },
    {
     "data": {
      "text/markdown": [
       "<a href=\"reports/NDUFAF6.html\">NDUFAF6</a><br>"
      ],
      "text/plain": [
       "<IPython.core.display.Markdown object>"
      ]
     },
     "metadata": {},
     "output_type": "display_data"
    },
    {
     "data": {
      "text/markdown": [
       "<a href=\"reports/CEACAM19.html\">CEACAM19</a><br>"
      ],
      "text/plain": [
       "<IPython.core.display.Markdown object>"
      ]
     },
     "metadata": {},
     "output_type": "display_data"
    },
    {
     "data": {
      "text/markdown": [
       "<a href=\"reports/TRAM2.html\">TRAM2</a><br>"
      ],
      "text/plain": [
       "<IPython.core.display.Markdown object>"
      ]
     },
     "metadata": {},
     "output_type": "display_data"
    },
    {
     "data": {
      "text/markdown": [
       "<a href=\"reports/FAM120C.html\">FAM120C</a><br>"
      ],
      "text/plain": [
       "<IPython.core.display.Markdown object>"
      ]
     },
     "metadata": {},
     "output_type": "display_data"
    },
    {
     "data": {
      "text/markdown": [
       "<a href=\"reports/SLCO2B1.html\">SLCO2B1</a><br>"
      ],
      "text/plain": [
       "<IPython.core.display.Markdown object>"
      ]
     },
     "metadata": {},
     "output_type": "display_data"
    },
    {
     "data": {
      "text/markdown": [
       "<a href=\"reports/CEP57.html\">CEP57</a><br>"
      ],
      "text/plain": [
       "<IPython.core.display.Markdown object>"
      ]
     },
     "metadata": {},
     "output_type": "display_data"
    },
    {
     "data": {
      "text/markdown": [
       "<a href=\"reports/PITPNM1.html\">PITPNM1</a><br>"
      ],
      "text/plain": [
       "<IPython.core.display.Markdown object>"
      ]
     },
     "metadata": {},
     "output_type": "display_data"
    },
    {
     "data": {
      "text/markdown": [
       "<a href=\"reports/ABCF1.html\">ABCF1</a><br>"
      ],
      "text/plain": [
       "<IPython.core.display.Markdown object>"
      ]
     },
     "metadata": {},
     "output_type": "display_data"
    },
    {
     "data": {
      "text/markdown": [
       "<a href=\"reports/PRSS55.html\">PRSS55</a><br>"
      ],
      "text/plain": [
       "<IPython.core.display.Markdown object>"
      ]
     },
     "metadata": {},
     "output_type": "display_data"
    },
    {
     "data": {
      "text/markdown": [
       "<a href=\"reports/ZFP41.html\">ZFP41</a><br>"
      ],
      "text/plain": [
       "<IPython.core.display.Markdown object>"
      ]
     },
     "metadata": {},
     "output_type": "display_data"
    },
    {
     "data": {
      "text/markdown": [
       "<a href=\"reports/EIF3J.html\">EIF3J</a><br>"
      ],
      "text/plain": [
       "<IPython.core.display.Markdown object>"
      ]
     },
     "metadata": {},
     "output_type": "display_data"
    },
    {
     "data": {
      "text/markdown": [
       "<a href=\"reports/MAD2L1BP.html\">MAD2L1BP</a><br>"
      ],
      "text/plain": [
       "<IPython.core.display.Markdown object>"
      ]
     },
     "metadata": {},
     "output_type": "display_data"
    },
    {
     "data": {
      "text/markdown": [
       "<a href=\"reports/TMEM249.html\">TMEM249</a><br>"
      ],
      "text/plain": [
       "<IPython.core.display.Markdown object>"
      ]
     },
     "metadata": {},
     "output_type": "display_data"
    },
    {
     "data": {
      "text/markdown": [
       "<a href=\"reports/NDUFS6.html\">NDUFS6</a><br>"
      ],
      "text/plain": [
       "<IPython.core.display.Markdown object>"
      ]
     },
     "metadata": {},
     "output_type": "display_data"
    },
    {
     "data": {
      "text/markdown": [
       "<a href=\"reports/GALK2.html\">GALK2</a><br>"
      ],
      "text/plain": [
       "<IPython.core.display.Markdown object>"
      ]
     },
     "metadata": {},
     "output_type": "display_data"
    },
    {
     "data": {
      "text/markdown": [
       "<a href=\"reports/MED30.html\">MED30</a><br>"
      ],
      "text/plain": [
       "<IPython.core.display.Markdown object>"
      ]
     },
     "metadata": {},
     "output_type": "display_data"
    },
    {
     "data": {
      "text/markdown": [
       "<a href=\"reports/ITIH6.html\">ITIH6</a><br>"
      ],
      "text/plain": [
       "<IPython.core.display.Markdown object>"
      ]
     },
     "metadata": {},
     "output_type": "display_data"
    },
    {
     "data": {
      "text/markdown": [
       "<a href=\"reports/STRC.html\">STRC</a><br>"
      ],
      "text/plain": [
       "<IPython.core.display.Markdown object>"
      ]
     },
     "metadata": {},
     "output_type": "display_data"
    },
    {
     "data": {
      "text/markdown": [
       "<a href=\"reports/NRBP2.html\">NRBP2</a><br>"
      ],
      "text/plain": [
       "<IPython.core.display.Markdown object>"
      ]
     },
     "metadata": {},
     "output_type": "display_data"
    },
    {
     "data": {
      "text/markdown": [
       "<a href=\"reports/PRKAA2.html\">PRKAA2</a><br>"
      ],
      "text/plain": [
       "<IPython.core.display.Markdown object>"
      ]
     },
     "metadata": {},
     "output_type": "display_data"
    },
    {
     "data": {
      "text/markdown": [
       "<a href=\"reports/RPS3.html\">RPS3</a><br>"
      ],
      "text/plain": [
       "<IPython.core.display.Markdown object>"
      ]
     },
     "metadata": {},
     "output_type": "display_data"
    },
    {
     "data": {
      "text/markdown": [
       "<a href=\"reports/ABCC10.html\">ABCC10</a><br>"
      ],
      "text/plain": [
       "<IPython.core.display.Markdown object>"
      ]
     },
     "metadata": {},
     "output_type": "display_data"
    },
    {
     "data": {
      "text/markdown": [
       "<a href=\"reports/ELL3.html\">ELL3</a><br>"
      ],
      "text/plain": [
       "<IPython.core.display.Markdown object>"
      ]
     },
     "metadata": {},
     "output_type": "display_data"
    },
    {
     "data": {
      "text/markdown": [
       "<a href=\"reports/ICK.html\">ICK</a><br>"
      ],
      "text/plain": [
       "<IPython.core.display.Markdown object>"
      ]
     },
     "metadata": {},
     "output_type": "display_data"
    },
    {
     "data": {
      "text/markdown": [
       "<a href=\"reports/PPARGC1A.html\">PPARGC1A</a><br>"
      ],
      "text/plain": [
       "<IPython.core.display.Markdown object>"
      ]
     },
     "metadata": {},
     "output_type": "display_data"
    },
    {
     "data": {
      "text/markdown": [
       "<a href=\"reports/NPBWR1.html\">NPBWR1</a><br>"
      ],
      "text/plain": [
       "<IPython.core.display.Markdown object>"
      ]
     },
     "metadata": {},
     "output_type": "display_data"
    },
    {
     "data": {
      "text/markdown": [
       "<a href=\"reports/FNDC7.html\">FNDC7</a><br>"
      ],
      "text/plain": [
       "<IPython.core.display.Markdown object>"
      ]
     },
     "metadata": {},
     "output_type": "display_data"
    },
    {
     "data": {
      "text/markdown": [
       "<a href=\"reports/FDFT1.html\">FDFT1</a><br>"
      ],
      "text/plain": [
       "<IPython.core.display.Markdown object>"
      ]
     },
     "metadata": {},
     "output_type": "display_data"
    },
    {
     "data": {
      "text/markdown": [
       "<a href=\"reports/NNT.html\">NNT</a><br>"
      ],
      "text/plain": [
       "<IPython.core.display.Markdown object>"
      ]
     },
     "metadata": {},
     "output_type": "display_data"
    },
    {
     "data": {
      "text/markdown": [
       "<a href=\"reports/DENND1C.html\">DENND1C</a><br>"
      ],
      "text/plain": [
       "<IPython.core.display.Markdown object>"
      ]
     },
     "metadata": {},
     "output_type": "display_data"
    },
    {
     "data": {
      "text/markdown": [
       "<a href=\"reports/RNF121.html\">RNF121</a><br>"
      ],
      "text/plain": [
       "<IPython.core.display.Markdown object>"
      ]
     },
     "metadata": {},
     "output_type": "display_data"
    },
    {
     "data": {
      "text/markdown": [
       "<a href=\"reports/C22orf15.html\">C22orf15</a><br>"
      ],
      "text/plain": [
       "<IPython.core.display.Markdown object>"
      ]
     },
     "metadata": {},
     "output_type": "display_data"
    },
    {
     "data": {
      "text/markdown": [
       "<a href=\"reports/RB1CC1.html\">RB1CC1</a><br>"
      ],
      "text/plain": [
       "<IPython.core.display.Markdown object>"
      ]
     },
     "metadata": {},
     "output_type": "display_data"
    },
    {
     "data": {
      "text/markdown": [
       "<a href=\"reports/CA1.html\">CA1</a><br>"
      ],
      "text/plain": [
       "<IPython.core.display.Markdown object>"
      ]
     },
     "metadata": {},
     "output_type": "display_data"
    },
    {
     "data": {
      "text/markdown": [
       "<a href=\"reports/GPIHBP1.html\">GPIHBP1</a><br>"
      ],
      "text/plain": [
       "<IPython.core.display.Markdown object>"
      ]
     },
     "metadata": {},
     "output_type": "display_data"
    },
    {
     "data": {
      "text/markdown": [
       "<a href=\"reports/ADGRF5.html\">ADGRF5</a><br>"
      ],
      "text/plain": [
       "<IPython.core.display.Markdown object>"
      ]
     },
     "metadata": {},
     "output_type": "display_data"
    },
    {
     "data": {
      "text/markdown": [
       "<a href=\"reports/CBLC.html\">CBLC</a><br>"
      ],
      "text/plain": [
       "<IPython.core.display.Markdown object>"
      ]
     },
     "metadata": {},
     "output_type": "display_data"
    },
    {
     "data": {
      "text/markdown": [
       "<a href=\"reports/ERICH5.html\">ERICH5</a><br>"
      ],
      "text/plain": [
       "<IPython.core.display.Markdown object>"
      ]
     },
     "metadata": {},
     "output_type": "display_data"
    },
    {
     "data": {
      "text/markdown": [
       "<a href=\"reports/SLC12A1.html\">SLC12A1</a><br>"
      ],
      "text/plain": [
       "<IPython.core.display.Markdown object>"
      ]
     },
     "metadata": {},
     "output_type": "display_data"
    },
    {
     "data": {
      "text/markdown": [
       "<a href=\"reports/PLA2G7.html\">PLA2G7</a><br>"
      ],
      "text/plain": [
       "<IPython.core.display.Markdown object>"
      ]
     },
     "metadata": {},
     "output_type": "display_data"
    },
    {
     "data": {
      "text/markdown": [
       "<a href=\"reports/EIF4EBP1.html\">EIF4EBP1</a><br>"
      ],
      "text/plain": [
       "<IPython.core.display.Markdown object>"
      ]
     },
     "metadata": {},
     "output_type": "display_data"
    },
    {
     "data": {
      "text/markdown": [
       "<a href=\"reports/GABPB1.html\">GABPB1</a><br>"
      ],
      "text/plain": [
       "<IPython.core.display.Markdown object>"
      ]
     },
     "metadata": {},
     "output_type": "display_data"
    },
    {
     "data": {
      "text/markdown": [
       "<a href=\"reports/KCTD9.html\">KCTD9</a><br>"
      ],
      "text/plain": [
       "<IPython.core.display.Markdown object>"
      ]
     },
     "metadata": {},
     "output_type": "display_data"
    },
    {
     "data": {
      "text/markdown": [
       "<a href=\"reports/DAP.html\">DAP</a><br>"
      ],
      "text/plain": [
       "<IPython.core.display.Markdown object>"
      ]
     },
     "metadata": {},
     "output_type": "display_data"
    },
    {
     "data": {
      "text/markdown": [
       "<a href=\"reports/ZNF705B.html\">ZNF705B</a><br>"
      ],
      "text/plain": [
       "<IPython.core.display.Markdown object>"
      ]
     },
     "metadata": {},
     "output_type": "display_data"
    },
    {
     "data": {
      "text/markdown": [
       "<a href=\"reports/ENPP2.html\">ENPP2</a><br>"
      ],
      "text/plain": [
       "<IPython.core.display.Markdown object>"
      ]
     },
     "metadata": {},
     "output_type": "display_data"
    },
    {
     "data": {
      "text/markdown": [
       "<a href=\"reports/ZNF705D.html\">ZNF705D</a><br>"
      ],
      "text/plain": [
       "<IPython.core.display.Markdown object>"
      ]
     },
     "metadata": {},
     "output_type": "display_data"
    },
    {
     "data": {
      "text/markdown": [
       "<a href=\"reports/PRSS23.html\">PRSS23</a><br>"
      ],
      "text/plain": [
       "<IPython.core.display.Markdown object>"
      ]
     },
     "metadata": {},
     "output_type": "display_data"
    },
    {
     "data": {
      "text/markdown": [
       "<a href=\"reports/KRTAP5-10.html\">KRTAP5-10</a><br>"
      ],
      "text/plain": [
       "<IPython.core.display.Markdown object>"
      ]
     },
     "metadata": {},
     "output_type": "display_data"
    },
    {
     "data": {
      "text/markdown": [
       "<a href=\"reports/C6orf226.html\">C6orf226</a><br>"
      ],
      "text/plain": [
       "<IPython.core.display.Markdown object>"
      ]
     },
     "metadata": {},
     "output_type": "display_data"
    },
    {
     "data": {
      "text/markdown": [
       "<a href=\"reports/ZNF34.html\">ZNF34</a><br>"
      ],
      "text/plain": [
       "<IPython.core.display.Markdown object>"
      ]
     },
     "metadata": {},
     "output_type": "display_data"
    },
    {
     "data": {
      "text/markdown": [
       "<a href=\"reports/FABP5.html\">FABP5</a><br>"
      ],
      "text/plain": [
       "<IPython.core.display.Markdown object>"
      ]
     },
     "metadata": {},
     "output_type": "display_data"
    },
    {
     "data": {
      "text/markdown": [
       "<a href=\"reports/FAM227B.html\">FAM227B</a><br>"
      ],
      "text/plain": [
       "<IPython.core.display.Markdown object>"
      ]
     },
     "metadata": {},
     "output_type": "display_data"
    },
    {
     "data": {
      "text/markdown": [
       "<a href=\"reports/C9.html\">C9</a><br>"
      ],
      "text/plain": [
       "<IPython.core.display.Markdown object>"
      ]
     },
     "metadata": {},
     "output_type": "display_data"
    },
    {
     "data": {
      "text/markdown": [
       "<a href=\"reports/POLD4.html\">POLD4</a><br>"
      ],
      "text/plain": [
       "<IPython.core.display.Markdown object>"
      ]
     },
     "metadata": {},
     "output_type": "display_data"
    },
    {
     "data": {
      "text/markdown": [
       "<a href=\"reports/ERBB2.html\">ERBB2</a><br>"
      ],
      "text/plain": [
       "<IPython.core.display.Markdown object>"
      ]
     },
     "metadata": {},
     "output_type": "display_data"
    },
    {
     "data": {
      "text/markdown": [
       "<a href=\"reports/GRHL2.html\">GRHL2</a><br>"
      ],
      "text/plain": [
       "<IPython.core.display.Markdown object>"
      ]
     },
     "metadata": {},
     "output_type": "display_data"
    },
    {
     "data": {
      "text/markdown": [
       "<a href=\"reports/MBOAT4.html\">MBOAT4</a><br>"
      ],
      "text/plain": [
       "<IPython.core.display.Markdown object>"
      ]
     },
     "metadata": {},
     "output_type": "display_data"
    },
    {
     "data": {
      "text/markdown": [
       "<a href=\"reports/DNAJC21.html\">DNAJC21</a><br>"
      ],
      "text/plain": [
       "<IPython.core.display.Markdown object>"
      ]
     },
     "metadata": {},
     "output_type": "display_data"
    },
    {
     "data": {
      "text/markdown": [
       "<a href=\"reports/SLC22A7.html\">SLC22A7</a><br>"
      ],
      "text/plain": [
       "<IPython.core.display.Markdown object>"
      ]
     },
     "metadata": {},
     "output_type": "display_data"
    },
    {
     "data": {
      "text/markdown": [
       "<a href=\"reports/NARS2.html\">NARS2</a><br>"
      ],
      "text/plain": [
       "<IPython.core.display.Markdown object>"
      ]
     },
     "metadata": {},
     "output_type": "display_data"
    },
    {
     "data": {
      "text/markdown": [
       "<a href=\"reports/MAPK6.html\">MAPK6</a><br>"
      ],
      "text/plain": [
       "<IPython.core.display.Markdown object>"
      ]
     },
     "metadata": {},
     "output_type": "display_data"
    },
    {
     "data": {
      "text/markdown": [
       "<a href=\"reports/NFIA.html\">NFIA</a><br>"
      ],
      "text/plain": [
       "<IPython.core.display.Markdown object>"
      ]
     },
     "metadata": {},
     "output_type": "display_data"
    },
    {
     "data": {
      "text/markdown": [
       "<a href=\"reports/GDAP1.html\">GDAP1</a><br>"
      ],
      "text/plain": [
       "<IPython.core.display.Markdown object>"
      ]
     },
     "metadata": {},
     "output_type": "display_data"
    },
    {
     "data": {
      "text/markdown": [
       "<a href=\"reports/JMJD7.html\">JMJD7</a><br>"
      ],
      "text/plain": [
       "<IPython.core.display.Markdown object>"
      ]
     },
     "metadata": {},
     "output_type": "display_data"
    },
    {
     "data": {
      "text/markdown": [
       "<a href=\"reports/RMDN3.html\">RMDN3</a><br>"
      ],
      "text/plain": [
       "<IPython.core.display.Markdown object>"
      ]
     },
     "metadata": {},
     "output_type": "display_data"
    },
    {
     "data": {
      "text/markdown": [
       "<a href=\"reports/UCP2.html\">UCP2</a><br>"
      ],
      "text/plain": [
       "<IPython.core.display.Markdown object>"
      ]
     },
     "metadata": {},
     "output_type": "display_data"
    },
    {
     "data": {
      "text/markdown": [
       "<a href=\"reports/PCF11.html\">PCF11</a><br>"
      ],
      "text/plain": [
       "<IPython.core.display.Markdown object>"
      ]
     },
     "metadata": {},
     "output_type": "display_data"
    },
    {
     "data": {
      "text/markdown": [
       "<a href=\"reports/RPL30.html\">RPL30</a><br>"
      ],
      "text/plain": [
       "<IPython.core.display.Markdown object>"
      ]
     },
     "metadata": {},
     "output_type": "display_data"
    },
    {
     "data": {
      "text/markdown": [
       "<a href=\"reports/RICTOR.html\">RICTOR</a><br>"
      ],
      "text/plain": [
       "<IPython.core.display.Markdown object>"
      ]
     },
     "metadata": {},
     "output_type": "display_data"
    },
    {
     "data": {
      "text/markdown": [
       "<a href=\"reports/DYNC2H1.html\">DYNC2H1</a><br>"
      ],
      "text/plain": [
       "<IPython.core.display.Markdown object>"
      ]
     },
     "metadata": {},
     "output_type": "display_data"
    },
    {
     "data": {
      "text/markdown": [
       "<a href=\"reports/DEFB136.html\">DEFB136</a><br>"
      ],
      "text/plain": [
       "<IPython.core.display.Markdown object>"
      ]
     },
     "metadata": {},
     "output_type": "display_data"
    },
    {
     "data": {
      "text/markdown": [
       "<a href=\"reports/THAP12.html\">THAP12</a><br>"
      ],
      "text/plain": [
       "<IPython.core.display.Markdown object>"
      ]
     },
     "metadata": {},
     "output_type": "display_data"
    },
    {
     "data": {
      "text/markdown": [
       "<a href=\"reports/RNF170.html\">RNF170</a><br>"
      ],
      "text/plain": [
       "<IPython.core.display.Markdown object>"
      ]
     },
     "metadata": {},
     "output_type": "display_data"
    },
    {
     "data": {
      "text/markdown": [
       "<a href=\"reports/GRINA.html\">GRINA</a><br>"
      ],
      "text/plain": [
       "<IPython.core.display.Markdown object>"
      ]
     },
     "metadata": {},
     "output_type": "display_data"
    },
    {
     "data": {
      "text/markdown": [
       "<a href=\"reports/NSMCE2.html\">NSMCE2</a><br>"
      ],
      "text/plain": [
       "<IPython.core.display.Markdown object>"
      ]
     },
     "metadata": {},
     "output_type": "display_data"
    },
    {
     "data": {
      "text/markdown": [
       "<a href=\"reports/LIFR.html\">LIFR</a><br>"
      ],
      "text/plain": [
       "<IPython.core.display.Markdown object>"
      ]
     },
     "metadata": {},
     "output_type": "display_data"
    },
    {
     "data": {
      "text/markdown": [
       "<a href=\"reports/HGH1.html\">HGH1</a><br>"
      ],
      "text/plain": [
       "<IPython.core.display.Markdown object>"
      ]
     },
     "metadata": {},
     "output_type": "display_data"
    },
    {
     "data": {
      "text/markdown": [
       "<a href=\"reports/EED.html\">EED</a><br>"
      ],
      "text/plain": [
       "<IPython.core.display.Markdown object>"
      ]
     },
     "metadata": {},
     "output_type": "display_data"
    },
    {
     "data": {
      "text/markdown": [
       "<a href=\"reports/TPPP.html\">TPPP</a><br>"
      ],
      "text/plain": [
       "<IPython.core.display.Markdown object>"
      ]
     },
     "metadata": {},
     "output_type": "display_data"
    },
    {
     "data": {
      "text/markdown": [
       "<a href=\"reports/ZDHHC11.html\">ZDHHC11</a><br>"
      ],
      "text/plain": [
       "<IPython.core.display.Markdown object>"
      ]
     },
     "metadata": {},
     "output_type": "display_data"
    },
    {
     "data": {
      "text/markdown": [
       "<a href=\"reports/CCAR1.html\">CCAR1</a><br>"
      ],
      "text/plain": [
       "<IPython.core.display.Markdown object>"
      ]
     },
     "metadata": {},
     "output_type": "display_data"
    },
    {
     "data": {
      "text/markdown": [
       "<a href=\"reports/ADGRF4.html\">ADGRF4</a><br>"
      ],
      "text/plain": [
       "<IPython.core.display.Markdown object>"
      ]
     },
     "metadata": {},
     "output_type": "display_data"
    },
    {
     "data": {
      "text/markdown": [
       "<a href=\"reports/RXFP3.html\">RXFP3</a><br>"
      ],
      "text/plain": [
       "<IPython.core.display.Markdown object>"
      ]
     },
     "metadata": {},
     "output_type": "display_data"
    },
    {
     "data": {
      "text/markdown": [
       "<a href=\"reports/LAMTOR1.html\">LAMTOR1</a><br>"
      ],
      "text/plain": [
       "<IPython.core.display.Markdown object>"
      ]
     },
     "metadata": {},
     "output_type": "display_data"
    },
    {
     "data": {
      "text/markdown": [
       "<a href=\"reports/MMP11.html\">MMP11</a><br>"
      ],
      "text/plain": [
       "<IPython.core.display.Markdown object>"
      ]
     },
     "metadata": {},
     "output_type": "display_data"
    },
    {
     "data": {
      "text/markdown": [
       "<a href=\"reports/AARS2.html\">AARS2</a><br>"
      ],
      "text/plain": [
       "<IPython.core.display.Markdown object>"
      ]
     },
     "metadata": {},
     "output_type": "display_data"
    },
    {
     "data": {
      "text/markdown": [
       "<a href=\"reports/CCDC81.html\">CCDC81</a><br>"
      ],
      "text/plain": [
       "<IPython.core.display.Markdown object>"
      ]
     },
     "metadata": {},
     "output_type": "display_data"
    },
    {
     "data": {
      "text/markdown": [
       "<a href=\"reports/SNAI2.html\">SNAI2</a><br>"
      ],
      "text/plain": [
       "<IPython.core.display.Markdown object>"
      ]
     },
     "metadata": {},
     "output_type": "display_data"
    },
    {
     "data": {
      "text/markdown": [
       "<a href=\"reports/NAPRT.html\">NAPRT</a><br>"
      ],
      "text/plain": [
       "<IPython.core.display.Markdown object>"
      ]
     },
     "metadata": {},
     "output_type": "display_data"
    },
    {
     "data": {
      "text/markdown": [
       "<a href=\"reports/POLR3D.html\">POLR3D</a><br>"
      ],
      "text/plain": [
       "<IPython.core.display.Markdown object>"
      ]
     },
     "metadata": {},
     "output_type": "display_data"
    },
    {
     "data": {
      "text/markdown": [
       "<a href=\"reports/ARHGAP39.html\">ARHGAP39</a><br>"
      ],
      "text/plain": [
       "<IPython.core.display.Markdown object>"
      ]
     },
     "metadata": {},
     "output_type": "display_data"
    },
    {
     "data": {
      "text/markdown": [
       "<a href=\"reports/PITRM1.html\">PITRM1</a><br>"
      ],
      "text/plain": [
       "<IPython.core.display.Markdown object>"
      ]
     },
     "metadata": {},
     "output_type": "display_data"
    },
    {
     "data": {
      "text/markdown": [
       "<a href=\"reports/AASDHPPT.html\">AASDHPPT</a><br>"
      ],
      "text/plain": [
       "<IPython.core.display.Markdown object>"
      ]
     },
     "metadata": {},
     "output_type": "display_data"
    },
    {
     "data": {
      "text/markdown": [
       "<a href=\"reports/ZFR.html\">ZFR</a><br>"
      ],
      "text/plain": [
       "<IPython.core.display.Markdown object>"
      ]
     },
     "metadata": {},
     "output_type": "display_data"
    },
    {
     "data": {
      "text/markdown": [
       "<a href=\"reports/AQR.html\">AQR</a><br>"
      ],
      "text/plain": [
       "<IPython.core.display.Markdown object>"
      ]
     },
     "metadata": {},
     "output_type": "display_data"
    },
    {
     "data": {
      "text/markdown": [
       "<a href=\"reports/MTMR9.html\">MTMR9</a><br>"
      ],
      "text/plain": [
       "<IPython.core.display.Markdown object>"
      ]
     },
     "metadata": {},
     "output_type": "display_data"
    },
    {
     "data": {
      "text/markdown": [
       "<a href=\"reports/TRIM39.html\">TRIM39</a><br>"
      ],
      "text/plain": [
       "<IPython.core.display.Markdown object>"
      ]
     },
     "metadata": {},
     "output_type": "display_data"
    },
    {
     "data": {
      "text/markdown": [
       "<a href=\"reports/SHLD1.html\">SHLD1</a><br>"
      ],
      "text/plain": [
       "<IPython.core.display.Markdown object>"
      ]
     },
     "metadata": {},
     "output_type": "display_data"
    },
    {
     "data": {
      "text/markdown": [
       "<a href=\"reports/PCM1.html\">PCM1</a><br>"
      ],
      "text/plain": [
       "<IPython.core.display.Markdown object>"
      ]
     },
     "metadata": {},
     "output_type": "display_data"
    },
    {
     "data": {
      "text/markdown": [
       "<a href=\"reports/HERC1.html\">HERC1</a><br>"
      ],
      "text/plain": [
       "<IPython.core.display.Markdown object>"
      ]
     },
     "metadata": {},
     "output_type": "display_data"
    },
    {
     "data": {
      "text/markdown": [
       "<a href=\"reports/SRF.html\">SRF</a><br>"
      ],
      "text/plain": [
       "<IPython.core.display.Markdown object>"
      ]
     },
     "metadata": {},
     "output_type": "display_data"
    },
    {
     "data": {
      "text/markdown": [
       "<a href=\"reports/KMT5B.html\">KMT5B</a><br>"
      ],
      "text/plain": [
       "<IPython.core.display.Markdown object>"
      ]
     },
     "metadata": {},
     "output_type": "display_data"
    },
    {
     "data": {
      "text/markdown": [
       "<a href=\"reports/C6orf141.html\">C6orf141</a><br>"
      ],
      "text/plain": [
       "<IPython.core.display.Markdown object>"
      ]
     },
     "metadata": {},
     "output_type": "display_data"
    },
    {
     "data": {
      "text/markdown": [
       "<a href=\"reports/GTF2E2.html\">GTF2E2</a><br>"
      ],
      "text/plain": [
       "<IPython.core.display.Markdown object>"
      ]
     },
     "metadata": {},
     "output_type": "display_data"
    },
    {
     "data": {
      "text/markdown": [
       "<a href=\"reports/LPCAT1.html\">LPCAT1</a><br>"
      ],
      "text/plain": [
       "<IPython.core.display.Markdown object>"
      ]
     },
     "metadata": {},
     "output_type": "display_data"
    },
    {
     "data": {
      "text/markdown": [
       "<a href=\"reports/CARD6.html\">CARD6</a><br>"
      ],
      "text/plain": [
       "<IPython.core.display.Markdown object>"
      ]
     },
     "metadata": {},
     "output_type": "display_data"
    },
    {
     "data": {
      "text/markdown": [
       "<a href=\"reports/KATNA1.html\">KATNA1</a><br>"
      ],
      "text/plain": [
       "<IPython.core.display.Markdown object>"
      ]
     },
     "metadata": {},
     "output_type": "display_data"
    },
    {
     "data": {
      "text/markdown": [
       "<a href=\"reports/PPP2R5D.html\">PPP2R5D</a><br>"
      ],
      "text/plain": [
       "<IPython.core.display.Markdown object>"
      ]
     },
     "metadata": {},
     "output_type": "display_data"
    },
    {
     "data": {
      "text/markdown": [
       "<a href=\"reports/TTC27.html\">TTC27</a><br>"
      ],
      "text/plain": [
       "<IPython.core.display.Markdown object>"
      ]
     },
     "metadata": {},
     "output_type": "display_data"
    },
    {
     "data": {
      "text/markdown": [
       "<a href=\"reports/TSNARE1.html\">TSNARE1</a><br>"
      ],
      "text/plain": [
       "<IPython.core.display.Markdown object>"
      ]
     },
     "metadata": {},
     "output_type": "display_data"
    },
    {
     "data": {
      "text/markdown": [
       "<a href=\"reports/MMP10.html\">MMP10</a><br>"
      ],
      "text/plain": [
       "<IPython.core.display.Markdown object>"
      ]
     },
     "metadata": {},
     "output_type": "display_data"
    },
    {
     "data": {
      "text/markdown": [
       "<a href=\"reports/CA8.html\">CA8</a><br>"
      ],
      "text/plain": [
       "<IPython.core.display.Markdown object>"
      ]
     },
     "metadata": {},
     "output_type": "display_data"
    },
    {
     "data": {
      "text/markdown": [
       "<a href=\"reports/GLYATL3.html\">GLYATL3</a><br>"
      ],
      "text/plain": [
       "<IPython.core.display.Markdown object>"
      ]
     },
     "metadata": {},
     "output_type": "display_data"
    },
    {
     "data": {
      "text/markdown": [
       "<a href=\"reports/WASHC5.html\">WASHC5</a><br>"
      ],
      "text/plain": [
       "<IPython.core.display.Markdown object>"
      ]
     },
     "metadata": {},
     "output_type": "display_data"
    },
    {
     "data": {
      "text/markdown": [
       "<a href=\"reports/RHPN1.html\">RHPN1</a><br>"
      ],
      "text/plain": [
       "<IPython.core.display.Markdown object>"
      ]
     },
     "metadata": {},
     "output_type": "display_data"
    },
    {
     "data": {
      "text/markdown": [
       "<a href=\"reports/TMEM134.html\">TMEM134</a><br>"
      ],
      "text/plain": [
       "<IPython.core.display.Markdown object>"
      ]
     },
     "metadata": {},
     "output_type": "display_data"
    },
    {
     "data": {
      "text/markdown": [
       "<a href=\"reports/PRKAA1.html\">PRKAA1</a><br>"
      ],
      "text/plain": [
       "<IPython.core.display.Markdown object>"
      ]
     },
     "metadata": {},
     "output_type": "display_data"
    },
    {
     "data": {
      "text/markdown": [
       "<a href=\"reports/CHRDL2.html\">CHRDL2</a><br>"
      ],
      "text/plain": [
       "<IPython.core.display.Markdown object>"
      ]
     },
     "metadata": {},
     "output_type": "display_data"
    },
    {
     "data": {
      "text/markdown": [
       "<a href=\"reports/DDTL.html\">DDTL</a><br>"
      ],
      "text/plain": [
       "<IPython.core.display.Markdown object>"
      ]
     },
     "metadata": {},
     "output_type": "display_data"
    },
    {
     "data": {
      "text/markdown": [
       "<a href=\"reports/KCNE3.html\">KCNE3</a><br>"
      ],
      "text/plain": [
       "<IPython.core.display.Markdown object>"
      ]
     },
     "metadata": {},
     "output_type": "display_data"
    },
    {
     "data": {
      "text/markdown": [
       "<a href=\"reports/KLF10.html\">KLF10</a><br>"
      ],
      "text/plain": [
       "<IPython.core.display.Markdown object>"
      ]
     },
     "metadata": {},
     "output_type": "display_data"
    },
    {
     "data": {
      "text/markdown": [
       "<a href=\"reports/PTK7.html\">PTK7</a><br>"
      ],
      "text/plain": [
       "<IPython.core.display.Markdown object>"
      ]
     },
     "metadata": {},
     "output_type": "display_data"
    },
    {
     "data": {
      "text/markdown": [
       "<a href=\"reports/APEX2.html\">APEX2</a><br>"
      ],
      "text/plain": [
       "<IPython.core.display.Markdown object>"
      ]
     },
     "metadata": {},
     "output_type": "display_data"
    },
    {
     "data": {
      "text/markdown": [
       "<a href=\"reports/RHAG.html\">RHAG</a><br>"
      ],
      "text/plain": [
       "<IPython.core.display.Markdown object>"
      ]
     },
     "metadata": {},
     "output_type": "display_data"
    },
    {
     "data": {
      "text/markdown": [
       "<a href=\"reports/KCNV1.html\">KCNV1</a><br>"
      ],
      "text/plain": [
       "<IPython.core.display.Markdown object>"
      ]
     },
     "metadata": {},
     "output_type": "display_data"
    },
    {
     "data": {
      "text/markdown": [
       "<a href=\"reports/MSC.html\">MSC</a><br>"
      ],
      "text/plain": [
       "<IPython.core.display.Markdown object>"
      ]
     },
     "metadata": {},
     "output_type": "display_data"
    },
    {
     "data": {
      "text/markdown": [
       "<a href=\"reports/PDZD2.html\">PDZD2</a><br>"
      ],
      "text/plain": [
       "<IPython.core.display.Markdown object>"
      ]
     },
     "metadata": {},
     "output_type": "display_data"
    },
    {
     "data": {
      "text/markdown": [
       "<a href=\"reports/C2CD3.html\">C2CD3</a><br>"
      ],
      "text/plain": [
       "<IPython.core.display.Markdown object>"
      ]
     },
     "metadata": {},
     "output_type": "display_data"
    },
    {
     "data": {
      "text/markdown": [
       "<a href=\"reports/ANKRD33B.html\">ANKRD33B</a><br>"
      ],
      "text/plain": [
       "<IPython.core.display.Markdown object>"
      ]
     },
     "metadata": {},
     "output_type": "display_data"
    },
    {
     "data": {
      "text/markdown": [
       "<a href=\"reports/PPP1R1B.html\">PPP1R1B</a><br>"
      ],
      "text/plain": [
       "<IPython.core.display.Markdown object>"
      ]
     },
     "metadata": {},
     "output_type": "display_data"
    },
    {
     "data": {
      "text/markdown": [
       "<a href=\"reports/ZNF383.html\">ZNF383</a><br>"
      ],
      "text/plain": [
       "<IPython.core.display.Markdown object>"
      ]
     },
     "metadata": {},
     "output_type": "display_data"
    },
    {
     "data": {
      "text/markdown": [
       "<a href=\"reports/UBE2O.html\">UBE2O</a><br>"
      ],
      "text/plain": [
       "<IPython.core.display.Markdown object>"
      ]
     },
     "metadata": {},
     "output_type": "display_data"
    },
    {
     "data": {
      "text/markdown": [
       "<a href=\"reports/NDUFV1.html\">NDUFV1</a><br>"
      ],
      "text/plain": [
       "<IPython.core.display.Markdown object>"
      ]
     },
     "metadata": {},
     "output_type": "display_data"
    },
    {
     "data": {
      "text/markdown": [
       "<a href=\"reports/PSG6.html\">PSG6</a><br>"
      ],
      "text/plain": [
       "<IPython.core.display.Markdown object>"
      ]
     },
     "metadata": {},
     "output_type": "display_data"
    },
    {
     "data": {
      "text/markdown": [
       "<a href=\"reports/HEY1.html\">HEY1</a><br>"
      ],
      "text/plain": [
       "<IPython.core.display.Markdown object>"
      ]
     },
     "metadata": {},
     "output_type": "display_data"
    },
    {
     "data": {
      "text/markdown": [
       "<a href=\"reports/FSD1.html\">FSD1</a><br>"
      ],
      "text/plain": [
       "<IPython.core.display.Markdown object>"
      ]
     },
     "metadata": {},
     "output_type": "display_data"
    },
    {
     "data": {
      "text/markdown": [
       "<a href=\"reports/GUCA1B.html\">GUCA1B</a><br>"
      ],
      "text/plain": [
       "<IPython.core.display.Markdown object>"
      ]
     },
     "metadata": {},
     "output_type": "display_data"
    },
    {
     "data": {
      "text/markdown": [
       "<a href=\"reports/TGFA.html\">TGFA</a><br>"
      ],
      "text/plain": [
       "<IPython.core.display.Markdown object>"
      ]
     },
     "metadata": {},
     "output_type": "display_data"
    },
    {
     "data": {
      "text/markdown": [
       "<a href=\"reports/BHLHE22.html\">BHLHE22</a><br>"
      ],
      "text/plain": [
       "<IPython.core.display.Markdown object>"
      ]
     },
     "metadata": {},
     "output_type": "display_data"
    },
    {
     "data": {
      "text/markdown": [
       "<a href=\"reports/CHMP4C.html\">CHMP4C</a><br>"
      ],
      "text/plain": [
       "<IPython.core.display.Markdown object>"
      ]
     },
     "metadata": {},
     "output_type": "display_data"
    },
    {
     "data": {
      "text/markdown": [
       "<a href=\"reports/CHGB.html\">CHGB</a><br>"
      ],
      "text/plain": [
       "<IPython.core.display.Markdown object>"
      ]
     },
     "metadata": {},
     "output_type": "display_data"
    },
    {
     "data": {
      "text/markdown": [
       "<a href=\"reports/GRK3.html\">GRK3</a><br>"
      ],
      "text/plain": [
       "<IPython.core.display.Markdown object>"
      ]
     },
     "metadata": {},
     "output_type": "display_data"
    },
    {
     "data": {
      "text/markdown": [
       "<a href=\"reports/CPQ.html\">CPQ</a><br>"
      ],
      "text/plain": [
       "<IPython.core.display.Markdown object>"
      ]
     },
     "metadata": {},
     "output_type": "display_data"
    },
    {
     "data": {
      "text/markdown": [
       "<a href=\"reports/KIAA1671.html\">KIAA1671</a><br>"
      ],
      "text/plain": [
       "<IPython.core.display.Markdown object>"
      ]
     },
     "metadata": {},
     "output_type": "display_data"
    },
    {
     "data": {
      "text/markdown": [
       "<a href=\"reports/TNFAIP8L3.html\">TNFAIP8L3</a><br>"
      ],
      "text/plain": [
       "<IPython.core.display.Markdown object>"
      ]
     },
     "metadata": {},
     "output_type": "display_data"
    },
    {
     "data": {
      "text/markdown": [
       "<a href=\"reports/POLR1C.html\">POLR1C</a><br>"
      ],
      "text/plain": [
       "<IPython.core.display.Markdown object>"
      ]
     },
     "metadata": {},
     "output_type": "display_data"
    },
    {
     "data": {
      "text/markdown": [
       "<a href=\"reports/SIRPA.html\">SIRPA</a><br>"
      ],
      "text/plain": [
       "<IPython.core.display.Markdown object>"
      ]
     },
     "metadata": {},
     "output_type": "display_data"
    },
    {
     "data": {
      "text/markdown": [
       "<a href=\"reports/GANC.html\">GANC</a><br>"
      ],
      "text/plain": [
       "<IPython.core.display.Markdown object>"
      ]
     },
     "metadata": {},
     "output_type": "display_data"
    },
    {
     "data": {
      "text/markdown": [
       "<a href=\"reports/TESMIN.html\">TESMIN</a><br>"
      ],
      "text/plain": [
       "<IPython.core.display.Markdown object>"
      ]
     },
     "metadata": {},
     "output_type": "display_data"
    },
    {
     "data": {
      "text/markdown": [
       "<a href=\"reports/GATM.html\">GATM</a><br>"
      ],
      "text/plain": [
       "<IPython.core.display.Markdown object>"
      ]
     },
     "metadata": {},
     "output_type": "display_data"
    },
    {
     "data": {
      "text/markdown": [
       "<a href=\"reports/MAPKBP1.html\">MAPKBP1</a><br>"
      ],
      "text/plain": [
       "<IPython.core.display.Markdown object>"
      ]
     },
     "metadata": {},
     "output_type": "display_data"
    },
    {
     "data": {
      "text/markdown": [
       "<a href=\"reports/ARRB1.html\">ARRB1</a><br>"
      ],
      "text/plain": [
       "<IPython.core.display.Markdown object>"
      ]
     },
     "metadata": {},
     "output_type": "display_data"
    },
    {
     "data": {
      "text/markdown": [
       "<a href=\"reports/ZNF713.html\">ZNF713</a><br>"
      ],
      "text/plain": [
       "<IPython.core.display.Markdown object>"
      ]
     },
     "metadata": {},
     "output_type": "display_data"
    },
    {
     "data": {
      "text/markdown": [
       "<a href=\"reports/ZNF131.html\">ZNF131</a><br>"
      ],
      "text/plain": [
       "<IPython.core.display.Markdown object>"
      ]
     },
     "metadata": {},
     "output_type": "display_data"
    },
    {
     "data": {
      "text/markdown": [
       "<a href=\"reports/TAF2.html\">TAF2</a><br>"
      ],
      "text/plain": [
       "<IPython.core.display.Markdown object>"
      ]
     },
     "metadata": {},
     "output_type": "display_data"
    },
    {
     "data": {
      "text/markdown": [
       "<a href=\"reports/CCND3.html\">CCND3</a><br>"
      ],
      "text/plain": [
       "<IPython.core.display.Markdown object>"
      ]
     },
     "metadata": {},
     "output_type": "display_data"
    },
    {
     "data": {
      "text/markdown": [
       "<a href=\"reports/C5orf34.html\">C5orf34</a><br>"
      ],
      "text/plain": [
       "<IPython.core.display.Markdown object>"
      ]
     },
     "metadata": {},
     "output_type": "display_data"
    },
    {
     "data": {
      "text/markdown": [
       "<a href=\"reports/NSUN2.html\">NSUN2</a><br>"
      ],
      "text/plain": [
       "<IPython.core.display.Markdown object>"
      ]
     },
     "metadata": {},
     "output_type": "display_data"
    },
    {
     "data": {
      "text/markdown": [
       "<a href=\"reports/UBE2QL1.html\">UBE2QL1</a><br>"
      ],
      "text/plain": [
       "<IPython.core.display.Markdown object>"
      ]
     },
     "metadata": {},
     "output_type": "display_data"
    },
    {
     "data": {
      "text/markdown": [
       "<a href=\"reports/USP35.html\">USP35</a><br>"
      ],
      "text/plain": [
       "<IPython.core.display.Markdown object>"
      ]
     },
     "metadata": {},
     "output_type": "display_data"
    },
    {
     "data": {
      "text/markdown": [
       "<a href=\"reports/C1orf87.html\">C1orf87</a><br>"
      ],
      "text/plain": [
       "<IPython.core.display.Markdown object>"
      ]
     },
     "metadata": {},
     "output_type": "display_data"
    },
    {
     "data": {
      "text/markdown": [
       "<a href=\"reports/PGR.html\">PGR</a><br>"
      ],
      "text/plain": [
       "<IPython.core.display.Markdown object>"
      ]
     },
     "metadata": {},
     "output_type": "display_data"
    },
    {
     "data": {
      "text/markdown": [
       "<a href=\"reports/UBR2.html\">UBR2</a><br>"
      ],
      "text/plain": [
       "<IPython.core.display.Markdown object>"
      ]
     },
     "metadata": {},
     "output_type": "display_data"
    },
    {
     "data": {
      "text/markdown": [
       "<a href=\"reports/GAL.html\">GAL</a><br>"
      ],
      "text/plain": [
       "<IPython.core.display.Markdown object>"
      ]
     },
     "metadata": {},
     "output_type": "display_data"
    },
    {
     "data": {
      "text/markdown": [
       "<a href=\"reports/PICALM.html\">PICALM</a><br>"
      ],
      "text/plain": [
       "<IPython.core.display.Markdown object>"
      ]
     },
     "metadata": {},
     "output_type": "display_data"
    },
    {
     "data": {
      "text/markdown": [
       "<a href=\"reports/ARAP1.html\">ARAP1</a><br>"
      ],
      "text/plain": [
       "<IPython.core.display.Markdown object>"
      ]
     },
     "metadata": {},
     "output_type": "display_data"
    },
    {
     "data": {
      "text/markdown": [
       "<a href=\"reports/ANTXRL.html\">ANTXRL</a><br>"
      ],
      "text/plain": [
       "<IPython.core.display.Markdown object>"
      ]
     },
     "metadata": {},
     "output_type": "display_data"
    },
    {
     "data": {
      "text/markdown": [
       "<a href=\"reports/CNPY3.html\">CNPY3</a><br>"
      ],
      "text/plain": [
       "<IPython.core.display.Markdown object>"
      ]
     },
     "metadata": {},
     "output_type": "display_data"
    },
    {
     "data": {
      "text/markdown": [
       "<a href=\"reports/MRPL14.html\">MRPL14</a><br>"
      ],
      "text/plain": [
       "<IPython.core.display.Markdown object>"
      ]
     },
     "metadata": {},
     "output_type": "display_data"
    },
    {
     "data": {
      "text/markdown": [
       "<a href=\"reports/HIKESHI.html\">HIKESHI</a><br>"
      ],
      "text/plain": [
       "<IPython.core.display.Markdown object>"
      ]
     },
     "metadata": {},
     "output_type": "display_data"
    },
    {
     "data": {
      "text/markdown": [
       "<a href=\"reports/CNOT7.html\">CNOT7</a><br>"
      ],
      "text/plain": [
       "<IPython.core.display.Markdown object>"
      ]
     },
     "metadata": {},
     "output_type": "display_data"
    },
    {
     "data": {
      "text/markdown": [
       "<a href=\"reports/POTEG.html\">POTEG</a><br>"
      ],
      "text/plain": [
       "<IPython.core.display.Markdown object>"
      ]
     },
     "metadata": {},
     "output_type": "display_data"
    },
    {
     "data": {
      "text/markdown": [
       "<a href=\"reports/CRISP2.html\">CRISP2</a><br>"
      ],
      "text/plain": [
       "<IPython.core.display.Markdown object>"
      ]
     },
     "metadata": {},
     "output_type": "display_data"
    },
    {
     "data": {
      "text/markdown": [
       "<a href=\"reports/SGSM1.html\">SGSM1</a><br>"
      ],
      "text/plain": [
       "<IPython.core.display.Markdown object>"
      ]
     },
     "metadata": {},
     "output_type": "display_data"
    },
    {
     "data": {
      "text/markdown": [
       "<a href=\"reports/BRD3.html\">BRD3</a><br>"
      ],
      "text/plain": [
       "<IPython.core.display.Markdown object>"
      ]
     },
     "metadata": {},
     "output_type": "display_data"
    },
    {
     "data": {
      "text/markdown": [
       "<a href=\"reports/HOOK1.html\">HOOK1</a><br>"
      ],
      "text/plain": [
       "<IPython.core.display.Markdown object>"
      ]
     },
     "metadata": {},
     "output_type": "display_data"
    },
    {
     "data": {
      "text/markdown": [
       "<a href=\"reports/NRM.html\">NRM</a><br>"
      ],
      "text/plain": [
       "<IPython.core.display.Markdown object>"
      ]
     },
     "metadata": {},
     "output_type": "display_data"
    },
    {
     "data": {
      "text/markdown": [
       "<a href=\"reports/PTCRA.html\">PTCRA</a><br>"
      ],
      "text/plain": [
       "<IPython.core.display.Markdown object>"
      ]
     },
     "metadata": {},
     "output_type": "display_data"
    },
    {
     "data": {
      "text/markdown": [
       "<a href=\"reports/PATJ.html\">PATJ</a><br>"
      ],
      "text/plain": [
       "<IPython.core.display.Markdown object>"
      ]
     },
     "metadata": {},
     "output_type": "display_data"
    },
    {
     "data": {
      "text/markdown": [
       "<a href=\"reports/TCAP.html\">TCAP</a><br>"
      ],
      "text/plain": [
       "<IPython.core.display.Markdown object>"
      ]
     },
     "metadata": {},
     "output_type": "display_data"
    },
    {
     "data": {
      "text/markdown": [
       "<a href=\"reports/TOMM40.html\">TOMM40</a><br>"
      ],
      "text/plain": [
       "<IPython.core.display.Markdown object>"
      ]
     },
     "metadata": {},
     "output_type": "display_data"
    },
    {
     "data": {
      "text/markdown": [
       "<a href=\"reports/CAPN5.html\">CAPN5</a><br>"
      ],
      "text/plain": [
       "<IPython.core.display.Markdown object>"
      ]
     },
     "metadata": {},
     "output_type": "display_data"
    },
    {
     "data": {
      "text/markdown": [
       "<a href=\"reports/PAQR6.html\">PAQR6</a><br>"
      ],
      "text/plain": [
       "<IPython.core.display.Markdown object>"
      ]
     },
     "metadata": {},
     "output_type": "display_data"
    },
    {
     "data": {
      "text/markdown": [
       "<a href=\"reports/SLC25A37.html\">SLC25A37</a><br>"
      ],
      "text/plain": [
       "<IPython.core.display.Markdown object>"
      ]
     },
     "metadata": {},
     "output_type": "display_data"
    },
    {
     "data": {
      "text/markdown": [
       "<a href=\"reports/PLEKHG4B.html\">PLEKHG4B</a><br>"
      ],
      "text/plain": [
       "<IPython.core.display.Markdown object>"
      ]
     },
     "metadata": {},
     "output_type": "display_data"
    },
    {
     "data": {
      "text/markdown": [
       "<a href=\"reports/BOP1.html\">BOP1</a><br>"
      ],
      "text/plain": [
       "<IPython.core.display.Markdown object>"
      ]
     },
     "metadata": {},
     "output_type": "display_data"
    },
    {
     "data": {
      "text/markdown": [
       "<a href=\"reports/GSTP1.html\">GSTP1</a><br>"
      ],
      "text/plain": [
       "<IPython.core.display.Markdown object>"
      ]
     },
     "metadata": {},
     "output_type": "display_data"
    },
    {
     "data": {
      "text/markdown": [
       "<a href=\"reports/TCIRG1.html\">TCIRG1</a><br>"
      ],
      "text/plain": [
       "<IPython.core.display.Markdown object>"
      ]
     },
     "metadata": {},
     "output_type": "display_data"
    },
    {
     "data": {
      "text/markdown": [
       "<a href=\"reports/PRCP.html\">PRCP</a><br>"
      ],
      "text/plain": [
       "<IPython.core.display.Markdown object>"
      ]
     },
     "metadata": {},
     "output_type": "display_data"
    },
    {
     "data": {
      "text/markdown": [
       "<a href=\"reports/FGF20.html\">FGF20</a><br>"
      ],
      "text/plain": [
       "<IPython.core.display.Markdown object>"
      ]
     },
     "metadata": {},
     "output_type": "display_data"
    },
    {
     "data": {
      "text/markdown": [
       "<a href=\"reports/CRH.html\">CRH</a><br>"
      ],
      "text/plain": [
       "<IPython.core.display.Markdown object>"
      ]
     },
     "metadata": {},
     "output_type": "display_data"
    },
    {
     "data": {
      "text/markdown": [
       "<a href=\"reports/RNF139.html\">RNF139</a><br>"
      ],
      "text/plain": [
       "<IPython.core.display.Markdown object>"
      ]
     },
     "metadata": {},
     "output_type": "display_data"
    },
    {
     "data": {
      "text/markdown": [
       "<a href=\"reports/MYO7A.html\">MYO7A</a><br>"
      ],
      "text/plain": [
       "<IPython.core.display.Markdown object>"
      ]
     },
     "metadata": {},
     "output_type": "display_data"
    },
    {
     "data": {
      "text/markdown": [
       "<a href=\"reports/C5orf38.html\">C5orf38</a><br>"
      ],
      "text/plain": [
       "<IPython.core.display.Markdown object>"
      ]
     },
     "metadata": {},
     "output_type": "display_data"
    },
    {
     "data": {
      "text/markdown": [
       "<a href=\"reports/PDGFD.html\">PDGFD</a><br>"
      ],
      "text/plain": [
       "<IPython.core.display.Markdown object>"
      ]
     },
     "metadata": {},
     "output_type": "display_data"
    },
    {
     "data": {
      "text/markdown": [
       "<a href=\"reports/FOXH1.html\">FOXH1</a><br>"
      ],
      "text/plain": [
       "<IPython.core.display.Markdown object>"
      ]
     },
     "metadata": {},
     "output_type": "display_data"
    },
    {
     "data": {
      "text/markdown": [
       "<a href=\"reports/VPS37A.html\">VPS37A</a><br>"
      ],
      "text/plain": [
       "<IPython.core.display.Markdown object>"
      ]
     },
     "metadata": {},
     "output_type": "display_data"
    },
    {
     "data": {
      "text/markdown": [
       "<a href=\"reports/PRPSAP1.html\">PRPSAP1</a><br>"
      ],
      "text/plain": [
       "<IPython.core.display.Markdown object>"
      ]
     },
     "metadata": {},
     "output_type": "display_data"
    },
    {
     "data": {
      "text/markdown": [
       "<a href=\"reports/PANK3.html\">PANK3</a><br>"
      ],
      "text/plain": [
       "<IPython.core.display.Markdown object>"
      ]
     },
     "metadata": {},
     "output_type": "display_data"
    },
    {
     "data": {
      "text/markdown": [
       "<a href=\"reports/FAM86C1.html\">FAM86C1</a><br>"
      ],
      "text/plain": [
       "<IPython.core.display.Markdown object>"
      ]
     },
     "metadata": {},
     "output_type": "display_data"
    },
    {
     "data": {
      "text/markdown": [
       "<a href=\"reports/CHRNA6.html\">CHRNA6</a><br>"
      ],
      "text/plain": [
       "<IPython.core.display.Markdown object>"
      ]
     },
     "metadata": {},
     "output_type": "display_data"
    },
    {
     "data": {
      "text/markdown": [
       "<a href=\"reports/PAIP1.html\">PAIP1</a><br>"
      ],
      "text/plain": [
       "<IPython.core.display.Markdown object>"
      ]
     },
     "metadata": {},
     "output_type": "display_data"
    },
    {
     "data": {
      "text/markdown": [
       "<a href=\"reports/PPP1R16A.html\">PPP1R16A</a><br>"
      ],
      "text/plain": [
       "<IPython.core.display.Markdown object>"
      ]
     },
     "metadata": {},
     "output_type": "display_data"
    },
    {
     "data": {
      "text/markdown": [
       "<a href=\"reports/DSCC1.html\">DSCC1</a><br>"
      ],
      "text/plain": [
       "<IPython.core.display.Markdown object>"
      ]
     },
     "metadata": {},
     "output_type": "display_data"
    },
    {
     "data": {
      "text/markdown": [
       "<a href=\"reports/NAALAD2.html\">NAALAD2</a><br>"
      ],
      "text/plain": [
       "<IPython.core.display.Markdown object>"
      ]
     },
     "metadata": {},
     "output_type": "display_data"
    },
    {
     "data": {
      "text/markdown": [
       "<a href=\"reports/DLK2.html\">DLK2</a><br>"
      ],
      "text/plain": [
       "<IPython.core.display.Markdown object>"
      ]
     },
     "metadata": {},
     "output_type": "display_data"
    },
    {
     "data": {
      "text/markdown": [
       "<a href=\"reports/NUSAP1.html\">NUSAP1</a><br>"
      ],
      "text/plain": [
       "<IPython.core.display.Markdown object>"
      ]
     },
     "metadata": {},
     "output_type": "display_data"
    },
    {
     "data": {
      "text/markdown": [
       "<a href=\"reports/ANKRD49.html\">ANKRD49</a><br>"
      ],
      "text/plain": [
       "<IPython.core.display.Markdown object>"
      ]
     },
     "metadata": {},
     "output_type": "display_data"
    },
    {
     "data": {
      "text/markdown": [
       "<a href=\"reports/LAPTM4B.html\">LAPTM4B</a><br>"
      ],
      "text/plain": [
       "<IPython.core.display.Markdown object>"
      ]
     },
     "metadata": {},
     "output_type": "display_data"
    },
    {
     "data": {
      "text/markdown": [
       "<a href=\"reports/SKP2.html\">SKP2</a><br>"
      ],
      "text/plain": [
       "<IPython.core.display.Markdown object>"
      ]
     },
     "metadata": {},
     "output_type": "display_data"
    },
    {
     "data": {
      "text/markdown": [
       "<a href=\"reports/SLC25A32.html\">SLC25A32</a><br>"
      ],
      "text/plain": [
       "<IPython.core.display.Markdown object>"
      ]
     },
     "metadata": {},
     "output_type": "display_data"
    },
    {
     "data": {
      "text/markdown": [
       "<a href=\"reports/GSTA3.html\">GSTA3</a><br>"
      ],
      "text/plain": [
       "<IPython.core.display.Markdown object>"
      ]
     },
     "metadata": {},
     "output_type": "display_data"
    },
    {
     "data": {
      "text/markdown": [
       "<a href=\"reports/EXT1.html\">EXT1</a><br>"
      ],
      "text/plain": [
       "<IPython.core.display.Markdown object>"
      ]
     },
     "metadata": {},
     "output_type": "display_data"
    },
    {
     "data": {
      "text/markdown": [
       "<a href=\"reports/DEFB131B.html\">DEFB131B</a><br>"
      ],
      "text/plain": [
       "<IPython.core.display.Markdown object>"
      ]
     },
     "metadata": {},
     "output_type": "display_data"
    },
    {
     "data": {
      "text/markdown": [
       "<a href=\"reports/XPO5.html\">XPO5</a><br>"
      ],
      "text/plain": [
       "<IPython.core.display.Markdown object>"
      ]
     },
     "metadata": {},
     "output_type": "display_data"
    },
    {
     "data": {
      "text/markdown": [
       "<a href=\"reports/FBN1.html\">FBN1</a><br>"
      ],
      "text/plain": [
       "<IPython.core.display.Markdown object>"
      ]
     },
     "metadata": {},
     "output_type": "display_data"
    },
    {
     "data": {
      "text/markdown": [
       "<a href=\"reports/KREMEN1.html\">KREMEN1</a><br>"
      ],
      "text/plain": [
       "<IPython.core.display.Markdown object>"
      ]
     },
     "metadata": {},
     "output_type": "display_data"
    },
    {
     "data": {
      "text/markdown": [
       "<a href=\"reports/CARNS1.html\">CARNS1</a><br>"
      ],
      "text/plain": [
       "<IPython.core.display.Markdown object>"
      ]
     },
     "metadata": {},
     "output_type": "display_data"
    },
    {
     "data": {
      "text/markdown": [
       "<a href=\"reports/PRICKLE4.html\">PRICKLE4</a><br>"
      ],
      "text/plain": [
       "<IPython.core.display.Markdown object>"
      ]
     },
     "metadata": {},
     "output_type": "display_data"
    },
    {
     "data": {
      "text/markdown": [
       "<a href=\"reports/IER3.html\">IER3</a><br>"
      ],
      "text/plain": [
       "<IPython.core.display.Markdown object>"
      ]
     },
     "metadata": {},
     "output_type": "display_data"
    },
    {
     "data": {
      "text/markdown": [
       "<a href=\"reports/KLHL38.html\">KLHL38</a><br>"
      ],
      "text/plain": [
       "<IPython.core.display.Markdown object>"
      ]
     },
     "metadata": {},
     "output_type": "display_data"
    },
    {
     "data": {
      "text/markdown": [
       "<a href=\"reports/CPNE3.html\">CPNE3</a><br>"
      ],
      "text/plain": [
       "<IPython.core.display.Markdown object>"
      ]
     },
     "metadata": {},
     "output_type": "display_data"
    },
    {
     "data": {
      "text/markdown": [
       "<a href=\"reports/LRP5L.html\">LRP5L</a><br>"
      ],
      "text/plain": [
       "<IPython.core.display.Markdown object>"
      ]
     },
     "metadata": {},
     "output_type": "display_data"
    },
    {
     "data": {
      "text/markdown": [
       "<a href=\"reports/MMP20.html\">MMP20</a><br>"
      ],
      "text/plain": [
       "<IPython.core.display.Markdown object>"
      ]
     },
     "metadata": {},
     "output_type": "display_data"
    },
    {
     "data": {
      "text/markdown": [
       "<a href=\"reports/LRRC75B.html\">LRRC75B</a><br>"
      ],
      "text/plain": [
       "<IPython.core.display.Markdown object>"
      ]
     },
     "metadata": {},
     "output_type": "display_data"
    },
    {
     "data": {
      "text/markdown": [
       "<a href=\"reports/ADAM7.html\">ADAM7</a><br>"
      ],
      "text/plain": [
       "<IPython.core.display.Markdown object>"
      ]
     },
     "metadata": {},
     "output_type": "display_data"
    },
    {
     "data": {
      "text/markdown": [
       "<a href=\"reports/FADD.html\">FADD</a><br>"
      ],
      "text/plain": [
       "<IPython.core.display.Markdown object>"
      ]
     },
     "metadata": {},
     "output_type": "display_data"
    },
    {
     "data": {
      "text/markdown": [
       "<a href=\"reports/WRN.html\">WRN</a><br>"
      ],
      "text/plain": [
       "<IPython.core.display.Markdown object>"
      ]
     },
     "metadata": {},
     "output_type": "display_data"
    },
    {
     "data": {
      "text/markdown": [
       "<a href=\"reports/FBXL7.html\">FBXL7</a><br>"
      ],
      "text/plain": [
       "<IPython.core.display.Markdown object>"
      ]
     },
     "metadata": {},
     "output_type": "display_data"
    },
    {
     "data": {
      "text/markdown": [
       "<a href=\"reports/KCNQ3.html\">KCNQ3</a><br>"
      ],
      "text/plain": [
       "<IPython.core.display.Markdown object>"
      ]
     },
     "metadata": {},
     "output_type": "display_data"
    },
    {
     "data": {
      "text/markdown": [
       "<a href=\"reports/PRR3.html\">PRR3</a><br>"
      ],
      "text/plain": [
       "<IPython.core.display.Markdown object>"
      ]
     },
     "metadata": {},
     "output_type": "display_data"
    },
    {
     "data": {
      "text/markdown": [
       "<a href=\"reports/PTGER4.html\">PTGER4</a><br>"
      ],
      "text/plain": [
       "<IPython.core.display.Markdown object>"
      ]
     },
     "metadata": {},
     "output_type": "display_data"
    },
    {
     "data": {
      "text/markdown": [
       "<a href=\"reports/TRIM69.html\">TRIM69</a><br>"
      ],
      "text/plain": [
       "<IPython.core.display.Markdown object>"
      ]
     },
     "metadata": {},
     "output_type": "display_data"
    },
    {
     "data": {
      "text/markdown": [
       "<a href=\"reports/GDNF.html\">GDNF</a><br>"
      ],
      "text/plain": [
       "<IPython.core.display.Markdown object>"
      ]
     },
     "metadata": {},
     "output_type": "display_data"
    },
    {
     "data": {
      "text/markdown": [
       "<a href=\"reports/ACY3.html\">ACY3</a><br>"
      ],
      "text/plain": [
       "<IPython.core.display.Markdown object>"
      ]
     },
     "metadata": {},
     "output_type": "display_data"
    },
    {
     "data": {
      "text/markdown": [
       "<a href=\"reports/XBP1.html\">XBP1</a><br>"
      ],
      "text/plain": [
       "<IPython.core.display.Markdown object>"
      ]
     },
     "metadata": {},
     "output_type": "display_data"
    },
    {
     "data": {
      "text/markdown": [
       "<a href=\"reports/CHCHD2.html\">CHCHD2</a><br>"
      ],
      "text/plain": [
       "<IPython.core.display.Markdown object>"
      ]
     },
     "metadata": {},
     "output_type": "display_data"
    },
    {
     "data": {
      "text/markdown": [
       "<a href=\"reports/ROPN1L.html\">ROPN1L</a><br>"
      ],
      "text/plain": [
       "<IPython.core.display.Markdown object>"
      ]
     },
     "metadata": {},
     "output_type": "display_data"
    },
    {
     "data": {
      "text/markdown": [
       "<a href=\"reports/SLC27A2.html\">SLC27A2</a><br>"
      ],
      "text/plain": [
       "<IPython.core.display.Markdown object>"
      ]
     },
     "metadata": {},
     "output_type": "display_data"
    },
    {
     "data": {
      "text/markdown": [
       "<a href=\"reports/DUOXA1.html\">DUOXA1</a><br>"
      ],
      "text/plain": [
       "<IPython.core.display.Markdown object>"
      ]
     },
     "metadata": {},
     "output_type": "display_data"
    },
    {
     "data": {
      "text/markdown": [
       "<a href=\"reports/GSDMD.html\">GSDMD</a><br>"
      ],
      "text/plain": [
       "<IPython.core.display.Markdown object>"
      ]
     },
     "metadata": {},
     "output_type": "display_data"
    },
    {
     "data": {
      "text/markdown": [
       "<a href=\"reports/PSG11.html\">PSG11</a><br>"
      ],
      "text/plain": [
       "<IPython.core.display.Markdown object>"
      ]
     },
     "metadata": {},
     "output_type": "display_data"
    },
    {
     "data": {
      "text/markdown": [
       "<a href=\"reports/NADSYN1.html\">NADSYN1</a><br>"
      ],
      "text/plain": [
       "<IPython.core.display.Markdown object>"
      ]
     },
     "metadata": {},
     "output_type": "display_data"
    },
    {
     "data": {
      "text/markdown": [
       "<a href=\"reports/FGGY.html\">FGGY</a><br>"
      ],
      "text/plain": [
       "<IPython.core.display.Markdown object>"
      ]
     },
     "metadata": {},
     "output_type": "display_data"
    },
    {
     "data": {
      "text/markdown": [
       "<a href=\"reports/PLEC.html\">PLEC</a><br>"
      ],
      "text/plain": [
       "<IPython.core.display.Markdown object>"
      ]
     },
     "metadata": {},
     "output_type": "display_data"
    },
    {
     "data": {
      "text/markdown": [
       "<a href=\"reports/THAP1.html\">THAP1</a><br>"
      ],
      "text/plain": [
       "<IPython.core.display.Markdown object>"
      ]
     },
     "metadata": {},
     "output_type": "display_data"
    },
    {
     "data": {
      "text/markdown": [
       "<a href=\"reports/PTK2.html\">PTK2</a><br>"
      ],
      "text/plain": [
       "<IPython.core.display.Markdown object>"
      ]
     },
     "metadata": {},
     "output_type": "display_data"
    },
    {
     "data": {
      "text/markdown": [
       "<a href=\"reports/GNMT.html\">GNMT</a><br>"
      ],
      "text/plain": [
       "<IPython.core.display.Markdown object>"
      ]
     },
     "metadata": {},
     "output_type": "display_data"
    },
    {
     "data": {
      "text/markdown": [
       "<a href=\"reports/DERL1.html\">DERL1</a><br>"
      ],
      "text/plain": [
       "<IPython.core.display.Markdown object>"
      ]
     },
     "metadata": {},
     "output_type": "display_data"
    },
    {
     "data": {
      "text/markdown": [
       "<a href=\"reports/ANKRD66.html\">ANKRD66</a><br>"
      ],
      "text/plain": [
       "<IPython.core.display.Markdown object>"
      ]
     },
     "metadata": {},
     "output_type": "display_data"
    },
    {
     "data": {
      "text/markdown": [
       "<a href=\"reports/PRDM9.html\">PRDM9</a><br>"
      ],
      "text/plain": [
       "<IPython.core.display.Markdown object>"
      ]
     },
     "metadata": {},
     "output_type": "display_data"
    },
    {
     "data": {
      "text/markdown": [
       "<a href=\"reports/DKK4.html\">DKK4</a><br>"
      ],
      "text/plain": [
       "<IPython.core.display.Markdown object>"
      ]
     },
     "metadata": {},
     "output_type": "display_data"
    },
    {
     "data": {
      "text/markdown": [
       "<a href=\"reports/ADORA2A.html\">ADORA2A</a><br>"
      ],
      "text/plain": [
       "<IPython.core.display.Markdown object>"
      ]
     },
     "metadata": {},
     "output_type": "display_data"
    },
    {
     "data": {
      "text/markdown": [
       "<a href=\"reports/GNL3L.html\">GNL3L</a><br>"
      ],
      "text/plain": [
       "<IPython.core.display.Markdown object>"
      ]
     },
     "metadata": {},
     "output_type": "display_data"
    },
    {
     "data": {
      "text/markdown": [
       "<a href=\"reports/CCT5.html\">CCT5</a><br>"
      ],
      "text/plain": [
       "<IPython.core.display.Markdown object>"
      ]
     },
     "metadata": {},
     "output_type": "display_data"
    },
    {
     "data": {
      "text/markdown": [
       "<a href=\"reports/RPAP1.html\">RPAP1</a><br>"
      ],
      "text/plain": [
       "<IPython.core.display.Markdown object>"
      ]
     },
     "metadata": {},
     "output_type": "display_data"
    },
    {
     "data": {
      "text/markdown": [
       "<a href=\"reports/CCL3L3.html\">CCL3L3</a><br>"
      ],
      "text/plain": [
       "<IPython.core.display.Markdown object>"
      ]
     },
     "metadata": {},
     "output_type": "display_data"
    },
    {
     "data": {
      "text/markdown": [
       "<a href=\"reports/CYHR1.html\">CYHR1</a><br>"
      ],
      "text/plain": [
       "<IPython.core.display.Markdown object>"
      ]
     },
     "metadata": {},
     "output_type": "display_data"
    },
    {
     "data": {
      "text/markdown": [
       "<a href=\"reports/MGA.html\">MGA</a><br>"
      ],
      "text/plain": [
       "<IPython.core.display.Markdown object>"
      ]
     },
     "metadata": {},
     "output_type": "display_data"
    },
    {
     "data": {
      "text/markdown": [
       "<a href=\"reports/LYPLA1.html\">LYPLA1</a><br>"
      ],
      "text/plain": [
       "<IPython.core.display.Markdown object>"
      ]
     },
     "metadata": {},
     "output_type": "display_data"
    },
    {
     "data": {
      "text/markdown": [
       "<a href=\"reports/TM2D2.html\">TM2D2</a><br>"
      ],
      "text/plain": [
       "<IPython.core.display.Markdown object>"
      ]
     },
     "metadata": {},
     "output_type": "display_data"
    },
    {
     "data": {
      "text/markdown": [
       "<a href=\"reports/RPL37.html\">RPL37</a><br>"
      ],
      "text/plain": [
       "<IPython.core.display.Markdown object>"
      ]
     },
     "metadata": {},
     "output_type": "display_data"
    },
    {
     "data": {
      "text/markdown": [
       "<a href=\"reports/ZNF318.html\">ZNF318</a><br>"
      ],
      "text/plain": [
       "<IPython.core.display.Markdown object>"
      ]
     },
     "metadata": {},
     "output_type": "display_data"
    },
    {
     "data": {
      "text/markdown": [
       "<a href=\"reports/HMGCS1.html\">HMGCS1</a><br>"
      ],
      "text/plain": [
       "<IPython.core.display.Markdown object>"
      ]
     },
     "metadata": {},
     "output_type": "display_data"
    },
    {
     "data": {
      "text/markdown": [
       "<a href=\"reports/SECISBP2L.html\">SECISBP2L</a><br>"
      ],
      "text/plain": [
       "<IPython.core.display.Markdown object>"
      ]
     },
     "metadata": {},
     "output_type": "display_data"
    },
    {
     "data": {
      "text/markdown": [
       "<a href=\"reports/GSTA5.html\">GSTA5</a><br>"
      ],
      "text/plain": [
       "<IPython.core.display.Markdown object>"
      ]
     },
     "metadata": {},
     "output_type": "display_data"
    },
    {
     "data": {
      "text/markdown": [
       "<a href=\"reports/UQCRB.html\">UQCRB</a><br>"
      ],
      "text/plain": [
       "<IPython.core.display.Markdown object>"
      ]
     },
     "metadata": {},
     "output_type": "display_data"
    },
    {
     "data": {
      "text/markdown": [
       "<a href=\"reports/CDH12.html\">CDH12</a><br>"
      ],
      "text/plain": [
       "<IPython.core.display.Markdown object>"
      ]
     },
     "metadata": {},
     "output_type": "display_data"
    },
    {
     "data": {
      "text/markdown": [
       "<a href=\"reports/CRISP1.html\">CRISP1</a><br>"
      ],
      "text/plain": [
       "<IPython.core.display.Markdown object>"
      ]
     },
     "metadata": {},
     "output_type": "display_data"
    },
    {
     "data": {
      "text/markdown": [
       "<a href=\"reports/PPP1R18.html\">PPP1R18</a><br>"
      ],
      "text/plain": [
       "<IPython.core.display.Markdown object>"
      ]
     },
     "metadata": {},
     "output_type": "display_data"
    },
    {
     "data": {
      "text/markdown": [
       "<a href=\"reports/CABP2.html\">CABP2</a><br>"
      ],
      "text/plain": [
       "<IPython.core.display.Markdown object>"
      ]
     },
     "metadata": {},
     "output_type": "display_data"
    },
    {
     "data": {
      "text/markdown": [
       "<a href=\"reports/PTRH1.html\">PTRH1</a><br>"
      ],
      "text/plain": [
       "<IPython.core.display.Markdown object>"
      ]
     },
     "metadata": {},
     "output_type": "display_data"
    },
    {
     "data": {
      "text/markdown": [
       "<a href=\"reports/CTTN.html\">CTTN</a><br>"
      ],
      "text/plain": [
       "<IPython.core.display.Markdown object>"
      ]
     },
     "metadata": {},
     "output_type": "display_data"
    },
    {
     "data": {
      "text/markdown": [
       "<a href=\"reports/OR4K1.html\">OR4K1</a><br>"
      ],
      "text/plain": [
       "<IPython.core.display.Markdown object>"
      ]
     },
     "metadata": {},
     "output_type": "display_data"
    },
    {
     "data": {
      "text/markdown": [
       "<a href=\"reports/DUOX1.html\">DUOX1</a><br>"
      ],
      "text/plain": [
       "<IPython.core.display.Markdown object>"
      ]
     },
     "metadata": {},
     "output_type": "display_data"
    },
    {
     "data": {
      "text/markdown": [
       "<a href=\"reports/DPY19L4.html\">DPY19L4</a><br>"
      ],
      "text/plain": [
       "<IPython.core.display.Markdown object>"
      ]
     },
     "metadata": {},
     "output_type": "display_data"
    },
    {
     "data": {
      "text/markdown": [
       "<a href=\"reports/TSTA3.html\">TSTA3</a><br>"
      ],
      "text/plain": [
       "<IPython.core.display.Markdown object>"
      ]
     },
     "metadata": {},
     "output_type": "display_data"
    },
    {
     "data": {
      "text/markdown": [
       "<a href=\"reports/TGS1.html\">TGS1</a><br>"
      ],
      "text/plain": [
       "<IPython.core.display.Markdown object>"
      ]
     },
     "metadata": {},
     "output_type": "display_data"
    },
    {
     "data": {
      "text/markdown": [
       "<a href=\"reports/PGAP3.html\">PGAP3</a><br>"
      ],
      "text/plain": [
       "<IPython.core.display.Markdown object>"
      ]
     },
     "metadata": {},
     "output_type": "display_data"
    },
    {
     "data": {
      "text/markdown": [
       "<a href=\"reports/MRPL13.html\">MRPL13</a><br>"
      ],
      "text/plain": [
       "<IPython.core.display.Markdown object>"
      ]
     },
     "metadata": {},
     "output_type": "display_data"
    },
    {
     "data": {
      "text/markdown": [
       "<a href=\"reports/SDF2L1.html\">SDF2L1</a><br>"
      ],
      "text/plain": [
       "<IPython.core.display.Markdown object>"
      ]
     },
     "metadata": {},
     "output_type": "display_data"
    },
    {
     "data": {
      "text/markdown": [
       "<a href=\"reports/TRIB1.html\">TRIB1</a><br>"
      ],
      "text/plain": [
       "<IPython.core.display.Markdown object>"
      ]
     },
     "metadata": {},
     "output_type": "display_data"
    },
    {
     "data": {
      "text/markdown": [
       "<a href=\"reports/ANKRD42.html\">ANKRD42</a><br>"
      ],
      "text/plain": [
       "<IPython.core.display.Markdown object>"
      ]
     },
     "metadata": {},
     "output_type": "display_data"
    },
    {
     "data": {
      "text/markdown": [
       "<a href=\"reports/SDCBP.html\">SDCBP</a><br>"
      ],
      "text/plain": [
       "<IPython.core.display.Markdown object>"
      ]
     },
     "metadata": {},
     "output_type": "display_data"
    },
    {
     "data": {
      "text/markdown": [
       "<a href=\"reports/ATP6V1H.html\">ATP6V1H</a><br>"
      ],
      "text/plain": [
       "<IPython.core.display.Markdown object>"
      ]
     },
     "metadata": {},
     "output_type": "display_data"
    },
    {
     "data": {
      "text/markdown": [
       "<a href=\"reports/TFRC.html\">TFRC</a><br>"
      ],
      "text/plain": [
       "<IPython.core.display.Markdown object>"
      ]
     },
     "metadata": {},
     "output_type": "display_data"
    },
    {
     "data": {
      "text/markdown": [
       "<a href=\"reports/PIWIL4.html\">PIWIL4</a><br>"
      ],
      "text/plain": [
       "<IPython.core.display.Markdown object>"
      ]
     },
     "metadata": {},
     "output_type": "display_data"
    },
    {
     "data": {
      "text/markdown": [
       "<a href=\"reports/NEUROD2.html\">NEUROD2</a><br>"
      ],
      "text/plain": [
       "<IPython.core.display.Markdown object>"
      ]
     },
     "metadata": {},
     "output_type": "display_data"
    },
    {
     "data": {
      "text/markdown": [
       "<a href=\"reports/LRRC32.html\">LRRC32</a><br>"
      ],
      "text/plain": [
       "<IPython.core.display.Markdown object>"
      ]
     },
     "metadata": {},
     "output_type": "display_data"
    },
    {
     "data": {
      "text/markdown": [
       "<a href=\"reports/TRO.html\">TRO</a><br>"
      ],
      "text/plain": [
       "<IPython.core.display.Markdown object>"
      ]
     },
     "metadata": {},
     "output_type": "display_data"
    },
    {
     "data": {
      "text/markdown": [
       "<a href=\"reports/TRAPPC9.html\">TRAPPC9</a><br>"
      ],
      "text/plain": [
       "<IPython.core.display.Markdown object>"
      ]
     },
     "metadata": {},
     "output_type": "display_data"
    },
    {
     "data": {
      "text/markdown": [
       "<a href=\"reports/SLC25A27.html\">SLC25A27</a><br>"
      ],
      "text/plain": [
       "<IPython.core.display.Markdown object>"
      ]
     },
     "metadata": {},
     "output_type": "display_data"
    },
    {
     "data": {
      "text/markdown": [
       "<a href=\"reports/SNRPB.html\">SNRPB</a><br>"
      ],
      "text/plain": [
       "<IPython.core.display.Markdown object>"
      ]
     },
     "metadata": {},
     "output_type": "display_data"
    },
    {
     "data": {
      "text/markdown": [
       "<a href=\"reports/DUOX2.html\">DUOX2</a><br>"
      ],
      "text/plain": [
       "<IPython.core.display.Markdown object>"
      ]
     },
     "metadata": {},
     "output_type": "display_data"
    },
    {
     "data": {
      "text/markdown": [
       "<a href=\"reports/PDGFRL.html\">PDGFRL</a><br>"
      ],
      "text/plain": [
       "<IPython.core.display.Markdown object>"
      ]
     },
     "metadata": {},
     "output_type": "display_data"
    },
    {
     "data": {
      "text/markdown": [
       "<a href=\"reports/PCNA.html\">PCNA</a><br>"
      ],
      "text/plain": [
       "<IPython.core.display.Markdown object>"
      ]
     },
     "metadata": {},
     "output_type": "display_data"
    },
    {
     "data": {
      "text/markdown": [
       "<a href=\"reports/TMEM63B.html\">TMEM63B</a><br>"
      ],
      "text/plain": [
       "<IPython.core.display.Markdown object>"
      ]
     },
     "metadata": {},
     "output_type": "display_data"
    },
    {
     "data": {
      "text/markdown": [
       "<a href=\"reports/OTULINL.html\">OTULINL</a><br>"
      ],
      "text/plain": [
       "<IPython.core.display.Markdown object>"
      ]
     },
     "metadata": {},
     "output_type": "display_data"
    },
    {
     "data": {
      "text/markdown": [
       "<a href=\"reports/FNTA.html\">FNTA</a><br>"
      ],
      "text/plain": [
       "<IPython.core.display.Markdown object>"
      ]
     },
     "metadata": {},
     "output_type": "display_data"
    },
    {
     "data": {
      "text/markdown": [
       "<a href=\"reports/TTC28.html\">TTC28</a><br>"
      ],
      "text/plain": [
       "<IPython.core.display.Markdown object>"
      ]
     },
     "metadata": {},
     "output_type": "display_data"
    },
    {
     "data": {
      "text/markdown": [
       "<a href=\"reports/NDUFAF1.html\">NDUFAF1</a><br>"
      ],
      "text/plain": [
       "<IPython.core.display.Markdown object>"
      ]
     },
     "metadata": {},
     "output_type": "display_data"
    },
    {
     "data": {
      "text/markdown": [
       "<a href=\"reports/ZNF705E.html\">ZNF705E</a><br>"
      ],
      "text/plain": [
       "<IPython.core.display.Markdown object>"
      ]
     },
     "metadata": {},
     "output_type": "display_data"
    },
    {
     "data": {
      "text/markdown": [
       "<a href=\"reports/CHKA.html\">CHKA</a><br>"
      ],
      "text/plain": [
       "<IPython.core.display.Markdown object>"
      ]
     },
     "metadata": {},
     "output_type": "display_data"
    },
    {
     "data": {
      "text/markdown": [
       "<a href=\"reports/UNC45B.html\">UNC45B</a><br>"
      ],
      "text/plain": [
       "<IPython.core.display.Markdown object>"
      ]
     },
     "metadata": {},
     "output_type": "display_data"
    },
    {
     "data": {
      "text/markdown": [
       "<a href=\"reports/RBM12B.html\">RBM12B</a><br>"
      ],
      "text/plain": [
       "<IPython.core.display.Markdown object>"
      ]
     },
     "metadata": {},
     "output_type": "display_data"
    },
    {
     "data": {
      "text/markdown": [
       "<a href=\"reports/CIC.html\">CIC</a><br>"
      ],
      "text/plain": [
       "<IPython.core.display.Markdown object>"
      ]
     },
     "metadata": {},
     "output_type": "display_data"
    },
    {
     "data": {
      "text/markdown": [
       "<a href=\"reports/AGXT2.html\">AGXT2</a><br>"
      ],
      "text/plain": [
       "<IPython.core.display.Markdown object>"
      ]
     },
     "metadata": {},
     "output_type": "display_data"
    },
    {
     "data": {
      "text/markdown": [
       "<a href=\"reports/C11orf24.html\">C11orf24</a><br>"
      ],
      "text/plain": [
       "<IPython.core.display.Markdown object>"
      ]
     },
     "metadata": {},
     "output_type": "display_data"
    },
    {
     "data": {
      "text/markdown": [
       "<a href=\"reports/DNAJC5B.html\">DNAJC5B</a><br>"
      ],
      "text/plain": [
       "<IPython.core.display.Markdown object>"
      ]
     },
     "metadata": {},
     "output_type": "display_data"
    },
    {
     "data": {
      "text/markdown": [
       "<a href=\"reports/BRIX1.html\">BRIX1</a><br>"
      ],
      "text/plain": [
       "<IPython.core.display.Markdown object>"
      ]
     },
     "metadata": {},
     "output_type": "display_data"
    },
    {
     "data": {
      "text/markdown": [
       "<a href=\"reports/TONSL.html\">TONSL</a><br>"
      ],
      "text/plain": [
       "<IPython.core.display.Markdown object>"
      ]
     },
     "metadata": {},
     "output_type": "display_data"
    },
    {
     "data": {
      "text/markdown": [
       "<a href=\"reports/PDCD6.html\">PDCD6</a><br>"
      ],
      "text/plain": [
       "<IPython.core.display.Markdown object>"
      ]
     },
     "metadata": {},
     "output_type": "display_data"
    },
    {
     "data": {
      "text/markdown": [
       "<a href=\"reports/DEFB135.html\">DEFB135</a><br>"
      ],
      "text/plain": [
       "<IPython.core.display.Markdown object>"
      ]
     },
     "metadata": {},
     "output_type": "display_data"
    },
    {
     "data": {
      "text/markdown": [
       "<a href=\"reports/USP1.html\">USP1</a><br>"
      ],
      "text/plain": [
       "<IPython.core.display.Markdown object>"
      ]
     },
     "metadata": {},
     "output_type": "display_data"
    },
    {
     "data": {
      "text/markdown": [
       "<a href=\"reports/RAD51.html\">RAD51</a><br>"
      ],
      "text/plain": [
       "<IPython.core.display.Markdown object>"
      ]
     },
     "metadata": {},
     "output_type": "display_data"
    },
    {
     "data": {
      "text/markdown": [
       "<a href=\"reports/MRPS17.html\">MRPS17</a><br>"
      ],
      "text/plain": [
       "<IPython.core.display.Markdown object>"
      ]
     },
     "metadata": {},
     "output_type": "display_data"
    },
    {
     "data": {
      "text/markdown": [
       "<a href=\"reports/DDI1.html\">DDI1</a><br>"
      ],
      "text/plain": [
       "<IPython.core.display.Markdown object>"
      ]
     },
     "metadata": {},
     "output_type": "display_data"
    },
    {
     "data": {
      "text/markdown": [
       "<a href=\"reports/RRP36.html\">RRP36</a><br>"
      ],
      "text/plain": [
       "<IPython.core.display.Markdown object>"
      ]
     },
     "metadata": {},
     "output_type": "display_data"
    },
    {
     "data": {
      "text/markdown": [
       "<a href=\"reports/ZFHX4.html\">ZFHX4</a><br>"
      ],
      "text/plain": [
       "<IPython.core.display.Markdown object>"
      ]
     },
     "metadata": {},
     "output_type": "display_data"
    },
    {
     "data": {
      "text/markdown": [
       "<a href=\"reports/RAB38.html\">RAB38</a><br>"
      ],
      "text/plain": [
       "<IPython.core.display.Markdown object>"
      ]
     },
     "metadata": {},
     "output_type": "display_data"
    },
    {
     "data": {
      "text/markdown": [
       "<a href=\"reports/CTSO.html\">CTSO</a><br>"
      ],
      "text/plain": [
       "<IPython.core.display.Markdown object>"
      ]
     },
     "metadata": {},
     "output_type": "display_data"
    },
    {
     "data": {
      "text/markdown": [
       "<a href=\"reports/PRPF38B.html\">PRPF38B</a><br>"
      ],
      "text/plain": [
       "<IPython.core.display.Markdown object>"
      ]
     },
     "metadata": {},
     "output_type": "display_data"
    },
    {
     "data": {
      "text/markdown": [
       "<a href=\"reports/NDUFS8.html\">NDUFS8</a><br>"
      ],
      "text/plain": [
       "<IPython.core.display.Markdown object>"
      ]
     },
     "metadata": {},
     "output_type": "display_data"
    },
    {
     "data": {
      "text/markdown": [
       "<a href=\"reports/CCDC127.html\">CCDC127</a><br>"
      ],
      "text/plain": [
       "<IPython.core.display.Markdown object>"
      ]
     },
     "metadata": {},
     "output_type": "display_data"
    },
    {
     "data": {
      "text/markdown": [
       "<a href=\"reports/FOLR3.html\">FOLR3</a><br>"
      ],
      "text/plain": [
       "<IPython.core.display.Markdown object>"
      ]
     },
     "metadata": {},
     "output_type": "display_data"
    },
    {
     "data": {
      "text/markdown": [
       "<a href=\"reports/PKHD1.html\">PKHD1</a><br>"
      ],
      "text/plain": [
       "<IPython.core.display.Markdown object>"
      ]
     },
     "metadata": {},
     "output_type": "display_data"
    },
    {
     "data": {
      "text/markdown": [
       "<a href=\"reports/DNAJB13.html\">DNAJB13</a><br>"
      ],
      "text/plain": [
       "<IPython.core.display.Markdown object>"
      ]
     },
     "metadata": {},
     "output_type": "display_data"
    },
    {
     "data": {
      "text/markdown": [
       "<a href=\"reports/OR4Q3.html\">OR4Q3</a><br>"
      ],
      "text/plain": [
       "<IPython.core.display.Markdown object>"
      ]
     },
     "metadata": {},
     "output_type": "display_data"
    },
    {
     "data": {
      "text/markdown": [
       "<a href=\"reports/KRTAP5-7.html\">KRTAP5-7</a><br>"
      ],
      "text/plain": [
       "<IPython.core.display.Markdown object>"
      ]
     },
     "metadata": {},
     "output_type": "display_data"
    },
    {
     "data": {
      "text/markdown": [
       "<a href=\"reports/CCDC117.html\">CCDC117</a><br>"
      ],
      "text/plain": [
       "<IPython.core.display.Markdown object>"
      ]
     },
     "metadata": {},
     "output_type": "display_data"
    },
    {
     "data": {
      "text/markdown": [
       "<a href=\"reports/ANKRD62.html\">ANKRD62</a><br>"
      ],
      "text/plain": [
       "<IPython.core.display.Markdown object>"
      ]
     },
     "metadata": {},
     "output_type": "display_data"
    },
    {
     "data": {
      "text/markdown": [
       "<a href=\"reports/PAQR8.html\">PAQR8</a><br>"
      ],
      "text/plain": [
       "<IPython.core.display.Markdown object>"
      ]
     },
     "metadata": {},
     "output_type": "display_data"
    },
    {
     "data": {
      "text/markdown": [
       "<a href=\"reports/LYPD2.html\">LYPD2</a><br>"
      ],
      "text/plain": [
       "<IPython.core.display.Markdown object>"
      ]
     },
     "metadata": {},
     "output_type": "display_data"
    },
    {
     "data": {
      "text/markdown": [
       "<a href=\"reports/ATP6V1C1.html\">ATP6V1C1</a><br>"
      ],
      "text/plain": [
       "<IPython.core.display.Markdown object>"
      ]
     },
     "metadata": {},
     "output_type": "display_data"
    },
    {
     "data": {
      "text/markdown": [
       "<a href=\"reports/PPP1CA.html\">PPP1CA</a><br>"
      ],
      "text/plain": [
       "<IPython.core.display.Markdown object>"
      ]
     },
     "metadata": {},
     "output_type": "display_data"
    },
    {
     "data": {
      "text/markdown": [
       "<a href=\"reports/CABP4.html\">CABP4</a><br>"
      ],
      "text/plain": [
       "<IPython.core.display.Markdown object>"
      ]
     },
     "metadata": {},
     "output_type": "display_data"
    },
    {
     "data": {
      "text/markdown": [
       "<a href=\"reports/NSMAF.html\">NSMAF</a><br>"
      ],
      "text/plain": [
       "<IPython.core.display.Markdown object>"
      ]
     },
     "metadata": {},
     "output_type": "display_data"
    },
    {
     "data": {
      "text/markdown": [
       "<a href=\"reports/CAPN3.html\">CAPN3</a><br>"
      ],
      "text/plain": [
       "<IPython.core.display.Markdown object>"
      ]
     },
     "metadata": {},
     "output_type": "display_data"
    },
    {
     "data": {
      "text/markdown": [
       "<a href=\"reports/VWA2.html\">VWA2</a><br>"
      ],
      "text/plain": [
       "<IPython.core.display.Markdown object>"
      ]
     },
     "metadata": {},
     "output_type": "display_data"
    },
    {
     "data": {
      "text/markdown": [
       "<a href=\"reports/GSTA4.html\">GSTA4</a><br>"
      ],
      "text/plain": [
       "<IPython.core.display.Markdown object>"
      ]
     },
     "metadata": {},
     "output_type": "display_data"
    },
    {
     "data": {
      "text/markdown": [
       "<a href=\"reports/ERF.html\">ERF</a><br>"
      ],
      "text/plain": [
       "<IPython.core.display.Markdown object>"
      ]
     },
     "metadata": {},
     "output_type": "display_data"
    },
    {
     "data": {
      "text/markdown": [
       "<a href=\"reports/CDH10.html\">CDH10</a><br>"
      ],
      "text/plain": [
       "<IPython.core.display.Markdown object>"
      ]
     },
     "metadata": {},
     "output_type": "display_data"
    },
    {
     "data": {
      "text/markdown": [
       "<a href=\"reports/WNT11.html\">WNT11</a><br>"
      ],
      "text/plain": [
       "<IPython.core.display.Markdown object>"
      ]
     },
     "metadata": {},
     "output_type": "display_data"
    },
    {
     "data": {
      "text/markdown": [
       "<a href=\"reports/CFHR1.html\">CFHR1</a><br>"
      ],
      "text/plain": [
       "<IPython.core.display.Markdown object>"
      ]
     },
     "metadata": {},
     "output_type": "display_data"
    },
    {
     "data": {
      "text/markdown": [
       "<a href=\"reports/DNAJC17.html\">DNAJC17</a><br>"
      ],
      "text/plain": [
       "<IPython.core.display.Markdown object>"
      ]
     },
     "metadata": {},
     "output_type": "display_data"
    },
    {
     "data": {
      "text/markdown": [
       "<a href=\"reports/FASTKD5.html\">FASTKD5</a><br>"
      ],
      "text/plain": [
       "<IPython.core.display.Markdown object>"
      ]
     },
     "metadata": {},
     "output_type": "display_data"
    },
    {
     "data": {
      "text/markdown": [
       "<a href=\"reports/TENT4A.html\">TENT4A</a><br>"
      ],
      "text/plain": [
       "<IPython.core.display.Markdown object>"
      ]
     },
     "metadata": {},
     "output_type": "display_data"
    },
    {
     "data": {
      "text/markdown": [
       "<a href=\"reports/PHKG1.html\">PHKG1</a><br>"
      ],
      "text/plain": [
       "<IPython.core.display.Markdown object>"
      ]
     },
     "metadata": {},
     "output_type": "display_data"
    },
    {
     "data": {
      "text/markdown": [
       "<a href=\"reports/PSKH2.html\">PSKH2</a><br>"
      ],
      "text/plain": [
       "<IPython.core.display.Markdown object>"
      ]
     },
     "metadata": {},
     "output_type": "display_data"
    },
    {
     "data": {
      "text/markdown": [
       "<a href=\"reports/TOR4A.html\">TOR4A</a><br>"
      ],
      "text/plain": [
       "<IPython.core.display.Markdown object>"
      ]
     },
     "metadata": {},
     "output_type": "display_data"
    },
    {
     "data": {
      "text/markdown": [
       "<a href=\"reports/MAPK15.html\">MAPK15</a><br>"
      ],
      "text/plain": [
       "<IPython.core.display.Markdown object>"
      ]
     },
     "metadata": {},
     "output_type": "display_data"
    },
    {
     "data": {
      "text/markdown": [
       "<a href=\"reports/FAM76B.html\">FAM76B</a><br>"
      ],
      "text/plain": [
       "<IPython.core.display.Markdown object>"
      ]
     },
     "metadata": {},
     "output_type": "display_data"
    },
    {
     "data": {
      "text/markdown": [
       "<a href=\"reports/SLC29A1.html\">SLC29A1</a><br>"
      ],
      "text/plain": [
       "<IPython.core.display.Markdown object>"
      ]
     },
     "metadata": {},
     "output_type": "display_data"
    },
    {
     "data": {
      "text/markdown": [
       "<a href=\"reports/ZNF622.html\">ZNF622</a><br>"
      ],
      "text/plain": [
       "<IPython.core.display.Markdown object>"
      ]
     },
     "metadata": {},
     "output_type": "display_data"
    },
    {
     "data": {
      "text/markdown": [
       "<a href=\"reports/UGT3A1.html\">UGT3A1</a><br>"
      ],
      "text/plain": [
       "<IPython.core.display.Markdown object>"
      ]
     },
     "metadata": {},
     "output_type": "display_data"
    },
    {
     "data": {
      "text/markdown": [
       "<a href=\"reports/ZFYVE19.html\">ZFYVE19</a><br>"
      ],
      "text/plain": [
       "<IPython.core.display.Markdown object>"
      ]
     },
     "metadata": {},
     "output_type": "display_data"
    },
    {
     "data": {
      "text/markdown": [
       "<a href=\"reports/PPP2R2A.html\">PPP2R2A</a><br>"
      ],
      "text/plain": [
       "<IPython.core.display.Markdown object>"
      ]
     },
     "metadata": {},
     "output_type": "display_data"
    },
    {
     "data": {
      "text/markdown": [
       "<a href=\"reports/AARD.html\">AARD</a><br>"
      ],
      "text/plain": [
       "<IPython.core.display.Markdown object>"
      ]
     },
     "metadata": {},
     "output_type": "display_data"
    },
    {
     "data": {
      "text/markdown": [
       "<a href=\"reports/CLPB.html\">CLPB</a><br>"
      ],
      "text/plain": [
       "<IPython.core.display.Markdown object>"
      ]
     },
     "metadata": {},
     "output_type": "display_data"
    },
    {
     "data": {
      "text/markdown": [
       "<a href=\"reports/KRTAP5-8.html\">KRTAP5-8</a><br>"
      ],
      "text/plain": [
       "<IPython.core.display.Markdown object>"
      ]
     },
     "metadata": {},
     "output_type": "display_data"
    },
    {
     "data": {
      "text/markdown": [
       "<a href=\"reports/JUN.html\">JUN</a><br>"
      ],
      "text/plain": [
       "<IPython.core.display.Markdown object>"
      ]
     },
     "metadata": {},
     "output_type": "display_data"
    },
    {
     "data": {
      "text/markdown": [
       "<a href=\"reports/HTN3.html\">HTN3</a><br>"
      ],
      "text/plain": [
       "<IPython.core.display.Markdown object>"
      ]
     },
     "metadata": {},
     "output_type": "display_data"
    },
    {
     "data": {
      "text/markdown": [
       "<a href=\"reports/YAP1.html\">YAP1</a><br>"
      ],
      "text/plain": [
       "<IPython.core.display.Markdown object>"
      ]
     },
     "metadata": {},
     "output_type": "display_data"
    },
    {
     "data": {
      "text/markdown": [
       "<a href=\"reports/BAALC.html\">BAALC</a><br>"
      ],
      "text/plain": [
       "<IPython.core.display.Markdown object>"
      ]
     },
     "metadata": {},
     "output_type": "display_data"
    },
    {
     "data": {
      "text/markdown": [
       "<a href=\"reports/PGC.html\">PGC</a><br>"
      ],
      "text/plain": [
       "<IPython.core.display.Markdown object>"
      ]
     },
     "metadata": {},
     "output_type": "display_data"
    },
    {
     "data": {
      "text/markdown": [
       "<a href=\"reports/POP1.html\">POP1</a><br>"
      ],
      "text/plain": [
       "<IPython.core.display.Markdown object>"
      ]
     },
     "metadata": {},
     "output_type": "display_data"
    },
    {
     "data": {
      "text/markdown": [
       "<a href=\"reports/ADGRF1.html\">ADGRF1</a><br>"
      ],
      "text/plain": [
       "<IPython.core.display.Markdown object>"
      ]
     },
     "metadata": {},
     "output_type": "display_data"
    },
    {
     "data": {
      "text/markdown": [
       "<a href=\"reports/MCMDC2.html\">MCMDC2</a><br>"
      ],
      "text/plain": [
       "<IPython.core.display.Markdown object>"
      ]
     },
     "metadata": {},
     "output_type": "display_data"
    },
    {
     "data": {
      "text/markdown": [
       "<a href=\"reports/BHLHA15.html\">BHLHA15</a><br>"
      ],
      "text/plain": [
       "<IPython.core.display.Markdown object>"
      ]
     },
     "metadata": {},
     "output_type": "display_data"
    },
    {
     "data": {
      "text/markdown": [
       "<a href=\"reports/ZNF680.html\">ZNF680</a><br>"
      ],
      "text/plain": [
       "<IPython.core.display.Markdown object>"
      ]
     },
     "metadata": {},
     "output_type": "display_data"
    },
    {
     "data": {
      "text/markdown": [
       "<a href=\"reports/ADGRB1.html\">ADGRB1</a><br>"
      ],
      "text/plain": [
       "<IPython.core.display.Markdown object>"
      ]
     },
     "metadata": {},
     "output_type": "display_data"
    },
    {
     "data": {
      "text/markdown": [
       "<a href=\"reports/INTS6.html\">INTS6</a><br>"
      ],
      "text/plain": [
       "<IPython.core.display.Markdown object>"
      ]
     },
     "metadata": {},
     "output_type": "display_data"
    },
    {
     "data": {
      "text/markdown": [
       "<a href=\"reports/GGT5.html\">GGT5</a><br>"
      ],
      "text/plain": [
       "<IPython.core.display.Markdown object>"
      ]
     },
     "metadata": {},
     "output_type": "display_data"
    },
    {
     "data": {
      "text/markdown": [
       "<a href=\"reports/ATPSCKMT.html\">ATPSCKMT</a><br>"
      ],
      "text/plain": [
       "<IPython.core.display.Markdown object>"
      ]
     },
     "metadata": {},
     "output_type": "display_data"
    },
    {
     "data": {
      "text/markdown": [
       "<a href=\"reports/LTO1.html\">LTO1</a><br>"
      ],
      "text/plain": [
       "<IPython.core.display.Markdown object>"
      ]
     },
     "metadata": {},
     "output_type": "display_data"
    },
    {
     "data": {
      "text/markdown": [
       "<a href=\"reports/ATP1B2.html\">ATP1B2</a><br>"
      ],
      "text/plain": [
       "<IPython.core.display.Markdown object>"
      ]
     },
     "metadata": {},
     "output_type": "display_data"
    },
    {
     "data": {
      "text/markdown": [
       "<a href=\"reports/ATAD2.html\">ATAD2</a><br>"
      ],
      "text/plain": [
       "<IPython.core.display.Markdown object>"
      ]
     },
     "metadata": {},
     "output_type": "display_data"
    },
    {
     "data": {
      "text/markdown": [
       "<a href=\"reports/FANCD2.html\">FANCD2</a><br>"
      ],
      "text/plain": [
       "<IPython.core.display.Markdown object>"
      ]
     },
     "metadata": {},
     "output_type": "display_data"
    },
    {
     "data": {
      "text/markdown": [
       "<a href=\"reports/EXD1.html\">EXD1</a><br>"
      ],
      "text/plain": [
       "<IPython.core.display.Markdown object>"
      ]
     },
     "metadata": {},
     "output_type": "display_data"
    },
    {
     "data": {
      "text/markdown": [
       "<a href=\"reports/NUDCD1.html\">NUDCD1</a><br>"
      ],
      "text/plain": [
       "<IPython.core.display.Markdown object>"
      ]
     },
     "metadata": {},
     "output_type": "display_data"
    },
    {
     "data": {
      "text/markdown": [
       "<a href=\"reports/C8orf76.html\">C8orf76</a><br>"
      ],
      "text/plain": [
       "<IPython.core.display.Markdown object>"
      ]
     },
     "metadata": {},
     "output_type": "display_data"
    },
    {
     "data": {
      "text/markdown": [
       "<a href=\"reports/MYOM2.html\">MYOM2</a><br>"
      ],
      "text/plain": [
       "<IPython.core.display.Markdown object>"
      ]
     },
     "metadata": {},
     "output_type": "display_data"
    },
    {
     "data": {
      "text/markdown": [
       "<a href=\"reports/AUTS2.html\">AUTS2</a><br>"
      ],
      "text/plain": [
       "<IPython.core.display.Markdown object>"
      ]
     },
     "metadata": {},
     "output_type": "display_data"
    },
    {
     "data": {
      "text/markdown": [
       "<a href=\"reports/HYPK.html\">HYPK</a><br>"
      ],
      "text/plain": [
       "<IPython.core.display.Markdown object>"
      ]
     },
     "metadata": {},
     "output_type": "display_data"
    },
    {
     "data": {
      "text/markdown": [
       "<a href=\"reports/CRYBB3.html\">CRYBB3</a><br>"
      ],
      "text/plain": [
       "<IPython.core.display.Markdown object>"
      ]
     },
     "metadata": {},
     "output_type": "display_data"
    },
    {
     "data": {
      "text/markdown": [
       "<a href=\"reports/AP4E1.html\">AP4E1</a><br>"
      ],
      "text/plain": [
       "<IPython.core.display.Markdown object>"
      ]
     },
     "metadata": {},
     "output_type": "display_data"
    },
    {
     "data": {
      "text/markdown": [
       "<a href=\"reports/THRSP.html\">THRSP</a><br>"
      ],
      "text/plain": [
       "<IPython.core.display.Markdown object>"
      ]
     },
     "metadata": {},
     "output_type": "display_data"
    },
    {
     "data": {
      "text/markdown": [
       "<a href=\"reports/KANK4.html\">KANK4</a><br>"
      ],
      "text/plain": [
       "<IPython.core.display.Markdown object>"
      ]
     },
     "metadata": {},
     "output_type": "display_data"
    },
    {
     "data": {
      "text/markdown": [
       "<a href=\"reports/TERB2.html\">TERB2</a><br>"
      ],
      "text/plain": [
       "<IPython.core.display.Markdown object>"
      ]
     },
     "metadata": {},
     "output_type": "display_data"
    },
    {
     "data": {
      "text/markdown": [
       "<a href=\"reports/INTS9.html\">INTS9</a><br>"
      ],
      "text/plain": [
       "<IPython.core.display.Markdown object>"
      ]
     },
     "metadata": {},
     "output_type": "display_data"
    },
    {
     "data": {
      "text/markdown": [
       "<a href=\"reports/MYO18B.html\">MYO18B</a><br>"
      ],
      "text/plain": [
       "<IPython.core.display.Markdown object>"
      ]
     },
     "metadata": {},
     "output_type": "display_data"
    },
    {
     "data": {
      "text/markdown": [
       "<a href=\"reports/HPS4.html\">HPS4</a><br>"
      ],
      "text/plain": [
       "<IPython.core.display.Markdown object>"
      ]
     },
     "metadata": {},
     "output_type": "display_data"
    },
    {
     "data": {
      "text/markdown": [
       "<a href=\"reports/EGFR.html\">EGFR</a><br>"
      ],
      "text/plain": [
       "<IPython.core.display.Markdown object>"
      ]
     },
     "metadata": {},
     "output_type": "display_data"
    },
    {
     "data": {
      "text/markdown": [
       "<a href=\"reports/MED17.html\">MED17</a><br>"
      ],
      "text/plain": [
       "<IPython.core.display.Markdown object>"
      ]
     },
     "metadata": {},
     "output_type": "display_data"
    },
    {
     "data": {
      "text/markdown": [
       "<a href=\"reports/DTX1.html\">DTX1</a><br>"
      ],
      "text/plain": [
       "<IPython.core.display.Markdown object>"
      ]
     },
     "metadata": {},
     "output_type": "display_data"
    },
    {
     "data": {
      "text/markdown": [
       "<a href=\"reports/DENND3.html\">DENND3</a><br>"
      ],
      "text/plain": [
       "<IPython.core.display.Markdown object>"
      ]
     },
     "metadata": {},
     "output_type": "display_data"
    },
    {
     "data": {
      "text/markdown": [
       "<a href=\"reports/BLOC1S6.html\">BLOC1S6</a><br>"
      ],
      "text/plain": [
       "<IPython.core.display.Markdown object>"
      ]
     },
     "metadata": {},
     "output_type": "display_data"
    },
    {
     "data": {
      "text/markdown": [
       "<a href=\"reports/INTS4.html\">INTS4</a><br>"
      ],
      "text/plain": [
       "<IPython.core.display.Markdown object>"
      ]
     },
     "metadata": {},
     "output_type": "display_data"
    },
    {
     "data": {
      "text/markdown": [
       "<a href=\"reports/ASPHD2.html\">ASPHD2</a><br>"
      ],
      "text/plain": [
       "<IPython.core.display.Markdown object>"
      ]
     },
     "metadata": {},
     "output_type": "display_data"
    },
    {
     "data": {
      "text/markdown": [
       "<a href=\"reports/CHRNA2.html\">CHRNA2</a><br>"
      ],
      "text/plain": [
       "<IPython.core.display.Markdown object>"
      ]
     },
     "metadata": {},
     "output_type": "display_data"
    },
    {
     "data": {
      "text/markdown": [
       "<a href=\"reports/SPATS1.html\">SPATS1</a><br>"
      ],
      "text/plain": [
       "<IPython.core.display.Markdown object>"
      ]
     },
     "metadata": {},
     "output_type": "display_data"
    },
    {
     "data": {
      "text/markdown": [
       "<a href=\"reports/GPAT4.html\">GPAT4</a><br>"
      ],
      "text/plain": [
       "<IPython.core.display.Markdown object>"
      ]
     },
     "metadata": {},
     "output_type": "display_data"
    },
    {
     "data": {
      "text/markdown": [
       "<a href=\"reports/GSTA1.html\">GSTA1</a><br>"
      ],
      "text/plain": [
       "<IPython.core.display.Markdown object>"
      ]
     },
     "metadata": {},
     "output_type": "display_data"
    },
    {
     "data": {
      "text/markdown": [
       "<a href=\"reports/UTF1.html\">UTF1</a><br>"
      ],
      "text/plain": [
       "<IPython.core.display.Markdown object>"
      ]
     },
     "metadata": {},
     "output_type": "display_data"
    },
    {
     "data": {
      "text/markdown": [
       "<a href=\"reports/CCNE2.html\">CCNE2</a><br>"
      ],
      "text/plain": [
       "<IPython.core.display.Markdown object>"
      ]
     },
     "metadata": {},
     "output_type": "display_data"
    },
    {
     "data": {
      "text/markdown": [
       "<a href=\"reports/IDH3B.html\">IDH3B</a><br>"
      ],
      "text/plain": [
       "<IPython.core.display.Markdown object>"
      ]
     },
     "metadata": {},
     "output_type": "display_data"
    },
    {
     "data": {
      "text/markdown": [
       "<a href=\"reports/RP1L1.html\">RP1L1</a><br>"
      ],
      "text/plain": [
       "<IPython.core.display.Markdown object>"
      ]
     },
     "metadata": {},
     "output_type": "display_data"
    },
    {
     "data": {
      "text/markdown": [
       "<a href=\"reports/ARPP19.html\">ARPP19</a><br>"
      ],
      "text/plain": [
       "<IPython.core.display.Markdown object>"
      ]
     },
     "metadata": {},
     "output_type": "display_data"
    },
    {
     "data": {
      "text/markdown": [
       "<a href=\"reports/IRX1.html\">IRX1</a><br>"
      ],
      "text/plain": [
       "<IPython.core.display.Markdown object>"
      ]
     },
     "metadata": {},
     "output_type": "display_data"
    },
    {
     "data": {
      "text/markdown": [
       "<a href=\"reports/TBC1D10C.html\">TBC1D10C</a><br>"
      ],
      "text/plain": [
       "<IPython.core.display.Markdown object>"
      ]
     },
     "metadata": {},
     "output_type": "display_data"
    },
    {
     "data": {
      "text/markdown": [
       "<a href=\"reports/PHF8.html\">PHF8</a><br>"
      ],
      "text/plain": [
       "<IPython.core.display.Markdown object>"
      ]
     },
     "metadata": {},
     "output_type": "display_data"
    },
    {
     "data": {
      "text/markdown": [
       "<a href=\"reports/SRD5A1.html\">SRD5A1</a><br>"
      ],
      "text/plain": [
       "<IPython.core.display.Markdown object>"
      ]
     },
     "metadata": {},
     "output_type": "display_data"
    },
    {
     "data": {
      "text/markdown": [
       "<a href=\"reports/CEACAM16.html\">CEACAM16</a><br>"
      ],
      "text/plain": [
       "<IPython.core.display.Markdown object>"
      ]
     },
     "metadata": {},
     "output_type": "display_data"
    },
    {
     "data": {
      "text/markdown": [
       "<a href=\"reports/WDR70.html\">WDR70</a><br>"
      ],
      "text/plain": [
       "<IPython.core.display.Markdown object>"
      ]
     },
     "metadata": {},
     "output_type": "display_data"
    },
    {
     "data": {
      "text/markdown": [
       "<a href=\"reports/MYO10.html\">MYO10</a><br>"
      ],
      "text/plain": [
       "<IPython.core.display.Markdown object>"
      ]
     },
     "metadata": {},
     "output_type": "display_data"
    },
    {
     "data": {
      "text/markdown": [
       "<a href=\"reports/DRICH1.html\">DRICH1</a><br>"
      ],
      "text/plain": [
       "<IPython.core.display.Markdown object>"
      ]
     },
     "metadata": {},
     "output_type": "display_data"
    },
    {
     "data": {
      "text/markdown": [
       "<a href=\"reports/ATP6V1B2.html\">ATP6V1B2</a><br>"
      ],
      "text/plain": [
       "<IPython.core.display.Markdown object>"
      ]
     },
     "metadata": {},
     "output_type": "display_data"
    },
    {
     "data": {
      "text/markdown": [
       "<a href=\"reports/CRIP3.html\">CRIP3</a><br>"
      ],
      "text/plain": [
       "<IPython.core.display.Markdown object>"
      ]
     },
     "metadata": {},
     "output_type": "display_data"
    },
    {
     "data": {
      "text/markdown": [
       "<a href=\"reports/RHBDF2.html\">RHBDF2</a><br>"
      ],
      "text/plain": [
       "<IPython.core.display.Markdown object>"
      ]
     },
     "metadata": {},
     "output_type": "display_data"
    },
    {
     "data": {
      "text/markdown": [
       "<a href=\"reports/ANGPTL5.html\">ANGPTL5</a><br>"
      ],
      "text/plain": [
       "<IPython.core.display.Markdown object>"
      ]
     },
     "metadata": {},
     "output_type": "display_data"
    },
    {
     "data": {
      "text/markdown": [
       "<a href=\"reports/EXOC3.html\">EXOC3</a><br>"
      ],
      "text/plain": [
       "<IPython.core.display.Markdown object>"
      ]
     },
     "metadata": {},
     "output_type": "display_data"
    },
    {
     "data": {
      "text/markdown": [
       "<a href=\"reports/PARP10.html\">PARP10</a><br>"
      ],
      "text/plain": [
       "<IPython.core.display.Markdown object>"
      ]
     },
     "metadata": {},
     "output_type": "display_data"
    },
    {
     "data": {
      "text/markdown": [
       "<a href=\"reports/ANO1.html\">ANO1</a><br>"
      ],
      "text/plain": [
       "<IPython.core.display.Markdown object>"
      ]
     },
     "metadata": {},
     "output_type": "display_data"
    },
    {
     "data": {
      "text/markdown": [
       "<a href=\"reports/SH3BGR.html\">SH3BGR</a><br>"
      ],
      "text/plain": [
       "<IPython.core.display.Markdown object>"
      ]
     },
     "metadata": {},
     "output_type": "display_data"
    },
    {
     "data": {
      "text/markdown": [
       "<a href=\"reports/SAT2.html\">SAT2</a><br>"
      ],
      "text/plain": [
       "<IPython.core.display.Markdown object>"
      ]
     },
     "metadata": {},
     "output_type": "display_data"
    },
    {
     "data": {
      "text/markdown": [
       "<a href=\"reports/PPFIA1.html\">PPFIA1</a><br>"
      ],
      "text/plain": [
       "<IPython.core.display.Markdown object>"
      ]
     },
     "metadata": {},
     "output_type": "display_data"
    },
    {
     "data": {
      "text/markdown": [
       "<a href=\"reports/POLR2K.html\">POLR2K</a><br>"
      ],
      "text/plain": [
       "<IPython.core.display.Markdown object>"
      ]
     },
     "metadata": {},
     "output_type": "display_data"
    },
    {
     "data": {
      "text/markdown": [
       "<a href=\"reports/SUB1.html\">SUB1</a><br>"
      ],
      "text/plain": [
       "<IPython.core.display.Markdown object>"
      ]
     },
     "metadata": {},
     "output_type": "display_data"
    },
    {
     "data": {
      "text/markdown": [
       "<a href=\"reports/SPG11.html\">SPG11</a><br>"
      ],
      "text/plain": [
       "<IPython.core.display.Markdown object>"
      ]
     },
     "metadata": {},
     "output_type": "display_data"
    },
    {
     "data": {
      "text/markdown": [
       "<a href=\"reports/MDC1.html\">MDC1</a><br>"
      ],
      "text/plain": [
       "<IPython.core.display.Markdown object>"
      ]
     },
     "metadata": {},
     "output_type": "display_data"
    },
    {
     "data": {
      "text/markdown": [
       "<a href=\"reports/P2RY6.html\">P2RY6</a><br>"
      ],
      "text/plain": [
       "<IPython.core.display.Markdown object>"
      ]
     },
     "metadata": {},
     "output_type": "display_data"
    },
    {
     "data": {
      "text/markdown": [
       "<a href=\"reports/SPINT1.html\">SPINT1</a><br>"
      ],
      "text/plain": [
       "<IPython.core.display.Markdown object>"
      ]
     },
     "metadata": {},
     "output_type": "display_data"
    },
    {
     "data": {
      "text/markdown": [
       "<a href=\"reports/RMDN1.html\">RMDN1</a><br>"
      ],
      "text/plain": [
       "<IPython.core.display.Markdown object>"
      ]
     },
     "metadata": {},
     "output_type": "display_data"
    },
    {
     "data": {
      "text/markdown": [
       "<a href=\"reports/TRPM7.html\">TRPM7</a><br>"
      ],
      "text/plain": [
       "<IPython.core.display.Markdown object>"
      ]
     },
     "metadata": {},
     "output_type": "display_data"
    },
    {
     "data": {
      "text/markdown": [
       "<a href=\"reports/LY6K.html\">LY6K</a><br>"
      ],
      "text/plain": [
       "<IPython.core.display.Markdown object>"
      ]
     },
     "metadata": {},
     "output_type": "display_data"
    },
    {
     "data": {
      "text/markdown": [
       "<a href=\"reports/OR4F21.html\">OR4F21</a><br>"
      ],
      "text/plain": [
       "<IPython.core.display.Markdown object>"
      ]
     },
     "metadata": {},
     "output_type": "display_data"
    },
    {
     "data": {
      "text/markdown": [
       "<a href=\"reports/MMP7.html\">MMP7</a><br>"
      ],
      "text/plain": [
       "<IPython.core.display.Markdown object>"
      ]
     },
     "metadata": {},
     "output_type": "display_data"
    },
    {
     "data": {
      "text/markdown": [
       "<a href=\"reports/FYB2.html\">FYB2</a><br>"
      ],
      "text/plain": [
       "<IPython.core.display.Markdown object>"
      ]
     },
     "metadata": {},
     "output_type": "display_data"
    },
    {
     "data": {
      "text/markdown": [
       "<a href=\"reports/CEP72.html\">CEP72</a><br>"
      ],
      "text/plain": [
       "<IPython.core.display.Markdown object>"
      ]
     },
     "metadata": {},
     "output_type": "display_data"
    },
    {
     "data": {
      "text/markdown": [
       "<a href=\"reports/TFEB.html\">TFEB</a><br>"
      ],
      "text/plain": [
       "<IPython.core.display.Markdown object>"
      ]
     },
     "metadata": {},
     "output_type": "display_data"
    },
    {
     "data": {
      "text/markdown": [
       "<a href=\"reports/TFAP2D.html\">TFAP2D</a><br>"
      ],
      "text/plain": [
       "<IPython.core.display.Markdown object>"
      ]
     },
     "metadata": {},
     "output_type": "display_data"
    },
    {
     "data": {
      "text/markdown": [
       "<a href=\"reports/AGO2.html\">AGO2</a><br>"
      ],
      "text/plain": [
       "<IPython.core.display.Markdown object>"
      ]
     },
     "metadata": {},
     "output_type": "display_data"
    },
    {
     "data": {
      "text/markdown": [
       "<a href=\"reports/PEX6.html\">PEX6</a><br>"
      ],
      "text/plain": [
       "<IPython.core.display.Markdown object>"
      ]
     },
     "metadata": {},
     "output_type": "display_data"
    },
    {
     "data": {
      "text/markdown": [
       "<a href=\"reports/UBE2V2.html\">UBE2V2</a><br>"
      ],
      "text/plain": [
       "<IPython.core.display.Markdown object>"
      ]
     },
     "metadata": {},
     "output_type": "display_data"
    },
    {
     "data": {
      "text/markdown": [
       "<a href=\"reports/HECTD1.html\">HECTD1</a><br>"
      ],
      "text/plain": [
       "<IPython.core.display.Markdown object>"
      ]
     },
     "metadata": {},
     "output_type": "display_data"
    },
    {
     "data": {
      "text/markdown": [
       "<a href=\"reports/AAMDC.html\">AAMDC</a><br>"
      ],
      "text/plain": [
       "<IPython.core.display.Markdown object>"
      ]
     },
     "metadata": {},
     "output_type": "display_data"
    },
    {
     "data": {
      "text/markdown": [
       "<a href=\"reports/POTEM.html\">POTEM</a><br>"
      ],
      "text/plain": [
       "<IPython.core.display.Markdown object>"
      ]
     },
     "metadata": {},
     "output_type": "display_data"
    },
    {
     "data": {
      "text/markdown": [
       "<a href=\"reports/SPTBN5.html\">SPTBN5</a><br>"
      ],
      "text/plain": [
       "<IPython.core.display.Markdown object>"
      ]
     },
     "metadata": {},
     "output_type": "display_data"
    },
    {
     "data": {
      "text/markdown": [
       "<a href=\"reports/USP50.html\">USP50</a><br>"
      ],
      "text/plain": [
       "<IPython.core.display.Markdown object>"
      ]
     },
     "metadata": {},
     "output_type": "display_data"
    },
    {
     "data": {
      "text/markdown": [
       "<a href=\"reports/NFKBIE.html\">NFKBIE</a><br>"
      ],
      "text/plain": [
       "<IPython.core.display.Markdown object>"
      ]
     },
     "metadata": {},
     "output_type": "display_data"
    },
    {
     "data": {
      "text/markdown": [
       "<a href=\"reports/ITPKA.html\">ITPKA</a><br>"
      ],
      "text/plain": [
       "<IPython.core.display.Markdown object>"
      ]
     },
     "metadata": {},
     "output_type": "display_data"
    },
    {
     "data": {
      "text/markdown": [
       "<a href=\"reports/NUPR2.html\">NUPR2</a><br>"
      ],
      "text/plain": [
       "<IPython.core.display.Markdown object>"
      ]
     },
     "metadata": {},
     "output_type": "display_data"
    },
    {
     "data": {
      "text/markdown": [
       "<a href=\"reports/CLCF1.html\">CLCF1</a><br>"
      ],
      "text/plain": [
       "<IPython.core.display.Markdown object>"
      ]
     },
     "metadata": {},
     "output_type": "display_data"
    },
    {
     "data": {
      "text/markdown": [
       "<a href=\"reports/TG.html\">TG</a><br>"
      ],
      "text/plain": [
       "<IPython.core.display.Markdown object>"
      ]
     },
     "metadata": {},
     "output_type": "display_data"
    },
    {
     "data": {
      "text/markdown": [
       "<a href=\"reports/PTP4A3.html\">PTP4A3</a><br>"
      ],
      "text/plain": [
       "<IPython.core.display.Markdown object>"
      ]
     },
     "metadata": {},
     "output_type": "display_data"
    },
    {
     "data": {
      "text/markdown": [
       "<a href=\"reports/GML.html\">GML</a><br>"
      ],
      "text/plain": [
       "<IPython.core.display.Markdown object>"
      ]
     },
     "metadata": {},
     "output_type": "display_data"
    },
    {
     "data": {
      "text/markdown": [
       "<a href=\"reports/ZC3H3.html\">ZC3H3</a><br>"
      ],
      "text/plain": [
       "<IPython.core.display.Markdown object>"
      ]
     },
     "metadata": {},
     "output_type": "display_data"
    },
    {
     "data": {
      "text/markdown": [
       "<a href=\"reports/COPS5.html\">COPS5</a><br>"
      ],
      "text/plain": [
       "<IPython.core.display.Markdown object>"
      ]
     },
     "metadata": {},
     "output_type": "display_data"
    },
    {
     "data": {
      "text/markdown": [
       "<a href=\"reports/SCRT1.html\">SCRT1</a><br>"
      ],
      "text/plain": [
       "<IPython.core.display.Markdown object>"
      ]
     },
     "metadata": {},
     "output_type": "display_data"
    },
    {
     "data": {
      "text/markdown": [
       "<a href=\"reports/ELP3.html\">ELP3</a><br>"
      ],
      "text/plain": [
       "<IPython.core.display.Markdown object>"
      ]
     },
     "metadata": {},
     "output_type": "display_data"
    },
    {
     "data": {
      "text/markdown": [
       "<a href=\"reports/MARCH6.html\">MARCH6</a><br>"
      ],
      "text/plain": [
       "<IPython.core.display.Markdown object>"
      ]
     },
     "metadata": {},
     "output_type": "display_data"
    },
    {
     "data": {
      "text/markdown": [
       "<a href=\"reports/LALBA.html\">LALBA</a><br>"
      ],
      "text/plain": [
       "<IPython.core.display.Markdown object>"
      ]
     },
     "metadata": {},
     "output_type": "display_data"
    },
    {
     "data": {
      "text/markdown": [
       "<a href=\"reports/VEGFA.html\">VEGFA</a><br>"
      ],
      "text/plain": [
       "<IPython.core.display.Markdown object>"
      ]
     },
     "metadata": {},
     "output_type": "display_data"
    },
    {
     "data": {
      "text/markdown": [
       "<a href=\"reports/COX15.html\">COX15</a><br>"
      ],
      "text/plain": [
       "<IPython.core.display.Markdown object>"
      ]
     },
     "metadata": {},
     "output_type": "display_data"
    },
    {
     "data": {
      "text/markdown": [
       "<a href=\"reports/GTPBP2.html\">GTPBP2</a><br>"
      ],
      "text/plain": [
       "<IPython.core.display.Markdown object>"
      ]
     },
     "metadata": {},
     "output_type": "display_data"
    },
    {
     "data": {
      "text/markdown": [
       "<a href=\"reports/SNRPD3.html\">SNRPD3</a><br>"
      ],
      "text/plain": [
       "<IPython.core.display.Markdown object>"
      ]
     },
     "metadata": {},
     "output_type": "display_data"
    },
    {
     "data": {
      "text/markdown": [
       "<a href=\"reports/AHRR.html\">AHRR</a><br>"
      ],
      "text/plain": [
       "<IPython.core.display.Markdown object>"
      ]
     },
     "metadata": {},
     "output_type": "display_data"
    },
    {
     "data": {
      "text/markdown": [
       "<a href=\"reports/PRPH2.html\">PRPH2</a><br>"
      ],
      "text/plain": [
       "<IPython.core.display.Markdown object>"
      ]
     },
     "metadata": {},
     "output_type": "display_data"
    },
    {
     "data": {
      "text/markdown": [
       "<a href=\"reports/CDH6.html\">CDH6</a><br>"
      ],
      "text/plain": [
       "<IPython.core.display.Markdown object>"
      ]
     },
     "metadata": {},
     "output_type": "display_data"
    },
    {
     "data": {
      "text/markdown": [
       "<a href=\"reports/NLE1.html\">NLE1</a><br>"
      ],
      "text/plain": [
       "<IPython.core.display.Markdown object>"
      ]
     },
     "metadata": {},
     "output_type": "display_data"
    },
    {
     "data": {
      "text/markdown": [
       "<a href=\"reports/PLA2G4D.html\">PLA2G4D</a><br>"
      ],
      "text/plain": [
       "<IPython.core.display.Markdown object>"
      ]
     },
     "metadata": {},
     "output_type": "display_data"
    },
    {
     "data": {
      "text/markdown": [
       "<a href=\"reports/IKBKB.html\">IKBKB</a><br>"
      ],
      "text/plain": [
       "<IPython.core.display.Markdown object>"
      ]
     },
     "metadata": {},
     "output_type": "display_data"
    },
    {
     "data": {
      "text/markdown": [
       "<a href=\"reports/HGFAC.html\">HGFAC</a><br>"
      ],
      "text/plain": [
       "<IPython.core.display.Markdown object>"
      ]
     },
     "metadata": {},
     "output_type": "display_data"
    },
    {
     "data": {
      "text/markdown": [
       "<a href=\"reports/APOE.html\">APOE</a><br>"
      ],
      "text/plain": [
       "<IPython.core.display.Markdown object>"
      ]
     },
     "metadata": {},
     "output_type": "display_data"
    },
    {
     "data": {
      "text/markdown": [
       "<a href=\"reports/ADCY8.html\">ADCY8</a><br>"
      ],
      "text/plain": [
       "<IPython.core.display.Markdown object>"
      ]
     },
     "metadata": {},
     "output_type": "display_data"
    },
    {
     "data": {
      "text/markdown": [
       "<a href=\"reports/TAF8.html\">TAF8</a><br>"
      ],
      "text/plain": [
       "<IPython.core.display.Markdown object>"
      ]
     },
     "metadata": {},
     "output_type": "display_data"
    },
    {
     "data": {
      "text/markdown": [
       "<a href=\"reports/BCAM.html\">BCAM</a><br>"
      ],
      "text/plain": [
       "<IPython.core.display.Markdown object>"
      ]
     },
     "metadata": {},
     "output_type": "display_data"
    },
    {
     "data": {
      "text/markdown": [
       "<a href=\"reports/RAB2A.html\">RAB2A</a><br>"
      ],
      "text/plain": [
       "<IPython.core.display.Markdown object>"
      ]
     },
     "metadata": {},
     "output_type": "display_data"
    },
    {
     "data": {
      "text/markdown": [
       "<a href=\"reports/ITPKB.html\">ITPKB</a><br>"
      ],
      "text/plain": [
       "<IPython.core.display.Markdown object>"
      ]
     },
     "metadata": {},
     "output_type": "display_data"
    },
    {
     "data": {
      "text/markdown": [
       "<a href=\"reports/VPS28.html\">VPS28</a><br>"
      ],
      "text/plain": [
       "<IPython.core.display.Markdown object>"
      ]
     },
     "metadata": {},
     "output_type": "display_data"
    },
    {
     "data": {
      "text/markdown": [
       "<a href=\"reports/TMEM70.html\">TMEM70</a><br>"
      ],
      "text/plain": [
       "<IPython.core.display.Markdown object>"
      ]
     },
     "metadata": {},
     "output_type": "display_data"
    },
    {
     "data": {
      "text/markdown": [
       "<a href=\"reports/SLC6A19.html\">SLC6A19</a><br>"
      ],
      "text/plain": [
       "<IPython.core.display.Markdown object>"
      ]
     },
     "metadata": {},
     "output_type": "display_data"
    },
    {
     "data": {
      "text/markdown": [
       "<a href=\"reports/MRPL2.html\">MRPL2</a><br>"
      ],
      "text/plain": [
       "<IPython.core.display.Markdown object>"
      ]
     },
     "metadata": {},
     "output_type": "display_data"
    },
    {
     "data": {
      "text/markdown": [
       "<a href=\"reports/ZFYVE16.html\">ZFYVE16</a><br>"
      ],
      "text/plain": [
       "<IPython.core.display.Markdown object>"
      ]
     },
     "metadata": {},
     "output_type": "display_data"
    },
    {
     "data": {
      "text/markdown": [
       "<a href=\"reports/MAP6.html\">MAP6</a><br>"
      ],
      "text/plain": [
       "<IPython.core.display.Markdown object>"
      ]
     },
     "metadata": {},
     "output_type": "display_data"
    },
    {
     "data": {
      "text/markdown": [
       "<a href=\"reports/LETM2.html\">LETM2</a><br>"
      ],
      "text/plain": [
       "<IPython.core.display.Markdown object>"
      ]
     },
     "metadata": {},
     "output_type": "display_data"
    },
    {
     "data": {
      "text/markdown": [
       "<a href=\"reports/PABPC1.html\">PABPC1</a><br>"
      ],
      "text/plain": [
       "<IPython.core.display.Markdown object>"
      ]
     },
     "metadata": {},
     "output_type": "display_data"
    },
    {
     "data": {
      "text/markdown": [
       "<a href=\"reports/ELOVL5.html\">ELOVL5</a><br>"
      ],
      "text/plain": [
       "<IPython.core.display.Markdown object>"
      ]
     },
     "metadata": {},
     "output_type": "display_data"
    },
    {
     "data": {
      "text/markdown": [
       "<a href=\"reports/TTC33.html\">TTC33</a><br>"
      ],
      "text/plain": [
       "<IPython.core.display.Markdown object>"
      ]
     },
     "metadata": {},
     "output_type": "display_data"
    },
    {
     "data": {
      "text/markdown": [
       "<a href=\"reports/IL17F.html\">IL17F</a><br>"
      ],
      "text/plain": [
       "<IPython.core.display.Markdown object>"
      ]
     },
     "metadata": {},
     "output_type": "display_data"
    },
    {
     "data": {
      "text/markdown": [
       "<a href=\"reports/PEBP4.html\">PEBP4</a><br>"
      ],
      "text/plain": [
       "<IPython.core.display.Markdown object>"
      ]
     },
     "metadata": {},
     "output_type": "display_data"
    },
    {
     "data": {
      "text/markdown": [
       "<a href=\"reports/XRRA1.html\">XRRA1</a><br>"
      ],
      "text/plain": [
       "<IPython.core.display.Markdown object>"
      ]
     },
     "metadata": {},
     "output_type": "display_data"
    },
    {
     "data": {
      "text/markdown": [
       "<a href=\"reports/UGT3A2.html\">UGT3A2</a><br>"
      ],
      "text/plain": [
       "<IPython.core.display.Markdown object>"
      ]
     },
     "metadata": {},
     "output_type": "display_data"
    },
    {
     "data": {
      "text/markdown": [
       "<a href=\"reports/CDKAL1.html\">CDKAL1</a><br>"
      ],
      "text/plain": [
       "<IPython.core.display.Markdown object>"
      ]
     },
     "metadata": {},
     "output_type": "display_data"
    },
    {
     "data": {
      "text/markdown": [
       "<a href=\"reports/TMEM87A.html\">TMEM87A</a><br>"
      ],
      "text/plain": [
       "<IPython.core.display.Markdown object>"
      ]
     },
     "metadata": {},
     "output_type": "display_data"
    },
    {
     "data": {
      "text/markdown": [
       "<a href=\"reports/COA4.html\">COA4</a><br>"
      ],
      "text/plain": [
       "<IPython.core.display.Markdown object>"
      ]
     },
     "metadata": {},
     "output_type": "display_data"
    },
    {
     "data": {
      "text/markdown": [
       "<a href=\"reports/ALG8.html\">ALG8</a><br>"
      ],
      "text/plain": [
       "<IPython.core.display.Markdown object>"
      ]
     },
     "metadata": {},
     "output_type": "display_data"
    },
    {
     "data": {
      "text/markdown": [
       "<a href=\"reports/MCM4.html\">MCM4</a><br>"
      ],
      "text/plain": [
       "<IPython.core.display.Markdown object>"
      ]
     },
     "metadata": {},
     "output_type": "display_data"
    },
    {
     "data": {
      "text/markdown": [
       "<a href=\"reports/TENM4.html\">TENM4</a><br>"
      ],
      "text/plain": [
       "<IPython.core.display.Markdown object>"
      ]
     },
     "metadata": {},
     "output_type": "display_data"
    },
    {
     "data": {
      "text/markdown": [
       "<a href=\"reports/SMIM19.html\">SMIM19</a><br>"
      ],
      "text/plain": [
       "<IPython.core.display.Markdown object>"
      ]
     },
     "metadata": {},
     "output_type": "display_data"
    },
    {
     "data": {
      "text/markdown": [
       "<a href=\"reports/TUBB.html\">TUBB</a><br>"
      ],
      "text/plain": [
       "<IPython.core.display.Markdown object>"
      ]
     },
     "metadata": {},
     "output_type": "display_data"
    },
    {
     "data": {
      "text/markdown": [
       "<a href=\"reports/MED10.html\">MED10</a><br>"
      ],
      "text/plain": [
       "<IPython.core.display.Markdown object>"
      ]
     },
     "metadata": {},
     "output_type": "display_data"
    },
    {
     "data": {
      "text/markdown": [
       "<a href=\"reports/EFR3A.html\">EFR3A</a><br>"
      ],
      "text/plain": [
       "<IPython.core.display.Markdown object>"
      ]
     },
     "metadata": {},
     "output_type": "display_data"
    },
    {
     "data": {
      "text/markdown": [
       "<a href=\"reports/AIP.html\">AIP</a><br>"
      ],
      "text/plain": [
       "<IPython.core.display.Markdown object>"
      ]
     },
     "metadata": {},
     "output_type": "display_data"
    },
    {
     "data": {
      "text/markdown": [
       "<a href=\"reports/MAK16.html\">MAK16</a><br>"
      ],
      "text/plain": [
       "<IPython.core.display.Markdown object>"
      ]
     },
     "metadata": {},
     "output_type": "display_data"
    },
    {
     "data": {
      "text/markdown": [
       "<a href=\"reports/HSF1.html\">HSF1</a><br>"
      ],
      "text/plain": [
       "<IPython.core.display.Markdown object>"
      ]
     },
     "metadata": {},
     "output_type": "display_data"
    },
    {
     "data": {
      "text/markdown": [
       "<a href=\"reports/PPP6R3.html\">PPP6R3</a><br>"
      ],
      "text/plain": [
       "<IPython.core.display.Markdown object>"
      ]
     },
     "metadata": {},
     "output_type": "display_data"
    },
    {
     "data": {
      "text/markdown": [
       "<a href=\"reports/KRTAP5-9.html\">KRTAP5-9</a><br>"
      ],
      "text/plain": [
       "<IPython.core.display.Markdown object>"
      ]
     },
     "metadata": {},
     "output_type": "display_data"
    },
    {
     "data": {
      "text/markdown": [
       "<a href=\"reports/TSKU.html\">TSKU</a><br>"
      ],
      "text/plain": [
       "<IPython.core.display.Markdown object>"
      ]
     },
     "metadata": {},
     "output_type": "display_data"
    },
    {
     "data": {
      "text/markdown": [
       "<a href=\"reports/AMFR.html\">AMFR</a><br>"
      ],
      "text/plain": [
       "<IPython.core.display.Markdown object>"
      ]
     },
     "metadata": {},
     "output_type": "display_data"
    },
    {
     "data": {
      "text/markdown": [
       "<a href=\"reports/CASP1.html\">CASP1</a><br>"
      ],
      "text/plain": [
       "<IPython.core.display.Markdown object>"
      ]
     },
     "metadata": {},
     "output_type": "display_data"
    },
    {
     "data": {
      "text/markdown": [
       "<a href=\"reports/FAM86B2.html\">FAM86B2</a><br>"
      ],
      "text/plain": [
       "<IPython.core.display.Markdown object>"
      ]
     },
     "metadata": {},
     "output_type": "display_data"
    },
    {
     "data": {
      "text/markdown": [
       "<a href=\"reports/MROH6.html\">MROH6</a><br>"
      ],
      "text/plain": [
       "<IPython.core.display.Markdown object>"
      ]
     },
     "metadata": {},
     "output_type": "display_data"
    },
    {
     "data": {
      "text/markdown": [
       "<a href=\"reports/CRYBA4.html\">CRYBA4</a><br>"
      ],
      "text/plain": [
       "<IPython.core.display.Markdown object>"
      ]
     },
     "metadata": {},
     "output_type": "display_data"
    },
    {
     "data": {
      "text/markdown": [
       "<a href=\"reports/RIDA.html\">RIDA</a><br>"
      ],
      "text/plain": [
       "<IPython.core.display.Markdown object>"
      ]
     },
     "metadata": {},
     "output_type": "display_data"
    },
    {
     "data": {
      "text/markdown": [
       "<a href=\"reports/DLL4.html\">DLL4</a><br>"
      ],
      "text/plain": [
       "<IPython.core.display.Markdown object>"
      ]
     },
     "metadata": {},
     "output_type": "display_data"
    },
    {
     "data": {
      "text/markdown": [
       "<a href=\"reports/FBXL6.html\">FBXL6</a><br>"
      ],
      "text/plain": [
       "<IPython.core.display.Markdown object>"
      ]
     },
     "metadata": {},
     "output_type": "display_data"
    },
    {
     "data": {
      "text/markdown": [
       "<a href=\"reports/PFKFB1.html\">PFKFB1</a><br>"
      ],
      "text/plain": [
       "<IPython.core.display.Markdown object>"
      ]
     },
     "metadata": {},
     "output_type": "display_data"
    },
    {
     "data": {
      "text/markdown": [
       "<a href=\"reports/HLA-E.html\">HLA-E</a><br>"
      ],
      "text/plain": [
       "<IPython.core.display.Markdown object>"
      ]
     },
     "metadata": {},
     "output_type": "display_data"
    },
    {
     "data": {
      "text/markdown": [
       "<a href=\"reports/VIRMA.html\">VIRMA</a><br>"
      ],
      "text/plain": [
       "<IPython.core.display.Markdown object>"
      ]
     },
     "metadata": {},
     "output_type": "display_data"
    },
    {
     "data": {
      "text/markdown": [
       "<a href=\"reports/TACC2.html\">TACC2</a><br>"
      ],
      "text/plain": [
       "<IPython.core.display.Markdown object>"
      ]
     },
     "metadata": {},
     "output_type": "display_data"
    },
    {
     "data": {
      "text/markdown": [
       "<a href=\"reports/TCTE1.html\">TCTE1</a><br>"
      ],
      "text/plain": [
       "<IPython.core.display.Markdown object>"
      ]
     },
     "metadata": {},
     "output_type": "display_data"
    },
    {
     "data": {
      "text/markdown": [
       "<a href=\"reports/IGHMBP2.html\">IGHMBP2</a><br>"
      ],
      "text/plain": [
       "<IPython.core.display.Markdown object>"
      ]
     },
     "metadata": {},
     "output_type": "display_data"
    },
    {
     "data": {
      "text/markdown": [
       "<a href=\"reports/CASC4.html\">CASC4</a><br>"
      ],
      "text/plain": [
       "<IPython.core.display.Markdown object>"
      ]
     },
     "metadata": {},
     "output_type": "display_data"
    },
    {
     "data": {
      "text/markdown": [
       "<a href=\"reports/GCM1.html\">GCM1</a><br>"
      ],
      "text/plain": [
       "<IPython.core.display.Markdown object>"
      ]
     },
     "metadata": {},
     "output_type": "display_data"
    },
    {
     "data": {
      "text/markdown": [
       "<a href=\"reports/ZNF696.html\">ZNF696</a><br>"
      ],
      "text/plain": [
       "<IPython.core.display.Markdown object>"
      ]
     },
     "metadata": {},
     "output_type": "display_data"
    },
    {
     "data": {
      "text/markdown": [
       "<a href=\"reports/PSPH.html\">PSPH</a><br>"
      ],
      "text/plain": [
       "<IPython.core.display.Markdown object>"
      ]
     },
     "metadata": {},
     "output_type": "display_data"
    },
    {
     "data": {
      "text/markdown": [
       "<a href=\"reports/DOK7.html\">DOK7</a><br>"
      ],
      "text/plain": [
       "<IPython.core.display.Markdown object>"
      ]
     },
     "metadata": {},
     "output_type": "display_data"
    },
    {
     "data": {
      "text/markdown": [
       "<a href=\"reports/CCDC88B.html\">CCDC88B</a><br>"
      ],
      "text/plain": [
       "<IPython.core.display.Markdown object>"
      ]
     },
     "metadata": {},
     "output_type": "display_data"
    },
    {
     "data": {
      "text/markdown": [
       "<a href=\"reports/TJAP1.html\">TJAP1</a><br>"
      ],
      "text/plain": [
       "<IPython.core.display.Markdown object>"
      ]
     },
     "metadata": {},
     "output_type": "display_data"
    },
    {
     "data": {
      "text/markdown": [
       "<a href=\"reports/DLG2.html\">DLG2</a><br>"
      ],
      "text/plain": [
       "<IPython.core.display.Markdown object>"
      ]
     },
     "metadata": {},
     "output_type": "display_data"
    },
    {
     "data": {
      "text/markdown": [
       "<a href=\"reports/RCAN2.html\">RCAN2</a><br>"
      ],
      "text/plain": [
       "<IPython.core.display.Markdown object>"
      ]
     },
     "metadata": {},
     "output_type": "display_data"
    },
    {
     "data": {
      "text/markdown": [
       "<a href=\"reports/MAP1A.html\">MAP1A</a><br>"
      ],
      "text/plain": [
       "<IPython.core.display.Markdown object>"
      ]
     },
     "metadata": {},
     "output_type": "display_data"
    },
    {
     "data": {
      "text/markdown": [
       "<a href=\"reports/MRPL36.html\">MRPL36</a><br>"
      ],
      "text/plain": [
       "<IPython.core.display.Markdown object>"
      ]
     },
     "metadata": {},
     "output_type": "display_data"
    },
    {
     "data": {
      "text/markdown": [
       "<a href=\"reports/ALAS2.html\">ALAS2</a><br>"
      ],
      "text/plain": [
       "<IPython.core.display.Markdown object>"
      ]
     },
     "metadata": {},
     "output_type": "display_data"
    },
    {
     "data": {
      "text/markdown": [
       "<a href=\"reports/EIF3H.html\">EIF3H</a><br>"
      ],
      "text/plain": [
       "<IPython.core.display.Markdown object>"
      ]
     },
     "metadata": {},
     "output_type": "display_data"
    },
    {
     "data": {
      "text/markdown": [
       "<a href=\"reports/FAM86B1.html\">FAM86B1</a><br>"
      ],
      "text/plain": [
       "<IPython.core.display.Markdown object>"
      ]
     },
     "metadata": {},
     "output_type": "display_data"
    },
    {
     "data": {
      "text/markdown": [
       "<a href=\"reports/SQLE.html\">SQLE</a><br>"
      ],
      "text/plain": [
       "<IPython.core.display.Markdown object>"
      ]
     },
     "metadata": {},
     "output_type": "display_data"
    },
    {
     "data": {
      "text/markdown": [
       "<a href=\"reports/PLA2G4F.html\">PLA2G4F</a><br>"
      ],
      "text/plain": [
       "<IPython.core.display.Markdown object>"
      ]
     },
     "metadata": {},
     "output_type": "display_data"
    },
    {
     "data": {
      "text/markdown": [
       "<a href=\"reports/FAM110B.html\">FAM110B</a><br>"
      ],
      "text/plain": [
       "<IPython.core.display.Markdown object>"
      ]
     },
     "metadata": {},
     "output_type": "display_data"
    },
    {
     "data": {
      "text/markdown": [
       "<a href=\"reports/FOXD3.html\">FOXD3</a><br>"
      ],
      "text/plain": [
       "<IPython.core.display.Markdown object>"
      ]
     },
     "metadata": {},
     "output_type": "display_data"
    },
    {
     "data": {
      "text/markdown": [
       "<a href=\"reports/CMBL.html\">CMBL</a><br>"
      ],
      "text/plain": [
       "<IPython.core.display.Markdown object>"
      ]
     },
     "metadata": {},
     "output_type": "display_data"
    },
    {
     "data": {
      "text/markdown": [
       "<a href=\"reports/CDK2AP2.html\">CDK2AP2</a><br>"
      ],
      "text/plain": [
       "<IPython.core.display.Markdown object>"
      ]
     },
     "metadata": {},
     "output_type": "display_data"
    },
    {
     "data": {
      "text/markdown": [
       "<a href=\"reports/SULF1.html\">SULF1</a><br>"
      ],
      "text/plain": [
       "<IPython.core.display.Markdown object>"
      ]
     },
     "metadata": {},
     "output_type": "display_data"
    },
    {
     "data": {
      "text/markdown": [
       "<a href=\"reports/SHARPIN.html\">SHARPIN</a><br>"
      ],
      "text/plain": [
       "<IPython.core.display.Markdown object>"
      ]
     },
     "metadata": {},
     "output_type": "display_data"
    },
    {
     "data": {
      "text/markdown": [
       "<a href=\"reports/PTDSS1.html\">PTDSS1</a><br>"
      ],
      "text/plain": [
       "<IPython.core.display.Markdown object>"
      ]
     },
     "metadata": {},
     "output_type": "display_data"
    },
    {
     "data": {
      "text/markdown": [
       "<a href=\"reports/FAM83H.html\">FAM83H</a><br>"
      ],
      "text/plain": [
       "<IPython.core.display.Markdown object>"
      ]
     },
     "metadata": {},
     "output_type": "display_data"
    },
    {
     "data": {
      "text/markdown": [
       "<a href=\"reports/NPR3.html\">NPR3</a><br>"
      ],
      "text/plain": [
       "<IPython.core.display.Markdown object>"
      ]
     },
     "metadata": {},
     "output_type": "display_data"
    },
    {
     "data": {
      "text/markdown": [
       "<a href=\"reports/CABIN1.html\">CABIN1</a><br>"
      ],
      "text/plain": [
       "<IPython.core.display.Markdown object>"
      ]
     },
     "metadata": {},
     "output_type": "display_data"
    },
    {
     "data": {
      "text/markdown": [
       "<a href=\"reports/CTDSPL2.html\">CTDSPL2</a><br>"
      ],
      "text/plain": [
       "<IPython.core.display.Markdown object>"
      ]
     },
     "metadata": {},
     "output_type": "display_data"
    },
    {
     "data": {
      "text/markdown": [
       "<a href=\"reports/ESF1.html\">ESF1</a><br>"
      ],
      "text/plain": [
       "<IPython.core.display.Markdown object>"
      ]
     },
     "metadata": {},
     "output_type": "display_data"
    },
    {
     "data": {
      "text/markdown": [
       "<a href=\"reports/IMPA1.html\">IMPA1</a><br>"
      ],
      "text/plain": [
       "<IPython.core.display.Markdown object>"
      ]
     },
     "metadata": {},
     "output_type": "display_data"
    },
    {
     "data": {
      "text/markdown": [
       "<a href=\"reports/CFAP300.html\">CFAP300</a><br>"
      ],
      "text/plain": [
       "<IPython.core.display.Markdown object>"
      ]
     },
     "metadata": {},
     "output_type": "display_data"
    },
    {
     "data": {
      "text/markdown": [
       "<a href=\"reports/TPST2.html\">TPST2</a><br>"
      ],
      "text/plain": [
       "<IPython.core.display.Markdown object>"
      ]
     },
     "metadata": {},
     "output_type": "display_data"
    },
    {
     "data": {
      "text/markdown": [
       "<a href=\"reports/CPLANE1.html\">CPLANE1</a><br>"
      ],
      "text/plain": [
       "<IPython.core.display.Markdown object>"
      ]
     },
     "metadata": {},
     "output_type": "display_data"
    },
    {
     "data": {
      "text/markdown": [
       "<a href=\"reports/CCAR2.html\">CCAR2</a><br>"
      ],
      "text/plain": [
       "<IPython.core.display.Markdown object>"
      ]
     },
     "metadata": {},
     "output_type": "display_data"
    },
    {
     "data": {
      "text/markdown": [
       "<a href=\"reports/HSP90AB1.html\">HSP90AB1</a><br>"
      ],
      "text/plain": [
       "<IPython.core.display.Markdown object>"
      ]
     },
     "metadata": {},
     "output_type": "display_data"
    },
    {
     "data": {
      "text/markdown": [
       "<a href=\"reports/CDC5L.html\">CDC5L</a><br>"
      ],
      "text/plain": [
       "<IPython.core.display.Markdown object>"
      ]
     },
     "metadata": {},
     "output_type": "display_data"
    },
    {
     "data": {
      "text/markdown": [
       "<a href=\"reports/EMC2.html\">EMC2</a><br>"
      ],
      "text/plain": [
       "<IPython.core.display.Markdown object>"
      ]
     },
     "metadata": {},
     "output_type": "display_data"
    },
    {
     "data": {
      "text/markdown": [
       "<a href=\"reports/DEFB4A.html\">DEFB4A</a><br>"
      ],
      "text/plain": [
       "<IPython.core.display.Markdown object>"
      ]
     },
     "metadata": {},
     "output_type": "display_data"
    },
    {
     "data": {
      "text/markdown": [
       "<a href=\"reports/SELENOP.html\">SELENOP</a><br>"
      ],
      "text/plain": [
       "<IPython.core.display.Markdown object>"
      ]
     },
     "metadata": {},
     "output_type": "display_data"
    },
    {
     "data": {
      "text/markdown": [
       "<a href=\"reports/C8orf33.html\">C8orf33</a><br>"
      ],
      "text/plain": [
       "<IPython.core.display.Markdown object>"
      ]
     },
     "metadata": {},
     "output_type": "display_data"
    },
    {
     "data": {
      "text/markdown": [
       "<a href=\"reports/TMOD2.html\">TMOD2</a><br>"
      ],
      "text/plain": [
       "<IPython.core.display.Markdown object>"
      ]
     },
     "metadata": {},
     "output_type": "display_data"
    },
    {
     "data": {
      "text/markdown": [
       "<a href=\"reports/NKX6-3.html\">NKX6-3</a><br>"
      ],
      "text/plain": [
       "<IPython.core.display.Markdown object>"
      ]
     },
     "metadata": {},
     "output_type": "display_data"
    },
    {
     "data": {
      "text/markdown": [
       "<a href=\"reports/CCND1.html\">CCND1</a><br>"
      ],
      "text/plain": [
       "<IPython.core.display.Markdown object>"
      ]
     },
     "metadata": {},
     "output_type": "display_data"
    },
    {
     "data": {
      "text/markdown": [
       "<a href=\"reports/CREBZF.html\">CREBZF</a><br>"
      ],
      "text/plain": [
       "<IPython.core.display.Markdown object>"
      ]
     },
     "metadata": {},
     "output_type": "display_data"
    },
    {
     "data": {
      "text/markdown": [
       "<a href=\"reports/CDS2.html\">CDS2</a><br>"
      ],
      "text/plain": [
       "<IPython.core.display.Markdown object>"
      ]
     },
     "metadata": {},
     "output_type": "display_data"
    },
    {
     "data": {
      "text/markdown": [
       "<a href=\"reports/VPS18.html\">VPS18</a><br>"
      ],
      "text/plain": [
       "<IPython.core.display.Markdown object>"
      ]
     },
     "metadata": {},
     "output_type": "display_data"
    },
    {
     "data": {
      "text/markdown": [
       "<a href=\"reports/JRKL.html\">JRKL</a><br>"
      ],
      "text/plain": [
       "<IPython.core.display.Markdown object>"
      ]
     },
     "metadata": {},
     "output_type": "display_data"
    },
    {
     "data": {
      "text/markdown": [
       "<a href=\"reports/TOMM6.html\">TOMM6</a><br>"
      ],
      "text/plain": [
       "<IPython.core.display.Markdown object>"
      ]
     },
     "metadata": {},
     "output_type": "display_data"
    },
    {
     "data": {
      "text/markdown": [
       "<a href=\"reports/SERINC4.html\">SERINC4</a><br>"
      ],
      "text/plain": [
       "<IPython.core.display.Markdown object>"
      ]
     },
     "metadata": {},
     "output_type": "display_data"
    },
    {
     "data": {
      "text/markdown": [
       "<a href=\"reports/CATSPER2.html\">CATSPER2</a><br>"
      ],
      "text/plain": [
       "<IPython.core.display.Markdown object>"
      ]
     },
     "metadata": {},
     "output_type": "display_data"
    },
    {
     "data": {
      "text/markdown": [
       "<a href=\"reports/RBIS.html\">RBIS</a><br>"
      ],
      "text/plain": [
       "<IPython.core.display.Markdown object>"
      ]
     },
     "metadata": {},
     "output_type": "display_data"
    },
    {
     "data": {
      "text/markdown": [
       "<a href=\"reports/FUS.html\">FUS</a><br>"
      ],
      "text/plain": [
       "<IPython.core.display.Markdown object>"
      ]
     },
     "metadata": {},
     "output_type": "display_data"
    },
    {
     "data": {
      "text/markdown": [
       "<a href=\"reports/UTP23.html\">UTP23</a><br>"
      ],
      "text/plain": [
       "<IPython.core.display.Markdown object>"
      ]
     },
     "metadata": {},
     "output_type": "display_data"
    },
    {
     "data": {
      "text/markdown": [
       "<a href=\"reports/RAD1.html\">RAD1</a><br>"
      ],
      "text/plain": [
       "<IPython.core.display.Markdown object>"
      ]
     },
     "metadata": {},
     "output_type": "display_data"
    },
    {
     "data": {
      "text/markdown": [
       "<a href=\"reports/PRLR.html\">PRLR</a><br>"
      ],
      "text/plain": [
       "<IPython.core.display.Markdown object>"
      ]
     },
     "metadata": {},
     "output_type": "display_data"
    },
    {
     "data": {
      "text/markdown": [
       "<a href=\"reports/THEM6.html\">THEM6</a><br>"
      ],
      "text/plain": [
       "<IPython.core.display.Markdown object>"
      ]
     },
     "metadata": {},
     "output_type": "display_data"
    },
    {
     "data": {
      "text/markdown": [
       "<a href=\"reports/RSPH9.html\">RSPH9</a><br>"
      ],
      "text/plain": [
       "<IPython.core.display.Markdown object>"
      ]
     },
     "metadata": {},
     "output_type": "display_data"
    },
    {
     "data": {
      "text/markdown": [
       "<a href=\"reports/CARD16.html\">CARD16</a><br>"
      ],
      "text/plain": [
       "<IPython.core.display.Markdown object>"
      ]
     },
     "metadata": {},
     "output_type": "display_data"
    },
    {
     "data": {
      "text/markdown": [
       "<a href=\"reports/FAM135B.html\">FAM135B</a><br>"
      ],
      "text/plain": [
       "<IPython.core.display.Markdown object>"
      ]
     },
     "metadata": {},
     "output_type": "display_data"
    },
    {
     "data": {
      "text/markdown": [
       "<a href=\"reports/OR52I2.html\">OR52I2</a><br>"
      ],
      "text/plain": [
       "<IPython.core.display.Markdown object>"
      ]
     },
     "metadata": {},
     "output_type": "display_data"
    },
    {
     "data": {
      "text/markdown": [
       "<a href=\"reports/RPL7L1.html\">RPL7L1</a><br>"
      ],
      "text/plain": [
       "<IPython.core.display.Markdown object>"
      ]
     },
     "metadata": {},
     "output_type": "display_data"
    },
    {
     "data": {
      "text/markdown": [
       "<a href=\"reports/DDR1.html\">DDR1</a><br>"
      ],
      "text/plain": [
       "<IPython.core.display.Markdown object>"
      ]
     },
     "metadata": {},
     "output_type": "display_data"
    },
    {
     "data": {
      "text/markdown": [
       "<a href=\"reports/ATAT1.html\">ATAT1</a><br>"
      ],
      "text/plain": [
       "<IPython.core.display.Markdown object>"
      ]
     },
     "metadata": {},
     "output_type": "display_data"
    },
    {
     "data": {
      "text/markdown": [
       "<a href=\"reports/RHOBTB2.html\">RHOBTB2</a><br>"
      ],
      "text/plain": [
       "<IPython.core.display.Markdown object>"
      ]
     },
     "metadata": {},
     "output_type": "display_data"
    },
    {
     "data": {
      "text/markdown": [
       "<a href=\"reports/WDR76.html\">WDR76</a><br>"
      ],
      "text/plain": [
       "<IPython.core.display.Markdown object>"
      ]
     },
     "metadata": {},
     "output_type": "display_data"
    },
    {
     "data": {
      "text/markdown": [
       "<a href=\"reports/AP3M2.html\">AP3M2</a><br>"
      ],
      "text/plain": [
       "<IPython.core.display.Markdown object>"
      ]
     },
     "metadata": {},
     "output_type": "display_data"
    },
    {
     "data": {
      "text/markdown": [
       "<a href=\"reports/FLOT1.html\">FLOT1</a><br>"
      ],
      "text/plain": [
       "<IPython.core.display.Markdown object>"
      ]
     },
     "metadata": {},
     "output_type": "display_data"
    },
    {
     "data": {
      "text/markdown": [
       "<a href=\"reports/EEF1D.html\">EEF1D</a><br>"
      ],
      "text/plain": [
       "<IPython.core.display.Markdown object>"
      ]
     },
     "metadata": {},
     "output_type": "display_data"
    },
    {
     "data": {
      "text/markdown": [
       "<a href=\"reports/EMC8.html\">EMC8</a><br>"
      ],
      "text/plain": [
       "<IPython.core.display.Markdown object>"
      ]
     },
     "metadata": {},
     "output_type": "display_data"
    },
    {
     "data": {
      "text/markdown": [
       "<a href=\"reports/C8orf37.html\">C8orf37</a><br>"
      ],
      "text/plain": [
       "<IPython.core.display.Markdown object>"
      ]
     },
     "metadata": {},
     "output_type": "display_data"
    },
    {
     "data": {
      "text/markdown": [
       "<a href=\"reports/FAM91A1.html\">FAM91A1</a><br>"
      ],
      "text/plain": [
       "<IPython.core.display.Markdown object>"
      ]
     },
     "metadata": {},
     "output_type": "display_data"
    },
    {
     "data": {
      "text/markdown": [
       "<a href=\"reports/RAD21.html\">RAD21</a><br>"
      ],
      "text/plain": [
       "<IPython.core.display.Markdown object>"
      ]
     },
     "metadata": {},
     "output_type": "display_data"
    },
    {
     "data": {
      "text/markdown": [
       "<a href=\"reports/AZIN1.html\">AZIN1</a><br>"
      ],
      "text/plain": [
       "<IPython.core.display.Markdown object>"
      ]
     },
     "metadata": {},
     "output_type": "display_data"
    },
    {
     "data": {
      "text/markdown": [
       "<a href=\"reports/CUL7.html\">CUL7</a><br>"
      ],
      "text/plain": [
       "<IPython.core.display.Markdown object>"
      ]
     },
     "metadata": {},
     "output_type": "display_data"
    },
    {
     "data": {
      "text/markdown": [
       "<a href=\"reports/GRB7.html\">GRB7</a><br>"
      ],
      "text/plain": [
       "<IPython.core.display.Markdown object>"
      ]
     },
     "metadata": {},
     "output_type": "display_data"
    },
    {
     "data": {
      "text/markdown": [
       "<a href=\"reports/TBC1D3B.html\">TBC1D3B</a><br>"
      ],
      "text/plain": [
       "<IPython.core.display.Markdown object>"
      ]
     },
     "metadata": {},
     "output_type": "display_data"
    },
    {
     "data": {
      "text/markdown": [
       "<a href=\"reports/STK3.html\">STK3</a><br>"
      ],
      "text/plain": [
       "<IPython.core.display.Markdown object>"
      ]
     },
     "metadata": {},
     "output_type": "display_data"
    },
    {
     "data": {
      "text/markdown": [
       "<a href=\"reports/TFAP2B.html\">TFAP2B</a><br>"
      ],
      "text/plain": [
       "<IPython.core.display.Markdown object>"
      ]
     },
     "metadata": {},
     "output_type": "display_data"
    },
    {
     "data": {
      "text/markdown": [
       "<a href=\"reports/MTSS1.html\">MTSS1</a><br>"
      ],
      "text/plain": [
       "<IPython.core.display.Markdown object>"
      ]
     },
     "metadata": {},
     "output_type": "display_data"
    },
    {
     "data": {
      "text/markdown": [
       "<a href=\"reports/SEPTIN14.html\">SEPTIN14</a><br>"
      ],
      "text/plain": [
       "<IPython.core.display.Markdown object>"
      ]
     },
     "metadata": {},
     "output_type": "display_data"
    },
    {
     "data": {
      "text/markdown": [
       "<a href=\"reports/TNKS.html\">TNKS</a><br>"
      ],
      "text/plain": [
       "<IPython.core.display.Markdown object>"
      ]
     },
     "metadata": {},
     "output_type": "display_data"
    },
    {
     "data": {
      "text/markdown": [
       "<a href=\"reports/MAF1.html\">MAF1</a><br>"
      ],
      "text/plain": [
       "<IPython.core.display.Markdown object>"
      ]
     },
     "metadata": {},
     "output_type": "display_data"
    },
    {
     "data": {
      "text/markdown": [
       "<a href=\"reports/GINS4.html\">GINS4</a><br>"
      ],
      "text/plain": [
       "<IPython.core.display.Markdown object>"
      ]
     },
     "metadata": {},
     "output_type": "display_data"
    },
    {
     "data": {
      "text/markdown": [
       "<a href=\"reports/FZD3.html\">FZD3</a><br>"
      ],
      "text/plain": [
       "<IPython.core.display.Markdown object>"
      ]
     },
     "metadata": {},
     "output_type": "display_data"
    },
    {
     "data": {
      "text/markdown": [
       "<a href=\"reports/NECTIN2.html\">NECTIN2</a><br>"
      ],
      "text/plain": [
       "<IPython.core.display.Markdown object>"
      ]
     },
     "metadata": {},
     "output_type": "display_data"
    },
    {
     "data": {
      "text/markdown": [
       "<a href=\"reports/PANX1.html\">PANX1</a><br>"
      ],
      "text/plain": [
       "<IPython.core.display.Markdown object>"
      ]
     },
     "metadata": {},
     "output_type": "display_data"
    },
    {
     "data": {
      "text/markdown": [
       "<a href=\"reports/VPS16.html\">VPS16</a><br>"
      ],
      "text/plain": [
       "<IPython.core.display.Markdown object>"
      ]
     },
     "metadata": {},
     "output_type": "display_data"
    },
    {
     "data": {
      "text/markdown": [
       "<a href=\"reports/NDUFB9.html\">NDUFB9</a><br>"
      ],
      "text/plain": [
       "<IPython.core.display.Markdown object>"
      ]
     },
     "metadata": {},
     "output_type": "display_data"
    },
    {
     "data": {
      "text/markdown": [
       "<a href=\"reports/ATP13A4.html\">ATP13A4</a><br>"
      ],
      "text/plain": [
       "<IPython.core.display.Markdown object>"
      ]
     },
     "metadata": {},
     "output_type": "display_data"
    },
    {
     "data": {
      "text/markdown": [
       "<a href=\"reports/TMEM230.html\">TMEM230</a><br>"
      ],
      "text/plain": [
       "<IPython.core.display.Markdown object>"
      ]
     },
     "metadata": {},
     "output_type": "display_data"
    },
    {
     "data": {
      "text/markdown": [
       "<a href=\"reports/EXOSC4.html\">EXOSC4</a><br>"
      ],
      "text/plain": [
       "<IPython.core.display.Markdown object>"
      ]
     },
     "metadata": {},
     "output_type": "display_data"
    },
    {
     "data": {
      "text/markdown": [
       "<a href=\"reports/ANKH.html\">ANKH</a><br>"
      ],
      "text/plain": [
       "<IPython.core.display.Markdown object>"
      ]
     },
     "metadata": {},
     "output_type": "display_data"
    },
    {
     "data": {
      "text/markdown": [
       "<a href=\"reports/RP1.html\">RP1</a><br>"
      ],
      "text/plain": [
       "<IPython.core.display.Markdown object>"
      ]
     },
     "metadata": {},
     "output_type": "display_data"
    },
    {
     "data": {
      "text/markdown": [
       "<a href=\"reports/DOK2.html\">DOK2</a><br>"
      ],
      "text/plain": [
       "<IPython.core.display.Markdown object>"
      ]
     },
     "metadata": {},
     "output_type": "display_data"
    },
    {
     "data": {
      "text/markdown": [
       "<a href=\"reports/PDLIM1.html\">PDLIM1</a><br>"
      ],
      "text/plain": [
       "<IPython.core.display.Markdown object>"
      ]
     },
     "metadata": {},
     "output_type": "display_data"
    },
    {
     "data": {
      "text/markdown": [
       "<a href=\"reports/BIRC2.html\">BIRC2</a><br>"
      ],
      "text/plain": [
       "<IPython.core.display.Markdown object>"
      ]
     },
     "metadata": {},
     "output_type": "display_data"
    },
    {
     "data": {
      "text/markdown": [
       "<a href=\"reports/MRPS30.html\">MRPS30</a><br>"
      ],
      "text/plain": [
       "<IPython.core.display.Markdown object>"
      ]
     },
     "metadata": {},
     "output_type": "display_data"
    },
    {
     "data": {
      "text/markdown": [
       "<a href=\"reports/SGCA.html\">SGCA</a><br>"
      ],
      "text/plain": [
       "<IPython.core.display.Markdown object>"
      ]
     },
     "metadata": {},
     "output_type": "display_data"
    },
    {
     "data": {
      "text/markdown": [
       "<a href=\"reports/LTK.html\">LTK</a><br>"
      ],
      "text/plain": [
       "<IPython.core.display.Markdown object>"
      ]
     },
     "metadata": {},
     "output_type": "display_data"
    },
    {
     "data": {
      "text/markdown": [
       "<a href=\"reports/GRK2.html\">GRK2</a><br>"
      ],
      "text/plain": [
       "<IPython.core.display.Markdown object>"
      ]
     },
     "metadata": {},
     "output_type": "display_data"
    },
    {
     "data": {
      "text/markdown": [
       "<a href=\"reports/GAB2.html\">GAB2</a><br>"
      ],
      "text/plain": [
       "<IPython.core.display.Markdown object>"
      ]
     },
     "metadata": {},
     "output_type": "display_data"
    },
    {
     "data": {
      "text/markdown": [
       "<a href=\"reports/MRGPRD.html\">MRGPRD</a><br>"
      ],
      "text/plain": [
       "<IPython.core.display.Markdown object>"
      ]
     },
     "metadata": {},
     "output_type": "display_data"
    },
    {
     "data": {
      "text/markdown": [
       "<a href=\"reports/CDH9.html\">CDH9</a><br>"
      ],
      "text/plain": [
       "<IPython.core.display.Markdown object>"
      ]
     },
     "metadata": {},
     "output_type": "display_data"
    },
    {
     "data": {
      "text/markdown": [
       "<a href=\"reports/PRCD.html\">PRCD</a><br>"
      ],
      "text/plain": [
       "<IPython.core.display.Markdown object>"
      ]
     },
     "metadata": {},
     "output_type": "display_data"
    },
    {
     "data": {
      "text/markdown": [
       "<a href=\"reports/ATG16L2.html\">ATG16L2</a><br>"
      ],
      "text/plain": [
       "<IPython.core.display.Markdown object>"
      ]
     },
     "metadata": {},
     "output_type": "display_data"
    },
    {
     "data": {
      "text/markdown": [
       "<a href=\"reports/BYSL.html\">BYSL</a><br>"
      ],
      "text/plain": [
       "<IPython.core.display.Markdown object>"
      ]
     },
     "metadata": {},
     "output_type": "display_data"
    },
    {
     "data": {
      "text/markdown": [
       "<a href=\"reports/SAMD12.html\">SAMD12</a><br>"
      ],
      "text/plain": [
       "<IPython.core.display.Markdown object>"
      ]
     },
     "metadata": {},
     "output_type": "display_data"
    },
    {
     "data": {
      "text/markdown": [
       "<a href=\"reports/KIAA0895.html\">KIAA0895</a><br>"
      ],
      "text/plain": [
       "<IPython.core.display.Markdown object>"
      ]
     },
     "metadata": {},
     "output_type": "display_data"
    },
    {
     "data": {
      "text/markdown": [
       "<a href=\"reports/PHOX2A.html\">PHOX2A</a><br>"
      ],
      "text/plain": [
       "<IPython.core.display.Markdown object>"
      ]
     },
     "metadata": {},
     "output_type": "display_data"
    },
    {
     "data": {
      "text/markdown": [
       "<a href=\"reports/ZNF70.html\">ZNF70</a><br>"
      ],
      "text/plain": [
       "<IPython.core.display.Markdown object>"
      ]
     },
     "metadata": {},
     "output_type": "display_data"
    },
    {
     "data": {
      "text/markdown": [
       "<a href=\"reports/ZNRF3.html\">ZNRF3</a><br>"
      ],
      "text/plain": [
       "<IPython.core.display.Markdown object>"
      ]
     },
     "metadata": {},
     "output_type": "display_data"
    },
    {
     "data": {
      "text/markdown": [
       "<a href=\"reports/MIEN1.html\">MIEN1</a><br>"
      ],
      "text/plain": [
       "<IPython.core.display.Markdown object>"
      ]
     },
     "metadata": {},
     "output_type": "display_data"
    },
    {
     "data": {
      "text/markdown": [
       "<a href=\"reports/NSMCE4A.html\">NSMCE4A</a><br>"
      ],
      "text/plain": [
       "<IPython.core.display.Markdown object>"
      ]
     },
     "metadata": {},
     "output_type": "display_data"
    },
    {
     "data": {
      "text/markdown": [
       "<a href=\"reports/INO80.html\">INO80</a><br>"
      ],
      "text/plain": [
       "<IPython.core.display.Markdown object>"
      ]
     },
     "metadata": {},
     "output_type": "display_data"
    },
    {
     "data": {
      "text/markdown": [
       "<a href=\"reports/KLHDC3.html\">KLHDC3</a><br>"
      ],
      "text/plain": [
       "<IPython.core.display.Markdown object>"
      ]
     },
     "metadata": {},
     "output_type": "display_data"
    },
    {
     "data": {
      "text/markdown": [
       "<a href=\"reports/GPAA1.html\">GPAA1</a><br>"
      ],
      "text/plain": [
       "<IPython.core.display.Markdown object>"
      ]
     },
     "metadata": {},
     "output_type": "display_data"
    },
    {
     "data": {
      "text/markdown": [
       "<a href=\"reports/TFIP11.html\">TFIP11</a><br>"
      ],
      "text/plain": [
       "<IPython.core.display.Markdown object>"
      ]
     },
     "metadata": {},
     "output_type": "display_data"
    },
    {
     "data": {
      "text/markdown": [
       "<a href=\"reports/SUMF2.html\">SUMF2</a><br>"
      ],
      "text/plain": [
       "<IPython.core.display.Markdown object>"
      ]
     },
     "metadata": {},
     "output_type": "display_data"
    },
    {
     "data": {
      "text/markdown": [
       "<a href=\"reports/GLDN.html\">GLDN</a><br>"
      ],
      "text/plain": [
       "<IPython.core.display.Markdown object>"
      ]
     },
     "metadata": {},
     "output_type": "display_data"
    },
    {
     "data": {
      "text/markdown": [
       "<a href=\"reports/LMBRD2.html\">LMBRD2</a><br>"
      ],
      "text/plain": [
       "<IPython.core.display.Markdown object>"
      ]
     },
     "metadata": {},
     "output_type": "display_data"
    },
    {
     "data": {
      "text/markdown": [
       "<a href=\"reports/RAD9A.html\">RAD9A</a><br>"
      ],
      "text/plain": [
       "<IPython.core.display.Markdown object>"
      ]
     },
     "metadata": {},
     "output_type": "display_data"
    },
    {
     "data": {
      "text/markdown": [
       "<a href=\"reports/APOC1.html\">APOC1</a><br>"
      ],
      "text/plain": [
       "<IPython.core.display.Markdown object>"
      ]
     },
     "metadata": {},
     "output_type": "display_data"
    },
    {
     "data": {
      "text/markdown": [
       "<a href=\"reports/ZNF548.html\">ZNF548</a><br>"
      ],
      "text/plain": [
       "<IPython.core.display.Markdown object>"
      ]
     },
     "metadata": {},
     "output_type": "display_data"
    },
    {
     "data": {
      "text/markdown": [
       "<a href=\"reports/SMG5.html\">SMG5</a><br>"
      ],
      "text/plain": [
       "<IPython.core.display.Markdown object>"
      ]
     },
     "metadata": {},
     "output_type": "display_data"
    },
    {
     "data": {
      "text/markdown": [
       "<a href=\"reports/CARD17.html\">CARD17</a><br>"
      ],
      "text/plain": [
       "<IPython.core.display.Markdown object>"
      ]
     },
     "metadata": {},
     "output_type": "display_data"
    },
    {
     "data": {
      "text/markdown": [
       "<a href=\"reports/CCL28.html\">CCL28</a><br>"
      ],
      "text/plain": [
       "<IPython.core.display.Markdown object>"
      ]
     },
     "metadata": {},
     "output_type": "display_data"
    },
    {
     "data": {
      "text/markdown": [
       "<a href=\"reports/PLA2G4B.html\">PLA2G4B</a><br>"
      ],
      "text/plain": [
       "<IPython.core.display.Markdown object>"
      ]
     },
     "metadata": {},
     "output_type": "display_data"
    },
    {
     "data": {
      "text/markdown": [
       "<a href=\"reports/SUSD2.html\">SUSD2</a><br>"
      ],
      "text/plain": [
       "<IPython.core.display.Markdown object>"
      ]
     },
     "metadata": {},
     "output_type": "display_data"
    },
    {
     "data": {
      "text/markdown": [
       "<a href=\"reports/RTF1.html\">RTF1</a><br>"
      ],
      "text/plain": [
       "<IPython.core.display.Markdown object>"
      ]
     },
     "metadata": {},
     "output_type": "display_data"
    },
    {
     "data": {
      "text/markdown": [
       "<a href=\"reports/CYP3A43.html\">CYP3A43</a><br>"
      ],
      "text/plain": [
       "<IPython.core.display.Markdown object>"
      ]
     },
     "metadata": {},
     "output_type": "display_data"
    },
    {
     "data": {
      "text/markdown": [
       "<a href=\"reports/MYEOV.html\">MYEOV</a><br>"
      ],
      "text/plain": [
       "<IPython.core.display.Markdown object>"
      ]
     },
     "metadata": {},
     "output_type": "display_data"
    },
    {
     "data": {
      "text/markdown": [
       "<a href=\"reports/SFRP1.html\">SFRP1</a><br>"
      ],
      "text/plain": [
       "<IPython.core.display.Markdown object>"
      ]
     },
     "metadata": {},
     "output_type": "display_data"
    },
    {
     "data": {
      "text/markdown": [
       "<a href=\"reports/MTDH.html\">MTDH</a><br>"
      ],
      "text/plain": [
       "<IPython.core.display.Markdown object>"
      ]
     },
     "metadata": {},
     "output_type": "display_data"
    },
    {
     "data": {
      "text/markdown": [
       "<a href=\"reports/RASGRP1.html\">RASGRP1</a><br>"
      ],
      "text/plain": [
       "<IPython.core.display.Markdown object>"
      ]
     },
     "metadata": {},
     "output_type": "display_data"
    },
    {
     "data": {
      "text/markdown": [
       "<a href=\"reports/BDP1.html\">BDP1</a><br>"
      ],
      "text/plain": [
       "<IPython.core.display.Markdown object>"
      ]
     },
     "metadata": {},
     "output_type": "display_data"
    },
    {
     "data": {
      "text/markdown": [
       "<a href=\"reports/LANCL2.html\">LANCL2</a><br>"
      ],
      "text/plain": [
       "<IPython.core.display.Markdown object>"
      ]
     },
     "metadata": {},
     "output_type": "display_data"
    },
    {
     "data": {
      "text/markdown": [
       "<a href=\"reports/MED20.html\">MED20</a><br>"
      ],
      "text/plain": [
       "<IPython.core.display.Markdown object>"
      ]
     },
     "metadata": {},
     "output_type": "display_data"
    },
    {
     "data": {
      "text/markdown": [
       "<a href=\"reports/RIMS2.html\">RIMS2</a><br>"
      ],
      "text/plain": [
       "<IPython.core.display.Markdown object>"
      ]
     },
     "metadata": {},
     "output_type": "display_data"
    },
    {
     "data": {
      "text/markdown": [
       "<a href=\"reports/C8orf44.html\">C8orf44</a><br>"
      ],
      "text/plain": [
       "<IPython.core.display.Markdown object>"
      ]
     },
     "metadata": {},
     "output_type": "display_data"
    },
    {
     "data": {
      "text/markdown": [
       "<a href=\"reports/GUCA1A.html\">GUCA1A</a><br>"
      ],
      "text/plain": [
       "<IPython.core.display.Markdown object>"
      ]
     },
     "metadata": {},
     "output_type": "display_data"
    },
    {
     "data": {
      "text/markdown": [
       "<a href=\"reports/SRRD.html\">SRRD</a><br>"
      ],
      "text/plain": [
       "<IPython.core.display.Markdown object>"
      ]
     },
     "metadata": {},
     "output_type": "display_data"
    },
    {
     "data": {
      "text/markdown": [
       "<a href=\"reports/PDE2A.html\">PDE2A</a><br>"
      ],
      "text/plain": [
       "<IPython.core.display.Markdown object>"
      ]
     },
     "metadata": {},
     "output_type": "display_data"
    },
    {
     "data": {
      "text/markdown": [
       "<a href=\"reports/PRDM14.html\">PRDM14</a><br>"
      ],
      "text/plain": [
       "<IPython.core.display.Markdown object>"
      ]
     },
     "metadata": {},
     "output_type": "display_data"
    },
    {
     "data": {
      "text/markdown": [
       "<a href=\"reports/LRRC73.html\">LRRC73</a><br>"
      ],
      "text/plain": [
       "<IPython.core.display.Markdown object>"
      ]
     },
     "metadata": {},
     "output_type": "display_data"
    },
    {
     "data": {
      "text/markdown": [
       "<a href=\"reports/DNPH1.html\">DNPH1</a><br>"
      ],
      "text/plain": [
       "<IPython.core.display.Markdown object>"
      ]
     },
     "metadata": {},
     "output_type": "display_data"
    },
    {
     "data": {
      "text/markdown": [
       "<a href=\"reports/DUOXA2.html\">DUOXA2</a><br>"
      ],
      "text/plain": [
       "<IPython.core.display.Markdown object>"
      ]
     },
     "metadata": {},
     "output_type": "display_data"
    },
    {
     "data": {
      "text/markdown": [
       "<a href=\"reports/PLA2G4E.html\">PLA2G4E</a><br>"
      ],
      "text/plain": [
       "<IPython.core.display.Markdown object>"
      ]
     },
     "metadata": {},
     "output_type": "display_data"
    },
    {
     "data": {
      "text/markdown": [
       "<a href=\"reports/TSPYL5.html\">TSPYL5</a><br>"
      ],
      "text/plain": [
       "<IPython.core.display.Markdown object>"
      ]
     },
     "metadata": {},
     "output_type": "display_data"
    },
    {
     "data": {
      "text/markdown": [
       "<a href=\"reports/SMCO4.html\">SMCO4</a><br>"
      ],
      "text/plain": [
       "<IPython.core.display.Markdown object>"
      ]
     },
     "metadata": {},
     "output_type": "display_data"
    },
    {
     "data": {
      "text/markdown": [
       "<a href=\"reports/C22orf31.html\">C22orf31</a><br>"
      ],
      "text/plain": [
       "<IPython.core.display.Markdown object>"
      ]
     },
     "metadata": {},
     "output_type": "display_data"
    },
    {
     "data": {
      "text/markdown": [
       "<a href=\"reports/PAK1.html\">PAK1</a><br>"
      ],
      "text/plain": [
       "<IPython.core.display.Markdown object>"
      ]
     },
     "metadata": {},
     "output_type": "display_data"
    },
    {
     "data": {
      "text/markdown": [
       "<a href=\"reports/MAML2.html\">MAML2</a><br>"
      ],
      "text/plain": [
       "<IPython.core.display.Markdown object>"
      ]
     },
     "metadata": {},
     "output_type": "display_data"
    },
    {
     "data": {
      "text/markdown": [
       "<a href=\"reports/BRF2.html\">BRF2</a><br>"
      ],
      "text/plain": [
       "<IPython.core.display.Markdown object>"
      ]
     },
     "metadata": {},
     "output_type": "display_data"
    },
    {
     "data": {
      "text/markdown": [
       "<a href=\"reports/GLI4.html\">GLI4</a><br>"
      ],
      "text/plain": [
       "<IPython.core.display.Markdown object>"
      ]
     },
     "metadata": {},
     "output_type": "display_data"
    },
    {
     "data": {
      "text/markdown": [
       "<a href=\"reports/CORO1B.html\">CORO1B</a><br>"
      ],
      "text/plain": [
       "<IPython.core.display.Markdown object>"
      ]
     },
     "metadata": {},
     "output_type": "display_data"
    },
    {
     "data": {
      "text/markdown": [
       "<a href=\"reports/LRRC14.html\">LRRC14</a><br>"
      ],
      "text/plain": [
       "<IPython.core.display.Markdown object>"
      ]
     },
     "metadata": {},
     "output_type": "display_data"
    },
    {
     "data": {
      "text/markdown": [
       "<a href=\"reports/CDH18.html\">CDH18</a><br>"
      ],
      "text/plain": [
       "<IPython.core.display.Markdown object>"
      ]
     },
     "metadata": {},
     "output_type": "display_data"
    },
    {
     "data": {
      "text/markdown": [
       "<a href=\"reports/NUMA1.html\">NUMA1</a><br>"
      ],
      "text/plain": [
       "<IPython.core.display.Markdown object>"
      ]
     },
     "metadata": {},
     "output_type": "display_data"
    },
    {
     "data": {
      "text/markdown": [
       "<a href=\"reports/SDHA.html\">SDHA</a><br>"
      ],
      "text/plain": [
       "<IPython.core.display.Markdown object>"
      ]
     },
     "metadata": {},
     "output_type": "display_data"
    },
    {
     "data": {
      "text/markdown": [
       "<a href=\"reports/VPS39.html\">VPS39</a><br>"
      ],
      "text/plain": [
       "<IPython.core.display.Markdown object>"
      ]
     },
     "metadata": {},
     "output_type": "display_data"
    },
    {
     "data": {
      "text/markdown": [
       "<a href=\"reports/STARD3.html\">STARD3</a><br>"
      ],
      "text/plain": [
       "<IPython.core.display.Markdown object>"
      ]
     },
     "metadata": {},
     "output_type": "display_data"
    },
    {
     "data": {
      "text/markdown": [
       "<a href=\"reports/TMEM126B.html\">TMEM126B</a><br>"
      ],
      "text/plain": [
       "<IPython.core.display.Markdown object>"
      ]
     },
     "metadata": {},
     "output_type": "display_data"
    },
    {
     "data": {
      "text/markdown": [
       "<a href=\"reports/KIF7.html\">KIF7</a><br>"
      ],
      "text/plain": [
       "<IPython.core.display.Markdown object>"
      ]
     },
     "metadata": {},
     "output_type": "display_data"
    },
    {
     "data": {
      "text/markdown": [
       "<a href=\"reports/LY96.html\">LY96</a><br>"
      ],
      "text/plain": [
       "<IPython.core.display.Markdown object>"
      ]
     },
     "metadata": {},
     "output_type": "display_data"
    },
    {
     "data": {
      "text/markdown": [
       "<a href=\"reports/COX4I1.html\">COX4I1</a><br>"
      ],
      "text/plain": [
       "<IPython.core.display.Markdown object>"
      ]
     },
     "metadata": {},
     "output_type": "display_data"
    },
    {
     "data": {
      "text/markdown": [
       "<a href=\"reports/FGD1.html\">FGD1</a><br>"
      ],
      "text/plain": [
       "<IPython.core.display.Markdown object>"
      ]
     },
     "metadata": {},
     "output_type": "display_data"
    },
    {
     "data": {
      "text/markdown": [
       "<a href=\"reports/PLEKHB1.html\">PLEKHB1</a><br>"
      ],
      "text/plain": [
       "<IPython.core.display.Markdown object>"
      ]
     },
     "metadata": {},
     "output_type": "display_data"
    },
    {
     "data": {
      "text/markdown": [
       "<a href=\"reports/B3GNT6.html\">B3GNT6</a><br>"
      ],
      "text/plain": [
       "<IPython.core.display.Markdown object>"
      ]
     },
     "metadata": {},
     "output_type": "display_data"
    },
    {
     "data": {
      "text/markdown": [
       "<a href=\"reports/RUNX2.html\">RUNX2</a><br>"
      ],
      "text/plain": [
       "<IPython.core.display.Markdown object>"
      ]
     },
     "metadata": {},
     "output_type": "display_data"
    },
    {
     "data": {
      "text/markdown": [
       "<a href=\"reports/GGT1.html\">GGT1</a><br>"
      ],
      "text/plain": [
       "<IPython.core.display.Markdown object>"
      ]
     },
     "metadata": {},
     "output_type": "display_data"
    },
    {
     "data": {
      "text/markdown": [
       "<a href=\"reports/IKZF3.html\">IKZF3</a><br>"
      ],
      "text/plain": [
       "<IPython.core.display.Markdown object>"
      ]
     },
     "metadata": {},
     "output_type": "display_data"
    },
    {
     "data": {
      "text/markdown": [
       "<a href=\"reports/GCHFR.html\">GCHFR</a><br>"
      ],
      "text/plain": [
       "<IPython.core.display.Markdown object>"
      ]
     },
     "metadata": {},
     "output_type": "display_data"
    },
    {
     "data": {
      "text/markdown": [
       "<a href=\"reports/STOX1.html\">STOX1</a><br>"
      ],
      "text/plain": [
       "<IPython.core.display.Markdown object>"
      ]
     },
     "metadata": {},
     "output_type": "display_data"
    },
    {
     "data": {
      "text/markdown": [
       "<a href=\"reports/SMARCB1.html\">SMARCB1</a><br>"
      ],
      "text/plain": [
       "<IPython.core.display.Markdown object>"
      ]
     },
     "metadata": {},
     "output_type": "display_data"
    },
    {
     "data": {
      "text/markdown": [
       "<a href=\"reports/MRPL15.html\">MRPL15</a><br>"
      ],
      "text/plain": [
       "<IPython.core.display.Markdown object>"
      ]
     },
     "metadata": {},
     "output_type": "display_data"
    },
    {
     "data": {
      "text/markdown": [
       "<a href=\"reports/KDM4D.html\">KDM4D</a><br>"
      ],
      "text/plain": [
       "<IPython.core.display.Markdown object>"
      ]
     },
     "metadata": {},
     "output_type": "display_data"
    },
    {
     "data": {
      "text/markdown": [
       "<a href=\"reports/GSTA2.html\">GSTA2</a><br>"
      ],
      "text/plain": [
       "<IPython.core.display.Markdown object>"
      ]
     },
     "metadata": {},
     "output_type": "display_data"
    },
    {
     "data": {
      "text/markdown": [
       "<a href=\"reports/POLD3.html\">POLD3</a><br>"
      ],
      "text/plain": [
       "<IPython.core.display.Markdown object>"
      ]
     },
     "metadata": {},
     "output_type": "display_data"
    },
    {
     "data": {
      "text/markdown": [
       "<a href=\"reports/VCAN.html\">VCAN</a><br>"
      ],
      "text/plain": [
       "<IPython.core.display.Markdown object>"
      ]
     },
     "metadata": {},
     "output_type": "display_data"
    },
    {
     "data": {
      "text/markdown": [
       "<a href=\"reports/CEP152.html\">CEP152</a><br>"
      ],
      "text/plain": [
       "<IPython.core.display.Markdown object>"
      ]
     },
     "metadata": {},
     "output_type": "display_data"
    },
    {
     "data": {
      "text/markdown": [
       "<a href=\"reports/KCNS2.html\">KCNS2</a><br>"
      ],
      "text/plain": [
       "<IPython.core.display.Markdown object>"
      ]
     },
     "metadata": {},
     "output_type": "display_data"
    },
    {
     "data": {
      "text/markdown": [
       "<a href=\"reports/LRP5.html\">LRP5</a><br>"
      ],
      "text/plain": [
       "<IPython.core.display.Markdown object>"
      ]
     },
     "metadata": {},
     "output_type": "display_data"
    },
    {
     "data": {
      "text/markdown": [
       "<a href=\"reports/PPP1R10.html\">PPP1R10</a><br>"
      ],
      "text/plain": [
       "<IPython.core.display.Markdown object>"
      ]
     },
     "metadata": {},
     "output_type": "display_data"
    },
    {
     "data": {
      "text/markdown": [
       "<a href=\"reports/SLC35B2.html\">SLC35B2</a><br>"
      ],
      "text/plain": [
       "<IPython.core.display.Markdown object>"
      ]
     },
     "metadata": {},
     "output_type": "display_data"
    },
    {
     "data": {
      "text/markdown": [
       "<a href=\"reports/MRE11.html\">MRE11</a><br>"
      ],
      "text/plain": [
       "<IPython.core.display.Markdown object>"
      ]
     },
     "metadata": {},
     "output_type": "display_data"
    },
    {
     "data": {
      "text/markdown": [
       "<a href=\"reports/MMP3.html\">MMP3</a><br>"
      ],
      "text/plain": [
       "<IPython.core.display.Markdown object>"
      ]
     },
     "metadata": {},
     "output_type": "display_data"
    },
    {
     "data": {
      "text/markdown": [
       "<a href=\"reports/PNMT.html\">PNMT</a><br>"
      ],
      "text/plain": [
       "<IPython.core.display.Markdown object>"
      ]
     },
     "metadata": {},
     "output_type": "display_data"
    },
    {
     "data": {
      "text/markdown": [
       "<a href=\"reports/KLC4.html\">KLC4</a><br>"
      ],
      "text/plain": [
       "<IPython.core.display.Markdown object>"
      ]
     },
     "metadata": {},
     "output_type": "display_data"
    },
    {
     "data": {
      "text/markdown": [
       "<a href=\"reports/INTS10.html\">INTS10</a><br>"
      ],
      "text/plain": [
       "<IPython.core.display.Markdown object>"
      ]
     },
     "metadata": {},
     "output_type": "display_data"
    },
    {
     "data": {
      "text/markdown": [
       "<a href=\"reports/YWHAZ.html\">YWHAZ</a><br>"
      ],
      "text/plain": [
       "<IPython.core.display.Markdown object>"
      ]
     },
     "metadata": {},
     "output_type": "display_data"
    },
    {
     "data": {
      "text/markdown": [
       "<a href=\"reports/IL7R.html\">IL7R</a><br>"
      ],
      "text/plain": [
       "<IPython.core.display.Markdown object>"
      ]
     },
     "metadata": {},
     "output_type": "display_data"
    },
    {
     "data": {
      "text/markdown": [
       "<a href=\"reports/CLIC5.html\">CLIC5</a><br>"
      ],
      "text/plain": [
       "<IPython.core.display.Markdown object>"
      ]
     },
     "metadata": {},
     "output_type": "display_data"
    },
    {
     "data": {
      "text/markdown": [
       "<a href=\"reports/ANXA2R.html\">ANXA2R</a><br>"
      ],
      "text/plain": [
       "<IPython.core.display.Markdown object>"
      ]
     },
     "metadata": {},
     "output_type": "display_data"
    },
    {
     "data": {
      "text/markdown": [
       "<a href=\"reports/CHP1.html\">CHP1</a><br>"
      ],
      "text/plain": [
       "<IPython.core.display.Markdown object>"
      ]
     },
     "metadata": {},
     "output_type": "display_data"
    },
    {
     "data": {
      "text/markdown": [
       "<a href=\"reports/GSDMC.html\">GSDMC</a><br>"
      ],
      "text/plain": [
       "<IPython.core.display.Markdown object>"
      ]
     },
     "metadata": {},
     "output_type": "display_data"
    },
    {
     "data": {
      "text/markdown": [
       "<a href=\"reports/HDC.html\">HDC</a><br>"
      ],
      "text/plain": [
       "<IPython.core.display.Markdown object>"
      ]
     },
     "metadata": {},
     "output_type": "display_data"
    },
    {
     "data": {
      "text/markdown": [
       "<a href=\"reports/OR4N2.html\">OR4N2</a><br>"
      ],
      "text/plain": [
       "<IPython.core.display.Markdown object>"
      ]
     },
     "metadata": {},
     "output_type": "display_data"
    },
    {
     "data": {
      "text/markdown": [
       "<a href=\"reports/VOPP1.html\">VOPP1</a><br>"
      ],
      "text/plain": [
       "<IPython.core.display.Markdown object>"
      ]
     },
     "metadata": {},
     "output_type": "display_data"
    },
    {
     "data": {
      "text/markdown": [
       "<a href=\"reports/SLC20A2.html\">SLC20A2</a><br>"
      ],
      "text/plain": [
       "<IPython.core.display.Markdown object>"
      ]
     },
     "metadata": {},
     "output_type": "display_data"
    },
    {
     "data": {
      "text/markdown": [
       "<a href=\"reports/ELOC.html\">ELOC</a><br>"
      ],
      "text/plain": [
       "<IPython.core.display.Markdown object>"
      ]
     },
     "metadata": {},
     "output_type": "display_data"
    },
    {
     "data": {
      "text/markdown": [
       "<a href=\"reports/SLC28A2.html\">SLC28A2</a><br>"
      ],
      "text/plain": [
       "<IPython.core.display.Markdown object>"
      ]
     },
     "metadata": {},
     "output_type": "display_data"
    },
    {
     "data": {
      "text/markdown": [
       "<a href=\"reports/VSTM5.html\">VSTM5</a><br>"
      ],
      "text/plain": [
       "<IPython.core.display.Markdown object>"
      ]
     },
     "metadata": {},
     "output_type": "display_data"
    },
    {
     "data": {
      "text/markdown": [
       "<a href=\"reports/CPT1A.html\">CPT1A</a><br>"
      ],
      "text/plain": [
       "<IPython.core.display.Markdown object>"
      ]
     },
     "metadata": {},
     "output_type": "display_data"
    },
    {
     "data": {
      "text/markdown": [
       "<a href=\"reports/CEP295.html\">CEP295</a><br>"
      ],
      "text/plain": [
       "<IPython.core.display.Markdown object>"
      ]
     },
     "metadata": {},
     "output_type": "display_data"
    },
    {
     "data": {
      "text/markdown": [
       "<a href=\"reports/RHOV.html\">RHOV</a><br>"
      ],
      "text/plain": [
       "<IPython.core.display.Markdown object>"
      ]
     },
     "metadata": {},
     "output_type": "display_data"
    },
    {
     "data": {
      "text/markdown": [
       "<a href=\"reports/KLHL31.html\">KLHL31</a><br>"
      ],
      "text/plain": [
       "<IPython.core.display.Markdown object>"
      ]
     },
     "metadata": {},
     "output_type": "display_data"
    },
    {
     "data": {
      "text/markdown": [
       "<a href=\"reports/NEU3.html\">NEU3</a><br>"
      ],
      "text/plain": [
       "<IPython.core.display.Markdown object>"
      ]
     },
     "metadata": {},
     "output_type": "display_data"
    },
    {
     "data": {
      "text/markdown": [
       "<a href=\"reports/CPA6.html\">CPA6</a><br>"
      ],
      "text/plain": [
       "<IPython.core.display.Markdown object>"
      ]
     },
     "metadata": {},
     "output_type": "display_data"
    },
    {
     "data": {
      "text/markdown": [
       "<a href=\"reports/FAM83A.html\">FAM83A</a><br>"
      ],
      "text/plain": [
       "<IPython.core.display.Markdown object>"
      ]
     },
     "metadata": {},
     "output_type": "display_data"
    },
    {
     "data": {
      "text/markdown": [
       "<a href=\"reports/SUPT3H.html\">SUPT3H</a><br>"
      ],
      "text/plain": [
       "<IPython.core.display.Markdown object>"
      ]
     },
     "metadata": {},
     "output_type": "display_data"
    },
    {
     "data": {
      "text/markdown": [
       "<a href=\"reports/SLC12A7.html\">SLC12A7</a><br>"
      ],
      "text/plain": [
       "<IPython.core.display.Markdown object>"
      ]
     },
     "metadata": {},
     "output_type": "display_data"
    },
    {
     "data": {
      "text/markdown": [
       "<a href=\"reports/RPL8.html\">RPL8</a><br>"
      ],
      "text/plain": [
       "<IPython.core.display.Markdown object>"
      ]
     },
     "metadata": {},
     "output_type": "display_data"
    },
    {
     "data": {
      "text/markdown": [
       "<a href=\"reports/GRIA4.html\">GRIA4</a><br>"
      ],
      "text/plain": [
       "<IPython.core.display.Markdown object>"
      ]
     },
     "metadata": {},
     "output_type": "display_data"
    },
    {
     "data": {
      "text/markdown": [
       "<a href=\"reports/CCDC166.html\">CCDC166</a><br>"
      ],
      "text/plain": [
       "<IPython.core.display.Markdown object>"
      ]
     },
     "metadata": {},
     "output_type": "display_data"
    },
    {
     "data": {
      "text/markdown": [
       "<a href=\"reports/TBC1D31.html\">TBC1D31</a><br>"
      ],
      "text/plain": [
       "<IPython.core.display.Markdown object>"
      ]
     },
     "metadata": {},
     "output_type": "display_data"
    },
    {
     "data": {
      "text/markdown": [
       "<a href=\"reports/TOP1MT.html\">TOP1MT</a><br>"
      ],
      "text/plain": [
       "<IPython.core.display.Markdown object>"
      ]
     },
     "metadata": {},
     "output_type": "display_data"
    },
    {
     "data": {
      "text/markdown": [
       "<a href=\"reports/YIPF3.html\">YIPF3</a><br>"
      ],
      "text/plain": [
       "<IPython.core.display.Markdown object>"
      ]
     },
     "metadata": {},
     "output_type": "display_data"
    },
    {
     "data": {
      "text/markdown": [
       "<a href=\"reports/RGL4.html\">RGL4</a><br>"
      ],
      "text/plain": [
       "<IPython.core.display.Markdown object>"
      ]
     },
     "metadata": {},
     "output_type": "display_data"
    },
    {
     "data": {
      "text/markdown": [
       "<a href=\"reports/MFAP1.html\">MFAP1</a><br>"
      ],
      "text/plain": [
       "<IPython.core.display.Markdown object>"
      ]
     },
     "metadata": {},
     "output_type": "display_data"
    },
    {
     "data": {
      "text/markdown": [
       "<a href=\"reports/ARHGEF17.html\">ARHGEF17</a><br>"
      ],
      "text/plain": [
       "<IPython.core.display.Markdown object>"
      ]
     },
     "metadata": {},
     "output_type": "display_data"
    },
    {
     "data": {
      "text/markdown": [
       "<a href=\"reports/ZDHHC2.html\">ZDHHC2</a><br>"
      ],
      "text/plain": [
       "<IPython.core.display.Markdown object>"
      ]
     },
     "metadata": {},
     "output_type": "display_data"
    },
    {
     "data": {
      "text/markdown": [
       "<a href=\"reports/DHCR7.html\">DHCR7</a><br>"
      ],
      "text/plain": [
       "<IPython.core.display.Markdown object>"
      ]
     },
     "metadata": {},
     "output_type": "display_data"
    },
    {
     "data": {
      "text/markdown": [
       "<a href=\"reports/CAPN11.html\">CAPN11</a><br>"
      ],
      "text/plain": [
       "<IPython.core.display.Markdown object>"
      ]
     },
     "metadata": {},
     "output_type": "display_data"
    },
    {
     "data": {
      "text/markdown": [
       "<a href=\"reports/SLC52A2.html\">SLC52A2</a><br>"
      ],
      "text/plain": [
       "<IPython.core.display.Markdown object>"
      ]
     },
     "metadata": {},
     "output_type": "display_data"
    },
    {
     "data": {
      "text/markdown": [
       "<a href=\"reports/SPCS2.html\">SPCS2</a><br>"
      ],
      "text/plain": [
       "<IPython.core.display.Markdown object>"
      ]
     },
     "metadata": {},
     "output_type": "display_data"
    },
    {
     "data": {
      "text/markdown": [
       "<a href=\"reports/NDUFC2.html\">NDUFC2</a><br>"
      ],
      "text/plain": [
       "<IPython.core.display.Markdown object>"
      ]
     },
     "metadata": {},
     "output_type": "display_data"
    },
    {
     "data": {
      "text/markdown": [
       "<a href=\"reports/PCMTD1.html\">PCMTD1</a><br>"
      ],
      "text/plain": [
       "<IPython.core.display.Markdown object>"
      ]
     },
     "metadata": {},
     "output_type": "display_data"
    },
    {
     "data": {
      "text/markdown": [
       "<a href=\"reports/SLURP1.html\">SLURP1</a><br>"
      ],
      "text/plain": [
       "<IPython.core.display.Markdown object>"
      ]
     },
     "metadata": {},
     "output_type": "display_data"
    },
    {
     "data": {
      "text/markdown": [
       "<a href=\"reports/MYC.html\">MYC</a><br>"
      ],
      "text/plain": [
       "<IPython.core.display.Markdown object>"
      ]
     },
     "metadata": {},
     "output_type": "display_data"
    },
    {
     "data": {
      "text/markdown": [
       "<a href=\"reports/NIPAL2.html\">NIPAL2</a><br>"
      ],
      "text/plain": [
       "<IPython.core.display.Markdown object>"
      ]
     },
     "metadata": {},
     "output_type": "display_data"
    },
    {
     "data": {
      "text/markdown": [
       "<a href=\"reports/TERT.html\">TERT</a><br>"
      ],
      "text/plain": [
       "<IPython.core.display.Markdown object>"
      ]
     },
     "metadata": {},
     "output_type": "display_data"
    }
   ],
   "source": [
    "report('\\n\\n<h2>Links to gene information</h2>')\n",
    "report('DepMap summary, expression, Reactome pathways<br>')\n",
    "for g in set(candidates.HUGO_symbol):\n",
    "    report('<a href=\"reports/'+g+'.html\">'+g+'</a><br>')"
   ]
  },
  {
   "cell_type": "code",
   "execution_count": null,
   "metadata": {},
   "outputs": [],
   "source": []
  }
 ],
 "metadata": {
  "kernelspec": {
   "display_name": "Python 3",
   "language": "python",
   "name": "python3"
  },
  "language_info": {
   "codemirror_mode": {
    "name": "ipython",
    "version": 3
   },
   "file_extension": ".py",
   "mimetype": "text/x-python",
   "name": "python",
   "nbconvert_exporter": "python",
   "pygments_lexer": "ipython3",
   "version": "3.6.7"
  }
 },
 "nbformat": 4,
 "nbformat_minor": 4
}
