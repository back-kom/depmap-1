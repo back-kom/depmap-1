{
 "cells": [
  {
   "cell_type": "code",
   "execution_count": 1,
   "metadata": {},
   "outputs": [],
   "source": [
    "from __future__ import print_function\n",
    "import pandas as pd\n",
    "import numpy as np\n",
    "import os, sys, re, pickle, wget, math\n",
    "from intermine.webservice import Service\n",
    "from IPython.display import Markdown, display\n",
    "import matplotlib.pyplot as plt\n",
    "import scipy.stats as stats\n",
    "\n",
    "# Load data direct from source\n",
    "class A(object):\n",
    "    data = {}\n",
    "    url = {}\n",
    "    url['expression'] = 'https://ndownloader.figshare.com/files/16757690'\n",
    "    url['sample_info'] = 'https://ndownloader.figshare.com/files/16757723'\n",
    "    url['copy_number'] = 'https://ndownloader.figshare.com/files/17857886'\n",
    "    url['mutations'] = 'https://ndownloader.figshare.com/files/16757702'\n",
    "    url['achilles_crispr'] = 'https://ndownloader.figshare.com/files/16757666'\n",
    "    url['d2_rnai'] = 'https://ndownloader.figshare.com/files/13515395'\n",
    "    url['sensitivity'] = 'https://ndownloader.figshare.com/files/17008628'\n",
    "    url['mfr'] = 'http://bmbl.sdstate.edu/MFR/data/resource%20data/tr_dv_ts.dataset.zip'\n",
    "    url['reactome'] = 'https://reactome.org/download/current/NCBI2Reactome.txt'\n",
    "    summary = '../index.md'\n",
    "    \n",
    "# Wipe the slate clean on the analysis summary\n",
    "os.system(\"echo '' > \"+A.summary)\n",
    "    \n",
    "def printmd(string):\n",
    "    \"\"\"Prints formatted markdown text\"\"\"\n",
    "    display(Markdown(string))\n",
    "    \n",
    "def report(text,silent=False):\n",
    "    \"\"\"Print markdown in this notebook and saves markdown-only summary in a file\"\"\"\n",
    "    if not silent:\n",
    "        printmd(text)\n",
    "    \n",
    "    f = open(A.summary,'a')\n",
    "    f.write(text+'\\n')\n",
    "    \n",
    "def get_gene_descriptions():\n",
    "    \"\"\"Load gene names and descriptions from humanmine (http://www.humanmine.org),\n",
    "    an integrated database of human genome information.  Use cached data if available\"\"\"\n",
    "    \n",
    "    archive = 'data/gene_info.p'\n",
    "    if os.path.exists(archive):\n",
    "        df = pd.read_pickle(archive)\n",
    "        return df\n",
    "    \n",
    "    service = Service(\"https://www.humanmine.org/humanmine/service\")\n",
    "    query = service.new_query(\"Gene\")\n",
    "    cols = [\"primaryIdentifier\", \"symbol\", \"briefDescription\", \"description\",\"proteins.uniprotAccession\"]\n",
    "    query.add_view(*cols)\n",
    "    query.add_constraint(\"organism.taxonId\", \"=\", \"9606\", code = \"A\")    \n",
    "    df_rows = []\n",
    "\n",
    "    for row in query.rows():\n",
    "        df_rows.append(\n",
    "            [row[\"primaryIdentifier\"], \n",
    "             row[\"symbol\"], \n",
    "             row[\"briefDescription\"], \n",
    "             row[\"description\"],\n",
    "             row[\"proteins.uniprotAccession\"]\n",
    "            ])\n",
    "\n",
    "    df = pd.DataFrame(data=df_rows,columns=cols)\n",
    "    df.to_pickle(archive)\n",
    "    return df\n",
    "    \n",
    "def get_data(key):\n",
    "    \"\"\"Load input data.\n",
    "    Arguments: key for the data source (eg: expression, sample_info...)\n",
    "    1) If the data is cached on the filesystem, load and return the dataframe\n",
    "    2) Otherwise, load the data from the source URL, cache, return the dataframe\n",
    "    \"\"\"\n",
    "    \n",
    "    data_cache = 'data/'+key+'.p'\n",
    "    if os.path.exists(data_cache):\n",
    "        df = pd.read_pickle(data_cache)\n",
    "    else:\n",
    "        print(\"Downloading\",key,\"from source\")\n",
    "        df = pd.read_csv(A.url[key],low_memory=False,index_col=0)\n",
    "        df.to_pickle(data_cache)\n",
    "        \n",
    "    A.data[key] = df    \n",
    "    return df\n",
    "\n",
    "def ncbi_gene_ids(genes):\n",
    "    \"\"\"Converts gene name \"symbol (ncbi_id)\"\n",
    "    to integer NCBI ID.  Also catch missing associations\n",
    "    for NCBI gene ID/symbol\n",
    "    \"\"\"\n",
    "    ncbi_cols = []\n",
    "    for g in genes:\n",
    "        match = re.search('(\\S+)\\s+\\((\\d+)\\)',g)\n",
    "        if match:\n",
    "            s = match.group(1)\n",
    "            g = match.group(2)\n",
    "            if not ncbi2symbol.get(int(g)):\n",
    "                ncbi2symbol[int(g)] = s\n",
    "                symbol2ncbi[s] = int(g)\n",
    "        else:\n",
    "            print(\"No match\",g)\n",
    "        ncbi_cols.append(int(g))\n",
    "        \n",
    "\n",
    "    return ncbi_cols\n",
    "\n",
    "def get_pathway_info():\n",
    "    # Map NCBI IDs to reactome pathways\n",
    "    # File downloaded from https://reactome.org/download/current/NCBI2Reactome.txt\n",
    "    archive = 'data/pathway_info.p'\n",
    "    \n",
    "    if os.path.exists(archive):\n",
    "        pathway_info = pickle.load(open(archive,'rb'))\n",
    "        return pathway_info\n",
    "    \n",
    "    pathway_info = {}\n",
    "    if not os.path.exists('data/NCBI2Reactome.txt'):\n",
    "        wget.download(A.url['reactome'],out='data/NCBI2Reactome.txt')\n",
    "    with open('data/NCBI2Reactome.txt') as n2r:\n",
    "        for line in n2r.readlines():\n",
    "            ncbi, pathway_id, url, pathway_name, type, species = line.strip().split('\\t')\n",
    "            # only human pathways\n",
    "            if species != 'Homo sapiens':\n",
    "                continue\n",
    "            # only curated pathways\n",
    "            if type == 'IEA':\n",
    "                continue\n",
    "            pathway_info[ncbi] = [pathway_id, url, pathway_name]\n",
    "\n",
    "    pickle.dump(pathway_info,open(archive,'wb'))\n",
    "    return pathway_info\n"
   ]
  },
  {
   "cell_type": "code",
   "execution_count": 2,
   "metadata": {},
   "outputs": [
    {
     "data": {
      "text/markdown": [
       "\n",
       "# Sample analysis of Cancer Dependency Map (DepMap) data \n",
       "## Request\n",
       "* Identify the most frequent genetic alterations (could be mutations or copy number variations) in the cancer cell lines\n",
       "* Match them with the best genetic dependencies that could be used for drug development for the cancers that carry those mutations\n",
       "* Take into account the lineage of cancer cell lines (certain mutations/CNVs may be restricted to a specific lineage)\n",
       "\n",
       "## Resources\n",
       "### DepMap (https://depmap.org/portal) Data \n",
       "* Cell line metadata\n",
       "* Expression (RNASeq)\n",
       "* Copy number variation\n",
       "* Mutations\n",
       "* Genetic dependency\n",
       "  * Crispr (Achilles)\n",
       "  * RNAi (DEMETER2)\n",
       "  \n",
       "<b>Citations:</b> \n",
       "* Jordan G. Bryan, John M. Krill-Burger, Thomas M. Green, Francisca Vazquez, Jesse S. Boehm, Todd R. Golub, William C. Hahn, David E. Root, Aviad Tsherniak. (2018). Improved estimation of cancer dependencies from large-scale RNAi screens using model-based normalization and data integration. Nature Communications 9, 1. https://doi.org/10.1038/s41467-018-06916-5</font>\n",
       "* DepMap, Broad (2019): DepMap 19Q3 Public. figshare. Dataset doi:10.6084/m9.figshare.9201770.v1.\n",
       "* Robin M. Meyers, Jordan G. Bryan, James M. McFarland, Barbara A. Weir, ... David E. Root, William C. Hahn, Aviad Tsherniak. Computational correction of copy number effect improves specificity of CRISPR-Cas9 essentiality screens in cancer cells. Nature Genetics 2017 October 49:1779–1784. doi:10.1038/ng.3984\n",
       "\n",
       "\n",
       "### Jupyter (https://jupyter.org/)\n",
       "* Python programming framework for analysis prototyping and reporting\n",
       "\n",
       "### GitHub (https://github.com/)\n",
       "* Revision control for Python code\n",
       "* Reporting mechanism for analysis summary and details\n",
       "\n",
       "\n",
       "## Analysis overview\n",
       "1. Aggregate data from depmap.org\n",
       "2. Deal with various data format issues\n",
       "3. Map cell lines to cancer lineages and sublineages\n",
       "4. Capture low-hanging fruit genes with high copy number and (Achilles Crispr) gene dependency scores < 0\n",
       "5. Sanity check filters using ERBB2\n",
       "6. Compare RNAi and Crispr data fo gene dependency\n",
       "7. Plot copy number vs. gene dependency by lineage\n",
       "8. Generate list of candidate genes as a sortable table\n",
       "9. Add cross-validation filtering data for RNAi, expression, TGCA/COSMIC mutation hotspots\n",
       "10. target gene info pages\n",
       "\n",
       "## Next steps\n",
       "1. Improve thresholds (cutoffs for copy number, gene dependency, expression TPMs, etc.\n",
       "2. Integrate chemical sensitivity data\n",
       "3. Filter genes that are already known drug targets (identify truly novel targets)\n",
       "\n",
       "<a href=\"analysis/anaysis_details.html\">Details...</a>\n",
       "\n"
      ],
      "text/plain": [
       "<IPython.core.display.Markdown object>"
      ]
     },
     "metadata": {},
     "output_type": "display_data"
    }
   ],
   "source": [
    "report('''\n",
    "# Sample analysis of Cancer Dependency Map (DepMap) data \n",
    "## Request\n",
    "* Identify the most frequent genetic alterations (could be mutations or copy number variations) in the cancer cell lines\n",
    "* Match them with the best genetic dependencies that could be used for drug development for the cancers that carry those mutations\n",
    "* Take into account the lineage of cancer cell lines (certain mutations/CNVs may be restricted to a specific lineage)\n",
    "\n",
    "## Resources\n",
    "### DepMap (https://depmap.org/portal) Data \n",
    "* Cell line metadata\n",
    "* Expression (RNASeq)\n",
    "* Copy number variation\n",
    "* Mutations\n",
    "* Genetic dependency\n",
    "  * Crispr (Achilles)\n",
    "  * RNAi (DEMETER2)\n",
    "  \n",
    "<b>Citations:</b> \n",
    "* Jordan G. Bryan, John M. Krill-Burger, Thomas M. Green, Francisca Vazquez, Jesse S. Boehm, Todd R. Golub, William C. Hahn, David E. Root, Aviad Tsherniak. (2018). Improved estimation of cancer dependencies from large-scale RNAi screens using model-based normalization and data integration. Nature Communications 9, 1. https://doi.org/10.1038/s41467-018-06916-5</font>\n",
    "* DepMap, Broad (2019): DepMap 19Q3 Public. figshare. Dataset doi:10.6084/m9.figshare.9201770.v1.\n",
    "* Robin M. Meyers, Jordan G. Bryan, James M. McFarland, Barbara A. Weir, ... David E. Root, William C. Hahn, Aviad Tsherniak. Computational correction of copy number effect improves specificity of CRISPR-Cas9 essentiality screens in cancer cells. Nature Genetics 2017 October 49:1779–1784. doi:10.1038/ng.3984\n",
    "\n",
    "\n",
    "### Jupyter (https://jupyter.org/)\n",
    "* Python programming framework for analysis prototyping and reporting\n",
    "\n",
    "### GitHub (https://github.com/)\n",
    "* Revision control for Python code\n",
    "* Reporting mechanism for analysis summary and details\n",
    "\n",
    "\n",
    "## Analysis overview\n",
    "1. Aggregate data from depmap.org\n",
    "2. Deal with various data format issues\n",
    "3. Map cell lines to cancer lineages and sublineages\n",
    "4. Capture low-hanging fruit genes with high copy number and (Achilles Crispr) gene dependency scores < 0\n",
    "5. Sanity check filters using ERBB2\n",
    "6. Compare RNAi and Crispr data fo gene dependency\n",
    "7. Plot copy number vs. gene dependency by lineage\n",
    "8. Generate list of candidate genes as a sortable table\n",
    "9. Add cross-validation filtering data for RNAi, expression, TGCA/COSMIC mutation hotspots\n",
    "10. target gene info pages\n",
    "\n",
    "## Next steps\n",
    "1. Improve thresholds (cutoffs for copy number, gene dependency, expression TPMs, etc.\n",
    "2. Integrate chemical sensitivity data\n",
    "3. Filter genes that are already known drug targets (identify truly novel targets)\n",
    "\n",
    "<a href=\"analysis/anaysis_details.html\">Details...</a>\n",
    "\n",
    "''')"
   ]
  },
  {
   "cell_type": "code",
   "execution_count": 3,
   "metadata": {},
   "outputs": [
    {
     "data": {
      "text/markdown": [
       "\n",
       "## Get gene descriptions, etc.\n",
       "Use data from humanmine (http://www.humanmine.org/) to map NCBI gene IDs to name, summary, symbol, uniprot\n"
      ],
      "text/plain": [
       "<IPython.core.display.Markdown object>"
      ]
     },
     "metadata": {},
     "output_type": "display_data"
    }
   ],
   "source": [
    "printmd('''\n",
    "## Get gene descriptions, etc.\n",
    "Use data from humanmine (http://www.humanmine.org/) to map NCBI gene IDs to name, summary, symbol, uniprot\n",
    "''')"
   ]
  },
  {
   "cell_type": "code",
   "execution_count": 4,
   "metadata": {},
   "outputs": [
    {
     "data": {
      "text/markdown": [
       "sample gene info:"
      ],
      "text/plain": [
       "<IPython.core.display.Markdown object>"
      ]
     },
     "metadata": {},
     "output_type": "display_data"
    },
    {
     "data": {
      "text/html": [
       "<div>\n",
       "<style scoped>\n",
       "    .dataframe tbody tr th:only-of-type {\n",
       "        vertical-align: middle;\n",
       "    }\n",
       "\n",
       "    .dataframe tbody tr th {\n",
       "        vertical-align: top;\n",
       "    }\n",
       "\n",
       "    .dataframe thead th {\n",
       "        text-align: right;\n",
       "    }\n",
       "</style>\n",
       "<table border=\"1\" class=\"dataframe\">\n",
       "  <thead>\n",
       "    <tr style=\"text-align: right;\">\n",
       "      <th></th>\n",
       "      <th>primaryIdentifier</th>\n",
       "      <th>symbol</th>\n",
       "      <th>briefDescription</th>\n",
       "      <th>description</th>\n",
       "      <th>proteins.uniprotAccession</th>\n",
       "    </tr>\n",
       "  </thead>\n",
       "  <tbody>\n",
       "    <tr>\n",
       "      <td>0</td>\n",
       "      <td>2632</td>\n",
       "      <td>GBE1</td>\n",
       "      <td>1,4-alpha-glucan branching enzyme 1</td>\n",
       "      <td>The protein encoded by this gene is a glycogen...</td>\n",
       "      <td>Q04446</td>\n",
       "    </tr>\n",
       "    <tr>\n",
       "      <td>1</td>\n",
       "      <td>3248</td>\n",
       "      <td>HPGD</td>\n",
       "      <td>15-hydroxyprostaglandin dehydrogenase</td>\n",
       "      <td>This gene encodes a member of the short-chain ...</td>\n",
       "      <td>E9PBZ2</td>\n",
       "    </tr>\n",
       "    <tr>\n",
       "      <td>2</td>\n",
       "      <td>3248</td>\n",
       "      <td>HPGD</td>\n",
       "      <td>15-hydroxyprostaglandin dehydrogenase</td>\n",
       "      <td>This gene encodes a member of the short-chain ...</td>\n",
       "      <td>P15428</td>\n",
       "    </tr>\n",
       "    <tr>\n",
       "      <td>3</td>\n",
       "      <td>3248</td>\n",
       "      <td>HPGD</td>\n",
       "      <td>15-hydroxyprostaglandin dehydrogenase</td>\n",
       "      <td>This gene encodes a member of the short-chain ...</td>\n",
       "      <td>P15428</td>\n",
       "    </tr>\n",
       "    <tr>\n",
       "      <td>4</td>\n",
       "      <td>3248</td>\n",
       "      <td>HPGD</td>\n",
       "      <td>15-hydroxyprostaglandin dehydrogenase</td>\n",
       "      <td>This gene encodes a member of the short-chain ...</td>\n",
       "      <td>P15428</td>\n",
       "    </tr>\n",
       "  </tbody>\n",
       "</table>\n",
       "</div>"
      ],
      "text/plain": [
       "  primaryIdentifier symbol                       briefDescription  \\\n",
       "0              2632   GBE1    1,4-alpha-glucan branching enzyme 1   \n",
       "1              3248   HPGD  15-hydroxyprostaglandin dehydrogenase   \n",
       "2              3248   HPGD  15-hydroxyprostaglandin dehydrogenase   \n",
       "3              3248   HPGD  15-hydroxyprostaglandin dehydrogenase   \n",
       "4              3248   HPGD  15-hydroxyprostaglandin dehydrogenase   \n",
       "\n",
       "                                         description proteins.uniprotAccession  \n",
       "0  The protein encoded by this gene is a glycogen...                    Q04446  \n",
       "1  This gene encodes a member of the short-chain ...                    E9PBZ2  \n",
       "2  This gene encodes a member of the short-chain ...                    P15428  \n",
       "3  This gene encodes a member of the short-chain ...                    P15428  \n",
       "4  This gene encodes a member of the short-chain ...                    P15428  "
      ]
     },
     "metadata": {},
     "output_type": "display_data"
    },
    {
     "name": "stdout",
     "output_type": "stream",
     "text": [
      "Done mapping gene info\n"
     ]
    }
   ],
   "source": [
    "gd = get_gene_descriptions()\n",
    "printmd('sample gene info:')\n",
    "display(gd.head())\n",
    "ncbi2name    = {}\n",
    "ncbi2symbol  = {}\n",
    "symbol2ncbi  = {}\n",
    "ncbi2desc    = {}\n",
    "ncbi2uniprot = {}\n",
    "uniprot2ncbi = {}\n",
    "\n",
    "for i, r in gd.iterrows():\n",
    "    ncbi, symbol, name, description, uniprot = list(r)\n",
    "    ncbi = int(ncbi)\n",
    "    ncbi2name[ncbi] = name\n",
    "    ncbi2symbol[ncbi] = symbol\n",
    "    ncbi2desc[ncbi] = description\n",
    "    \n",
    "    # ncbi <-> uniprot can be 1:many\n",
    "    if ncbi2uniprot.get(ncbi) is None:\n",
    "        ncbi2uniprot[ncbi] = set()\n",
    "    ncbi2uniprot[ncbi].add(uniprot)\n",
    "    uniprot2ncbi[uniprot] = ncbi\n",
    "    \n",
    "print(\"Done mapping gene info\")"
   ]
  },
  {
   "cell_type": "code",
   "execution_count": 5,
   "metadata": {},
   "outputs": [
    {
     "data": {
      "text/markdown": [
       "\n",
       "## Aggregate CCLE cell lines by lineage\n",
       "<b>DepMap source file:</b> sample_info.csv\n",
       "* Group all cell lines (CCLE cell line IDs) by main (parent) lineage\n",
       "* If a lineage has > 1 defined sublineages, also aggregate cell lines by sublineage (eg: leukemia -> AML)\n"
      ],
      "text/plain": [
       "<IPython.core.display.Markdown object>"
      ]
     },
     "metadata": {},
     "output_type": "display_data"
    }
   ],
   "source": [
    "report('''\n",
    "## Aggregate CCLE cell lines by lineage\n",
    "<b>DepMap source file:</b> sample_info.csv\n",
    "* Group all cell lines (CCLE cell line IDs) by main (parent) lineage\n",
    "* If a lineage has > 1 defined sublineages, also aggregate cell lines by sublineage (eg: leukemia -> AML)\n",
    "''')"
   ]
  },
  {
   "cell_type": "code",
   "execution_count": 6,
   "metadata": {},
   "outputs": [
    {
     "data": {
      "text/markdown": [
       "<pre>"
      ],
      "text/plain": [
       "<IPython.core.display.Markdown object>"
      ]
     },
     "metadata": {},
     "output_type": "display_data"
    },
    {
     "data": {
      "text/markdown": [
       "Number of cell lines: 1429"
      ],
      "text/plain": [
       "<IPython.core.display.Markdown object>"
      ]
     },
     "metadata": {},
     "output_type": "display_data"
    },
    {
     "data": {
      "text/markdown": [
       "Number of lineages: 33"
      ],
      "text/plain": [
       "<IPython.core.display.Markdown object>"
      ]
     },
     "metadata": {},
     "output_type": "display_data"
    },
    {
     "data": {
      "text/markdown": [
       "Number of lineages with sub-lineages: 16"
      ],
      "text/plain": [
       "<IPython.core.display.Markdown object>"
      ]
     },
     "metadata": {},
     "output_type": "display_data"
    },
    {
     "data": {
      "text/markdown": [
       "Number of sub-lineages 61"
      ],
      "text/plain": [
       "<IPython.core.display.Markdown object>"
      ]
     },
     "metadata": {},
     "output_type": "display_data"
    },
    {
     "data": {
      "text/markdown": [
       "</pre>"
      ],
      "text/plain": [
       "<IPython.core.display.Markdown object>"
      ]
     },
     "metadata": {},
     "output_type": "display_data"
    }
   ],
   "source": [
    "sample_info = get_data('sample_info')\n",
    "lineages = set(sample_info.lineage.dropna())\n",
    "\n",
    "lineage2cell    = {}\n",
    "sublineage2cell = {}\n",
    "cell2lineage    = {}\n",
    "cell2sublineage = {}\n",
    "has_sub = set()\n",
    "is_sub = set()\n",
    "\n",
    "for l in lineages:\n",
    "    ldf = sample_info[sample_info.lineage == l]\n",
    "    subtypes = set(ldf.lineage_subtype.dropna())\n",
    "    \n",
    "    # cell lines for sublineage\n",
    "    if len(subtypes) > 1:\n",
    "        has_sub.add(l)\n",
    "        for sub in subtypes:\n",
    "            if l in sub:\n",
    "                lname = sub\n",
    "            else:\n",
    "                lname = l + '_' + sub\n",
    "\n",
    "            is_sub.add(lname)\n",
    "            sub_df = ldf[ldf.lineage_subtype == sub]\n",
    "\n",
    "            # map sublineage to cell lines\n",
    "            sublineage2cell[lname] = list(sub_df.index)\n",
    "    \n",
    "            # map cell lines to sub-lineage\n",
    "            for cell in sublineage2cell[lname]:\n",
    "                cell2sublineage[cell] = lname\n",
    "    else:\n",
    "        sublineage2cell[l] = list(ldf.index)\n",
    "        for cell in sublineage2cell[l]:\n",
    "            cell2sublineage[cell] = l\n",
    "                \n",
    "    # all cell lines for lineage\n",
    "    lineage2cell[l] = list(ldf.index)\n",
    "    \n",
    "    # parent lineage of each cell line\n",
    "    for cell in lineage2cell[l]:\n",
    "        cell2lineage[cell] = l\n",
    "    \n",
    "\n",
    "report('<pre>')\n",
    "report(\"Number of cell lines: \"+str(len(cell2lineage)))\n",
    "report(\"Number of lineages: \"+str(len(lineage2cell)))\n",
    "report(\"Number of lineages with sub-lineages: \"+str(len(has_sub)))\n",
    "report(\"Number of sub-lineages \"+str(len(is_sub)))\n",
    "report('</pre>')"
   ]
  },
  {
   "cell_type": "code",
   "execution_count": 7,
   "metadata": {},
   "outputs": [
    {
     "data": {
      "text/markdown": [
       "\n",
       "## Expression Data (RNASeq)\n",
       "RNAseq TPM gene expression data for just protein coding genes using RSEM. Log2 transformed, using a pseudo-count of 1.\n",
       "\n",
       "<b>DepMap source file:</b> CCLE_expression.csv\n",
       "* Transpose columns (gene names) and rows (CCLE cell line IDs)\n",
       "* Translate gene names to NCBI gene IDs\n"
      ],
      "text/plain": [
       "<IPython.core.display.Markdown object>"
      ]
     },
     "metadata": {},
     "output_type": "display_data"
    }
   ],
   "source": [
    "report('''\n",
    "## Expression Data (RNASeq)\n",
    "RNAseq TPM gene expression data for just protein coding genes using RSEM. Log2 transformed, using a pseudo-count of 1.\n",
    "\n",
    "<b>DepMap source file:</b> CCLE_expression.csv\n",
    "* Transpose columns (gene names) and rows (CCLE cell line IDs)\n",
    "* Translate gene names to NCBI gene IDs\n",
    "''')"
   ]
  },
  {
   "cell_type": "code",
   "execution_count": 8,
   "metadata": {},
   "outputs": [
    {
     "data": {
      "text/markdown": [
       "Sample expression data:"
      ],
      "text/plain": [
       "<IPython.core.display.Markdown object>"
      ]
     },
     "metadata": {},
     "output_type": "display_data"
    },
    {
     "data": {
      "text/html": [
       "<div>\n",
       "<style scoped>\n",
       "    .dataframe tbody tr th:only-of-type {\n",
       "        vertical-align: middle;\n",
       "    }\n",
       "\n",
       "    .dataframe tbody tr th {\n",
       "        vertical-align: top;\n",
       "    }\n",
       "\n",
       "    .dataframe thead th {\n",
       "        text-align: right;\n",
       "    }\n",
       "</style>\n",
       "<table border=\"1\" class=\"dataframe\">\n",
       "  <thead>\n",
       "    <tr style=\"text-align: right;\">\n",
       "      <th></th>\n",
       "      <th>ACH-001097</th>\n",
       "      <th>ACH-001485</th>\n",
       "      <th>ACH-001396</th>\n",
       "      <th>ACH-000534</th>\n",
       "      <th>ACH-000742</th>\n",
       "      <th>ACH-001818</th>\n",
       "      <th>ACH-000545</th>\n",
       "      <th>ACH-000836</th>\n",
       "      <th>ACH-001959</th>\n",
       "      <th>ACH-000470</th>\n",
       "      <th>...</th>\n",
       "      <th>ACH-000305</th>\n",
       "      <th>ACH-000916</th>\n",
       "      <th>ACH-000603</th>\n",
       "      <th>ACH-000296</th>\n",
       "      <th>ACH-000978</th>\n",
       "      <th>ACH-000904</th>\n",
       "      <th>ACH-000110</th>\n",
       "      <th>ACH-000031</th>\n",
       "      <th>ACH-000261</th>\n",
       "      <th>ACH-000682</th>\n",
       "    </tr>\n",
       "  </thead>\n",
       "  <tbody>\n",
       "    <tr>\n",
       "      <td>7105</td>\n",
       "      <td>0.000000</td>\n",
       "      <td>0.000000</td>\n",
       "      <td>2.883621</td>\n",
       "      <td>0.839960</td>\n",
       "      <td>3.722466</td>\n",
       "      <td>4.032982</td>\n",
       "      <td>4.251719</td>\n",
       "      <td>4.632268</td>\n",
       "      <td>3.321928</td>\n",
       "      <td>3.681449</td>\n",
       "      <td>...</td>\n",
       "      <td>4.152183</td>\n",
       "      <td>4.997744</td>\n",
       "      <td>0.910733</td>\n",
       "      <td>5.382321</td>\n",
       "      <td>5.002252</td>\n",
       "      <td>4.316870</td>\n",
       "      <td>5.227279</td>\n",
       "      <td>4.714795</td>\n",
       "      <td>4.447579</td>\n",
       "      <td>5.976364</td>\n",
       "    </tr>\n",
       "    <tr>\n",
       "      <td>64102</td>\n",
       "      <td>0.000000</td>\n",
       "      <td>0.000000</td>\n",
       "      <td>0.000000</td>\n",
       "      <td>0.000000</td>\n",
       "      <td>0.000000</td>\n",
       "      <td>0.000000</td>\n",
       "      <td>0.000000</td>\n",
       "      <td>0.000000</td>\n",
       "      <td>0.000000</td>\n",
       "      <td>0.000000</td>\n",
       "      <td>...</td>\n",
       "      <td>0.000000</td>\n",
       "      <td>0.000000</td>\n",
       "      <td>0.000000</td>\n",
       "      <td>0.150560</td>\n",
       "      <td>0.042644</td>\n",
       "      <td>0.028569</td>\n",
       "      <td>0.070389</td>\n",
       "      <td>0.028569</td>\n",
       "      <td>0.028569</td>\n",
       "      <td>0.124328</td>\n",
       "    </tr>\n",
       "    <tr>\n",
       "      <td>8813</td>\n",
       "      <td>4.667324</td>\n",
       "      <td>5.755689</td>\n",
       "      <td>4.471838</td>\n",
       "      <td>5.376082</td>\n",
       "      <td>6.029674</td>\n",
       "      <td>5.933100</td>\n",
       "      <td>5.651052</td>\n",
       "      <td>6.704180</td>\n",
       "      <td>7.357288</td>\n",
       "      <td>7.294896</td>\n",
       "      <td>...</td>\n",
       "      <td>6.024364</td>\n",
       "      <td>5.898450</td>\n",
       "      <td>5.740118</td>\n",
       "      <td>6.551670</td>\n",
       "      <td>6.523719</td>\n",
       "      <td>5.990955</td>\n",
       "      <td>6.764341</td>\n",
       "      <td>6.745910</td>\n",
       "      <td>6.748864</td>\n",
       "      <td>5.983450</td>\n",
       "    </tr>\n",
       "    <tr>\n",
       "      <td>57147</td>\n",
       "      <td>1.761285</td>\n",
       "      <td>2.375735</td>\n",
       "      <td>2.347666</td>\n",
       "      <td>2.687061</td>\n",
       "      <td>2.192194</td>\n",
       "      <td>2.097611</td>\n",
       "      <td>3.440952</td>\n",
       "      <td>2.792855</td>\n",
       "      <td>1.691534</td>\n",
       "      <td>2.400538</td>\n",
       "      <td>...</td>\n",
       "      <td>2.361768</td>\n",
       "      <td>3.814550</td>\n",
       "      <td>2.505891</td>\n",
       "      <td>2.592158</td>\n",
       "      <td>2.613532</td>\n",
       "      <td>3.185867</td>\n",
       "      <td>3.537296</td>\n",
       "      <td>2.776104</td>\n",
       "      <td>2.650765</td>\n",
       "      <td>2.939227</td>\n",
       "    </tr>\n",
       "    <tr>\n",
       "      <td>55732</td>\n",
       "      <td>3.554589</td>\n",
       "      <td>2.634593</td>\n",
       "      <td>3.392317</td>\n",
       "      <td>4.440288</td>\n",
       "      <td>2.533563</td>\n",
       "      <td>1.536053</td>\n",
       "      <td>3.275007</td>\n",
       "      <td>4.079805</td>\n",
       "      <td>4.328406</td>\n",
       "      <td>2.849999</td>\n",
       "      <td>...</td>\n",
       "      <td>1.659925</td>\n",
       "      <td>3.446256</td>\n",
       "      <td>3.161888</td>\n",
       "      <td>4.352617</td>\n",
       "      <td>3.243364</td>\n",
       "      <td>4.846493</td>\n",
       "      <td>4.491212</td>\n",
       "      <td>3.621759</td>\n",
       "      <td>4.607626</td>\n",
       "      <td>2.918386</td>\n",
       "    </tr>\n",
       "  </tbody>\n",
       "</table>\n",
       "<p>5 rows × 1210 columns</p>\n",
       "</div>"
      ],
      "text/plain": [
       "       ACH-001097  ACH-001485  ACH-001396  ACH-000534  ACH-000742  ACH-001818  \\\n",
       "7105     0.000000    0.000000    2.883621    0.839960    3.722466    4.032982   \n",
       "64102    0.000000    0.000000    0.000000    0.000000    0.000000    0.000000   \n",
       "8813     4.667324    5.755689    4.471838    5.376082    6.029674    5.933100   \n",
       "57147    1.761285    2.375735    2.347666    2.687061    2.192194    2.097611   \n",
       "55732    3.554589    2.634593    3.392317    4.440288    2.533563    1.536053   \n",
       "\n",
       "       ACH-000545  ACH-000836  ACH-001959  ACH-000470  ...  ACH-000305  \\\n",
       "7105     4.251719    4.632268    3.321928    3.681449  ...    4.152183   \n",
       "64102    0.000000    0.000000    0.000000    0.000000  ...    0.000000   \n",
       "8813     5.651052    6.704180    7.357288    7.294896  ...    6.024364   \n",
       "57147    3.440952    2.792855    1.691534    2.400538  ...    2.361768   \n",
       "55732    3.275007    4.079805    4.328406    2.849999  ...    1.659925   \n",
       "\n",
       "       ACH-000916  ACH-000603  ACH-000296  ACH-000978  ACH-000904  ACH-000110  \\\n",
       "7105     4.997744    0.910733    5.382321    5.002252    4.316870    5.227279   \n",
       "64102    0.000000    0.000000    0.150560    0.042644    0.028569    0.070389   \n",
       "8813     5.898450    5.740118    6.551670    6.523719    5.990955    6.764341   \n",
       "57147    3.814550    2.505891    2.592158    2.613532    3.185867    3.537296   \n",
       "55732    3.446256    3.161888    4.352617    3.243364    4.846493    4.491212   \n",
       "\n",
       "       ACH-000031  ACH-000261  ACH-000682  \n",
       "7105     4.714795    4.447579    5.976364  \n",
       "64102    0.028569    0.028569    0.124328  \n",
       "8813     6.745910    6.748864    5.983450  \n",
       "57147    2.776104    2.650765    2.939227  \n",
       "55732    3.621759    4.607626    2.918386  \n",
       "\n",
       "[5 rows x 1210 columns]"
      ]
     },
     "metadata": {},
     "output_type": "display_data"
    }
   ],
   "source": [
    "exp = get_data('expression').T\n",
    "exp.index = ncbi_gene_ids(list(exp.index))\n",
    "printmd('Sample expression data:')\n",
    "display(exp.head())"
   ]
  },
  {
   "cell_type": "code",
   "execution_count": 9,
   "metadata": {},
   "outputs": [
    {
     "data": {
      "text/markdown": [
       "\n",
       "## Mutation Data \n",
       "<b>DepMap source file:</b> CCLE_mutations.csv\n",
       "* Keep track of TCGA and COSMIC hotspot genes by lineage\n",
       "* Just using hotspot genes for now but track deleterious mutations by lineage for future reference\n"
      ],
      "text/plain": [
       "<IPython.core.display.Markdown object>"
      ]
     },
     "metadata": {},
     "output_type": "display_data"
    }
   ],
   "source": [
    "report('''\n",
    "## Mutation Data \n",
    "<b>DepMap source file:</b> CCLE_mutations.csv\n",
    "* Keep track of TCGA and COSMIC hotspot genes by lineage\n",
    "* Just using hotspot genes for now but track deleterious mutations by lineage for future reference\n",
    "''')"
   ]
  },
  {
   "cell_type": "code",
   "execution_count": 10,
   "metadata": {},
   "outputs": [],
   "source": [
    "mutations = get_data('mutations')"
   ]
  },
  {
   "cell_type": "code",
   "execution_count": 11,
   "metadata": {},
   "outputs": [
    {
     "name": "stdout",
     "output_type": "stream",
     "text": [
      "Done mapping hotspots\n"
     ]
    },
    {
     "data": {
      "text/markdown": [
       "8704 TCGA or COSMIC hotspot genes"
      ],
      "text/plain": [
       "<IPython.core.display.Markdown object>"
      ]
     },
     "metadata": {},
     "output_type": "display_data"
    }
   ],
   "source": [
    "# Filter hotspot genes\n",
    "hotspots = []\n",
    "hotspots.append(mutations[mutations.isTCGAhotspot])\n",
    "hotspots.append(mutations[mutations.isCOSMIChotspot])\n",
    "hotspots = pd.concat(hotspots).drop_duplicates()\n",
    "\n",
    "hotspot_genes = set(hotspots.Entrez_Gene_Id)\n",
    "\n",
    "lineage_hotspots = {}\n",
    "sublineage_hotspots = {}\n",
    "\n",
    "for g in hotspot_genes:\n",
    "    lineage_hotspots[g] = {}\n",
    "    sublineage_hotspots[g] = {}\n",
    "    \n",
    "    gdf = hotspots[hotspots.Entrez_Gene_Id == g]\n",
    "    \n",
    "    for i, r in gdf.iterrows():\n",
    "        cell = r.DepMap_ID\n",
    "        if cell2lineage.get(cell) is not None:\n",
    "            lineage = cell2lineage[cell]\n",
    "            if lineage_hotspots[g].get(lineage) is None:\n",
    "                lineage_hotspots[g][lineage] = 0\n",
    "            lineage_hotspots[g][lineage] += 1\n",
    "            \n",
    "        if cell2sublineage.get(cell) is not None:\n",
    "            sublineage = cell2sublineage[cell]\n",
    "            if sublineage_hotspots[g].get(sublineage) is None:\n",
    "                sublineage_hotspots[g][sublineage] = 0\n",
    "            sublineage_hotspots[g][sublineage] += 1\n",
    "            \n",
    "print(\"Done mapping hotspots\")\n",
    "report(str(len(hotspot_genes))+' TCGA or COSMIC hotspot genes')"
   ]
  },
  {
   "cell_type": "code",
   "execution_count": 12,
   "metadata": {},
   "outputs": [],
   "source": [
    "# # Filter deleterious mutations\n",
    "# damaging = mutations[mutations.Variant_annotation.isin(['damaging','non-conserving'])]\n",
    "# damaging = damaging[damaging.isDeleterious == True]\n",
    "# genes = set(hotspots.Entrez_Gene_Id)\n",
    "\n",
    "\n",
    "# genes = set(damaging.Entrez_Gene_Id)\n",
    "\n",
    "# lineage_mutations = {}\n",
    "# sublineage_mutations = {}\n",
    "\n",
    "# for g in genes:\n",
    "#     lineage_mutations[g] = {}\n",
    "#     sublineage_mutations[g] = {}\n",
    "    \n",
    "#     gdf = damaging[damaging.Entrez_Gene_Id == g]\n",
    "    \n",
    "#     for i, r in gdf.iterrows():\n",
    "#         cell = r.DepMap_ID\n",
    "#         if cell2lineage.get(cell) is not None:\n",
    "#             lineage = cell2lineage[cell]\n",
    "#             if lineage_mutations[g].get(lineage) is None:\n",
    "#                 lineage_mutations[g][lineage] = 0\n",
    "#             lineage_mutations[g][lineage] += 1\n",
    "            \n",
    "#         if cell2sublineage.get(cell) is not None:\n",
    "#             sublineage = cell2sublineage[cell]\n",
    "#             if sublineage_mutations[g].get(sublineage) is None:\n",
    "#                 sublineage_mutations[g][sublineage] = 0\n",
    "#             sublineage_mutations[g][sublineage] += 1\n",
    "            \n",
    "# print(\"Done mapping deleterious mutations\")"
   ]
  },
  {
   "cell_type": "code",
   "execution_count": 13,
   "metadata": {},
   "outputs": [
    {
     "data": {
      "text/markdown": [
       "\n",
       "## Copy number data\n",
       "Gene level copy number data, log2 transformed with a pseudo count of 1. This is generated by mapping genes onto the segment level calls.\n",
       "\n",
       "<b>Depmap source file:</b> CCLE_gene_cn_v2.csv\n",
       "* Transpose columns (gene names) and rows (CCLE cell line IDs)\n",
       "* Translate gene names to NCBI gene IDs\n"
      ],
      "text/plain": [
       "<IPython.core.display.Markdown object>"
      ]
     },
     "metadata": {},
     "output_type": "display_data"
    }
   ],
   "source": [
    "report('''\n",
    "## Copy number data\n",
    "Gene level copy number data, log2 transformed with a pseudo count of 1. This is generated by mapping genes onto the segment level calls.\n",
    "\n",
    "<b>Depmap source file:</b> CCLE_gene_cn_v2.csv\n",
    "* Transpose columns (gene names) and rows (CCLE cell line IDs)\n",
    "* Translate gene names to NCBI gene IDs\n",
    "''')\n"
   ]
  },
  {
   "cell_type": "code",
   "execution_count": 14,
   "metadata": {},
   "outputs": [
    {
     "data": {
      "text/markdown": [
       "Sample copy number data:"
      ],
      "text/plain": [
       "<IPython.core.display.Markdown object>"
      ]
     },
     "metadata": {},
     "output_type": "display_data"
    },
    {
     "data": {
      "text/html": [
       "<div>\n",
       "<style scoped>\n",
       "    .dataframe tbody tr th:only-of-type {\n",
       "        vertical-align: middle;\n",
       "    }\n",
       "\n",
       "    .dataframe tbody tr th {\n",
       "        vertical-align: top;\n",
       "    }\n",
       "\n",
       "    .dataframe thead th {\n",
       "        text-align: right;\n",
       "    }\n",
       "</style>\n",
       "<table border=\"1\" class=\"dataframe\">\n",
       "  <thead>\n",
       "    <tr style=\"text-align: right;\">\n",
       "      <th></th>\n",
       "      <th>ACH-001793</th>\n",
       "      <th>ACH-002176</th>\n",
       "      <th>ACH-000652</th>\n",
       "      <th>ACH-001295</th>\n",
       "      <th>ACH-000798</th>\n",
       "      <th>ACH-001399</th>\n",
       "      <th>ACH-000111</th>\n",
       "      <th>ACH-002358</th>\n",
       "      <th>ACH-000367</th>\n",
       "      <th>ACH-000584</th>\n",
       "      <th>...</th>\n",
       "      <th>ACH-000280</th>\n",
       "      <th>ACH-001563</th>\n",
       "      <th>ACH-002124</th>\n",
       "      <th>ACH-000286</th>\n",
       "      <th>ACH-001148</th>\n",
       "      <th>ACH-001359</th>\n",
       "      <th>ACH-001560</th>\n",
       "      <th>ACH-001791</th>\n",
       "      <th>ACH-001125</th>\n",
       "      <th>ACH-000110</th>\n",
       "    </tr>\n",
       "  </thead>\n",
       "  <tbody>\n",
       "    <tr>\n",
       "      <td>1</td>\n",
       "      <td>1.086422</td>\n",
       "      <td>1.526188</td>\n",
       "      <td>0.776609</td>\n",
       "      <td>0.964857</td>\n",
       "      <td>0.986651</td>\n",
       "      <td>1.097441</td>\n",
       "      <td>1.577719</td>\n",
       "      <td>0.990491</td>\n",
       "      <td>0.972714</td>\n",
       "      <td>1.232228</td>\n",
       "      <td>...</td>\n",
       "      <td>1.365183</td>\n",
       "      <td>1.027095</td>\n",
       "      <td>1.029024</td>\n",
       "      <td>0.841298</td>\n",
       "      <td>1.045162</td>\n",
       "      <td>1.143302</td>\n",
       "      <td>1.391900</td>\n",
       "      <td>1.001219</td>\n",
       "      <td>1.257749</td>\n",
       "      <td>1.931762</td>\n",
       "    </tr>\n",
       "    <tr>\n",
       "      <td>10</td>\n",
       "      <td>1.103066</td>\n",
       "      <td>1.044267</td>\n",
       "      <td>0.520576</td>\n",
       "      <td>1.001427</td>\n",
       "      <td>0.974178</td>\n",
       "      <td>0.775405</td>\n",
       "      <td>1.209647</td>\n",
       "      <td>1.001602</td>\n",
       "      <td>0.564791</td>\n",
       "      <td>0.379099</td>\n",
       "      <td>...</td>\n",
       "      <td>0.690553</td>\n",
       "      <td>0.995183</td>\n",
       "      <td>1.068430</td>\n",
       "      <td>0.781903</td>\n",
       "      <td>0.986327</td>\n",
       "      <td>0.803954</td>\n",
       "      <td>0.707500</td>\n",
       "      <td>1.262303</td>\n",
       "      <td>1.123967</td>\n",
       "      <td>0.728684</td>\n",
       "    </tr>\n",
       "    <tr>\n",
       "      <td>100</td>\n",
       "      <td>0.910926</td>\n",
       "      <td>1.089161</td>\n",
       "      <td>1.555780</td>\n",
       "      <td>1.010086</td>\n",
       "      <td>0.987801</td>\n",
       "      <td>1.877675</td>\n",
       "      <td>0.826138</td>\n",
       "      <td>0.999580</td>\n",
       "      <td>1.128533</td>\n",
       "      <td>1.254932</td>\n",
       "      <td>...</td>\n",
       "      <td>1.307992</td>\n",
       "      <td>0.996104</td>\n",
       "      <td>1.070793</td>\n",
       "      <td>2.327111</td>\n",
       "      <td>1.037611</td>\n",
       "      <td>1.140260</td>\n",
       "      <td>1.166051</td>\n",
       "      <td>0.953422</td>\n",
       "      <td>1.361431</td>\n",
       "      <td>1.710860</td>\n",
       "    </tr>\n",
       "    <tr>\n",
       "      <td>1000</td>\n",
       "      <td>0.869815</td>\n",
       "      <td>1.093874</td>\n",
       "      <td>0.534269</td>\n",
       "      <td>1.618418</td>\n",
       "      <td>0.975264</td>\n",
       "      <td>0.765916</td>\n",
       "      <td>1.781738</td>\n",
       "      <td>0.999387</td>\n",
       "      <td>0.583207</td>\n",
       "      <td>1.262886</td>\n",
       "      <td>...</td>\n",
       "      <td>0.977053</td>\n",
       "      <td>0.964261</td>\n",
       "      <td>0.992269</td>\n",
       "      <td>0.639639</td>\n",
       "      <td>1.005763</td>\n",
       "      <td>0.793022</td>\n",
       "      <td>1.186009</td>\n",
       "      <td>1.140554</td>\n",
       "      <td>0.753544</td>\n",
       "      <td>0.815800</td>\n",
       "    </tr>\n",
       "    <tr>\n",
       "      <td>10000</td>\n",
       "      <td>1.178887</td>\n",
       "      <td>0.739725</td>\n",
       "      <td>1.072077</td>\n",
       "      <td>1.087050</td>\n",
       "      <td>0.992261</td>\n",
       "      <td>0.823112</td>\n",
       "      <td>1.618552</td>\n",
       "      <td>1.002886</td>\n",
       "      <td>1.185828</td>\n",
       "      <td>1.369970</td>\n",
       "      <td>...</td>\n",
       "      <td>1.320073</td>\n",
       "      <td>0.980081</td>\n",
       "      <td>1.004353</td>\n",
       "      <td>1.169857</td>\n",
       "      <td>1.051142</td>\n",
       "      <td>0.775699</td>\n",
       "      <td>1.177641</td>\n",
       "      <td>1.118604</td>\n",
       "      <td>1.053262</td>\n",
       "      <td>0.989854</td>\n",
       "    </tr>\n",
       "  </tbody>\n",
       "</table>\n",
       "<p>5 rows × 1660 columns</p>\n",
       "</div>"
      ],
      "text/plain": [
       "       ACH-001793  ACH-002176  ACH-000652  ACH-001295  ACH-000798  ACH-001399  \\\n",
       "1        1.086422    1.526188    0.776609    0.964857    0.986651    1.097441   \n",
       "10       1.103066    1.044267    0.520576    1.001427    0.974178    0.775405   \n",
       "100      0.910926    1.089161    1.555780    1.010086    0.987801    1.877675   \n",
       "1000     0.869815    1.093874    0.534269    1.618418    0.975264    0.765916   \n",
       "10000    1.178887    0.739725    1.072077    1.087050    0.992261    0.823112   \n",
       "\n",
       "       ACH-000111  ACH-002358  ACH-000367  ACH-000584  ...  ACH-000280  \\\n",
       "1        1.577719    0.990491    0.972714    1.232228  ...    1.365183   \n",
       "10       1.209647    1.001602    0.564791    0.379099  ...    0.690553   \n",
       "100      0.826138    0.999580    1.128533    1.254932  ...    1.307992   \n",
       "1000     1.781738    0.999387    0.583207    1.262886  ...    0.977053   \n",
       "10000    1.618552    1.002886    1.185828    1.369970  ...    1.320073   \n",
       "\n",
       "       ACH-001563  ACH-002124  ACH-000286  ACH-001148  ACH-001359  ACH-001560  \\\n",
       "1        1.027095    1.029024    0.841298    1.045162    1.143302    1.391900   \n",
       "10       0.995183    1.068430    0.781903    0.986327    0.803954    0.707500   \n",
       "100      0.996104    1.070793    2.327111    1.037611    1.140260    1.166051   \n",
       "1000     0.964261    0.992269    0.639639    1.005763    0.793022    1.186009   \n",
       "10000    0.980081    1.004353    1.169857    1.051142    0.775699    1.177641   \n",
       "\n",
       "       ACH-001791  ACH-001125  ACH-000110  \n",
       "1        1.001219    1.257749    1.931762  \n",
       "10       1.262303    1.123967    0.728684  \n",
       "100      0.953422    1.361431    1.710860  \n",
       "1000     1.140554    0.753544    0.815800  \n",
       "10000    1.118604    1.053262    0.989854  \n",
       "\n",
       "[5 rows x 1660 columns]"
      ]
     },
     "metadata": {},
     "output_type": "display_data"
    },
    {
     "data": {
      "text/markdown": [
       "Copy number data descritive stats:"
      ],
      "text/plain": [
       "<IPython.core.display.Markdown object>"
      ]
     },
     "metadata": {},
     "output_type": "display_data"
    },
    {
     "data": {
      "text/html": [
       "<div>\n",
       "<style scoped>\n",
       "    .dataframe tbody tr th:only-of-type {\n",
       "        vertical-align: middle;\n",
       "    }\n",
       "\n",
       "    .dataframe tbody tr th {\n",
       "        vertical-align: top;\n",
       "    }\n",
       "\n",
       "    .dataframe thead th {\n",
       "        text-align: right;\n",
       "    }\n",
       "</style>\n",
       "<table border=\"1\" class=\"dataframe\">\n",
       "  <thead>\n",
       "    <tr style=\"text-align: right;\">\n",
       "      <th></th>\n",
       "      <th>ACH-001793</th>\n",
       "      <th>ACH-002176</th>\n",
       "      <th>ACH-000652</th>\n",
       "      <th>ACH-001295</th>\n",
       "      <th>ACH-000798</th>\n",
       "      <th>ACH-001399</th>\n",
       "      <th>ACH-000111</th>\n",
       "      <th>ACH-002358</th>\n",
       "      <th>ACH-000367</th>\n",
       "      <th>ACH-000584</th>\n",
       "    </tr>\n",
       "  </thead>\n",
       "  <tbody>\n",
       "    <tr>\n",
       "      <td>count</td>\n",
       "      <td>27639.000000</td>\n",
       "      <td>2.763900e+04</td>\n",
       "      <td>2.763900e+04</td>\n",
       "      <td>2.763900e+04</td>\n",
       "      <td>27639.000000</td>\n",
       "      <td>27639.000000</td>\n",
       "      <td>2.763900e+04</td>\n",
       "      <td>27639.000000</td>\n",
       "      <td>2.763900e+04</td>\n",
       "      <td>27639.000000</td>\n",
       "    </tr>\n",
       "    <tr>\n",
       "      <td>mean</td>\n",
       "      <td>1.098416</td>\n",
       "      <td>1.005611e+00</td>\n",
       "      <td>9.739989e-01</td>\n",
       "      <td>1.061859e+00</td>\n",
       "      <td>1.019288</td>\n",
       "      <td>1.057222</td>\n",
       "      <td>1.127191e+00</td>\n",
       "      <td>0.980485</td>\n",
       "      <td>9.532559e-01</td>\n",
       "      <td>1.057527</td>\n",
       "    </tr>\n",
       "    <tr>\n",
       "      <td>std</td>\n",
       "      <td>1.119507</td>\n",
       "      <td>3.482645e-01</td>\n",
       "      <td>2.416796e-01</td>\n",
       "      <td>6.685549e-01</td>\n",
       "      <td>0.123101</td>\n",
       "      <td>0.306522</td>\n",
       "      <td>3.919352e-01</td>\n",
       "      <td>0.092264</td>\n",
       "      <td>2.693422e-01</td>\n",
       "      <td>0.366487</td>\n",
       "    </tr>\n",
       "    <tr>\n",
       "      <td>min</td>\n",
       "      <td>0.171960</td>\n",
       "      <td>7.998209e-10</td>\n",
       "      <td>8.220704e-10</td>\n",
       "      <td>7.984062e-10</td>\n",
       "      <td>0.000036</td>\n",
       "      <td>0.000020</td>\n",
       "      <td>1.102449e-09</td>\n",
       "      <td>0.000021</td>\n",
       "      <td>8.282854e-10</td>\n",
       "      <td>0.000009</td>\n",
       "    </tr>\n",
       "    <tr>\n",
       "      <td>25%</td>\n",
       "      <td>0.889299</td>\n",
       "      <td>7.318536e-01</td>\n",
       "      <td>7.900758e-01</td>\n",
       "      <td>9.845272e-01</td>\n",
       "      <td>0.982870</td>\n",
       "      <td>0.812673</td>\n",
       "      <td>8.295737e-01</td>\n",
       "      <td>0.993549</td>\n",
       "      <td>6.015790e-01</td>\n",
       "      <td>0.700131</td>\n",
       "    </tr>\n",
       "    <tr>\n",
       "      <td>50%</td>\n",
       "      <td>1.053484</td>\n",
       "      <td>1.045336e+00</td>\n",
       "      <td>1.027553e+00</td>\n",
       "      <td>9.942944e-01</td>\n",
       "      <td>0.986097</td>\n",
       "      <td>1.003401</td>\n",
       "      <td>9.373404e-01</td>\n",
       "      <td>0.999580</td>\n",
       "      <td>1.056217e+00</td>\n",
       "      <td>0.990265</td>\n",
       "    </tr>\n",
       "    <tr>\n",
       "      <td>75%</td>\n",
       "      <td>1.113955</td>\n",
       "      <td>1.111985e+00</td>\n",
       "      <td>1.068509e+00</td>\n",
       "      <td>1.002200e+00</td>\n",
       "      <td>0.989550</td>\n",
       "      <td>1.120454</td>\n",
       "      <td>1.321072e+00</td>\n",
       "      <td>1.002886</td>\n",
       "      <td>1.131187e+00</td>\n",
       "      <td>1.262886</td>\n",
       "    </tr>\n",
       "    <tr>\n",
       "      <td>max</td>\n",
       "      <td>35.734800</td>\n",
       "      <td>4.952679e+00</td>\n",
       "      <td>4.804283e+00</td>\n",
       "      <td>3.963217e+01</td>\n",
       "      <td>1.462469</td>\n",
       "      <td>3.217691</td>\n",
       "      <td>3.229879e+00</td>\n",
       "      <td>1.006658</td>\n",
       "      <td>1.729972e+00</td>\n",
       "      <td>3.354475</td>\n",
       "    </tr>\n",
       "  </tbody>\n",
       "</table>\n",
       "</div>"
      ],
      "text/plain": [
       "         ACH-001793    ACH-002176    ACH-000652    ACH-001295    ACH-000798  \\\n",
       "count  27639.000000  2.763900e+04  2.763900e+04  2.763900e+04  27639.000000   \n",
       "mean       1.098416  1.005611e+00  9.739989e-01  1.061859e+00      1.019288   \n",
       "std        1.119507  3.482645e-01  2.416796e-01  6.685549e-01      0.123101   \n",
       "min        0.171960  7.998209e-10  8.220704e-10  7.984062e-10      0.000036   \n",
       "25%        0.889299  7.318536e-01  7.900758e-01  9.845272e-01      0.982870   \n",
       "50%        1.053484  1.045336e+00  1.027553e+00  9.942944e-01      0.986097   \n",
       "75%        1.113955  1.111985e+00  1.068509e+00  1.002200e+00      0.989550   \n",
       "max       35.734800  4.952679e+00  4.804283e+00  3.963217e+01      1.462469   \n",
       "\n",
       "         ACH-001399    ACH-000111    ACH-002358    ACH-000367    ACH-000584  \n",
       "count  27639.000000  2.763900e+04  27639.000000  2.763900e+04  27639.000000  \n",
       "mean       1.057222  1.127191e+00      0.980485  9.532559e-01      1.057527  \n",
       "std        0.306522  3.919352e-01      0.092264  2.693422e-01      0.366487  \n",
       "min        0.000020  1.102449e-09      0.000021  8.282854e-10      0.000009  \n",
       "25%        0.812673  8.295737e-01      0.993549  6.015790e-01      0.700131  \n",
       "50%        1.003401  9.373404e-01      0.999580  1.056217e+00      0.990265  \n",
       "75%        1.120454  1.321072e+00      1.002886  1.131187e+00      1.262886  \n",
       "max        3.217691  3.229879e+00      1.006658  1.729972e+00      3.354475  "
      ]
     },
     "metadata": {},
     "output_type": "display_data"
    }
   ],
   "source": [
    "cn = get_data('copy_number')\n",
    "cn.columns = ncbi_gene_ids(list(cn.columns))\n",
    "\n",
    "# cn.columns = ncbi_gene_ids(list(cn.columns))\n",
    "# print(cn.shape)\n",
    "# keep_genes = []\n",
    "# for g in cn.columns:\n",
    "#     if g in hotspot_genes:\n",
    "#         keep_genes.append(g)\n",
    "# cn = cn[keep_genes]\n",
    "# print(cn.shape)\n",
    "cn = cn.T\n",
    "printmd('Sample copy number data:')\n",
    "display(cn.head())\n",
    "report('Copy number data descritive stats:')\n",
    "display(cn.iloc[:,:10].describe())"
   ]
  },
  {
   "cell_type": "code",
   "execution_count": 15,
   "metadata": {},
   "outputs": [
    {
     "data": {
      "text/markdown": [
       "\n",
       "## Search for high copy number genes in each of the lineages\n",
       "* Seleting genes with copy number > 2 in <b><i>all</i></b> cell lines is a lineage is a bit too stringent\n",
       "* Retain genes that have copy number >= 2 in 80% or more cell lines in a lineage\n",
       "* Extract the data for any cell lines with high copy number genes to use as plotting baseline\n"
      ],
      "text/plain": [
       "<IPython.core.display.Markdown object>"
      ]
     },
     "metadata": {},
     "output_type": "display_data"
    }
   ],
   "source": [
    "report('''\n",
    "## Search for high copy number genes in each of the lineages\n",
    "* Seleting genes with copy number > 2 in <b><i>all</i></b> cell lines is a lineage is a bit too stringent\n",
    "* Retain genes that have copy number >= 2 in 80% or more cell lines in a lineage\n",
    "* Extract the data for any cell lines with high copy number genes to use as plotting baseline\n",
    "''')"
   ]
  },
  {
   "cell_type": "code",
   "execution_count": 16,
   "metadata": {},
   "outputs": [
    {
     "data": {
      "text/markdown": [
       "<pre>"
      ],
      "text/plain": [
       "<IPython.core.display.Markdown object>"
      ]
     },
     "metadata": {},
     "output_type": "display_data"
    },
    {
     "data": {
      "text/markdown": [
       "lung_immortalized; 1 cell lines; 6 high copy number genes"
      ],
      "text/plain": [
       "<IPython.core.display.Markdown object>"
      ]
     },
     "metadata": {},
     "output_type": "display_data"
    },
    {
     "data": {
      "text/markdown": [
       "lymphoblastic_lymphoma; 1 cell lines; 311 high copy number genes"
      ],
      "text/plain": [
       "<IPython.core.display.Markdown object>"
      ]
     },
     "metadata": {},
     "output_type": "display_data"
    },
    {
     "data": {
      "text/markdown": [
       "adrenal_cortex; 1 cell lines; 200 high copy number genes"
      ],
      "text/plain": [
       "<IPython.core.display.Markdown object>"
      ]
     },
     "metadata": {},
     "output_type": "display_data"
    },
    {
     "data": {
      "text/markdown": [
       "esophagus_adenocarcinoma; 7 cell lines; 7 high copy number genes"
      ],
      "text/plain": [
       "<IPython.core.display.Markdown object>"
      ]
     },
     "metadata": {},
     "output_type": "display_data"
    },
    {
     "data": {
      "text/markdown": [
       "bone_chordoma; 4 cell lines; 11 high copy number genes"
      ],
      "text/plain": [
       "<IPython.core.display.Markdown object>"
      ]
     },
     "metadata": {},
     "output_type": "display_data"
    },
    {
     "data": {
      "text/markdown": [
       "breast_ERneg; 1 cell lines; 960 high copy number genes"
      ],
      "text/plain": [
       "<IPython.core.display.Markdown object>"
      ]
     },
     "metadata": {},
     "output_type": "display_data"
    },
    {
     "data": {
      "text/markdown": [
       "breast_immortalized; 2 cell lines; 8 high copy number genes"
      ],
      "text/plain": [
       "<IPython.core.display.Markdown object>"
      ]
     },
     "metadata": {},
     "output_type": "display_data"
    },
    {
     "data": {
      "text/markdown": [
       "breast_HER2Amp; 13 cell lines; 11 high copy number genes"
      ],
      "text/plain": [
       "<IPython.core.display.Markdown object>"
      ]
     },
     "metadata": {},
     "output_type": "display_data"
    },
    {
     "data": {
      "text/markdown": [
       "peripheral_nervous_system_PNET; 1 cell lines; 22 high copy number genes"
      ],
      "text/plain": [
       "<IPython.core.display.Markdown object>"
      ]
     },
     "metadata": {},
     "output_type": "display_data"
    },
    {
     "data": {
      "text/markdown": [
       "ovary_immortalized; 1 cell lines; 9 high copy number genes"
      ],
      "text/plain": [
       "<IPython.core.display.Markdown object>"
      ]
     },
     "metadata": {},
     "output_type": "display_data"
    },
    {
     "data": {
      "text/markdown": [
       "eye_uveal_melanoma; 5 cell lines; 1016 high copy number genes"
      ],
      "text/plain": [
       "<IPython.core.display.Markdown object>"
      ]
     },
     "metadata": {},
     "output_type": "display_data"
    },
    {
     "data": {
      "text/markdown": [
       "central_nervous_system_immortalized; 1 cell lines; 26 high copy number genes"
      ],
      "text/plain": [
       "<IPython.core.display.Markdown object>"
      ]
     },
     "metadata": {},
     "output_type": "display_data"
    },
    {
     "data": {
      "text/markdown": [
       "central_nervous_system_PNET; 1 cell lines; 2 high copy number genes"
      ],
      "text/plain": [
       "<IPython.core.display.Markdown object>"
      ]
     },
     "metadata": {},
     "output_type": "display_data"
    },
    {
     "data": {
      "text/markdown": [
       "soft_tissue_epitheliod_sarcoma; 2 cell lines; 2 high copy number genes"
      ],
      "text/plain": [
       "<IPython.core.display.Markdown object>"
      ]
     },
     "metadata": {},
     "output_type": "display_data"
    },
    {
     "data": {
      "text/markdown": [
       "soft_tissue_liposarcoma; 5 cell lines; 44 high copy number genes"
      ],
      "text/plain": [
       "<IPython.core.display.Markdown object>"
      ]
     },
     "metadata": {},
     "output_type": "display_data"
    },
    {
     "data": {
      "text/markdown": [
       "soft_tissue_sarcoma_undifferentiated; 2 cell lines; 164 high copy number genes"
      ],
      "text/plain": [
       "<IPython.core.display.Markdown object>"
      ]
     },
     "metadata": {},
     "output_type": "display_data"
    },
    {
     "data": {
      "text/markdown": [
       "soft_tissue_fibrosarcoma; 1 cell lines; 2 high copy number genes"
      ],
      "text/plain": [
       "<IPython.core.display.Markdown object>"
      ]
     },
     "metadata": {},
     "output_type": "display_data"
    },
    {
     "data": {
      "text/markdown": [
       "gastric_adenosquamous; 1 cell lines; 508 high copy number genes"
      ],
      "text/plain": [
       "<IPython.core.display.Markdown object>"
      ]
     },
     "metadata": {},
     "output_type": "display_data"
    },
    {
     "data": {
      "text/markdown": [
       "skin_epidermoid_carcinoma; 1 cell lines; 234 high copy number genes"
      ],
      "text/plain": [
       "<IPython.core.display.Markdown object>"
      ]
     },
     "metadata": {},
     "output_type": "display_data"
    },
    {
     "data": {
      "text/markdown": [
       "skin_squamous; 3 cell lines; 251 high copy number genes"
      ],
      "text/plain": [
       "<IPython.core.display.Markdown object>"
      ]
     },
     "metadata": {},
     "output_type": "display_data"
    },
    {
     "data": {
      "text/markdown": [
       "upper_aerodigestive_buccal_mucosa; 1 cell lines; 592 high copy number genes"
      ],
      "text/plain": [
       "<IPython.core.display.Markdown object>"
      ]
     },
     "metadata": {},
     "output_type": "display_data"
    },
    {
     "data": {
      "text/markdown": [
       "</pre>"
      ],
      "text/plain": [
       "<IPython.core.display.Markdown object>"
      ]
     },
     "metadata": {},
     "output_type": "display_data"
    }
   ],
   "source": [
    "# for each cell line, get all of the genes with copy number > 2\n",
    "keep_common_genes = []\n",
    "keep_common_cells = []\n",
    "keep_lineage = set()\n",
    "save_rows = []\n",
    "\n",
    "report('<pre>')\n",
    "for sublin in sublineage2cell:\n",
    "    cells = sublineage2cell[sublin]\n",
    "    #print(sublin,len(cells))\n",
    "    \n",
    "    best = {}\n",
    "    for cell in cells:\n",
    "        try:\n",
    "            cdf = cn[cell]\n",
    "            cdf = cdf[cdf >= 2]\n",
    "            best[cell] = set(cdf.index)\n",
    "            for g in cdf.keys():\n",
    "                row = [cell,sublin,ncbi2symbol[g],g,cdf[g]]\n",
    "                save_rows.append(row)\n",
    "        except Exception as e:\n",
    "            #print('Error',e)\n",
    "            continue\n",
    "            \n",
    "    \n",
    "    best_genes = list(best.values())\n",
    "    set1 = best_genes.pop()\n",
    "    all_genes = set1.union(*best_genes)\n",
    "\n",
    "    total = len(best_genes) + 1\n",
    "    common_genes = []\n",
    "    for g in all_genes:\n",
    "        gcount = 0\n",
    "        for gset in [set1,*best_genes]:\n",
    "            if g in gset:\n",
    "                gcount += 1\n",
    "        if gcount / total >= 0.8:\n",
    "            common_genes.append(g)\n",
    "        \n",
    "        \n",
    "    keep_common_genes.extend(common_genes)\n",
    "    common_symbols = [ncbi2symbol.get(g) for g in common_genes]\n",
    "    if len(common_genes) > 0:\n",
    "        keep_lineage.add(sublin)\n",
    "        keep_common_cells.extend(cells)\n",
    "        report(sublin+'; '+str(len(cells))+' cell lines; '+str(len(common_genes))+' high copy number genes')\n",
    "report('</pre>')\n",
    "        \n",
    "\n",
    "keep_common_genes = set(keep_common_genes)\n",
    "keep_common_cells = set(keep_common_cells)"
   ]
  },
  {
   "cell_type": "code",
   "execution_count": 17,
   "metadata": {},
   "outputs": [
    {
     "data": {
      "text/markdown": [
       "\n",
       "## DEMETER2 RNAi gene dependency data\n",
       "Cancer cell line genetic dependencies estimated using the DEMETER2 model. DEMETER2 is applied to three large-scale RNAi screening datasets: the Broad Institute Project Achilles, Novartis Project DRIVE, and the Marcotte et al. breast cell line dataset. The model is also applied to generate a combined dataset of gene dependencies covering a total of 712 unique cancer cell lines.\n",
       "\n",
       "<b>DepMap source file:</b> D2_combined_gene_dep_scores.csv \n",
       "\n",
       "* Data source uses CCLE names rather than DepMap cell line IDS\n",
       "* Translate the cell line names to IDS for consistency with other data sources\n",
       "* Also deal with rows in the table with multiple gene names (eg 'GTF2IP4&GTF2IP1 (100093631&2970)')\n"
      ],
      "text/plain": [
       "<IPython.core.display.Markdown object>"
      ]
     },
     "metadata": {},
     "output_type": "display_data"
    }
   ],
   "source": [
    "report('''\n",
    "## DEMETER2 RNAi gene dependency data\n",
    "Cancer cell line genetic dependencies estimated using the DEMETER2 model. DEMETER2 is applied to three large-scale RNAi screening datasets: the Broad Institute Project Achilles, Novartis Project DRIVE, and the Marcotte et al. breast cell line dataset. The model is also applied to generate a combined dataset of gene dependencies covering a total of 712 unique cancer cell lines.\n",
    "\n",
    "<b>DepMap source file:</b> D2_combined_gene_dep_scores.csv \n",
    "\n",
    "* Data source uses CCLE names rather than DepMap cell line IDS\n",
    "* Translate the cell line names to IDS for consistency with other data sources\n",
    "* Also deal with rows in the table with multiple gene names (eg 'GTF2IP4&GTF2IP1 (100093631&2970)')\n",
    "''')"
   ]
  },
  {
   "cell_type": "code",
   "execution_count": 18,
   "metadata": {},
   "outputs": [
    {
     "name": "stdout",
     "output_type": "stream",
     "text": [
      "Initial number of rows in dataframe: 17309\n",
      "Splitting multigene rows...\n",
      "Final number of rows in dataframe: 17731\n"
     ]
    }
   ],
   "source": [
    "# Ingest data\n",
    "d2 = get_data('d2_rnai')\n",
    "print(\"Initial number of rows in dataframe:\",d2.shape[0])\n",
    "# split rows with multuple genes\n",
    "cols = ['gene'] + list(d2.columns)\n",
    "rows = []\n",
    "\n",
    "print(\"Splitting multigene rows...\")\n",
    "for i, r in d2.iterrows():\n",
    "    if '&' in i:\n",
    "        symbols, ncbi = i.split(' ')\n",
    "        symbols = symbols.split('&')\n",
    "        ncbi = re.sub('\\(|\\)','',ncbi)\n",
    "        ncbi = ncbi.split('&')\n",
    "        assert len(symbols) == len(ncbi), \"Length mismatch\"\n",
    "        for s, symbol in enumerate(symbols):\n",
    "            gid = ncbi[s]\n",
    "            row = [symbol+' ('+gid+')'] + list(r)\n",
    "            rows.append(row)\n",
    "    else:\n",
    "        rows.append([i]+list(r))\n",
    "d2 = pd.DataFrame(data=rows,columns=cols).set_index('gene')\n",
    "print(\"Final number of rows in dataframe:\",d2.shape[0])"
   ]
  },
  {
   "cell_type": "code",
   "execution_count": 19,
   "metadata": {},
   "outputs": [
    {
     "name": "stdout",
     "output_type": "stream",
     "text": [
      "17731 genes\n",
      "712 cell lines\n"
     ]
    },
    {
     "data": {
      "text/html": [
       "<div>\n",
       "<style scoped>\n",
       "    .dataframe tbody tr th:only-of-type {\n",
       "        vertical-align: middle;\n",
       "    }\n",
       "\n",
       "    .dataframe tbody tr th {\n",
       "        vertical-align: top;\n",
       "    }\n",
       "\n",
       "    .dataframe thead th {\n",
       "        text-align: right;\n",
       "    }\n",
       "</style>\n",
       "<table border=\"1\" class=\"dataframe\">\n",
       "  <thead>\n",
       "    <tr style=\"text-align: right;\">\n",
       "      <th></th>\n",
       "      <th>ACH-001270</th>\n",
       "      <th>ACH-001000</th>\n",
       "      <th>ACH-001001</th>\n",
       "      <th>ACH-002319</th>\n",
       "      <th>ACH-001827</th>\n",
       "      <th>ACH-000956</th>\n",
       "      <th>ACH-000948</th>\n",
       "      <th>ACH-002320</th>\n",
       "      <th>ACH-000070</th>\n",
       "      <th>ACH-000411</th>\n",
       "      <th>...</th>\n",
       "      <th>ACH-000899</th>\n",
       "      <th>ACH-000765</th>\n",
       "      <th>ACH-000534</th>\n",
       "      <th>ACH-000762</th>\n",
       "      <th>ACH-000630</th>\n",
       "      <th>ACH-000570</th>\n",
       "      <th>ACH-001249</th>\n",
       "      <th>ACH-000097</th>\n",
       "      <th>ACH-000828</th>\n",
       "      <th>ACH-002331</th>\n",
       "    </tr>\n",
       "  </thead>\n",
       "  <tbody>\n",
       "    <tr>\n",
       "      <td>1</td>\n",
       "      <td>NaN</td>\n",
       "      <td>NaN</td>\n",
       "      <td>0.146042</td>\n",
       "      <td>-0.190388</td>\n",
       "      <td>0.907063</td>\n",
       "      <td>-0.019331</td>\n",
       "      <td>-0.016734</td>\n",
       "      <td>0.091580</td>\n",
       "      <td>0.035023</td>\n",
       "      <td>-0.122046</td>\n",
       "      <td>...</td>\n",
       "      <td>-0.088267</td>\n",
       "      <td>0.002171</td>\n",
       "      <td>NaN</td>\n",
       "      <td>0.120294</td>\n",
       "      <td>0.012540</td>\n",
       "      <td>0.111530</td>\n",
       "      <td>NaN</td>\n",
       "      <td>-0.079313</td>\n",
       "      <td>-0.141559</td>\n",
       "      <td>0.214268</td>\n",
       "    </tr>\n",
       "    <tr>\n",
       "      <td>10</td>\n",
       "      <td>NaN</td>\n",
       "      <td>NaN</td>\n",
       "      <td>0.102854</td>\n",
       "      <td>0.384106</td>\n",
       "      <td>0.403192</td>\n",
       "      <td>0.001925</td>\n",
       "      <td>-0.153933</td>\n",
       "      <td>-0.317969</td>\n",
       "      <td>0.012341</td>\n",
       "      <td>-0.205077</td>\n",
       "      <td>...</td>\n",
       "      <td>-0.003747</td>\n",
       "      <td>-0.321445</td>\n",
       "      <td>NaN</td>\n",
       "      <td>-0.003256</td>\n",
       "      <td>-0.220472</td>\n",
       "      <td>0.073460</td>\n",
       "      <td>NaN</td>\n",
       "      <td>-0.130921</td>\n",
       "      <td>0.127358</td>\n",
       "      <td>-0.405974</td>\n",
       "    </tr>\n",
       "    <tr>\n",
       "      <td>100</td>\n",
       "      <td>NaN</td>\n",
       "      <td>NaN</td>\n",
       "      <td>0.168839</td>\n",
       "      <td>-0.120700</td>\n",
       "      <td>0.004394</td>\n",
       "      <td>-0.188700</td>\n",
       "      <td>-0.060818</td>\n",
       "      <td>-0.755058</td>\n",
       "      <td>0.129770</td>\n",
       "      <td>0.076273</td>\n",
       "      <td>...</td>\n",
       "      <td>-0.014085</td>\n",
       "      <td>0.039679</td>\n",
       "      <td>NaN</td>\n",
       "      <td>0.076521</td>\n",
       "      <td>0.106995</td>\n",
       "      <td>0.227977</td>\n",
       "      <td>NaN</td>\n",
       "      <td>-0.134479</td>\n",
       "      <td>0.083506</td>\n",
       "      <td>-0.404291</td>\n",
       "    </tr>\n",
       "    <tr>\n",
       "      <td>1000</td>\n",
       "      <td>-0.194962</td>\n",
       "      <td>-0.028171</td>\n",
       "      <td>0.063047</td>\n",
       "      <td>-0.237251</td>\n",
       "      <td>-0.017059</td>\n",
       "      <td>-0.103047</td>\n",
       "      <td>-0.049460</td>\n",
       "      <td>0.130107</td>\n",
       "      <td>0.146864</td>\n",
       "      <td>-0.126198</td>\n",
       "      <td>...</td>\n",
       "      <td>-0.073435</td>\n",
       "      <td>-0.140041</td>\n",
       "      <td>-0.154436</td>\n",
       "      <td>-0.040308</td>\n",
       "      <td>-0.078707</td>\n",
       "      <td>0.000769</td>\n",
       "      <td>-0.139126</td>\n",
       "      <td>0.047022</td>\n",
       "      <td>-0.097644</td>\n",
       "      <td>-0.062622</td>\n",
       "    </tr>\n",
       "    <tr>\n",
       "      <td>10000</td>\n",
       "      <td>-0.256108</td>\n",
       "      <td>0.100751</td>\n",
       "      <td>-0.008077</td>\n",
       "      <td>0.060267</td>\n",
       "      <td>-0.094749</td>\n",
       "      <td>-0.066591</td>\n",
       "      <td>0.166029</td>\n",
       "      <td>0.149969</td>\n",
       "      <td>-0.053022</td>\n",
       "      <td>0.092426</td>\n",
       "      <td>...</td>\n",
       "      <td>0.028714</td>\n",
       "      <td>-0.054628</td>\n",
       "      <td>0.450581</td>\n",
       "      <td>0.002932</td>\n",
       "      <td>0.129679</td>\n",
       "      <td>-0.072564</td>\n",
       "      <td>0.017161</td>\n",
       "      <td>0.123615</td>\n",
       "      <td>0.046846</td>\n",
       "      <td>0.125711</td>\n",
       "    </tr>\n",
       "  </tbody>\n",
       "</table>\n",
       "<p>5 rows × 712 columns</p>\n",
       "</div>"
      ],
      "text/plain": [
       "       ACH-001270  ACH-001000  ACH-001001  ACH-002319  ACH-001827  ACH-000956  \\\n",
       "1             NaN         NaN    0.146042   -0.190388    0.907063   -0.019331   \n",
       "10            NaN         NaN    0.102854    0.384106    0.403192    0.001925   \n",
       "100           NaN         NaN    0.168839   -0.120700    0.004394   -0.188700   \n",
       "1000    -0.194962   -0.028171    0.063047   -0.237251   -0.017059   -0.103047   \n",
       "10000   -0.256108    0.100751   -0.008077    0.060267   -0.094749   -0.066591   \n",
       "\n",
       "       ACH-000948  ACH-002320  ACH-000070  ACH-000411  ...  ACH-000899  \\\n",
       "1       -0.016734    0.091580    0.035023   -0.122046  ...   -0.088267   \n",
       "10      -0.153933   -0.317969    0.012341   -0.205077  ...   -0.003747   \n",
       "100     -0.060818   -0.755058    0.129770    0.076273  ...   -0.014085   \n",
       "1000    -0.049460    0.130107    0.146864   -0.126198  ...   -0.073435   \n",
       "10000    0.166029    0.149969   -0.053022    0.092426  ...    0.028714   \n",
       "\n",
       "       ACH-000765  ACH-000534  ACH-000762  ACH-000630  ACH-000570  ACH-001249  \\\n",
       "1        0.002171         NaN    0.120294    0.012540    0.111530         NaN   \n",
       "10      -0.321445         NaN   -0.003256   -0.220472    0.073460         NaN   \n",
       "100      0.039679         NaN    0.076521    0.106995    0.227977         NaN   \n",
       "1000    -0.140041   -0.154436   -0.040308   -0.078707    0.000769   -0.139126   \n",
       "10000   -0.054628    0.450581    0.002932    0.129679   -0.072564    0.017161   \n",
       "\n",
       "       ACH-000097  ACH-000828  ACH-002331  \n",
       "1       -0.079313   -0.141559    0.214268  \n",
       "10      -0.130921    0.127358   -0.405974  \n",
       "100     -0.134479    0.083506   -0.404291  \n",
       "1000     0.047022   -0.097644   -0.062622  \n",
       "10000    0.123615    0.046846    0.125711  \n",
       "\n",
       "[5 rows x 712 columns]"
      ]
     },
     "execution_count": 19,
     "metadata": {},
     "output_type": "execute_result"
    }
   ],
   "source": [
    "# Map cell line names to IDs\n",
    "sample_info = get_data('sample_info')\n",
    "ccle_name2id = {}\n",
    "for i, r in sample_info.iterrows():\n",
    "    ccle_name2id[r['CCLE Name']] = i \n",
    "\n",
    "cell_line_names = list(d2.columns)\n",
    "\n",
    "# Rename columns to use CCLE IDs and rows to use NCBI gene IDs\n",
    "if isinstance(list(d2.index)[0],str):\n",
    "    d2.columns = [ccle_name2id.get(i) or i for i in cell_line_names]\n",
    "    d2.index = ncbi_gene_ids(list(d2.index))\n",
    "print(d2.shape[0],\"genes\")\n",
    "print(d2.shape[1],\"cell lines\")\n",
    "d2.head()"
   ]
  },
  {
   "cell_type": "code",
   "execution_count": 20,
   "metadata": {},
   "outputs": [
    {
     "data": {
      "text/markdown": [
       "\n",
       "## Achilles Crispr gene dependency data\n",
       "CERES data with principle components strongly related to known batch effects removed, then shifted and scaled per cell line so the median nonessential KO effect is 0 and the median essential KO effect is -1.\n",
       "\n",
       "<b>DepMap source file:</b> Achilles_gene_effect.csv \n",
       "\n",
       "* Translate gene names (column labels) to NCBI IDS\n",
       "* Transpose rows and columns so each cell line is a column label with vertivally stacked gene data\n"
      ],
      "text/plain": [
       "<IPython.core.display.Markdown object>"
      ]
     },
     "metadata": {},
     "output_type": "display_data"
    }
   ],
   "source": [
    "report('''\n",
    "## Achilles Crispr gene dependency data\n",
    "CERES data with principle components strongly related to known batch effects removed, then shifted and scaled per cell line so the median nonessential KO effect is 0 and the median essential KO effect is -1.\n",
    "\n",
    "<b>DepMap source file:</b> Achilles_gene_effect.csv \n",
    "\n",
    "* Translate gene names (column labels) to NCBI IDS\n",
    "* Transpose rows and columns so each cell line is a column label with vertivally stacked gene data\n",
    "''')"
   ]
  },
  {
   "cell_type": "code",
   "execution_count": 21,
   "metadata": {},
   "outputs": [
    {
     "name": "stdout",
     "output_type": "stream",
     "text": [
      "18333 genes\n",
      "625 cell lines\n"
     ]
    },
    {
     "data": {
      "text/markdown": [
       "Sample Achilles data:"
      ],
      "text/plain": [
       "<IPython.core.display.Markdown object>"
      ]
     },
     "metadata": {},
     "output_type": "display_data"
    },
    {
     "data": {
      "text/html": [
       "<div>\n",
       "<style scoped>\n",
       "    .dataframe tbody tr th:only-of-type {\n",
       "        vertical-align: middle;\n",
       "    }\n",
       "\n",
       "    .dataframe tbody tr th {\n",
       "        vertical-align: top;\n",
       "    }\n",
       "\n",
       "    .dataframe thead th {\n",
       "        text-align: right;\n",
       "    }\n",
       "</style>\n",
       "<table border=\"1\" class=\"dataframe\">\n",
       "  <thead>\n",
       "    <tr style=\"text-align: right;\">\n",
       "      <th></th>\n",
       "      <th>ACH-000004</th>\n",
       "      <th>ACH-000005</th>\n",
       "      <th>ACH-000007</th>\n",
       "      <th>ACH-000009</th>\n",
       "      <th>ACH-000011</th>\n",
       "      <th>ACH-000012</th>\n",
       "      <th>ACH-000013</th>\n",
       "      <th>ACH-000014</th>\n",
       "      <th>ACH-000015</th>\n",
       "      <th>ACH-000017</th>\n",
       "      <th>...</th>\n",
       "      <th>ACH-001736</th>\n",
       "      <th>ACH-001737</th>\n",
       "      <th>ACH-001740</th>\n",
       "      <th>ACH-001745</th>\n",
       "      <th>ACH-001750</th>\n",
       "      <th>ACH-001765</th>\n",
       "      <th>ACH-001814</th>\n",
       "      <th>ACH-001838</th>\n",
       "      <th>ACH-001956</th>\n",
       "      <th>ACH-001957</th>\n",
       "    </tr>\n",
       "  </thead>\n",
       "  <tbody>\n",
       "    <tr>\n",
       "      <td>1</td>\n",
       "      <td>0.168684</td>\n",
       "      <td>-0.068759</td>\n",
       "      <td>0.053893</td>\n",
       "      <td>0.059874</td>\n",
       "      <td>0.277165</td>\n",
       "      <td>0.008073</td>\n",
       "      <td>0.062131</td>\n",
       "      <td>0.143078</td>\n",
       "      <td>-0.090890</td>\n",
       "      <td>0.178427</td>\n",
       "      <td>...</td>\n",
       "      <td>0.154567</td>\n",
       "      <td>-0.050307</td>\n",
       "      <td>0.005125</td>\n",
       "      <td>0.208843</td>\n",
       "      <td>0.044674</td>\n",
       "      <td>0.136364</td>\n",
       "      <td>0.216507</td>\n",
       "      <td>-0.086149</td>\n",
       "      <td>-0.076893</td>\n",
       "      <td>0.055750</td>\n",
       "    </tr>\n",
       "    <tr>\n",
       "      <td>29974</td>\n",
       "      <td>0.089128</td>\n",
       "      <td>0.218792</td>\n",
       "      <td>0.081444</td>\n",
       "      <td>-0.011153</td>\n",
       "      <td>0.085354</td>\n",
       "      <td>0.167177</td>\n",
       "      <td>0.038687</td>\n",
       "      <td>-0.035837</td>\n",
       "      <td>0.007894</td>\n",
       "      <td>0.106952</td>\n",
       "      <td>...</td>\n",
       "      <td>0.019334</td>\n",
       "      <td>0.189813</td>\n",
       "      <td>0.349099</td>\n",
       "      <td>0.153637</td>\n",
       "      <td>0.126563</td>\n",
       "      <td>0.021261</td>\n",
       "      <td>-0.172366</td>\n",
       "      <td>0.082798</td>\n",
       "      <td>0.109464</td>\n",
       "      <td>0.004545</td>\n",
       "    </tr>\n",
       "    <tr>\n",
       "      <td>2</td>\n",
       "      <td>-0.196966</td>\n",
       "      <td>0.178252</td>\n",
       "      <td>-0.060170</td>\n",
       "      <td>-0.054367</td>\n",
       "      <td>0.007972</td>\n",
       "      <td>0.088705</td>\n",
       "      <td>-0.043841</td>\n",
       "      <td>0.010997</td>\n",
       "      <td>-0.185690</td>\n",
       "      <td>-0.068145</td>\n",
       "      <td>...</td>\n",
       "      <td>-0.124875</td>\n",
       "      <td>-0.079220</td>\n",
       "      <td>-0.194522</td>\n",
       "      <td>-0.134906</td>\n",
       "      <td>-0.082100</td>\n",
       "      <td>-0.107147</td>\n",
       "      <td>-0.265359</td>\n",
       "      <td>-0.147978</td>\n",
       "      <td>0.021325</td>\n",
       "      <td>0.067990</td>\n",
       "    </tr>\n",
       "    <tr>\n",
       "      <td>144568</td>\n",
       "      <td>-0.021260</td>\n",
       "      <td>0.158390</td>\n",
       "      <td>0.153435</td>\n",
       "      <td>0.060886</td>\n",
       "      <td>0.445843</td>\n",
       "      <td>0.307599</td>\n",
       "      <td>0.200285</td>\n",
       "      <td>0.182625</td>\n",
       "      <td>0.111529</td>\n",
       "      <td>0.109807</td>\n",
       "      <td>...</td>\n",
       "      <td>0.051671</td>\n",
       "      <td>0.100741</td>\n",
       "      <td>0.217812</td>\n",
       "      <td>0.167583</td>\n",
       "      <td>0.132673</td>\n",
       "      <td>0.076223</td>\n",
       "      <td>0.045942</td>\n",
       "      <td>0.256595</td>\n",
       "      <td>0.204297</td>\n",
       "      <td>0.199098</td>\n",
       "    </tr>\n",
       "    <tr>\n",
       "      <td>127550</td>\n",
       "      <td>0.038541</td>\n",
       "      <td>-0.193862</td>\n",
       "      <td>0.087362</td>\n",
       "      <td>0.039767</td>\n",
       "      <td>-0.036717</td>\n",
       "      <td>0.015440</td>\n",
       "      <td>-0.070484</td>\n",
       "      <td>-0.034048</td>\n",
       "      <td>-0.033507</td>\n",
       "      <td>-0.195903</td>\n",
       "      <td>...</td>\n",
       "      <td>-0.196632</td>\n",
       "      <td>0.164481</td>\n",
       "      <td>-0.052438</td>\n",
       "      <td>-0.130067</td>\n",
       "      <td>-0.172350</td>\n",
       "      <td>-0.116583</td>\n",
       "      <td>0.123916</td>\n",
       "      <td>-0.054596</td>\n",
       "      <td>-0.080814</td>\n",
       "      <td>-0.042784</td>\n",
       "    </tr>\n",
       "  </tbody>\n",
       "</table>\n",
       "<p>5 rows × 625 columns</p>\n",
       "</div>"
      ],
      "text/plain": [
       "        ACH-000004  ACH-000005  ACH-000007  ACH-000009  ACH-000011  \\\n",
       "1         0.168684   -0.068759    0.053893    0.059874    0.277165   \n",
       "29974     0.089128    0.218792    0.081444   -0.011153    0.085354   \n",
       "2        -0.196966    0.178252   -0.060170   -0.054367    0.007972   \n",
       "144568   -0.021260    0.158390    0.153435    0.060886    0.445843   \n",
       "127550    0.038541   -0.193862    0.087362    0.039767   -0.036717   \n",
       "\n",
       "        ACH-000012  ACH-000013  ACH-000014  ACH-000015  ACH-000017  ...  \\\n",
       "1         0.008073    0.062131    0.143078   -0.090890    0.178427  ...   \n",
       "29974     0.167177    0.038687   -0.035837    0.007894    0.106952  ...   \n",
       "2         0.088705   -0.043841    0.010997   -0.185690   -0.068145  ...   \n",
       "144568    0.307599    0.200285    0.182625    0.111529    0.109807  ...   \n",
       "127550    0.015440   -0.070484   -0.034048   -0.033507   -0.195903  ...   \n",
       "\n",
       "        ACH-001736  ACH-001737  ACH-001740  ACH-001745  ACH-001750  \\\n",
       "1         0.154567   -0.050307    0.005125    0.208843    0.044674   \n",
       "29974     0.019334    0.189813    0.349099    0.153637    0.126563   \n",
       "2        -0.124875   -0.079220   -0.194522   -0.134906   -0.082100   \n",
       "144568    0.051671    0.100741    0.217812    0.167583    0.132673   \n",
       "127550   -0.196632    0.164481   -0.052438   -0.130067   -0.172350   \n",
       "\n",
       "        ACH-001765  ACH-001814  ACH-001838  ACH-001956  ACH-001957  \n",
       "1         0.136364    0.216507   -0.086149   -0.076893    0.055750  \n",
       "29974     0.021261   -0.172366    0.082798    0.109464    0.004545  \n",
       "2        -0.107147   -0.265359   -0.147978    0.021325    0.067990  \n",
       "144568    0.076223    0.045942    0.256595    0.204297    0.199098  \n",
       "127550   -0.116583    0.123916   -0.054596   -0.080814   -0.042784  \n",
       "\n",
       "[5 rows x 625 columns]"
      ]
     },
     "execution_count": 21,
     "metadata": {},
     "output_type": "execute_result"
    }
   ],
   "source": [
    "achilles = get_data('achilles_crispr').T\n",
    "genes = list(achilles.index)\n",
    "achilles.index = ncbi_gene_ids(genes)\n",
    "print(achilles.shape[0],\"genes\")\n",
    "print(achilles.shape[1],\"cell lines\")\n",
    "printmd('Sample Achilles data:')\n",
    "achilles.head()"
   ]
  },
  {
   "cell_type": "code",
   "execution_count": 22,
   "metadata": {},
   "outputs": [
    {
     "data": {
      "text/markdown": [
       "\n",
       "### How many cell lines and genes are shared between D2 (RNAi) and Achilles (Crispr) gene dependency data sets?\n"
      ],
      "text/plain": [
       "<IPython.core.display.Markdown object>"
      ]
     },
     "metadata": {},
     "output_type": "display_data"
    }
   ],
   "source": [
    "report('''\n",
    "### How many cell lines and genes are shared between D2 (RNAi) and Achilles (Crispr) gene dependency data sets?\n",
    "''')"
   ]
  },
  {
   "cell_type": "code",
   "execution_count": 23,
   "metadata": {},
   "outputs": [
    {
     "data": {
      "text/markdown": [
       "<pre>"
      ],
      "text/plain": [
       "<IPython.core.display.Markdown object>"
      ]
     },
     "metadata": {},
     "output_type": "display_data"
    },
    {
     "data": {
      "text/markdown": [
       "423 cell lines are shared"
      ],
      "text/plain": [
       "<IPython.core.display.Markdown object>"
      ]
     },
     "metadata": {},
     "output_type": "display_data"
    },
    {
     "data": {
      "text/markdown": [
       "16052 genes are shared"
      ],
      "text/plain": [
       "<IPython.core.display.Markdown object>"
      ]
     },
     "metadata": {},
     "output_type": "display_data"
    },
    {
     "data": {
      "text/markdown": [
       "</pre>"
      ],
      "text/plain": [
       "<IPython.core.display.Markdown object>"
      ]
     },
     "metadata": {},
     "output_type": "display_data"
    }
   ],
   "source": [
    "d2_cells = set(d2.columns)\n",
    "d2_genes = set(d2.index)\n",
    "ac_cells = set(achilles.columns)\n",
    "ac_genes = set(achilles.index)\n",
    "shared_cells = d2_cells.intersection(ac_cells)\n",
    "shared_genes = d2_genes.intersection(ac_genes)\n",
    "report('<pre>')\n",
    "report(str(len(shared_cells))+\" cell lines are shared\")\n",
    "report(str(len(shared_genes))+\" genes are shared\")\n",
    "report('</pre>')"
   ]
  },
  {
   "cell_type": "markdown",
   "metadata": {},
   "source": [
    "### How do RNAi and Crispr screen compare for gene dependency score?"
   ]
  },
  {
   "cell_type": "code",
   "execution_count": 24,
   "metadata": {},
   "outputs": [],
   "source": [
    "# filter shared genes to just include our high copy number genes\n",
    "my_d2 = d2.copy()\n",
    "keep_genes = set()\n",
    "for g in shared_genes:\n",
    "    if g in keep_common_genes:\n",
    "        keep_genes.add(g)\n",
    "\n",
    "keep_cells = set()\n",
    "for c in shared_cells:\n",
    "    if c in keep_common_cells:\n",
    "        keep_cells.add(c)\n",
    "        \n",
    "d2_s = my_d2[keep_cells]\n",
    "d2_s = d2_s.T[keep_genes].T\n",
    "ac_s = achilles[keep_cells]\n",
    "ac_s = ac_s.T[keep_genes].T\n",
    "\n",
    "\n",
    "d2_data = d2_s.to_numpy().flatten()\n",
    "ac_data = ac_s.to_numpy().flatten()\n",
    "\n",
    "# remove NaN and Inf\n",
    "keep_d2 = []\n",
    "keep_ac = []\n",
    "for i, num1 in enumerate(d2_data):\n",
    "    num2 = ac_data[i]\n",
    "    if not np.isfinite(num1) and np.isfinite(num2):\n",
    "        continue\n",
    "    keep_d2.append(num1)\n",
    "    keep_ac.append(num2)\n",
    "d2_data = keep_d2\n",
    "ac_data = keep_ac    "
   ]
  },
  {
   "cell_type": "code",
   "execution_count": 25,
   "metadata": {},
   "outputs": [],
   "source": [
    "# save the data\n",
    "keep_saved_rows = []\n",
    "for srow in save_rows:\n",
    "    cell, lineage, symbol, gene, copynum = srow\n",
    "    try:\n",
    "        adata = ac_s.loc[gene]\n",
    "        adata = adata[cell]\n",
    "    except:\n",
    "        continue\n",
    "    try:\n",
    "        ddata = d2_s.loc[gene]\n",
    "        ddata = ddata[cell]\n",
    "    except:\n",
    "        ddata = np.nan\n",
    "    \n",
    "    # only keep rows with negative gene deendency\n",
    "    if adata > 0:\n",
    "        continue\n",
    "\n",
    "    is_hotspot = gene in hotspot_genes\n",
    "    \n",
    "    try:\n",
    "        exp_data = exp.loc[gene]\n",
    "        exp_data = exp_data[cell]\n",
    "        is_expressed = exp_data > 0\n",
    "    except:\n",
    "        is_expressed = False\n",
    "    \n",
    "    keep_saved_rows.append(srow+[adata,ddata,is_hotspot,is_expressed])\n",
    "    \n"
   ]
  },
  {
   "cell_type": "code",
   "execution_count": 26,
   "metadata": {},
   "outputs": [
    {
     "data": {
      "text/html": [
       "<div>\n",
       "<style scoped>\n",
       "    .dataframe tbody tr th:only-of-type {\n",
       "        vertical-align: middle;\n",
       "    }\n",
       "\n",
       "    .dataframe tbody tr th {\n",
       "        vertical-align: top;\n",
       "    }\n",
       "\n",
       "    .dataframe thead th {\n",
       "        text-align: right;\n",
       "    }\n",
       "</style>\n",
       "<table border=\"1\" class=\"dataframe\">\n",
       "  <thead>\n",
       "    <tr style=\"text-align: right;\">\n",
       "      <th></th>\n",
       "      <th>DepMap_ID</th>\n",
       "      <th>sublineage</th>\n",
       "      <th>HUGO_symbol</th>\n",
       "      <th>Entrez_ID</th>\n",
       "      <th>copy_number</th>\n",
       "      <th>achilles_gene_dep</th>\n",
       "      <th>rnai_gene_dep</th>\n",
       "      <th>hotspot</th>\n",
       "      <th>rnaseq_expressed</th>\n",
       "    </tr>\n",
       "  </thead>\n",
       "  <tbody>\n",
       "    <tr>\n",
       "      <td>0</td>\n",
       "      <td>ACH-000383</td>\n",
       "      <td>esophagus_adenocarcinoma</td>\n",
       "      <td>RASA4B</td>\n",
       "      <td>100271927</td>\n",
       "      <td>2.997041</td>\n",
       "      <td>-0.067043</td>\n",
       "      <td>-0.037759</td>\n",
       "      <td>False</td>\n",
       "      <td>True</td>\n",
       "    </tr>\n",
       "    <tr>\n",
       "      <td>1</td>\n",
       "      <td>ACH-000383</td>\n",
       "      <td>esophagus_adenocarcinoma</td>\n",
       "      <td>MUC12</td>\n",
       "      <td>10071</td>\n",
       "      <td>2.997041</td>\n",
       "      <td>-0.382201</td>\n",
       "      <td>NaN</td>\n",
       "      <td>False</td>\n",
       "      <td>True</td>\n",
       "    </tr>\n",
       "    <tr>\n",
       "      <td>2</td>\n",
       "      <td>ACH-000383</td>\n",
       "      <td>esophagus_adenocarcinoma</td>\n",
       "      <td>NAMPT</td>\n",
       "      <td>10135</td>\n",
       "      <td>2.997041</td>\n",
       "      <td>-0.880275</td>\n",
       "      <td>-0.126734</td>\n",
       "      <td>False</td>\n",
       "      <td>True</td>\n",
       "    </tr>\n",
       "    <tr>\n",
       "      <td>3</td>\n",
       "      <td>ACH-000383</td>\n",
       "      <td>esophagus_adenocarcinoma</td>\n",
       "      <td>RASA4</td>\n",
       "      <td>10156</td>\n",
       "      <td>2.997041</td>\n",
       "      <td>-0.520096</td>\n",
       "      <td>-0.024795</td>\n",
       "      <td>False</td>\n",
       "      <td>True</td>\n",
       "    </tr>\n",
       "    <tr>\n",
       "      <td>4</td>\n",
       "      <td>ACH-000383</td>\n",
       "      <td>esophagus_adenocarcinoma</td>\n",
       "      <td>SLC25A13</td>\n",
       "      <td>10165</td>\n",
       "      <td>2.997041</td>\n",
       "      <td>-0.083599</td>\n",
       "      <td>0.190876</td>\n",
       "      <td>True</td>\n",
       "      <td>True</td>\n",
       "    </tr>\n",
       "  </tbody>\n",
       "</table>\n",
       "</div>"
      ],
      "text/plain": [
       "    DepMap_ID                sublineage HUGO_symbol  Entrez_ID  copy_number  \\\n",
       "0  ACH-000383  esophagus_adenocarcinoma      RASA4B  100271927     2.997041   \n",
       "1  ACH-000383  esophagus_adenocarcinoma       MUC12      10071     2.997041   \n",
       "2  ACH-000383  esophagus_adenocarcinoma       NAMPT      10135     2.997041   \n",
       "3  ACH-000383  esophagus_adenocarcinoma       RASA4      10156     2.997041   \n",
       "4  ACH-000383  esophagus_adenocarcinoma    SLC25A13      10165     2.997041   \n",
       "\n",
       "   achilles_gene_dep  rnai_gene_dep  hotspot  rnaseq_expressed  \n",
       "0          -0.067043      -0.037759    False              True  \n",
       "1          -0.382201            NaN    False              True  \n",
       "2          -0.880275      -0.126734    False              True  \n",
       "3          -0.520096      -0.024795    False              True  \n",
       "4          -0.083599       0.190876     True              True  "
      ]
     },
     "execution_count": 26,
     "metadata": {},
     "output_type": "execute_result"
    }
   ],
   "source": [
    "cols = ['DepMap_ID','sublineage','HUGO_symbol','Entrez_ID','copy_number',\n",
    "        'achilles_gene_dep','rnai_gene_dep','hotspot','rnaseq_expressed']\n",
    "candidates = pd.DataFrame(data=keep_saved_rows,columns=cols)\n",
    "candidates.head()"
   ]
  },
  {
   "cell_type": "code",
   "execution_count": 27,
   "metadata": {},
   "outputs": [
    {
     "data": {
      "text/markdown": [
       "<img src=\"plots/gene_dependency.png\">"
      ],
      "text/plain": [
       "<IPython.core.display.Markdown object>"
      ]
     },
     "metadata": {},
     "output_type": "display_data"
    },
    {
     "data": {
      "text/markdown": [
       "* significant p-value means reject H0 that slope == 0"
      ],
      "text/plain": [
       "<IPython.core.display.Markdown object>"
      ]
     },
     "metadata": {},
     "output_type": "display_data"
    },
    {
     "data": {
      "text/markdown": [
       "* We will use the Achilles (Crispr) gene dependency score and check for positive agreement with RNAi later"
      ],
      "text/plain": [
       "<IPython.core.display.Markdown object>"
      ]
     },
     "metadata": {},
     "output_type": "display_data"
    }
   ],
   "source": [
    "%matplotlib inline\n",
    "plt.scatter(d2_data,ac_data)\n",
    "slope, intercept, r_value, p_value, std_err = stats.linregress(d2_data,ac_data)\n",
    "plt.xlabel('Crispr (Achilles)')\n",
    "plt.ylabel('RNAi (DEMETER 2)')\n",
    "plt.title('Gene dependency')\n",
    "plt.text(-2.6,2.1,'slope='+'%.3f'%slope)\n",
    "plt.text(-2.6,1.8,'r-squared ='+'%.3f' %r_value)\n",
    "plt.text(-2.6,1.5,'p-value ='+'%.3f'%p_value)\n",
    "plt.savefig('plots/gene_dependency.png',dpi=100)\n",
    "plt.close()\n",
    "\n",
    "report('<img src=\"plots/gene_dependency.png\">')\n",
    "report('* significant p-value means reject H0 that slope == 0')\n",
    "report('* We will use the Achilles (Crispr) gene dependency score and check for positive agreement with RNAi later')"
   ]
  },
  {
   "cell_type": "code",
   "execution_count": 28,
   "metadata": {},
   "outputs": [
    {
     "data": {
      "text/html": [
       "<div>\n",
       "<style scoped>\n",
       "    .dataframe tbody tr th:only-of-type {\n",
       "        vertical-align: middle;\n",
       "    }\n",
       "\n",
       "    .dataframe tbody tr th {\n",
       "        vertical-align: top;\n",
       "    }\n",
       "\n",
       "    .dataframe thead th {\n",
       "        text-align: right;\n",
       "    }\n",
       "</style>\n",
       "<table border=\"1\" class=\"dataframe\">\n",
       "  <thead>\n",
       "    <tr style=\"text-align: right;\">\n",
       "      <th></th>\n",
       "      <th>ACH-001793</th>\n",
       "      <th>ACH-002176</th>\n",
       "      <th>ACH-000652</th>\n",
       "      <th>ACH-001295</th>\n",
       "      <th>ACH-000798</th>\n",
       "      <th>ACH-001399</th>\n",
       "      <th>ACH-000111</th>\n",
       "      <th>ACH-002358</th>\n",
       "      <th>ACH-000367</th>\n",
       "      <th>ACH-000584</th>\n",
       "      <th>...</th>\n",
       "      <th>ACH-000280</th>\n",
       "      <th>ACH-001563</th>\n",
       "      <th>ACH-002124</th>\n",
       "      <th>ACH-000286</th>\n",
       "      <th>ACH-001148</th>\n",
       "      <th>ACH-001359</th>\n",
       "      <th>ACH-001560</th>\n",
       "      <th>ACH-001791</th>\n",
       "      <th>ACH-001125</th>\n",
       "      <th>ACH-000110</th>\n",
       "    </tr>\n",
       "  </thead>\n",
       "  <tbody>\n",
       "    <tr>\n",
       "      <td>1</td>\n",
       "      <td>1.086422</td>\n",
       "      <td>1.526188</td>\n",
       "      <td>0.776609</td>\n",
       "      <td>0.964857</td>\n",
       "      <td>0.986651</td>\n",
       "      <td>1.097441</td>\n",
       "      <td>1.577719</td>\n",
       "      <td>0.990491</td>\n",
       "      <td>0.972714</td>\n",
       "      <td>1.232228</td>\n",
       "      <td>...</td>\n",
       "      <td>1.365183</td>\n",
       "      <td>1.027095</td>\n",
       "      <td>1.029024</td>\n",
       "      <td>0.841298</td>\n",
       "      <td>1.045162</td>\n",
       "      <td>1.143302</td>\n",
       "      <td>1.391900</td>\n",
       "      <td>1.001219</td>\n",
       "      <td>1.257749</td>\n",
       "      <td>1.931762</td>\n",
       "    </tr>\n",
       "    <tr>\n",
       "      <td>10</td>\n",
       "      <td>1.103066</td>\n",
       "      <td>1.044267</td>\n",
       "      <td>0.520576</td>\n",
       "      <td>1.001427</td>\n",
       "      <td>0.974178</td>\n",
       "      <td>0.775405</td>\n",
       "      <td>1.209647</td>\n",
       "      <td>1.001602</td>\n",
       "      <td>0.564791</td>\n",
       "      <td>0.379099</td>\n",
       "      <td>...</td>\n",
       "      <td>0.690553</td>\n",
       "      <td>0.995183</td>\n",
       "      <td>1.068430</td>\n",
       "      <td>0.781903</td>\n",
       "      <td>0.986327</td>\n",
       "      <td>0.803954</td>\n",
       "      <td>0.707500</td>\n",
       "      <td>1.262303</td>\n",
       "      <td>1.123967</td>\n",
       "      <td>0.728684</td>\n",
       "    </tr>\n",
       "    <tr>\n",
       "      <td>100</td>\n",
       "      <td>0.910926</td>\n",
       "      <td>1.089161</td>\n",
       "      <td>1.555780</td>\n",
       "      <td>1.010086</td>\n",
       "      <td>0.987801</td>\n",
       "      <td>1.877675</td>\n",
       "      <td>0.826138</td>\n",
       "      <td>0.999580</td>\n",
       "      <td>1.128533</td>\n",
       "      <td>1.254932</td>\n",
       "      <td>...</td>\n",
       "      <td>1.307992</td>\n",
       "      <td>0.996104</td>\n",
       "      <td>1.070793</td>\n",
       "      <td>2.327111</td>\n",
       "      <td>1.037611</td>\n",
       "      <td>1.140260</td>\n",
       "      <td>1.166051</td>\n",
       "      <td>0.953422</td>\n",
       "      <td>1.361431</td>\n",
       "      <td>1.710860</td>\n",
       "    </tr>\n",
       "    <tr>\n",
       "      <td>1000</td>\n",
       "      <td>0.869815</td>\n",
       "      <td>1.093874</td>\n",
       "      <td>0.534269</td>\n",
       "      <td>1.618418</td>\n",
       "      <td>0.975264</td>\n",
       "      <td>0.765916</td>\n",
       "      <td>1.781738</td>\n",
       "      <td>0.999387</td>\n",
       "      <td>0.583207</td>\n",
       "      <td>1.262886</td>\n",
       "      <td>...</td>\n",
       "      <td>0.977053</td>\n",
       "      <td>0.964261</td>\n",
       "      <td>0.992269</td>\n",
       "      <td>0.639639</td>\n",
       "      <td>1.005763</td>\n",
       "      <td>0.793022</td>\n",
       "      <td>1.186009</td>\n",
       "      <td>1.140554</td>\n",
       "      <td>0.753544</td>\n",
       "      <td>0.815800</td>\n",
       "    </tr>\n",
       "    <tr>\n",
       "      <td>10000</td>\n",
       "      <td>1.178887</td>\n",
       "      <td>0.739725</td>\n",
       "      <td>1.072077</td>\n",
       "      <td>1.087050</td>\n",
       "      <td>0.992261</td>\n",
       "      <td>0.823112</td>\n",
       "      <td>1.618552</td>\n",
       "      <td>1.002886</td>\n",
       "      <td>1.185828</td>\n",
       "      <td>1.369970</td>\n",
       "      <td>...</td>\n",
       "      <td>1.320073</td>\n",
       "      <td>0.980081</td>\n",
       "      <td>1.004353</td>\n",
       "      <td>1.169857</td>\n",
       "      <td>1.051142</td>\n",
       "      <td>0.775699</td>\n",
       "      <td>1.177641</td>\n",
       "      <td>1.118604</td>\n",
       "      <td>1.053262</td>\n",
       "      <td>0.989854</td>\n",
       "    </tr>\n",
       "    <tr>\n",
       "      <td>...</td>\n",
       "      <td>...</td>\n",
       "      <td>...</td>\n",
       "      <td>...</td>\n",
       "      <td>...</td>\n",
       "      <td>...</td>\n",
       "      <td>...</td>\n",
       "      <td>...</td>\n",
       "      <td>...</td>\n",
       "      <td>...</td>\n",
       "      <td>...</td>\n",
       "      <td>...</td>\n",
       "      <td>...</td>\n",
       "      <td>...</td>\n",
       "      <td>...</td>\n",
       "      <td>...</td>\n",
       "      <td>...</td>\n",
       "      <td>...</td>\n",
       "      <td>...</td>\n",
       "      <td>...</td>\n",
       "      <td>...</td>\n",
       "      <td>...</td>\n",
       "    </tr>\n",
       "    <tr>\n",
       "      <td>9991</td>\n",
       "      <td>0.929942</td>\n",
       "      <td>1.337460</td>\n",
       "      <td>1.015838</td>\n",
       "      <td>0.987900</td>\n",
       "      <td>0.986097</td>\n",
       "      <td>1.506592</td>\n",
       "      <td>1.161994</td>\n",
       "      <td>0.992029</td>\n",
       "      <td>0.864881</td>\n",
       "      <td>0.703489</td>\n",
       "      <td>...</td>\n",
       "      <td>0.706884</td>\n",
       "      <td>1.229040</td>\n",
       "      <td>1.218353</td>\n",
       "      <td>1.153570</td>\n",
       "      <td>1.026165</td>\n",
       "      <td>1.735526</td>\n",
       "      <td>1.222554</td>\n",
       "      <td>0.947864</td>\n",
       "      <td>1.259847</td>\n",
       "      <td>1.114133</td>\n",
       "    </tr>\n",
       "    <tr>\n",
       "      <td>9992</td>\n",
       "      <td>1.238182</td>\n",
       "      <td>0.754172</td>\n",
       "      <td>0.748432</td>\n",
       "      <td>1.485135</td>\n",
       "      <td>0.982291</td>\n",
       "      <td>1.120454</td>\n",
       "      <td>1.236879</td>\n",
       "      <td>1.001856</td>\n",
       "      <td>0.717195</td>\n",
       "      <td>0.952437</td>\n",
       "      <td>...</td>\n",
       "      <td>1.003050</td>\n",
       "      <td>0.971199</td>\n",
       "      <td>1.011569</td>\n",
       "      <td>0.981720</td>\n",
       "      <td>1.033442</td>\n",
       "      <td>0.777990</td>\n",
       "      <td>1.765459</td>\n",
       "      <td>1.144691</td>\n",
       "      <td>1.461633</td>\n",
       "      <td>1.217975</td>\n",
       "    </tr>\n",
       "    <tr>\n",
       "      <td>9993</td>\n",
       "      <td>0.918466</td>\n",
       "      <td>1.110708</td>\n",
       "      <td>1.340905</td>\n",
       "      <td>0.978239</td>\n",
       "      <td>0.972974</td>\n",
       "      <td>0.980576</td>\n",
       "      <td>0.818209</td>\n",
       "      <td>0.999302</td>\n",
       "      <td>0.566361</td>\n",
       "      <td>1.079974</td>\n",
       "      <td>...</td>\n",
       "      <td>0.698213</td>\n",
       "      <td>0.739743</td>\n",
       "      <td>0.526790</td>\n",
       "      <td>0.816435</td>\n",
       "      <td>1.035510</td>\n",
       "      <td>0.761047</td>\n",
       "      <td>0.587672</td>\n",
       "      <td>0.903170</td>\n",
       "      <td>0.738791</td>\n",
       "      <td>1.075860</td>\n",
       "    </tr>\n",
       "    <tr>\n",
       "      <td>9994</td>\n",
       "      <td>1.227417</td>\n",
       "      <td>1.058448</td>\n",
       "      <td>0.856905</td>\n",
       "      <td>1.000262</td>\n",
       "      <td>0.979674</td>\n",
       "      <td>0.999156</td>\n",
       "      <td>0.843466</td>\n",
       "      <td>0.991677</td>\n",
       "      <td>1.012805</td>\n",
       "      <td>0.898429</td>\n",
       "      <td>...</td>\n",
       "      <td>0.679400</td>\n",
       "      <td>0.987512</td>\n",
       "      <td>1.034116</td>\n",
       "      <td>1.030507</td>\n",
       "      <td>1.043352</td>\n",
       "      <td>0.805533</td>\n",
       "      <td>0.621688</td>\n",
       "      <td>1.257436</td>\n",
       "      <td>1.153666</td>\n",
       "      <td>1.153934</td>\n",
       "    </tr>\n",
       "    <tr>\n",
       "      <td>9997</td>\n",
       "      <td>0.918466</td>\n",
       "      <td>1.073516</td>\n",
       "      <td>1.233488</td>\n",
       "      <td>0.978239</td>\n",
       "      <td>0.976999</td>\n",
       "      <td>0.980576</td>\n",
       "      <td>0.818466</td>\n",
       "      <td>0.999302</td>\n",
       "      <td>0.566361</td>\n",
       "      <td>0.667672</td>\n",
       "      <td>...</td>\n",
       "      <td>0.590248</td>\n",
       "      <td>0.739743</td>\n",
       "      <td>0.505315</td>\n",
       "      <td>0.763398</td>\n",
       "      <td>1.041868</td>\n",
       "      <td>0.761047</td>\n",
       "      <td>0.573829</td>\n",
       "      <td>0.903170</td>\n",
       "      <td>0.738791</td>\n",
       "      <td>1.047453</td>\n",
       "    </tr>\n",
       "  </tbody>\n",
       "</table>\n",
       "<p>27639 rows × 1660 columns</p>\n",
       "</div>"
      ],
      "text/plain": [
       "       ACH-001793  ACH-002176  ACH-000652  ACH-001295  ACH-000798  ACH-001399  \\\n",
       "1        1.086422    1.526188    0.776609    0.964857    0.986651    1.097441   \n",
       "10       1.103066    1.044267    0.520576    1.001427    0.974178    0.775405   \n",
       "100      0.910926    1.089161    1.555780    1.010086    0.987801    1.877675   \n",
       "1000     0.869815    1.093874    0.534269    1.618418    0.975264    0.765916   \n",
       "10000    1.178887    0.739725    1.072077    1.087050    0.992261    0.823112   \n",
       "...           ...         ...         ...         ...         ...         ...   \n",
       "9991     0.929942    1.337460    1.015838    0.987900    0.986097    1.506592   \n",
       "9992     1.238182    0.754172    0.748432    1.485135    0.982291    1.120454   \n",
       "9993     0.918466    1.110708    1.340905    0.978239    0.972974    0.980576   \n",
       "9994     1.227417    1.058448    0.856905    1.000262    0.979674    0.999156   \n",
       "9997     0.918466    1.073516    1.233488    0.978239    0.976999    0.980576   \n",
       "\n",
       "       ACH-000111  ACH-002358  ACH-000367  ACH-000584  ...  ACH-000280  \\\n",
       "1        1.577719    0.990491    0.972714    1.232228  ...    1.365183   \n",
       "10       1.209647    1.001602    0.564791    0.379099  ...    0.690553   \n",
       "100      0.826138    0.999580    1.128533    1.254932  ...    1.307992   \n",
       "1000     1.781738    0.999387    0.583207    1.262886  ...    0.977053   \n",
       "10000    1.618552    1.002886    1.185828    1.369970  ...    1.320073   \n",
       "...           ...         ...         ...         ...  ...         ...   \n",
       "9991     1.161994    0.992029    0.864881    0.703489  ...    0.706884   \n",
       "9992     1.236879    1.001856    0.717195    0.952437  ...    1.003050   \n",
       "9993     0.818209    0.999302    0.566361    1.079974  ...    0.698213   \n",
       "9994     0.843466    0.991677    1.012805    0.898429  ...    0.679400   \n",
       "9997     0.818466    0.999302    0.566361    0.667672  ...    0.590248   \n",
       "\n",
       "       ACH-001563  ACH-002124  ACH-000286  ACH-001148  ACH-001359  ACH-001560  \\\n",
       "1        1.027095    1.029024    0.841298    1.045162    1.143302    1.391900   \n",
       "10       0.995183    1.068430    0.781903    0.986327    0.803954    0.707500   \n",
       "100      0.996104    1.070793    2.327111    1.037611    1.140260    1.166051   \n",
       "1000     0.964261    0.992269    0.639639    1.005763    0.793022    1.186009   \n",
       "10000    0.980081    1.004353    1.169857    1.051142    0.775699    1.177641   \n",
       "...           ...         ...         ...         ...         ...         ...   \n",
       "9991     1.229040    1.218353    1.153570    1.026165    1.735526    1.222554   \n",
       "9992     0.971199    1.011569    0.981720    1.033442    0.777990    1.765459   \n",
       "9993     0.739743    0.526790    0.816435    1.035510    0.761047    0.587672   \n",
       "9994     0.987512    1.034116    1.030507    1.043352    0.805533    0.621688   \n",
       "9997     0.739743    0.505315    0.763398    1.041868    0.761047    0.573829   \n",
       "\n",
       "       ACH-001791  ACH-001125  ACH-000110  \n",
       "1        1.001219    1.257749    1.931762  \n",
       "10       1.262303    1.123967    0.728684  \n",
       "100      0.953422    1.361431    1.710860  \n",
       "1000     1.140554    0.753544    0.815800  \n",
       "10000    1.118604    1.053262    0.989854  \n",
       "...           ...         ...         ...  \n",
       "9991     0.947864    1.259847    1.114133  \n",
       "9992     1.144691    1.461633    1.217975  \n",
       "9993     0.903170    0.738791    1.075860  \n",
       "9994     1.257436    1.153666    1.153934  \n",
       "9997     0.903170    0.738791    1.047453  \n",
       "\n",
       "[27639 rows x 1660 columns]"
      ]
     },
     "metadata": {},
     "output_type": "display_data"
    }
   ],
   "source": [
    "keep_genes = set()\n",
    "for g in ac_genes:\n",
    "    if g in keep_common_genes:\n",
    "        keep_genes.add(g)\n",
    "\n",
    "keep_cells = set()\n",
    "for c in ac_cells:\n",
    "    if c in keep_common_cells:\n",
    "        keep_cells.add(c)\n",
    "keep_cells = list(keep_cells)\n",
    "        \n",
    "ac_s = achilles[keep_cells]\n",
    "ac_s = ac_s.T[keep_genes].T\n",
    "display(cn)\n",
    "cn_s = cn[keep_cells]\n",
    "cn_s = cn_s.T[keep_genes].T\n",
    "\n",
    "ac_data = ac_s.to_numpy().flatten()\n",
    "cn_data = cn_s.to_numpy().flatten()\n",
    "\n",
    "# remove NaN and Inf\n",
    "keep_ac = []\n",
    "keep_cn = []\n",
    "for i, num1 in enumerate(ac_data):\n",
    "    num2 = cn_data[i]\n",
    "    if not np.isfinite(num1) and np.isfinite(num2):\n",
    "        continue\n",
    "    keep_ac.append(num1)\n",
    "    keep_cn.append(num2)\n",
    "    \n",
    "ac_data = keep_ac\n",
    "cn_data = keep_cn  \n",
    "cn_orig = cn_data\n",
    "ac_orig = ac_data"
   ]
  },
  {
   "cell_type": "code",
   "execution_count": 29,
   "metadata": {},
   "outputs": [
    {
     "data": {
      "text/markdown": [
       "\n",
       "### Sanity checking with ERBB2 (2064)\n",
       "Evaluating breast cancer lineages where at least one cell line had copy number > 2:\n",
       "* Is ERB2B in the hotspot gene set?\n",
       "* We expect ERBB2 to have high copy number in breast cancer lineages\n",
       "  ** What is the mean ERB2B copy number in breast cancers?\n",
       "* The gene dependency score should be < 0\n",
       "  ** What is the mean gene dependency score in breast cancers?\n"
      ],
      "text/plain": [
       "<IPython.core.display.Markdown object>"
      ]
     },
     "metadata": {},
     "output_type": "display_data"
    }
   ],
   "source": [
    "report('''\n",
    "### Sanity checking with ERBB2 (2064)\n",
    "Evaluating breast cancer lineages where at least one cell line had copy number > 2:\n",
    "* Is ERB2B in the hotspot gene set?\n",
    "* We expect ERBB2 to have high copy number in breast cancer lineages\n",
    "  ** What is the mean ERB2B copy number in breast cancers?\n",
    "* The gene dependency score should be < 0\n",
    "  ** What is the mean gene dependency score in breast cancers?\n",
    "''')"
   ]
  },
  {
   "cell_type": "code",
   "execution_count": 30,
   "metadata": {},
   "outputs": [
    {
     "data": {
      "text/markdown": [
       "ERBB2 is in hotspot gene set? <b>TRUE</b>"
      ],
      "text/plain": [
       "<IPython.core.display.Markdown object>"
      ]
     },
     "metadata": {},
     "output_type": "display_data"
    },
    {
     "data": {
      "text/markdown": [
       "<pre>"
      ],
      "text/plain": [
       "<IPython.core.display.Markdown object>"
      ]
     },
     "metadata": {},
     "output_type": "display_data"
    },
    {
     "data": {
      "text/markdown": [
       "ERBB2 mean copy number for breast_TNBC (27 cell lines): 1.89"
      ],
      "text/plain": [
       "<IPython.core.display.Markdown object>"
      ]
     },
     "metadata": {},
     "output_type": "display_data"
    },
    {
     "data": {
      "text/markdown": [
       "ERBB2 mean copy number for breast_TPBC (5 cell lines): 9.59"
      ],
      "text/plain": [
       "<IPython.core.display.Markdown object>"
      ]
     },
     "metadata": {},
     "output_type": "display_data"
    },
    {
     "data": {
      "text/markdown": [
       "ERBB2 mean copy number for breast_HER2Amp (11 cell lines): 14.84"
      ],
      "text/plain": [
       "<IPython.core.display.Markdown object>"
      ]
     },
     "metadata": {},
     "output_type": "display_data"
    },
    {
     "data": {
      "text/markdown": [
       "ERBB2 mean gene dependency for breast_HER2Amp (6 cell lines): -0.83"
      ],
      "text/plain": [
       "<IPython.core.display.Markdown object>"
      ]
     },
     "metadata": {},
     "output_type": "display_data"
    },
    {
     "data": {
      "text/markdown": [
       "ERBB2 mean gene dependency for breast_ERpos (7 cell lines): -0.27"
      ],
      "text/plain": [
       "<IPython.core.display.Markdown object>"
      ]
     },
     "metadata": {},
     "output_type": "display_data"
    },
    {
     "data": {
      "text/markdown": [
       "ERBB2 mean gene dependency for breast_TNBC (15 cell lines): -0.28"
      ],
      "text/plain": [
       "<IPython.core.display.Markdown object>"
      ]
     },
     "metadata": {},
     "output_type": "display_data"
    },
    {
     "data": {
      "text/markdown": [
       "</pre>"
      ],
      "text/plain": [
       "<IPython.core.display.Markdown object>"
      ]
     },
     "metadata": {},
     "output_type": "display_data"
    }
   ],
   "source": [
    "report(\"ERBB2 is in hotspot gene set? <b>\"+str(2064 in hotspot_genes).upper()+\"</b>\")\n",
    "report('<pre>')\n",
    "\n",
    "erb = cn.loc[2064]\n",
    "nums = {}\n",
    "is_high = set()\n",
    "for c in cell2sublineage:\n",
    "    lin = cell2sublineage.get(c)\n",
    "    if lin is None or erb.get(c) is None:\n",
    "        continue\n",
    "        \n",
    "    if 'breast' in lin:\n",
    "        if nums.get(lin) is None:\n",
    "            nums[lin] = []\n",
    "        nums[lin].append(erb[c])\n",
    "        if erb[c] >= 2:\n",
    "            is_high.add(lin)\n",
    "            #report(','.join([c,lin,str('%.2f'%erb[c])]))\n",
    "for lin in nums:\n",
    "    if lin in is_high:\n",
    "        report(\"ERBB2 mean copy number for \"+lin+\" (\"+str(len(nums[lin]))+\" cell lines): \"+str('%.2f'%np.mean(nums[lin])))\n",
    "        \n",
    "erb_gd = achilles.loc[2064]\n",
    "nums = {}\n",
    "for c in erb_gd.keys():\n",
    "    lin = cell2sublineage.get(c)\n",
    "    if lin is None or not 'breast' in lin:\n",
    "        continue\n",
    "        \n",
    "    if nums.get(lin) is None:\n",
    "        nums[lin] = []\n",
    "    nums[lin].append(erb_gd[c])\n",
    "\n",
    "for lin in nums:\n",
    "    #if lin in is_high:\n",
    "    report(\"ERBB2 mean gene dependency for \"+lin+\" (\"+str(len(nums[lin]))+\" cell lines): \"+str('%.2f'%np.mean(nums[lin])))\n",
    "        \n",
    "report('</pre>')\n",
    "    "
   ]
  },
  {
   "cell_type": "code",
   "execution_count": 31,
   "metadata": {},
   "outputs": [
    {
     "data": {
      "text/markdown": [
       "\n",
       "## Lineages with observed high copy number genes\n",
       "\n",
       "* Go through the list of lineages with high copy number genes\n",
       "* Plot gene dependency vs. copy number\n",
       "* Highlight genes/cell-lines with copy number > 2 and gene dependency < 0 for specific lineages\n",
       "\n",
       "### Copy number vs gene dependency\n"
      ],
      "text/plain": [
       "<IPython.core.display.Markdown object>"
      ]
     },
     "metadata": {},
     "output_type": "display_data"
    }
   ],
   "source": [
    "report('''\n",
    "## Lineages with observed high copy number genes\n",
    "\n",
    "* Go through the list of lineages with high copy number genes\n",
    "* Plot gene dependency vs. copy number\n",
    "* Highlight genes/cell-lines with copy number > 2 and gene dependency < 0 for specific lineages\n",
    "\n",
    "### Copy number vs gene dependency\n",
    "''')"
   ]
  },
  {
   "cell_type": "code",
   "execution_count": 32,
   "metadata": {},
   "outputs": [
    {
     "data": {
      "text/markdown": [
       "<img src=\"plots/bone_chordoma.png\">"
      ],
      "text/plain": [
       "<IPython.core.display.Markdown object>"
      ]
     },
     "metadata": {},
     "output_type": "display_data"
    },
    {
     "data": {
      "text/markdown": [
       "<img src=\"plots/skin_epidermoid_carcinoma.png\">"
      ],
      "text/plain": [
       "<IPython.core.display.Markdown object>"
      ]
     },
     "metadata": {},
     "output_type": "display_data"
    },
    {
     "data": {
      "text/markdown": [
       "<img src=\"plots/soft_tissue_epitheliod_sarcoma.png\">"
      ],
      "text/plain": [
       "<IPython.core.display.Markdown object>"
      ]
     },
     "metadata": {},
     "output_type": "display_data"
    },
    {
     "data": {
      "text/markdown": [
       "<img src=\"plots/soft_tissue_sarcoma_undifferentiated.png\">"
      ],
      "text/plain": [
       "<IPython.core.display.Markdown object>"
      ]
     },
     "metadata": {},
     "output_type": "display_data"
    },
    {
     "data": {
      "text/markdown": [
       "<img src=\"plots/soft_tissue_fibrosarcoma.png\">"
      ],
      "text/plain": [
       "<IPython.core.display.Markdown object>"
      ]
     },
     "metadata": {},
     "output_type": "display_data"
    },
    {
     "data": {
      "text/markdown": [
       "<img src=\"plots/skin_squamous.png\">"
      ],
      "text/plain": [
       "<IPython.core.display.Markdown object>"
      ]
     },
     "metadata": {},
     "output_type": "display_data"
    },
    {
     "data": {
      "text/markdown": [
       "<img src=\"plots/breast_HER2Amp.png\">"
      ],
      "text/plain": [
       "<IPython.core.display.Markdown object>"
      ]
     },
     "metadata": {},
     "output_type": "display_data"
    },
    {
     "data": {
      "text/markdown": [
       "<img src=\"plots/esophagus_adenocarcinoma.png\">"
      ],
      "text/plain": [
       "<IPython.core.display.Markdown object>"
      ]
     },
     "metadata": {},
     "output_type": "display_data"
    },
    {
     "data": {
      "text/markdown": [
       "<img src=\"plots/upper_aerodigestive_buccal_mucosa.png\">"
      ],
      "text/plain": [
       "<IPython.core.display.Markdown object>"
      ]
     },
     "metadata": {},
     "output_type": "display_data"
    },
    {
     "data": {
      "text/markdown": [
       "<img src=\"plots/eye_uveal_melanoma.png\">"
      ],
      "text/plain": [
       "<IPython.core.display.Markdown object>"
      ]
     },
     "metadata": {},
     "output_type": "display_data"
    }
   ],
   "source": [
    "for sublin in keep_lineage:\n",
    "    cells = sublineage2cell[sublin]\n",
    "    \n",
    "    best = {}\n",
    "    genes = set()\n",
    "    for c in cells:\n",
    "        try:\n",
    "            cdf = cn[c]\n",
    "            cdf = cdf[cdf >= 2]\n",
    "            best[c] = set(cdf.index)\n",
    "            for g in best[c]:\n",
    "                genes.add(g)\n",
    "                \n",
    "        except Exception as e:\n",
    "            #print('Error',e)\n",
    "            continue\n",
    "    \n",
    "    if len(best) == 0:\n",
    "        continue\n",
    "    \n",
    "    keep_cells = set()\n",
    "    for c in ac_cells:\n",
    "        if c in cells:\n",
    "            keep_cells.add(c)\n",
    "    if len(keep_cells) == 0:\n",
    "        #print(\"no shared cells\")\n",
    "        continue\n",
    "\n",
    "    keep_genes = set()\n",
    "    for g in ac_genes:\n",
    "        if g in genes:\n",
    "            keep_genes.add(g)\n",
    "    if len(keep_genes) == 0:\n",
    "        print(\"no shared genes\")\n",
    "        continue\n",
    "    \n",
    "    try:\n",
    "        ac_s = achilles[keep_cells]\n",
    "        ac_s = ac_s.T[keep_genes].T\n",
    "        cn_s = cn[keep_cells]\n",
    "        cn_s = cn_s.T[keep_genes].T\n",
    "    except:\n",
    "        continue\n",
    "\n",
    "    ac_data = ac_s.to_numpy().flatten()\n",
    "    cn_data = cn_s.to_numpy().flatten()\n",
    "    \n",
    "    # remove NaN and Inf\n",
    "    keep_ac = []\n",
    "    keep_cn = []\n",
    "    for i, d1 in enumerate(ac_data):\n",
    "        d2 = cn_data[i]\n",
    "        # Skip gene dependency > 0\n",
    "        if d1 >= 0:\n",
    "            continue\n",
    "        # Skip copy number < 2\n",
    "        if d2 < 2:\n",
    "            continue\n",
    "        \n",
    "        if not np.isfinite(d1) and np.isfinite(d2):\n",
    "            continue\n",
    "        keep_ac.append(d1)\n",
    "        keep_cn.append(d2)\n",
    "    \n",
    "    ac_data = keep_ac\n",
    "    cn_data = keep_cn  \n",
    "    \n",
    "    plt.scatter(cn_orig,ac_orig,c='silver',label='other lineages')\n",
    "    plt.scatter(cn_data,ac_data,c='r',label='this lineage: gene dep.<0; copy num >= 2')\n",
    "    plt.legend()\n",
    "    outfile = 'plots/'+sublin+'.png'\n",
    "    plt.xlabel('copy number')\n",
    "    plt.ylabel('Achilles gene dependency')\n",
    "    plt.title(sublin)\n",
    "    plt.savefig(outfile,dpi=100)\n",
    "    plt.close()\n",
    "    report('<img src=\"'+outfile+'\">')"
   ]
  },
  {
   "cell_type": "code",
   "execution_count": 33,
   "metadata": {},
   "outputs": [],
   "source": [
    "# save the table of candidates to an HTML file\n",
    "table = candidates.to_html(index=False)\n",
    "table = table.replace('<table','<table id=\"candidates\"')\n",
    "\n",
    "with open('../_includes/template.html','r') as html_in:\n",
    "    html = html_in.read()\n",
    "\n",
    "html = html.replace('TABLE',table)\n",
    "\n",
    "with open('../_includes/candidates.html','w') as html_out:\n",
    "    html_out.write(html)"
   ]
  },
  {
   "cell_type": "code",
   "execution_count": 34,
   "metadata": {},
   "outputs": [
    {
     "data": {
      "text/markdown": [
       "## Candidate target genes"
      ],
      "text/plain": [
       "<IPython.core.display.Markdown object>"
      ]
     },
     "metadata": {},
     "output_type": "display_data"
    },
    {
     "data": {
      "text/markdown": [
       "\n",
       "* All genes in this table have copy number > 2 and Achilles gene dependency < 0 for at least 80% of the cell lines in 1 cell lineage'\n",
       "* Other data for cross-validation:\n",
       "  * RNAi gene dependency score\n",
       "  * Whether the gene is a TCGA or COSMIC mutation hotspot\n",
       "  * Whether the gene has > 0 TPM RNASeq expression\n",
       "  \n",
       "{% include candidates.html %}\n"
      ],
      "text/plain": [
       "<IPython.core.display.Markdown object>"
      ]
     },
     "metadata": {},
     "output_type": "display_data"
    }
   ],
   "source": [
    "report('## Candidate target genes')\n",
    "report('''\n",
    "* All genes in this table have copy number > 2 and Achilles gene dependency < 0 for at least 80% of the cell lines in 1 cell lineage'\n",
    "* Other data for cross-validation:\n",
    "  * RNAi gene dependency score\n",
    "  * Whether the gene is a TCGA or COSMIC mutation hotspot\n",
    "  * Whether the gene has > 0 TPM RNASeq expression\n",
    "  \n",
    "{% include candidates.html %}\n",
    "''')\n",
    "\n",
    "\n"
   ]
  },
  {
   "cell_type": "code",
   "execution_count": 35,
   "metadata": {},
   "outputs": [],
   "source": [
    "genes = candidates[['HUGO_symbol','Entrez_ID']].drop_duplicates()\n",
    "pathway_info = get_pathway_info()\n",
    "for symbol, gene in genes.values:\n",
    "    gene = str(gene)\n",
    "    with open('../reports/template.html','r') as html_in:\n",
    "        html = html_in.read()\n",
    "    html = html.replace('SYMBOL',symbol)\n",
    "    \n",
    "    pathway = pathway_info.get(gene)\n",
    "    if pathway is not None:\n",
    "        pid, url, name = pathway\n",
    "        html = html.replace('PNAME','<a href=\"'+url+'\" target=\"_BLANK\">'+name+'</a>')\n",
    "        html = html.replace('START_HIDE','')\n",
    "        html = html.replace('END_HIDE','')\n",
    "    else:\n",
    "        html = html.replace('START_HIDE','<!--')\n",
    "        html = html.replace('END_HIDE','-->')\n",
    "        \n",
    "    with open('../reports/'+symbol+'.md','w') as html_out:\n",
    "        html_out.write(html)\n",
    "        "
   ]
  },
  {
   "cell_type": "code",
   "execution_count": 37,
   "metadata": {},
   "outputs": [
    {
     "data": {
      "text/markdown": [
       "\n",
       "\n",
       "<h2>Links to gene information</h2>"
      ],
      "text/plain": [
       "<IPython.core.display.Markdown object>"
      ]
     },
     "metadata": {},
     "output_type": "display_data"
    },
    {
     "data": {
      "text/markdown": [
       "DepMap summary, expression, Reactome pathways<br>"
      ],
      "text/plain": [
       "<IPython.core.display.Markdown object>"
      ]
     },
     "metadata": {},
     "output_type": "display_data"
    },
    {
     "data": {
      "text/markdown": [
       "<a href=\"reports/MMP16.html\">MMP16</a><br>"
      ],
      "text/plain": [
       "<IPython.core.display.Markdown object>"
      ]
     },
     "metadata": {},
     "output_type": "display_data"
    },
    {
     "data": {
      "text/markdown": [
       "<a href=\"reports/STK3.html\">STK3</a><br>"
      ],
      "text/plain": [
       "<IPython.core.display.Markdown object>"
      ]
     },
     "metadata": {},
     "output_type": "display_data"
    },
    {
     "data": {
      "text/markdown": [
       "<a href=\"reports/TACC1.html\">TACC1</a><br>"
      ],
      "text/plain": [
       "<IPython.core.display.Markdown object>"
      ]
     },
     "metadata": {},
     "output_type": "display_data"
    },
    {
     "data": {
      "text/markdown": [
       "<a href=\"reports/PIP4P2.html\">PIP4P2</a><br>"
      ],
      "text/plain": [
       "<IPython.core.display.Markdown object>"
      ]
     },
     "metadata": {},
     "output_type": "display_data"
    },
    {
     "data": {
      "text/markdown": [
       "<a href=\"reports/AARD.html\">AARD</a><br>"
      ],
      "text/plain": [
       "<IPython.core.display.Markdown object>"
      ]
     },
     "metadata": {},
     "output_type": "display_data"
    },
    {
     "data": {
      "text/markdown": [
       "<a href=\"reports/PTP4A3.html\">PTP4A3</a><br>"
      ],
      "text/plain": [
       "<IPython.core.display.Markdown object>"
      ]
     },
     "metadata": {},
     "output_type": "display_data"
    },
    {
     "data": {
      "text/markdown": [
       "<a href=\"reports/MDFIC.html\">MDFIC</a><br>"
      ],
      "text/plain": [
       "<IPython.core.display.Markdown object>"
      ]
     },
     "metadata": {},
     "output_type": "display_data"
    },
    {
     "data": {
      "text/markdown": [
       "<a href=\"reports/TIAF1.html\">TIAF1</a><br>"
      ],
      "text/plain": [
       "<IPython.core.display.Markdown object>"
      ]
     },
     "metadata": {},
     "output_type": "display_data"
    },
    {
     "data": {
      "text/markdown": [
       "<a href=\"reports/CYP11B1.html\">CYP11B1</a><br>"
      ],
      "text/plain": [
       "<IPython.core.display.Markdown object>"
      ]
     },
     "metadata": {},
     "output_type": "display_data"
    },
    {
     "data": {
      "text/markdown": [
       "<a href=\"reports/FIS1.html\">FIS1</a><br>"
      ],
      "text/plain": [
       "<IPython.core.display.Markdown object>"
      ]
     },
     "metadata": {},
     "output_type": "display_data"
    },
    {
     "data": {
      "text/markdown": [
       "<a href=\"reports/SHARPIN.html\">SHARPIN</a><br>"
      ],
      "text/plain": [
       "<IPython.core.display.Markdown object>"
      ]
     },
     "metadata": {},
     "output_type": "display_data"
    },
    {
     "data": {
      "text/markdown": [
       "<a href=\"reports/SPDYE3.html\">SPDYE3</a><br>"
      ],
      "text/plain": [
       "<IPython.core.display.Markdown object>"
      ]
     },
     "metadata": {},
     "output_type": "display_data"
    },
    {
     "data": {
      "text/markdown": [
       "<a href=\"reports/ADRB3.html\">ADRB3</a><br>"
      ],
      "text/plain": [
       "<IPython.core.display.Markdown object>"
      ]
     },
     "metadata": {},
     "output_type": "display_data"
    },
    {
     "data": {
      "text/markdown": [
       "<a href=\"reports/SULT1A1.html\">SULT1A1</a><br>"
      ],
      "text/plain": [
       "<IPython.core.display.Markdown object>"
      ]
     },
     "metadata": {},
     "output_type": "display_data"
    },
    {
     "data": {
      "text/markdown": [
       "<a href=\"reports/HORMAD1.html\">HORMAD1</a><br>"
      ],
      "text/plain": [
       "<IPython.core.display.Markdown object>"
      ]
     },
     "metadata": {},
     "output_type": "display_data"
    },
    {
     "data": {
      "text/markdown": [
       "<a href=\"reports/ENPP2.html\">ENPP2</a><br>"
      ],
      "text/plain": [
       "<IPython.core.display.Markdown object>"
      ]
     },
     "metadata": {},
     "output_type": "display_data"
    },
    {
     "data": {
      "text/markdown": [
       "<a href=\"reports/FBXL6.html\">FBXL6</a><br>"
      ],
      "text/plain": [
       "<IPython.core.display.Markdown object>"
      ]
     },
     "metadata": {},
     "output_type": "display_data"
    },
    {
     "data": {
      "text/markdown": [
       "<a href=\"reports/TRRAP.html\">TRRAP</a><br>"
      ],
      "text/plain": [
       "<IPython.core.display.Markdown object>"
      ]
     },
     "metadata": {},
     "output_type": "display_data"
    },
    {
     "data": {
      "text/markdown": [
       "<a href=\"reports/ORAI2.html\">ORAI2</a><br>"
      ],
      "text/plain": [
       "<IPython.core.display.Markdown object>"
      ]
     },
     "metadata": {},
     "output_type": "display_data"
    },
    {
     "data": {
      "text/markdown": [
       "<a href=\"reports/MED30.html\">MED30</a><br>"
      ],
      "text/plain": [
       "<IPython.core.display.Markdown object>"
      ]
     },
     "metadata": {},
     "output_type": "display_data"
    },
    {
     "data": {
      "text/markdown": [
       "<a href=\"reports/ARMC10.html\">ARMC10</a><br>"
      ],
      "text/plain": [
       "<IPython.core.display.Markdown object>"
      ]
     },
     "metadata": {},
     "output_type": "display_data"
    },
    {
     "data": {
      "text/markdown": [
       "<a href=\"reports/TFAP2C.html\">TFAP2C</a><br>"
      ],
      "text/plain": [
       "<IPython.core.display.Markdown object>"
      ]
     },
     "metadata": {},
     "output_type": "display_data"
    },
    {
     "data": {
      "text/markdown": [
       "<a href=\"reports/VPS13B.html\">VPS13B</a><br>"
      ],
      "text/plain": [
       "<IPython.core.display.Markdown object>"
      ]
     },
     "metadata": {},
     "output_type": "display_data"
    },
    {
     "data": {
      "text/markdown": [
       "<a href=\"reports/ATP5MF.html\">ATP5MF</a><br>"
      ],
      "text/plain": [
       "<IPython.core.display.Markdown object>"
      ]
     },
     "metadata": {},
     "output_type": "display_data"
    },
    {
     "data": {
      "text/markdown": [
       "<a href=\"reports/SAMD12.html\">SAMD12</a><br>"
      ],
      "text/plain": [
       "<IPython.core.display.Markdown object>"
      ]
     },
     "metadata": {},
     "output_type": "display_data"
    },
    {
     "data": {
      "text/markdown": [
       "<a href=\"reports/PIWIL4.html\">PIWIL4</a><br>"
      ],
      "text/plain": [
       "<IPython.core.display.Markdown object>"
      ]
     },
     "metadata": {},
     "output_type": "display_data"
    },
    {
     "data": {
      "text/markdown": [
       "<a href=\"reports/XKR9.html\">XKR9</a><br>"
      ],
      "text/plain": [
       "<IPython.core.display.Markdown object>"
      ]
     },
     "metadata": {},
     "output_type": "display_data"
    },
    {
     "data": {
      "text/markdown": [
       "<a href=\"reports/GPT.html\">GPT</a><br>"
      ],
      "text/plain": [
       "<IPython.core.display.Markdown object>"
      ]
     },
     "metadata": {},
     "output_type": "display_data"
    },
    {
     "data": {
      "text/markdown": [
       "<a href=\"reports/ZDHHC11B.html\">ZDHHC11B</a><br>"
      ],
      "text/plain": [
       "<IPython.core.display.Markdown object>"
      ]
     },
     "metadata": {},
     "output_type": "display_data"
    },
    {
     "data": {
      "text/markdown": [
       "<a href=\"reports/AGFG2.html\">AGFG2</a><br>"
      ],
      "text/plain": [
       "<IPython.core.display.Markdown object>"
      ]
     },
     "metadata": {},
     "output_type": "display_data"
    },
    {
     "data": {
      "text/markdown": [
       "<a href=\"reports/RAB34.html\">RAB34</a><br>"
      ],
      "text/plain": [
       "<IPython.core.display.Markdown object>"
      ]
     },
     "metadata": {},
     "output_type": "display_data"
    },
    {
     "data": {
      "text/markdown": [
       "<a href=\"reports/DLD.html\">DLD</a><br>"
      ],
      "text/plain": [
       "<IPython.core.display.Markdown object>"
      ]
     },
     "metadata": {},
     "output_type": "display_data"
    },
    {
     "data": {
      "text/markdown": [
       "<a href=\"reports/NOS2.html\">NOS2</a><br>"
      ],
      "text/plain": [
       "<IPython.core.display.Markdown object>"
      ]
     },
     "metadata": {},
     "output_type": "display_data"
    },
    {
     "data": {
      "text/markdown": [
       "<a href=\"reports/PPFIA1.html\">PPFIA1</a><br>"
      ],
      "text/plain": [
       "<IPython.core.display.Markdown object>"
      ]
     },
     "metadata": {},
     "output_type": "display_data"
    },
    {
     "data": {
      "text/markdown": [
       "<a href=\"reports/ELOC.html\">ELOC</a><br>"
      ],
      "text/plain": [
       "<IPython.core.display.Markdown object>"
      ]
     },
     "metadata": {},
     "output_type": "display_data"
    },
    {
     "data": {
      "text/markdown": [
       "<a href=\"reports/SLC9A8.html\">SLC9A8</a><br>"
      ],
      "text/plain": [
       "<IPython.core.display.Markdown object>"
      ]
     },
     "metadata": {},
     "output_type": "display_data"
    },
    {
     "data": {
      "text/markdown": [
       "<a href=\"reports/GRINA.html\">GRINA</a><br>"
      ],
      "text/plain": [
       "<IPython.core.display.Markdown object>"
      ]
     },
     "metadata": {},
     "output_type": "display_data"
    },
    {
     "data": {
      "text/markdown": [
       "<a href=\"reports/FADD.html\">FADD</a><br>"
      ],
      "text/plain": [
       "<IPython.core.display.Markdown object>"
      ]
     },
     "metadata": {},
     "output_type": "display_data"
    },
    {
     "data": {
      "text/markdown": [
       "<a href=\"reports/MC3R.html\">MC3R</a><br>"
      ],
      "text/plain": [
       "<IPython.core.display.Markdown object>"
      ]
     },
     "metadata": {},
     "output_type": "display_data"
    },
    {
     "data": {
      "text/markdown": [
       "<a href=\"reports/ATXN7L1.html\">ATXN7L1</a><br>"
      ],
      "text/plain": [
       "<IPython.core.display.Markdown object>"
      ]
     },
     "metadata": {},
     "output_type": "display_data"
    },
    {
     "data": {
      "text/markdown": [
       "<a href=\"reports/FAM133B.html\">FAM133B</a><br>"
      ],
      "text/plain": [
       "<IPython.core.display.Markdown object>"
      ]
     },
     "metadata": {},
     "output_type": "display_data"
    },
    {
     "data": {
      "text/markdown": [
       "<a href=\"reports/PEX1.html\">PEX1</a><br>"
      ],
      "text/plain": [
       "<IPython.core.display.Markdown object>"
      ]
     },
     "metadata": {},
     "output_type": "display_data"
    },
    {
     "data": {
      "text/markdown": [
       "<a href=\"reports/TRIM56.html\">TRIM56</a><br>"
      ],
      "text/plain": [
       "<IPython.core.display.Markdown object>"
      ]
     },
     "metadata": {},
     "output_type": "display_data"
    },
    {
     "data": {
      "text/markdown": [
       "<a href=\"reports/PPP1R14A.html\">PPP1R14A</a><br>"
      ],
      "text/plain": [
       "<IPython.core.display.Markdown object>"
      ]
     },
     "metadata": {},
     "output_type": "display_data"
    },
    {
     "data": {
      "text/markdown": [
       "<a href=\"reports/TFIP11.html\">TFIP11</a><br>"
      ],
      "text/plain": [
       "<IPython.core.display.Markdown object>"
      ]
     },
     "metadata": {},
     "output_type": "display_data"
    },
    {
     "data": {
      "text/markdown": [
       "<a href=\"reports/TMEM199.html\">TMEM199</a><br>"
      ],
      "text/plain": [
       "<IPython.core.display.Markdown object>"
      ]
     },
     "metadata": {},
     "output_type": "display_data"
    },
    {
     "data": {
      "text/markdown": [
       "<a href=\"reports/RIPOR3.html\">RIPOR3</a><br>"
      ],
      "text/plain": [
       "<IPython.core.display.Markdown object>"
      ]
     },
     "metadata": {},
     "output_type": "display_data"
    },
    {
     "data": {
      "text/markdown": [
       "<a href=\"reports/GSDMC.html\">GSDMC</a><br>"
      ],
      "text/plain": [
       "<IPython.core.display.Markdown object>"
      ]
     },
     "metadata": {},
     "output_type": "display_data"
    },
    {
     "data": {
      "text/markdown": [
       "<a href=\"reports/NAT16.html\">NAT16</a><br>"
      ],
      "text/plain": [
       "<IPython.core.display.Markdown object>"
      ]
     },
     "metadata": {},
     "output_type": "display_data"
    },
    {
     "data": {
      "text/markdown": [
       "<a href=\"reports/SLC7A13.html\">SLC7A13</a><br>"
      ],
      "text/plain": [
       "<IPython.core.display.Markdown object>"
      ]
     },
     "metadata": {},
     "output_type": "display_data"
    },
    {
     "data": {
      "text/markdown": [
       "<a href=\"reports/SYPL1.html\">SYPL1</a><br>"
      ],
      "text/plain": [
       "<IPython.core.display.Markdown object>"
      ]
     },
     "metadata": {},
     "output_type": "display_data"
    },
    {
     "data": {
      "text/markdown": [
       "<a href=\"reports/TAF6.html\">TAF6</a><br>"
      ],
      "text/plain": [
       "<IPython.core.display.Markdown object>"
      ]
     },
     "metadata": {},
     "output_type": "display_data"
    },
    {
     "data": {
      "text/markdown": [
       "<a href=\"reports/AGAP2.html\">AGAP2</a><br>"
      ],
      "text/plain": [
       "<IPython.core.display.Markdown object>"
      ]
     },
     "metadata": {},
     "output_type": "display_data"
    },
    {
     "data": {
      "text/markdown": [
       "<a href=\"reports/DSCC1.html\">DSCC1</a><br>"
      ],
      "text/plain": [
       "<IPython.core.display.Markdown object>"
      ]
     },
     "metadata": {},
     "output_type": "display_data"
    },
    {
     "data": {
      "text/markdown": [
       "<a href=\"reports/MEPCE.html\">MEPCE</a><br>"
      ],
      "text/plain": [
       "<IPython.core.display.Markdown object>"
      ]
     },
     "metadata": {},
     "output_type": "display_data"
    },
    {
     "data": {
      "text/markdown": [
       "<a href=\"reports/MMP20.html\">MMP20</a><br>"
      ],
      "text/plain": [
       "<IPython.core.display.Markdown object>"
      ]
     },
     "metadata": {},
     "output_type": "display_data"
    },
    {
     "data": {
      "text/markdown": [
       "<a href=\"reports/ECM1.html\">ECM1</a><br>"
      ],
      "text/plain": [
       "<IPython.core.display.Markdown object>"
      ]
     },
     "metadata": {},
     "output_type": "display_data"
    },
    {
     "data": {
      "text/markdown": [
       "<a href=\"reports/ACTL6B.html\">ACTL6B</a><br>"
      ],
      "text/plain": [
       "<IPython.core.display.Markdown object>"
      ]
     },
     "metadata": {},
     "output_type": "display_data"
    },
    {
     "data": {
      "text/markdown": [
       "<a href=\"reports/TMEM74.html\">TMEM74</a><br>"
      ],
      "text/plain": [
       "<IPython.core.display.Markdown object>"
      ]
     },
     "metadata": {},
     "output_type": "display_data"
    },
    {
     "data": {
      "text/markdown": [
       "<a href=\"reports/CYP3A43.html\">CYP3A43</a><br>"
      ],
      "text/plain": [
       "<IPython.core.display.Markdown object>"
      ]
     },
     "metadata": {},
     "output_type": "display_data"
    },
    {
     "data": {
      "text/markdown": [
       "<a href=\"reports/NDUFAF6.html\">NDUFAF6</a><br>"
      ],
      "text/plain": [
       "<IPython.core.display.Markdown object>"
      ]
     },
     "metadata": {},
     "output_type": "display_data"
    },
    {
     "data": {
      "text/markdown": [
       "<a href=\"reports/SLC6A19.html\">SLC6A19</a><br>"
      ],
      "text/plain": [
       "<IPython.core.display.Markdown object>"
      ]
     },
     "metadata": {},
     "output_type": "display_data"
    },
    {
     "data": {
      "text/markdown": [
       "<a href=\"reports/PTK2.html\">PTK2</a><br>"
      ],
      "text/plain": [
       "<IPython.core.display.Markdown object>"
      ]
     },
     "metadata": {},
     "output_type": "display_data"
    },
    {
     "data": {
      "text/markdown": [
       "<a href=\"reports/GDAP1.html\">GDAP1</a><br>"
      ],
      "text/plain": [
       "<IPython.core.display.Markdown object>"
      ]
     },
     "metadata": {},
     "output_type": "display_data"
    },
    {
     "data": {
      "text/markdown": [
       "<a href=\"reports/PILRA.html\">PILRA</a><br>"
      ],
      "text/plain": [
       "<IPython.core.display.Markdown object>"
      ]
     },
     "metadata": {},
     "output_type": "display_data"
    },
    {
     "data": {
      "text/markdown": [
       "<a href=\"reports/WASHC5.html\">WASHC5</a><br>"
      ],
      "text/plain": [
       "<IPython.core.display.Markdown object>"
      ]
     },
     "metadata": {},
     "output_type": "display_data"
    },
    {
     "data": {
      "text/markdown": [
       "<a href=\"reports/TMEM70.html\">TMEM70</a><br>"
      ],
      "text/plain": [
       "<IPython.core.display.Markdown object>"
      ]
     },
     "metadata": {},
     "output_type": "display_data"
    },
    {
     "data": {
      "text/markdown": [
       "<a href=\"reports/LMTK2.html\">LMTK2</a><br>"
      ],
      "text/plain": [
       "<IPython.core.display.Markdown object>"
      ]
     },
     "metadata": {},
     "output_type": "display_data"
    },
    {
     "data": {
      "text/markdown": [
       "<a href=\"reports/TRPA1.html\">TRPA1</a><br>"
      ],
      "text/plain": [
       "<IPython.core.display.Markdown object>"
      ]
     },
     "metadata": {},
     "output_type": "display_data"
    },
    {
     "data": {
      "text/markdown": [
       "<a href=\"reports/CATSPERG.html\">CATSPERG</a><br>"
      ],
      "text/plain": [
       "<IPython.core.display.Markdown object>"
      ]
     },
     "metadata": {},
     "output_type": "display_data"
    },
    {
     "data": {
      "text/markdown": [
       "<a href=\"reports/RRM2B.html\">RRM2B</a><br>"
      ],
      "text/plain": [
       "<IPython.core.display.Markdown object>"
      ]
     },
     "metadata": {},
     "output_type": "display_data"
    },
    {
     "data": {
      "text/markdown": [
       "<a href=\"reports/IFT22.html\">IFT22</a><br>"
      ],
      "text/plain": [
       "<IPython.core.display.Markdown object>"
      ]
     },
     "metadata": {},
     "output_type": "display_data"
    },
    {
     "data": {
      "text/markdown": [
       "<a href=\"reports/NKD2.html\">NKD2</a><br>"
      ],
      "text/plain": [
       "<IPython.core.display.Markdown object>"
      ]
     },
     "metadata": {},
     "output_type": "display_data"
    },
    {
     "data": {
      "text/markdown": [
       "<a href=\"reports/IFRD1.html\">IFRD1</a><br>"
      ],
      "text/plain": [
       "<IPython.core.display.Markdown object>"
      ]
     },
     "metadata": {},
     "output_type": "display_data"
    },
    {
     "data": {
      "text/markdown": [
       "<a href=\"reports/ODF1.html\">ODF1</a><br>"
      ],
      "text/plain": [
       "<IPython.core.display.Markdown object>"
      ]
     },
     "metadata": {},
     "output_type": "display_data"
    },
    {
     "data": {
      "text/markdown": [
       "<a href=\"reports/PGAP3.html\">PGAP3</a><br>"
      ],
      "text/plain": [
       "<IPython.core.display.Markdown object>"
      ]
     },
     "metadata": {},
     "output_type": "display_data"
    },
    {
     "data": {
      "text/markdown": [
       "<a href=\"reports/STEAP2.html\">STEAP2</a><br>"
      ],
      "text/plain": [
       "<IPython.core.display.Markdown object>"
      ]
     },
     "metadata": {},
     "output_type": "display_data"
    },
    {
     "data": {
      "text/markdown": [
       "<a href=\"reports/SSC4D.html\">SSC4D</a><br>"
      ],
      "text/plain": [
       "<IPython.core.display.Markdown object>"
      ]
     },
     "metadata": {},
     "output_type": "display_data"
    },
    {
     "data": {
      "text/markdown": [
       "<a href=\"reports/DPF1.html\">DPF1</a><br>"
      ],
      "text/plain": [
       "<IPython.core.display.Markdown object>"
      ]
     },
     "metadata": {},
     "output_type": "display_data"
    },
    {
     "data": {
      "text/markdown": [
       "<a href=\"reports/DNAJB9.html\">DNAJB9</a><br>"
      ],
      "text/plain": [
       "<IPython.core.display.Markdown object>"
      ]
     },
     "metadata": {},
     "output_type": "display_data"
    },
    {
     "data": {
      "text/markdown": [
       "<a href=\"reports/ZNF394.html\">ZNF394</a><br>"
      ],
      "text/plain": [
       "<IPython.core.display.Markdown object>"
      ]
     },
     "metadata": {},
     "output_type": "display_data"
    },
    {
     "data": {
      "text/markdown": [
       "<a href=\"reports/PARD6B.html\">PARD6B</a><br>"
      ],
      "text/plain": [
       "<IPython.core.display.Markdown object>"
      ]
     },
     "metadata": {},
     "output_type": "display_data"
    },
    {
     "data": {
      "text/markdown": [
       "<a href=\"reports/B4GALNT1.html\">B4GALNT1</a><br>"
      ],
      "text/plain": [
       "<IPython.core.display.Markdown object>"
      ]
     },
     "metadata": {},
     "output_type": "display_data"
    },
    {
     "data": {
      "text/markdown": [
       "<a href=\"reports/C8orf37.html\">C8orf37</a><br>"
      ],
      "text/plain": [
       "<IPython.core.display.Markdown object>"
      ]
     },
     "metadata": {},
     "output_type": "display_data"
    },
    {
     "data": {
      "text/markdown": [
       "<a href=\"reports/OS9.html\">OS9</a><br>"
      ],
      "text/plain": [
       "<IPython.core.display.Markdown object>"
      ]
     },
     "metadata": {},
     "output_type": "display_data"
    },
    {
     "data": {
      "text/markdown": [
       "<a href=\"reports/LAPTM4B.html\">LAPTM4B</a><br>"
      ],
      "text/plain": [
       "<IPython.core.display.Markdown object>"
      ]
     },
     "metadata": {},
     "output_type": "display_data"
    },
    {
     "data": {
      "text/markdown": [
       "<a href=\"reports/ADORA2A.html\">ADORA2A</a><br>"
      ],
      "text/plain": [
       "<IPython.core.display.Markdown object>"
      ]
     },
     "metadata": {},
     "output_type": "display_data"
    },
    {
     "data": {
      "text/markdown": [
       "<a href=\"reports/DCAF4L2.html\">DCAF4L2</a><br>"
      ],
      "text/plain": [
       "<IPython.core.display.Markdown object>"
      ]
     },
     "metadata": {},
     "output_type": "display_data"
    },
    {
     "data": {
      "text/markdown": [
       "<a href=\"reports/KCNS2.html\">KCNS2</a><br>"
      ],
      "text/plain": [
       "<IPython.core.display.Markdown object>"
      ]
     },
     "metadata": {},
     "output_type": "display_data"
    },
    {
     "data": {
      "text/markdown": [
       "<a href=\"reports/MATN2.html\">MATN2</a><br>"
      ],
      "text/plain": [
       "<IPython.core.display.Markdown object>"
      ]
     },
     "metadata": {},
     "output_type": "display_data"
    },
    {
     "data": {
      "text/markdown": [
       "<a href=\"reports/SUPT6H.html\">SUPT6H</a><br>"
      ],
      "text/plain": [
       "<IPython.core.display.Markdown object>"
      ]
     },
     "metadata": {},
     "output_type": "display_data"
    },
    {
     "data": {
      "text/markdown": [
       "<a href=\"reports/GOLPH3L.html\">GOLPH3L</a><br>"
      ],
      "text/plain": [
       "<IPython.core.display.Markdown object>"
      ]
     },
     "metadata": {},
     "output_type": "display_data"
    },
    {
     "data": {
      "text/markdown": [
       "<a href=\"reports/ZNF703.html\">ZNF703</a><br>"
      ],
      "text/plain": [
       "<IPython.core.display.Markdown object>"
      ]
     },
     "metadata": {},
     "output_type": "display_data"
    },
    {
     "data": {
      "text/markdown": [
       "<a href=\"reports/DCSTAMP.html\">DCSTAMP</a><br>"
      ],
      "text/plain": [
       "<IPython.core.display.Markdown object>"
      ]
     },
     "metadata": {},
     "output_type": "display_data"
    },
    {
     "data": {
      "text/markdown": [
       "<a href=\"reports/TRIM50.html\">TRIM50</a><br>"
      ],
      "text/plain": [
       "<IPython.core.display.Markdown object>"
      ]
     },
     "metadata": {},
     "output_type": "display_data"
    },
    {
     "data": {
      "text/markdown": [
       "<a href=\"reports/PI15.html\">PI15</a><br>"
      ],
      "text/plain": [
       "<IPython.core.display.Markdown object>"
      ]
     },
     "metadata": {},
     "output_type": "display_data"
    },
    {
     "data": {
      "text/markdown": [
       "<a href=\"reports/FUT4.html\">FUT4</a><br>"
      ],
      "text/plain": [
       "<IPython.core.display.Markdown object>"
      ]
     },
     "metadata": {},
     "output_type": "display_data"
    },
    {
     "data": {
      "text/markdown": [
       "<a href=\"reports/VTN.html\">VTN</a><br>"
      ],
      "text/plain": [
       "<IPython.core.display.Markdown object>"
      ]
     },
     "metadata": {},
     "output_type": "display_data"
    },
    {
     "data": {
      "text/markdown": [
       "<a href=\"reports/TP53INP1.html\">TP53INP1</a><br>"
      ],
      "text/plain": [
       "<IPython.core.display.Markdown object>"
      ]
     },
     "metadata": {},
     "output_type": "display_data"
    },
    {
     "data": {
      "text/markdown": [
       "<a href=\"reports/NCOA3.html\">NCOA3</a><br>"
      ],
      "text/plain": [
       "<IPython.core.display.Markdown object>"
      ]
     },
     "metadata": {},
     "output_type": "display_data"
    },
    {
     "data": {
      "text/markdown": [
       "<a href=\"reports/ERBB2.html\">ERBB2</a><br>"
      ],
      "text/plain": [
       "<IPython.core.display.Markdown object>"
      ]
     },
     "metadata": {},
     "output_type": "display_data"
    },
    {
     "data": {
      "text/markdown": [
       "<a href=\"reports/BUD23.html\">BUD23</a><br>"
      ],
      "text/plain": [
       "<IPython.core.display.Markdown object>"
      ]
     },
     "metadata": {},
     "output_type": "display_data"
    },
    {
     "data": {
      "text/markdown": [
       "<a href=\"reports/CYP24A1.html\">CYP24A1</a><br>"
      ],
      "text/plain": [
       "<IPython.core.display.Markdown object>"
      ]
     },
     "metadata": {},
     "output_type": "display_data"
    },
    {
     "data": {
      "text/markdown": [
       "<a href=\"reports/CAV1.html\">CAV1</a><br>"
      ],
      "text/plain": [
       "<IPython.core.display.Markdown object>"
      ]
     },
     "metadata": {},
     "output_type": "display_data"
    },
    {
     "data": {
      "text/markdown": [
       "<a href=\"reports/ANKIB1.html\">ANKIB1</a><br>"
      ],
      "text/plain": [
       "<IPython.core.display.Markdown object>"
      ]
     },
     "metadata": {},
     "output_type": "display_data"
    },
    {
     "data": {
      "text/markdown": [
       "<a href=\"reports/MMP10.html\">MMP10</a><br>"
      ],
      "text/plain": [
       "<IPython.core.display.Markdown object>"
      ]
     },
     "metadata": {},
     "output_type": "display_data"
    },
    {
     "data": {
      "text/markdown": [
       "<a href=\"reports/LAMB4.html\">LAMB4</a><br>"
      ],
      "text/plain": [
       "<IPython.core.display.Markdown object>"
      ]
     },
     "metadata": {},
     "output_type": "display_data"
    },
    {
     "data": {
      "text/markdown": [
       "<a href=\"reports/NBN.html\">NBN</a><br>"
      ],
      "text/plain": [
       "<IPython.core.display.Markdown object>"
      ]
     },
     "metadata": {},
     "output_type": "display_data"
    },
    {
     "data": {
      "text/markdown": [
       "<a href=\"reports/ZMYND8.html\">ZMYND8</a><br>"
      ],
      "text/plain": [
       "<IPython.core.display.Markdown object>"
      ]
     },
     "metadata": {},
     "output_type": "display_data"
    },
    {
     "data": {
      "text/markdown": [
       "<a href=\"reports/AZGP1.html\">AZGP1</a><br>"
      ],
      "text/plain": [
       "<IPython.core.display.Markdown object>"
      ]
     },
     "metadata": {},
     "output_type": "display_data"
    },
    {
     "data": {
      "text/markdown": [
       "<a href=\"reports/GNAI1.html\">GNAI1</a><br>"
      ],
      "text/plain": [
       "<IPython.core.display.Markdown object>"
      ]
     },
     "metadata": {},
     "output_type": "display_data"
    },
    {
     "data": {
      "text/markdown": [
       "<a href=\"reports/SUSD2.html\">SUSD2</a><br>"
      ],
      "text/plain": [
       "<IPython.core.display.Markdown object>"
      ]
     },
     "metadata": {},
     "output_type": "display_data"
    },
    {
     "data": {
      "text/markdown": [
       "<a href=\"reports/RASA4.html\">RASA4</a><br>"
      ],
      "text/plain": [
       "<IPython.core.display.Markdown object>"
      ]
     },
     "metadata": {},
     "output_type": "display_data"
    },
    {
     "data": {
      "text/markdown": [
       "<a href=\"reports/AGO2.html\">AGO2</a><br>"
      ],
      "text/plain": [
       "<IPython.core.display.Markdown object>"
      ]
     },
     "metadata": {},
     "output_type": "display_data"
    },
    {
     "data": {
      "text/markdown": [
       "<a href=\"reports/PPP1R9A.html\">PPP1R9A</a><br>"
      ],
      "text/plain": [
       "<IPython.core.display.Markdown object>"
      ]
     },
     "metadata": {},
     "output_type": "display_data"
    },
    {
     "data": {
      "text/markdown": [
       "<a href=\"reports/SLC12A9.html\">SLC12A9</a><br>"
      ],
      "text/plain": [
       "<IPython.core.display.Markdown object>"
      ]
     },
     "metadata": {},
     "output_type": "display_data"
    },
    {
     "data": {
      "text/markdown": [
       "<a href=\"reports/FGFR1.html\">FGFR1</a><br>"
      ],
      "text/plain": [
       "<IPython.core.display.Markdown object>"
      ]
     },
     "metadata": {},
     "output_type": "display_data"
    },
    {
     "data": {
      "text/markdown": [
       "<a href=\"reports/LRRK2.html\">LRRK2</a><br>"
      ],
      "text/plain": [
       "<IPython.core.display.Markdown object>"
      ]
     },
     "metadata": {},
     "output_type": "display_data"
    },
    {
     "data": {
      "text/markdown": [
       "<a href=\"reports/STX16.html\">STX16</a><br>"
      ],
      "text/plain": [
       "<IPython.core.display.Markdown object>"
      ]
     },
     "metadata": {},
     "output_type": "display_data"
    },
    {
     "data": {
      "text/markdown": [
       "<a href=\"reports/ZNF16.html\">ZNF16</a><br>"
      ],
      "text/plain": [
       "<IPython.core.display.Markdown object>"
      ]
     },
     "metadata": {},
     "output_type": "display_data"
    },
    {
     "data": {
      "text/markdown": [
       "<a href=\"reports/METTL1.html\">METTL1</a><br>"
      ],
      "text/plain": [
       "<IPython.core.display.Markdown object>"
      ]
     },
     "metadata": {},
     "output_type": "display_data"
    },
    {
     "data": {
      "text/markdown": [
       "<a href=\"reports/TRPS1.html\">TRPS1</a><br>"
      ],
      "text/plain": [
       "<IPython.core.display.Markdown object>"
      ]
     },
     "metadata": {},
     "output_type": "display_data"
    },
    {
     "data": {
      "text/markdown": [
       "<a href=\"reports/FGF3.html\">FGF3</a><br>"
      ],
      "text/plain": [
       "<IPython.core.display.Markdown object>"
      ]
     },
     "metadata": {},
     "output_type": "display_data"
    },
    {
     "data": {
      "text/markdown": [
       "<a href=\"reports/DENND3.html\">DENND3</a><br>"
      ],
      "text/plain": [
       "<IPython.core.display.Markdown object>"
      ]
     },
     "metadata": {},
     "output_type": "display_data"
    },
    {
     "data": {
      "text/markdown": [
       "<a href=\"reports/MUC17.html\">MUC17</a><br>"
      ],
      "text/plain": [
       "<IPython.core.display.Markdown object>"
      ]
     },
     "metadata": {},
     "output_type": "display_data"
    },
    {
     "data": {
      "text/markdown": [
       "<a href=\"reports/RBM12B.html\">RBM12B</a><br>"
      ],
      "text/plain": [
       "<IPython.core.display.Markdown object>"
      ]
     },
     "metadata": {},
     "output_type": "display_data"
    },
    {
     "data": {
      "text/markdown": [
       "<a href=\"reports/STMN2.html\">STMN2</a><br>"
      ],
      "text/plain": [
       "<IPython.core.display.Markdown object>"
      ]
     },
     "metadata": {},
     "output_type": "display_data"
    },
    {
     "data": {
      "text/markdown": [
       "<a href=\"reports/HAS2.html\">HAS2</a><br>"
      ],
      "text/plain": [
       "<IPython.core.display.Markdown object>"
      ]
     },
     "metadata": {},
     "output_type": "display_data"
    },
    {
     "data": {
      "text/markdown": [
       "<a href=\"reports/EXOSC4.html\">EXOSC4</a><br>"
      ],
      "text/plain": [
       "<IPython.core.display.Markdown object>"
      ]
     },
     "metadata": {},
     "output_type": "display_data"
    },
    {
     "data": {
      "text/markdown": [
       "<a href=\"reports/ZNF250.html\">ZNF250</a><br>"
      ],
      "text/plain": [
       "<IPython.core.display.Markdown object>"
      ]
     },
     "metadata": {},
     "output_type": "display_data"
    },
    {
     "data": {
      "text/markdown": [
       "<a href=\"reports/SLC13A2.html\">SLC13A2</a><br>"
      ],
      "text/plain": [
       "<IPython.core.display.Markdown object>"
      ]
     },
     "metadata": {},
     "output_type": "display_data"
    },
    {
     "data": {
      "text/markdown": [
       "<a href=\"reports/THAP5.html\">THAP5</a><br>"
      ],
      "text/plain": [
       "<IPython.core.display.Markdown object>"
      ]
     },
     "metadata": {},
     "output_type": "display_data"
    },
    {
     "data": {
      "text/markdown": [
       "<a href=\"reports/CABIN1.html\">CABIN1</a><br>"
      ],
      "text/plain": [
       "<IPython.core.display.Markdown object>"
      ]
     },
     "metadata": {},
     "output_type": "display_data"
    },
    {
     "data": {
      "text/markdown": [
       "<a href=\"reports/MMP7.html\">MMP7</a><br>"
      ],
      "text/plain": [
       "<IPython.core.display.Markdown object>"
      ]
     },
     "metadata": {},
     "output_type": "display_data"
    },
    {
     "data": {
      "text/markdown": [
       "<a href=\"reports/AP1S1.html\">AP1S1</a><br>"
      ],
      "text/plain": [
       "<IPython.core.display.Markdown object>"
      ]
     },
     "metadata": {},
     "output_type": "display_data"
    },
    {
     "data": {
      "text/markdown": [
       "<a href=\"reports/TRMT12.html\">TRMT12</a><br>"
      ],
      "text/plain": [
       "<IPython.core.display.Markdown object>"
      ]
     },
     "metadata": {},
     "output_type": "display_data"
    },
    {
     "data": {
      "text/markdown": [
       "<a href=\"reports/LRP12.html\">LRP12</a><br>"
      ],
      "text/plain": [
       "<IPython.core.display.Markdown object>"
      ]
     },
     "metadata": {},
     "output_type": "display_data"
    },
    {
     "data": {
      "text/markdown": [
       "<a href=\"reports/FZD9.html\">FZD9</a><br>"
      ],
      "text/plain": [
       "<IPython.core.display.Markdown object>"
      ]
     },
     "metadata": {},
     "output_type": "display_data"
    },
    {
     "data": {
      "text/markdown": [
       "<a href=\"reports/FLOT2.html\">FLOT2</a><br>"
      ],
      "text/plain": [
       "<IPython.core.display.Markdown object>"
      ]
     },
     "metadata": {},
     "output_type": "display_data"
    },
    {
     "data": {
      "text/markdown": [
       "<a href=\"reports/PNPLA8.html\">PNPLA8</a><br>"
      ],
      "text/plain": [
       "<IPython.core.display.Markdown object>"
      ]
     },
     "metadata": {},
     "output_type": "display_data"
    },
    {
     "data": {
      "text/markdown": [
       "<a href=\"reports/ADCK5.html\">ADCK5</a><br>"
      ],
      "text/plain": [
       "<IPython.core.display.Markdown object>"
      ]
     },
     "metadata": {},
     "output_type": "display_data"
    },
    {
     "data": {
      "text/markdown": [
       "<a href=\"reports/PDAP1.html\">PDAP1</a><br>"
      ],
      "text/plain": [
       "<IPython.core.display.Markdown object>"
      ]
     },
     "metadata": {},
     "output_type": "display_data"
    },
    {
     "data": {
      "text/markdown": [
       "<a href=\"reports/TFR2.html\">TFR2</a><br>"
      ],
      "text/plain": [
       "<IPython.core.display.Markdown object>"
      ]
     },
     "metadata": {},
     "output_type": "display_data"
    },
    {
     "data": {
      "text/markdown": [
       "<a href=\"reports/YWHAG.html\">YWHAG</a><br>"
      ],
      "text/plain": [
       "<IPython.core.display.Markdown object>"
      ]
     },
     "metadata": {},
     "output_type": "display_data"
    },
    {
     "data": {
      "text/markdown": [
       "<a href=\"reports/TERT.html\">TERT</a><br>"
      ],
      "text/plain": [
       "<IPython.core.display.Markdown object>"
      ]
     },
     "metadata": {},
     "output_type": "display_data"
    },
    {
     "data": {
      "text/markdown": [
       "<a href=\"reports/PREX1.html\">PREX1</a><br>"
      ],
      "text/plain": [
       "<IPython.core.display.Markdown object>"
      ]
     },
     "metadata": {},
     "output_type": "display_data"
    },
    {
     "data": {
      "text/markdown": [
       "<a href=\"reports/MUC12.html\">MUC12</a><br>"
      ],
      "text/plain": [
       "<IPython.core.display.Markdown object>"
      ]
     },
     "metadata": {},
     "output_type": "display_data"
    },
    {
     "data": {
      "text/markdown": [
       "<a href=\"reports/IRX4.html\">IRX4</a><br>"
      ],
      "text/plain": [
       "<IPython.core.display.Markdown object>"
      ]
     },
     "metadata": {},
     "output_type": "display_data"
    },
    {
     "data": {
      "text/markdown": [
       "<a href=\"reports/SALL4.html\">SALL4</a><br>"
      ],
      "text/plain": [
       "<IPython.core.display.Markdown object>"
      ]
     },
     "metadata": {},
     "output_type": "display_data"
    },
    {
     "data": {
      "text/markdown": [
       "<a href=\"reports/DCUN1D5.html\">DCUN1D5</a><br>"
      ],
      "text/plain": [
       "<IPython.core.display.Markdown object>"
      ]
     },
     "metadata": {},
     "output_type": "display_data"
    },
    {
     "data": {
      "text/markdown": [
       "<a href=\"reports/MRPS28.html\">MRPS28</a><br>"
      ],
      "text/plain": [
       "<IPython.core.display.Markdown object>"
      ]
     },
     "metadata": {},
     "output_type": "display_data"
    },
    {
     "data": {
      "text/markdown": [
       "<a href=\"reports/BCAP29.html\">BCAP29</a><br>"
      ],
      "text/plain": [
       "<IPython.core.display.Markdown object>"
      ]
     },
     "metadata": {},
     "output_type": "display_data"
    },
    {
     "data": {
      "text/markdown": [
       "<a href=\"reports/ALKBH4.html\">ALKBH4</a><br>"
      ],
      "text/plain": [
       "<IPython.core.display.Markdown object>"
      ]
     },
     "metadata": {},
     "output_type": "display_data"
    },
    {
     "data": {
      "text/markdown": [
       "<a href=\"reports/RASA4B.html\">RASA4B</a><br>"
      ],
      "text/plain": [
       "<IPython.core.display.Markdown object>"
      ]
     },
     "metadata": {},
     "output_type": "display_data"
    },
    {
     "data": {
      "text/markdown": [
       "<a href=\"reports/EIF4H.html\">EIF4H</a><br>"
      ],
      "text/plain": [
       "<IPython.core.display.Markdown object>"
      ]
     },
     "metadata": {},
     "output_type": "display_data"
    },
    {
     "data": {
      "text/markdown": [
       "<a href=\"reports/AURKA.html\">AURKA</a><br>"
      ],
      "text/plain": [
       "<IPython.core.display.Markdown object>"
      ]
     },
     "metadata": {},
     "output_type": "display_data"
    },
    {
     "data": {
      "text/markdown": [
       "<a href=\"reports/SYCP2.html\">SYCP2</a><br>"
      ],
      "text/plain": [
       "<IPython.core.display.Markdown object>"
      ]
     },
     "metadata": {},
     "output_type": "display_data"
    },
    {
     "data": {
      "text/markdown": [
       "<a href=\"reports/TMEM64.html\">TMEM64</a><br>"
      ],
      "text/plain": [
       "<IPython.core.display.Markdown object>"
      ]
     },
     "metadata": {},
     "output_type": "display_data"
    },
    {
     "data": {
      "text/markdown": [
       "<a href=\"reports/CA2.html\">CA2</a><br>"
      ],
      "text/plain": [
       "<IPython.core.display.Markdown object>"
      ]
     },
     "metadata": {},
     "output_type": "display_data"
    },
    {
     "data": {
      "text/markdown": [
       "<a href=\"reports/COL14A1.html\">COL14A1</a><br>"
      ],
      "text/plain": [
       "<IPython.core.display.Markdown object>"
      ]
     },
     "metadata": {},
     "output_type": "display_data"
    },
    {
     "data": {
      "text/markdown": [
       "<a href=\"reports/SLC25A13.html\">SLC25A13</a><br>"
      ],
      "text/plain": [
       "<IPython.core.display.Markdown object>"
      ]
     },
     "metadata": {},
     "output_type": "display_data"
    },
    {
     "data": {
      "text/markdown": [
       "<a href=\"reports/CEP72.html\">CEP72</a><br>"
      ],
      "text/plain": [
       "<IPython.core.display.Markdown object>"
      ]
     },
     "metadata": {},
     "output_type": "display_data"
    },
    {
     "data": {
      "text/markdown": [
       "<a href=\"reports/BAALC.html\">BAALC</a><br>"
      ],
      "text/plain": [
       "<IPython.core.display.Markdown object>"
      ]
     },
     "metadata": {},
     "output_type": "display_data"
    },
    {
     "data": {
      "text/markdown": [
       "<a href=\"reports/CDHR3.html\">CDHR3</a><br>"
      ],
      "text/plain": [
       "<IPython.core.display.Markdown object>"
      ]
     },
     "metadata": {},
     "output_type": "display_data"
    },
    {
     "data": {
      "text/markdown": [
       "<a href=\"reports/JPH1.html\">JPH1</a><br>"
      ],
      "text/plain": [
       "<IPython.core.display.Markdown object>"
      ]
     },
     "metadata": {},
     "output_type": "display_data"
    },
    {
     "data": {
      "text/markdown": [
       "<a href=\"reports/TRIP13.html\">TRIP13</a><br>"
      ],
      "text/plain": [
       "<IPython.core.display.Markdown object>"
      ]
     },
     "metadata": {},
     "output_type": "display_data"
    },
    {
     "data": {
      "text/markdown": [
       "<a href=\"reports/CTDSP2.html\">CTDSP2</a><br>"
      ],
      "text/plain": [
       "<IPython.core.display.Markdown object>"
      ]
     },
     "metadata": {},
     "output_type": "display_data"
    },
    {
     "data": {
      "text/markdown": [
       "<a href=\"reports/GTPBP10.html\">GTPBP10</a><br>"
      ],
      "text/plain": [
       "<IPython.core.display.Markdown object>"
      ]
     },
     "metadata": {},
     "output_type": "display_data"
    },
    {
     "data": {
      "text/markdown": [
       "<a href=\"reports/ADGRB1.html\">ADGRB1</a><br>"
      ],
      "text/plain": [
       "<IPython.core.display.Markdown object>"
      ]
     },
     "metadata": {},
     "output_type": "display_data"
    },
    {
     "data": {
      "text/markdown": [
       "<a href=\"reports/CCN3.html\">CCN3</a><br>"
      ],
      "text/plain": [
       "<IPython.core.display.Markdown object>"
      ]
     },
     "metadata": {},
     "output_type": "display_data"
    },
    {
     "data": {
      "text/markdown": [
       "<a href=\"reports/LPCAT1.html\">LPCAT1</a><br>"
      ],
      "text/plain": [
       "<IPython.core.display.Markdown object>"
      ]
     },
     "metadata": {},
     "output_type": "display_data"
    },
    {
     "data": {
      "text/markdown": [
       "<a href=\"reports/HEPACAM2.html\">HEPACAM2</a><br>"
      ],
      "text/plain": [
       "<IPython.core.display.Markdown object>"
      ]
     },
     "metadata": {},
     "output_type": "display_data"
    },
    {
     "data": {
      "text/markdown": [
       "<a href=\"reports/RPL23A.html\">RPL23A</a><br>"
      ],
      "text/plain": [
       "<IPython.core.display.Markdown object>"
      ]
     },
     "metadata": {},
     "output_type": "display_data"
    },
    {
     "data": {
      "text/markdown": [
       "<a href=\"reports/TMEM130.html\">TMEM130</a><br>"
      ],
      "text/plain": [
       "<IPython.core.display.Markdown object>"
      ]
     },
     "metadata": {},
     "output_type": "display_data"
    },
    {
     "data": {
      "text/markdown": [
       "<a href=\"reports/HEY1.html\">HEY1</a><br>"
      ],
      "text/plain": [
       "<IPython.core.display.Markdown object>"
      ]
     },
     "metadata": {},
     "output_type": "display_data"
    },
    {
     "data": {
      "text/markdown": [
       "<a href=\"reports/CPQ.html\">CPQ</a><br>"
      ],
      "text/plain": [
       "<IPython.core.display.Markdown object>"
      ]
     },
     "metadata": {},
     "output_type": "display_data"
    },
    {
     "data": {
      "text/markdown": [
       "<a href=\"reports/GUCD1.html\">GUCD1</a><br>"
      ],
      "text/plain": [
       "<IPython.core.display.Markdown object>"
      ]
     },
     "metadata": {},
     "output_type": "display_data"
    },
    {
     "data": {
      "text/markdown": [
       "<a href=\"reports/UBR5.html\">UBR5</a><br>"
      ],
      "text/plain": [
       "<IPython.core.display.Markdown object>"
      ]
     },
     "metadata": {},
     "output_type": "display_data"
    },
    {
     "data": {
      "text/markdown": [
       "<a href=\"reports/B4GALT5.html\">B4GALT5</a><br>"
      ],
      "text/plain": [
       "<IPython.core.display.Markdown object>"
      ]
     },
     "metadata": {},
     "output_type": "display_data"
    },
    {
     "data": {
      "text/markdown": [
       "<a href=\"reports/EFR3A.html\">EFR3A</a><br>"
      ],
      "text/plain": [
       "<IPython.core.display.Markdown object>"
      ]
     },
     "metadata": {},
     "output_type": "display_data"
    },
    {
     "data": {
      "text/markdown": [
       "<a href=\"reports/PTPN1.html\">PTPN1</a><br>"
      ],
      "text/plain": [
       "<IPython.core.display.Markdown object>"
      ]
     },
     "metadata": {},
     "output_type": "display_data"
    },
    {
     "data": {
      "text/markdown": [
       "<a href=\"reports/ZNF804B.html\">ZNF804B</a><br>"
      ],
      "text/plain": [
       "<IPython.core.display.Markdown object>"
      ]
     },
     "metadata": {},
     "output_type": "display_data"
    },
    {
     "data": {
      "text/markdown": [
       "<a href=\"reports/CTHRC1.html\">CTHRC1</a><br>"
      ],
      "text/plain": [
       "<IPython.core.display.Markdown object>"
      ]
     },
     "metadata": {},
     "output_type": "display_data"
    },
    {
     "data": {
      "text/markdown": [
       "<a href=\"reports/RBM48.html\">RBM48</a><br>"
      ],
      "text/plain": [
       "<IPython.core.display.Markdown object>"
      ]
     },
     "metadata": {},
     "output_type": "display_data"
    },
    {
     "data": {
      "text/markdown": [
       "<a href=\"reports/UNC119.html\">UNC119</a><br>"
      ],
      "text/plain": [
       "<IPython.core.display.Markdown object>"
      ]
     },
     "metadata": {},
     "output_type": "display_data"
    },
    {
     "data": {
      "text/markdown": [
       "<a href=\"reports/DUS4L.html\">DUS4L</a><br>"
      ],
      "text/plain": [
       "<IPython.core.display.Markdown object>"
      ]
     },
     "metadata": {},
     "output_type": "display_data"
    },
    {
     "data": {
      "text/markdown": [
       "<a href=\"reports/PLPBP.html\">PLPBP</a><br>"
      ],
      "text/plain": [
       "<IPython.core.display.Markdown object>"
      ]
     },
     "metadata": {},
     "output_type": "display_data"
    },
    {
     "data": {
      "text/markdown": [
       "<a href=\"reports/TSFM.html\">TSFM</a><br>"
      ],
      "text/plain": [
       "<IPython.core.display.Markdown object>"
      ]
     },
     "metadata": {},
     "output_type": "display_data"
    },
    {
     "data": {
      "text/markdown": [
       "<a href=\"reports/NEK8.html\">NEK8</a><br>"
      ],
      "text/plain": [
       "<IPython.core.display.Markdown object>"
      ]
     },
     "metadata": {},
     "output_type": "display_data"
    },
    {
     "data": {
      "text/markdown": [
       "<a href=\"reports/PCOLCE.html\">PCOLCE</a><br>"
      ],
      "text/plain": [
       "<IPython.core.display.Markdown object>"
      ]
     },
     "metadata": {},
     "output_type": "display_data"
    },
    {
     "data": {
      "text/markdown": [
       "<a href=\"reports/RAD21.html\">RAD21</a><br>"
      ],
      "text/plain": [
       "<IPython.core.display.Markdown object>"
      ]
     },
     "metadata": {},
     "output_type": "display_data"
    },
    {
     "data": {
      "text/markdown": [
       "<a href=\"reports/FAM222B.html\">FAM222B</a><br>"
      ],
      "text/plain": [
       "<IPython.core.display.Markdown object>"
      ]
     },
     "metadata": {},
     "output_type": "display_data"
    },
    {
     "data": {
      "text/markdown": [
       "<a href=\"reports/VPS50.html\">VPS50</a><br>"
      ],
      "text/plain": [
       "<IPython.core.display.Markdown object>"
      ]
     },
     "metadata": {},
     "output_type": "display_data"
    },
    {
     "data": {
      "text/markdown": [
       "<a href=\"reports/TM2D2.html\">TM2D2</a><br>"
      ],
      "text/plain": [
       "<IPython.core.display.Markdown object>"
      ]
     },
     "metadata": {},
     "output_type": "display_data"
    },
    {
     "data": {
      "text/markdown": [
       "<a href=\"reports/ADAMTSL4.html\">ADAMTSL4</a><br>"
      ],
      "text/plain": [
       "<IPython.core.display.Markdown object>"
      ]
     },
     "metadata": {},
     "output_type": "display_data"
    },
    {
     "data": {
      "text/markdown": [
       "<a href=\"reports/KLHL38.html\">KLHL38</a><br>"
      ],
      "text/plain": [
       "<IPython.core.display.Markdown object>"
      ]
     },
     "metadata": {},
     "output_type": "display_data"
    },
    {
     "data": {
      "text/markdown": [
       "<a href=\"reports/CSE1L.html\">CSE1L</a><br>"
      ],
      "text/plain": [
       "<IPython.core.display.Markdown object>"
      ]
     },
     "metadata": {},
     "output_type": "display_data"
    },
    {
     "data": {
      "text/markdown": [
       "<a href=\"reports/NSD3.html\">NSD3</a><br>"
      ],
      "text/plain": [
       "<IPython.core.display.Markdown object>"
      ]
     },
     "metadata": {},
     "output_type": "display_data"
    },
    {
     "data": {
      "text/markdown": [
       "<a href=\"reports/ANXA13.html\">ANXA13</a><br>"
      ],
      "text/plain": [
       "<IPython.core.display.Markdown object>"
      ]
     },
     "metadata": {},
     "output_type": "display_data"
    },
    {
     "data": {
      "text/markdown": [
       "<a href=\"reports/DGAT1.html\">DGAT1</a><br>"
      ],
      "text/plain": [
       "<IPython.core.display.Markdown object>"
      ]
     },
     "metadata": {},
     "output_type": "display_data"
    },
    {
     "data": {
      "text/markdown": [
       "<a href=\"reports/FGF4.html\">FGF4</a><br>"
      ],
      "text/plain": [
       "<IPython.core.display.Markdown object>"
      ]
     },
     "metadata": {},
     "output_type": "display_data"
    },
    {
     "data": {
      "text/markdown": [
       "<a href=\"reports/UBE2W.html\">UBE2W</a><br>"
      ],
      "text/plain": [
       "<IPython.core.display.Markdown object>"
      ]
     },
     "metadata": {},
     "output_type": "display_data"
    },
    {
     "data": {
      "text/markdown": [
       "<a href=\"reports/ADAM9.html\">ADAM9</a><br>"
      ],
      "text/plain": [
       "<IPython.core.display.Markdown object>"
      ]
     },
     "metadata": {},
     "output_type": "display_data"
    },
    {
     "data": {
      "text/markdown": [
       "<a href=\"reports/GGT1.html\">GGT1</a><br>"
      ],
      "text/plain": [
       "<IPython.core.display.Markdown object>"
      ]
     },
     "metadata": {},
     "output_type": "display_data"
    },
    {
     "data": {
      "text/markdown": [
       "<a href=\"reports/SQLE.html\">SQLE</a><br>"
      ],
      "text/plain": [
       "<IPython.core.display.Markdown object>"
      ]
     },
     "metadata": {},
     "output_type": "display_data"
    },
    {
     "data": {
      "text/markdown": [
       "<a href=\"reports/CYP27B1.html\">CYP27B1</a><br>"
      ],
      "text/plain": [
       "<IPython.core.display.Markdown object>"
      ]
     },
     "metadata": {},
     "output_type": "display_data"
    },
    {
     "data": {
      "text/markdown": [
       "<a href=\"reports/UPK3BL2.html\">UPK3BL2</a><br>"
      ],
      "text/plain": [
       "<IPython.core.display.Markdown object>"
      ]
     },
     "metadata": {},
     "output_type": "display_data"
    },
    {
     "data": {
      "text/markdown": [
       "<a href=\"reports/MCM7.html\">MCM7</a><br>"
      ],
      "text/plain": [
       "<IPython.core.display.Markdown object>"
      ]
     },
     "metadata": {},
     "output_type": "display_data"
    },
    {
     "data": {
      "text/markdown": [
       "<a href=\"reports/POP7.html\">POP7</a><br>"
      ],
      "text/plain": [
       "<IPython.core.display.Markdown object>"
      ]
     },
     "metadata": {},
     "output_type": "display_data"
    },
    {
     "data": {
      "text/markdown": [
       "<a href=\"reports/TAF2.html\">TAF2</a><br>"
      ],
      "text/plain": [
       "<IPython.core.display.Markdown object>"
      ]
     },
     "metadata": {},
     "output_type": "display_data"
    },
    {
     "data": {
      "text/markdown": [
       "<a href=\"reports/PPP1R3D.html\">PPP1R3D</a><br>"
      ],
      "text/plain": [
       "<IPython.core.display.Markdown object>"
      ]
     },
     "metadata": {},
     "output_type": "display_data"
    },
    {
     "data": {
      "text/markdown": [
       "<a href=\"reports/RFC2.html\">RFC2</a><br>"
      ],
      "text/plain": [
       "<IPython.core.display.Markdown object>"
      ]
     },
     "metadata": {},
     "output_type": "display_data"
    },
    {
     "data": {
      "text/markdown": [
       "<a href=\"reports/TRIP6.html\">TRIP6</a><br>"
      ],
      "text/plain": [
       "<IPython.core.display.Markdown object>"
      ]
     },
     "metadata": {},
     "output_type": "display_data"
    },
    {
     "data": {
      "text/markdown": [
       "<a href=\"reports/SEMA3A.html\">SEMA3A</a><br>"
      ],
      "text/plain": [
       "<IPython.core.display.Markdown object>"
      ]
     },
     "metadata": {},
     "output_type": "display_data"
    },
    {
     "data": {
      "text/markdown": [
       "<a href=\"reports/TCAP.html\">TCAP</a><br>"
      ],
      "text/plain": [
       "<IPython.core.display.Markdown object>"
      ]
     },
     "metadata": {},
     "output_type": "display_data"
    },
    {
     "data": {
      "text/markdown": [
       "<a href=\"reports/STARD3.html\">STARD3</a><br>"
      ],
      "text/plain": [
       "<IPython.core.display.Markdown object>"
      ]
     },
     "metadata": {},
     "output_type": "display_data"
    },
    {
     "data": {
      "text/markdown": [
       "<a href=\"reports/ABHD11.html\">ABHD11</a><br>"
      ],
      "text/plain": [
       "<IPython.core.display.Markdown object>"
      ]
     },
     "metadata": {},
     "output_type": "display_data"
    },
    {
     "data": {
      "text/markdown": [
       "<a href=\"reports/ZBTB10.html\">ZBTB10</a><br>"
      ],
      "text/plain": [
       "<IPython.core.display.Markdown object>"
      ]
     },
     "metadata": {},
     "output_type": "display_data"
    },
    {
     "data": {
      "text/markdown": [
       "<a href=\"reports/DCAF13.html\">DCAF13</a><br>"
      ],
      "text/plain": [
       "<IPython.core.display.Markdown object>"
      ]
     },
     "metadata": {},
     "output_type": "display_data"
    },
    {
     "data": {
      "text/markdown": [
       "<a href=\"reports/FABP5.html\">FABP5</a><br>"
      ],
      "text/plain": [
       "<IPython.core.display.Markdown object>"
      ]
     },
     "metadata": {},
     "output_type": "display_data"
    },
    {
     "data": {
      "text/markdown": [
       "<a href=\"reports/SPAG5.html\">SPAG5</a><br>"
      ],
      "text/plain": [
       "<IPython.core.display.Markdown object>"
      ]
     },
     "metadata": {},
     "output_type": "display_data"
    },
    {
     "data": {
      "text/markdown": [
       "<a href=\"reports/TSPAN31.html\">TSPAN31</a><br>"
      ],
      "text/plain": [
       "<IPython.core.display.Markdown object>"
      ]
     },
     "metadata": {},
     "output_type": "display_data"
    },
    {
     "data": {
      "text/markdown": [
       "<a href=\"reports/WDR87.html\">WDR87</a><br>"
      ],
      "text/plain": [
       "<IPython.core.display.Markdown object>"
      ]
     },
     "metadata": {},
     "output_type": "display_data"
    },
    {
     "data": {
      "text/markdown": [
       "<a href=\"reports/FZD1.html\">FZD1</a><br>"
      ],
      "text/plain": [
       "<IPython.core.display.Markdown object>"
      ]
     },
     "metadata": {},
     "output_type": "display_data"
    },
    {
     "data": {
      "text/markdown": [
       "<a href=\"reports/FGF19.html\">FGF19</a><br>"
      ],
      "text/plain": [
       "<IPython.core.display.Markdown object>"
      ]
     },
     "metadata": {},
     "output_type": "display_data"
    },
    {
     "data": {
      "text/markdown": [
       "<a href=\"reports/CPSF4.html\">CPSF4</a><br>"
      ],
      "text/plain": [
       "<IPython.core.display.Markdown object>"
      ]
     },
     "metadata": {},
     "output_type": "display_data"
    },
    {
     "data": {
      "text/markdown": [
       "<a href=\"reports/PFDN4.html\">PFDN4</a><br>"
      ],
      "text/plain": [
       "<IPython.core.display.Markdown object>"
      ]
     },
     "metadata": {},
     "output_type": "display_data"
    },
    {
     "data": {
      "text/markdown": [
       "<a href=\"reports/SLC30A8.html\">SLC30A8</a><br>"
      ],
      "text/plain": [
       "<IPython.core.display.Markdown object>"
      ]
     },
     "metadata": {},
     "output_type": "display_data"
    },
    {
     "data": {
      "text/markdown": [
       "<a href=\"reports/TSNARE1.html\">TSNARE1</a><br>"
      ],
      "text/plain": [
       "<IPython.core.display.Markdown object>"
      ]
     },
     "metadata": {},
     "output_type": "display_data"
    },
    {
     "data": {
      "text/markdown": [
       "<a href=\"reports/BET1.html\">BET1</a><br>"
      ],
      "text/plain": [
       "<IPython.core.display.Markdown object>"
      ]
     },
     "metadata": {},
     "output_type": "display_data"
    },
    {
     "data": {
      "text/markdown": [
       "<a href=\"reports/GNB2.html\">GNB2</a><br>"
      ],
      "text/plain": [
       "<IPython.core.display.Markdown object>"
      ]
     },
     "metadata": {},
     "output_type": "display_data"
    },
    {
     "data": {
      "text/markdown": [
       "<a href=\"reports/MTDH.html\">MTDH</a><br>"
      ],
      "text/plain": [
       "<IPython.core.display.Markdown object>"
      ]
     },
     "metadata": {},
     "output_type": "display_data"
    },
    {
     "data": {
      "text/markdown": [
       "<a href=\"reports/SLC25A32.html\">SLC25A32</a><br>"
      ],
      "text/plain": [
       "<IPython.core.display.Markdown object>"
      ]
     },
     "metadata": {},
     "output_type": "display_data"
    },
    {
     "data": {
      "text/markdown": [
       "<a href=\"reports/ZNF517.html\">ZNF517</a><br>"
      ],
      "text/plain": [
       "<IPython.core.display.Markdown object>"
      ]
     },
     "metadata": {},
     "output_type": "display_data"
    },
    {
     "data": {
      "text/markdown": [
       "<a href=\"reports/CDH17.html\">CDH17</a><br>"
      ],
      "text/plain": [
       "<IPython.core.display.Markdown object>"
      ]
     },
     "metadata": {},
     "output_type": "display_data"
    },
    {
     "data": {
      "text/markdown": [
       "<a href=\"reports/PKIA.html\">PKIA</a><br>"
      ],
      "text/plain": [
       "<IPython.core.display.Markdown object>"
      ]
     },
     "metadata": {},
     "output_type": "display_data"
    },
    {
     "data": {
      "text/markdown": [
       "<a href=\"reports/VAPB.html\">VAPB</a><br>"
      ],
      "text/plain": [
       "<IPython.core.display.Markdown object>"
      ]
     },
     "metadata": {},
     "output_type": "display_data"
    },
    {
     "data": {
      "text/markdown": [
       "<a href=\"reports/PMEPA1.html\">PMEPA1</a><br>"
      ],
      "text/plain": [
       "<IPython.core.display.Markdown object>"
      ]
     },
     "metadata": {},
     "output_type": "display_data"
    },
    {
     "data": {
      "text/markdown": [
       "<a href=\"reports/CBLL1.html\">CBLL1</a><br>"
      ],
      "text/plain": [
       "<IPython.core.display.Markdown object>"
      ]
     },
     "metadata": {},
     "output_type": "display_data"
    },
    {
     "data": {
      "text/markdown": [
       "<a href=\"reports/SNTB1.html\">SNTB1</a><br>"
      ],
      "text/plain": [
       "<IPython.core.display.Markdown object>"
      ]
     },
     "metadata": {},
     "output_type": "display_data"
    },
    {
     "data": {
      "text/markdown": [
       "<a href=\"reports/CASTOR3.html\">CASTOR3</a><br>"
      ],
      "text/plain": [
       "<IPython.core.display.Markdown object>"
      ]
     },
     "metadata": {},
     "output_type": "display_data"
    },
    {
     "data": {
      "text/markdown": [
       "<a href=\"reports/COG5.html\">COG5</a><br>"
      ],
      "text/plain": [
       "<IPython.core.display.Markdown object>"
      ]
     },
     "metadata": {},
     "output_type": "display_data"
    },
    {
     "data": {
      "text/markdown": [
       "<a href=\"reports/OSGIN2.html\">OSGIN2</a><br>"
      ],
      "text/plain": [
       "<IPython.core.display.Markdown object>"
      ]
     },
     "metadata": {},
     "output_type": "display_data"
    },
    {
     "data": {
      "text/markdown": [
       "<a href=\"reports/SNX31.html\">SNX31</a><br>"
      ],
      "text/plain": [
       "<IPython.core.display.Markdown object>"
      ]
     },
     "metadata": {},
     "output_type": "display_data"
    },
    {
     "data": {
      "text/markdown": [
       "<a href=\"reports/RNF19A.html\">RNF19A</a><br>"
      ],
      "text/plain": [
       "<IPython.core.display.Markdown object>"
      ]
     },
     "metadata": {},
     "output_type": "display_data"
    },
    {
     "data": {
      "text/markdown": [
       "<a href=\"reports/GTF2I.html\">GTF2I</a><br>"
      ],
      "text/plain": [
       "<IPython.core.display.Markdown object>"
      ]
     },
     "metadata": {},
     "output_type": "display_data"
    },
    {
     "data": {
      "text/markdown": [
       "<a href=\"reports/ZKSCAN5.html\">ZKSCAN5</a><br>"
      ],
      "text/plain": [
       "<IPython.core.display.Markdown object>"
      ]
     },
     "metadata": {},
     "output_type": "display_data"
    },
    {
     "data": {
      "text/markdown": [
       "<a href=\"reports/CAV2.html\">CAV2</a><br>"
      ],
      "text/plain": [
       "<IPython.core.display.Markdown object>"
      ]
     },
     "metadata": {},
     "output_type": "display_data"
    },
    {
     "data": {
      "text/markdown": [
       "<a href=\"reports/CA1.html\">CA1</a><br>"
      ],
      "text/plain": [
       "<IPython.core.display.Markdown object>"
      ]
     },
     "metadata": {},
     "output_type": "display_data"
    },
    {
     "data": {
      "text/markdown": [
       "<a href=\"reports/FBXO32.html\">FBXO32</a><br>"
      ],
      "text/plain": [
       "<IPython.core.display.Markdown object>"
      ]
     },
     "metadata": {},
     "output_type": "display_data"
    },
    {
     "data": {
      "text/markdown": [
       "<a href=\"reports/SEMA3E.html\">SEMA3E</a><br>"
      ],
      "text/plain": [
       "<IPython.core.display.Markdown object>"
      ]
     },
     "metadata": {},
     "output_type": "display_data"
    },
    {
     "data": {
      "text/markdown": [
       "<a href=\"reports/ORC5.html\">ORC5</a><br>"
      ],
      "text/plain": [
       "<IPython.core.display.Markdown object>"
      ]
     },
     "metadata": {},
     "output_type": "display_data"
    },
    {
     "data": {
      "text/markdown": [
       "<a href=\"reports/EMC2.html\">EMC2</a><br>"
      ],
      "text/plain": [
       "<IPython.core.display.Markdown object>"
      ]
     },
     "metadata": {},
     "output_type": "display_data"
    },
    {
     "data": {
      "text/markdown": [
       "<a href=\"reports/SMURF1.html\">SMURF1</a><br>"
      ],
      "text/plain": [
       "<IPython.core.display.Markdown object>"
      ]
     },
     "metadata": {},
     "output_type": "display_data"
    },
    {
     "data": {
      "text/markdown": [
       "<a href=\"reports/C20orf85.html\">C20orf85</a><br>"
      ],
      "text/plain": [
       "<IPython.core.display.Markdown object>"
      ]
     },
     "metadata": {},
     "output_type": "display_data"
    },
    {
     "data": {
      "text/markdown": [
       "<a href=\"reports/PTCD1.html\">PTCD1</a><br>"
      ],
      "text/plain": [
       "<IPython.core.display.Markdown object>"
      ]
     },
     "metadata": {},
     "output_type": "display_data"
    },
    {
     "data": {
      "text/markdown": [
       "<a href=\"reports/IRX2.html\">IRX2</a><br>"
      ],
      "text/plain": [
       "<IPython.core.display.Markdown object>"
      ]
     },
     "metadata": {},
     "output_type": "display_data"
    },
    {
     "data": {
      "text/markdown": [
       "<a href=\"reports/NEUROD2.html\">NEUROD2</a><br>"
      ],
      "text/plain": [
       "<IPython.core.display.Markdown object>"
      ]
     },
     "metadata": {},
     "output_type": "display_data"
    },
    {
     "data": {
      "text/markdown": [
       "<a href=\"reports/DLX6.html\">DLX6</a><br>"
      ],
      "text/plain": [
       "<IPython.core.display.Markdown object>"
      ]
     },
     "metadata": {},
     "output_type": "display_data"
    },
    {
     "data": {
      "text/markdown": [
       "<a href=\"reports/PDK4.html\">PDK4</a><br>"
      ],
      "text/plain": [
       "<IPython.core.display.Markdown object>"
      ]
     },
     "metadata": {},
     "output_type": "display_data"
    },
    {
     "data": {
      "text/markdown": [
       "<a href=\"reports/RINT1.html\">RINT1</a><br>"
      ],
      "text/plain": [
       "<IPython.core.display.Markdown object>"
      ]
     },
     "metadata": {},
     "output_type": "display_data"
    },
    {
     "data": {
      "text/markdown": [
       "<a href=\"reports/SPDYE2.html\">SPDYE2</a><br>"
      ],
      "text/plain": [
       "<IPython.core.display.Markdown object>"
      ]
     },
     "metadata": {},
     "output_type": "display_data"
    },
    {
     "data": {
      "text/markdown": [
       "<a href=\"reports/LY6K.html\">LY6K</a><br>"
      ],
      "text/plain": [
       "<IPython.core.display.Markdown object>"
      ]
     },
     "metadata": {},
     "output_type": "display_data"
    },
    {
     "data": {
      "text/markdown": [
       "<a href=\"reports/SBSPON.html\">SBSPON</a><br>"
      ],
      "text/plain": [
       "<IPython.core.display.Markdown object>"
      ]
     },
     "metadata": {},
     "output_type": "display_data"
    },
    {
     "data": {
      "text/markdown": [
       "<a href=\"reports/LRRCC1.html\">LRRCC1</a><br>"
      ],
      "text/plain": [
       "<IPython.core.display.Markdown object>"
      ]
     },
     "metadata": {},
     "output_type": "display_data"
    },
    {
     "data": {
      "text/markdown": [
       "<a href=\"reports/ATAD2.html\">ATAD2</a><br>"
      ],
      "text/plain": [
       "<IPython.core.display.Markdown object>"
      ]
     },
     "metadata": {},
     "output_type": "display_data"
    },
    {
     "data": {
      "text/markdown": [
       "<a href=\"reports/LRWD1.html\">LRWD1</a><br>"
      ],
      "text/plain": [
       "<IPython.core.display.Markdown object>"
      ]
     },
     "metadata": {},
     "output_type": "display_data"
    },
    {
     "data": {
      "text/markdown": [
       "<a href=\"reports/PILRB.html\">PILRB</a><br>"
      ],
      "text/plain": [
       "<IPython.core.display.Markdown object>"
      ]
     },
     "metadata": {},
     "output_type": "display_data"
    },
    {
     "data": {
      "text/markdown": [
       "<a href=\"reports/RUNX1T1.html\">RUNX1T1</a><br>"
      ],
      "text/plain": [
       "<IPython.core.display.Markdown object>"
      ]
     },
     "metadata": {},
     "output_type": "display_data"
    },
    {
     "data": {
      "text/markdown": [
       "<a href=\"reports/PDCD6.html\">PDCD6</a><br>"
      ],
      "text/plain": [
       "<IPython.core.display.Markdown object>"
      ]
     },
     "metadata": {},
     "output_type": "display_data"
    },
    {
     "data": {
      "text/markdown": [
       "<a href=\"reports/DYNC2H1.html\">DYNC2H1</a><br>"
      ],
      "text/plain": [
       "<IPython.core.display.Markdown object>"
      ]
     },
     "metadata": {},
     "output_type": "display_data"
    },
    {
     "data": {
      "text/markdown": [
       "<a href=\"reports/CEBPB.html\">CEBPB</a><br>"
      ],
      "text/plain": [
       "<IPython.core.display.Markdown object>"
      ]
     },
     "metadata": {},
     "output_type": "display_data"
    },
    {
     "data": {
      "text/markdown": [
       "<a href=\"reports/PPP1R1B.html\">PPP1R1B</a><br>"
      ],
      "text/plain": [
       "<IPython.core.display.Markdown object>"
      ]
     },
     "metadata": {},
     "output_type": "display_data"
    },
    {
     "data": {
      "text/markdown": [
       "<a href=\"reports/SLC26A3.html\">SLC26A3</a><br>"
      ],
      "text/plain": [
       "<IPython.core.display.Markdown object>"
      ]
     },
     "metadata": {},
     "output_type": "display_data"
    },
    {
     "data": {
      "text/markdown": [
       "<a href=\"reports/PIK3CG.html\">PIK3CG</a><br>"
      ],
      "text/plain": [
       "<IPython.core.display.Markdown object>"
      ]
     },
     "metadata": {},
     "output_type": "display_data"
    },
    {
     "data": {
      "text/markdown": [
       "<a href=\"reports/ZKSCAN1.html\">ZKSCAN1</a><br>"
      ],
      "text/plain": [
       "<IPython.core.display.Markdown object>"
      ]
     },
     "metadata": {},
     "output_type": "display_data"
    },
    {
     "data": {
      "text/markdown": [
       "<a href=\"reports/SULF2.html\">SULF2</a><br>"
      ],
      "text/plain": [
       "<IPython.core.display.Markdown object>"
      ]
     },
     "metadata": {},
     "output_type": "display_data"
    },
    {
     "data": {
      "text/markdown": [
       "<a href=\"reports/SLC12A7.html\">SLC12A7</a><br>"
      ],
      "text/plain": [
       "<IPython.core.display.Markdown object>"
      ]
     },
     "metadata": {},
     "output_type": "display_data"
    },
    {
     "data": {
      "text/markdown": [
       "<a href=\"reports/SDHA.html\">SDHA</a><br>"
      ],
      "text/plain": [
       "<IPython.core.display.Markdown object>"
      ]
     },
     "metadata": {},
     "output_type": "display_data"
    },
    {
     "data": {
      "text/markdown": [
       "<a href=\"reports/INTS8.html\">INTS8</a><br>"
      ],
      "text/plain": [
       "<IPython.core.display.Markdown object>"
      ]
     },
     "metadata": {},
     "output_type": "display_data"
    },
    {
     "data": {
      "text/markdown": [
       "<a href=\"reports/FSBP.html\">FSBP</a><br>"
      ],
      "text/plain": [
       "<IPython.core.display.Markdown object>"
      ]
     },
     "metadata": {},
     "output_type": "display_data"
    },
    {
     "data": {
      "text/markdown": [
       "<a href=\"reports/SLC26A10.html\">SLC26A10</a><br>"
      ],
      "text/plain": [
       "<IPython.core.display.Markdown object>"
      ]
     },
     "metadata": {},
     "output_type": "display_data"
    },
    {
     "data": {
      "text/markdown": [
       "<a href=\"reports/SPECC1L.html\">SPECC1L</a><br>"
      ],
      "text/plain": [
       "<IPython.core.display.Markdown object>"
      ]
     },
     "metadata": {},
     "output_type": "display_data"
    },
    {
     "data": {
      "text/markdown": [
       "<a href=\"reports/GPR20.html\">GPR20</a><br>"
      ],
      "text/plain": [
       "<IPython.core.display.Markdown object>"
      ]
     },
     "metadata": {},
     "output_type": "display_data"
    },
    {
     "data": {
      "text/markdown": [
       "<a href=\"reports/ERAL1.html\">ERAL1</a><br>"
      ],
      "text/plain": [
       "<IPython.core.display.Markdown object>"
      ]
     },
     "metadata": {},
     "output_type": "display_data"
    },
    {
     "data": {
      "text/markdown": [
       "<a href=\"reports/DDI1.html\">DDI1</a><br>"
      ],
      "text/plain": [
       "<IPython.core.display.Markdown object>"
      ]
     },
     "metadata": {},
     "output_type": "display_data"
    },
    {
     "data": {
      "text/markdown": [
       "<a href=\"reports/BAG4.html\">BAG4</a><br>"
      ],
      "text/plain": [
       "<IPython.core.display.Markdown object>"
      ]
     },
     "metadata": {},
     "output_type": "display_data"
    },
    {
     "data": {
      "text/markdown": [
       "<a href=\"reports/PIPOX.html\">PIPOX</a><br>"
      ],
      "text/plain": [
       "<IPython.core.display.Markdown object>"
      ]
     },
     "metadata": {},
     "output_type": "display_data"
    },
    {
     "data": {
      "text/markdown": [
       "<a href=\"reports/OXR1.html\">OXR1</a><br>"
      ],
      "text/plain": [
       "<IPython.core.display.Markdown object>"
      ]
     },
     "metadata": {},
     "output_type": "display_data"
    },
    {
     "data": {
      "text/markdown": [
       "<a href=\"reports/ABCB4.html\">ABCB4</a><br>"
      ],
      "text/plain": [
       "<IPython.core.display.Markdown object>"
      ]
     },
     "metadata": {},
     "output_type": "display_data"
    },
    {
     "data": {
      "text/markdown": [
       "<a href=\"reports/ZFAND1.html\">ZFAND1</a><br>"
      ],
      "text/plain": [
       "<IPython.core.display.Markdown object>"
      ]
     },
     "metadata": {},
     "output_type": "display_data"
    },
    {
     "data": {
      "text/markdown": [
       "<a href=\"reports/SLC6A5.html\">SLC6A5</a><br>"
      ],
      "text/plain": [
       "<IPython.core.display.Markdown object>"
      ]
     },
     "metadata": {},
     "output_type": "display_data"
    },
    {
     "data": {
      "text/markdown": [
       "<a href=\"reports/DMTF1.html\">DMTF1</a><br>"
      ],
      "text/plain": [
       "<IPython.core.display.Markdown object>"
      ]
     },
     "metadata": {},
     "output_type": "display_data"
    },
    {
     "data": {
      "text/markdown": [
       "<a href=\"reports/GNAS.html\">GNAS</a><br>"
      ],
      "text/plain": [
       "<IPython.core.display.Markdown object>"
      ]
     },
     "metadata": {},
     "output_type": "display_data"
    },
    {
     "data": {
      "text/markdown": [
       "<a href=\"reports/SPATA2.html\">SPATA2</a><br>"
      ],
      "text/plain": [
       "<IPython.core.display.Markdown object>"
      ]
     },
     "metadata": {},
     "output_type": "display_data"
    },
    {
     "data": {
      "text/markdown": [
       "<a href=\"reports/BRI3.html\">BRI3</a><br>"
      ],
      "text/plain": [
       "<IPython.core.display.Markdown object>"
      ]
     },
     "metadata": {},
     "output_type": "display_data"
    },
    {
     "data": {
      "text/markdown": [
       "<a href=\"reports/CTCFL.html\">CTCFL</a><br>"
      ],
      "text/plain": [
       "<IPython.core.display.Markdown object>"
      ]
     },
     "metadata": {},
     "output_type": "display_data"
    },
    {
     "data": {
      "text/markdown": [
       "<a href=\"reports/CPNE3.html\">CPNE3</a><br>"
      ],
      "text/plain": [
       "<IPython.core.display.Markdown object>"
      ]
     },
     "metadata": {},
     "output_type": "display_data"
    },
    {
     "data": {
      "text/markdown": [
       "<a href=\"reports/FABP4.html\">FABP4</a><br>"
      ],
      "text/plain": [
       "<IPython.core.display.Markdown object>"
      ]
     },
     "metadata": {},
     "output_type": "display_data"
    },
    {
     "data": {
      "text/markdown": [
       "<a href=\"reports/HSF1.html\">HSF1</a><br>"
      ],
      "text/plain": [
       "<IPython.core.display.Markdown object>"
      ]
     },
     "metadata": {},
     "output_type": "display_data"
    },
    {
     "data": {
      "text/markdown": [
       "<a href=\"reports/BIRC2.html\">BIRC2</a><br>"
      ],
      "text/plain": [
       "<IPython.core.display.Markdown object>"
      ]
     },
     "metadata": {},
     "output_type": "display_data"
    },
    {
     "data": {
      "text/markdown": [
       "<a href=\"reports/ZNF277.html\">ZNF277</a><br>"
      ],
      "text/plain": [
       "<IPython.core.display.Markdown object>"
      ]
     },
     "metadata": {},
     "output_type": "display_data"
    },
    {
     "data": {
      "text/markdown": [
       "<a href=\"reports/NDUFS6.html\">NDUFS6</a><br>"
      ],
      "text/plain": [
       "<IPython.core.display.Markdown object>"
      ]
     },
     "metadata": {},
     "output_type": "display_data"
    },
    {
     "data": {
      "text/markdown": [
       "<a href=\"reports/LGALS9.html\">LGALS9</a><br>"
      ],
      "text/plain": [
       "<IPython.core.display.Markdown object>"
      ]
     },
     "metadata": {},
     "output_type": "display_data"
    },
    {
     "data": {
      "text/markdown": [
       "<a href=\"reports/YIF1B.html\">YIF1B</a><br>"
      ],
      "text/plain": [
       "<IPython.core.display.Markdown object>"
      ]
     },
     "metadata": {},
     "output_type": "display_data"
    },
    {
     "data": {
      "text/markdown": [
       "<a href=\"reports/CHMP4C.html\">CHMP4C</a><br>"
      ],
      "text/plain": [
       "<IPython.core.display.Markdown object>"
      ]
     },
     "metadata": {},
     "output_type": "display_data"
    },
    {
     "data": {
      "text/markdown": [
       "<a href=\"reports/ADNP.html\">ADNP</a><br>"
      ],
      "text/plain": [
       "<IPython.core.display.Markdown object>"
      ]
     },
     "metadata": {},
     "output_type": "display_data"
    },
    {
     "data": {
      "text/markdown": [
       "<a href=\"reports/ATP9A.html\">ATP9A</a><br>"
      ],
      "text/plain": [
       "<IPython.core.display.Markdown object>"
      ]
     },
     "metadata": {},
     "output_type": "display_data"
    },
    {
     "data": {
      "text/markdown": [
       "<a href=\"reports/CHRAC1.html\">CHRAC1</a><br>"
      ],
      "text/plain": [
       "<IPython.core.display.Markdown object>"
      ]
     },
     "metadata": {},
     "output_type": "display_data"
    },
    {
     "data": {
      "text/markdown": [
       "<a href=\"reports/PLPP5.html\">PLPP5</a><br>"
      ],
      "text/plain": [
       "<IPython.core.display.Markdown object>"
      ]
     },
     "metadata": {},
     "output_type": "display_data"
    },
    {
     "data": {
      "text/markdown": [
       "<a href=\"reports/GGT5.html\">GGT5</a><br>"
      ],
      "text/plain": [
       "<IPython.core.display.Markdown object>"
      ]
     },
     "metadata": {},
     "output_type": "display_data"
    },
    {
     "data": {
      "text/markdown": [
       "<a href=\"reports/CA3.html\">CA3</a><br>"
      ],
      "text/plain": [
       "<IPython.core.display.Markdown object>"
      ]
     },
     "metadata": {},
     "output_type": "display_data"
    },
    {
     "data": {
      "text/markdown": [
       "<a href=\"reports/SCRT1.html\">SCRT1</a><br>"
      ],
      "text/plain": [
       "<IPython.core.display.Markdown object>"
      ]
     },
     "metadata": {},
     "output_type": "display_data"
    },
    {
     "data": {
      "text/markdown": [
       "<a href=\"reports/AZIN1.html\">AZIN1</a><br>"
      ],
      "text/plain": [
       "<IPython.core.display.Markdown object>"
      ]
     },
     "metadata": {},
     "output_type": "display_data"
    },
    {
     "data": {
      "text/markdown": [
       "<a href=\"reports/C8orf33.html\">C8orf33</a><br>"
      ],
      "text/plain": [
       "<IPython.core.display.Markdown object>"
      ]
     },
     "metadata": {},
     "output_type": "display_data"
    },
    {
     "data": {
      "text/markdown": [
       "<a href=\"reports/SPINT2.html\">SPINT2</a><br>"
      ],
      "text/plain": [
       "<IPython.core.display.Markdown object>"
      ]
     },
     "metadata": {},
     "output_type": "display_data"
    },
    {
     "data": {
      "text/markdown": [
       "<a href=\"reports/OTUD6B.html\">OTUD6B</a><br>"
      ],
      "text/plain": [
       "<IPython.core.display.Markdown object>"
      ]
     },
     "metadata": {},
     "output_type": "display_data"
    },
    {
     "data": {
      "text/markdown": [
       "<a href=\"reports/VPS28.html\">VPS28</a><br>"
      ],
      "text/plain": [
       "<IPython.core.display.Markdown object>"
      ]
     },
     "metadata": {},
     "output_type": "display_data"
    },
    {
     "data": {
      "text/markdown": [
       "<a href=\"reports/NYAP1.html\">NYAP1</a><br>"
      ],
      "text/plain": [
       "<IPython.core.display.Markdown object>"
      ]
     },
     "metadata": {},
     "output_type": "display_data"
    },
    {
     "data": {
      "text/markdown": [
       "<a href=\"reports/PPP1R3A.html\">PPP1R3A</a><br>"
      ],
      "text/plain": [
       "<IPython.core.display.Markdown object>"
      ]
     },
     "metadata": {},
     "output_type": "display_data"
    },
    {
     "data": {
      "text/markdown": [
       "<a href=\"reports/PMPCB.html\">PMPCB</a><br>"
      ],
      "text/plain": [
       "<IPython.core.display.Markdown object>"
      ]
     },
     "metadata": {},
     "output_type": "display_data"
    },
    {
     "data": {
      "text/markdown": [
       "<a href=\"reports/PSCA.html\">PSCA</a><br>"
      ],
      "text/plain": [
       "<IPython.core.display.Markdown object>"
      ]
     },
     "metadata": {},
     "output_type": "display_data"
    },
    {
     "data": {
      "text/markdown": [
       "<a href=\"reports/WDYHV1.html\">WDYHV1</a><br>"
      ],
      "text/plain": [
       "<IPython.core.display.Markdown object>"
      ]
     },
     "metadata": {},
     "output_type": "display_data"
    },
    {
     "data": {
      "text/markdown": [
       "<a href=\"reports/ASAP1.html\">ASAP1</a><br>"
      ],
      "text/plain": [
       "<IPython.core.display.Markdown object>"
      ]
     },
     "metadata": {},
     "output_type": "display_data"
    },
    {
     "data": {
      "text/markdown": [
       "<a href=\"reports/FER1L6.html\">FER1L6</a><br>"
      ],
      "text/plain": [
       "<IPython.core.display.Markdown object>"
      ]
     },
     "metadata": {},
     "output_type": "display_data"
    },
    {
     "data": {
      "text/markdown": [
       "<a href=\"reports/CPSF1.html\">CPSF1</a><br>"
      ],
      "text/plain": [
       "<IPython.core.display.Markdown object>"
      ]
     },
     "metadata": {},
     "output_type": "display_data"
    },
    {
     "data": {
      "text/markdown": [
       "<a href=\"reports/CFAP300.html\">CFAP300</a><br>"
      ],
      "text/plain": [
       "<IPython.core.display.Markdown object>"
      ]
     },
     "metadata": {},
     "output_type": "display_data"
    },
    {
     "data": {
      "text/markdown": [
       "<a href=\"reports/SRRT.html\">SRRT</a><br>"
      ],
      "text/plain": [
       "<IPython.core.display.Markdown object>"
      ]
     },
     "metadata": {},
     "output_type": "display_data"
    },
    {
     "data": {
      "text/markdown": [
       "<a href=\"reports/GRB7.html\">GRB7</a><br>"
      ],
      "text/plain": [
       "<IPython.core.display.Markdown object>"
      ]
     },
     "metadata": {},
     "output_type": "display_data"
    },
    {
     "data": {
      "text/markdown": [
       "<a href=\"reports/DECR1.html\">DECR1</a><br>"
      ],
      "text/plain": [
       "<IPython.core.display.Markdown object>"
      ]
     },
     "metadata": {},
     "output_type": "display_data"
    },
    {
     "data": {
      "text/markdown": [
       "<a href=\"reports/ZSCAN25.html\">ZSCAN25</a><br>"
      ],
      "text/plain": [
       "<IPython.core.display.Markdown object>"
      ]
     },
     "metadata": {},
     "output_type": "display_data"
    },
    {
     "data": {
      "text/markdown": [
       "<a href=\"reports/ZFHX4.html\">ZFHX4</a><br>"
      ],
      "text/plain": [
       "<IPython.core.display.Markdown object>"
      ]
     },
     "metadata": {},
     "output_type": "display_data"
    },
    {
     "data": {
      "text/markdown": [
       "<a href=\"reports/GEM.html\">GEM</a><br>"
      ],
      "text/plain": [
       "<IPython.core.display.Markdown object>"
      ]
     },
     "metadata": {},
     "output_type": "display_data"
    },
    {
     "data": {
      "text/markdown": [
       "<a href=\"reports/ATP6V0D2.html\">ATP6V0D2</a><br>"
      ],
      "text/plain": [
       "<IPython.core.display.Markdown object>"
      ]
     },
     "metadata": {},
     "output_type": "display_data"
    },
    {
     "data": {
      "text/markdown": [
       "<a href=\"reports/CNPY4.html\">CNPY4</a><br>"
      ],
      "text/plain": [
       "<IPython.core.display.Markdown object>"
      ]
     },
     "metadata": {},
     "output_type": "display_data"
    },
    {
     "data": {
      "text/markdown": [
       "<a href=\"reports/EIF3E.html\">EIF3E</a><br>"
      ],
      "text/plain": [
       "<IPython.core.display.Markdown object>"
      ]
     },
     "metadata": {},
     "output_type": "display_data"
    },
    {
     "data": {
      "text/markdown": [
       "<a href=\"reports/MOCS3.html\">MOCS3</a><br>"
      ],
      "text/plain": [
       "<IPython.core.display.Markdown object>"
      ]
     },
     "metadata": {},
     "output_type": "display_data"
    },
    {
     "data": {
      "text/markdown": [
       "<a href=\"reports/CSTF1.html\">CSTF1</a><br>"
      ],
      "text/plain": [
       "<IPython.core.display.Markdown object>"
      ]
     },
     "metadata": {},
     "output_type": "display_data"
    },
    {
     "data": {
      "text/markdown": [
       "<a href=\"reports/TATDN1.html\">TATDN1</a><br>"
      ],
      "text/plain": [
       "<IPython.core.display.Markdown object>"
      ]
     },
     "metadata": {},
     "output_type": "display_data"
    },
    {
     "data": {
      "text/markdown": [
       "<a href=\"reports/CDK4.html\">CDK4</a><br>"
      ],
      "text/plain": [
       "<IPython.core.display.Markdown object>"
      ]
     },
     "metadata": {},
     "output_type": "display_data"
    },
    {
     "data": {
      "text/markdown": [
       "<a href=\"reports/SNAI2.html\">SNAI2</a><br>"
      ],
      "text/plain": [
       "<IPython.core.display.Markdown object>"
      ]
     },
     "metadata": {},
     "output_type": "display_data"
    },
    {
     "data": {
      "text/markdown": [
       "<a href=\"reports/CROT.html\">CROT</a><br>"
      ],
      "text/plain": [
       "<IPython.core.display.Markdown object>"
      ]
     },
     "metadata": {},
     "output_type": "display_data"
    },
    {
     "data": {
      "text/markdown": [
       "<a href=\"reports/RPL8.html\">RPL8</a><br>"
      ],
      "text/plain": [
       "<IPython.core.display.Markdown object>"
      ]
     },
     "metadata": {},
     "output_type": "display_data"
    },
    {
     "data": {
      "text/markdown": [
       "<a href=\"reports/PTDSS1.html\">PTDSS1</a><br>"
      ],
      "text/plain": [
       "<IPython.core.display.Markdown object>"
      ]
     },
     "metadata": {},
     "output_type": "display_data"
    },
    {
     "data": {
      "text/markdown": [
       "<a href=\"reports/GAL3ST4.html\">GAL3ST4</a><br>"
      ],
      "text/plain": [
       "<IPython.core.display.Markdown object>"
      ]
     },
     "metadata": {},
     "output_type": "display_data"
    },
    {
     "data": {
      "text/markdown": [
       "<a href=\"reports/TRA2B.html\">TRA2B</a><br>"
      ],
      "text/plain": [
       "<IPython.core.display.Markdown object>"
      ]
     },
     "metadata": {},
     "output_type": "display_data"
    },
    {
     "data": {
      "text/markdown": [
       "<a href=\"reports/SLC26A5.html\">SLC26A5</a><br>"
      ],
      "text/plain": [
       "<IPython.core.display.Markdown object>"
      ]
     },
     "metadata": {},
     "output_type": "display_data"
    },
    {
     "data": {
      "text/markdown": [
       "<a href=\"reports/EIF3H.html\">EIF3H</a><br>"
      ],
      "text/plain": [
       "<IPython.core.display.Markdown object>"
      ]
     },
     "metadata": {},
     "output_type": "display_data"
    },
    {
     "data": {
      "text/markdown": [
       "<a href=\"reports/KPNA7.html\">KPNA7</a><br>"
      ],
      "text/plain": [
       "<IPython.core.display.Markdown object>"
      ]
     },
     "metadata": {},
     "output_type": "display_data"
    },
    {
     "data": {
      "text/markdown": [
       "<a href=\"reports/RIMS2.html\">RIMS2</a><br>"
      ],
      "text/plain": [
       "<IPython.core.display.Markdown object>"
      ]
     },
     "metadata": {},
     "output_type": "display_data"
    },
    {
     "data": {
      "text/markdown": [
       "<a href=\"reports/RTF2.html\">RTF2</a><br>"
      ],
      "text/plain": [
       "<IPython.core.display.Markdown object>"
      ]
     },
     "metadata": {},
     "output_type": "display_data"
    },
    {
     "data": {
      "text/markdown": [
       "<a href=\"reports/RAB22A.html\">RAB22A</a><br>"
      ],
      "text/plain": [
       "<IPython.core.display.Markdown object>"
      ]
     },
     "metadata": {},
     "output_type": "display_data"
    },
    {
     "data": {
      "text/markdown": [
       "<a href=\"reports/KSR1.html\">KSR1</a><br>"
      ],
      "text/plain": [
       "<IPython.core.display.Markdown object>"
      ]
     },
     "metadata": {},
     "output_type": "display_data"
    },
    {
     "data": {
      "text/markdown": [
       "<a href=\"reports/DLX5.html\">DLX5</a><br>"
      ],
      "text/plain": [
       "<IPython.core.display.Markdown object>"
      ]
     },
     "metadata": {},
     "output_type": "display_data"
    },
    {
     "data": {
      "text/markdown": [
       "<a href=\"reports/ATP5F1E.html\">ATP5F1E</a><br>"
      ],
      "text/plain": [
       "<IPython.core.display.Markdown object>"
      ]
     },
     "metadata": {},
     "output_type": "display_data"
    },
    {
     "data": {
      "text/markdown": [
       "<a href=\"reports/CNGB3.html\">CNGB3</a><br>"
      ],
      "text/plain": [
       "<IPython.core.display.Markdown object>"
      ]
     },
     "metadata": {},
     "output_type": "display_data"
    },
    {
     "data": {
      "text/markdown": [
       "<a href=\"reports/MOGAT3.html\">MOGAT3</a><br>"
      ],
      "text/plain": [
       "<IPython.core.display.Markdown object>"
      ]
     },
     "metadata": {},
     "output_type": "display_data"
    },
    {
     "data": {
      "text/markdown": [
       "<a href=\"reports/PON2.html\">PON2</a><br>"
      ],
      "text/plain": [
       "<IPython.core.display.Markdown object>"
      ]
     },
     "metadata": {},
     "output_type": "display_data"
    },
    {
     "data": {
      "text/markdown": [
       "<a href=\"reports/FAM185A.html\">FAM185A</a><br>"
      ],
      "text/plain": [
       "<IPython.core.display.Markdown object>"
      ]
     },
     "metadata": {},
     "output_type": "display_data"
    },
    {
     "data": {
      "text/markdown": [
       "<a href=\"reports/YWHAZ.html\">YWHAZ</a><br>"
      ],
      "text/plain": [
       "<IPython.core.display.Markdown object>"
      ]
     },
     "metadata": {},
     "output_type": "display_data"
    },
    {
     "data": {
      "text/markdown": [
       "<a href=\"reports/FOXN1.html\">FOXN1</a><br>"
      ],
      "text/plain": [
       "<IPython.core.display.Markdown object>"
      ]
     },
     "metadata": {},
     "output_type": "display_data"
    },
    {
     "data": {
      "text/markdown": [
       "<a href=\"reports/RIPK2.html\">RIPK2</a><br>"
      ],
      "text/plain": [
       "<IPython.core.display.Markdown object>"
      ]
     },
     "metadata": {},
     "output_type": "display_data"
    },
    {
     "data": {
      "text/markdown": [
       "<a href=\"reports/MTBP.html\">MTBP</a><br>"
      ],
      "text/plain": [
       "<IPython.core.display.Markdown object>"
      ]
     },
     "metadata": {},
     "output_type": "display_data"
    },
    {
     "data": {
      "text/markdown": [
       "<a href=\"reports/PRELID3B.html\">PRELID3B</a><br>"
      ],
      "text/plain": [
       "<IPython.core.display.Markdown object>"
      ]
     },
     "metadata": {},
     "output_type": "display_data"
    },
    {
     "data": {
      "text/markdown": [
       "<a href=\"reports/CRYGS.html\">CRYGS</a><br>"
      ],
      "text/plain": [
       "<IPython.core.display.Markdown object>"
      ]
     },
     "metadata": {},
     "output_type": "display_data"
    },
    {
     "data": {
      "text/markdown": [
       "<a href=\"reports/CALN1.html\">CALN1</a><br>"
      ],
      "text/plain": [
       "<IPython.core.display.Markdown object>"
      ]
     },
     "metadata": {},
     "output_type": "display_data"
    },
    {
     "data": {
      "text/markdown": [
       "<a href=\"reports/SERPINE1.html\">SERPINE1</a><br>"
      ],
      "text/plain": [
       "<IPython.core.display.Markdown object>"
      ]
     },
     "metadata": {},
     "output_type": "display_data"
    },
    {
     "data": {
      "text/markdown": [
       "<a href=\"reports/SLC39A4.html\">SLC39A4</a><br>"
      ],
      "text/plain": [
       "<IPython.core.display.Markdown object>"
      ]
     },
     "metadata": {},
     "output_type": "display_data"
    },
    {
     "data": {
      "text/markdown": [
       "<a href=\"reports/CLPTM1L.html\">CLPTM1L</a><br>"
      ],
      "text/plain": [
       "<IPython.core.display.Markdown object>"
      ]
     },
     "metadata": {},
     "output_type": "display_data"
    },
    {
     "data": {
      "text/markdown": [
       "<a href=\"reports/NIPAL2.html\">NIPAL2</a><br>"
      ],
      "text/plain": [
       "<IPython.core.display.Markdown object>"
      ]
     },
     "metadata": {},
     "output_type": "display_data"
    },
    {
     "data": {
      "text/markdown": [
       "<a href=\"reports/KMT2E.html\">KMT2E</a><br>"
      ],
      "text/plain": [
       "<IPython.core.display.Markdown object>"
      ]
     },
     "metadata": {},
     "output_type": "display_data"
    },
    {
     "data": {
      "text/markdown": [
       "<a href=\"reports/CDKAL1.html\">CDKAL1</a><br>"
      ],
      "text/plain": [
       "<IPython.core.display.Markdown object>"
      ]
     },
     "metadata": {},
     "output_type": "display_data"
    },
    {
     "data": {
      "text/markdown": [
       "<a href=\"reports/C8orf82.html\">C8orf82</a><br>"
      ],
      "text/plain": [
       "<IPython.core.display.Markdown object>"
      ]
     },
     "metadata": {},
     "output_type": "display_data"
    },
    {
     "data": {
      "text/markdown": [
       "<a href=\"reports/BHLHA15.html\">BHLHA15</a><br>"
      ],
      "text/plain": [
       "<IPython.core.display.Markdown object>"
      ]
     },
     "metadata": {},
     "output_type": "display_data"
    },
    {
     "data": {
      "text/markdown": [
       "<a href=\"reports/GRHL2.html\">GRHL2</a><br>"
      ],
      "text/plain": [
       "<IPython.core.display.Markdown object>"
      ]
     },
     "metadata": {},
     "output_type": "display_data"
    },
    {
     "data": {
      "text/markdown": [
       "<a href=\"reports/LRCH4.html\">LRCH4</a><br>"
      ],
      "text/plain": [
       "<IPython.core.display.Markdown object>"
      ]
     },
     "metadata": {},
     "output_type": "display_data"
    },
    {
     "data": {
      "text/markdown": [
       "<a href=\"reports/TMEM67.html\">TMEM67</a><br>"
      ],
      "text/plain": [
       "<IPython.core.display.Markdown object>"
      ]
     },
     "metadata": {},
     "output_type": "display_data"
    },
    {
     "data": {
      "text/markdown": [
       "<a href=\"reports/MLXIPL.html\">MLXIPL</a><br>"
      ],
      "text/plain": [
       "<IPython.core.display.Markdown object>"
      ]
     },
     "metadata": {},
     "output_type": "display_data"
    },
    {
     "data": {
      "text/markdown": [
       "<a href=\"reports/NCALD.html\">NCALD</a><br>"
      ],
      "text/plain": [
       "<IPython.core.display.Markdown object>"
      ]
     },
     "metadata": {},
     "output_type": "display_data"
    },
    {
     "data": {
      "text/markdown": [
       "<a href=\"reports/MYO18A.html\">MYO18A</a><br>"
      ],
      "text/plain": [
       "<IPython.core.display.Markdown object>"
      ]
     },
     "metadata": {},
     "output_type": "display_data"
    },
    {
     "data": {
      "text/markdown": [
       "<a href=\"reports/HTRA4.html\">HTRA4</a><br>"
      ],
      "text/plain": [
       "<IPython.core.display.Markdown object>"
      ]
     },
     "metadata": {},
     "output_type": "display_data"
    },
    {
     "data": {
      "text/markdown": [
       "<a href=\"reports/SNAI1.html\">SNAI1</a><br>"
      ],
      "text/plain": [
       "<IPython.core.display.Markdown object>"
      ]
     },
     "metadata": {},
     "output_type": "display_data"
    },
    {
     "data": {
      "text/markdown": [
       "<a href=\"reports/PCK1.html\">PCK1</a><br>"
      ],
      "text/plain": [
       "<IPython.core.display.Markdown object>"
      ]
     },
     "metadata": {},
     "output_type": "display_data"
    },
    {
     "data": {
      "text/markdown": [
       "<a href=\"reports/WWP1.html\">WWP1</a><br>"
      ],
      "text/plain": [
       "<IPython.core.display.Markdown object>"
      ]
     },
     "metadata": {},
     "output_type": "display_data"
    },
    {
     "data": {
      "text/markdown": [
       "<a href=\"reports/CTSZ.html\">CTSZ</a><br>"
      ],
      "text/plain": [
       "<IPython.core.display.Markdown object>"
      ]
     },
     "metadata": {},
     "output_type": "display_data"
    },
    {
     "data": {
      "text/markdown": [
       "<a href=\"reports/COLEC10.html\">COLEC10</a><br>"
      ],
      "text/plain": [
       "<IPython.core.display.Markdown object>"
      ]
     },
     "metadata": {},
     "output_type": "display_data"
    },
    {
     "data": {
      "text/markdown": [
       "<a href=\"reports/SDC2.html\">SDC2</a><br>"
      ],
      "text/plain": [
       "<IPython.core.display.Markdown object>"
      ]
     },
     "metadata": {},
     "output_type": "display_data"
    },
    {
     "data": {
      "text/markdown": [
       "<a href=\"reports/RELN.html\">RELN</a><br>"
      ],
      "text/plain": [
       "<IPython.core.display.Markdown object>"
      ]
     },
     "metadata": {},
     "output_type": "display_data"
    },
    {
     "data": {
      "text/markdown": [
       "<a href=\"reports/GML.html\">GML</a><br>"
      ],
      "text/plain": [
       "<IPython.core.display.Markdown object>"
      ]
     },
     "metadata": {},
     "output_type": "display_data"
    },
    {
     "data": {
      "text/markdown": [
       "<a href=\"reports/MTSS1.html\">MTSS1</a><br>"
      ],
      "text/plain": [
       "<IPython.core.display.Markdown object>"
      ]
     },
     "metadata": {},
     "output_type": "display_data"
    },
    {
     "data": {
      "text/markdown": [
       "<a href=\"reports/MET.html\">MET</a><br>"
      ],
      "text/plain": [
       "<IPython.core.display.Markdown object>"
      ]
     },
     "metadata": {},
     "output_type": "display_data"
    },
    {
     "data": {
      "text/markdown": [
       "<a href=\"reports/POLR2J.html\">POLR2J</a><br>"
      ],
      "text/plain": [
       "<IPython.core.display.Markdown object>"
      ]
     },
     "metadata": {},
     "output_type": "display_data"
    },
    {
     "data": {
      "text/markdown": [
       "<a href=\"reports/RALYL.html\">RALYL</a><br>"
      ],
      "text/plain": [
       "<IPython.core.display.Markdown object>"
      ]
     },
     "metadata": {},
     "output_type": "display_data"
    },
    {
     "data": {
      "text/markdown": [
       "<a href=\"reports/POLR2K.html\">POLR2K</a><br>"
      ],
      "text/plain": [
       "<IPython.core.display.Markdown object>"
      ]
     },
     "metadata": {},
     "output_type": "display_data"
    },
    {
     "data": {
      "text/markdown": [
       "<a href=\"reports/TMEM189.html\">TMEM189</a><br>"
      ],
      "text/plain": [
       "<IPython.core.display.Markdown object>"
      ]
     },
     "metadata": {},
     "output_type": "display_data"
    },
    {
     "data": {
      "text/markdown": [
       "<a href=\"reports/FABP12.html\">FABP12</a><br>"
      ],
      "text/plain": [
       "<IPython.core.display.Markdown object>"
      ]
     },
     "metadata": {},
     "output_type": "display_data"
    },
    {
     "data": {
      "text/markdown": [
       "<a href=\"reports/DOK5.html\">DOK5</a><br>"
      ],
      "text/plain": [
       "<IPython.core.display.Markdown object>"
      ]
     },
     "metadata": {},
     "output_type": "display_data"
    },
    {
     "data": {
      "text/markdown": [
       "<a href=\"reports/DHRS13.html\">DHRS13</a><br>"
      ],
      "text/plain": [
       "<IPython.core.display.Markdown object>"
      ]
     },
     "metadata": {},
     "output_type": "display_data"
    },
    {
     "data": {
      "text/markdown": [
       "<a href=\"reports/ZFP64.html\">ZFP64</a><br>"
      ],
      "text/plain": [
       "<IPython.core.display.Markdown object>"
      ]
     },
     "metadata": {},
     "output_type": "display_data"
    },
    {
     "data": {
      "text/markdown": [
       "<a href=\"reports/ESRP1.html\">ESRP1</a><br>"
      ],
      "text/plain": [
       "<IPython.core.display.Markdown object>"
      ]
     },
     "metadata": {},
     "output_type": "display_data"
    },
    {
     "data": {
      "text/markdown": [
       "<a href=\"reports/PHACTR3.html\">PHACTR3</a><br>"
      ],
      "text/plain": [
       "<IPython.core.display.Markdown object>"
      ]
     },
     "metadata": {},
     "output_type": "display_data"
    },
    {
     "data": {
      "text/markdown": [
       "<a href=\"reports/FETUB.html\">FETUB</a><br>"
      ],
      "text/plain": [
       "<IPython.core.display.Markdown object>"
      ]
     },
     "metadata": {},
     "output_type": "display_data"
    },
    {
     "data": {
      "text/markdown": [
       "<a href=\"reports/LSM1.html\">LSM1</a><br>"
      ],
      "text/plain": [
       "<IPython.core.display.Markdown object>"
      ]
     },
     "metadata": {},
     "output_type": "display_data"
    },
    {
     "data": {
      "text/markdown": [
       "<a href=\"reports/CYC1.html\">CYC1</a><br>"
      ],
      "text/plain": [
       "<IPython.core.display.Markdown object>"
      ]
     },
     "metadata": {},
     "output_type": "display_data"
    },
    {
     "data": {
      "text/markdown": [
       "<a href=\"reports/TMEM65.html\">TMEM65</a><br>"
      ],
      "text/plain": [
       "<IPython.core.display.Markdown object>"
      ]
     },
     "metadata": {},
     "output_type": "display_data"
    },
    {
     "data": {
      "text/markdown": [
       "<a href=\"reports/ABCB1.html\">ABCB1</a><br>"
      ],
      "text/plain": [
       "<IPython.core.display.Markdown object>"
      ]
     },
     "metadata": {},
     "output_type": "display_data"
    },
    {
     "data": {
      "text/markdown": [
       "<a href=\"reports/PLEKHG4B.html\">PLEKHG4B</a><br>"
      ],
      "text/plain": [
       "<IPython.core.display.Markdown object>"
      ]
     },
     "metadata": {},
     "output_type": "display_data"
    },
    {
     "data": {
      "text/markdown": [
       "<a href=\"reports/SGCA.html\">SGCA</a><br>"
      ],
      "text/plain": [
       "<IPython.core.display.Markdown object>"
      ]
     },
     "metadata": {},
     "output_type": "display_data"
    },
    {
     "data": {
      "text/markdown": [
       "<a href=\"reports/CLDN15.html\">CLDN15</a><br>"
      ],
      "text/plain": [
       "<IPython.core.display.Markdown object>"
      ]
     },
     "metadata": {},
     "output_type": "display_data"
    },
    {
     "data": {
      "text/markdown": [
       "<a href=\"reports/CYHR1.html\">CYHR1</a><br>"
      ],
      "text/plain": [
       "<IPython.core.display.Markdown object>"
      ]
     },
     "metadata": {},
     "output_type": "display_data"
    },
    {
     "data": {
      "text/markdown": [
       "<a href=\"reports/EIF4A2.html\">EIF4A2</a><br>"
      ],
      "text/plain": [
       "<IPython.core.display.Markdown object>"
      ]
     },
     "metadata": {},
     "output_type": "display_data"
    },
    {
     "data": {
      "text/markdown": [
       "<a href=\"reports/ZCWPW1.html\">ZCWPW1</a><br>"
      ],
      "text/plain": [
       "<IPython.core.display.Markdown object>"
      ]
     },
     "metadata": {},
     "output_type": "display_data"
    },
    {
     "data": {
      "text/markdown": [
       "<a href=\"reports/LAMB1.html\">LAMB1</a><br>"
      ],
      "text/plain": [
       "<IPython.core.display.Markdown object>"
      ]
     },
     "metadata": {},
     "output_type": "display_data"
    },
    {
     "data": {
      "text/markdown": [
       "<a href=\"reports/PDP1.html\">PDP1</a><br>"
      ],
      "text/plain": [
       "<IPython.core.display.Markdown object>"
      ]
     },
     "metadata": {},
     "output_type": "display_data"
    },
    {
     "data": {
      "text/markdown": [
       "<a href=\"reports/ABRA.html\">ABRA</a><br>"
      ],
      "text/plain": [
       "<IPython.core.display.Markdown object>"
      ]
     },
     "metadata": {},
     "output_type": "display_data"
    },
    {
     "data": {
      "text/markdown": [
       "<a href=\"reports/ZNF655.html\">ZNF655</a><br>"
      ],
      "text/plain": [
       "<IPython.core.display.Markdown object>"
      ]
     },
     "metadata": {},
     "output_type": "display_data"
    },
    {
     "data": {
      "text/markdown": [
       "<a href=\"reports/WNT2.html\">WNT2</a><br>"
      ],
      "text/plain": [
       "<IPython.core.display.Markdown object>"
      ]
     },
     "metadata": {},
     "output_type": "display_data"
    },
    {
     "data": {
      "text/markdown": [
       "<a href=\"reports/WSB1.html\">WSB1</a><br>"
      ],
      "text/plain": [
       "<IPython.core.display.Markdown object>"
      ]
     },
     "metadata": {},
     "output_type": "display_data"
    },
    {
     "data": {
      "text/markdown": [
       "<a href=\"reports/CAPZA2.html\">CAPZA2</a><br>"
      ],
      "text/plain": [
       "<IPython.core.display.Markdown object>"
      ]
     },
     "metadata": {},
     "output_type": "display_data"
    },
    {
     "data": {
      "text/markdown": [
       "<a href=\"reports/SPAG1.html\">SPAG1</a><br>"
      ],
      "text/plain": [
       "<IPython.core.display.Markdown object>"
      ]
     },
     "metadata": {},
     "output_type": "display_data"
    },
    {
     "data": {
      "text/markdown": [
       "<a href=\"reports/CDH26.html\">CDH26</a><br>"
      ],
      "text/plain": [
       "<IPython.core.display.Markdown object>"
      ]
     },
     "metadata": {},
     "output_type": "display_data"
    },
    {
     "data": {
      "text/markdown": [
       "<a href=\"reports/IMPA1.html\">IMPA1</a><br>"
      ],
      "text/plain": [
       "<IPython.core.display.Markdown object>"
      ]
     },
     "metadata": {},
     "output_type": "display_data"
    },
    {
     "data": {
      "text/markdown": [
       "<a href=\"reports/TFPI2.html\">TFPI2</a><br>"
      ],
      "text/plain": [
       "<IPython.core.display.Markdown object>"
      ]
     },
     "metadata": {},
     "output_type": "display_data"
    },
    {
     "data": {
      "text/markdown": [
       "<a href=\"reports/LRATD2.html\">LRATD2</a><br>"
      ],
      "text/plain": [
       "<IPython.core.display.Markdown object>"
      ]
     },
     "metadata": {},
     "output_type": "display_data"
    },
    {
     "data": {
      "text/markdown": [
       "<a href=\"reports/DERL1.html\">DERL1</a><br>"
      ],
      "text/plain": [
       "<IPython.core.display.Markdown object>"
      ]
     },
     "metadata": {},
     "output_type": "display_data"
    },
    {
     "data": {
      "text/markdown": [
       "<a href=\"reports/SEMA3C.html\">SEMA3C</a><br>"
      ],
      "text/plain": [
       "<IPython.core.display.Markdown object>"
      ]
     },
     "metadata": {},
     "output_type": "display_data"
    },
    {
     "data": {
      "text/markdown": [
       "<a href=\"reports/NELFCD.html\">NELFCD</a><br>"
      ],
      "text/plain": [
       "<IPython.core.display.Markdown object>"
      ]
     },
     "metadata": {},
     "output_type": "display_data"
    },
    {
     "data": {
      "text/markdown": [
       "<a href=\"reports/COPS6.html\">COPS6</a><br>"
      ],
      "text/plain": [
       "<IPython.core.display.Markdown object>"
      ]
     },
     "metadata": {},
     "output_type": "display_data"
    },
    {
     "data": {
      "text/markdown": [
       "<a href=\"reports/RAE1.html\">RAE1</a><br>"
      ],
      "text/plain": [
       "<IPython.core.display.Markdown object>"
      ]
     },
     "metadata": {},
     "output_type": "display_data"
    },
    {
     "data": {
      "text/markdown": [
       "<a href=\"reports/EXT1.html\">EXT1</a><br>"
      ],
      "text/plain": [
       "<IPython.core.display.Markdown object>"
      ]
     },
     "metadata": {},
     "output_type": "display_data"
    },
    {
     "data": {
      "text/markdown": [
       "<a href=\"reports/KIFC2.html\">KIFC2</a><br>"
      ],
      "text/plain": [
       "<IPython.core.display.Markdown object>"
      ]
     },
     "metadata": {},
     "output_type": "display_data"
    },
    {
     "data": {
      "text/markdown": [
       "<a href=\"reports/COMMD5.html\">COMMD5</a><br>"
      ],
      "text/plain": [
       "<IPython.core.display.Markdown object>"
      ]
     },
     "metadata": {},
     "output_type": "display_data"
    },
    {
     "data": {
      "text/markdown": [
       "<a href=\"reports/CSMD3.html\">CSMD3</a><br>"
      ],
      "text/plain": [
       "<IPython.core.display.Markdown object>"
      ]
     },
     "metadata": {},
     "output_type": "display_data"
    },
    {
     "data": {
      "text/markdown": [
       "<a href=\"reports/FAM210B.html\">FAM210B</a><br>"
      ],
      "text/plain": [
       "<IPython.core.display.Markdown object>"
      ]
     },
     "metadata": {},
     "output_type": "display_data"
    },
    {
     "data": {
      "text/markdown": [
       "<a href=\"reports/KDM4E.html\">KDM4E</a><br>"
      ],
      "text/plain": [
       "<IPython.core.display.Markdown object>"
      ]
     },
     "metadata": {},
     "output_type": "display_data"
    },
    {
     "data": {
      "text/markdown": [
       "<a href=\"reports/POU5F1B.html\">POU5F1B</a><br>"
      ],
      "text/plain": [
       "<IPython.core.display.Markdown object>"
      ]
     },
     "metadata": {},
     "output_type": "display_data"
    },
    {
     "data": {
      "text/markdown": [
       "<a href=\"reports/KIAA0100.html\">KIAA0100</a><br>"
      ],
      "text/plain": [
       "<IPython.core.display.Markdown object>"
      ]
     },
     "metadata": {},
     "output_type": "display_data"
    },
    {
     "data": {
      "text/markdown": [
       "<a href=\"reports/NAPEPLD.html\">NAPEPLD</a><br>"
      ],
      "text/plain": [
       "<IPython.core.display.Markdown object>"
      ]
     },
     "metadata": {},
     "output_type": "display_data"
    },
    {
     "data": {
      "text/markdown": [
       "<a href=\"reports/NPEPL1.html\">NPEPL1</a><br>"
      ],
      "text/plain": [
       "<IPython.core.display.Markdown object>"
      ]
     },
     "metadata": {},
     "output_type": "display_data"
    },
    {
     "data": {
      "text/markdown": [
       "<a href=\"reports/EEF1AKMT3.html\">EEF1AKMT3</a><br>"
      ],
      "text/plain": [
       "<IPython.core.display.Markdown object>"
      ]
     },
     "metadata": {},
     "output_type": "display_data"
    },
    {
     "data": {
      "text/markdown": [
       "<a href=\"reports/LRRD1.html\">LRRD1</a><br>"
      ],
      "text/plain": [
       "<IPython.core.display.Markdown object>"
      ]
     },
     "metadata": {},
     "output_type": "display_data"
    },
    {
     "data": {
      "text/markdown": [
       "<a href=\"reports/DPY19L4.html\">DPY19L4</a><br>"
      ],
      "text/plain": [
       "<IPython.core.display.Markdown object>"
      ]
     },
     "metadata": {},
     "output_type": "display_data"
    },
    {
     "data": {
      "text/markdown": [
       "<a href=\"reports/CACNA2D1.html\">CACNA2D1</a><br>"
      ],
      "text/plain": [
       "<IPython.core.display.Markdown object>"
      ]
     },
     "metadata": {},
     "output_type": "display_data"
    },
    {
     "data": {
      "text/markdown": [
       "<a href=\"reports/PARP10.html\">PARP10</a><br>"
      ],
      "text/plain": [
       "<IPython.core.display.Markdown object>"
      ]
     },
     "metadata": {},
     "output_type": "display_data"
    },
    {
     "data": {
      "text/markdown": [
       "<a href=\"reports/MRE11.html\">MRE11</a><br>"
      ],
      "text/plain": [
       "<IPython.core.display.Markdown object>"
      ]
     },
     "metadata": {},
     "output_type": "display_data"
    },
    {
     "data": {
      "text/markdown": [
       "<a href=\"reports/CCL26.html\">CCL26</a><br>"
      ],
      "text/plain": [
       "<IPython.core.display.Markdown object>"
      ]
     },
     "metadata": {},
     "output_type": "display_data"
    },
    {
     "data": {
      "text/markdown": [
       "<a href=\"reports/RNF114.html\">RNF114</a><br>"
      ],
      "text/plain": [
       "<IPython.core.display.Markdown object>"
      ]
     },
     "metadata": {},
     "output_type": "display_data"
    },
    {
     "data": {
      "text/markdown": [
       "<a href=\"reports/RBM38.html\">RBM38</a><br>"
      ],
      "text/plain": [
       "<IPython.core.display.Markdown object>"
      ]
     },
     "metadata": {},
     "output_type": "display_data"
    },
    {
     "data": {
      "text/markdown": [
       "<a href=\"reports/ZNF34.html\">ZNF34</a><br>"
      ],
      "text/plain": [
       "<IPython.core.display.Markdown object>"
      ]
     },
     "metadata": {},
     "output_type": "display_data"
    },
    {
     "data": {
      "text/markdown": [
       "<a href=\"reports/PIGS.html\">PIGS</a><br>"
      ],
      "text/plain": [
       "<IPython.core.display.Markdown object>"
      ]
     },
     "metadata": {},
     "output_type": "display_data"
    },
    {
     "data": {
      "text/markdown": [
       "<a href=\"reports/TUBB1.html\">TUBB1</a><br>"
      ],
      "text/plain": [
       "<IPython.core.display.Markdown object>"
      ]
     },
     "metadata": {},
     "output_type": "display_data"
    },
    {
     "data": {
      "text/markdown": [
       "<a href=\"reports/KIAA1324L.html\">KIAA1324L</a><br>"
      ],
      "text/plain": [
       "<IPython.core.display.Markdown object>"
      ]
     },
     "metadata": {},
     "output_type": "display_data"
    },
    {
     "data": {
      "text/markdown": [
       "<a href=\"reports/RPL7.html\">RPL7</a><br>"
      ],
      "text/plain": [
       "<IPython.core.display.Markdown object>"
      ]
     },
     "metadata": {},
     "output_type": "display_data"
    },
    {
     "data": {
      "text/markdown": [
       "<a href=\"reports/UQCRB.html\">UQCRB</a><br>"
      ],
      "text/plain": [
       "<IPython.core.display.Markdown object>"
      ]
     },
     "metadata": {},
     "output_type": "display_data"
    },
    {
     "data": {
      "text/markdown": [
       "<a href=\"reports/AMOTL1.html\">AMOTL1</a><br>"
      ],
      "text/plain": [
       "<IPython.core.display.Markdown object>"
      ]
     },
     "metadata": {},
     "output_type": "display_data"
    },
    {
     "data": {
      "text/markdown": [
       "<a href=\"reports/SDF2.html\">SDF2</a><br>"
      ],
      "text/plain": [
       "<IPython.core.display.Markdown object>"
      ]
     },
     "metadata": {},
     "output_type": "display_data"
    },
    {
     "data": {
      "text/markdown": [
       "<a href=\"reports/TRAF4.html\">TRAF4</a><br>"
      ],
      "text/plain": [
       "<IPython.core.display.Markdown object>"
      ]
     },
     "metadata": {},
     "output_type": "display_data"
    },
    {
     "data": {
      "text/markdown": [
       "<a href=\"reports/FAM91A1.html\">FAM91A1</a><br>"
      ],
      "text/plain": [
       "<IPython.core.display.Markdown object>"
      ]
     },
     "metadata": {},
     "output_type": "display_data"
    },
    {
     "data": {
      "text/markdown": [
       "<a href=\"reports/KCNB1.html\">KCNB1</a><br>"
      ],
      "text/plain": [
       "<IPython.core.display.Markdown object>"
      ]
     },
     "metadata": {},
     "output_type": "display_data"
    },
    {
     "data": {
      "text/markdown": [
       "<a href=\"reports/PNMT.html\">PNMT</a><br>"
      ],
      "text/plain": [
       "<IPython.core.display.Markdown object>"
      ]
     },
     "metadata": {},
     "output_type": "display_data"
    },
    {
     "data": {
      "text/markdown": [
       "<a href=\"reports/BCAS4.html\">BCAS4</a><br>"
      ],
      "text/plain": [
       "<IPython.core.display.Markdown object>"
      ]
     },
     "metadata": {},
     "output_type": "display_data"
    },
    {
     "data": {
      "text/markdown": [
       "<a href=\"reports/ERVW-1.html\">ERVW-1</a><br>"
      ],
      "text/plain": [
       "<IPython.core.display.Markdown object>"
      ]
     },
     "metadata": {},
     "output_type": "display_data"
    },
    {
     "data": {
      "text/markdown": [
       "<a href=\"reports/ARHGAP39.html\">ARHGAP39</a><br>"
      ],
      "text/plain": [
       "<IPython.core.display.Markdown object>"
      ]
     },
     "metadata": {},
     "output_type": "display_data"
    },
    {
     "data": {
      "text/markdown": [
       "<a href=\"reports/MIEN1.html\">MIEN1</a><br>"
      ],
      "text/plain": [
       "<IPython.core.display.Markdown object>"
      ]
     },
     "metadata": {},
     "output_type": "display_data"
    },
    {
     "data": {
      "text/markdown": [
       "<a href=\"reports/LY96.html\">LY96</a><br>"
      ],
      "text/plain": [
       "<IPython.core.display.Markdown object>"
      ]
     },
     "metadata": {},
     "output_type": "display_data"
    },
    {
     "data": {
      "text/markdown": [
       "<a href=\"reports/FBXL13.html\">FBXL13</a><br>"
      ],
      "text/plain": [
       "<IPython.core.display.Markdown object>"
      ]
     },
     "metadata": {},
     "output_type": "display_data"
    },
    {
     "data": {
      "text/markdown": [
       "<a href=\"reports/SEM1.html\">SEM1</a><br>"
      ],
      "text/plain": [
       "<IPython.core.display.Markdown object>"
      ]
     },
     "metadata": {},
     "output_type": "display_data"
    },
    {
     "data": {
      "text/markdown": [
       "<a href=\"reports/FAM217B.html\">FAM217B</a><br>"
      ],
      "text/plain": [
       "<IPython.core.display.Markdown object>"
      ]
     },
     "metadata": {},
     "output_type": "display_data"
    },
    {
     "data": {
      "text/markdown": [
       "<a href=\"reports/IMMP2L.html\">IMMP2L</a><br>"
      ],
      "text/plain": [
       "<IPython.core.display.Markdown object>"
      ]
     },
     "metadata": {},
     "output_type": "display_data"
    },
    {
     "data": {
      "text/markdown": [
       "<a href=\"reports/SNX16.html\">SNX16</a><br>"
      ],
      "text/plain": [
       "<IPython.core.display.Markdown object>"
      ]
     },
     "metadata": {},
     "output_type": "display_data"
    },
    {
     "data": {
      "text/markdown": [
       "<a href=\"reports/SLC52A2.html\">SLC52A2</a><br>"
      ],
      "text/plain": [
       "<IPython.core.display.Markdown object>"
      ]
     },
     "metadata": {},
     "output_type": "display_data"
    },
    {
     "data": {
      "text/markdown": [
       "<a href=\"reports/PLOD3.html\">PLOD3</a><br>"
      ],
      "text/plain": [
       "<IPython.core.display.Markdown object>"
      ]
     },
     "metadata": {},
     "output_type": "display_data"
    },
    {
     "data": {
      "text/markdown": [
       "<a href=\"reports/LRRC75B.html\">LRRC75B</a><br>"
      ],
      "text/plain": [
       "<IPython.core.display.Markdown object>"
      ]
     },
     "metadata": {},
     "output_type": "display_data"
    },
    {
     "data": {
      "text/markdown": [
       "<a href=\"reports/PRKAR2B.html\">PRKAR2B</a><br>"
      ],
      "text/plain": [
       "<IPython.core.display.Markdown object>"
      ]
     },
     "metadata": {},
     "output_type": "display_data"
    },
    {
     "data": {
      "text/markdown": [
       "<a href=\"reports/RAD54B.html\">RAD54B</a><br>"
      ],
      "text/plain": [
       "<IPython.core.display.Markdown object>"
      ]
     },
     "metadata": {},
     "output_type": "display_data"
    },
    {
     "data": {
      "text/markdown": [
       "<a href=\"reports/DPM1.html\">DPM1</a><br>"
      ],
      "text/plain": [
       "<IPython.core.display.Markdown object>"
      ]
     },
     "metadata": {},
     "output_type": "display_data"
    },
    {
     "data": {
      "text/markdown": [
       "<a href=\"reports/SRI.html\">SRI</a><br>"
      ],
      "text/plain": [
       "<IPython.core.display.Markdown object>"
      ]
     },
     "metadata": {},
     "output_type": "display_data"
    },
    {
     "data": {
      "text/markdown": [
       "<a href=\"reports/BAIAP2L1.html\">BAIAP2L1</a><br>"
      ],
      "text/plain": [
       "<IPython.core.display.Markdown object>"
      ]
     },
     "metadata": {},
     "output_type": "display_data"
    },
    {
     "data": {
      "text/markdown": [
       "<a href=\"reports/OSR2.html\">OSR2</a><br>"
      ],
      "text/plain": [
       "<IPython.core.display.Markdown object>"
      ]
     },
     "metadata": {},
     "output_type": "display_data"
    },
    {
     "data": {
      "text/markdown": [
       "<a href=\"reports/COX6C.html\">COX6C</a><br>"
      ],
      "text/plain": [
       "<IPython.core.display.Markdown object>"
      ]
     },
     "metadata": {},
     "output_type": "display_data"
    },
    {
     "data": {
      "text/markdown": [
       "<a href=\"reports/GATAD1.html\">GATAD1</a><br>"
      ],
      "text/plain": [
       "<IPython.core.display.Markdown object>"
      ]
     },
     "metadata": {},
     "output_type": "display_data"
    },
    {
     "data": {
      "text/markdown": [
       "<a href=\"reports/ALDOC.html\">ALDOC</a><br>"
      ],
      "text/plain": [
       "<IPython.core.display.Markdown object>"
      ]
     },
     "metadata": {},
     "output_type": "display_data"
    },
    {
     "data": {
      "text/markdown": [
       "<a href=\"reports/BRF2.html\">BRF2</a><br>"
      ],
      "text/plain": [
       "<IPython.core.display.Markdown object>"
      ]
     },
     "metadata": {},
     "output_type": "display_data"
    },
    {
     "data": {
      "text/markdown": [
       "<a href=\"reports/MYC.html\">MYC</a><br>"
      ],
      "text/plain": [
       "<IPython.core.display.Markdown object>"
      ]
     },
     "metadata": {},
     "output_type": "display_data"
    },
    {
     "data": {
      "text/markdown": [
       "<a href=\"reports/CTTN.html\">CTTN</a><br>"
      ],
      "text/plain": [
       "<IPython.core.display.Markdown object>"
      ]
     },
     "metadata": {},
     "output_type": "display_data"
    },
    {
     "data": {
      "text/markdown": [
       "<a href=\"reports/PON1.html\">PON1</a><br>"
      ],
      "text/plain": [
       "<IPython.core.display.Markdown object>"
      ]
     },
     "metadata": {},
     "output_type": "display_data"
    },
    {
     "data": {
      "text/markdown": [
       "<a href=\"reports/ARC.html\">ARC</a><br>"
      ],
      "text/plain": [
       "<IPython.core.display.Markdown object>"
      ]
     },
     "metadata": {},
     "output_type": "display_data"
    },
    {
     "data": {
      "text/markdown": [
       "<a href=\"reports/EPO.html\">EPO</a><br>"
      ],
      "text/plain": [
       "<IPython.core.display.Markdown object>"
      ]
     },
     "metadata": {},
     "output_type": "display_data"
    },
    {
     "data": {
      "text/markdown": [
       "<a href=\"reports/DNAJC30.html\">DNAJC30</a><br>"
      ],
      "text/plain": [
       "<IPython.core.display.Markdown object>"
      ]
     },
     "metadata": {},
     "output_type": "display_data"
    },
    {
     "data": {
      "text/markdown": [
       "<a href=\"reports/ZNF789.html\">ZNF789</a><br>"
      ],
      "text/plain": [
       "<IPython.core.display.Markdown object>"
      ]
     },
     "metadata": {},
     "output_type": "display_data"
    },
    {
     "data": {
      "text/markdown": [
       "<a href=\"reports/SLC6A18.html\">SLC6A18</a><br>"
      ],
      "text/plain": [
       "<IPython.core.display.Markdown object>"
      ]
     },
     "metadata": {},
     "output_type": "display_data"
    },
    {
     "data": {
      "text/markdown": [
       "<a href=\"reports/GDF6.html\">GDF6</a><br>"
      ],
      "text/plain": [
       "<IPython.core.display.Markdown object>"
      ]
     },
     "metadata": {},
     "output_type": "display_data"
    },
    {
     "data": {
      "text/markdown": [
       "<a href=\"reports/TNFAIP1.html\">TNFAIP1</a><br>"
      ],
      "text/plain": [
       "<IPython.core.display.Markdown object>"
      ]
     },
     "metadata": {},
     "output_type": "display_data"
    },
    {
     "data": {
      "text/markdown": [
       "<a href=\"reports/ST7.html\">ST7</a><br>"
      ],
      "text/plain": [
       "<IPython.core.display.Markdown object>"
      ]
     },
     "metadata": {},
     "output_type": "display_data"
    },
    {
     "data": {
      "text/markdown": [
       "<a href=\"reports/BUD31.html\">BUD31</a><br>"
      ],
      "text/plain": [
       "<IPython.core.display.Markdown object>"
      ]
     },
     "metadata": {},
     "output_type": "display_data"
    },
    {
     "data": {
      "text/markdown": [
       "<a href=\"reports/ZNHIT1.html\">ZNHIT1</a><br>"
      ],
      "text/plain": [
       "<IPython.core.display.Markdown object>"
      ]
     },
     "metadata": {},
     "output_type": "display_data"
    },
    {
     "data": {
      "text/markdown": [
       "<a href=\"reports/CBLN4.html\">CBLN4</a><br>"
      ],
      "text/plain": [
       "<IPython.core.display.Markdown object>"
      ]
     },
     "metadata": {},
     "output_type": "display_data"
    },
    {
     "data": {
      "text/markdown": [
       "<a href=\"reports/PRKRIP1.html\">PRKRIP1</a><br>"
      ],
      "text/plain": [
       "<IPython.core.display.Markdown object>"
      ]
     },
     "metadata": {},
     "output_type": "display_data"
    },
    {
     "data": {
      "text/markdown": [
       "<a href=\"reports/UPB1.html\">UPB1</a><br>"
      ],
      "text/plain": [
       "<IPython.core.display.Markdown object>"
      ]
     },
     "metadata": {},
     "output_type": "display_data"
    },
    {
     "data": {
      "text/markdown": [
       "<a href=\"reports/NECAB1.html\">NECAB1</a><br>"
      ],
      "text/plain": [
       "<IPython.core.display.Markdown object>"
      ]
     },
     "metadata": {},
     "output_type": "display_data"
    },
    {
     "data": {
      "text/markdown": [
       "<a href=\"reports/TERF1.html\">TERF1</a><br>"
      ],
      "text/plain": [
       "<IPython.core.display.Markdown object>"
      ]
     },
     "metadata": {},
     "output_type": "display_data"
    },
    {
     "data": {
      "text/markdown": [
       "<a href=\"reports/PIWIL3.html\">PIWIL3</a><br>"
      ],
      "text/plain": [
       "<IPython.core.display.Markdown object>"
      ]
     },
     "metadata": {},
     "output_type": "display_data"
    },
    {
     "data": {
      "text/markdown": [
       "<a href=\"reports/RMDN1.html\">RMDN1</a><br>"
      ],
      "text/plain": [
       "<IPython.core.display.Markdown object>"
      ]
     },
     "metadata": {},
     "output_type": "display_data"
    },
    {
     "data": {
      "text/markdown": [
       "<a href=\"reports/GPAA1.html\">GPAA1</a><br>"
      ],
      "text/plain": [
       "<IPython.core.display.Markdown object>"
      ]
     },
     "metadata": {},
     "output_type": "display_data"
    },
    {
     "data": {
      "text/markdown": [
       "<a href=\"reports/RFC4.html\">RFC4</a><br>"
      ],
      "text/plain": [
       "<IPython.core.display.Markdown object>"
      ]
     },
     "metadata": {},
     "output_type": "display_data"
    },
    {
     "data": {
      "text/markdown": [
       "<a href=\"reports/TMEM97.html\">TMEM97</a><br>"
      ],
      "text/plain": [
       "<IPython.core.display.Markdown object>"
      ]
     },
     "metadata": {},
     "output_type": "display_data"
    },
    {
     "data": {
      "text/markdown": [
       "<a href=\"reports/MAP11.html\">MAP11</a><br>"
      ],
      "text/plain": [
       "<IPython.core.display.Markdown object>"
      ]
     },
     "metadata": {},
     "output_type": "display_data"
    },
    {
     "data": {
      "text/markdown": [
       "<a href=\"reports/ATP6V1C1.html\">ATP6V1C1</a><br>"
      ],
      "text/plain": [
       "<IPython.core.display.Markdown object>"
      ]
     },
     "metadata": {},
     "output_type": "display_data"
    },
    {
     "data": {
      "text/markdown": [
       "<a href=\"reports/ZNF607.html\">ZNF607</a><br>"
      ],
      "text/plain": [
       "<IPython.core.display.Markdown object>"
      ]
     },
     "metadata": {},
     "output_type": "display_data"
    },
    {
     "data": {
      "text/markdown": [
       "<a href=\"reports/MRPL13.html\">MRPL13</a><br>"
      ],
      "text/plain": [
       "<IPython.core.display.Markdown object>"
      ]
     },
     "metadata": {},
     "output_type": "display_data"
    },
    {
     "data": {
      "text/markdown": [
       "<a href=\"reports/ASH2L.html\">ASH2L</a><br>"
      ],
      "text/plain": [
       "<IPython.core.display.Markdown object>"
      ]
     },
     "metadata": {},
     "output_type": "display_data"
    },
    {
     "data": {
      "text/markdown": [
       "<a href=\"reports/AVIL.html\">AVIL</a><br>"
      ],
      "text/plain": [
       "<IPython.core.display.Markdown object>"
      ]
     },
     "metadata": {},
     "output_type": "display_data"
    },
    {
     "data": {
      "text/markdown": [
       "<a href=\"reports/KCNK9.html\">KCNK9</a><br>"
      ],
      "text/plain": [
       "<IPython.core.display.Markdown object>"
      ]
     },
     "metadata": {},
     "output_type": "display_data"
    },
    {
     "data": {
      "text/markdown": [
       "<a href=\"reports/LY6E.html\">LY6E</a><br>"
      ],
      "text/plain": [
       "<IPython.core.display.Markdown object>"
      ]
     },
     "metadata": {},
     "output_type": "display_data"
    },
    {
     "data": {
      "text/markdown": [
       "<a href=\"reports/STAR.html\">STAR</a><br>"
      ],
      "text/plain": [
       "<IPython.core.display.Markdown object>"
      ]
     },
     "metadata": {},
     "output_type": "display_data"
    },
    {
     "data": {
      "text/markdown": [
       "<a href=\"reports/TPD52.html\">TPD52</a><br>"
      ],
      "text/plain": [
       "<IPython.core.display.Markdown object>"
      ]
     },
     "metadata": {},
     "output_type": "display_data"
    },
    {
     "data": {
      "text/markdown": [
       "<a href=\"reports/TES.html\">TES</a><br>"
      ],
      "text/plain": [
       "<IPython.core.display.Markdown object>"
      ]
     },
     "metadata": {},
     "output_type": "display_data"
    },
    {
     "data": {
      "text/markdown": [
       "<a href=\"reports/RCC1L.html\">RCC1L</a><br>"
      ],
      "text/plain": [
       "<IPython.core.display.Markdown object>"
      ]
     },
     "metadata": {},
     "output_type": "display_data"
    },
    {
     "data": {
      "text/markdown": [
       "<a href=\"reports/PABPC1.html\">PABPC1</a><br>"
      ],
      "text/plain": [
       "<IPython.core.display.Markdown object>"
      ]
     },
     "metadata": {},
     "output_type": "display_data"
    },
    {
     "data": {
      "text/markdown": [
       "<a href=\"reports/BAZ1B.html\">BAZ1B</a><br>"
      ],
      "text/plain": [
       "<IPython.core.display.Markdown object>"
      ]
     },
     "metadata": {},
     "output_type": "display_data"
    },
    {
     "data": {
      "text/markdown": [
       "<a href=\"reports/TBC1D31.html\">TBC1D31</a><br>"
      ],
      "text/plain": [
       "<IPython.core.display.Markdown object>"
      ]
     },
     "metadata": {},
     "output_type": "display_data"
    },
    {
     "data": {
      "text/markdown": [
       "<a href=\"reports/PAG1.html\">PAG1</a><br>"
      ],
      "text/plain": [
       "<IPython.core.display.Markdown object>"
      ]
     },
     "metadata": {},
     "output_type": "display_data"
    },
    {
     "data": {
      "text/markdown": [
       "<a href=\"reports/ENSA.html\">ENSA</a><br>"
      ],
      "text/plain": [
       "<IPython.core.display.Markdown object>"
      ]
     },
     "metadata": {},
     "output_type": "display_data"
    },
    {
     "data": {
      "text/markdown": [
       "<a href=\"reports/DDX27.html\">DDX27</a><br>"
      ],
      "text/plain": [
       "<IPython.core.display.Markdown object>"
      ]
     },
     "metadata": {},
     "output_type": "display_data"
    },
    {
     "data": {
      "text/markdown": [
       "<a href=\"reports/LTO1.html\">LTO1</a><br>"
      ],
      "text/plain": [
       "<IPython.core.display.Markdown object>"
      ]
     },
     "metadata": {},
     "output_type": "display_data"
    },
    {
     "data": {
      "text/markdown": [
       "<a href=\"reports/NDUFB9.html\">NDUFB9</a><br>"
      ],
      "text/plain": [
       "<IPython.core.display.Markdown object>"
      ]
     },
     "metadata": {},
     "output_type": "display_data"
    },
    {
     "data": {
      "text/markdown": [
       "<a href=\"reports/PSMC2.html\">PSMC2</a><br>"
      ],
      "text/plain": [
       "<IPython.core.display.Markdown object>"
      ]
     },
     "metadata": {},
     "output_type": "display_data"
    },
    {
     "data": {
      "text/markdown": [
       "<a href=\"reports/VIRMA.html\">VIRMA</a><br>"
      ],
      "text/plain": [
       "<IPython.core.display.Markdown object>"
      ]
     },
     "metadata": {},
     "output_type": "display_data"
    },
    {
     "data": {
      "text/markdown": [
       "<a href=\"reports/MSC.html\">MSC</a><br>"
      ],
      "text/plain": [
       "<IPython.core.display.Markdown object>"
      ]
     },
     "metadata": {},
     "output_type": "display_data"
    },
    {
     "data": {
      "text/markdown": [
       "<a href=\"reports/MARCH9.html\">MARCH9</a><br>"
      ],
      "text/plain": [
       "<IPython.core.display.Markdown object>"
      ]
     },
     "metadata": {},
     "output_type": "display_data"
    },
    {
     "data": {
      "text/markdown": [
       "<a href=\"reports/POP1.html\">POP1</a><br>"
      ],
      "text/plain": [
       "<IPython.core.display.Markdown object>"
      ]
     },
     "metadata": {},
     "output_type": "display_data"
    },
    {
     "data": {
      "text/markdown": [
       "<a href=\"reports/ADGRA2.html\">ADGRA2</a><br>"
      ],
      "text/plain": [
       "<IPython.core.display.Markdown object>"
      ]
     },
     "metadata": {},
     "output_type": "display_data"
    },
    {
     "data": {
      "text/markdown": [
       "<a href=\"reports/LRRC14.html\">LRRC14</a><br>"
      ],
      "text/plain": [
       "<IPython.core.display.Markdown object>"
      ]
     },
     "metadata": {},
     "output_type": "display_data"
    },
    {
     "data": {
      "text/markdown": [
       "<a href=\"reports/BOP1.html\">BOP1</a><br>"
      ],
      "text/plain": [
       "<IPython.core.display.Markdown object>"
      ]
     },
     "metadata": {},
     "output_type": "display_data"
    },
    {
     "data": {
      "text/markdown": [
       "<a href=\"reports/NAMPT.html\">NAMPT</a><br>"
      ],
      "text/plain": [
       "<IPython.core.display.Markdown object>"
      ]
     },
     "metadata": {},
     "output_type": "display_data"
    },
    {
     "data": {
      "text/markdown": [
       "<a href=\"reports/TLCD1.html\">TLCD1</a><br>"
      ],
      "text/plain": [
       "<IPython.core.display.Markdown object>"
      ]
     },
     "metadata": {},
     "output_type": "display_data"
    },
    {
     "data": {
      "text/markdown": [
       "<a href=\"reports/CCL24.html\">CCL24</a><br>"
      ],
      "text/plain": [
       "<IPython.core.display.Markdown object>"
      ]
     },
     "metadata": {},
     "output_type": "display_data"
    },
    {
     "data": {
      "text/markdown": [
       "<a href=\"reports/PON3.html\">PON3</a><br>"
      ],
      "text/plain": [
       "<IPython.core.display.Markdown object>"
      ]
     },
     "metadata": {},
     "output_type": "display_data"
    },
    {
     "data": {
      "text/markdown": [
       "<a href=\"reports/CD36.html\">CD36</a><br>"
      ],
      "text/plain": [
       "<IPython.core.display.Markdown object>"
      ]
     },
     "metadata": {},
     "output_type": "display_data"
    },
    {
     "data": {
      "text/markdown": [
       "<a href=\"reports/TRIB1.html\">TRIB1</a><br>"
      ],
      "text/plain": [
       "<IPython.core.display.Markdown object>"
      ]
     },
     "metadata": {},
     "output_type": "display_data"
    },
    {
     "data": {
      "text/markdown": [
       "<a href=\"reports/IKZF3.html\">IKZF3</a><br>"
      ],
      "text/plain": [
       "<IPython.core.display.Markdown object>"
      ]
     },
     "metadata": {},
     "output_type": "display_data"
    },
    {
     "data": {
      "text/markdown": [
       "<a href=\"reports/BCAS1.html\">BCAS1</a><br>"
      ],
      "text/plain": [
       "<IPython.core.display.Markdown object>"
      ]
     },
     "metadata": {},
     "output_type": "display_data"
    },
    {
     "data": {
      "text/markdown": [
       "<a href=\"reports/DPYS.html\">DPYS</a><br>"
      ],
      "text/plain": [
       "<IPython.core.display.Markdown object>"
      ]
     },
     "metadata": {},
     "output_type": "display_data"
    },
    {
     "data": {
      "text/markdown": [
       "<a href=\"reports/ZNFX1.html\">ZNFX1</a><br>"
      ],
      "text/plain": [
       "<IPython.core.display.Markdown object>"
      ]
     },
     "metadata": {},
     "output_type": "display_data"
    },
    {
     "data": {
      "text/markdown": [
       "<a href=\"reports/MCL1.html\">MCL1</a><br>"
      ],
      "text/plain": [
       "<IPython.core.display.Markdown object>"
      ]
     },
     "metadata": {},
     "output_type": "display_data"
    },
    {
     "data": {
      "text/markdown": [
       "<a href=\"reports/KDM4D.html\">KDM4D</a><br>"
      ],
      "text/plain": [
       "<IPython.core.display.Markdown object>"
      ]
     },
     "metadata": {},
     "output_type": "display_data"
    },
    {
     "data": {
      "text/markdown": [
       "<a href=\"reports/AHRR.html\">AHRR</a><br>"
      ],
      "text/plain": [
       "<IPython.core.display.Markdown object>"
      ]
     },
     "metadata": {},
     "output_type": "display_data"
    },
    {
     "data": {
      "text/markdown": [
       "<a href=\"reports/BRD9.html\">BRD9</a><br>"
      ],
      "text/plain": [
       "<IPython.core.display.Markdown object>"
      ]
     },
     "metadata": {},
     "output_type": "display_data"
    },
    {
     "data": {
      "text/markdown": [
       "<a href=\"reports/RIDA.html\">RIDA</a><br>"
      ],
      "text/plain": [
       "<IPython.core.display.Markdown object>"
      ]
     },
     "metadata": {},
     "output_type": "display_data"
    },
    {
     "data": {
      "text/markdown": [
       "<a href=\"reports/SNRPD3.html\">SNRPD3</a><br>"
      ],
      "text/plain": [
       "<IPython.core.display.Markdown object>"
      ]
     },
     "metadata": {},
     "output_type": "display_data"
    },
    {
     "data": {
      "text/markdown": [
       "<a href=\"reports/ZNF572.html\">ZNF572</a><br>"
      ],
      "text/plain": [
       "<IPython.core.display.Markdown object>"
      ]
     },
     "metadata": {},
     "output_type": "display_data"
    },
    {
     "data": {
      "text/markdown": [
       "<a href=\"reports/HBP1.html\">HBP1</a><br>"
      ],
      "text/plain": [
       "<IPython.core.display.Markdown object>"
      ]
     },
     "metadata": {},
     "output_type": "display_data"
    },
    {
     "data": {
      "text/markdown": [
       "<a href=\"reports/CCND1.html\">CCND1</a><br>"
      ],
      "text/plain": [
       "<IPython.core.display.Markdown object>"
      ]
     },
     "metadata": {},
     "output_type": "display_data"
    },
    {
     "data": {
      "text/markdown": [
       "<a href=\"reports/PROCA1.html\">PROCA1</a><br>"
      ],
      "text/plain": [
       "<IPython.core.display.Markdown object>"
      ]
     },
     "metadata": {},
     "output_type": "display_data"
    },
    {
     "data": {
      "text/markdown": [
       "<a href=\"reports/ZHX2.html\">ZHX2</a><br>"
      ],
      "text/plain": [
       "<IPython.core.display.Markdown object>"
      ]
     },
     "metadata": {},
     "output_type": "display_data"
    },
    {
     "data": {
      "text/markdown": [
       "<a href=\"reports/ANO1.html\">ANO1</a><br>"
      ],
      "text/plain": [
       "<IPython.core.display.Markdown object>"
      ]
     },
     "metadata": {},
     "output_type": "display_data"
    },
    {
     "data": {
      "text/markdown": [
       "<a href=\"reports/ZNF704.html\">ZNF704</a><br>"
      ],
      "text/plain": [
       "<IPython.core.display.Markdown object>"
      ]
     },
     "metadata": {},
     "output_type": "display_data"
    },
    {
     "data": {
      "text/markdown": [
       "<a href=\"reports/HIP1.html\">HIP1</a><br>"
      ],
      "text/plain": [
       "<IPython.core.display.Markdown object>"
      ]
     },
     "metadata": {},
     "output_type": "display_data"
    },
    {
     "data": {
      "text/markdown": [
       "<a href=\"reports/PTGIS.html\">PTGIS</a><br>"
      ],
      "text/plain": [
       "<IPython.core.display.Markdown object>"
      ]
     },
     "metadata": {},
     "output_type": "display_data"
    },
    {
     "data": {
      "text/markdown": [
       "<a href=\"reports/PPP1R16A.html\">PPP1R16A</a><br>"
      ],
      "text/plain": [
       "<IPython.core.display.Markdown object>"
      ]
     },
     "metadata": {},
     "output_type": "display_data"
    },
    {
     "data": {
      "text/markdown": [
       "<a href=\"reports/KNG1.html\">KNG1</a><br>"
      ],
      "text/plain": [
       "<IPython.core.display.Markdown object>"
      ]
     },
     "metadata": {},
     "output_type": "display_data"
    },
    {
     "data": {
      "text/markdown": [
       "<a href=\"reports/HNF4G.html\">HNF4G</a><br>"
      ],
      "text/plain": [
       "<IPython.core.display.Markdown object>"
      ]
     },
     "metadata": {},
     "output_type": "display_data"
    },
    {
     "data": {
      "text/markdown": [
       "<a href=\"reports/DBF4.html\">DBF4</a><br>"
      ],
      "text/plain": [
       "<IPython.core.display.Markdown object>"
      ]
     },
     "metadata": {},
     "output_type": "display_data"
    },
    {
     "data": {
      "text/markdown": [
       "<a href=\"reports/TMEM243.html\">TMEM243</a><br>"
      ],
      "text/plain": [
       "<IPython.core.display.Markdown object>"
      ]
     },
     "metadata": {},
     "output_type": "display_data"
    },
    {
     "data": {
      "text/markdown": [
       "<a href=\"reports/CDK6.html\">CDK6</a><br>"
      ],
      "text/plain": [
       "<IPython.core.display.Markdown object>"
      ]
     },
     "metadata": {},
     "output_type": "display_data"
    },
    {
     "data": {
      "text/markdown": [
       "<a href=\"reports/ZHX1.html\">ZHX1</a><br>"
      ],
      "text/plain": [
       "<IPython.core.display.Markdown object>"
      ]
     },
     "metadata": {},
     "output_type": "display_data"
    },
    {
     "data": {
      "text/markdown": [
       "<a href=\"reports/SEZ6.html\">SEZ6</a><br>"
      ],
      "text/plain": [
       "<IPython.core.display.Markdown object>"
      ]
     },
     "metadata": {},
     "output_type": "display_data"
    },
    {
     "data": {
      "text/markdown": [
       "<a href=\"reports/ZNF3.html\">ZNF3</a><br>"
      ],
      "text/plain": [
       "<IPython.core.display.Markdown object>"
      ]
     },
     "metadata": {},
     "output_type": "display_data"
    },
    {
     "data": {
      "text/markdown": [
       "<a href=\"reports/TONSL.html\">TONSL</a><br>"
      ],
      "text/plain": [
       "<IPython.core.display.Markdown object>"
      ]
     },
     "metadata": {},
     "output_type": "display_data"
    },
    {
     "data": {
      "text/markdown": [
       "<a href=\"reports/ANKRD49.html\">ANKRD49</a><br>"
      ],
      "text/plain": [
       "<IPython.core.display.Markdown object>"
      ]
     },
     "metadata": {},
     "output_type": "display_data"
    },
    {
     "data": {
      "text/markdown": [
       "<a href=\"reports/CFTR.html\">CFTR</a><br>"
      ],
      "text/plain": [
       "<IPython.core.display.Markdown object>"
      ]
     },
     "metadata": {},
     "output_type": "display_data"
    },
    {
     "data": {
      "text/markdown": [
       "<a href=\"reports/FOXH1.html\">FOXH1</a><br>"
      ],
      "text/plain": [
       "<IPython.core.display.Markdown object>"
      ]
     },
     "metadata": {},
     "output_type": "display_data"
    },
    {
     "data": {
      "text/markdown": [
       "<a href=\"reports/TSHZ2.html\">TSHZ2</a><br>"
      ],
      "text/plain": [
       "<IPython.core.display.Markdown object>"
      ]
     },
     "metadata": {},
     "output_type": "display_data"
    },
    {
     "data": {
      "text/markdown": [
       "<a href=\"reports/FAM200A.html\">FAM200A</a><br>"
      ],
      "text/plain": [
       "<IPython.core.display.Markdown object>"
      ]
     },
     "metadata": {},
     "output_type": "display_data"
    },
    {
     "data": {
      "text/markdown": [
       "<a href=\"reports/TRIM4.html\">TRIM4</a><br>"
      ],
      "text/plain": [
       "<IPython.core.display.Markdown object>"
      ]
     },
     "metadata": {},
     "output_type": "display_data"
    },
    {
     "data": {
      "text/markdown": [
       "<a href=\"reports/ETV5.html\">ETV5</a><br>"
      ],
      "text/plain": [
       "<IPython.core.display.Markdown object>"
      ]
     },
     "metadata": {},
     "output_type": "display_data"
    },
    {
     "data": {
      "text/markdown": [
       "<a href=\"reports/STAU1.html\">STAU1</a><br>"
      ],
      "text/plain": [
       "<IPython.core.display.Markdown object>"
      ]
     },
     "metadata": {},
     "output_type": "display_data"
    },
    {
     "data": {
      "text/markdown": [
       "<a href=\"reports/TSPYL5.html\">TSPYL5</a><br>"
      ],
      "text/plain": [
       "<IPython.core.display.Markdown object>"
      ]
     },
     "metadata": {},
     "output_type": "display_data"
    },
    {
     "data": {
      "text/markdown": [
       "<a href=\"reports/ERLIN2.html\">ERLIN2</a><br>"
      ],
      "text/plain": [
       "<IPython.core.display.Markdown object>"
      ]
     },
     "metadata": {},
     "output_type": "display_data"
    },
    {
     "data": {
      "text/markdown": [
       "<a href=\"reports/PHF12.html\">PHF12</a><br>"
      ],
      "text/plain": [
       "<IPython.core.display.Markdown object>"
      ]
     },
     "metadata": {},
     "output_type": "display_data"
    },
    {
     "data": {
      "text/markdown": [
       "<a href=\"reports/GPR83.html\">GPR83</a><br>"
      ],
      "text/plain": [
       "<IPython.core.display.Markdown object>"
      ]
     },
     "metadata": {},
     "output_type": "display_data"
    },
    {
     "data": {
      "text/markdown": [
       "<a href=\"reports/RNF139.html\">RNF139</a><br>"
      ],
      "text/plain": [
       "<IPython.core.display.Markdown object>"
      ]
     },
     "metadata": {},
     "output_type": "display_data"
    },
    {
     "data": {
      "text/markdown": [
       "<a href=\"reports/RPL30.html\">RPL30</a><br>"
      ],
      "text/plain": [
       "<IPython.core.display.Markdown object>"
      ]
     },
     "metadata": {},
     "output_type": "display_data"
    },
    {
     "data": {
      "text/markdown": [
       "<a href=\"reports/KCNG1.html\">KCNG1</a><br>"
      ],
      "text/plain": [
       "<IPython.core.display.Markdown object>"
      ]
     },
     "metadata": {},
     "output_type": "display_data"
    },
    {
     "data": {
      "text/markdown": [
       "<a href=\"reports/KCNB2.html\">KCNB2</a><br>"
      ],
      "text/plain": [
       "<IPython.core.display.Markdown object>"
      ]
     },
     "metadata": {},
     "output_type": "display_data"
    },
    {
     "data": {
      "text/markdown": [
       "<a href=\"reports/YAP1.html\">YAP1</a><br>"
      ],
      "text/plain": [
       "<IPython.core.display.Markdown object>"
      ]
     },
     "metadata": {},
     "output_type": "display_data"
    },
    {
     "data": {
      "text/markdown": [
       "<a href=\"reports/LETM2.html\">LETM2</a><br>"
      ],
      "text/plain": [
       "<IPython.core.display.Markdown object>"
      ]
     },
     "metadata": {},
     "output_type": "display_data"
    },
    {
     "data": {
      "text/markdown": [
       "<a href=\"reports/PEX2.html\">PEX2</a><br>"
      ],
      "text/plain": [
       "<IPython.core.display.Markdown object>"
      ]
     },
     "metadata": {},
     "output_type": "display_data"
    },
    {
     "data": {
      "text/markdown": [
       "<a href=\"reports/ACHE.html\">ACHE</a><br>"
      ],
      "text/plain": [
       "<IPython.core.display.Markdown object>"
      ]
     },
     "metadata": {},
     "output_type": "display_data"
    },
    {
     "data": {
      "text/markdown": [
       "<a href=\"reports/ASNS.html\">ASNS</a><br>"
      ],
      "text/plain": [
       "<IPython.core.display.Markdown object>"
      ]
     },
     "metadata": {},
     "output_type": "display_data"
    },
    {
     "data": {
      "text/markdown": [
       "<a href=\"reports/MFSD3.html\">MFSD3</a><br>"
      ],
      "text/plain": [
       "<IPython.core.display.Markdown object>"
      ]
     },
     "metadata": {},
     "output_type": "display_data"
    },
    {
     "data": {
      "text/markdown": [
       "<a href=\"reports/DDHD2.html\">DDHD2</a><br>"
      ],
      "text/plain": [
       "<IPython.core.display.Markdown object>"
      ]
     },
     "metadata": {},
     "output_type": "display_data"
    },
    {
     "data": {
      "text/markdown": [
       "<a href=\"reports/MRPL36.html\">MRPL36</a><br>"
      ],
      "text/plain": [
       "<IPython.core.display.Markdown object>"
      ]
     },
     "metadata": {},
     "output_type": "display_data"
    },
    {
     "data": {
      "text/markdown": [
       "<a href=\"reports/MAF1.html\">MAF1</a><br>"
      ],
      "text/plain": [
       "<IPython.core.display.Markdown object>"
      ]
     },
     "metadata": {},
     "output_type": "display_data"
    },
    {
     "data": {
      "text/markdown": [
       "<a href=\"reports/CCNE2.html\">CCNE2</a><br>"
      ],
      "text/plain": [
       "<IPython.core.display.Markdown object>"
      ]
     },
     "metadata": {},
     "output_type": "display_data"
    },
    {
     "data": {
      "text/markdown": [
       "<a href=\"reports/IGFBP4.html\">IGFBP4</a><br>"
      ],
      "text/plain": [
       "<IPython.core.display.Markdown object>"
      ]
     },
     "metadata": {},
     "output_type": "display_data"
    },
    {
     "data": {
      "text/markdown": [
       "<a href=\"reports/KLF10.html\">KLF10</a><br>"
      ],
      "text/plain": [
       "<IPython.core.display.Markdown object>"
      ]
     },
     "metadata": {},
     "output_type": "display_data"
    },
    {
     "data": {
      "text/markdown": [
       "<a href=\"reports/FBXO24.html\">FBXO24</a><br>"
      ],
      "text/plain": [
       "<IPython.core.display.Markdown object>"
      ]
     },
     "metadata": {},
     "output_type": "display_data"
    },
    {
     "data": {
      "text/markdown": [
       "<a href=\"reports/SIPA1L3.html\">SIPA1L3</a><br>"
      ],
      "text/plain": [
       "<IPython.core.display.Markdown object>"
      ]
     },
     "metadata": {},
     "output_type": "display_data"
    },
    {
     "data": {
      "text/markdown": [
       "<a href=\"reports/ZNF217.html\">ZNF217</a><br>"
      ],
      "text/plain": [
       "<IPython.core.display.Markdown object>"
      ]
     },
     "metadata": {},
     "output_type": "display_data"
    },
    {
     "data": {
      "text/markdown": [
       "<a href=\"reports/ZP3.html\">ZP3</a><br>"
      ],
      "text/plain": [
       "<IPython.core.display.Markdown object>"
      ]
     },
     "metadata": {},
     "output_type": "display_data"
    },
    {
     "data": {
      "text/markdown": [
       "<a href=\"reports/PSKH2.html\">PSKH2</a><br>"
      ],
      "text/plain": [
       "<IPython.core.display.Markdown object>"
      ]
     },
     "metadata": {},
     "output_type": "display_data"
    },
    {
     "data": {
      "text/markdown": [
       "<a href=\"reports/ASZ1.html\">ASZ1</a><br>"
      ],
      "text/plain": [
       "<IPython.core.display.Markdown object>"
      ]
     },
     "metadata": {},
     "output_type": "display_data"
    },
    {
     "data": {
      "text/markdown": [
       "<a href=\"reports/SLC9A3.html\">SLC9A3</a><br>"
      ],
      "text/plain": [
       "<IPython.core.display.Markdown object>"
      ]
     },
     "metadata": {},
     "output_type": "display_data"
    },
    {
     "data": {
      "text/markdown": [
       "<a href=\"reports/SESN3.html\">SESN3</a><br>"
      ],
      "text/plain": [
       "<IPython.core.display.Markdown object>"
      ]
     },
     "metadata": {},
     "output_type": "display_data"
    }
   ],
   "source": [
    "report('\\n\\n<h2>Links to gene information</h2>')\n",
    "report('DepMap summary, expression, Reactome pathways<br>')\n",
    "for g in set(candidates.HUGO_symbol):\n",
    "    report('<a href=\"reports/'+g+'.html\">'+g+'</a><br>')"
   ]
  },
  {
   "cell_type": "code",
   "execution_count": null,
   "metadata": {},
   "outputs": [],
   "source": []
  }
 ],
 "metadata": {
  "kernelspec": {
   "display_name": "Python 3",
   "language": "python",
   "name": "python3"
  },
  "language_info": {
   "codemirror_mode": {
    "name": "ipython",
    "version": 3
   },
   "file_extension": ".py",
   "mimetype": "text/x-python",
   "name": "python",
   "nbconvert_exporter": "python",
   "pygments_lexer": "ipython3",
   "version": "3.7.4"
  }
 },
 "nbformat": 4,
 "nbformat_minor": 4
}
