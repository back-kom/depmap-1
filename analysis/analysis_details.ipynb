{
 "cells": [
  {
   "cell_type": "code",
   "execution_count": 1,
   "metadata": {},
   "outputs": [],
   "source": [
    "from __future__ import print_function\n",
    "import pandas as pd\n",
    "import os, sys, re, pickle, wget, shutil\n",
    "from intermine.webservice import Service\n",
    "from IPython.display import Markdown, display\n",
    "\n",
    "# Load data direct from source\n",
    "class A(object):\n",
    "    data = {}\n",
    "    url = {}\n",
    "    url['expression'] = 'https://ndownloader.figshare.com/files/16757690'\n",
    "    url['sample_info'] = 'https://ndownloader.figshare.com/files/16757723'\n",
    "    url['copy_number'] = 'https://ndownloader.figshare.com/files/17857886'\n",
    "    url['mutations'] = 'https://ndownloader.figshare.com/files/16757702'\n",
    "    url['achilles_crispr'] = 'https://ndownloader.figshare.com/files/16757666'\n",
    "    url['d2_rnai'] = 'https://ndownloader.figshare.com/files/13515395'\n",
    "    url['sensitivity'] = 'https://ndownloader.figshare.com/files/17008628'\n",
    "    url['mfr'] = 'http://bmbl.sdstate.edu/MFR/data/resource%20data/tr_dv_ts.dataset.zip'\n",
    "    url['reactome'] = 'https://reactome.org/download/current/NCBI2Reactome.txt'\n",
    "    summary = '../index.md'\n",
    "    \n",
    "# Wipe the slate clean on the analysis summary\n",
    "os.system(\"echo '' > \"+A.summary)\n",
    "    \n",
    "def printmd(string):\n",
    "    \"\"\"Prints formatted markdown text\"\"\"\n",
    "    display(Markdown(string))\n",
    "    \n",
    "def report(text,silent=False):\n",
    "    \"\"\"Print markdown in this notebook and saves markdown-only summary in a file\"\"\"\n",
    "    if not silent:\n",
    "        printmd(text)\n",
    "    \n",
    "    f = open(A.summary,'a')\n",
    "    f.write(text+'\\n')\n",
    "    \n",
    "def get_gene_descriptions():\n",
    "    \"\"\"Load gene names and descriptions from humanmine (http://www.humanmine.org),\n",
    "    an integrated database of human genome information.  Use cached data if available\"\"\"\n",
    "    \n",
    "    archive = 'data/gene_info.p'\n",
    "    if os.path.exists(archive):\n",
    "        df = pd.read_pickle(archive)\n",
    "        return df\n",
    "    \n",
    "    service = Service(\"https://www.humanmine.org/humanmine/service\")\n",
    "    query = service.new_query(\"Gene\")\n",
    "    cols = [\"primaryIdentifier\", \"symbol\", \"briefDescription\", \"description\",\"proteins.uniprotAccession\"]\n",
    "    query.add_view(*cols)\n",
    "    query.add_constraint(\"organism.taxonId\", \"=\", \"9606\", code = \"A\")    \n",
    "    df_rows = []\n",
    "\n",
    "    for row in query.rows():\n",
    "        df_rows.append(\n",
    "            [row[\"primaryIdentifier\"], \n",
    "             row[\"symbol\"], \n",
    "             row[\"briefDescription\"], \n",
    "             row[\"description\"],\n",
    "             row[\"proteins.uniprotAccession\"]\n",
    "            ])\n",
    "\n",
    "    df = pd.DataFrame(data=df_rows,columns=cols)\n",
    "    df.to_pickle(archive)\n",
    "    return df\n",
    "    \n",
    "def get_data(key):\n",
    "    \"\"\"Load input data.\n",
    "    Arguments: key for the data source (eg: expression, sample_info...)\n",
    "    1) If the data is cached on the filesystem, load and return the dataframe\n",
    "    2) Otherwise, load the data from the source URL, cache, return the dataframe\n",
    "    \"\"\"\n",
    "#     if A.data.get(key) is not None:\n",
    "#         return A.data[key]\n",
    "    \n",
    "    data_cache = 'data/'+key+'.p'\n",
    "    if os.path.exists(data_cache):\n",
    "        df = pd.read_pickle(data_cache)\n",
    "    else:\n",
    "        print(\"Downloading\",key,\"from source\")\n",
    "        df = pd.read_csv(A.url[key],low_memory=False,index_col=0)\n",
    "        df.to_pickle(data_cache)\n",
    "        \n",
    "    A.data[key] = df    \n",
    "    return df\n",
    "\n",
    "def ncbi_gene_ids(genes):\n",
    "    \"\"\"Converts gene name \"symbol (ncbi_id)\"\n",
    "    to integer NCBI ID\n",
    "    \"\"\"\n",
    "    ncbi_cols = []\n",
    "    for g in genes:\n",
    "        match = re.search(' \\((\\d+)\\)',g)\n",
    "        if match:\n",
    "            g = match.group(1)\n",
    "        else:\n",
    "            print(\"No match\",g)\n",
    "        ncbi_cols.append(int(g))\n",
    "\n",
    "    return ncbi_cols\n",
    "\n",
    "def get_pathway_info():\n",
    "    # Map NCBI IDs to reactome pathways\n",
    "    # File downloaded from https://reactome.org/download/current/NCBI2Reactome.txt\n",
    "    archive = 'data/pathway_info.p'\n",
    "    \n",
    "    if os.path.exists(archive):\n",
    "        pathway_info = pickle.load(open(archive,'rb'))\n",
    "        return pathway_info\n",
    "    \n",
    "    pathway_info = {}\n",
    "    if not os.path.exists('data/NCBI2Reactome.txt'):\n",
    "        wget.download(A.url['reactome'],out='data/NCBI2Reactome.txt')\n",
    "    with open('data/NCBI2Reactome.txt') as n2r:\n",
    "        for line in n2r.readlines():\n",
    "            ncbi, pathway_id, url, pathway_name, type, species = line.strip().split('\\t')\n",
    "            # only human pathways\n",
    "            if species != 'Homo sapiens':\n",
    "                continue\n",
    "            # only curated pathways\n",
    "            if type == 'IEA':\n",
    "                continue\n",
    "            pathway_info[ncbi] = [pathway_id, url, pathway_name]\n",
    "\n",
    "    pickle.dump(pathway_info,open(archive,'wb'))\n",
    "    return pathway_info\n"
   ]
  },
  {
   "cell_type": "code",
   "execution_count": 2,
   "metadata": {},
   "outputs": [],
   "source": [
    "report('''\n",
    "# Sample analysis of Cancer Dependency Map (DepMap) data \n",
    "## Request\n",
    "* Identify the most frequent genetic alterations (could be mutations or copy number variations) in the cancer cell lines\n",
    "* Match them with the best genetic dependencies that could be used for drug development for the cancers that carry those mutations\n",
    "* Take into account the lineage of cancer cell lines (certain mutations/CNVs may be restricted to a specific lineage)\n",
    "\n",
    "## Resources\n",
    "### DepMap (https://depmap.org/portal) Data \n",
    "* Cell line metadata\n",
    "* Expression\n",
    " * RNAseq\n",
    " * Protein\n",
    "* Copy number variation\n",
    "* Mutations\n",
    "* Genetic dependency\n",
    " * Crispr (Achilles)\n",
    " * RNAi (DEMETER2)\n",
    "\n",
    "### NCBI (via https://humanmine.org)\n",
    "* Entrez gene IDs mapped to symbol, name, descrion, uniprot\n",
    "\n",
    "### Reactome\n",
    "* Entrez gene IDs mapped to Reactome pathways\n",
    "\n",
    "### MFR (http://bmbl.sdstate.edu/MFR)\n",
    "* A Machine Learning Model for measuring relatedness between a pair of genes\n",
    "\n",
    "### Jupyter (https://jupyter.org/)\n",
    "* Python programming framework for analysis prototyping and reporting\n",
    "\n",
    "### GitHub (https://github.com/)\n",
    "* Revision control for Python code\n",
    "* Reporting mechanism for analysi summary and details\n",
    "\n",
    "''',silent=True)"
   ]
  },
  {
   "cell_type": "code",
   "execution_count": 3,
   "metadata": {},
   "outputs": [
    {
     "data": {
      "text/markdown": [
       "\n",
       "## Get gene descriptions, etc.\n",
       "Use data from humanmine (http://www.humanmine.org/) to map NCBI gene IDs to name, summary, symbol, uniprot\n"
      ],
      "text/plain": [
       "<IPython.core.display.Markdown object>"
      ]
     },
     "metadata": {},
     "output_type": "display_data"
    }
   ],
   "source": [
    "report('''\n",
    "## Get gene descriptions, etc.\n",
    "Use data from humanmine (http://www.humanmine.org/) to map NCBI gene IDs to name, summary, symbol, uniprot\n",
    "''')"
   ]
  },
  {
   "cell_type": "code",
   "execution_count": 4,
   "metadata": {},
   "outputs": [
    {
     "name": "stdout",
     "output_type": "stream",
     "text": [
      "Done mapping gene info\n"
     ]
    }
   ],
   "source": [
    "gd = get_gene_descriptions()\n",
    "report('sample gene info:\\n'+gd.head(1).to_html(index=False),silent=True)\n",
    "ncbi2name    = {}\n",
    "ncbi2symbol  = {}\n",
    "ncbi2desc    = {}\n",
    "ncbi2uniprot = {}\n",
    "uniprot2ncbi = {}\n",
    "\n",
    "for i, r in gd.iterrows():\n",
    "    ncbi, symbol, name, description, uniprot = list(r)\n",
    "    ncbi = int(ncbi)\n",
    "    ncbi2name[ncbi] = name\n",
    "    ncbi2symbol[ncbi] = symbol\n",
    "    ncbi2desc[ncbi] = description\n",
    "    \n",
    "    # ncbi <-> uniprot can be 1:many\n",
    "    if ncbi2uniprot.get(ncbi) is None:\n",
    "        ncbi2uniprot[ncbi] = set()\n",
    "    ncbi2uniprot[ncbi].add(uniprot)\n",
    "    uniprot2ncbi[uniprot] = ncbi\n",
    "    \n",
    "print(\"Done mapping gene info\")"
   ]
  },
  {
   "cell_type": "code",
   "execution_count": 5,
   "metadata": {},
   "outputs": [
    {
     "data": {
      "text/markdown": [
       "\n",
       "## Aggregate cell lines by lineage\n",
       "<b>DepMap source file:</b> sample_info.csv\n",
       "* Group all cell lines (CCLE cell line IDs) by main (parent) lineage\n",
       "* If a lineage has > 1 defined sublineages, also aggregate cell lines by sublineage (eg: leukemia -> AML)\n"
      ],
      "text/plain": [
       "<IPython.core.display.Markdown object>"
      ]
     },
     "metadata": {},
     "output_type": "display_data"
    }
   ],
   "source": [
    "report('''\n",
    "## Aggregate cell lines by lineage\n",
    "<b>DepMap source file:</b> sample_info.csv\n",
    "* Group all cell lines (CCLE cell line IDs) by main (parent) lineage\n",
    "* If a lineage has > 1 defined sublineages, also aggregate cell lines by sublineage (eg: leukemia -> AML)\n",
    "''')"
   ]
  },
  {
   "cell_type": "code",
   "execution_count": 6,
   "metadata": {},
   "outputs": [
    {
     "data": {
      "text/markdown": [
       "<pre>"
      ],
      "text/plain": [
       "<IPython.core.display.Markdown object>"
      ]
     },
     "metadata": {},
     "output_type": "display_data"
    },
    {
     "data": {
      "text/markdown": [
       "Number of cell lines: 1429"
      ],
      "text/plain": [
       "<IPython.core.display.Markdown object>"
      ]
     },
     "metadata": {},
     "output_type": "display_data"
    },
    {
     "data": {
      "text/markdown": [
       "Number of lineages: 33"
      ],
      "text/plain": [
       "<IPython.core.display.Markdown object>"
      ]
     },
     "metadata": {},
     "output_type": "display_data"
    },
    {
     "data": {
      "text/markdown": [
       "Number of lineages with sub-lineages: 16"
      ],
      "text/plain": [
       "<IPython.core.display.Markdown object>"
      ]
     },
     "metadata": {},
     "output_type": "display_data"
    },
    {
     "data": {
      "text/markdown": [
       "Number of sub-lineages 61"
      ],
      "text/plain": [
       "<IPython.core.display.Markdown object>"
      ]
     },
     "metadata": {},
     "output_type": "display_data"
    },
    {
     "data": {
      "text/markdown": [
       "</pre>"
      ],
      "text/plain": [
       "<IPython.core.display.Markdown object>"
      ]
     },
     "metadata": {},
     "output_type": "display_data"
    }
   ],
   "source": [
    "sample_info = get_data('sample_info')\n",
    "lineages = set(sample_info.lineage.dropna())\n",
    "\n",
    "lineage2cell    = {}\n",
    "sublineage2cell = {}\n",
    "cell2lineage    = {}\n",
    "cell2sublineage = {}\n",
    "has_sub = set()\n",
    "\n",
    "for l in lineages:\n",
    "    ldf = sample_info[sample_info.lineage == l]\n",
    "    subtypes = set(ldf.lineage_subtype.dropna())\n",
    "    \n",
    "    # cell lines for sublineage\n",
    "    if len(subtypes) > 1:\n",
    "        has_sub.add(l)\n",
    "        for sub in subtypes:\n",
    "            if l in sub:\n",
    "                lname = sub\n",
    "            else:\n",
    "                lname = l + '_' + sub\n",
    "            lname = l + '_' + sub\n",
    "            sub_df = ldf[ldf.lineage_subtype == sub]\n",
    "\n",
    "            # map sublineage to cell lines\n",
    "            sublineage2cell[lname] = list(sub_df.index)\n",
    "    \n",
    "            # map cell lines to sub-lineage\n",
    "            for cell in sublineage2cell[lname]:\n",
    "                cell2sublineage[cell] = sub\n",
    "                \n",
    "    # all cell lines for lineage\n",
    "    lineage2cell[l] = list(ldf.index)\n",
    "    \n",
    "    # parent lineage of each cell line\n",
    "    for cell in lineage2cell[l]:\n",
    "        cell2lineage[cell] = l\n",
    "    \n",
    "\n",
    "report('<pre>')\n",
    "report(\"Number of cell lines: \"+str(len(cell2lineage)))\n",
    "report(\"Number of lineages: \"+str(len(lineage2cell)))\n",
    "report(\"Number of lineages with sub-lineages: \"+str(len(has_sub)))\n",
    "report(\"Number of sub-lineages \"+str(len(sublineage2cell)))\n",
    "report('</pre>')"
   ]
  },
  {
   "cell_type": "code",
   "execution_count": 7,
   "metadata": {},
   "outputs": [
    {
     "data": {
      "text/markdown": [
       "\n",
       "## Mutation Data \n",
       "<b>DepMap source file:</b> CCLE_mutations.csv\n",
       "* Keep track of TCGA and COSMIC hotspot genes by lineage\n",
       "* Track deleterious mutations by lineage for future reference\n"
      ],
      "text/plain": [
       "<IPython.core.display.Markdown object>"
      ]
     },
     "metadata": {},
     "output_type": "display_data"
    }
   ],
   "source": [
    "report('''\n",
    "## Mutation Data \n",
    "<b>DepMap source file:</b> CCLE_mutations.csv\n",
    "* Keep track of TCGA and COSMIC hotspot genes by lineage\n",
    "* Track deleterious mutations by lineage for future reference\n",
    "''')"
   ]
  },
  {
   "cell_type": "code",
   "execution_count": 8,
   "metadata": {},
   "outputs": [],
   "source": [
    "mutations = get_data('mutations')"
   ]
  },
  {
   "cell_type": "code",
   "execution_count": 9,
   "metadata": {},
   "outputs": [
    {
     "name": "stdout",
     "output_type": "stream",
     "text": [
      "Done mapping hotspots\n"
     ]
    }
   ],
   "source": [
    "# Filter hotspot genes\n",
    "hotspots = []\n",
    "hotspots.append(mutations[mutations.isTCGAhotspot])\n",
    "hotspots.append(mutations[mutations.isCOSMIChotspot])\n",
    "hotspots = pd.concat(hotspots).drop_duplicates()\n",
    "\n",
    "genes = set(hotspots.Entrez_Gene_Id)\n",
    "\n",
    "lineage_hotspots = {}\n",
    "sublineage_hotspots = {}\n",
    "\n",
    "for g in genes:\n",
    "    lineage_hotspots[g] = {}\n",
    "    sublineage_hotspots[g] = {}\n",
    "    \n",
    "    gdf = hotspots[hotspots.Entrez_Gene_Id == g]\n",
    "    \n",
    "    for i, r in gdf.iterrows():\n",
    "        cell = r.DepMap_ID\n",
    "        if cell2lineage.get(cell) is not None:\n",
    "            lineage = cell2lineage[cell]\n",
    "            if lineage_hotspots[g].get(lineage) is None:\n",
    "                lineage_hotspots[g][lineage] = 0\n",
    "            lineage_hotspots[g][lineage] += 1\n",
    "            \n",
    "        if cell2sublineage.get(cell) is not None:\n",
    "            sublineage = cell2sublineage[cell]\n",
    "            if sublineage_hotspots[g].get(sublineage) is None:\n",
    "                sublineage_hotspots[g][sublineage] = 0\n",
    "            sublineage_hotspots[g][sublineage] += 1\n",
    "print(\"Done mapping hotspots\")"
   ]
  },
  {
   "cell_type": "code",
   "execution_count": 10,
   "metadata": {},
   "outputs": [
    {
     "name": "stdout",
     "output_type": "stream",
     "text": [
      "Done mapping deleterious mutations\n"
     ]
    }
   ],
   "source": [
    "# Filter deleterious mutations\n",
    "damaging = mutations[mutations.Variant_annotation.isin(['damaging','non-conserving'])]\n",
    "damaging = damaging[damaging.isDeleterious == True]\n",
    "genes = set(hotspots.Entrez_Gene_Id)\n",
    "\n",
    "\n",
    "genes = set(damaging.Entrez_Gene_Id)\n",
    "\n",
    "lineage_mutations = {}\n",
    "sublineage_mutations = {}\n",
    "\n",
    "for g in genes:\n",
    "    lineage_mutations[g] = {}\n",
    "    sublineage_mutations[g] = {}\n",
    "    \n",
    "    gdf = damaging[damaging.Entrez_Gene_Id == g]\n",
    "    \n",
    "    for i, r in gdf.iterrows():\n",
    "        cell = r.DepMap_ID\n",
    "        if cell2lineage.get(cell) is not None:\n",
    "            lineage = cell2lineage[cell]\n",
    "            if lineage_mutations[g].get(lineage) is None:\n",
    "                lineage_mutations[g][lineage] = 0\n",
    "            lineage_mutations[g][lineage] += 1\n",
    "            \n",
    "        if cell2sublineage.get(cell) is not None:\n",
    "            sublineage = cell2sublineage[cell]\n",
    "            if sublineage_mutations[g].get(sublineage) is None:\n",
    "                sublineage_mutations[g][sublineage] = 0\n",
    "            sublineage_mutations[g][sublineage] += 1\n",
    "            \n",
    "print(\"Done mapping deleterious mutations\")"
   ]
  },
  {
   "cell_type": "code",
   "execution_count": 11,
   "metadata": {},
   "outputs": [
    {
     "data": {
      "text/markdown": [
       "\n",
       "## DEMETER2 RNAi gene dependency data\n",
       "Cancer cell line genetic dependencies estimated using the DEMETER2 model. DEMETER2 is applied to three large-scale RNAi screening datasets: the Broad Institute Project Achilles, Novartis Project DRIVE, and the Marcotte et al. breast cell line dataset. The model is also applied to generate a combined dataset of gene dependencies covering a total of 712 unique cancer cell lines.\n",
       "\n",
       "<b>DepMap source file:</b> D2_combined_gene_dep_scores.csv \n",
       "\n",
       "<b>Citation:</b> Jordan G. Bryan, John M. Krill-Burger, Thomas M. Green, Francisca Vazquez, Jesse S. Boehm, Todd R. Golub, William C. Hahn, David E. Root, Aviad Tsherniak. (2018). Improved estimation of cancer dependencies from large-scale RNAi screens using model-based normalization and data integration. Nature Communications 9, 1. https://doi.org/10.1038/s41467-018-06916-5</font>\n",
       "\n",
       "* Data source uses CCLE names rather than DepMap cell line IDS\n",
       "* Translate the cell line names to IDS for consistency with other data sources\n",
       "* Also deal with rows in the table with multiple gene names (eg 'GTF2IP4&GTF2IP1 (100093631&2970)')\n"
      ],
      "text/plain": [
       "<IPython.core.display.Markdown object>"
      ]
     },
     "metadata": {},
     "output_type": "display_data"
    }
   ],
   "source": [
    "report('''\n",
    "## DEMETER2 RNAi gene dependency data\n",
    "Cancer cell line genetic dependencies estimated using the DEMETER2 model. DEMETER2 is applied to three large-scale RNAi screening datasets: the Broad Institute Project Achilles, Novartis Project DRIVE, and the Marcotte et al. breast cell line dataset. The model is also applied to generate a combined dataset of gene dependencies covering a total of 712 unique cancer cell lines.\n",
    "\n",
    "<b>DepMap source file:</b> D2_combined_gene_dep_scores.csv \n",
    "\n",
    "<b>Citation:</b> Jordan G. Bryan, John M. Krill-Burger, Thomas M. Green, Francisca Vazquez, Jesse S. Boehm, Todd R. Golub, William C. Hahn, David E. Root, Aviad Tsherniak. (2018). Improved estimation of cancer dependencies from large-scale RNAi screens using model-based normalization and data integration. Nature Communications 9, 1. https://doi.org/10.1038/s41467-018-06916-5</font>\n",
    "\n",
    "* Data source uses CCLE names rather than DepMap cell line IDS\n",
    "* Translate the cell line names to IDS for consistency with other data sources\n",
    "* Also deal with rows in the table with multiple gene names (eg 'GTF2IP4&GTF2IP1 (100093631&2970)')\n",
    "''')"
   ]
  },
  {
   "cell_type": "code",
   "execution_count": 12,
   "metadata": {},
   "outputs": [
    {
     "name": "stdout",
     "output_type": "stream",
     "text": [
      "Initial number of rows in dataframe: 17309\n",
      "Splitting multigene rows...\n"
     ]
    },
    {
     "ename": "KeyboardInterrupt",
     "evalue": "",
     "output_type": "error",
     "traceback": [
      "\u001b[0;31m---------------------------------------------------------------------------\u001b[0m",
      "\u001b[0;31mKeyboardInterrupt\u001b[0m                         Traceback (most recent call last)",
      "\u001b[0;32m<ipython-input-12-6a08a06699f2>\u001b[0m in \u001b[0;36m<module>\u001b[0;34m\u001b[0m\n\u001b[1;32m     20\u001b[0m     \u001b[0;32melse\u001b[0m\u001b[0;34m:\u001b[0m\u001b[0;34m\u001b[0m\u001b[0;34m\u001b[0m\u001b[0m\n\u001b[1;32m     21\u001b[0m         \u001b[0mrows\u001b[0m\u001b[0;34m.\u001b[0m\u001b[0mappend\u001b[0m\u001b[0;34m(\u001b[0m\u001b[0;34m[\u001b[0m\u001b[0mi\u001b[0m\u001b[0;34m]\u001b[0m\u001b[0;34m+\u001b[0m\u001b[0mlist\u001b[0m\u001b[0;34m(\u001b[0m\u001b[0mr\u001b[0m\u001b[0;34m)\u001b[0m\u001b[0;34m)\u001b[0m\u001b[0;34m\u001b[0m\u001b[0;34m\u001b[0m\u001b[0m\n\u001b[0;32m---> 22\u001b[0;31m \u001b[0md2\u001b[0m \u001b[0;34m=\u001b[0m \u001b[0mpd\u001b[0m\u001b[0;34m.\u001b[0m\u001b[0mDataFrame\u001b[0m\u001b[0;34m(\u001b[0m\u001b[0mdata\u001b[0m\u001b[0;34m=\u001b[0m\u001b[0mrows\u001b[0m\u001b[0;34m,\u001b[0m\u001b[0mcolumns\u001b[0m\u001b[0;34m=\u001b[0m\u001b[0mcols\u001b[0m\u001b[0;34m)\u001b[0m\u001b[0;34m.\u001b[0m\u001b[0mset_index\u001b[0m\u001b[0;34m(\u001b[0m\u001b[0;34m'gene'\u001b[0m\u001b[0;34m)\u001b[0m\u001b[0;34m\u001b[0m\u001b[0;34m\u001b[0m\u001b[0m\n\u001b[0m\u001b[1;32m     23\u001b[0m \u001b[0mprint\u001b[0m\u001b[0;34m(\u001b[0m\u001b[0;34m\"Final number of rows in dataframe:\"\u001b[0m\u001b[0;34m,\u001b[0m\u001b[0md2\u001b[0m\u001b[0;34m.\u001b[0m\u001b[0mshape\u001b[0m\u001b[0;34m[\u001b[0m\u001b[0;36m0\u001b[0m\u001b[0;34m]\u001b[0m\u001b[0;34m)\u001b[0m\u001b[0;34m\u001b[0m\u001b[0;34m\u001b[0m\u001b[0m\n",
      "\u001b[0;32m~/opt/anaconda3/lib/python3.7/site-packages/pandas/core/frame.py\u001b[0m in \u001b[0;36m__init__\u001b[0;34m(self, data, index, columns, dtype, copy)\u001b[0m\n\u001b[1;32m    448\u001b[0m                     \u001b[0;32mif\u001b[0m \u001b[0mis_named_tuple\u001b[0m\u001b[0;34m(\u001b[0m\u001b[0mdata\u001b[0m\u001b[0;34m[\u001b[0m\u001b[0;36m0\u001b[0m\u001b[0;34m]\u001b[0m\u001b[0;34m)\u001b[0m \u001b[0;32mand\u001b[0m \u001b[0mcolumns\u001b[0m \u001b[0;32mis\u001b[0m \u001b[0;32mNone\u001b[0m\u001b[0;34m:\u001b[0m\u001b[0;34m\u001b[0m\u001b[0;34m\u001b[0m\u001b[0m\n\u001b[1;32m    449\u001b[0m                         \u001b[0mcolumns\u001b[0m \u001b[0;34m=\u001b[0m \u001b[0mdata\u001b[0m\u001b[0;34m[\u001b[0m\u001b[0;36m0\u001b[0m\u001b[0;34m]\u001b[0m\u001b[0;34m.\u001b[0m\u001b[0m_fields\u001b[0m\u001b[0;34m\u001b[0m\u001b[0;34m\u001b[0m\u001b[0m\n\u001b[0;32m--> 450\u001b[0;31m                     \u001b[0marrays\u001b[0m\u001b[0;34m,\u001b[0m \u001b[0mcolumns\u001b[0m \u001b[0;34m=\u001b[0m \u001b[0mto_arrays\u001b[0m\u001b[0;34m(\u001b[0m\u001b[0mdata\u001b[0m\u001b[0;34m,\u001b[0m \u001b[0mcolumns\u001b[0m\u001b[0;34m,\u001b[0m \u001b[0mdtype\u001b[0m\u001b[0;34m=\u001b[0m\u001b[0mdtype\u001b[0m\u001b[0;34m)\u001b[0m\u001b[0;34m\u001b[0m\u001b[0;34m\u001b[0m\u001b[0m\n\u001b[0m\u001b[1;32m    451\u001b[0m                     \u001b[0mcolumns\u001b[0m \u001b[0;34m=\u001b[0m \u001b[0mensure_index\u001b[0m\u001b[0;34m(\u001b[0m\u001b[0mcolumns\u001b[0m\u001b[0;34m)\u001b[0m\u001b[0;34m\u001b[0m\u001b[0;34m\u001b[0m\u001b[0m\n\u001b[1;32m    452\u001b[0m \u001b[0;34m\u001b[0m\u001b[0m\n",
      "\u001b[0;32m~/opt/anaconda3/lib/python3.7/site-packages/pandas/core/internals/construction.py\u001b[0m in \u001b[0;36mto_arrays\u001b[0;34m(data, columns, coerce_float, dtype)\u001b[0m\n\u001b[1;32m    462\u001b[0m         \u001b[0;32mreturn\u001b[0m \u001b[0;34m[\u001b[0m\u001b[0;34m]\u001b[0m\u001b[0;34m,\u001b[0m \u001b[0;34m[\u001b[0m\u001b[0;34m]\u001b[0m  \u001b[0;31m# columns if columns is not None else []\u001b[0m\u001b[0;34m\u001b[0m\u001b[0;34m\u001b[0m\u001b[0m\n\u001b[1;32m    463\u001b[0m     \u001b[0;32mif\u001b[0m \u001b[0misinstance\u001b[0m\u001b[0;34m(\u001b[0m\u001b[0mdata\u001b[0m\u001b[0;34m[\u001b[0m\u001b[0;36m0\u001b[0m\u001b[0;34m]\u001b[0m\u001b[0;34m,\u001b[0m \u001b[0;34m(\u001b[0m\u001b[0mlist\u001b[0m\u001b[0;34m,\u001b[0m \u001b[0mtuple\u001b[0m\u001b[0;34m)\u001b[0m\u001b[0;34m)\u001b[0m\u001b[0;34m:\u001b[0m\u001b[0;34m\u001b[0m\u001b[0;34m\u001b[0m\u001b[0m\n\u001b[0;32m--> 464\u001b[0;31m         \u001b[0;32mreturn\u001b[0m \u001b[0m_list_to_arrays\u001b[0m\u001b[0;34m(\u001b[0m\u001b[0mdata\u001b[0m\u001b[0;34m,\u001b[0m \u001b[0mcolumns\u001b[0m\u001b[0;34m,\u001b[0m \u001b[0mcoerce_float\u001b[0m\u001b[0;34m=\u001b[0m\u001b[0mcoerce_float\u001b[0m\u001b[0;34m,\u001b[0m \u001b[0mdtype\u001b[0m\u001b[0;34m=\u001b[0m\u001b[0mdtype\u001b[0m\u001b[0;34m)\u001b[0m\u001b[0;34m\u001b[0m\u001b[0;34m\u001b[0m\u001b[0m\n\u001b[0m\u001b[1;32m    465\u001b[0m     \u001b[0;32melif\u001b[0m \u001b[0misinstance\u001b[0m\u001b[0;34m(\u001b[0m\u001b[0mdata\u001b[0m\u001b[0;34m[\u001b[0m\u001b[0;36m0\u001b[0m\u001b[0;34m]\u001b[0m\u001b[0;34m,\u001b[0m \u001b[0mabc\u001b[0m\u001b[0;34m.\u001b[0m\u001b[0mMapping\u001b[0m\u001b[0;34m)\u001b[0m\u001b[0;34m:\u001b[0m\u001b[0;34m\u001b[0m\u001b[0;34m\u001b[0m\u001b[0m\n\u001b[1;32m    466\u001b[0m         return _list_of_dict_to_arrays(\n",
      "\u001b[0;32m~/opt/anaconda3/lib/python3.7/site-packages/pandas/core/internals/construction.py\u001b[0m in \u001b[0;36m_list_to_arrays\u001b[0;34m(data, columns, coerce_float, dtype)\u001b[0m\n\u001b[1;32m    498\u001b[0m     \u001b[0;32mtry\u001b[0m\u001b[0;34m:\u001b[0m\u001b[0;34m\u001b[0m\u001b[0;34m\u001b[0m\u001b[0m\n\u001b[1;32m    499\u001b[0m         result = _convert_object_array(\n\u001b[0;32m--> 500\u001b[0;31m             \u001b[0mcontent\u001b[0m\u001b[0;34m,\u001b[0m \u001b[0mcolumns\u001b[0m\u001b[0;34m,\u001b[0m \u001b[0mdtype\u001b[0m\u001b[0;34m=\u001b[0m\u001b[0mdtype\u001b[0m\u001b[0;34m,\u001b[0m \u001b[0mcoerce_float\u001b[0m\u001b[0;34m=\u001b[0m\u001b[0mcoerce_float\u001b[0m\u001b[0;34m\u001b[0m\u001b[0;34m\u001b[0m\u001b[0m\n\u001b[0m\u001b[1;32m    501\u001b[0m         )\n\u001b[1;32m    502\u001b[0m     \u001b[0;32mexcept\u001b[0m \u001b[0mAssertionError\u001b[0m \u001b[0;32mas\u001b[0m \u001b[0me\u001b[0m\u001b[0;34m:\u001b[0m\u001b[0;34m\u001b[0m\u001b[0;34m\u001b[0m\u001b[0m\n",
      "\u001b[0;32m~/opt/anaconda3/lib/python3.7/site-packages/pandas/core/internals/construction.py\u001b[0m in \u001b[0;36m_convert_object_array\u001b[0;34m(content, columns, coerce_float, dtype)\u001b[0m\n\u001b[1;32m    591\u001b[0m         \u001b[0;32mreturn\u001b[0m \u001b[0marr\u001b[0m\u001b[0;34m\u001b[0m\u001b[0;34m\u001b[0m\u001b[0m\n\u001b[1;32m    592\u001b[0m \u001b[0;34m\u001b[0m\u001b[0m\n\u001b[0;32m--> 593\u001b[0;31m     \u001b[0marrays\u001b[0m \u001b[0;34m=\u001b[0m \u001b[0;34m[\u001b[0m\u001b[0mconvert\u001b[0m\u001b[0;34m(\u001b[0m\u001b[0marr\u001b[0m\u001b[0;34m)\u001b[0m \u001b[0;32mfor\u001b[0m \u001b[0marr\u001b[0m \u001b[0;32min\u001b[0m \u001b[0mcontent\u001b[0m\u001b[0;34m]\u001b[0m\u001b[0;34m\u001b[0m\u001b[0;34m\u001b[0m\u001b[0m\n\u001b[0m\u001b[1;32m    594\u001b[0m \u001b[0;34m\u001b[0m\u001b[0m\n\u001b[1;32m    595\u001b[0m     \u001b[0;32mreturn\u001b[0m \u001b[0marrays\u001b[0m\u001b[0;34m,\u001b[0m \u001b[0mcolumns\u001b[0m\u001b[0;34m\u001b[0m\u001b[0;34m\u001b[0m\u001b[0m\n",
      "\u001b[0;32m~/opt/anaconda3/lib/python3.7/site-packages/pandas/core/internals/construction.py\u001b[0m in \u001b[0;36m<listcomp>\u001b[0;34m(.0)\u001b[0m\n\u001b[1;32m    591\u001b[0m         \u001b[0;32mreturn\u001b[0m \u001b[0marr\u001b[0m\u001b[0;34m\u001b[0m\u001b[0;34m\u001b[0m\u001b[0m\n\u001b[1;32m    592\u001b[0m \u001b[0;34m\u001b[0m\u001b[0m\n\u001b[0;32m--> 593\u001b[0;31m     \u001b[0marrays\u001b[0m \u001b[0;34m=\u001b[0m \u001b[0;34m[\u001b[0m\u001b[0mconvert\u001b[0m\u001b[0;34m(\u001b[0m\u001b[0marr\u001b[0m\u001b[0;34m)\u001b[0m \u001b[0;32mfor\u001b[0m \u001b[0marr\u001b[0m \u001b[0;32min\u001b[0m \u001b[0mcontent\u001b[0m\u001b[0;34m]\u001b[0m\u001b[0;34m\u001b[0m\u001b[0;34m\u001b[0m\u001b[0m\n\u001b[0m\u001b[1;32m    594\u001b[0m \u001b[0;34m\u001b[0m\u001b[0m\n\u001b[1;32m    595\u001b[0m     \u001b[0;32mreturn\u001b[0m \u001b[0marrays\u001b[0m\u001b[0;34m,\u001b[0m \u001b[0mcolumns\u001b[0m\u001b[0;34m\u001b[0m\u001b[0;34m\u001b[0m\u001b[0m\n",
      "\u001b[0;32m~/opt/anaconda3/lib/python3.7/site-packages/pandas/core/internals/construction.py\u001b[0m in \u001b[0;36mconvert\u001b[0;34m(arr)\u001b[0m\n\u001b[1;32m    587\u001b[0m     \u001b[0;32mdef\u001b[0m \u001b[0mconvert\u001b[0m\u001b[0;34m(\u001b[0m\u001b[0marr\u001b[0m\u001b[0;34m)\u001b[0m\u001b[0;34m:\u001b[0m\u001b[0;34m\u001b[0m\u001b[0;34m\u001b[0m\u001b[0m\n\u001b[1;32m    588\u001b[0m         \u001b[0;32mif\u001b[0m \u001b[0mdtype\u001b[0m \u001b[0;34m!=\u001b[0m \u001b[0mobject\u001b[0m \u001b[0;32mand\u001b[0m \u001b[0mdtype\u001b[0m \u001b[0;34m!=\u001b[0m \u001b[0mnp\u001b[0m\u001b[0;34m.\u001b[0m\u001b[0mobject\u001b[0m\u001b[0;34m:\u001b[0m\u001b[0;34m\u001b[0m\u001b[0;34m\u001b[0m\u001b[0m\n\u001b[0;32m--> 589\u001b[0;31m             \u001b[0marr\u001b[0m \u001b[0;34m=\u001b[0m \u001b[0mlib\u001b[0m\u001b[0;34m.\u001b[0m\u001b[0mmaybe_convert_objects\u001b[0m\u001b[0;34m(\u001b[0m\u001b[0marr\u001b[0m\u001b[0;34m,\u001b[0m \u001b[0mtry_float\u001b[0m\u001b[0;34m=\u001b[0m\u001b[0mcoerce_float\u001b[0m\u001b[0;34m)\u001b[0m\u001b[0;34m\u001b[0m\u001b[0;34m\u001b[0m\u001b[0m\n\u001b[0m\u001b[1;32m    590\u001b[0m             \u001b[0marr\u001b[0m \u001b[0;34m=\u001b[0m \u001b[0mmaybe_cast_to_datetime\u001b[0m\u001b[0;34m(\u001b[0m\u001b[0marr\u001b[0m\u001b[0;34m,\u001b[0m \u001b[0mdtype\u001b[0m\u001b[0;34m)\u001b[0m\u001b[0;34m\u001b[0m\u001b[0;34m\u001b[0m\u001b[0m\n\u001b[1;32m    591\u001b[0m         \u001b[0;32mreturn\u001b[0m \u001b[0marr\u001b[0m\u001b[0;34m\u001b[0m\u001b[0;34m\u001b[0m\u001b[0m\n",
      "\u001b[0;31mKeyboardInterrupt\u001b[0m: "
     ]
    }
   ],
   "source": [
    "# Ingest data\n",
    "d2 = get_data('d2_rnai')\n",
    "print(\"Initial number of rows in dataframe:\",d2.shape[0])\n",
    "# split rows with multuple genes\n",
    "cols = ['gene'] + list(d2.columns)\n",
    "rows = []\n",
    "\n",
    "print(\"Splitting multigene rows...\")\n",
    "for i, r in d2.iterrows():\n",
    "    if '&' in i:\n",
    "        symbols, ncbi = i.split(' ')\n",
    "        symbols = symbols.split('&')\n",
    "        ncbi = re.sub('\\(|\\)','',ncbi)\n",
    "        ncbi = ncbi.split('&')\n",
    "        assert len(symbols) == len(ncbi), \"Length mismatch\"\n",
    "        for s, symbol in enumerate(symbols):\n",
    "            gid = ncbi[s]\n",
    "            row = [symbol+' ('+gid+')'] + list(r)\n",
    "            rows.append(row)\n",
    "    else:\n",
    "        rows.append([i]+list(r))\n",
    "d2 = pd.DataFrame(data=rows,columns=cols).set_index('gene')\n",
    "print(\"Final number of rows in dataframe:\",d2.shape[0])"
   ]
  },
  {
   "cell_type": "code",
   "execution_count": null,
   "metadata": {},
   "outputs": [],
   "source": [
    "# Map cell line names to IDs\n",
    "sample_info = get_data('sample_info')\n",
    "ccle_name2id = {}\n",
    "for i, r in sample_info.iterrows():\n",
    "    ccle_name2id[r['CCLE Name']] = i \n",
    "\n",
    "cell_line_names = list(d2.columns)\n",
    "\n",
    "# Rename columns to use CCLE IDs and rows to use NCBI gene IDs\n",
    "if isinstance(list(d2.index)[0],str):\n",
    "    d2.columns = [ccle_name2id.get(i) or i for i in cell_line_names]\n",
    "    d2.index = ncbi_gene_ids(list(d2.index))\n",
    "print(d2.shape[0],\"genes\")\n",
    "print(d2.shape[1],\"cell lines\")\n",
    "d2.head()"
   ]
  },
  {
   "cell_type": "code",
   "execution_count": null,
   "metadata": {},
   "outputs": [],
   "source": [
    "report('''\n",
    "## Achilles Crispr gene dependency data\n",
    "CERES data with principle components strongly related to known batch effects removed, then shifted and scaled per cell line so the median nonessential KO effect is 0 and the median essential KO effect is -1.\n",
    "\n",
    "<b>DepMap source file:</b> Achilles_gene_effect.csv \n",
    "\n",
    "<b>Citation:</b> DepMap, Broad (2019): DepMap 19Q3 Public. figshare. Dataset doi:10.6084/m9.figshare.9201770.v1.\n",
    "<br>\n",
    "Robin M. Meyers, Jordan G. Bryan, James M. McFarland, Barbara A. Weir, ... David E. Root, William C. Hahn, Aviad Tsherniak. Computational correction of copy number effect improves specificity of CRISPR-Cas9 essentiality screens in cancer cells. Nature Genetics 2017 October 49:1779–1784. doi:10.1038/ng.3984\n",
    "\n",
    "* Translate gene names (column labels) to NCBI IDS\n",
    "* Transpose rows and columns so each cell line is a column label with vertivally stacked gene data\n",
    "''')"
   ]
  },
  {
   "cell_type": "code",
   "execution_count": null,
   "metadata": {},
   "outputs": [],
   "source": [
    "achilles = get_data('achilles_crispr').T\n",
    "genes = list(achilles.index)\n",
    "achilles.index = ncbi_gene_ids(genes)\n",
    "print(achilles.shape[0],\"genes\")\n",
    "print(achilles.shape[1],\"cell lines\")\n",
    "report('Sample Achilles data:\\n'+achilles.iloc[:2,:15].to_html(),True)\n",
    "achilles.head(2)"
   ]
  },
  {
   "cell_type": "code",
   "execution_count": null,
   "metadata": {},
   "outputs": [],
   "source": [
    "report('''\n",
    "### How many cell lines and genes are shared between D2 (RNAi) and Achilles (Crispr) gene dependency data sets?\n",
    "''')"
   ]
  },
  {
   "cell_type": "code",
   "execution_count": null,
   "metadata": {},
   "outputs": [],
   "source": [
    "d2_cells = set(d2.columns)\n",
    "d2_genes = set(d2.index)\n",
    "ac_cells = set(achilles.columns)\n",
    "ac_genes = set(achilles.index)\n",
    "report('<pre>')\n",
    "report(str(len(d2_cells.intersection(ac_cells)))+\" cell lines are shared\")\n",
    "report(str(len(d2_genes.intersection(ac_genes)))+\" genes are shared\")\n",
    "report('</pre>')"
   ]
  },
  {
   "cell_type": "code",
   "execution_count": null,
   "metadata": {},
   "outputs": [],
   "source": [
    "report('''\n",
    "## Copy number data\n",
    "Gene level copy number data, log2 transformed with a pseudo count of 1. This is generated by mapping genes onto the segment level calls.\n",
    "\n",
    "<b>Depmap source file:</b> CCLE_gene_cn_v2.csv\n",
    "\n",
    "* Transpose columns (gene names) and rows (CCLE cell line IDs)\n",
    "* Translate gene names to NCBI gene IDs\n",
    "''')\n"
   ]
  },
  {
   "cell_type": "code",
   "execution_count": null,
   "metadata": {},
   "outputs": [],
   "source": [
    "cn = get_data('copy_number')\n",
    "cn.head()\n",
    "# gd = get_gene_descriptions()\n",
    "# gd.head()"
   ]
  },
  {
   "cell_type": "code",
   "execution_count": null,
   "metadata": {},
   "outputs": [],
   "source": []
  },
  {
   "cell_type": "code",
   "execution_count": null,
   "metadata": {},
   "outputs": [],
   "source": [
    "df = get_data('mfr')\n",
    "\n",
    "df.head()\n",
    "genes = set()\n",
    "for p in df['gene.pair']:\n",
    "    my_genes = p.split('_')\n",
    "    for g in my_genes:\n",
    "        genes.add(g)\n",
    "len(genes)\n",
    "    "
   ]
  },
  {
   "cell_type": "code",
   "execution_count": null,
   "metadata": {},
   "outputs": [],
   "source": []
  }
 ],
 "metadata": {
  "kernelspec": {
   "display_name": "Python 3",
   "language": "python",
   "name": "python3"
  },
  "language_info": {
   "codemirror_mode": {
    "name": "ipython",
    "version": 3
   },
   "file_extension": ".py",
   "mimetype": "text/x-python",
   "name": "python",
   "nbconvert_exporter": "python",
   "pygments_lexer": "ipython3",
   "version": "3.7.4"
  }
 },
 "nbformat": 4,
 "nbformat_minor": 4
}
