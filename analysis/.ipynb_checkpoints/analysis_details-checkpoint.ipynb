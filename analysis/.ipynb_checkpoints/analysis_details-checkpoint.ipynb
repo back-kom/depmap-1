{
 "cells": [
  {
   "cell_type": "code",
   "execution_count": 35,
   "metadata": {},
   "outputs": [
    {
     "data": {
      "text/markdown": [
       "\n",
       "# Sample analysis of Cancer Dependency Map (DepMap) data \n",
       "## Request\n",
       "* Identify the most frequent genetic alterations (could be mutations or copy number variations) in the cancer cell lines\n",
       "* Match them with the best genetic dependencies that could be used for drug development for the cancers that carry those mutations\n",
       "* Take into account the lineage of cancer cell lines (certain mutations/CNVs may be restricted to a specific lineage)\n",
       "\n",
       "## Resources\n",
       "### DepMap (https://depmap.org/portal) Data \n",
       "* Cell line metadata\n",
       "* Expression\n",
       " * RNAseq\n",
       " * Protein\n",
       "* Copy number variation\n",
       "* Mutations\n",
       "* Genetic dependency\n",
       " * Crispr (Achilles)\n",
       " * RNAi (DEMETER2)\n",
       "\n",
       "### NCBI (via https://humanmine.org)\n",
       "* Entrez gene IDs mapped to symbol, name, descrion, uniprot\n",
       "\n",
       "### Reactome\n",
       "* Entrez gene IDs mapped to Reactome pathways\n",
       "\n",
       "### MFR (http://bmbl.sdstate.edu/MFR)\n",
       "* A Machine Learning Model for measuring relatedness between a pair of genes\n",
       "\n",
       "### Jupyter (https://jupyter.org/)\n",
       "* Python programming framework for analysis prototyping and reporting\n",
       "\n",
       "### GitHub (https://github.com/)\n",
       "* Revision control for Python code\n",
       "* Reporting mechanism for analysi summary and details\n",
       "\n"
      ],
      "text/plain": [
       "<IPython.core.display.Markdown object>"
      ]
     },
     "metadata": {},
     "output_type": "display_data"
    }
   ],
   "source": [
    "report('''\n",
    "# Sample analysis of Cancer Dependency Map (DepMap) data \n",
    "## Request\n",
    "* Identify the most frequent genetic alterations (could be mutations or copy number variations) in the cancer cell lines\n",
    "* Match them with the best genetic dependencies that could be used for drug development for the cancers that carry those mutations\n",
    "* Take into account the lineage of cancer cell lines (certain mutations/CNVs may be restricted to a specific lineage)\n",
    "\n",
    "## Resources\n",
    "### DepMap (https://depmap.org/portal) Data \n",
    "* Cell line metadata\n",
    "* Expression\n",
    " * RNAseq\n",
    " * Protein\n",
    "* Copy number variation\n",
    "* Mutations\n",
    "* Genetic dependency\n",
    " * Crispr (Achilles)\n",
    " * RNAi (DEMETER2)\n",
    "\n",
    "### NCBI (via https://humanmine.org)\n",
    "* Entrez gene IDs mapped to symbol, name, descrion, uniprot\n",
    "\n",
    "### Reactome\n",
    "* Entrez gene IDs mapped to Reactome pathways\n",
    "\n",
    "### MFR (http://bmbl.sdstate.edu/MFR)\n",
    "* A Machine Learning Model for measuring relatedness between a pair of genes\n",
    "\n",
    "### Jupyter (https://jupyter.org/)\n",
    "* Python programming framework for analysis prototyping and reporting\n",
    "\n",
    "### GitHub (https://github.com/)\n",
    "* Revision control for Python code\n",
    "* Reporting mechanism for analysi summary and details\n",
    "\n",
    "''')"
   ]
  },
  {
   "cell_type": "code",
   "execution_count": 36,
   "metadata": {},
   "outputs": [],
   "source": [
    "from __future__ import print_function\n",
    "import pandas as pd\n",
    "import os, sys, re, pickle, wget, shutil\n",
    "from intermine.webservice import Service\n",
    "from IPython.display import Markdown, display\n",
    "\n",
    "# Load data direct from source\n",
    "class A(object):\n",
    "    data = {}\n",
    "    url = {}\n",
    "    url['expression'] = 'https://ndownloader.figshare.com/files/16757690'\n",
    "    url['sample_info'] = 'https://ndownloader.figshare.com/files/16757723'\n",
    "    url['copy_number'] = 'https://ndownloader.figshare.com/files/17857886'\n",
    "    url['mutations'] = 'https://ndownloader.figshare.com/files/16757702'\n",
    "    url['achilles_crispr'] = 'https://ndownloader.figshare.com/files/16757666'\n",
    "    url['d2_rnai'] = 'https://ndownloader.figshare.com/files/13515395'\n",
    "    url['sensitivity'] = 'https://ndownloader.figshare.com/files/17008628'\n",
    "    url['mfr'] = 'http://bmbl.sdstate.edu/MFR/data/resource%20data/tr_dv_ts.dataset.zip'\n",
    "    url['reactome'] = 'https://reactome.org/download/current/NCBI2Reactome.txt'\n",
    "    summary = 'README.md'\n",
    "    \n",
    "os.system(\"echo '' > \"+A.summary)\n",
    "    \n",
    "def printmd(string):\n",
    "    \"\"\"Prints formatted markdown text\"\"\"\n",
    "    display(Markdown(string))\n",
    "    \n",
    "def report(text):\n",
    "    \"\"\"Print markdown in this notebook and saves markdown-only summary in a file\"\"\"\n",
    "    printmd(text)\n",
    "    \n",
    "    f = open(A.summary,'a')\n",
    "    f.write(text+'\\n')\n",
    "    \n",
    "def get_gene_descriptions():\n",
    "    \"\"\"Load gene names and descriptions from humanmine (http://www.humanmine.org),\n",
    "    an integrated database of human genome information.  Use cached data if available\"\"\"\n",
    "    \n",
    "    archive = 'data/gene_info.p'\n",
    "    if os.path.exists(archive):\n",
    "        df = pd.read_pickle(archive)\n",
    "        return df\n",
    "    \n",
    "    service = Service(\"https://www.humanmine.org/humanmine/service\")\n",
    "    query = service.new_query(\"Gene\")\n",
    "    cols = [\"primaryIdentifier\", \"symbol\", \"briefDescription\", \"description\",\"proteins.uniprotAccession\"]\n",
    "    query.add_view(*cols)\n",
    "    query.add_constraint(\"organism.taxonId\", \"=\", \"9606\", code = \"A\")    \n",
    "    df_rows = []\n",
    "\n",
    "    for row in query.rows():\n",
    "        df_rows.append(\n",
    "            [row[\"primaryIdentifier\"], \n",
    "             row[\"symbol\"], \n",
    "             row[\"briefDescription\"], \n",
    "             row[\"description\"],\n",
    "             row[\"proteins.uniprotAccession\"]\n",
    "            ])\n",
    "\n",
    "    df = pd.DataFrame(data=df_rows,columns=cols)\n",
    "    df.to_pickle(archive)\n",
    "    return df\n",
    "    \n",
    "def get_data(key):\n",
    "    \"\"\"Load input data.\n",
    "    Arguments: key for the data source (eg: expression, sample_info...)\n",
    "    1) If the data is cached on the filesystem, load and return the dataframe\n",
    "    2) Otherwise, load the data from the source URL, cache, return the dataframe\n",
    "    \"\"\"\n",
    "#     if A.data.get(key) is not None:\n",
    "#         return A.data[key]\n",
    "    \n",
    "    data_cache = 'data/'+key+'.p'\n",
    "    if os.path.exists(data_cache):\n",
    "        df = pd.read_pickle(data_cache)\n",
    "    else:\n",
    "        print(\"Downloading\",key,\"from source\")\n",
    "        df = pd.read_csv(A.url[key],low_memory=False,index_col=0)\n",
    "        df.to_pickle(data_cache)\n",
    "        \n",
    "    A.data[key] = df    \n",
    "    return df\n",
    "\n",
    "def ncbi_gene_ids(genes):\n",
    "    \"\"\"Converts gene name \"symbol (ncbi_id)\"\n",
    "    to integer NCBI ID\n",
    "    \"\"\"\n",
    "    ncbi_cols = []\n",
    "    for g in genes:\n",
    "        match = re.search(' \\((\\d+)\\)',g)\n",
    "        if match:\n",
    "            g = match.group(1)\n",
    "        else:\n",
    "            print(\"No match\",g)\n",
    "        ncbi_cols.append(int(g))\n",
    "\n",
    "    return ncbi_cols\n",
    "\n",
    "def get_pathway_info():\n",
    "    # Map NCBI IDs to reactome pathways\n",
    "    # File downloaded from https://reactome.org/download/current/NCBI2Reactome.txt\n",
    "    archive = 'data/pathway_info.p'\n",
    "    \n",
    "    if os.path.exists(archive):\n",
    "        pathway_info = pickle.load(open(archive,'rb'))\n",
    "        return pathway_info\n",
    "    \n",
    "    pathway_info = {}\n",
    "    if not os.path.exists('data/NCBI2Reactome.txt'):\n",
    "        wget.download(A.url['reactome'],out='data/NCBI2Reactome.txt')\n",
    "    with open('data/NCBI2Reactome.txt') as n2r:\n",
    "        for line in n2r.readlines():\n",
    "            ncbi, pathway_id, url, pathway_name, type, species = line.strip().split('\\t')\n",
    "            # only human pathways\n",
    "            if species != 'Homo sapiens':\n",
    "                continue\n",
    "            # only curated pathways\n",
    "            if type == 'IEA':\n",
    "                continue\n",
    "            pathway_info[ncbi] = [pathway_id, url, pathway_name]\n",
    "\n",
    "    pickle.dump(pathway_info,open(archive,'wb'))\n",
    "    return pathway_info\n"
   ]
  },
  {
   "cell_type": "code",
   "execution_count": 2,
   "metadata": {},
   "outputs": [
    {
     "data": {
      "text/markdown": [
       "\n",
       "## Get gene descriptions, etc\n",
       "Use data from humanmine (http://www.humanmine.org/) to map NCBI gene IDs to name, summary, symbol, uniprot\n"
      ],
      "text/plain": [
       "<IPython.core.display.Markdown object>"
      ]
     },
     "metadata": {},
     "output_type": "display_data"
    }
   ],
   "source": [
    "report('''\n",
    "## Get gene descriptions, etc\n",
    "Use data from humanmine (http://www.humanmine.org/) to map NCBI gene IDs to name, summary, symbol, uniprot\n",
    "''')"
   ]
  },
  {
   "cell_type": "code",
   "execution_count": 21,
   "metadata": {},
   "outputs": [
    {
     "data": {
      "text/markdown": [
       "sample:\n",
       "<table border=\"1\" class=\"dataframe\">\n",
       "  <thead>\n",
       "    <tr style=\"text-align: right;\">\n",
       "      <th>primaryIdentifier</th>\n",
       "      <th>symbol</th>\n",
       "      <th>briefDescription</th>\n",
       "      <th>description</th>\n",
       "      <th>proteins.uniprotAccession</th>\n",
       "    </tr>\n",
       "  </thead>\n",
       "  <tbody>\n",
       "    <tr>\n",
       "      <td>2632</td>\n",
       "      <td>GBE1</td>\n",
       "      <td>1,4-alpha-glucan branching enzyme 1</td>\n",
       "      <td>The protein encoded by this gene is a glycogen branching enzyme that catalyzes the transfer of alpha-1,4-linked glucosyl units from the outer end of a glycogen chain to an alpha-1,6 position on the same or a neighboring glycogen chain. Branching of the chains is essential to increase the solubility of the glycogen molecule and, consequently, in reducing the osmotic pressure within cells. Highest level of this enzyme are found in liver and muscle. Mutations in this gene are associated with glycogen storage disease IV (also known as Andersen's disease). [provided by RefSeq, Jul 2008]</td>\n",
       "      <td>Q04446</td>\n",
       "    </tr>\n",
       "    <tr>\n",
       "      <td>3248</td>\n",
       "      <td>HPGD</td>\n",
       "      <td>15-hydroxyprostaglandin dehydrogenase</td>\n",
       "      <td>This gene encodes a member of the short-chain nonmetalloenzyme alcohol dehydrogenase protein family. The encoded enzyme is responsible for the metabolism of prostaglandins, which function in a variety of physiologic and cellular processes such as inflammation. Mutations in this gene result in primary autosomal recessive hypertrophic osteoarthropathy and cranioosteoarthropathy. Multiple transcript variants encoding different isoforms have been found for this gene. [provided by RefSeq, Mar 2009]</td>\n",
       "      <td>E9PBZ2</td>\n",
       "    </tr>\n",
       "  </tbody>\n",
       "</table>"
      ],
      "text/plain": [
       "<IPython.core.display.Markdown object>"
      ]
     },
     "metadata": {},
     "output_type": "display_data"
    },
    {
     "name": "stdout",
     "output_type": "stream",
     "text": [
      "Done mapping gene info\n"
     ]
    }
   ],
   "source": [
    "gd = get_gene_descriptions()\n",
    "report('sample:\\n'+gd.head(2).to_html(index=False))\n",
    "ncbi2name    = {}\n",
    "ncbi2symbol  = {}\n",
    "ncbi2desc    = {}\n",
    "ncbi2uniprot = {}\n",
    "uniprot2ncbi = {}\n",
    "\n",
    "for i, r in gd.iterrows():\n",
    "    ncbi, symbol, name, description, uniprot = list(r)\n",
    "    ncbi = int(ncbi)\n",
    "    ncbi2name[ncbi] = name\n",
    "    ncbi2symbol[ncbi] = symbol\n",
    "    ncbi2desc[ncbi] = description\n",
    "    \n",
    "    # ncbi <-> uniprot can be 1:many\n",
    "    if ncbi2uniprot.get(ncbi) is None:\n",
    "        ncbi2uniprot[ncbi] = set()\n",
    "    ncbi2uniprot[ncbi].add(uniprot)\n",
    "    uniprot2ncbi[uniprot] = ncbi\n",
    "    \n",
    "print(\"Done mapping gene info\")"
   ]
  },
  {
   "cell_type": "code",
   "execution_count": 22,
   "metadata": {},
   "outputs": [
    {
     "data": {
      "text/markdown": [
       "\n",
       "## Aggregate cell lines by lineage\n",
       "<b>DepMap source file:</b> sample_info.csv\n",
       "* Group all cell lines by main (parent) lineage\n",
       "* If a lineage has > 1 defined sublineages, also aggregate cell lines by sublineage (eg: leukemia -> AML)\n"
      ],
      "text/plain": [
       "<IPython.core.display.Markdown object>"
      ]
     },
     "metadata": {},
     "output_type": "display_data"
    }
   ],
   "source": [
    "report('''\n",
    "## Aggregate cell lines by lineage\n",
    "<b>DepMap source file:</b> sample_info.csv\n",
    "* Group all cell lines by main (parent) lineage\n",
    "* If a lineage has > 1 defined sublineages, also aggregate cell lines by sublineage (eg: leukemia -> AML)\n",
    "''')"
   ]
  },
  {
   "cell_type": "code",
   "execution_count": 26,
   "metadata": {},
   "outputs": [
    {
     "data": {
      "text/markdown": [
       "<pre>"
      ],
      "text/plain": [
       "<IPython.core.display.Markdown object>"
      ]
     },
     "metadata": {},
     "output_type": "display_data"
    },
    {
     "data": {
      "text/markdown": [
       "Number of cell lines: 1429"
      ],
      "text/plain": [
       "<IPython.core.display.Markdown object>"
      ]
     },
     "metadata": {},
     "output_type": "display_data"
    },
    {
     "data": {
      "text/markdown": [
       "Number of lineages: 33"
      ],
      "text/plain": [
       "<IPython.core.display.Markdown object>"
      ]
     },
     "metadata": {},
     "output_type": "display_data"
    },
    {
     "data": {
      "text/markdown": [
       "Number of lineages with sub-lineages: 16"
      ],
      "text/plain": [
       "<IPython.core.display.Markdown object>"
      ]
     },
     "metadata": {},
     "output_type": "display_data"
    },
    {
     "data": {
      "text/markdown": [
       "Number of sub-lineages 61"
      ],
      "text/plain": [
       "<IPython.core.display.Markdown object>"
      ]
     },
     "metadata": {},
     "output_type": "display_data"
    },
    {
     "data": {
      "text/markdown": [
       "</pre>"
      ],
      "text/plain": [
       "<IPython.core.display.Markdown object>"
      ]
     },
     "metadata": {},
     "output_type": "display_data"
    }
   ],
   "source": [
    "sample_info = get_data('sample_info')\n",
    "lineages = set(sample_info.lineage.dropna())\n",
    "\n",
    "lineage2cell    = {}\n",
    "sublineage2cell = {}\n",
    "cell2lineage    = {}\n",
    "cell2sublineage = {}\n",
    "has_sub = set()\n",
    "\n",
    "for l in lineages:\n",
    "    ldf = sample_info[sample_info.lineage == l]\n",
    "    subtypes = set(ldf.lineage_subtype.dropna())\n",
    "    \n",
    "    # cell lines for sublineage\n",
    "    if len(subtypes) > 1:\n",
    "        has_sub.add(l)\n",
    "        for sub in subtypes:\n",
    "            if l in sub:\n",
    "                lname = sub\n",
    "            else:\n",
    "                lname = l + '_' + sub\n",
    "            lname = l + '_' + sub\n",
    "            sub_df = ldf[ldf.lineage_subtype == sub]\n",
    "\n",
    "            # map sublineage to cell lines\n",
    "            sublineage2cell[lname] = list(sub_df.index)\n",
    "    \n",
    "            # map cell lines to sub-lineage\n",
    "            for cell in sublineage2cell[lname]:\n",
    "                cell2sublineage[cell] = sub\n",
    "                \n",
    "    # all cell lines for lineage\n",
    "    lineage2cell[l] = list(ldf.index)\n",
    "    \n",
    "    # parent lineage of each cell line\n",
    "    for cell in lineage2cell[l]:\n",
    "        cell2lineage[cell] = l\n",
    "    \n",
    "\n",
    "report('<pre>')\n",
    "report(\"Number of cell lines: \"+str(len(cell2lineage)))\n",
    "report(\"Number of lineages: \"+str(len(lineage2cell)))\n",
    "report(\"Number of lineages with sub-lineages: \"+str(len(has_sub)))\n",
    "report(\"Number of sub-lineages \"+str(len(sublineage2cell)))\n",
    "report('</pre>')"
   ]
  },
  {
   "cell_type": "code",
   "execution_count": 6,
   "metadata": {},
   "outputs": [
    {
     "data": {
      "text/markdown": [
       "\n",
       "## Mutations \n",
       "<b>DepMap source file:</b> CCLE_mutations.csv\n",
       "* Keep track of TCGA and COSMIC hotspot genes by lineage\n",
       "* Track deleterious mutations by lineage for future reference\n"
      ],
      "text/plain": [
       "<IPython.core.display.Markdown object>"
      ]
     },
     "metadata": {},
     "output_type": "display_data"
    }
   ],
   "source": [
    "report('''\n",
    "## Mutations \n",
    "<b>DepMap source file:</b> CCLE_mutations.csv\n",
    "* Keep track of TCGA and COSMIC hotspot genes by lineage\n",
    "* Track deleterious mutations by lineage for future reference\n",
    "''')"
   ]
  },
  {
   "cell_type": "code",
   "execution_count": 7,
   "metadata": {},
   "outputs": [],
   "source": [
    "mutations = get_data('mutations')"
   ]
  },
  {
   "cell_type": "code",
   "execution_count": 27,
   "metadata": {},
   "outputs": [
    {
     "name": "stdout",
     "output_type": "stream",
     "text": [
      "Done mapping hotspots\n"
     ]
    },
    {
     "ename": "NameError",
     "evalue": "name 'cell_lineage' is not defined",
     "output_type": "error",
     "traceback": [
      "\u001b[0;31m---------------------------------------------------------------------------\u001b[0m",
      "\u001b[0;31mNameError\u001b[0m                                 Traceback (most recent call last)",
      "\u001b[0;32m<ipython-input-27-2b20bc5f38d6>\u001b[0m in \u001b[0;36m<module>\u001b[0;34m\u001b[0m\n\u001b[1;32m     30\u001b[0m             \u001b[0msublineage_hotspots\u001b[0m\u001b[0;34m[\u001b[0m\u001b[0mg\u001b[0m\u001b[0;34m]\u001b[0m\u001b[0;34m[\u001b[0m\u001b[0msublineage\u001b[0m\u001b[0;34m]\u001b[0m \u001b[0;34m+=\u001b[0m \u001b[0;36m1\u001b[0m\u001b[0;34m\u001b[0m\u001b[0;34m\u001b[0m\u001b[0m\n\u001b[1;32m     31\u001b[0m \u001b[0mprint\u001b[0m\u001b[0;34m(\u001b[0m\u001b[0;34m\"Done mapping hotspots\"\u001b[0m\u001b[0;34m)\u001b[0m\u001b[0;34m\u001b[0m\u001b[0;34m\u001b[0m\u001b[0m\n\u001b[0;32m---> 32\u001b[0;31m \u001b[0mcell_lineage\u001b[0m\u001b[0;34m[\u001b[0m\u001b[0mcell\u001b[0m\u001b[0;34m]\u001b[0m\u001b[0;34m\u001b[0m\u001b[0;34m\u001b[0m\u001b[0m\n\u001b[0m",
      "\u001b[0;31mNameError\u001b[0m: name 'cell_lineage' is not defined"
     ]
    }
   ],
   "source": [
    "# Filter hotspot genes\n",
    "hotspots = []\n",
    "hotspots.append(mutations[mutations.isTCGAhotspot])\n",
    "hotspots.append(mutations[mutations.isCOSMIChotspot])\n",
    "hotspots = pd.concat(hotspots).drop_duplicates()\n",
    "\n",
    "genes = set(hotspots.Entrez_Gene_Id)\n",
    "\n",
    "lineage_hotspots = {}\n",
    "sublineage_hotspots = {}\n",
    "\n",
    "for g in genes:\n",
    "    lineage_hotspots[g] = {}\n",
    "    sublineage_hotspots[g] = {}\n",
    "    \n",
    "    gdf = hotspots[hotspots.Entrez_Gene_Id == g]\n",
    "    \n",
    "    for i, r in gdf.iterrows():\n",
    "        cell = r.DepMap_ID\n",
    "        if cell2lineage.get(cell) is not None:\n",
    "            lineage = cell2lineage[cell]\n",
    "            if lineage_hotspots[g].get(lineage) is None:\n",
    "                lineage_hotspots[g][lineage] = 0\n",
    "            lineage_hotspots[g][lineage] += 1\n",
    "            \n",
    "        if cell2sublineage.get(cell) is not None:\n",
    "            sublineage = cell2sublineage[cell]\n",
    "            if sublineage_hotspots[g].get(sublineage) is None:\n",
    "                sublineage_hotspots[g][sublineage] = 0\n",
    "            sublineage_hotspots[g][sublineage] += 1\n",
    "print(\"Done mapping hotspots\")\n",
    "cell_lineage[cell]"
   ]
  },
  {
   "cell_type": "code",
   "execution_count": 9,
   "metadata": {},
   "outputs": [
    {
     "name": "stdout",
     "output_type": "stream",
     "text": [
      "Done mapping deleterious mutations\n"
     ]
    }
   ],
   "source": [
    "# Filter deleterious mutations\n",
    "damaging = mutations[mutations.Variant_annotation.isin(['damaging','non-conserving'])]\n",
    "damaging = damaging[damaging.isDeleterious == True]\n",
    "genes = set(hotspots.Entrez_Gene_Id)\n",
    "\n",
    "\n",
    "genes = set(damaging.Entrez_Gene_Id)\n",
    "\n",
    "lineage_mutations = {}\n",
    "sublineage_mutations = {}\n",
    "\n",
    "for g in genes:\n",
    "    lineage_mutations[g] = {}\n",
    "    sublineage_mutations[g] = {}\n",
    "    \n",
    "    gdf = damaging[damaging.Entrez_Gene_Id == g]\n",
    "    \n",
    "    for i, r in gdf.iterrows():\n",
    "        cell = r.DepMap_ID\n",
    "        if cell2lineage.get(cell) is not None:\n",
    "            lineage = cell2lineage[cell]\n",
    "            if lineage_mutations[g].get(lineage) is None:\n",
    "                lineage_mutations[g][lineage] = 0\n",
    "            lineage_mutations[g][lineage] += 1\n",
    "            \n",
    "        if cell2sublineage.get(cell) is not None:\n",
    "            sublineage = cell2sublineage[cell]\n",
    "            if sublineage_mutations[g].get(sublineage) is None:\n",
    "                sublineage_mutations[g][sublineage] = 0\n",
    "            sublineage_mutations[g][sublineage] += 1\n",
    "            \n",
    "print(\"Done mapping deleterious mutations\")"
   ]
  },
  {
   "cell_type": "code",
   "execution_count": 10,
   "metadata": {},
   "outputs": [
    {
     "data": {
      "text/markdown": [
       "\n",
       "## Ingest DEMETER2 Data v5 combines RNAi gene dependency data\n",
       "DEMETER2 Data v5\n",
       "Cancer cell line genetic dependencies estimated using the DEMETER2 model. DEMETER2 is applied to three large-scale RNAi screening datasets: the Broad Institute Project Achilles, Novartis Project DRIVE, and the Marcotte et al. breast cell line dataset. The model is also applied to generate a combined dataset of gene dependencies covering a total of 712 unique cancer cell lines.\n",
       "\n",
       "<b>DepMap source file:</b> D2_combined_gene_dep_scores.csv \n",
       "\n",
       "<b>Citation:</b> Jordan G. Bryan, John M. Krill-Burger, Thomas M. Green, Francisca Vazquez, Jesse S. Boehm, Todd R. Golub, William C. Hahn, David E. Root, Aviad Tsherniak. (2018). Improved estimation of cancer dependencies from large-scale RNAi screens using model-based normalization and data integration. Nature Communications 9, 1. https://doi.org/10.1038/s41467-018-06916-5</font>\n",
       "\n",
       "* Data source uses CCLE names rather than DepMap cell line IDS\n",
       "* Translate the cell line names to IDS for consistency with other data sources\n",
       "* Also deal with rows in the table with multiple gene names (eg 'GTF2IP4&GTF2IP1 (100093631&2970)')\n"
      ],
      "text/plain": [
       "<IPython.core.display.Markdown object>"
      ]
     },
     "metadata": {},
     "output_type": "display_data"
    }
   ],
   "source": [
    "report('''\n",
    "## Ingest DEMETER2 Data v5 combines RNAi gene dependency data\n",
    "DEMETER2 Data v5\n",
    "Cancer cell line genetic dependencies estimated using the DEMETER2 model. DEMETER2 is applied to three large-scale RNAi screening datasets: the Broad Institute Project Achilles, Novartis Project DRIVE, and the Marcotte et al. breast cell line dataset. The model is also applied to generate a combined dataset of gene dependencies covering a total of 712 unique cancer cell lines.\n",
    "\n",
    "<b>DepMap source file:</b> D2_combined_gene_dep_scores.csv \n",
    "\n",
    "<b>Citation:</b> Jordan G. Bryan, John M. Krill-Burger, Thomas M. Green, Francisca Vazquez, Jesse S. Boehm, Todd R. Golub, William C. Hahn, David E. Root, Aviad Tsherniak. (2018). Improved estimation of cancer dependencies from large-scale RNAi screens using model-based normalization and data integration. Nature Communications 9, 1. https://doi.org/10.1038/s41467-018-06916-5</font>\n",
    "\n",
    "* Data source uses CCLE names rather than DepMap cell line IDS\n",
    "* Translate the cell line names to IDS for consistency with other data sources\n",
    "* Also deal with rows in the table with multiple gene names (eg 'GTF2IP4&GTF2IP1 (100093631&2970)')\n",
    "''')"
   ]
  },
  {
   "cell_type": "code",
   "execution_count": 11,
   "metadata": {},
   "outputs": [
    {
     "name": "stdout",
     "output_type": "stream",
     "text": [
      "Initial number of rows in dataframe: 17309\n",
      "Splitting multigene rows...\n",
      "Final number of rows in dataframe: 17731\n"
     ]
    }
   ],
   "source": [
    "# Ingest data\n",
    "d2 = get_data('d2_rnai')\n",
    "print(\"Initial number of rows in dataframe:\",d2.shape[0])\n",
    "# split rows with multuple genes\n",
    "cols = ['gene'] + list(d2.columns)\n",
    "rows = []\n",
    "\n",
    "print(\"Splitting multigene rows...\")\n",
    "for i, r in d2.iterrows():\n",
    "    if '&' in i:\n",
    "        symbols, ncbi = i.split(' ')\n",
    "        symbols = symbols.split('&')\n",
    "        ncbi = re.sub('\\(|\\)','',ncbi)\n",
    "        ncbi = ncbi.split('&')\n",
    "        assert len(symbols) == len(ncbi), \"Length mismatch\"\n",
    "        for s, symbol in enumerate(symbols):\n",
    "            gid = ncbi[s]\n",
    "            row = [symbol+' ('+gid+')'] + list(r)\n",
    "            rows.append(row)\n",
    "    else:\n",
    "        rows.append([i]+list(r))\n",
    "d2 = pd.DataFrame(data=rows,columns=cols).set_index('gene')\n",
    "print(\"Final number of rows in dataframe:\",d2.shape[0])"
   ]
  },
  {
   "cell_type": "code",
   "execution_count": 12,
   "metadata": {},
   "outputs": [
    {
     "name": "stdout",
     "output_type": "stream",
     "text": [
      "17731 genes\n",
      "712 cell lines\n"
     ]
    },
    {
     "data": {
      "text/html": [
       "<div>\n",
       "<style scoped>\n",
       "    .dataframe tbody tr th:only-of-type {\n",
       "        vertical-align: middle;\n",
       "    }\n",
       "\n",
       "    .dataframe tbody tr th {\n",
       "        vertical-align: top;\n",
       "    }\n",
       "\n",
       "    .dataframe thead th {\n",
       "        text-align: right;\n",
       "    }\n",
       "</style>\n",
       "<table border=\"1\" class=\"dataframe\">\n",
       "  <thead>\n",
       "    <tr style=\"text-align: right;\">\n",
       "      <th></th>\n",
       "      <th>ACH-001270</th>\n",
       "      <th>ACH-001000</th>\n",
       "      <th>ACH-001001</th>\n",
       "      <th>ACH-002319</th>\n",
       "      <th>ACH-001827</th>\n",
       "      <th>ACH-000956</th>\n",
       "      <th>ACH-000948</th>\n",
       "      <th>ACH-002320</th>\n",
       "      <th>ACH-000070</th>\n",
       "      <th>ACH-000411</th>\n",
       "      <th>...</th>\n",
       "      <th>ACH-000899</th>\n",
       "      <th>ACH-000765</th>\n",
       "      <th>ACH-000534</th>\n",
       "      <th>ACH-000762</th>\n",
       "      <th>ACH-000630</th>\n",
       "      <th>ACH-000570</th>\n",
       "      <th>ACH-001249</th>\n",
       "      <th>ACH-000097</th>\n",
       "      <th>ACH-000828</th>\n",
       "      <th>ACH-002331</th>\n",
       "    </tr>\n",
       "  </thead>\n",
       "  <tbody>\n",
       "    <tr>\n",
       "      <td>1</td>\n",
       "      <td>NaN</td>\n",
       "      <td>NaN</td>\n",
       "      <td>0.146042</td>\n",
       "      <td>-0.190388</td>\n",
       "      <td>0.907063</td>\n",
       "      <td>-0.019331</td>\n",
       "      <td>-0.016734</td>\n",
       "      <td>0.091580</td>\n",
       "      <td>0.035023</td>\n",
       "      <td>-0.122046</td>\n",
       "      <td>...</td>\n",
       "      <td>-0.088267</td>\n",
       "      <td>0.002171</td>\n",
       "      <td>NaN</td>\n",
       "      <td>0.120294</td>\n",
       "      <td>0.012540</td>\n",
       "      <td>0.111530</td>\n",
       "      <td>NaN</td>\n",
       "      <td>-0.079313</td>\n",
       "      <td>-0.141559</td>\n",
       "      <td>0.214268</td>\n",
       "    </tr>\n",
       "    <tr>\n",
       "      <td>10</td>\n",
       "      <td>NaN</td>\n",
       "      <td>NaN</td>\n",
       "      <td>0.102854</td>\n",
       "      <td>0.384106</td>\n",
       "      <td>0.403192</td>\n",
       "      <td>0.001925</td>\n",
       "      <td>-0.153933</td>\n",
       "      <td>-0.317969</td>\n",
       "      <td>0.012341</td>\n",
       "      <td>-0.205077</td>\n",
       "      <td>...</td>\n",
       "      <td>-0.003747</td>\n",
       "      <td>-0.321445</td>\n",
       "      <td>NaN</td>\n",
       "      <td>-0.003256</td>\n",
       "      <td>-0.220472</td>\n",
       "      <td>0.073460</td>\n",
       "      <td>NaN</td>\n",
       "      <td>-0.130921</td>\n",
       "      <td>0.127358</td>\n",
       "      <td>-0.405974</td>\n",
       "    </tr>\n",
       "    <tr>\n",
       "      <td>100</td>\n",
       "      <td>NaN</td>\n",
       "      <td>NaN</td>\n",
       "      <td>0.168839</td>\n",
       "      <td>-0.120700</td>\n",
       "      <td>0.004394</td>\n",
       "      <td>-0.188700</td>\n",
       "      <td>-0.060818</td>\n",
       "      <td>-0.755058</td>\n",
       "      <td>0.129770</td>\n",
       "      <td>0.076273</td>\n",
       "      <td>...</td>\n",
       "      <td>-0.014085</td>\n",
       "      <td>0.039679</td>\n",
       "      <td>NaN</td>\n",
       "      <td>0.076521</td>\n",
       "      <td>0.106995</td>\n",
       "      <td>0.227977</td>\n",
       "      <td>NaN</td>\n",
       "      <td>-0.134479</td>\n",
       "      <td>0.083506</td>\n",
       "      <td>-0.404291</td>\n",
       "    </tr>\n",
       "    <tr>\n",
       "      <td>1000</td>\n",
       "      <td>-0.194962</td>\n",
       "      <td>-0.028171</td>\n",
       "      <td>0.063047</td>\n",
       "      <td>-0.237251</td>\n",
       "      <td>-0.017059</td>\n",
       "      <td>-0.103047</td>\n",
       "      <td>-0.049460</td>\n",
       "      <td>0.130107</td>\n",
       "      <td>0.146864</td>\n",
       "      <td>-0.126198</td>\n",
       "      <td>...</td>\n",
       "      <td>-0.073435</td>\n",
       "      <td>-0.140041</td>\n",
       "      <td>-0.154436</td>\n",
       "      <td>-0.040308</td>\n",
       "      <td>-0.078707</td>\n",
       "      <td>0.000769</td>\n",
       "      <td>-0.139126</td>\n",
       "      <td>0.047022</td>\n",
       "      <td>-0.097644</td>\n",
       "      <td>-0.062622</td>\n",
       "    </tr>\n",
       "    <tr>\n",
       "      <td>10000</td>\n",
       "      <td>-0.256108</td>\n",
       "      <td>0.100751</td>\n",
       "      <td>-0.008077</td>\n",
       "      <td>0.060267</td>\n",
       "      <td>-0.094749</td>\n",
       "      <td>-0.066591</td>\n",
       "      <td>0.166029</td>\n",
       "      <td>0.149969</td>\n",
       "      <td>-0.053022</td>\n",
       "      <td>0.092426</td>\n",
       "      <td>...</td>\n",
       "      <td>0.028714</td>\n",
       "      <td>-0.054628</td>\n",
       "      <td>0.450581</td>\n",
       "      <td>0.002932</td>\n",
       "      <td>0.129679</td>\n",
       "      <td>-0.072564</td>\n",
       "      <td>0.017161</td>\n",
       "      <td>0.123615</td>\n",
       "      <td>0.046846</td>\n",
       "      <td>0.125711</td>\n",
       "    </tr>\n",
       "  </tbody>\n",
       "</table>\n",
       "<p>5 rows × 712 columns</p>\n",
       "</div>"
      ],
      "text/plain": [
       "       ACH-001270  ACH-001000  ACH-001001  ACH-002319  ACH-001827  ACH-000956  \\\n",
       "1             NaN         NaN    0.146042   -0.190388    0.907063   -0.019331   \n",
       "10            NaN         NaN    0.102854    0.384106    0.403192    0.001925   \n",
       "100           NaN         NaN    0.168839   -0.120700    0.004394   -0.188700   \n",
       "1000    -0.194962   -0.028171    0.063047   -0.237251   -0.017059   -0.103047   \n",
       "10000   -0.256108    0.100751   -0.008077    0.060267   -0.094749   -0.066591   \n",
       "\n",
       "       ACH-000948  ACH-002320  ACH-000070  ACH-000411  ...  ACH-000899  \\\n",
       "1       -0.016734    0.091580    0.035023   -0.122046  ...   -0.088267   \n",
       "10      -0.153933   -0.317969    0.012341   -0.205077  ...   -0.003747   \n",
       "100     -0.060818   -0.755058    0.129770    0.076273  ...   -0.014085   \n",
       "1000    -0.049460    0.130107    0.146864   -0.126198  ...   -0.073435   \n",
       "10000    0.166029    0.149969   -0.053022    0.092426  ...    0.028714   \n",
       "\n",
       "       ACH-000765  ACH-000534  ACH-000762  ACH-000630  ACH-000570  ACH-001249  \\\n",
       "1        0.002171         NaN    0.120294    0.012540    0.111530         NaN   \n",
       "10      -0.321445         NaN   -0.003256   -0.220472    0.073460         NaN   \n",
       "100      0.039679         NaN    0.076521    0.106995    0.227977         NaN   \n",
       "1000    -0.140041   -0.154436   -0.040308   -0.078707    0.000769   -0.139126   \n",
       "10000   -0.054628    0.450581    0.002932    0.129679   -0.072564    0.017161   \n",
       "\n",
       "       ACH-000097  ACH-000828  ACH-002331  \n",
       "1       -0.079313   -0.141559    0.214268  \n",
       "10      -0.130921    0.127358   -0.405974  \n",
       "100     -0.134479    0.083506   -0.404291  \n",
       "1000     0.047022   -0.097644   -0.062622  \n",
       "10000    0.123615    0.046846    0.125711  \n",
       "\n",
       "[5 rows x 712 columns]"
      ]
     },
     "execution_count": 12,
     "metadata": {},
     "output_type": "execute_result"
    }
   ],
   "source": [
    "# Map cell line names to IDs\n",
    "sample_info = get_data('sample_info')\n",
    "ccle_name2id = {}\n",
    "for i, r in sample_info.iterrows():\n",
    "    ccle_name2id[r['CCLE Name']] = i \n",
    "\n",
    "cell_line_names = list(d2.columns)\n",
    "\n",
    "# Rename columns to use CCLE IDs and rows to use NCBI gene IDs\n",
    "if isinstance(list(d2.index)[0],str):\n",
    "    d2.columns = [ccle_name2id.get(i) or i for i in cell_line_names]\n",
    "    d2.index = ncbi_gene_ids(list(d2.index))\n",
    "print(d2.shape[0],\"genes\")\n",
    "print(d2.shape[1],\"cell lines\")\n",
    "d2.head()"
   ]
  },
  {
   "cell_type": "code",
   "execution_count": 13,
   "metadata": {},
   "outputs": [
    {
     "data": {
      "text/markdown": [
       "\n",
       "## Ingest Achilles Crispr gene dependency data\n",
       "CERES data with principle components strongly related to known batch effects removed, then shifted and scaled per cell line so the median nonessential KO effect is 0 and the median essential KO effect is -1.\n",
       "\n",
       "<b>source data:</b> Achilles_gene_effect.csv \n",
       "\n",
       "<b>Citation:</b> DepMap, Broad (2019): DepMap 19Q3 Public. figshare. Dataset doi:10.6084/m9.figshare.9201770.v1.\n",
       "<br>\n",
       "Robin M. Meyers, Jordan G. Bryan, James M. McFarland, Barbara A. Weir, ... David E. Root, William C. Hahn, Aviad Tsherniak. Computational correction of copy number effect improves specificity of CRISPR-Cas9 essentiality screens in cancer cells. Nature Genetics 2017 October 49:1779–1784. doi:10.1038/ng.3984\n",
       "\n",
       "* Translate gene names (column labels) to NCBI IDS\n",
       "* Transpose rows and columns so each cell line is a column label with vertivally stacked gene data\n"
      ],
      "text/plain": [
       "<IPython.core.display.Markdown object>"
      ]
     },
     "metadata": {},
     "output_type": "display_data"
    }
   ],
   "source": [
    "report('''\n",
    "## Ingest Achilles Crispr gene dependency data\n",
    "CERES data with principle components strongly related to known batch effects removed, then shifted and scaled per cell line so the median nonessential KO effect is 0 and the median essential KO effect is -1.\n",
    "\n",
    "<b>source data:</b> Achilles_gene_effect.csv \n",
    "\n",
    "<b>Citation:</b> DepMap, Broad (2019): DepMap 19Q3 Public. figshare. Dataset doi:10.6084/m9.figshare.9201770.v1.\n",
    "<br>\n",
    "Robin M. Meyers, Jordan G. Bryan, James M. McFarland, Barbara A. Weir, ... David E. Root, William C. Hahn, Aviad Tsherniak. Computational correction of copy number effect improves specificity of CRISPR-Cas9 essentiality screens in cancer cells. Nature Genetics 2017 October 49:1779–1784. doi:10.1038/ng.3984\n",
    "\n",
    "* Translate gene names (column labels) to NCBI IDS\n",
    "* Transpose rows and columns so each cell line is a column label with vertivally stacked gene data\n",
    "''')"
   ]
  },
  {
   "cell_type": "code",
   "execution_count": 14,
   "metadata": {},
   "outputs": [
    {
     "name": "stdout",
     "output_type": "stream",
     "text": [
      "18333 genes\n",
      "625 cell lines\n"
     ]
    },
    {
     "data": {
      "text/html": [
       "<div>\n",
       "<style scoped>\n",
       "    .dataframe tbody tr th:only-of-type {\n",
       "        vertical-align: middle;\n",
       "    }\n",
       "\n",
       "    .dataframe tbody tr th {\n",
       "        vertical-align: top;\n",
       "    }\n",
       "\n",
       "    .dataframe thead th {\n",
       "        text-align: right;\n",
       "    }\n",
       "</style>\n",
       "<table border=\"1\" class=\"dataframe\">\n",
       "  <thead>\n",
       "    <tr style=\"text-align: right;\">\n",
       "      <th></th>\n",
       "      <th>ACH-000004</th>\n",
       "      <th>ACH-000005</th>\n",
       "      <th>ACH-000007</th>\n",
       "      <th>ACH-000009</th>\n",
       "      <th>ACH-000011</th>\n",
       "      <th>ACH-000012</th>\n",
       "      <th>ACH-000013</th>\n",
       "      <th>ACH-000014</th>\n",
       "      <th>ACH-000015</th>\n",
       "      <th>ACH-000017</th>\n",
       "      <th>...</th>\n",
       "      <th>ACH-001736</th>\n",
       "      <th>ACH-001737</th>\n",
       "      <th>ACH-001740</th>\n",
       "      <th>ACH-001745</th>\n",
       "      <th>ACH-001750</th>\n",
       "      <th>ACH-001765</th>\n",
       "      <th>ACH-001814</th>\n",
       "      <th>ACH-001838</th>\n",
       "      <th>ACH-001956</th>\n",
       "      <th>ACH-001957</th>\n",
       "    </tr>\n",
       "  </thead>\n",
       "  <tbody>\n",
       "    <tr>\n",
       "      <td>1</td>\n",
       "      <td>0.168684</td>\n",
       "      <td>-0.068759</td>\n",
       "      <td>0.053893</td>\n",
       "      <td>0.059874</td>\n",
       "      <td>0.277165</td>\n",
       "      <td>0.008073</td>\n",
       "      <td>0.062131</td>\n",
       "      <td>0.143078</td>\n",
       "      <td>-0.090890</td>\n",
       "      <td>0.178427</td>\n",
       "      <td>...</td>\n",
       "      <td>0.154567</td>\n",
       "      <td>-0.050307</td>\n",
       "      <td>0.005125</td>\n",
       "      <td>0.208843</td>\n",
       "      <td>0.044674</td>\n",
       "      <td>0.136364</td>\n",
       "      <td>0.216507</td>\n",
       "      <td>-0.086149</td>\n",
       "      <td>-0.076893</td>\n",
       "      <td>0.055750</td>\n",
       "    </tr>\n",
       "    <tr>\n",
       "      <td>29974</td>\n",
       "      <td>0.089128</td>\n",
       "      <td>0.218792</td>\n",
       "      <td>0.081444</td>\n",
       "      <td>-0.011153</td>\n",
       "      <td>0.085354</td>\n",
       "      <td>0.167177</td>\n",
       "      <td>0.038687</td>\n",
       "      <td>-0.035837</td>\n",
       "      <td>0.007894</td>\n",
       "      <td>0.106952</td>\n",
       "      <td>...</td>\n",
       "      <td>0.019334</td>\n",
       "      <td>0.189813</td>\n",
       "      <td>0.349099</td>\n",
       "      <td>0.153637</td>\n",
       "      <td>0.126563</td>\n",
       "      <td>0.021261</td>\n",
       "      <td>-0.172366</td>\n",
       "      <td>0.082798</td>\n",
       "      <td>0.109464</td>\n",
       "      <td>0.004545</td>\n",
       "    </tr>\n",
       "    <tr>\n",
       "      <td>2</td>\n",
       "      <td>-0.196966</td>\n",
       "      <td>0.178252</td>\n",
       "      <td>-0.060170</td>\n",
       "      <td>-0.054367</td>\n",
       "      <td>0.007972</td>\n",
       "      <td>0.088705</td>\n",
       "      <td>-0.043841</td>\n",
       "      <td>0.010997</td>\n",
       "      <td>-0.185690</td>\n",
       "      <td>-0.068145</td>\n",
       "      <td>...</td>\n",
       "      <td>-0.124875</td>\n",
       "      <td>-0.079220</td>\n",
       "      <td>-0.194522</td>\n",
       "      <td>-0.134906</td>\n",
       "      <td>-0.082100</td>\n",
       "      <td>-0.107147</td>\n",
       "      <td>-0.265359</td>\n",
       "      <td>-0.147978</td>\n",
       "      <td>0.021325</td>\n",
       "      <td>0.067990</td>\n",
       "    </tr>\n",
       "    <tr>\n",
       "      <td>144568</td>\n",
       "      <td>-0.021260</td>\n",
       "      <td>0.158390</td>\n",
       "      <td>0.153435</td>\n",
       "      <td>0.060886</td>\n",
       "      <td>0.445843</td>\n",
       "      <td>0.307599</td>\n",
       "      <td>0.200285</td>\n",
       "      <td>0.182625</td>\n",
       "      <td>0.111529</td>\n",
       "      <td>0.109807</td>\n",
       "      <td>...</td>\n",
       "      <td>0.051671</td>\n",
       "      <td>0.100741</td>\n",
       "      <td>0.217812</td>\n",
       "      <td>0.167583</td>\n",
       "      <td>0.132673</td>\n",
       "      <td>0.076223</td>\n",
       "      <td>0.045942</td>\n",
       "      <td>0.256595</td>\n",
       "      <td>0.204297</td>\n",
       "      <td>0.199098</td>\n",
       "    </tr>\n",
       "    <tr>\n",
       "      <td>127550</td>\n",
       "      <td>0.038541</td>\n",
       "      <td>-0.193862</td>\n",
       "      <td>0.087362</td>\n",
       "      <td>0.039767</td>\n",
       "      <td>-0.036717</td>\n",
       "      <td>0.015440</td>\n",
       "      <td>-0.070484</td>\n",
       "      <td>-0.034048</td>\n",
       "      <td>-0.033507</td>\n",
       "      <td>-0.195903</td>\n",
       "      <td>...</td>\n",
       "      <td>-0.196632</td>\n",
       "      <td>0.164481</td>\n",
       "      <td>-0.052438</td>\n",
       "      <td>-0.130067</td>\n",
       "      <td>-0.172350</td>\n",
       "      <td>-0.116583</td>\n",
       "      <td>0.123916</td>\n",
       "      <td>-0.054596</td>\n",
       "      <td>-0.080814</td>\n",
       "      <td>-0.042784</td>\n",
       "    </tr>\n",
       "  </tbody>\n",
       "</table>\n",
       "<p>5 rows × 625 columns</p>\n",
       "</div>"
      ],
      "text/plain": [
       "        ACH-000004  ACH-000005  ACH-000007  ACH-000009  ACH-000011  \\\n",
       "1         0.168684   -0.068759    0.053893    0.059874    0.277165   \n",
       "29974     0.089128    0.218792    0.081444   -0.011153    0.085354   \n",
       "2        -0.196966    0.178252   -0.060170   -0.054367    0.007972   \n",
       "144568   -0.021260    0.158390    0.153435    0.060886    0.445843   \n",
       "127550    0.038541   -0.193862    0.087362    0.039767   -0.036717   \n",
       "\n",
       "        ACH-000012  ACH-000013  ACH-000014  ACH-000015  ACH-000017  ...  \\\n",
       "1         0.008073    0.062131    0.143078   -0.090890    0.178427  ...   \n",
       "29974     0.167177    0.038687   -0.035837    0.007894    0.106952  ...   \n",
       "2         0.088705   -0.043841    0.010997   -0.185690   -0.068145  ...   \n",
       "144568    0.307599    0.200285    0.182625    0.111529    0.109807  ...   \n",
       "127550    0.015440   -0.070484   -0.034048   -0.033507   -0.195903  ...   \n",
       "\n",
       "        ACH-001736  ACH-001737  ACH-001740  ACH-001745  ACH-001750  \\\n",
       "1         0.154567   -0.050307    0.005125    0.208843    0.044674   \n",
       "29974     0.019334    0.189813    0.349099    0.153637    0.126563   \n",
       "2        -0.124875   -0.079220   -0.194522   -0.134906   -0.082100   \n",
       "144568    0.051671    0.100741    0.217812    0.167583    0.132673   \n",
       "127550   -0.196632    0.164481   -0.052438   -0.130067   -0.172350   \n",
       "\n",
       "        ACH-001765  ACH-001814  ACH-001838  ACH-001956  ACH-001957  \n",
       "1         0.136364    0.216507   -0.086149   -0.076893    0.055750  \n",
       "29974     0.021261   -0.172366    0.082798    0.109464    0.004545  \n",
       "2        -0.107147   -0.265359   -0.147978    0.021325    0.067990  \n",
       "144568    0.076223    0.045942    0.256595    0.204297    0.199098  \n",
       "127550   -0.116583    0.123916   -0.054596   -0.080814   -0.042784  \n",
       "\n",
       "[5 rows x 625 columns]"
      ]
     },
     "execution_count": 14,
     "metadata": {},
     "output_type": "execute_result"
    }
   ],
   "source": [
    "achilles = get_data('achilles_crispr').T\n",
    "genes = list(achilles.index)\n",
    "achilles.index = ncbi_gene_ids(genes)\n",
    "print(achilles.shape[0],\"genes\")\n",
    "print(achilles.shape[1],\"cell lines\")\n",
    "achilles.head()"
   ]
  },
  {
   "cell_type": "markdown",
   "metadata": {},
   "source": [
    "### How many cell lines and genes are shared between D2 and Achilles gene dependency data sets?"
   ]
  },
  {
   "cell_type": "code",
   "execution_count": 15,
   "metadata": {},
   "outputs": [
    {
     "data": {
      "text/markdown": [
       "423 cell lines are shared"
      ],
      "text/plain": [
       "<IPython.core.display.Markdown object>"
      ]
     },
     "metadata": {},
     "output_type": "display_data"
    },
    {
     "name": "stdout",
     "output_type": "stream",
     "text": [
      "16052 genes are shared\n"
     ]
    }
   ],
   "source": [
    "d2_cells = set(d2.columns)\n",
    "d2_genes = set(d2.index)\n",
    "ac_cells = set(achilles.columns)\n",
    "ac_genes = set(achilles.index)\n",
    "report(str(len(d2_cells.intersection(ac_cells)))+\" cell lines are shared\")\n",
    "print(str(len(d2_genes.intersection(ac_genes)))+\" genes are shared\")\n"
   ]
  },
  {
   "cell_type": "code",
   "execution_count": 16,
   "metadata": {},
   "outputs": [
    {
     "data": {
      "text/plain": [
       "['R-HSA-383280',\n",
       " 'https://reactome.org/PathwayBrowser/#/R-HSA-383280',\n",
       " 'Nuclear Receptor transcription pathway']"
      ]
     },
     "execution_count": 16,
     "metadata": {},
     "output_type": "execute_result"
    }
   ],
   "source": [
    "pi = get_pathway_info()\n",
    "pi['10002']"
   ]
  },
  {
   "cell_type": "code",
   "execution_count": null,
   "metadata": {},
   "outputs": [],
   "source": []
  },
  {
   "cell_type": "code",
   "execution_count": 17,
   "metadata": {},
   "outputs": [
    {
     "data": {
      "text/html": [
       "<div>\n",
       "<style scoped>\n",
       "    .dataframe tbody tr th:only-of-type {\n",
       "        vertical-align: middle;\n",
       "    }\n",
       "\n",
       "    .dataframe tbody tr th {\n",
       "        vertical-align: top;\n",
       "    }\n",
       "\n",
       "    .dataframe thead th {\n",
       "        text-align: right;\n",
       "    }\n",
       "</style>\n",
       "<table border=\"1\" class=\"dataframe\">\n",
       "  <thead>\n",
       "    <tr style=\"text-align: right;\">\n",
       "      <th></th>\n",
       "      <th>primaryIdentifier</th>\n",
       "      <th>symbol</th>\n",
       "      <th>briefDescription</th>\n",
       "      <th>description</th>\n",
       "      <th>proteins.uniprotAccession</th>\n",
       "    </tr>\n",
       "  </thead>\n",
       "  <tbody>\n",
       "    <tr>\n",
       "      <td>0</td>\n",
       "      <td>2632</td>\n",
       "      <td>GBE1</td>\n",
       "      <td>1,4-alpha-glucan branching enzyme 1</td>\n",
       "      <td>The protein encoded by this gene is a glycogen...</td>\n",
       "      <td>Q04446</td>\n",
       "    </tr>\n",
       "    <tr>\n",
       "      <td>1</td>\n",
       "      <td>3248</td>\n",
       "      <td>HPGD</td>\n",
       "      <td>15-hydroxyprostaglandin dehydrogenase</td>\n",
       "      <td>This gene encodes a member of the short-chain ...</td>\n",
       "      <td>E9PBZ2</td>\n",
       "    </tr>\n",
       "    <tr>\n",
       "      <td>2</td>\n",
       "      <td>3248</td>\n",
       "      <td>HPGD</td>\n",
       "      <td>15-hydroxyprostaglandin dehydrogenase</td>\n",
       "      <td>This gene encodes a member of the short-chain ...</td>\n",
       "      <td>P15428</td>\n",
       "    </tr>\n",
       "    <tr>\n",
       "      <td>3</td>\n",
       "      <td>3248</td>\n",
       "      <td>HPGD</td>\n",
       "      <td>15-hydroxyprostaglandin dehydrogenase</td>\n",
       "      <td>This gene encodes a member of the short-chain ...</td>\n",
       "      <td>P15428</td>\n",
       "    </tr>\n",
       "    <tr>\n",
       "      <td>4</td>\n",
       "      <td>3248</td>\n",
       "      <td>HPGD</td>\n",
       "      <td>15-hydroxyprostaglandin dehydrogenase</td>\n",
       "      <td>This gene encodes a member of the short-chain ...</td>\n",
       "      <td>P15428</td>\n",
       "    </tr>\n",
       "  </tbody>\n",
       "</table>\n",
       "</div>"
      ],
      "text/plain": [
       "  primaryIdentifier symbol                       briefDescription  \\\n",
       "0              2632   GBE1    1,4-alpha-glucan branching enzyme 1   \n",
       "1              3248   HPGD  15-hydroxyprostaglandin dehydrogenase   \n",
       "2              3248   HPGD  15-hydroxyprostaglandin dehydrogenase   \n",
       "3              3248   HPGD  15-hydroxyprostaglandin dehydrogenase   \n",
       "4              3248   HPGD  15-hydroxyprostaglandin dehydrogenase   \n",
       "\n",
       "                                         description proteins.uniprotAccession  \n",
       "0  The protein encoded by this gene is a glycogen...                    Q04446  \n",
       "1  This gene encodes a member of the short-chain ...                    E9PBZ2  \n",
       "2  This gene encodes a member of the short-chain ...                    P15428  \n",
       "3  This gene encodes a member of the short-chain ...                    P15428  \n",
       "4  This gene encodes a member of the short-chain ...                    P15428  "
      ]
     },
     "execution_count": 17,
     "metadata": {},
     "output_type": "execute_result"
    }
   ],
   "source": [
    "cn = get_data('copy_number').T\n",
    "gd = get_gene_descriptions()\n",
    "gd.head()"
   ]
  },
  {
   "cell_type": "code",
   "execution_count": null,
   "metadata": {},
   "outputs": [],
   "source": []
  },
  {
   "cell_type": "code",
   "execution_count": 18,
   "metadata": {},
   "outputs": [
    {
     "data": {
      "text/plain": [
       "15155"
      ]
     },
     "execution_count": 18,
     "metadata": {},
     "output_type": "execute_result"
    }
   ],
   "source": [
    "df = get_data('mfr')\n",
    "\n",
    "df.head()\n",
    "genes = set()\n",
    "for p in df['gene.pair']:\n",
    "    my_genes = p.split('_')\n",
    "    for g in my_genes:\n",
    "        genes.add(g)\n",
    "len(genes)\n",
    "    "
   ]
  },
  {
   "cell_type": "code",
   "execution_count": null,
   "metadata": {},
   "outputs": [],
   "source": []
  }
 ],
 "metadata": {
  "kernelspec": {
   "display_name": "Python 3",
   "language": "python",
   "name": "python3"
  },
  "language_info": {
   "codemirror_mode": {
    "name": "ipython",
    "version": 3
   },
   "file_extension": ".py",
   "mimetype": "text/x-python",
   "name": "python",
   "nbconvert_exporter": "python",
   "pygments_lexer": "ipython3",
   "version": "3.7.4"
  }
 },
 "nbformat": 4,
 "nbformat_minor": 4
}
