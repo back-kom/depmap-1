{
 "cells": [
  {
   "cell_type": "code",
   "execution_count": 1,
   "metadata": {},
   "outputs": [],
   "source": [
    "from __future__ import print_function\n",
    "import pandas as pd\n",
    "import numpy as np\n",
    "import os, sys, re, pickle, wget, math\n",
    "from intermine.webservice import Service\n",
    "from IPython.display import Markdown, display\n",
    "import matplotlib.pyplot as plt\n",
    "import scipy.stats as stats\n",
    "\n",
    "# Load data direct from source\n",
    "class A(object):\n",
    "    data = {}\n",
    "    url = {}\n",
    "    url['expression'] = 'https://ndownloader.figshare.com/files/16757690'\n",
    "    url['sample_info'] = 'https://ndownloader.figshare.com/files/16757723'\n",
    "    url['copy_number'] = 'https://ndownloader.figshare.com/files/17857886'\n",
    "    url['mutations'] = 'https://ndownloader.figshare.com/files/16757702'\n",
    "    url['achilles_crispr'] = 'https://ndownloader.figshare.com/files/16757666'\n",
    "    url['d2_rnai'] = 'https://ndownloader.figshare.com/files/13515395'\n",
    "    url['sensitivity'] = 'https://ndownloader.figshare.com/files/17008628'\n",
    "    url['mfr'] = 'http://bmbl.sdstate.edu/MFR/data/resource%20data/tr_dv_ts.dataset.zip'\n",
    "    url['reactome'] = 'https://reactome.org/download/current/NCBI2Reactome.txt'\n",
    "    summary = '../index.md'\n",
    "    \n",
    "# Wipe the slate clean on the analysis summary\n",
    "os.system(\"echo '' > \"+A.summary)\n",
    "    \n",
    "def printmd(string):\n",
    "    \"\"\"Prints formatted markdown text\"\"\"\n",
    "    display(Markdown(string))\n",
    "    \n",
    "def report(text,silent=False):\n",
    "    \"\"\"Print markdown in this notebook and saves markdown-only summary in a file\"\"\"\n",
    "    if not silent:\n",
    "        printmd(text)\n",
    "    \n",
    "    f = open(A.summary,'a')\n",
    "    f.write(text+'\\n')\n",
    "    \n",
    "def get_gene_descriptions():\n",
    "    \"\"\"Load gene names and descriptions from humanmine (http://www.humanmine.org),\n",
    "    an integrated database of human genome information.  Use cached data if available\"\"\"\n",
    "    \n",
    "    archive = 'data/gene_info.p'\n",
    "    if os.path.exists(archive):\n",
    "        df = pd.read_pickle(archive)\n",
    "        return df\n",
    "    \n",
    "    service = Service(\"https://www.humanmine.org/humanmine/service\")\n",
    "    query = service.new_query(\"Gene\")\n",
    "    cols = [\"primaryIdentifier\", \"symbol\", \"briefDescription\", \"description\",\"proteins.uniprotAccession\"]\n",
    "    query.add_view(*cols)\n",
    "    query.add_constraint(\"organism.taxonId\", \"=\", \"9606\", code = \"A\")    \n",
    "    df_rows = []\n",
    "\n",
    "    for row in query.rows():\n",
    "        df_rows.append(\n",
    "            [row[\"primaryIdentifier\"], \n",
    "             row[\"symbol\"], \n",
    "             row[\"briefDescription\"], \n",
    "             row[\"description\"],\n",
    "             row[\"proteins.uniprotAccession\"]\n",
    "            ])\n",
    "\n",
    "    df = pd.DataFrame(data=df_rows,columns=cols)\n",
    "    df.to_pickle(archive)\n",
    "    return df\n",
    "    \n",
    "def get_data(key):\n",
    "    \"\"\"Load input data.\n",
    "    Arguments: key for the data source (eg: expression, sample_info...)\n",
    "    1) If the data is cached on the filesystem, load and return the dataframe\n",
    "    2) Otherwise, load the data from the source URL, cache, return the dataframe\n",
    "    \"\"\"\n",
    "    \n",
    "    data_cache = 'data/'+key+'.p'\n",
    "    if os.path.exists(data_cache):\n",
    "        df = pd.read_pickle(data_cache)\n",
    "    else:\n",
    "        print(\"Downloading\",key,\"from source\")\n",
    "        df = pd.read_csv(A.url[key],low_memory=False,index_col=0)\n",
    "        df.to_pickle(data_cache)\n",
    "        \n",
    "    A.data[key] = df    \n",
    "    return df\n",
    "\n",
    "def ncbi_gene_ids(genes):\n",
    "    \"\"\"Converts gene name \"symbol (ncbi_id)\"\n",
    "    to integer NCBI ID.  Also catch missing associations\n",
    "    for NCBI gene ID/symbol\n",
    "    \"\"\"\n",
    "    ncbi_cols = []\n",
    "    for g in genes:\n",
    "        match = re.search('(\\S+)\\s+\\((\\d+)\\)',g)\n",
    "        if match:\n",
    "            s = match.group(1)\n",
    "            g = match.group(2)\n",
    "            if not ncbi2symbol.get(int(g)):\n",
    "                ncbi2symbol[int(g)] = s\n",
    "                symbol2ncbi[s] = int(g)\n",
    "        else:\n",
    "            print(\"No match\",g)\n",
    "        ncbi_cols.append(int(g))\n",
    "        \n",
    "\n",
    "    return ncbi_cols\n",
    "\n",
    "def get_pathway_info():\n",
    "    # Map NCBI IDs to reactome pathways\n",
    "    # File downloaded from https://reactome.org/download/current/NCBI2Reactome.txt\n",
    "    archive = 'data/pathway_info.p'\n",
    "    \n",
    "    if os.path.exists(archive):\n",
    "        pathway_info = pickle.load(open(archive,'rb'))\n",
    "        return pathway_info\n",
    "    \n",
    "    pathway_info = {}\n",
    "    if not os.path.exists('data/NCBI2Reactome.txt'):\n",
    "        wget.download(A.url['reactome'],out='data/NCBI2Reactome.txt')\n",
    "    with open('data/NCBI2Reactome.txt') as n2r:\n",
    "        for line in n2r.readlines():\n",
    "            ncbi, pathway_id, url, pathway_name, type, species = line.strip().split('\\t')\n",
    "            # only human pathways\n",
    "            if species != 'Homo sapiens':\n",
    "                continue\n",
    "            # only curated pathways\n",
    "            if type == 'IEA':\n",
    "                continue\n",
    "            pathway_info[ncbi] = [pathway_id, url, pathway_name]\n",
    "\n",
    "    pickle.dump(pathway_info,open(archive,'wb'))\n",
    "    return pathway_info\n"
   ]
  },
  {
   "cell_type": "code",
   "execution_count": 2,
   "metadata": {},
   "outputs": [
    {
     "data": {
      "text/markdown": [
       "\n",
       "# Sample analysis of Cancer Dependency Map (DepMap) data \n",
       "## Request\n",
       "* Identify the most frequent genetic alterations (could be mutations or copy number variations) in the cancer cell lines\n",
       "* Match them with the best genetic dependencies that could be used for drug development for the cancers that carry those mutations\n",
       "* Take into account the lineage of cancer cell lines (certain mutations/CNVs may be restricted to a specific lineage)\n",
       "\n",
       "## Resources\n",
       "### DepMap (https://depmap.org/portal) Data \n",
       "* Cell line metadata\n",
       "* Expression (RNASeq)\n",
       "* Copy number variation\n",
       "* Mutations\n",
       "* Genetic dependency\n",
       "  * Crispr (Achilles)\n",
       "  * RNAi (DEMETER2)\n",
       "  \n",
       "<b>Citations:</b> \n",
       "* Jordan G. Bryan, John M. Krill-Burger, Thomas M. Green, Francisca Vazquez, Jesse S. Boehm, Todd R. Golub, William C. Hahn, David E. Root, Aviad Tsherniak. (2018). Improved estimation of cancer dependencies from large-scale RNAi screens using model-based normalization and data integration. Nature Communications 9, 1. https://doi.org/10.1038/s41467-018-06916-5</font>\n",
       "* DepMap, Broad (2019): DepMap 19Q3 Public. figshare. Dataset doi:10.6084/m9.figshare.9201770.v1.\n",
       "* Robin M. Meyers, Jordan G. Bryan, James M. McFarland, Barbara A. Weir, ... David E. Root, William C. Hahn, Aviad Tsherniak. Computational correction of copy number effect improves specificity of CRISPR-Cas9 essentiality screens in cancer cells. Nature Genetics 2017 October 49:1779–1784. doi:10.1038/ng.3984\n",
       "\n",
       "\n",
       "### NCBI (via https://humanmine.org)\n",
       "* Entrez gene IDs mapped to symbol, name, descrion, uniprot\n",
       "\n",
       "### Reactome\n",
       "* Entrez gene IDs mapped to Reactome pathways\n",
       "\n",
       "### MFR (http://bmbl.sdstate.edu/MFR)\n",
       "* A Machine Learning Model for measuring relatedness between a pair of genes\n",
       "\n",
       "### Jupyter (https://jupyter.org/)\n",
       "* Python programming framework for analysis prototyping and reporting\n",
       "\n",
       "### GitHub (https://github.com/)\n",
       "* Revision control for Python code\n",
       "* Reporting mechanism for analysi summary and details\n"
      ],
      "text/plain": [
       "<IPython.core.display.Markdown object>"
      ]
     },
     "metadata": {},
     "output_type": "display_data"
    }
   ],
   "source": [
    "report('''\n",
    "# Sample analysis of Cancer Dependency Map (DepMap) data \n",
    "## Request\n",
    "* Identify the most frequent genetic alterations (could be mutations or copy number variations) in the cancer cell lines\n",
    "* Match them with the best genetic dependencies that could be used for drug development for the cancers that carry those mutations\n",
    "* Take into account the lineage of cancer cell lines (certain mutations/CNVs may be restricted to a specific lineage)\n",
    "\n",
    "## Resources\n",
    "### DepMap (https://depmap.org/portal) Data \n",
    "* Cell line metadata\n",
    "* Expression (RNASeq)\n",
    "* Copy number variation\n",
    "* Mutations\n",
    "* Genetic dependency\n",
    "  * Crispr (Achilles)\n",
    "  * RNAi (DEMETER2)\n",
    "  \n",
    "<b>Citations:</b> \n",
    "* Jordan G. Bryan, John M. Krill-Burger, Thomas M. Green, Francisca Vazquez, Jesse S. Boehm, Todd R. Golub, William C. Hahn, David E. Root, Aviad Tsherniak. (2018). Improved estimation of cancer dependencies from large-scale RNAi screens using model-based normalization and data integration. Nature Communications 9, 1. https://doi.org/10.1038/s41467-018-06916-5</font>\n",
    "* DepMap, Broad (2019): DepMap 19Q3 Public. figshare. Dataset doi:10.6084/m9.figshare.9201770.v1.\n",
    "* Robin M. Meyers, Jordan G. Bryan, James M. McFarland, Barbara A. Weir, ... David E. Root, William C. Hahn, Aviad Tsherniak. Computational correction of copy number effect improves specificity of CRISPR-Cas9 essentiality screens in cancer cells. Nature Genetics 2017 October 49:1779–1784. doi:10.1038/ng.3984\n",
    "\n",
    "\n",
    "### NCBI (via https://humanmine.org)\n",
    "* Entrez gene IDs mapped to symbol, name, descrion, uniprot\n",
    "\n",
    "### Reactome\n",
    "* Entrez gene IDs mapped to Reactome pathways\n",
    "\n",
    "### MFR (http://bmbl.sdstate.edu/MFR)\n",
    "* A Machine Learning Model for measuring relatedness between a pair of genes\n",
    "\n",
    "### Jupyter (https://jupyter.org/)\n",
    "* Python programming framework for analysis prototyping and reporting\n",
    "\n",
    "### GitHub (https://github.com/)\n",
    "* Revision control for Python code\n",
    "* Reporting mechanism for analysi summary and details\n",
    "''')"
   ]
  },
  {
   "cell_type": "code",
   "execution_count": 3,
   "metadata": {},
   "outputs": [
    {
     "data": {
      "text/markdown": [
       "\n",
       "## Get gene descriptions, etc.\n",
       "Use data from humanmine (http://www.humanmine.org/) to map NCBI gene IDs to name, summary, symbol, uniprot\n"
      ],
      "text/plain": [
       "<IPython.core.display.Markdown object>"
      ]
     },
     "metadata": {},
     "output_type": "display_data"
    }
   ],
   "source": [
    "report('''\n",
    "## Get gene descriptions, etc.\n",
    "Use data from humanmine (http://www.humanmine.org/) to map NCBI gene IDs to name, summary, symbol, uniprot\n",
    "''')"
   ]
  },
  {
   "cell_type": "code",
   "execution_count": 4,
   "metadata": {},
   "outputs": [
    {
     "name": "stdout",
     "output_type": "stream",
     "text": [
      "Done mapping gene info\n"
     ]
    }
   ],
   "source": [
    "gd = get_gene_descriptions()\n",
    "sample = gd.head(2).to_html(index=False)\n",
    "sample = re.sub('The protein.+</','The protein encoded by this gene...</',sample)\n",
    "sample = re.sub('This gene encodes.+</','This gene encodes...</',sample)\n",
    "report('sample gene info:\\n'+sample,silent=True)\n",
    "ncbi2name    = {}\n",
    "ncbi2symbol  = {}\n",
    "symbol2ncbi  = {}\n",
    "ncbi2desc    = {}\n",
    "ncbi2uniprot = {}\n",
    "uniprot2ncbi = {}\n",
    "\n",
    "for i, r in gd.iterrows():\n",
    "    ncbi, symbol, name, description, uniprot = list(r)\n",
    "    ncbi = int(ncbi)\n",
    "    ncbi2name[ncbi] = name\n",
    "    ncbi2symbol[ncbi] = symbol\n",
    "    ncbi2desc[ncbi] = description\n",
    "    \n",
    "    # ncbi <-> uniprot can be 1:many\n",
    "    if ncbi2uniprot.get(ncbi) is None:\n",
    "        ncbi2uniprot[ncbi] = set()\n",
    "    ncbi2uniprot[ncbi].add(uniprot)\n",
    "    uniprot2ncbi[uniprot] = ncbi\n",
    "    \n",
    "print(\"Done mapping gene info\")"
   ]
  },
  {
   "cell_type": "code",
   "execution_count": 5,
   "metadata": {},
   "outputs": [
    {
     "data": {
      "text/markdown": [
       "\n",
       "## Aggregate CCLE cell lines by lineage\n",
       "<b>DepMap source file:</b> sample_info.csv\n",
       "* Group all cell lines (CCLE cell line IDs) by main (parent) lineage\n",
       "* If a lineage has > 1 defined sublineages, also aggregate cell lines by sublineage (eg: leukemia -> AML)\n"
      ],
      "text/plain": [
       "<IPython.core.display.Markdown object>"
      ]
     },
     "metadata": {},
     "output_type": "display_data"
    }
   ],
   "source": [
    "report('''\n",
    "## Aggregate CCLE cell lines by lineage\n",
    "<b>DepMap source file:</b> sample_info.csv\n",
    "* Group all cell lines (CCLE cell line IDs) by main (parent) lineage\n",
    "* If a lineage has > 1 defined sublineages, also aggregate cell lines by sublineage (eg: leukemia -> AML)\n",
    "''')"
   ]
  },
  {
   "cell_type": "code",
   "execution_count": 6,
   "metadata": {},
   "outputs": [
    {
     "data": {
      "text/markdown": [
       "<pre>"
      ],
      "text/plain": [
       "<IPython.core.display.Markdown object>"
      ]
     },
     "metadata": {},
     "output_type": "display_data"
    },
    {
     "data": {
      "text/markdown": [
       "Number of cell lines: 1429"
      ],
      "text/plain": [
       "<IPython.core.display.Markdown object>"
      ]
     },
     "metadata": {},
     "output_type": "display_data"
    },
    {
     "data": {
      "text/markdown": [
       "Number of lineages: 33"
      ],
      "text/plain": [
       "<IPython.core.display.Markdown object>"
      ]
     },
     "metadata": {},
     "output_type": "display_data"
    },
    {
     "data": {
      "text/markdown": [
       "Number of lineages with sub-lineages: 16"
      ],
      "text/plain": [
       "<IPython.core.display.Markdown object>"
      ]
     },
     "metadata": {},
     "output_type": "display_data"
    },
    {
     "data": {
      "text/markdown": [
       "Number of sub-lineages 61"
      ],
      "text/plain": [
       "<IPython.core.display.Markdown object>"
      ]
     },
     "metadata": {},
     "output_type": "display_data"
    },
    {
     "data": {
      "text/markdown": [
       "</pre>"
      ],
      "text/plain": [
       "<IPython.core.display.Markdown object>"
      ]
     },
     "metadata": {},
     "output_type": "display_data"
    }
   ],
   "source": [
    "sample_info = get_data('sample_info')\n",
    "lineages = set(sample_info.lineage.dropna())\n",
    "\n",
    "lineage2cell    = {}\n",
    "sublineage2cell = {}\n",
    "cell2lineage    = {}\n",
    "cell2sublineage = {}\n",
    "has_sub = set()\n",
    "is_sub = set()\n",
    "\n",
    "for l in lineages:\n",
    "    ldf = sample_info[sample_info.lineage == l]\n",
    "    subtypes = set(ldf.lineage_subtype.dropna())\n",
    "    \n",
    "    # cell lines for sublineage\n",
    "    if len(subtypes) > 1:\n",
    "        has_sub.add(l)\n",
    "        for sub in subtypes:\n",
    "            if l in sub:\n",
    "                lname = sub\n",
    "            else:\n",
    "                lname = l + '_' + sub\n",
    "\n",
    "            is_sub.add(lname)\n",
    "            sub_df = ldf[ldf.lineage_subtype == sub]\n",
    "\n",
    "            # map sublineage to cell lines\n",
    "            sublineage2cell[lname] = list(sub_df.index)\n",
    "    \n",
    "            # map cell lines to sub-lineage\n",
    "            for cell in sublineage2cell[lname]:\n",
    "                cell2sublineage[cell] = lname\n",
    "    else:\n",
    "        sublineage2cell[l] = list(ldf.index)\n",
    "        for cell in sublineage2cell[l]:\n",
    "            cell2sublineage[cell] = l\n",
    "                \n",
    "    # all cell lines for lineage\n",
    "    lineage2cell[l] = list(ldf.index)\n",
    "    \n",
    "    # parent lineage of each cell line\n",
    "    for cell in lineage2cell[l]:\n",
    "        cell2lineage[cell] = l\n",
    "    \n",
    "\n",
    "report('<pre>')\n",
    "report(\"Number of cell lines: \"+str(len(cell2lineage)))\n",
    "report(\"Number of lineages: \"+str(len(lineage2cell)))\n",
    "report(\"Number of lineages with sub-lineages: \"+str(len(has_sub)))\n",
    "report(\"Number of sub-lineages \"+str(len(is_sub)))\n",
    "report('</pre>')"
   ]
  },
  {
   "cell_type": "code",
   "execution_count": 7,
   "metadata": {},
   "outputs": [
    {
     "data": {
      "text/markdown": [
       "\n",
       "## Expression Data (RNASeq)\n",
       "RNAseq TPM gene expression data for just protein coding genes using RSEM. Log2 transformed, using a pseudo-count of 1.\n",
       "\n",
       "<b>DepMap source file:</b> CCLE_expression.csv\n",
       "* Transpose columns (gene names) and rows (CCLE cell line IDs)\n",
       "* Translate gene names to NCBI gene IDs\n",
       "* Apply BOOLEAN mask to accept log2 tpm > 0 as positive for expression\n"
      ],
      "text/plain": [
       "<IPython.core.display.Markdown object>"
      ]
     },
     "metadata": {},
     "output_type": "display_data"
    }
   ],
   "source": [
    "report('''\n",
    "## Expression Data (RNASeq)\n",
    "RNAseq TPM gene expression data for just protein coding genes using RSEM. Log2 transformed, using a pseudo-count of 1.\n",
    "\n",
    "<b>DepMap source file:</b> CCLE_expression.csv\n",
    "* Transpose columns (gene names) and rows (CCLE cell line IDs)\n",
    "* Translate gene names to NCBI gene IDs\n",
    "* Apply BOOLEAN mask to accept log2 tpm > 0 as positive for expression\n",
    "''')"
   ]
  },
  {
   "cell_type": "code",
   "execution_count": 8,
   "metadata": {},
   "outputs": [
    {
     "data": {
      "text/markdown": [
       "Sample expression data: <table border=\"1\" class=\"dataframe\">\n",
       "  <thead>\n",
       "    <tr style=\"text-align: right;\">\n",
       "      <th></th>\n",
       "      <th>ACH-001097</th>\n",
       "      <th>ACH-001485</th>\n",
       "      <th>ACH-001396</th>\n",
       "      <th>ACH-000534</th>\n",
       "      <th>ACH-000742</th>\n",
       "      <th>ACH-001818</th>\n",
       "      <th>ACH-000545</th>\n",
       "      <th>ACH-000836</th>\n",
       "      <th>ACH-001959</th>\n",
       "      <th>ACH-000470</th>\n",
       "    </tr>\n",
       "  </thead>\n",
       "  <tbody>\n",
       "    <tr>\n",
       "      <th>7105</th>\n",
       "      <td>0.000000</td>\n",
       "      <td>0.000000</td>\n",
       "      <td>2.883621</td>\n",
       "      <td>0.839960</td>\n",
       "      <td>3.722466</td>\n",
       "      <td>4.032982</td>\n",
       "      <td>4.251719</td>\n",
       "      <td>4.632268</td>\n",
       "      <td>3.321928</td>\n",
       "      <td>3.681449</td>\n",
       "    </tr>\n",
       "    <tr>\n",
       "      <th>64102</th>\n",
       "      <td>0.000000</td>\n",
       "      <td>0.000000</td>\n",
       "      <td>0.000000</td>\n",
       "      <td>0.000000</td>\n",
       "      <td>0.000000</td>\n",
       "      <td>0.000000</td>\n",
       "      <td>0.000000</td>\n",
       "      <td>0.000000</td>\n",
       "      <td>0.000000</td>\n",
       "      <td>0.000000</td>\n",
       "    </tr>\n",
       "    <tr>\n",
       "      <th>8813</th>\n",
       "      <td>4.667324</td>\n",
       "      <td>5.755689</td>\n",
       "      <td>4.471838</td>\n",
       "      <td>5.376082</td>\n",
       "      <td>6.029674</td>\n",
       "      <td>5.933100</td>\n",
       "      <td>5.651052</td>\n",
       "      <td>6.704180</td>\n",
       "      <td>7.357288</td>\n",
       "      <td>7.294896</td>\n",
       "    </tr>\n",
       "  </tbody>\n",
       "</table>"
      ],
      "text/plain": [
       "<IPython.core.display.Markdown object>"
      ]
     },
     "metadata": {},
     "output_type": "display_data"
    },
    {
     "data": {
      "text/markdown": [
       "<br>Sample masked expression: <table border=\"1\" class=\"dataframe\">\n",
       "  <thead>\n",
       "    <tr style=\"text-align: right;\">\n",
       "      <th></th>\n",
       "      <th>ACH-001097</th>\n",
       "      <th>ACH-001485</th>\n",
       "      <th>ACH-001396</th>\n",
       "      <th>ACH-000534</th>\n",
       "      <th>ACH-000742</th>\n",
       "      <th>ACH-001818</th>\n",
       "      <th>ACH-000545</th>\n",
       "      <th>ACH-000836</th>\n",
       "      <th>ACH-001959</th>\n",
       "      <th>ACH-000470</th>\n",
       "    </tr>\n",
       "  </thead>\n",
       "  <tbody>\n",
       "    <tr>\n",
       "      <th>7105</th>\n",
       "      <td>False</td>\n",
       "      <td>False</td>\n",
       "      <td>True</td>\n",
       "      <td>True</td>\n",
       "      <td>True</td>\n",
       "      <td>True</td>\n",
       "      <td>True</td>\n",
       "      <td>True</td>\n",
       "      <td>True</td>\n",
       "      <td>True</td>\n",
       "    </tr>\n",
       "    <tr>\n",
       "      <th>64102</th>\n",
       "      <td>False</td>\n",
       "      <td>False</td>\n",
       "      <td>False</td>\n",
       "      <td>False</td>\n",
       "      <td>False</td>\n",
       "      <td>False</td>\n",
       "      <td>False</td>\n",
       "      <td>False</td>\n",
       "      <td>False</td>\n",
       "      <td>False</td>\n",
       "    </tr>\n",
       "    <tr>\n",
       "      <th>8813</th>\n",
       "      <td>True</td>\n",
       "      <td>True</td>\n",
       "      <td>True</td>\n",
       "      <td>True</td>\n",
       "      <td>True</td>\n",
       "      <td>True</td>\n",
       "      <td>True</td>\n",
       "      <td>True</td>\n",
       "      <td>True</td>\n",
       "      <td>True</td>\n",
       "    </tr>\n",
       "  </tbody>\n",
       "</table>"
      ],
      "text/plain": [
       "<IPython.core.display.Markdown object>"
      ]
     },
     "metadata": {},
     "output_type": "display_data"
    }
   ],
   "source": [
    "exp = get_data('expression').T\n",
    "exp.index = ncbi_gene_ids(list(exp.index))\n",
    "report('Sample expression data: '+exp.iloc[:3,:10].to_html())\n",
    "exp_masked = exp > 0\n",
    "report('<br>Sample masked expression: '+exp_masked.iloc[:3,:10].to_html())"
   ]
  },
  {
   "cell_type": "code",
   "execution_count": 9,
   "metadata": {},
   "outputs": [
    {
     "data": {
      "text/markdown": [
       "\n",
       "## Mutation Data \n",
       "<b>DepMap source file:</b> CCLE_mutations.csv\n",
       "* Keep track of TCGA and COSMIC hotspot genes by lineage\n",
       "* Just using hotspot genes for now but track deleterious mutations by lineage for future reference\n"
      ],
      "text/plain": [
       "<IPython.core.display.Markdown object>"
      ]
     },
     "metadata": {},
     "output_type": "display_data"
    }
   ],
   "source": [
    "report('''\n",
    "## Mutation Data \n",
    "<b>DepMap source file:</b> CCLE_mutations.csv\n",
    "* Keep track of TCGA and COSMIC hotspot genes by lineage\n",
    "* Just using hotspot genes for now but track deleterious mutations by lineage for future reference\n",
    "''')"
   ]
  },
  {
   "cell_type": "code",
   "execution_count": 10,
   "metadata": {},
   "outputs": [],
   "source": [
    "mutations = get_data('mutations')"
   ]
  },
  {
   "cell_type": "code",
   "execution_count": 11,
   "metadata": {},
   "outputs": [
    {
     "name": "stdout",
     "output_type": "stream",
     "text": [
      "Done mapping hotspots\n"
     ]
    },
    {
     "data": {
      "text/markdown": [
       "8704 TCGA or COSMIC hotspot genes"
      ],
      "text/plain": [
       "<IPython.core.display.Markdown object>"
      ]
     },
     "metadata": {},
     "output_type": "display_data"
    }
   ],
   "source": [
    "# Filter hotspot genes\n",
    "hotspots = []\n",
    "hotspots.append(mutations[mutations.isTCGAhotspot])\n",
    "hotspots.append(mutations[mutations.isCOSMIChotspot])\n",
    "hotspots = pd.concat(hotspots).drop_duplicates()\n",
    "\n",
    "hotspot_genes = set(hotspots.Entrez_Gene_Id)\n",
    "\n",
    "lineage_hotspots = {}\n",
    "sublineage_hotspots = {}\n",
    "\n",
    "for g in hotspot_genes:\n",
    "    lineage_hotspots[g] = {}\n",
    "    sublineage_hotspots[g] = {}\n",
    "    \n",
    "    gdf = hotspots[hotspots.Entrez_Gene_Id == g]\n",
    "    \n",
    "    for i, r in gdf.iterrows():\n",
    "        cell = r.DepMap_ID\n",
    "        if cell2lineage.get(cell) is not None:\n",
    "            lineage = cell2lineage[cell]\n",
    "            if lineage_hotspots[g].get(lineage) is None:\n",
    "                lineage_hotspots[g][lineage] = 0\n",
    "            lineage_hotspots[g][lineage] += 1\n",
    "            \n",
    "        if cell2sublineage.get(cell) is not None:\n",
    "            sublineage = cell2sublineage[cell]\n",
    "            if sublineage_hotspots[g].get(sublineage) is None:\n",
    "                sublineage_hotspots[g][sublineage] = 0\n",
    "            sublineage_hotspots[g][sublineage] += 1\n",
    "            \n",
    "print(\"Done mapping hotspots\")\n",
    "report(str(len(hotspot_genes))+' TCGA or COSMIC hotspot genes')"
   ]
  },
  {
   "cell_type": "code",
   "execution_count": 12,
   "metadata": {},
   "outputs": [
    {
     "name": "stdout",
     "output_type": "stream",
     "text": [
      "Done mapping deleterious mutations\n"
     ]
    }
   ],
   "source": [
    "# Filter deleterious mutations\n",
    "damaging = mutations[mutations.Variant_annotation.isin(['damaging','non-conserving'])]\n",
    "damaging = damaging[damaging.isDeleterious == True]\n",
    "genes = set(hotspots.Entrez_Gene_Id)\n",
    "\n",
    "\n",
    "genes = set(damaging.Entrez_Gene_Id)\n",
    "\n",
    "lineage_mutations = {}\n",
    "sublineage_mutations = {}\n",
    "\n",
    "for g in genes:\n",
    "    lineage_mutations[g] = {}\n",
    "    sublineage_mutations[g] = {}\n",
    "    \n",
    "    gdf = damaging[damaging.Entrez_Gene_Id == g]\n",
    "    \n",
    "    for i, r in gdf.iterrows():\n",
    "        cell = r.DepMap_ID\n",
    "        if cell2lineage.get(cell) is not None:\n",
    "            lineage = cell2lineage[cell]\n",
    "            if lineage_mutations[g].get(lineage) is None:\n",
    "                lineage_mutations[g][lineage] = 0\n",
    "            lineage_mutations[g][lineage] += 1\n",
    "            \n",
    "        if cell2sublineage.get(cell) is not None:\n",
    "            sublineage = cell2sublineage[cell]\n",
    "            if sublineage_mutations[g].get(sublineage) is None:\n",
    "                sublineage_mutations[g][sublineage] = 0\n",
    "            sublineage_mutations[g][sublineage] += 1\n",
    "            \n",
    "print(\"Done mapping deleterious mutations\")"
   ]
  },
  {
   "cell_type": "code",
   "execution_count": 21,
   "metadata": {},
   "outputs": [
    {
     "data": {
      "text/markdown": [
       "\n",
       "## Copy number data\n",
       "Gene level copy number data, log2 transformed with a pseudo count of 1. This is generated by mapping genes onto the segment level calls.\n",
       "\n",
       "<b>Depmap source file:</b> CCLE_gene_cn_v2.csv\n",
       "\n",
       "* Transpose columns (gene names) and rows (CCLE cell line IDs)\n",
       "* Translate gene names to NCBI gene IDs\n"
      ],
      "text/plain": [
       "<IPython.core.display.Markdown object>"
      ]
     },
     "metadata": {},
     "output_type": "display_data"
    }
   ],
   "source": [
    "report('''\n",
    "## Copy number data\n",
    "Gene level copy number data, log2 transformed with a pseudo count of 1. This is generated by mapping genes onto the segment level calls.\n",
    "\n",
    "<b>Depmap source file:</b> CCLE_gene_cn_v2.csv\n",
    "\n",
    "* Transpose columns (gene names) and rows (CCLE cell line IDs)\n",
    "* Translate gene names to NCBI gene IDs\n",
    "''')\n"
   ]
  },
  {
   "cell_type": "code",
   "execution_count": 52,
   "metadata": {},
   "outputs": [
    {
     "data": {
      "text/markdown": [
       "Sample copy number data: <table border=\"1\" class=\"dataframe\">\n",
       "  <thead>\n",
       "    <tr style=\"text-align: right;\">\n",
       "      <th></th>\n",
       "      <th>ACH-001793</th>\n",
       "      <th>ACH-002176</th>\n",
       "      <th>ACH-000652</th>\n",
       "      <th>ACH-001295</th>\n",
       "      <th>ACH-000798</th>\n",
       "      <th>ACH-001399</th>\n",
       "      <th>ACH-000111</th>\n",
       "      <th>ACH-002358</th>\n",
       "      <th>ACH-000367</th>\n",
       "      <th>ACH-000584</th>\n",
       "    </tr>\n",
       "  </thead>\n",
       "  <tbody>\n",
       "    <tr>\n",
       "      <th>1</th>\n",
       "      <td>1.086422</td>\n",
       "      <td>1.526188</td>\n",
       "      <td>0.776609</td>\n",
       "      <td>0.964857</td>\n",
       "      <td>0.986651</td>\n",
       "      <td>1.097441</td>\n",
       "      <td>1.577719</td>\n",
       "      <td>0.990491</td>\n",
       "      <td>0.972714</td>\n",
       "      <td>1.232228</td>\n",
       "    </tr>\n",
       "    <tr>\n",
       "      <th>10</th>\n",
       "      <td>1.103066</td>\n",
       "      <td>1.044267</td>\n",
       "      <td>0.520576</td>\n",
       "      <td>1.001427</td>\n",
       "      <td>0.974178</td>\n",
       "      <td>0.775405</td>\n",
       "      <td>1.209647</td>\n",
       "      <td>1.001602</td>\n",
       "      <td>0.564791</td>\n",
       "      <td>0.379099</td>\n",
       "    </tr>\n",
       "    <tr>\n",
       "      <th>100</th>\n",
       "      <td>0.910926</td>\n",
       "      <td>1.089161</td>\n",
       "      <td>1.555780</td>\n",
       "      <td>1.010086</td>\n",
       "      <td>0.987801</td>\n",
       "      <td>1.877675</td>\n",
       "      <td>0.826138</td>\n",
       "      <td>0.999580</td>\n",
       "      <td>1.128533</td>\n",
       "      <td>1.254932</td>\n",
       "    </tr>\n",
       "  </tbody>\n",
       "</table>"
      ],
      "text/plain": [
       "<IPython.core.display.Markdown object>"
      ]
     },
     "metadata": {},
     "output_type": "display_data"
    },
    {
     "data": {
      "text/markdown": [
       "Samlpe copy number data descritive stats: <table border=\"1\" class=\"dataframe\">\n",
       "  <thead>\n",
       "    <tr style=\"text-align: right;\">\n",
       "      <th></th>\n",
       "      <th>ACH-001793</th>\n",
       "      <th>ACH-002176</th>\n",
       "      <th>ACH-000652</th>\n",
       "      <th>ACH-001295</th>\n",
       "      <th>ACH-000798</th>\n",
       "      <th>ACH-001399</th>\n",
       "      <th>ACH-000111</th>\n",
       "      <th>ACH-002358</th>\n",
       "      <th>ACH-000367</th>\n",
       "      <th>ACH-000584</th>\n",
       "    </tr>\n",
       "  </thead>\n",
       "  <tbody>\n",
       "    <tr>\n",
       "      <th>count</th>\n",
       "      <td>27639.000000</td>\n",
       "      <td>2.763900e+04</td>\n",
       "      <td>2.763900e+04</td>\n",
       "      <td>2.763900e+04</td>\n",
       "      <td>27639.000000</td>\n",
       "      <td>27639.000000</td>\n",
       "      <td>2.763900e+04</td>\n",
       "      <td>27639.000000</td>\n",
       "      <td>2.763900e+04</td>\n",
       "      <td>27639.000000</td>\n",
       "    </tr>\n",
       "    <tr>\n",
       "      <th>mean</th>\n",
       "      <td>1.098416</td>\n",
       "      <td>1.005611e+00</td>\n",
       "      <td>9.739989e-01</td>\n",
       "      <td>1.061859e+00</td>\n",
       "      <td>1.019288</td>\n",
       "      <td>1.057222</td>\n",
       "      <td>1.127191e+00</td>\n",
       "      <td>0.980485</td>\n",
       "      <td>9.532559e-01</td>\n",
       "      <td>1.057527</td>\n",
       "    </tr>\n",
       "    <tr>\n",
       "      <th>std</th>\n",
       "      <td>1.119507</td>\n",
       "      <td>3.482645e-01</td>\n",
       "      <td>2.416796e-01</td>\n",
       "      <td>6.685549e-01</td>\n",
       "      <td>0.123101</td>\n",
       "      <td>0.306522</td>\n",
       "      <td>3.919352e-01</td>\n",
       "      <td>0.092264</td>\n",
       "      <td>2.693422e-01</td>\n",
       "      <td>0.366487</td>\n",
       "    </tr>\n",
       "    <tr>\n",
       "      <th>min</th>\n",
       "      <td>0.171960</td>\n",
       "      <td>7.998209e-10</td>\n",
       "      <td>8.220704e-10</td>\n",
       "      <td>7.984062e-10</td>\n",
       "      <td>0.000036</td>\n",
       "      <td>0.000020</td>\n",
       "      <td>1.102449e-09</td>\n",
       "      <td>0.000021</td>\n",
       "      <td>8.282854e-10</td>\n",
       "      <td>0.000009</td>\n",
       "    </tr>\n",
       "    <tr>\n",
       "      <th>25%</th>\n",
       "      <td>0.889299</td>\n",
       "      <td>7.318536e-01</td>\n",
       "      <td>7.900758e-01</td>\n",
       "      <td>9.845272e-01</td>\n",
       "      <td>0.982870</td>\n",
       "      <td>0.812673</td>\n",
       "      <td>8.295737e-01</td>\n",
       "      <td>0.993549</td>\n",
       "      <td>6.015790e-01</td>\n",
       "      <td>0.700131</td>\n",
       "    </tr>\n",
       "    <tr>\n",
       "      <th>50%</th>\n",
       "      <td>1.053484</td>\n",
       "      <td>1.045336e+00</td>\n",
       "      <td>1.027553e+00</td>\n",
       "      <td>9.942944e-01</td>\n",
       "      <td>0.986097</td>\n",
       "      <td>1.003401</td>\n",
       "      <td>9.373404e-01</td>\n",
       "      <td>0.999580</td>\n",
       "      <td>1.056217e+00</td>\n",
       "      <td>0.990265</td>\n",
       "    </tr>\n",
       "    <tr>\n",
       "      <th>75%</th>\n",
       "      <td>1.113955</td>\n",
       "      <td>1.111985e+00</td>\n",
       "      <td>1.068509e+00</td>\n",
       "      <td>1.002200e+00</td>\n",
       "      <td>0.989550</td>\n",
       "      <td>1.120454</td>\n",
       "      <td>1.321072e+00</td>\n",
       "      <td>1.002886</td>\n",
       "      <td>1.131187e+00</td>\n",
       "      <td>1.262886</td>\n",
       "    </tr>\n",
       "    <tr>\n",
       "      <th>max</th>\n",
       "      <td>35.734800</td>\n",
       "      <td>4.952679e+00</td>\n",
       "      <td>4.804283e+00</td>\n",
       "      <td>3.963217e+01</td>\n",
       "      <td>1.462469</td>\n",
       "      <td>3.217691</td>\n",
       "      <td>3.229879e+00</td>\n",
       "      <td>1.006658</td>\n",
       "      <td>1.729972e+00</td>\n",
       "      <td>3.354475</td>\n",
       "    </tr>\n",
       "  </tbody>\n",
       "</table>"
      ],
      "text/plain": [
       "<IPython.core.display.Markdown object>"
      ]
     },
     "metadata": {},
     "output_type": "display_data"
    }
   ],
   "source": [
    "cn = get_data('copy_number')\n",
    "cn.columns = ncbi_gene_ids(list(cn.columns))\n",
    "\n",
    "# cn.columns = ncbi_gene_ids(list(cn.columns))\n",
    "# print(cn.shape)\n",
    "# keep_genes = []\n",
    "# for g in cn.columns:\n",
    "#     if g in hotspot_genes:\n",
    "#         keep_genes.append(g)\n",
    "# cn = cn[keep_genes]\n",
    "# print(cn.shape)\n",
    "cn = cn.T\n",
    "report('Sample copy number data: '+cn.iloc[:3,:10].to_html())\n",
    "report('Samlpe copy number data descritive stats: '+cn.iloc[:,:10].describe().to_html())"
   ]
  },
  {
   "cell_type": "code",
   "execution_count": 88,
   "metadata": {},
   "outputs": [
    {
     "data": {
      "text/markdown": [
       "\n",
       "### Sanity checking with ERBB2 (2064)\n",
       "Evaluating breast cancer lineages where at least one cell line had copy number > 2:\n",
       "* Is ERB2B in the hotspot gene set?\n",
       "* We expect ERBB2 to have high copy number in breast cancer lineages\n",
       "  ** What is the mean ERB2B copy number in breast cancers?\n",
       "* The gene dependency score should be < 0\n",
       "  ** What is the mean gene dependency score in breast cancers?\n"
      ],
      "text/plain": [
       "<IPython.core.display.Markdown object>"
      ]
     },
     "metadata": {},
     "output_type": "display_data"
    }
   ],
   "source": [
    "report('''\n",
    "### Sanity checking with ERBB2 (2064)\n",
    "Evaluating breast cancer lineages where at least one cell line had copy number > 2:\n",
    "* Is ERB2B in the hotspot gene set?\n",
    "* We expect ERBB2 to have high copy number in breast cancer lineages\n",
    "  ** What is the mean ERB2B copy number in breast cancers?\n",
    "* The gene dependency score should be < 0\n",
    "  ** What is the mean gene dependency score in breast cancers?\n",
    "''')"
   ]
  },
  {
   "cell_type": "code",
   "execution_count": 59,
   "metadata": {},
   "outputs": [
    {
     "data": {
      "text/markdown": [
       "\n",
       "## Search for high copy number genes in each of the lineages\n",
       "* Seleting genes with copy number > 2 in <b><i>all</i></b> cell lines is a lineage is a bit too stringent\n",
       "* Retain genes that have copy number >= 2 in 80% or more cell lines in a lineage\n",
       "* If there are >10 high copy number genes for a lineage, select the ten highest\n"
      ],
      "text/plain": [
       "<IPython.core.display.Markdown object>"
      ]
     },
     "metadata": {},
     "output_type": "display_data"
    }
   ],
   "source": [
    "report('''\n",
    "## Search for high copy number genes in each of the lineages\n",
    "* Seleting genes with copy number > 2 in <b><i>all</i></b> cell lines is a lineage is a bit too stringent\n",
    "* Retain genes that have copy number >= 2 in 80% or more cell lines in a lineage\n",
    "* If there are >10 high copy number genes for a lineage, select the ten highest\n",
    "''')"
   ]
  },
  {
   "cell_type": "code",
   "execution_count": 60,
   "metadata": {},
   "outputs": [
    {
     "data": {
      "text/markdown": [
       "<pre>"
      ],
      "text/plain": [
       "<IPython.core.display.Markdown object>"
      ]
     },
     "metadata": {},
     "output_type": "display_data"
    },
    {
     "data": {
      "text/markdown": [
       "soft_tissue_sarcoma_undifferentiated; 2 cell lines; 164 high copy number genes"
      ],
      "text/plain": [
       "<IPython.core.display.Markdown object>"
      ]
     },
     "metadata": {},
     "output_type": "display_data"
    },
    {
     "data": {
      "text/markdown": [
       "soft_tissue_fibrosarcoma; 1 cell lines; 2 high copy number genes"
      ],
      "text/plain": [
       "<IPython.core.display.Markdown object>"
      ]
     },
     "metadata": {},
     "output_type": "display_data"
    },
    {
     "data": {
      "text/markdown": [
       "soft_tissue_epitheliod_sarcoma; 2 cell lines; 2 high copy number genes"
      ],
      "text/plain": [
       "<IPython.core.display.Markdown object>"
      ]
     },
     "metadata": {},
     "output_type": "display_data"
    },
    {
     "data": {
      "text/markdown": [
       "soft_tissue_liposarcoma; 5 cell lines; 44 high copy number genes"
      ],
      "text/plain": [
       "<IPython.core.display.Markdown object>"
      ]
     },
     "metadata": {},
     "output_type": "display_data"
    },
    {
     "data": {
      "text/markdown": [
       "eye_uveal_melanoma; 5 cell lines; 1016 high copy number genes"
      ],
      "text/plain": [
       "<IPython.core.display.Markdown object>"
      ]
     },
     "metadata": {},
     "output_type": "display_data"
    },
    {
     "data": {
      "text/markdown": [
       "ovary_immortalized; 1 cell lines; 9 high copy number genes"
      ],
      "text/plain": [
       "<IPython.core.display.Markdown object>"
      ]
     },
     "metadata": {},
     "output_type": "display_data"
    },
    {
     "data": {
      "text/markdown": [
       "adrenal_cortex; 1 cell lines; 200 high copy number genes"
      ],
      "text/plain": [
       "<IPython.core.display.Markdown object>"
      ]
     },
     "metadata": {},
     "output_type": "display_data"
    },
    {
     "data": {
      "text/markdown": [
       "peripheral_nervous_system_PNET; 1 cell lines; 22 high copy number genes"
      ],
      "text/plain": [
       "<IPython.core.display.Markdown object>"
      ]
     },
     "metadata": {},
     "output_type": "display_data"
    },
    {
     "data": {
      "text/markdown": [
       "breast_immortalized; 2 cell lines; 8 high copy number genes"
      ],
      "text/plain": [
       "<IPython.core.display.Markdown object>"
      ]
     },
     "metadata": {},
     "output_type": "display_data"
    },
    {
     "data": {
      "text/markdown": [
       "breast_ERneg; 1 cell lines; 960 high copy number genes"
      ],
      "text/plain": [
       "<IPython.core.display.Markdown object>"
      ]
     },
     "metadata": {},
     "output_type": "display_data"
    },
    {
     "data": {
      "text/markdown": [
       "breast_HER2Amp; 13 cell lines; 11 high copy number genes"
      ],
      "text/plain": [
       "<IPython.core.display.Markdown object>"
      ]
     },
     "metadata": {},
     "output_type": "display_data"
    },
    {
     "data": {
      "text/markdown": [
       "bone_chordoma; 4 cell lines; 11 high copy number genes"
      ],
      "text/plain": [
       "<IPython.core.display.Markdown object>"
      ]
     },
     "metadata": {},
     "output_type": "display_data"
    },
    {
     "data": {
      "text/markdown": [
       "central_nervous_system_immortalized; 1 cell lines; 26 high copy number genes"
      ],
      "text/plain": [
       "<IPython.core.display.Markdown object>"
      ]
     },
     "metadata": {},
     "output_type": "display_data"
    },
    {
     "data": {
      "text/markdown": [
       "central_nervous_system_PNET; 1 cell lines; 2 high copy number genes"
      ],
      "text/plain": [
       "<IPython.core.display.Markdown object>"
      ]
     },
     "metadata": {},
     "output_type": "display_data"
    },
    {
     "data": {
      "text/markdown": [
       "esophagus_adenocarcinoma; 7 cell lines; 7 high copy number genes"
      ],
      "text/plain": [
       "<IPython.core.display.Markdown object>"
      ]
     },
     "metadata": {},
     "output_type": "display_data"
    },
    {
     "data": {
      "text/markdown": [
       "gastric_adenosquamous; 1 cell lines; 508 high copy number genes"
      ],
      "text/plain": [
       "<IPython.core.display.Markdown object>"
      ]
     },
     "metadata": {},
     "output_type": "display_data"
    },
    {
     "data": {
      "text/markdown": [
       "skin_squamous; 3 cell lines; 251 high copy number genes"
      ],
      "text/plain": [
       "<IPython.core.display.Markdown object>"
      ]
     },
     "metadata": {},
     "output_type": "display_data"
    },
    {
     "data": {
      "text/markdown": [
       "skin_epidermoid_carcinoma; 1 cell lines; 234 high copy number genes"
      ],
      "text/plain": [
       "<IPython.core.display.Markdown object>"
      ]
     },
     "metadata": {},
     "output_type": "display_data"
    },
    {
     "data": {
      "text/markdown": [
       "lymphoblastic_lymphoma; 1 cell lines; 311 high copy number genes"
      ],
      "text/plain": [
       "<IPython.core.display.Markdown object>"
      ]
     },
     "metadata": {},
     "output_type": "display_data"
    },
    {
     "data": {
      "text/markdown": [
       "lung_immortalized; 1 cell lines; 6 high copy number genes"
      ],
      "text/plain": [
       "<IPython.core.display.Markdown object>"
      ]
     },
     "metadata": {},
     "output_type": "display_data"
    },
    {
     "data": {
      "text/markdown": [
       "upper_aerodigestive_buccal_mucosa; 1 cell lines; 592 high copy number genes"
      ],
      "text/plain": [
       "<IPython.core.display.Markdown object>"
      ]
     },
     "metadata": {},
     "output_type": "display_data"
    },
    {
     "data": {
      "text/markdown": [
       "</pre>"
      ],
      "text/plain": [
       "<IPython.core.display.Markdown object>"
      ]
     },
     "metadata": {},
     "output_type": "display_data"
    }
   ],
   "source": [
    "# for each cell line, get all of the genes with copy number > 2\n",
    "keep_common_genes = []\n",
    "keep_common_cells = []\n",
    "keep_lineage = set()\n",
    "\n",
    "report('<pre>')\n",
    "for sublin in sublineage2cell:\n",
    "    cells = sublineage2cell[sublin]\n",
    "    #print(sublin,len(cells))\n",
    "    \n",
    "    best = {}\n",
    "    for cell in cells:\n",
    "        try:\n",
    "            cdf = cn[cell]\n",
    "            cdf = cdf[cdf >= 2]\n",
    "            best[cell] = set(cdf.index)\n",
    "        except Exception as e:\n",
    "            #print('Error',e)\n",
    "            continue\n",
    "            \n",
    "    \n",
    "    best_genes = list(best.values())\n",
    "    set1 = best_genes.pop()\n",
    "    all_genes = set1.union(*best_genes)\n",
    "\n",
    "    total = len(best_genes) + 1\n",
    "    common_genes = []\n",
    "    for g in all_genes:\n",
    "        gcount = 0\n",
    "        for gset in [set1,*best_genes]:\n",
    "            if g in gset:\n",
    "                gcount += 1\n",
    "        if gcount / total >= 0.8:\n",
    "            common_genes.append(g)\n",
    "        \n",
    "        \n",
    "    keep_common_genes.extend(common_genes)\n",
    "    common_symbols = [ncbi2symbol.get(g) for g in common_genes]\n",
    "    if len(common_genes) > 0:\n",
    "        keep_lineage.add(sublin)\n",
    "        keep_common_cells.extend(cells)\n",
    "        report(sublin+'; '+str(len(cells))+' cell lines; '+str(len(common_genes))+' high copy number genes')\n",
    "report('</pre>')\n",
    "\n",
    "keep_common_genes = set(keep_common_genes)\n",
    "keep_common_cells = set(keep_common_cells)"
   ]
  },
  {
   "cell_type": "code",
   "execution_count": 28,
   "metadata": {},
   "outputs": [
    {
     "data": {
      "text/markdown": [
       "\n",
       "## DEMETER2 RNAi gene dependency data\n",
       "Cancer cell line genetic dependencies estimated using the DEMETER2 model. DEMETER2 is applied to three large-scale RNAi screening datasets: the Broad Institute Project Achilles, Novartis Project DRIVE, and the Marcotte et al. breast cell line dataset. The model is also applied to generate a combined dataset of gene dependencies covering a total of 712 unique cancer cell lines.\n",
       "\n",
       "<b>DepMap source file:</b> D2_combined_gene_dep_scores.csv \n",
       "\n",
       "* Data source uses CCLE names rather than DepMap cell line IDS\n",
       "* Translate the cell line names to IDS for consistency with other data sources\n",
       "* Also deal with rows in the table with multiple gene names (eg 'GTF2IP4&GTF2IP1 (100093631&2970)')\n"
      ],
      "text/plain": [
       "<IPython.core.display.Markdown object>"
      ]
     },
     "metadata": {},
     "output_type": "display_data"
    }
   ],
   "source": [
    "report('''\n",
    "## DEMETER2 RNAi gene dependency data\n",
    "Cancer cell line genetic dependencies estimated using the DEMETER2 model. DEMETER2 is applied to three large-scale RNAi screening datasets: the Broad Institute Project Achilles, Novartis Project DRIVE, and the Marcotte et al. breast cell line dataset. The model is also applied to generate a combined dataset of gene dependencies covering a total of 712 unique cancer cell lines.\n",
    "\n",
    "<b>DepMap source file:</b> D2_combined_gene_dep_scores.csv \n",
    "\n",
    "* Data source uses CCLE names rather than DepMap cell line IDS\n",
    "* Translate the cell line names to IDS for consistency with other data sources\n",
    "* Also deal with rows in the table with multiple gene names (eg 'GTF2IP4&GTF2IP1 (100093631&2970)')\n",
    "''')"
   ]
  },
  {
   "cell_type": "code",
   "execution_count": 14,
   "metadata": {},
   "outputs": [
    {
     "name": "stdout",
     "output_type": "stream",
     "text": [
      "Initial number of rows in dataframe: 17309\n",
      "Splitting multigene rows...\n",
      "Final number of rows in dataframe: 17731\n"
     ]
    }
   ],
   "source": [
    "# Ingest data\n",
    "d2 = get_data('d2_rnai')\n",
    "print(\"Initial number of rows in dataframe:\",d2.shape[0])\n",
    "# split rows with multuple genes\n",
    "cols = ['gene'] + list(d2.columns)\n",
    "rows = []\n",
    "\n",
    "print(\"Splitting multigene rows...\")\n",
    "for i, r in d2.iterrows():\n",
    "    if '&' in i:\n",
    "        symbols, ncbi = i.split(' ')\n",
    "        symbols = symbols.split('&')\n",
    "        ncbi = re.sub('\\(|\\)','',ncbi)\n",
    "        ncbi = ncbi.split('&')\n",
    "        assert len(symbols) == len(ncbi), \"Length mismatch\"\n",
    "        for s, symbol in enumerate(symbols):\n",
    "            gid = ncbi[s]\n",
    "            row = [symbol+' ('+gid+')'] + list(r)\n",
    "            rows.append(row)\n",
    "    else:\n",
    "        rows.append([i]+list(r))\n",
    "d2 = pd.DataFrame(data=rows,columns=cols).set_index('gene')\n",
    "print(\"Final number of rows in dataframe:\",d2.shape[0])"
   ]
  },
  {
   "cell_type": "code",
   "execution_count": 31,
   "metadata": {},
   "outputs": [
    {
     "name": "stdout",
     "output_type": "stream",
     "text": [
      "17731 genes\n",
      "712 cell lines\n"
     ]
    },
    {
     "data": {
      "text/html": [
       "<div>\n",
       "<style scoped>\n",
       "    .dataframe tbody tr th:only-of-type {\n",
       "        vertical-align: middle;\n",
       "    }\n",
       "\n",
       "    .dataframe tbody tr th {\n",
       "        vertical-align: top;\n",
       "    }\n",
       "\n",
       "    .dataframe thead th {\n",
       "        text-align: right;\n",
       "    }\n",
       "</style>\n",
       "<table border=\"1\" class=\"dataframe\">\n",
       "  <thead>\n",
       "    <tr style=\"text-align: right;\">\n",
       "      <th></th>\n",
       "      <th>ACH-001270</th>\n",
       "      <th>ACH-001000</th>\n",
       "      <th>ACH-001001</th>\n",
       "      <th>ACH-002319</th>\n",
       "      <th>ACH-001827</th>\n",
       "      <th>ACH-000956</th>\n",
       "      <th>ACH-000948</th>\n",
       "      <th>ACH-002320</th>\n",
       "      <th>ACH-000070</th>\n",
       "      <th>ACH-000411</th>\n",
       "      <th>...</th>\n",
       "      <th>ACH-000899</th>\n",
       "      <th>ACH-000765</th>\n",
       "      <th>ACH-000534</th>\n",
       "      <th>ACH-000762</th>\n",
       "      <th>ACH-000630</th>\n",
       "      <th>ACH-000570</th>\n",
       "      <th>ACH-001249</th>\n",
       "      <th>ACH-000097</th>\n",
       "      <th>ACH-000828</th>\n",
       "      <th>ACH-002331</th>\n",
       "    </tr>\n",
       "  </thead>\n",
       "  <tbody>\n",
       "    <tr>\n",
       "      <td>1</td>\n",
       "      <td>NaN</td>\n",
       "      <td>NaN</td>\n",
       "      <td>0.146042</td>\n",
       "      <td>-0.190388</td>\n",
       "      <td>0.907063</td>\n",
       "      <td>-0.019331</td>\n",
       "      <td>-0.016734</td>\n",
       "      <td>0.091580</td>\n",
       "      <td>0.035023</td>\n",
       "      <td>-0.122046</td>\n",
       "      <td>...</td>\n",
       "      <td>-0.088267</td>\n",
       "      <td>0.002171</td>\n",
       "      <td>NaN</td>\n",
       "      <td>0.120294</td>\n",
       "      <td>0.012540</td>\n",
       "      <td>0.111530</td>\n",
       "      <td>NaN</td>\n",
       "      <td>-0.079313</td>\n",
       "      <td>-0.141559</td>\n",
       "      <td>0.214268</td>\n",
       "    </tr>\n",
       "    <tr>\n",
       "      <td>10</td>\n",
       "      <td>NaN</td>\n",
       "      <td>NaN</td>\n",
       "      <td>0.102854</td>\n",
       "      <td>0.384106</td>\n",
       "      <td>0.403192</td>\n",
       "      <td>0.001925</td>\n",
       "      <td>-0.153933</td>\n",
       "      <td>-0.317969</td>\n",
       "      <td>0.012341</td>\n",
       "      <td>-0.205077</td>\n",
       "      <td>...</td>\n",
       "      <td>-0.003747</td>\n",
       "      <td>-0.321445</td>\n",
       "      <td>NaN</td>\n",
       "      <td>-0.003256</td>\n",
       "      <td>-0.220472</td>\n",
       "      <td>0.073460</td>\n",
       "      <td>NaN</td>\n",
       "      <td>-0.130921</td>\n",
       "      <td>0.127358</td>\n",
       "      <td>-0.405974</td>\n",
       "    </tr>\n",
       "    <tr>\n",
       "      <td>100</td>\n",
       "      <td>NaN</td>\n",
       "      <td>NaN</td>\n",
       "      <td>0.168839</td>\n",
       "      <td>-0.120700</td>\n",
       "      <td>0.004394</td>\n",
       "      <td>-0.188700</td>\n",
       "      <td>-0.060818</td>\n",
       "      <td>-0.755058</td>\n",
       "      <td>0.129770</td>\n",
       "      <td>0.076273</td>\n",
       "      <td>...</td>\n",
       "      <td>-0.014085</td>\n",
       "      <td>0.039679</td>\n",
       "      <td>NaN</td>\n",
       "      <td>0.076521</td>\n",
       "      <td>0.106995</td>\n",
       "      <td>0.227977</td>\n",
       "      <td>NaN</td>\n",
       "      <td>-0.134479</td>\n",
       "      <td>0.083506</td>\n",
       "      <td>-0.404291</td>\n",
       "    </tr>\n",
       "    <tr>\n",
       "      <td>1000</td>\n",
       "      <td>-0.194962</td>\n",
       "      <td>-0.028171</td>\n",
       "      <td>0.063047</td>\n",
       "      <td>-0.237251</td>\n",
       "      <td>-0.017059</td>\n",
       "      <td>-0.103047</td>\n",
       "      <td>-0.049460</td>\n",
       "      <td>0.130107</td>\n",
       "      <td>0.146864</td>\n",
       "      <td>-0.126198</td>\n",
       "      <td>...</td>\n",
       "      <td>-0.073435</td>\n",
       "      <td>-0.140041</td>\n",
       "      <td>-0.154436</td>\n",
       "      <td>-0.040308</td>\n",
       "      <td>-0.078707</td>\n",
       "      <td>0.000769</td>\n",
       "      <td>-0.139126</td>\n",
       "      <td>0.047022</td>\n",
       "      <td>-0.097644</td>\n",
       "      <td>-0.062622</td>\n",
       "    </tr>\n",
       "    <tr>\n",
       "      <td>10000</td>\n",
       "      <td>-0.256108</td>\n",
       "      <td>0.100751</td>\n",
       "      <td>-0.008077</td>\n",
       "      <td>0.060267</td>\n",
       "      <td>-0.094749</td>\n",
       "      <td>-0.066591</td>\n",
       "      <td>0.166029</td>\n",
       "      <td>0.149969</td>\n",
       "      <td>-0.053022</td>\n",
       "      <td>0.092426</td>\n",
       "      <td>...</td>\n",
       "      <td>0.028714</td>\n",
       "      <td>-0.054628</td>\n",
       "      <td>0.450581</td>\n",
       "      <td>0.002932</td>\n",
       "      <td>0.129679</td>\n",
       "      <td>-0.072564</td>\n",
       "      <td>0.017161</td>\n",
       "      <td>0.123615</td>\n",
       "      <td>0.046846</td>\n",
       "      <td>0.125711</td>\n",
       "    </tr>\n",
       "  </tbody>\n",
       "</table>\n",
       "<p>5 rows × 712 columns</p>\n",
       "</div>"
      ],
      "text/plain": [
       "       ACH-001270  ACH-001000  ACH-001001  ACH-002319  ACH-001827  ACH-000956  \\\n",
       "1             NaN         NaN    0.146042   -0.190388    0.907063   -0.019331   \n",
       "10            NaN         NaN    0.102854    0.384106    0.403192    0.001925   \n",
       "100           NaN         NaN    0.168839   -0.120700    0.004394   -0.188700   \n",
       "1000    -0.194962   -0.028171    0.063047   -0.237251   -0.017059   -0.103047   \n",
       "10000   -0.256108    0.100751   -0.008077    0.060267   -0.094749   -0.066591   \n",
       "\n",
       "       ACH-000948  ACH-002320  ACH-000070  ACH-000411  ...  ACH-000899  \\\n",
       "1       -0.016734    0.091580    0.035023   -0.122046  ...   -0.088267   \n",
       "10      -0.153933   -0.317969    0.012341   -0.205077  ...   -0.003747   \n",
       "100     -0.060818   -0.755058    0.129770    0.076273  ...   -0.014085   \n",
       "1000    -0.049460    0.130107    0.146864   -0.126198  ...   -0.073435   \n",
       "10000    0.166029    0.149969   -0.053022    0.092426  ...    0.028714   \n",
       "\n",
       "       ACH-000765  ACH-000534  ACH-000762  ACH-000630  ACH-000570  ACH-001249  \\\n",
       "1        0.002171         NaN    0.120294    0.012540    0.111530         NaN   \n",
       "10      -0.321445         NaN   -0.003256   -0.220472    0.073460         NaN   \n",
       "100      0.039679         NaN    0.076521    0.106995    0.227977         NaN   \n",
       "1000    -0.140041   -0.154436   -0.040308   -0.078707    0.000769   -0.139126   \n",
       "10000   -0.054628    0.450581    0.002932    0.129679   -0.072564    0.017161   \n",
       "\n",
       "       ACH-000097  ACH-000828  ACH-002331  \n",
       "1       -0.079313   -0.141559    0.214268  \n",
       "10      -0.130921    0.127358   -0.405974  \n",
       "100     -0.134479    0.083506   -0.404291  \n",
       "1000     0.047022   -0.097644   -0.062622  \n",
       "10000    0.123615    0.046846    0.125711  \n",
       "\n",
       "[5 rows x 712 columns]"
      ]
     },
     "execution_count": 31,
     "metadata": {},
     "output_type": "execute_result"
    }
   ],
   "source": [
    "# Map cell line names to IDs\n",
    "sample_info = get_data('sample_info')\n",
    "ccle_name2id = {}\n",
    "for i, r in sample_info.iterrows():\n",
    "    ccle_name2id[r['CCLE Name']] = i \n",
    "\n",
    "cell_line_names = list(d2.columns)\n",
    "\n",
    "# Rename columns to use CCLE IDs and rows to use NCBI gene IDs\n",
    "if isinstance(list(d2.index)[0],str):\n",
    "    d2.columns = [ccle_name2id.get(i) or i for i in cell_line_names]\n",
    "    d2.index = ncbi_gene_ids(list(d2.index))\n",
    "print(d2.shape[0],\"genes\")\n",
    "print(d2.shape[1],\"cell lines\")\n",
    "d2.head()"
   ]
  },
  {
   "cell_type": "code",
   "execution_count": 32,
   "metadata": {},
   "outputs": [
    {
     "data": {
      "text/markdown": [
       "\n",
       "## Achilles Crispr gene dependency data\n",
       "CERES data with principle components strongly related to known batch effects removed, then shifted and scaled per cell line so the median nonessential KO effect is 0 and the median essential KO effect is -1.\n",
       "\n",
       "<b>DepMap source file:</b> Achilles_gene_effect.csv \n",
       "\n",
       "* Translate gene names (column labels) to NCBI IDS\n",
       "* Transpose rows and columns so each cell line is a column label with vertivally stacked gene data\n"
      ],
      "text/plain": [
       "<IPython.core.display.Markdown object>"
      ]
     },
     "metadata": {},
     "output_type": "display_data"
    }
   ],
   "source": [
    "report('''\n",
    "## Achilles Crispr gene dependency data\n",
    "CERES data with principle components strongly related to known batch effects removed, then shifted and scaled per cell line so the median nonessential KO effect is 0 and the median essential KO effect is -1.\n",
    "\n",
    "<b>DepMap source file:</b> Achilles_gene_effect.csv \n",
    "\n",
    "* Translate gene names (column labels) to NCBI IDS\n",
    "* Transpose rows and columns so each cell line is a column label with vertivally stacked gene data\n",
    "''')"
   ]
  },
  {
   "cell_type": "code",
   "execution_count": 33,
   "metadata": {},
   "outputs": [
    {
     "name": "stdout",
     "output_type": "stream",
     "text": [
      "18333 genes\n",
      "625 cell lines\n"
     ]
    },
    {
     "data": {
      "text/html": [
       "<div>\n",
       "<style scoped>\n",
       "    .dataframe tbody tr th:only-of-type {\n",
       "        vertical-align: middle;\n",
       "    }\n",
       "\n",
       "    .dataframe tbody tr th {\n",
       "        vertical-align: top;\n",
       "    }\n",
       "\n",
       "    .dataframe thead th {\n",
       "        text-align: right;\n",
       "    }\n",
       "</style>\n",
       "<table border=\"1\" class=\"dataframe\">\n",
       "  <thead>\n",
       "    <tr style=\"text-align: right;\">\n",
       "      <th></th>\n",
       "      <th>ACH-000004</th>\n",
       "      <th>ACH-000005</th>\n",
       "      <th>ACH-000007</th>\n",
       "      <th>ACH-000009</th>\n",
       "      <th>ACH-000011</th>\n",
       "      <th>ACH-000012</th>\n",
       "      <th>ACH-000013</th>\n",
       "      <th>ACH-000014</th>\n",
       "      <th>ACH-000015</th>\n",
       "      <th>ACH-000017</th>\n",
       "      <th>...</th>\n",
       "      <th>ACH-001736</th>\n",
       "      <th>ACH-001737</th>\n",
       "      <th>ACH-001740</th>\n",
       "      <th>ACH-001745</th>\n",
       "      <th>ACH-001750</th>\n",
       "      <th>ACH-001765</th>\n",
       "      <th>ACH-001814</th>\n",
       "      <th>ACH-001838</th>\n",
       "      <th>ACH-001956</th>\n",
       "      <th>ACH-001957</th>\n",
       "    </tr>\n",
       "  </thead>\n",
       "  <tbody>\n",
       "    <tr>\n",
       "      <td>1</td>\n",
       "      <td>0.168684</td>\n",
       "      <td>-0.068759</td>\n",
       "      <td>0.053893</td>\n",
       "      <td>0.059874</td>\n",
       "      <td>0.277165</td>\n",
       "      <td>0.008073</td>\n",
       "      <td>0.062131</td>\n",
       "      <td>0.143078</td>\n",
       "      <td>-0.090890</td>\n",
       "      <td>0.178427</td>\n",
       "      <td>...</td>\n",
       "      <td>0.154567</td>\n",
       "      <td>-0.050307</td>\n",
       "      <td>0.005125</td>\n",
       "      <td>0.208843</td>\n",
       "      <td>0.044674</td>\n",
       "      <td>0.136364</td>\n",
       "      <td>0.216507</td>\n",
       "      <td>-0.086149</td>\n",
       "      <td>-0.076893</td>\n",
       "      <td>0.055750</td>\n",
       "    </tr>\n",
       "    <tr>\n",
       "      <td>29974</td>\n",
       "      <td>0.089128</td>\n",
       "      <td>0.218792</td>\n",
       "      <td>0.081444</td>\n",
       "      <td>-0.011153</td>\n",
       "      <td>0.085354</td>\n",
       "      <td>0.167177</td>\n",
       "      <td>0.038687</td>\n",
       "      <td>-0.035837</td>\n",
       "      <td>0.007894</td>\n",
       "      <td>0.106952</td>\n",
       "      <td>...</td>\n",
       "      <td>0.019334</td>\n",
       "      <td>0.189813</td>\n",
       "      <td>0.349099</td>\n",
       "      <td>0.153637</td>\n",
       "      <td>0.126563</td>\n",
       "      <td>0.021261</td>\n",
       "      <td>-0.172366</td>\n",
       "      <td>0.082798</td>\n",
       "      <td>0.109464</td>\n",
       "      <td>0.004545</td>\n",
       "    </tr>\n",
       "  </tbody>\n",
       "</table>\n",
       "<p>2 rows × 625 columns</p>\n",
       "</div>"
      ],
      "text/plain": [
       "       ACH-000004  ACH-000005  ACH-000007  ACH-000009  ACH-000011  ACH-000012  \\\n",
       "1        0.168684   -0.068759    0.053893    0.059874    0.277165    0.008073   \n",
       "29974    0.089128    0.218792    0.081444   -0.011153    0.085354    0.167177   \n",
       "\n",
       "       ACH-000013  ACH-000014  ACH-000015  ACH-000017  ...  ACH-001736  \\\n",
       "1        0.062131    0.143078   -0.090890    0.178427  ...    0.154567   \n",
       "29974    0.038687   -0.035837    0.007894    0.106952  ...    0.019334   \n",
       "\n",
       "       ACH-001737  ACH-001740  ACH-001745  ACH-001750  ACH-001765  ACH-001814  \\\n",
       "1       -0.050307    0.005125    0.208843    0.044674    0.136364    0.216507   \n",
       "29974    0.189813    0.349099    0.153637    0.126563    0.021261   -0.172366   \n",
       "\n",
       "       ACH-001838  ACH-001956  ACH-001957  \n",
       "1       -0.086149   -0.076893    0.055750  \n",
       "29974    0.082798    0.109464    0.004545  \n",
       "\n",
       "[2 rows x 625 columns]"
      ]
     },
     "execution_count": 33,
     "metadata": {},
     "output_type": "execute_result"
    }
   ],
   "source": [
    "achilles = get_data('achilles_crispr').T\n",
    "genes = list(achilles.index)\n",
    "achilles.index = ncbi_gene_ids(genes)\n",
    "print(achilles.shape[0],\"genes\")\n",
    "print(achilles.shape[1],\"cell lines\")\n",
    "report('Sample Achilles data:\\n'+achilles.iloc[:2,:10].to_html(),True)\n",
    "achilles.head(2)"
   ]
  },
  {
   "cell_type": "code",
   "execution_count": 34,
   "metadata": {},
   "outputs": [
    {
     "data": {
      "text/markdown": [
       "\n",
       "### How many cell lines and genes are shared between D2 (RNAi) and Achilles (Crispr) gene dependency data sets?\n"
      ],
      "text/plain": [
       "<IPython.core.display.Markdown object>"
      ]
     },
     "metadata": {},
     "output_type": "display_data"
    }
   ],
   "source": [
    "report('''\n",
    "### How many cell lines and genes are shared between D2 (RNAi) and Achilles (Crispr) gene dependency data sets?\n",
    "''')"
   ]
  },
  {
   "cell_type": "code",
   "execution_count": 35,
   "metadata": {},
   "outputs": [
    {
     "data": {
      "text/markdown": [
       "<pre>"
      ],
      "text/plain": [
       "<IPython.core.display.Markdown object>"
      ]
     },
     "metadata": {},
     "output_type": "display_data"
    },
    {
     "data": {
      "text/markdown": [
       "423 cell lines are shared"
      ],
      "text/plain": [
       "<IPython.core.display.Markdown object>"
      ]
     },
     "metadata": {},
     "output_type": "display_data"
    },
    {
     "data": {
      "text/markdown": [
       "16052 genes are shared"
      ],
      "text/plain": [
       "<IPython.core.display.Markdown object>"
      ]
     },
     "metadata": {},
     "output_type": "display_data"
    },
    {
     "data": {
      "text/markdown": [
       "</pre>"
      ],
      "text/plain": [
       "<IPython.core.display.Markdown object>"
      ]
     },
     "metadata": {},
     "output_type": "display_data"
    }
   ],
   "source": [
    "d2_cells = set(d2.columns)\n",
    "d2_genes = set(d2.index)\n",
    "ac_cells = set(achilles.columns)\n",
    "ac_genes = set(achilles.index)\n",
    "shared_cells = d2_cells.intersection(ac_cells)\n",
    "shared_genes = d2_genes.intersection(ac_genes)\n",
    "report('<pre>')\n",
    "report(str(len(shared_cells))+\" cell lines are shared\")\n",
    "report(str(len(shared_genes))+\" genes are shared\")\n",
    "report('</pre>')"
   ]
  },
  {
   "cell_type": "markdown",
   "metadata": {},
   "source": [
    "### How do RNAi and Crispr screen compare for gene dependency score?"
   ]
  },
  {
   "cell_type": "code",
   "execution_count": 36,
   "metadata": {},
   "outputs": [],
   "source": [
    "# filter shared genes to just include our high copy number genes\n",
    "keep_genes = set()\n",
    "for g in shared_genes:\n",
    "    if g in keep_common_genes:\n",
    "        keep_genes.add(g)\n",
    "\n",
    "keep_cells = set()\n",
    "for c in shared_cells:\n",
    "    if c in keep_common_cells:\n",
    "        keep_cells.add(c)\n",
    "        \n",
    "d2_s = d2[keep_cells]\n",
    "d2_s = d2_s.T[keep_genes].T\n",
    "ac_s = achilles[keep_cells]\n",
    "ac_s = ac_s.T[keep_genes].T\n",
    "\n",
    "d2_data = d2_s.to_numpy().flatten()\n",
    "ac_data = ac_s.to_numpy().flatten()\n",
    "\n",
    "# remove NaN and Inf\n",
    "keep_d2 = []\n",
    "keep_ac = []\n",
    "for i, d1 in enumerate(d2_data):\n",
    "    d2 = ac_data[i]\n",
    "    if not np.isfinite(d1) and np.isfinite(d2):\n",
    "        continue\n",
    "    keep_d2.append(d1)\n",
    "    keep_ac.append(d2)\n",
    "d2_data = keep_d2\n",
    "ac_data = keep_ac    "
   ]
  },
  {
   "cell_type": "code",
   "execution_count": 42,
   "metadata": {},
   "outputs": [
    {
     "data": {
      "text/markdown": [
       "<img src=\"plots/gene_dependency.png\">"
      ],
      "text/plain": [
       "<IPython.core.display.Markdown object>"
      ]
     },
     "metadata": {},
     "output_type": "display_data"
    }
   ],
   "source": [
    "%matplotlib inline\n",
    "plt.scatter(d2_data,ac_data)\n",
    "slope, intercept, r_value, p_value, std_err = stats.linregress(d2_data,ac_data)\n",
    "plt.xlabel('Crispr (Achilles)')\n",
    "plt.ylabel('RNAi (DEMETER 2)')\n",
    "plt.title('Gene dependency')\n",
    "plt.text(-2.6,2.1,'slope='+'%.3f'%slope)\n",
    "plt.text(-2.6,1.8,'r-squared ='+'%.3f' %r_value)\n",
    "plt.text(-2.6,1.5,'p-value ='+'%.2e'%p_value)\n",
    "plt.savefig('plots/gene_dependency.png',dpi=100)\n",
    "plt.close()\n",
    "report('<img src=\"plots/gene_dependency.png\">')"
   ]
  },
  {
   "cell_type": "code",
   "execution_count": 49,
   "metadata": {},
   "outputs": [
    {
     "name": "stdout",
     "output_type": "stream",
     "text": [
      "52448 52448\n"
     ]
    }
   ],
   "source": [
    "keep_genes = set()\n",
    "for g in ac_genes:\n",
    "    if g in keep_common_genes:\n",
    "        keep_genes.add(g)\n",
    "\n",
    "keep_cells = set()\n",
    "for c in ac_cells:\n",
    "    if c in keep_common_cells:\n",
    "        keep_cells.add(c)\n",
    "        \n",
    "ac_s = achilles[keep_cells]\n",
    "ac_s = ac_s.T[keep_genes].T\n",
    "cn_s = cn[keep_cells]\n",
    "cn_s = cn_s.T[keep_genes].T\n",
    "\n",
    "ac_data = ac_s.to_numpy().flatten()\n",
    "cn_data = cn_s.to_numpy().flatten()\n",
    "print(len(cn_data),len(ac_data))\n",
    "\n",
    "# remove NaN and Inf\n",
    "keep_ac = []\n",
    "keep_cn = []\n",
    "for i, d1 in enumerate(ac_data):\n",
    "    d2 = cn_data[i]\n",
    "    if d2 > 0:\n",
    "        d2 = math.log(d2,2)\n",
    "    if not np.isfinite(d1) and np.isfinite(d2):\n",
    "        continue\n",
    "    keep_ac.append(d1)\n",
    "    keep_cn.append(d2)\n",
    "    \n",
    "ac_data = keep_ac\n",
    "cn_data = keep_cn  \n",
    "cn_orig = cn_data\n",
    "ac_orig = ac_data"
   ]
  },
  {
   "cell_type": "code",
   "execution_count": 86,
   "metadata": {},
   "outputs": [
    {
     "data": {
      "text/markdown": [
       "ERBB2 is in hotspot gene set? <b>TRUE</b>"
      ],
      "text/plain": [
       "<IPython.core.display.Markdown object>"
      ]
     },
     "metadata": {},
     "output_type": "display_data"
    },
    {
     "data": {
      "text/markdown": [
       "### Reporting for breast cancer lineages with ERBB2 copy number > 2"
      ],
      "text/plain": [
       "<IPython.core.display.Markdown object>"
      ]
     },
     "metadata": {},
     "output_type": "display_data"
    },
    {
     "data": {
      "text/markdown": [
       "<pre>"
      ],
      "text/plain": [
       "<IPython.core.display.Markdown object>"
      ]
     },
     "metadata": {},
     "output_type": "display_data"
    },
    {
     "data": {
      "text/markdown": [
       "ERBB2 mean copy number for breast_TNBC (27 cell lines): 1.89"
      ],
      "text/plain": [
       "<IPython.core.display.Markdown object>"
      ]
     },
     "metadata": {},
     "output_type": "display_data"
    },
    {
     "data": {
      "text/markdown": [
       "ERBB2 mean copy number for breast_TPBC (5 cell lines): 9.59"
      ],
      "text/plain": [
       "<IPython.core.display.Markdown object>"
      ]
     },
     "metadata": {},
     "output_type": "display_data"
    },
    {
     "data": {
      "text/markdown": [
       "ERBB2 mean copy number for breast_HER2Amp (11 cell lines): 14.84"
      ],
      "text/plain": [
       "<IPython.core.display.Markdown object>"
      ]
     },
     "metadata": {},
     "output_type": "display_data"
    },
    {
     "data": {
      "text/markdown": [
       "ERBB2 mean gene dependency for breast_HER2Amp (6 cell lines): -0.83"
      ],
      "text/plain": [
       "<IPython.core.display.Markdown object>"
      ]
     },
     "metadata": {},
     "output_type": "display_data"
    },
    {
     "data": {
      "text/markdown": [
       "ERBB2 mean gene dependency for breast_ERpos (7 cell lines): -0.27"
      ],
      "text/plain": [
       "<IPython.core.display.Markdown object>"
      ]
     },
     "metadata": {},
     "output_type": "display_data"
    },
    {
     "data": {
      "text/markdown": [
       "ERBB2 mean gene dependency for breast_TNBC (15 cell lines): -0.28"
      ],
      "text/plain": [
       "<IPython.core.display.Markdown object>"
      ]
     },
     "metadata": {},
     "output_type": "display_data"
    },
    {
     "data": {
      "text/markdown": [
       "</pre>"
      ],
      "text/plain": [
       "<IPython.core.display.Markdown object>"
      ]
     },
     "metadata": {},
     "output_type": "display_data"
    }
   ],
   "source": [
    "report(\"ERBB2 is in hotspot gene set? <b>\"+str(2064 in hotspot_genes).upper()+\"</b>\")\n",
    "report('### Reporting for breast cancer lineages with ERBB2 copy number > 2')\n",
    "report('<pre>')\n",
    "\n",
    "erb = cn.loc[2064]\n",
    "nums = {}\n",
    "is_high = set()\n",
    "for c in cell2sublineage:\n",
    "    lin = cell2sublineage.get(c)\n",
    "    if lin is None or erb.get(c) is None:\n",
    "        continue\n",
    "        \n",
    "    if 'breast' in lin:\n",
    "        if nums.get(lin) is None:\n",
    "            nums[lin] = []\n",
    "        nums[lin].append(erb[c])\n",
    "        if erb[c] >= 2:\n",
    "            is_high.add(lin)\n",
    "            #report(','.join([c,lin,str('%.2f'%erb[c])]))\n",
    "for lin in nums:\n",
    "    if lin in is_high:\n",
    "        report(\"ERBB2 mean copy number for \"+lin+\" (\"+str(len(nums[lin]))+\" cell lines): \"+str('%.2f'%np.mean(nums[lin])))\n",
    "        \n",
    "erb_gd = achilles.loc[2064]\n",
    "nums = {}\n",
    "for c in erb_gd.keys():\n",
    "    lin = cell2sublineage.get(c)\n",
    "    if lin is None or not 'breast' in lin:\n",
    "        continue\n",
    "        \n",
    "    if nums.get(lin) is None:\n",
    "        nums[lin] = []\n",
    "    nums[lin].append(erb_gd[c])\n",
    "\n",
    "for lin in nums:\n",
    "    #if lin in is_high:\n",
    "    report(\"ERBB2 mean gene dependency for \"+lin+\" (\"+str(len(nums[lin]))+\" cell lines): \"+str('%.2f'%np.mean(nums[lin])))\n",
    "        \n",
    "report('</pre>')\n",
    "    "
   ]
  },
  {
   "cell_type": "code",
   "execution_count": 50,
   "metadata": {},
   "outputs": [
    {
     "data": {
      "image/png": "[encoded data removed]",
      "text/plain": [
       "<Figure size 432x288 with 1 Axes>"
      ]
     },
     "metadata": {
      "needs_background": "light"
     },
     "output_type": "display_data"
    },
    {
     "name": "stdout",
     "output_type": "stream",
     "text": [
      "no shared cells\n",
      "no shared cells\n",
      "no shared cells\n"
     ]
    },
    {
     "data": {
      "image/png": "[encoded data removed]",
      "text/plain": [
       "<Figure size 432x288 with 1 Axes>"
      ]
     },
     "metadata": {
      "needs_background": "light"
     },
     "output_type": "display_data"
    },
    {
     "data": {
      "image/png": "[encoded data removed]",
      "text/plain": [
       "<Figure size 432x288 with 1 Axes>"
      ]
     },
     "metadata": {
      "needs_background": "light"
     },
     "output_type": "display_data"
    },
    {
     "data": {
      "image/png": "[encoded data removed]",
      "text/plain": [
       "<Figure size 432x288 with 1 Axes>"
      ]
     },
     "metadata": {
      "needs_background": "light"
     },
     "output_type": "display_data"
    },
    {
     "name": "stdout",
     "output_type": "stream",
     "text": [
      "no shared cells\n"
     ]
    },
    {
     "data": {
      "image/png": "[encoded data removed]",
      "text/plain": [
       "<Figure size 432x288 with 1 Axes>"
      ]
     },
     "metadata": {
      "needs_background": "light"
     },
     "output_type": "display_data"
    },
    {
     "data": {
      "image/png": "[encoded data removed]",
      "text/plain": [
       "<Figure size 432x288 with 1 Axes>"
      ]
     },
     "metadata": {
      "needs_background": "light"
     },
     "output_type": "display_data"
    },
    {
     "name": "stdout",
     "output_type": "stream",
     "text": [
      "no shared cells\n",
      "no shared cells\n",
      "no shared cells\n"
     ]
    },
    {
     "data": {
      "image/png": "[encoded data removed]",
      "text/plain": [
       "<Figure size 432x288 with 1 Axes>"
      ]
     },
     "metadata": {
      "needs_background": "light"
     },
     "output_type": "display_data"
    },
    {
     "name": "stdout",
     "output_type": "stream",
     "text": [
      "no shared cells\n"
     ]
    },
    {
     "data": {
      "image/png": "[encoded data removed]",
      "text/plain": [
       "<Figure size 432x288 with 1 Axes>"
      ]
     },
     "metadata": {
      "needs_background": "light"
     },
     "output_type": "display_data"
    },
    {
     "name": "stdout",
     "output_type": "stream",
     "text": [
      "no shared cells\n"
     ]
    },
    {
     "data": {
      "image/png": "[encoded data removed]",
      "text/plain": [
       "<Figure size 432x288 with 1 Axes>"
      ]
     },
     "metadata": {
      "needs_background": "light"
     },
     "output_type": "display_data"
    },
    {
     "name": "stdout",
     "output_type": "stream",
     "text": [
      "no shared cells\n",
      "no shared cells\n"
     ]
    },
    {
     "data": {
      "image/png": "[encoded data removed]",
      "text/plain": [
       "<Figure size 432x288 with 1 Axes>"
      ]
     },
     "metadata": {
      "needs_background": "light"
     },
     "output_type": "display_data"
    }
   ],
   "source": [
    "for sublin in keep_lineage:\n",
    "    cells = sublineage2cell[sublin]\n",
    "    \n",
    "    best = {}\n",
    "    genes = set()\n",
    "    for c in cells:\n",
    "        try:\n",
    "            cdf = cn[c]\n",
    "            cdf = cdf[cdf >= 2]\n",
    "            best[c] = set(cdf.index)\n",
    "            for g in best[c]:\n",
    "                genes.add(g)\n",
    "                \n",
    "        except Exception as e:\n",
    "            #print('Error',e)\n",
    "            continue\n",
    "    \n",
    "    if len(best) == 0:\n",
    "        continue\n",
    "    \n",
    "    keep_cells = set()\n",
    "    for c in ac_cells:\n",
    "        if c in cells:\n",
    "            keep_cells.add(c)\n",
    "    if len(keep_cells) == 0:\n",
    "        print(\"no shared cells\")\n",
    "        continue\n",
    "\n",
    "    keep_genes = set()\n",
    "    for g in ac_genes:\n",
    "        if g in genes:\n",
    "            keep_genes.add(g)\n",
    "    if len(keep_genes) == 0:\n",
    "        print(\"no shared genes\")\n",
    "        continue\n",
    "    \n",
    "    try:\n",
    "        ac_s = achilles[keep_cells]\n",
    "        ac_s = ac_s.T[keep_genes].T\n",
    "        cn_s = cn[keep_cells]\n",
    "        cn_s = cn_s.T[keep_genes].T\n",
    "    except:\n",
    "        continue\n",
    "\n",
    "    ac_data = ac_s.to_numpy().flatten()\n",
    "    cn_data = cn_s.to_numpy().flatten()\n",
    "    \n",
    "    # remove NaN and Inf\n",
    "    keep_ac = []\n",
    "    keep_cn = []\n",
    "    for i, d1 in enumerate(ac_data):\n",
    "        d2 = cn_data[i]\n",
    "        # Skip gene dependency > 0\n",
    "        if d1 >= 0:\n",
    "            continue\n",
    "        # Skip copy number < 2\n",
    "        if d2 < 2:\n",
    "            continue\n",
    "        d2 = math.log(d2,2)\n",
    "        \n",
    "        if not np.isfinite(d1) and np.isfinite(d2):\n",
    "            continue\n",
    "        keep_ac.append(d1)\n",
    "        keep_cn.append(d2)\n",
    "    \n",
    "    ac_data = keep_ac\n",
    "    cn_data = keep_cn  \n",
    "    \n",
    "    plt.scatter(cn_orig,ac_orig,c='silver',label='other')\n",
    "    plt.scatter(cn_data,ac_data,label=sublin)\n",
    "    plt.legend()\n",
    "    plt.show()"
   ]
  },
  {
   "cell_type": "code",
   "execution_count": null,
   "metadata": {},
   "outputs": [],
   "source": []
  }
 ],
 "metadata": {
  "kernelspec": {
   "display_name": "Python 3",
   "language": "python",
   "name": "python3"
  },
  "language_info": {
   "codemirror_mode": {
    "name": "ipython",
    "version": 3
   },
   "file_extension": ".py",
   "mimetype": "text/x-python",
   "name": "python",
   "nbconvert_exporter": "python",
   "pygments_lexer": "ipython3",
   "version": "3.7.4"
  }
 },
 "nbformat": 4,
 "nbformat_minor": 4
}
